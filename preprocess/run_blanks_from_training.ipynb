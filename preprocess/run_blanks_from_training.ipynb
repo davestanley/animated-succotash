{
 "cells": [
  {
   "cell_type": "code",
   "execution_count": 1,
   "metadata": {},
   "outputs": [],
   "source": [
    "# Set up and load data\n",
    "# Includes\n",
    "import sys\n",
    "import os\n",
    "\n",
    "# Setup paths containing utility\n",
    "curr_folder = os.getcwd()\n",
    "sys.path.insert(0, os.path.join(curr_folder,'../app'))\n",
    "\n",
    "# Import utils\n",
    "from utils_EDA import p_list_qas\n",
    "from utils import load_SQuAD_train\n",
    "from utils import load_SQuAD_dev\n",
    "\n",
    "# Load the training data\n",
    "arts_train = load_SQuAD_train()\n",
    "\n",
    "# Load the testing data\n",
    "arts_dev = load_SQuAD_dev()\n",
    "\n"
   ]
  },
  {
   "cell_type": "code",
   "execution_count": 2,
   "metadata": {},
   "outputs": [
    {
     "name": "stdout",
     "output_type": "stream",
     "text": [
      "Narticles in train = 442\n",
      "Narticles in dev = 35\n"
     ]
    }
   ],
   "source": [
    "# All articles\n",
    "Ntrain = len(arts_train)\n",
    "Ndev = len(arts_dev)\n",
    "print (\"Narticles in train = \" +  str(len(arts_train))) \n",
    "print (\"Narticles in dev = \" +  str(len(arts_dev))) "
   ]
  },
  {
   "cell_type": "markdown",
   "metadata": {},
   "source": [
    "# Classify blanks (train + dev) and save to files"
   ]
  },
  {
   "cell_type": "code",
   "execution_count": 3,
   "metadata": {},
   "outputs": [
    {
     "name": "stdout",
     "output_type": "stream",
     "text": [
      "Beyoncé\n",
      "Beyoncé Giselle ______ - Carter ( /biːˈjɒnseɪ/ bee - YON - say ) ( born September 4 , 1981 ) is an American ______ , songwriter , record producer and actress . Born and raised in Houston , ______ , she performed in various ______ and ______ competitions as a ______ , and rose to fame in the ______ ______ as ______ ______ of R&B girl - group Destiny 's ______ . Managed by her father , ______ ______ , the group became one of the world 's best - selling girl groups of all time . Their hiatus saw the release of Beyoncé 's debut album , ______ in ______ ( ______ ) , which established her as a solo artist worldwide , earned ______ Grammy Awards and featured the Billboard Hot 100 number - one singles \" Crazy in ______ \" and \" Baby Boy \" .\n"
     ]
    }
   ],
   "source": [
    "# # TRAINING DATASET # #\n",
    "\n",
    "# # Pick out a subset of articles\n",
    "art = arts_train[:]\n",
    "# art = arts_train[14:15]\n",
    "\n",
    "from utils_SQuAD import classify_blanks_from_answers\n",
    "\n",
    "maxWords_per_FITB = 2\n",
    "art3 = classify_blanks_from_answers(art,maxWords_per_FITB=2,return_full=False)\n",
    "\n",
    "# Do a test print\n",
    "print(art3[0]['title'])\n",
    "print(art3[0]['paragraphs'][0]['context_blanked'])"
   ]
  },
  {
   "cell_type": "code",
   "execution_count": 4,
   "metadata": {},
   "outputs": [
    {
     "name": "stdout",
     "output_type": "stream",
     "text": [
      "Directory /home/davestanley/src/animated-succotash/data/SQuAD_pp_trainingblanks doesn't exist. Creating..\n"
     ]
    }
   ],
   "source": [
    "# # Save the file\n",
    "\n",
    "from utils import get_foldername, save_data\n",
    "foldername = get_foldername('sq_pp_training')\n",
    "save_data(art3,'train.json',foldername);\n"
   ]
  },
  {
   "cell_type": "code",
   "execution_count": 5,
   "metadata": {},
   "outputs": [
    {
     "name": "stdout",
     "output_type": "stream",
     "text": [
      "Normans\n",
      "The Normans ( Norman : Nourmands ; French : Normands ; Latin : Normanni ) were the people who in the ______ and 11th centuries gave their name to Normandy , a region in ______ . They were descended from Norse ( \" Norman \" comes from \" Norseman \" ) raiders and pirates from Denmark , Iceland and Norway who , under their leader ______ , agreed to swear fealty to King Charles III of West Francia . Through generations of assimilation and mixing with the native Frankish and Roman - Gaulish populations , their descendants would gradually merge with the Carolingian - based cultures of West Francia . The distinct cultural and ethnic identity of the Normans emerged initially in the first half of the ______ ______ , and it continued to evolve over the succeeding centuries .\n"
     ]
    }
   ],
   "source": [
    "# # DEV DATASET # #\n",
    "\n",
    "# # Pick out a subset of articles\n",
    "art = arts_dev[:]\n",
    "\n",
    "from utils_SQuAD import classify_blanks_from_answers\n",
    "\n",
    "maxWords_per_FITB = 2\n",
    "arts3dev = classify_blanks_from_answers(art,maxWords_per_FITB=2,return_full=False)\n",
    "\n",
    "# Do a test print\n",
    "print(arts3dev[0]['title'])\n",
    "print(arts3dev[0]['paragraphs'][0]['context_blanked'])"
   ]
  },
  {
   "cell_type": "code",
   "execution_count": 7,
   "metadata": {},
   "outputs": [
    {
     "name": "stdout",
     "output_type": "stream",
     "text": [
      "File /home/davestanley/src/animated-succotash/data/SQuAD_pp_trainingblanks/dev.json exists...skipping.\n"
     ]
    }
   ],
   "source": [
    "# # Save the file\n",
    "from utils import get_foldername, save_data\n",
    "foldername = get_foldername('sq_pp_training')\n",
    "save_data(arts3dev,'dev.json',foldername);\n"
   ]
  },
  {
   "cell_type": "markdown",
   "metadata": {},
   "source": [
    "# Re-load the data, merge, and run quick test"
   ]
  },
  {
   "cell_type": "code",
   "execution_count": 7,
   "metadata": {},
   "outputs": [
    {
     "name": "stdout",
     "output_type": "stream",
     "text": [
      "Narticles train=442\n"
     ]
    }
   ],
   "source": [
    "# Load in the data\n",
    "from utils import load_data\n",
    "foldername = get_foldername('sq_pp_training')\n",
    "artstrain_blanks = load_data('train.json',foldername)\n",
    "artsdev_blanks = load_data('dev.json',foldername)\n",
    "\n",
    "print(\"Narticles train=\" + str(len(artstrain_blanks)))"
   ]
  },
  {
   "cell_type": "code",
   "execution_count": 8,
   "metadata": {},
   "outputs": [
    {
     "name": "stdout",
     "output_type": "stream",
     "text": [
      "Beyoncé Giselle Knowles-Carter (/biːˈjɒnseɪ/ bee-YON-say) (born September 4, 1981) is an American singer, songwriter, record producer and actress. Born and raised in ______ Texas, she performed in various ______ and ______ competitions as a child, and rose to fame in the ______ ______ as ______ ______ of R&B girl-group ______ Child. Managed by her father, ______ Knowles, the group became one of the world's best-selling girl groups of all time. Their hiatus saw the release of Beyoncé's debut album, ______ in ______ (2003), which established her as a solo artist worldwide, earned ______ Grammy Awards and featured the Billboard Hot 100 number-one singles \"Crazy in Love\" and \"Baby Boy\".\n"
     ]
    }
   ],
   "source": [
    "# Merge it with original data to get full dataset\n",
    "from utils_SQuAD import merge_arts_paragraph_fields\n",
    "\n",
    "# Training + test data\n",
    "list_of_fields = ['context_blanked','blank_classification']\n",
    "arts_train = merge_arts_paragraph_fields(arts_train,artstrain_blanks,list_of_fields)\n",
    "arts_dev = merge_arts_paragraph_fields(arts_dev,artsdev_blanks,list_of_fields)\n",
    "\n",
    "# Do a test print\n",
    "print(arts_train[0]['paragraphs'][0]['context_blanked'])"
   ]
  },
  {
   "cell_type": "markdown",
   "metadata": {},
   "source": [
    "## Display paragraph containing blanks"
   ]
  },
  {
   "cell_type": "code",
   "execution_count": 9,
   "metadata": {},
   "outputs": [
    {
     "name": "stdout",
     "output_type": "stream",
     "text": [
      "Beyoncé\n",
      "Blank at word #18 salon\n",
      "Blank at word #24 Xerox\n",
      "Blank at word #40 Solange\n",
      "Blank at word #50 Destiny's\n",
      "Blank at word #84 Joseph\n",
      "Blank at word #85 Broussard.\n",
      "Blank at word #91 Methodist\n",
      "Beyoncé Giselle Knowles was born in Houston, Texas, to Celestine Ann \"Tina\" Knowles (née Beyincé), a hairdresser and salon owner, and Mathew Knowles, a Xerox sales manager. Beyoncé's name is a tribute to her mother's maiden name. Beyoncé's younger sister Solange is also a singer and a former member of Destiny's Child. Mathew is African-American, while Tina is of Louisiana Creole descent (with African, Native American, French, Cajun, and distant Irish and Spanish ancestry). Through her mother, Beyoncé is a descendant of Acadian leader Joseph Broussard. She was raised in a Methodist household.\n",
      "Beyoncé Giselle Knowles was born in Houston, Texas, to Celestine Ann \"Tina\" Knowles (née Beyincé), a hairdresser and ______ owner, and Mathew Knowles, a ______ sales manager. Beyoncé's name is a tribute to her mother's maiden name. Beyoncé's younger sister ______ is also a singer and a former member of ______ Child. Mathew is African-American, while Tina is of Louisiana Creole descent (with African, Native American, French, Cajun, and distant Irish and Spanish ancestry). Through her mother, Beyoncé is a descendant of Acadian leader ______ ______ She was raised in a ______ household.\n"
     ]
    }
   ],
   "source": [
    "print(arts_train[0]['title'])\n",
    "p = arts_train[0]['paragraphs'][3]\n",
    "c = p['context']\n",
    "cs = c.split()\n",
    "bc = p['blank_classification']\n",
    "for i in range(len(bc)):\n",
    "    if bc[i]:\n",
    "        print('Blank at word #' + str(i) + ' ' + cs[i])\n",
    "print( p['context'])\n",
    "print( p['context_blanked'])\n",
    "   "
   ]
  },
  {
   "cell_type": "code",
   "execution_count": null,
   "metadata": {},
   "outputs": [],
   "source": []
  },
  {
   "cell_type": "code",
   "execution_count": null,
   "metadata": {},
   "outputs": [],
   "source": []
  }
 ],
 "metadata": {
  "kernelspec": {
   "display_name": "Python [conda env:allennlp]",
   "language": "python",
   "name": "conda-env-allennlp-py"
  },
  "language_info": {
   "codemirror_mode": {
    "name": "ipython",
    "version": 3
   },
   "file_extension": ".py",
   "mimetype": "text/x-python",
   "name": "python",
   "nbconvert_exporter": "python",
   "pygments_lexer": "ipython3",
   "version": "3.6.8"
  }
 },
 "nbformat": 4,
 "nbformat_minor": 2
}
