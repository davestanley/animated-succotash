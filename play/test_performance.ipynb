{
 "cells": [
  {
   "cell_type": "code",
   "execution_count": 1,
   "metadata": {},
   "outputs": [],
   "source": [
    "# Set up and load data\n",
    "# Includes\n",
    "import sys\n",
    "import os\n",
    "import numpy as np\n",
    "import json\n",
    "import os\n",
    "\n",
    "\n",
    "# Setup paths containing utility\n",
    "curr_folder = os.getcwd()\n",
    "sys.path.insert(0, os.path.join(curr_folder,'../app'))\n",
    "\n",
    "# Utils imports for loading data\n",
    "from utils import save_data, load_data, exists_datafolder\n",
    "from utils import load_SQuAD_train, load_SQuAD_dev\n",
    "from utils import get_foldername\n",
    "from utils import merge_artfiles"
   ]
  },
  {
   "cell_type": "markdown",
   "metadata": {},
   "source": [
    "# Load and merge ground truth and NEP data"
   ]
  },
  {
   "cell_type": "code",
   "execution_count": 2,
   "metadata": {},
   "outputs": [
    {
     "name": "stdout",
     "output_type": "stream",
     "text": [
      "Frédéric_Chopin\n"
     ]
    }
   ],
   "source": [
    "# Load data containing NEP (predictions)\n",
    "foldername = get_foldername('sq_pp_ner')\n",
    "arts_train = load_data('train.json',foldername)\n",
    "arts_dev = load_data('dev.json',foldername)\n",
    "\n",
    "# All articles\n",
    "Ntrain = len(arts_train)\n",
    "Ndev = len(arts_dev)\n",
    "\n",
    "arts = arts_train + arts_dev\n",
    "print(arts[1]['title'])\n",
    "# print(arts[1]['paragraphs'][0]['context'])"
   ]
  },
  {
   "cell_type": "code",
   "execution_count": 3,
   "metadata": {},
   "outputs": [
    {
     "name": "stdout",
     "output_type": "stream",
     "text": [
      "Frédéric_Chopin\n"
     ]
    }
   ],
   "source": [
    "# Load blanks data (ground truth)\n",
    "foldername = get_foldername('sq_pp_training')\n",
    "arts3 = load_data('train.json',foldername) + load_data('dev.json',foldername)\n",
    "print(arts3[1]['title'])\n",
    "# print(arts3[1]['paragraphs'][0]['context_blanked'])\n"
   ]
  },
  {
   "cell_type": "code",
   "execution_count": 4,
   "metadata": {},
   "outputs": [
    {
     "name": "stdout",
     "output_type": "stream",
     "text": [
      "Matching titles: 477 \n",
      "Total articles 477\n"
     ]
    }
   ],
   "source": [
    "# Make sure all titles match\n",
    "all_title_pairs = [(a1['title'],a3['title']) for a1,a3 in zip(arts,arts3)]\n",
    "titles_match_bool = [a1['title'] == a3['title'] for a1,a3 in zip(arts,arts3)]\n",
    "print(\"Matching titles: {} \\nTotal articles {}\".format(sum(titles_match_bool),len(titles_match_bool)))"
   ]
  },
  {
   "cell_type": "code",
   "execution_count": 5,
   "metadata": {},
   "outputs": [],
   "source": [
    "# Merge ground truth blanks with original data to get full dataset\n",
    "from utils_SQuAD import merge_arts_paragraph_fields\n",
    "list_of_fields = ['context_blanked','blank_classification']\n",
    "arts = merge_arts_paragraph_fields(arts,arts3,list_of_fields)\n",
    "\n",
    "# print(arts[1]['title'])\n",
    "# print(arts[1]['paragraphs'][0]['context'])\n",
    "# print(arts[1]['paragraphs'][0]['context_blanked'])"
   ]
  },
  {
   "cell_type": "markdown",
   "metadata": {},
   "source": [
    "# Compare paragraph word reconstructions"
   ]
  },
  {
   "cell_type": "markdown",
   "metadata": {},
   "source": [
    "This just looks at the words in the different saved fiels files to make sure all the words match up 1:1 (otherwise, this could mess up our evaluations). Not looking at blanks here at all. The next sectoin looks at the blanks"
   ]
  },
  {
   "cell_type": "code",
   "execution_count": 6,
   "metadata": {},
   "outputs": [],
   "source": [
    "# Pull out sample paragraph\n",
    "p = arts[1]['paragraphs'][0]"
   ]
  },
  {
   "cell_type": "markdown",
   "metadata": {},
   "source": [
    "## AllenNLP Words"
   ]
  },
  {
   "cell_type": "code",
   "execution_count": 7,
   "metadata": {},
   "outputs": [
    {
     "name": "stdout",
     "output_type": "stream",
     "text": [
      "164\n",
      "164\n",
      "Frédéric François Chopin ( /ˈʃoʊpæn/; French pronunciation : ​[fʁe.de.ʁik fʁɑ̃.swa ʃɔ.pɛ̃ ]; 22 February or 1 March 1810 – 17 October 1849 ), born Fryderyk Franciszek Chopin,[n 1 ] was a Polish and French ( by citizenship and birth of father ) composer and a virtuoso pianist of the Romantic era, who wrote primarily for the solo piano. He gained and has maintained renown worldwide as one of the leading musicians of his era, whose \" poetic genius was based on a professional technique that was without equal in his generation. \" Chopin was born in what was then the Duchy of Warsaw, and grew up in Warsaw, which after 1815 became part of Congress Poland. A child prodigy, he completed his musical education and composed his earlier works in Warsaw before leaving Poland at the age of 20, less than a month before the outbreak of the November 1830 Uprising.\n",
      "858\n"
     ]
    }
   ],
   "source": [
    "from utils_NLP import words2text\n",
    "words = p['allenNER']['words'].split()\n",
    "tags = p['allenNER']['tags'].split()\n",
    "print(len(words))\n",
    "print(len(tags))\n",
    "print(words2text(words))\n",
    "print(len(words2text(words)))"
   ]
  },
  {
   "cell_type": "markdown",
   "metadata": {},
   "source": [
    "## Context"
   ]
  },
  {
   "cell_type": "code",
   "execution_count": 8,
   "metadata": {},
   "outputs": [
    {
     "name": "stdout",
     "output_type": "stream",
     "text": [
      "164\n",
      "Frédéric François Chopin ( /ˈʃoʊpæn/; French pronunciation : ​[fʁe.de.ʁik fʁɑ̃.swa ʃɔ.pɛ̃ ]; 22 February or 1 March 1810 – 17 October 1849 ), born Fryderyk Franciszek Chopin,[n 1 ] was a Polish and French ( by citizenship and birth of father ) composer and a virtuoso pianist of the Romantic era, who wrote primarily for the solo piano. He gained and has maintained renown worldwide as one of the leading musicians of his era, whose \" poetic genius was based on a professional technique that was without equal in his generation. \" Chopin was born in what was then the Duchy of Warsaw, and grew up in Warsaw, which after 1815 became part of Congress Poland. A child prodigy, he completed his musical education and composed his earlier works in Warsaw before leaving Poland at the age of 20, less than a month before the outbreak of the November 1830 Uprising.\n",
      "858\n"
     ]
    }
   ],
   "source": [
    "from utils_NLP import allenNLP_split_words, join_punctuation\n",
    "\n",
    "context = p['context']\n",
    "context_split = allenNLP_split_words(context)\n",
    "\n",
    "# context_reassembled = ' '.join(context_split)\n",
    "context_reassembled = words2text(context_split)\n",
    "\n",
    "print(len(context_split))\n",
    "# print(words2text(context_split))\n",
    "# print(len(words2text(context_split)))\n",
    "print(context_reassembled)\n",
    "print(len(context_reassembled))\n"
   ]
  },
  {
   "cell_type": "markdown",
   "metadata": {},
   "source": [
    "## Context_blanked"
   ]
  },
  {
   "cell_type": "code",
   "execution_count": 9,
   "metadata": {},
   "outputs": [
    {
     "name": "stdout",
     "output_type": "stream",
     "text": [
      "164\n",
      "dict_keys(['qas', 'context', 'allenNER', 'context_blanked', 'blank_classification'])\n",
      "Frédéric François Chopin ( /ˈʃoʊpæn/ ; ______ pronunciation : ​[fʁe.de.ʁik fʁɑ̃.swa ʃɔ.pɛ̃ ] ; 22 February or 1 March ______ – 17 October ______ ) , born Fryderyk Franciszek Chopin,[n 1 ] was a ______ and ______ ( by citizenship and birth of father ) composer and a virtuoso pianist of the ______ ______ , who wrote primarily for the ______ ______ . He gained and has maintained renown worldwide as one of the leading musicians of his ______ , whose \" poetic genius was based on a professional technique that was without equal in his generation . \" Chopin was born in what was then the ______ of ______ , and grew up in ______ , which after 1815 became part of Congress Poland . A child prodigy , he completed his musical education and composed his earlier works in ______ before leaving Poland at the age of ______ , less than a month before the outbreak of the November 1830 Uprising .\n"
     ]
    }
   ],
   "source": [
    "print(len(p['blank_classification']))\n",
    "print(p.keys())\n",
    "print(p['context_blanked'])"
   ]
  },
  {
   "cell_type": "code",
   "execution_count": 10,
   "metadata": {},
   "outputs": [
    {
     "name": "stdout",
     "output_type": "stream",
     "text": [
      "French\n",
      "1810\n",
      "1849\n",
      "Polish\n",
      "French\n",
      "Romantic\n",
      "era\n",
      "solo\n",
      "piano\n",
      "era\n",
      "Duchy\n",
      "Warsaw\n",
      "Warsaw\n",
      "Warsaw\n",
      "20\n"
     ]
    }
   ],
   "source": [
    "# Answers\n",
    "for i,c in enumerate(p['blank_classification']):\n",
    "    if c == 1: print(context_split[i])"
   ]
  },
  {
   "cell_type": "markdown",
   "metadata": {},
   "source": [
    "# Single paragraph - Compare blanks"
   ]
  },
  {
   "cell_type": "markdown",
   "metadata": {},
   "source": [
    "## First, just look at the raw text"
   ]
  },
  {
   "cell_type": "markdown",
   "metadata": {},
   "source": [
    "## Now do statistics - TPR, FPR, etc"
   ]
  },
  {
   "cell_type": "code",
   "execution_count": 11,
   "metadata": {},
   "outputs": [],
   "source": [
    "# Pull out sample paragraph\n",
    "p = arts[0]['paragraphs'][0]\n",
    "\n",
    "# # Print all AllenNLP classifications\n",
    "# print([(a,b) for a,b in zip(p['allenNER']['words'].split(), p['allenNER']['tags'].split())])\n",
    "\n",
    "# AllenNLP results\n",
    "words = p['allenNER']['words'].split()\n",
    "tags = p['allenNER']['tags'].split()\n",
    "tags = [not t == 'O' for t in tags]   # Convert to binary\n"
   ]
  },
  {
   "cell_type": "code",
   "execution_count": 12,
   "metadata": {},
   "outputs": [
    {
     "name": "stdout",
     "output_type": "stream",
     "text": [
      "Length Allen tags: 149. Length ground truth blanks: 149\n"
     ]
    }
   ],
   "source": [
    "# Ground truth\n",
    "blank_classification = p['blank_classification']\n",
    "blank_classification = [b == 1 for b in blank_classification] # Convert to binary\n",
    "\n",
    "print(\"Length Allen tags: {}. Length ground truth blanks: {}\".format(len(tags),len(blank_classification)))"
   ]
  },
  {
   "cell_type": "code",
   "execution_count": 13,
   "metadata": {},
   "outputs": [
    {
     "name": "stdout",
     "output_type": "stream",
     "text": [
      "============\t\t\t==========\n",
      "Ground truth\t\t\tPrediction\n",
      "============\t\t\t==========\n",
      "Beyoncé\t\t\t\t______\n",
      "Giselle\t\t\t\t______\n",
      "______\t\t\t\t______\n",
      "-\t\t\t\t-\n",
      "Carter\t\t\t\t______\n",
      "(\t\t\t\t(\n",
      "/biːˈjɒnseɪ/\t\t\t\t/biːˈjɒnseɪ/\n",
      "bee\t\t\t\tbee\n",
      "-\t\t\t\t-\n",
      "YON\t\t\t\t______\n",
      "-\t\t\t\t-\n",
      "say\t\t\t\tsay\n",
      ")\t\t\t\t)\n",
      "(\t\t\t\t(\n",
      "born\t\t\t\tborn\n",
      "September\t\t\t\tSeptember\n",
      "4\t\t\t\t4\n",
      ",\t\t\t\t,\n",
      "1981\t\t\t\t1981\n",
      ")\t\t\t\t)\n"
     ]
    }
   ],
   "source": [
    "# Side by side compare\n",
    "context_blanked = p['context_blanked']\n",
    "context_blanked_split = context_blanked.strip().split()\n",
    "words_blanked = [words[i] if not t else '______' for i,t in enumerate(tags)]\n",
    "\n",
    "N=len(words_blanked)\n",
    "N=20\n",
    "print(\"============\" + '\\t\\t\\t' + \"==========\")\n",
    "print(\"Ground truth\" + '\\t\\t\\t' + \"Prediction\")\n",
    "print(\"============\" + '\\t\\t\\t' + \"==========\")\n",
    "for c,w in zip(context_blanked_split[:N],words_blanked[:N]):\n",
    "    print(c + '\\t\\t\\t\\t' + w)\n"
   ]
  },
  {
   "cell_type": "code",
   "execution_count": 14,
   "metadata": {},
   "outputs": [],
   "source": [
    "TP = sum([b and t for b,t in zip(blank_classification,tags)])\n",
    "FP = sum([not b and t for b,t in zip(blank_classification,tags)])\n",
    "FN = sum([b and not t for b,t in zip(blank_classification,tags)])\n",
    "TN = sum([not b and not t for b,t in zip(blank_classification,tags)])\n",
    "ACC = (TP+TN)/(TP+FP+FN+TN)\n",
    "ACC2 = sum([b == t for b,t in zip(blank_classification,tags)]) / len(tags)"
   ]
  },
  {
   "cell_type": "code",
   "execution_count": 15,
   "metadata": {},
   "outputs": [
    {
     "name": "stdout",
     "output_type": "stream",
     "text": [
      "0.7919463087248322\n",
      "0.7919463087248322\n"
     ]
    }
   ],
   "source": [
    "print(ACC)\n",
    "print(ACC2)"
   ]
  },
  {
   "cell_type": "code",
   "execution_count": 16,
   "metadata": {},
   "outputs": [],
   "source": [
    "# Sensitivity, hit rate, recall, or true positive rate\n",
    "TPR = TP/(TP+FN)\n",
    "# Specificity or true negative rate\n",
    "TNR = TN/(TN+FP) \n",
    "# Precision or positive predictive value\n",
    "PPV = TP/(TP+FP)\n",
    "# Negative predictive value\n",
    "NPV = TN/(TN+FN)\n",
    "# Fall out or false positive rate\n",
    "FPR = FP/(FP+TN)\n",
    "# False negative rate\n",
    "FNR = FN/(TP+FN)\n",
    "# False discovery rate\n",
    "FDR = FP/(TP+FP)\n"
   ]
  },
  {
   "cell_type": "code",
   "execution_count": 17,
   "metadata": {},
   "outputs": [
    {
     "name": "stdout",
     "output_type": "stream",
     "text": [
      "0.4444444444444444\n",
      "0.16030534351145037\n"
     ]
    }
   ],
   "source": [
    "print(TPR)\n",
    "print(FPR)"
   ]
  },
  {
   "cell_type": "code",
   "execution_count": 18,
   "metadata": {},
   "outputs": [
    {
     "data": {
      "text/plain": [
       "'Beyoncé Giselle Knowles-Carter (/biːˈjɒnseɪ/ bee-YON-say) (born September 4, 1981) is an American singer, songwriter, record producer and actress. Born and raised in Houston, Texas, she performed in various singing and dancing competitions as a child, and rose to fame in the late 1990s as lead singer of R&B girl-group Destiny\\'s Child. Managed by her father, Mathew Knowles, the group became one of the world\\'s best-selling girl groups of all time. Their hiatus saw the release of Beyoncé\\'s debut album, Dangerously in Love (2003), which established her as a solo artist worldwide, earned five Grammy Awards and featured the Billboard Hot 100 number-one singles \"Crazy in Love\" and \"Baby Boy\".'"
      ]
     },
     "execution_count": 18,
     "metadata": {},
     "output_type": "execute_result"
    }
   ],
   "source": [
    "p['context']"
   ]
  },
  {
   "cell_type": "code",
   "execution_count": 19,
   "metadata": {},
   "outputs": [
    {
     "name": "stdout",
     "output_type": "stream",
     "text": [
      "Nsentences=4\n",
      "Nsentences_from_words=4\n"
     ]
    }
   ],
   "source": [
    "from utils_NLP import text2sentences\n",
    "Nsentences = len(text2sentences(p['context']))\n",
    "print(\"Nsentences={}\".format(str(Nsentences)))\n",
    "\n",
    "Nsentences2 = len(text2sentences(words2text(words)))\n",
    "print(\"Nsentences_from_words={}\".format(str(Nsentences2)))\n",
    "\n"
   ]
  },
  {
   "cell_type": "code",
   "execution_count": 20,
   "metadata": {},
   "outputs": [
    {
     "name": "stdout",
     "output_type": "stream",
     "text": [
      "2.0\n",
      "5.25\n"
     ]
    }
   ],
   "source": [
    "TPpersent = TP / Nsentences2\n",
    "FPpersent = FP / Nsentences2\n",
    "\n",
    "print(TPpersent)\n",
    "print(FPpersent)"
   ]
  },
  {
   "cell_type": "markdown",
   "metadata": {},
   "source": [
    "# Single article - compare blanks"
   ]
  },
  {
   "cell_type": "code",
   "execution_count": 21,
   "metadata": {},
   "outputs": [],
   "source": [
    "# Pull out sample paragraph\n",
    "a = arts[0]\n",
    "\n",
    "# AllenNLP results\n",
    "words = [w for p in a['paragraphs'] for w in p['allenNER']['words'].split()]\n",
    "tags = [t for p in a['paragraphs'] for t in p['allenNER']['tags'].split()]\n",
    "tags = [not t == 'O' for t in tags]   # Convert to binary"
   ]
  },
  {
   "cell_type": "code",
   "execution_count": 22,
   "metadata": {},
   "outputs": [
    {
     "name": "stdout",
     "output_type": "stream",
     "text": [
      "Length Allen tags: 11058. Length ground truth blanks: 11058\n"
     ]
    }
   ],
   "source": [
    "# Ground truth\n",
    "blank_classification = [bc for p in a['paragraphs'] for bc in p['blank_classification']]\n",
    "blank_classification = [b == 1 for b in blank_classification] # Convert to binary\n",
    "\n",
    "print(\"Length Allen tags: {}. Length ground truth blanks: {}\".format(len(tags),len(blank_classification)))"
   ]
  },
  {
   "cell_type": "code",
   "execution_count": 23,
   "metadata": {},
   "outputs": [],
   "source": [
    "TP = sum([b and t for b,t in zip(blank_classification,tags)])\n",
    "FP = sum([not b and t for b,t in zip(blank_classification,tags)])\n",
    "FN = sum([b and not t for b,t in zip(blank_classification,tags)])\n",
    "TN = sum([not b and not t for b,t in zip(blank_classification,tags)])\n",
    "ACC = (TP+TN)/(TP+FP+FN+TN)\n",
    "ACC2 = sum([b == t for b,t in zip(blank_classification,tags)]) / len(tags)"
   ]
  },
  {
   "cell_type": "code",
   "execution_count": 24,
   "metadata": {},
   "outputs": [
    {
     "name": "stdout",
     "output_type": "stream",
     "text": [
      "0.7944474588533189\n",
      "0.7944474588533189\n"
     ]
    }
   ],
   "source": [
    "print(ACC)\n",
    "print(ACC2)"
   ]
  },
  {
   "cell_type": "code",
   "execution_count": 25,
   "metadata": {},
   "outputs": [],
   "source": [
    "# Sensitivity, hit rate, recall, or true positive rate\n",
    "TPR = TP/(TP+FN)\n",
    "# Specificity or true negative rate\n",
    "TNR = TN/(TN+FP) \n",
    "# Precision or positive predictive value\n",
    "PPV = TP/(TP+FP)\n",
    "# Negative predictive value\n",
    "NPV = TN/(TN+FN)\n",
    "# Fall out or false positive rate\n",
    "FPR = FP/(FP+TN)\n",
    "# False negative rate\n",
    "FNR = FN/(TP+FN)\n",
    "# False discovery rate\n",
    "FDR = FP/(TP+FP)\n"
   ]
  },
  {
   "cell_type": "code",
   "execution_count": 26,
   "metadata": {},
   "outputs": [
    {
     "name": "stdout",
     "output_type": "stream",
     "text": [
      "0.5308176100628931\n",
      "0.18513105329825588\n"
     ]
    }
   ],
   "source": [
    "print(TPR)\n",
    "print(FPR)"
   ]
  },
  {
   "cell_type": "code",
   "execution_count": 27,
   "metadata": {},
   "outputs": [
    {
     "name": "stdout",
     "output_type": "stream",
     "text": [
      "Nsentences_from_words=378\n"
     ]
    }
   ],
   "source": [
    "Nsentences2 = len(text2sentences(words2text(words)))\n",
    "print(\"Nsentences_from_words={}\".format(str(Nsentences2)))"
   ]
  },
  {
   "cell_type": "code",
   "execution_count": 28,
   "metadata": {},
   "outputs": [
    {
     "name": "stdout",
     "output_type": "stream",
     "text": [
      "1.1164021164021165\n",
      "5.026455026455026\n"
     ]
    }
   ],
   "source": [
    "TPpersent = TP / Nsentences2\n",
    "FPpersent = FP / Nsentences2\n",
    "\n",
    "print(TPpersent)\n",
    "print(FPpersent)"
   ]
  },
  {
   "cell_type": "markdown",
   "metadata": {},
   "source": [
    "# All articles - compare blanks"
   ]
  },
  {
   "cell_type": "code",
   "execution_count": 29,
   "metadata": {},
   "outputs": [
    {
     "name": "stdout",
     "output_type": "stream",
     "text": [
      "Warning article 175 contains 0 ground truth blanks and 274 tags. Likely bad\n",
      "Warning article 440 contains 0 ground truth blanks and 116 tags. Likely bad\n",
      "Warning article 441 contains 0 ground truth blanks and 78 tags. Likely bad\n"
     ]
    }
   ],
   "source": [
    "# Initialize stuff\n",
    "TPR0 = []\n",
    "FPR0 = []\n",
    "ACC0 = []\n",
    "Nsentences0 = []\n",
    "TP0 = []\n",
    "FP0 = []\n",
    "TPpersent0 = []\n",
    "FPpersent0 = []\n",
    "bads = []\n",
    "\n",
    "i=0\n",
    "for a in arts:\n",
    "    # AllenNLP results\n",
    "    words = [w for p in a['paragraphs'] for w in p['allenNER']['words'].split()]\n",
    "    tags = [t for p in a['paragraphs'] for t in p['allenNER']['tags'].split()]\n",
    "    tags = [not t == 'O' for t in tags]   # Convert to binary\n",
    "\n",
    "    # Ground truth\n",
    "    blank_classification = [bc for p in a['paragraphs'] for bc in p['blank_classification']]\n",
    "    blank_classification = [b == 1 for b in blank_classification] # Convert to binary\n",
    "\n",
    "    Nsentences2 = len(text2sentences(words2text(words)))\n",
    "    \n",
    "    sbc = sum(blank_classification)\n",
    "    st = sum(tags)\n",
    "    if sbc == 0 or st == 0:\n",
    "        print(\"Warning article {} contains {} ground truth blanks and {} tags. Likely bad\".format(str(i),str(sbc),str(st)))\n",
    "        \n",
    "        # Make up some dummy values so don't confuse for a REAL outlier in plots. Should just drop this data in the future\n",
    "        TPR = 0.5\n",
    "        FPR = 0.5\n",
    "        ACC = 0.5\n",
    "        TP = 100\n",
    "        FP = 100\n",
    "        TPpersent = 1\n",
    "        FPpersent = 1\n",
    "        bads.append(i)\n",
    "    else:\n",
    "        TP = sum([b and t for b,t in zip(blank_classification,tags)])\n",
    "        FP = sum([not b and t for b,t in zip(blank_classification,tags)])\n",
    "        FN = sum([b and not t for b,t in zip(blank_classification,tags)])\n",
    "        TN = sum([not b and not t for b,t in zip(blank_classification,tags)])\n",
    "        ACC = (TP+TN)/(TP+FP+FN+TN)\n",
    "        ACC2 = sum([b == t for b,t in zip(blank_classification,tags)]) / len(tags)\n",
    "\n",
    "        # Sensitivity, hit rate, recall, or true positive rate\n",
    "        TPR = TP/(TP+FN)\n",
    "        # Specificity or true negative rate\n",
    "        TNR = TN/(TN+FP) \n",
    "        # Precision or positive predictive value\n",
    "        PPV = TP/(TP+FP)\n",
    "        # Negative predictive value\n",
    "        NPV = TN/(TN+FN)\n",
    "        # Fall out or false positive rate\n",
    "        FPR = FP/(FP+TN)\n",
    "        # False negative rate\n",
    "        FNR = FN/(TP+FN)\n",
    "        # False discovery rate\n",
    "        FDR = FP/(TP+FP)\n",
    "        \n",
    "        # Per sententance values\n",
    "        TPpersent = TP / Nsentences2\n",
    "        FPpersent = FP / Nsentences2\n",
    "    \n",
    "    TPR0.append(TPR)\n",
    "    FPR0.append(FPR)\n",
    "    ACC0.append(ACC)\n",
    "    TP0.append(TP)\n",
    "    FP0.append(FP)\n",
    "    TPpersent0.append(TPpersent)\n",
    "    FPpersent0.append(FPpersent)\n",
    "    i=i+1\n",
    "\n"
   ]
  },
  {
   "cell_type": "code",
   "execution_count": null,
   "metadata": {},
   "outputs": [],
   "source": []
  },
  {
   "cell_type": "code",
   "execution_count": null,
   "metadata": {},
   "outputs": [],
   "source": []
  },
  {
   "cell_type": "code",
   "execution_count": 30,
   "metadata": {},
   "outputs": [],
   "source": [
    "\n",
    "# Import fig stuff\n",
    "import matplotlib.pyplot as plt\n",
    "from matplotlib.pyplot import figure"
   ]
  },
  {
   "cell_type": "markdown",
   "metadata": {},
   "source": [
    "## Plot TPR"
   ]
  },
  {
   "cell_type": "code",
   "execution_count": 31,
   "metadata": {},
   "outputs": [
    {
     "data": {
      "image/png": "[encoded data removed]",
      "text/plain": [
       "<Figure size 1080x288 with 1 Axes>"
      ]
     },
     "metadata": {},
     "output_type": "display_data"
    }
   ],
   "source": [
    "\n",
    "\n",
    "figure(num=None, figsize=(15, 4),facecolor='w', edgecolor='k')\n",
    "barlist = plt.bar(range(len(TPR0)), TPR0, align='center', alpha=0.5)\n",
    "plt.xlabel('Article #')\n",
    "plt.ylabel('TPR')\n",
    "for i in range(Ntrain,Ntrain+Ndev):\n",
    "    barlist[i].set_color('r')\n",
    "plt.show()"
   ]
  },
  {
   "cell_type": "code",
   "execution_count": 32,
   "metadata": {},
   "outputs": [
    {
     "data": {
      "image/png": "[encoded data removed]",
      "text/plain": [
       "<Figure size 1080x288 with 2 Axes>"
      ]
     },
     "metadata": {
      "needs_background": "light"
     },
     "output_type": "display_data"
    }
   ],
   "source": [
    "# figure(num=None, figsize=(15, 4), dpi=80, facecolor='w', edgecolor='k')\n",
    "f, (ax1, ax2) = plt.subplots(1, 2, sharey=False,figsize=(15, 4));\n",
    "ax1.hist(TPR0[0:Ntrain-1], bins=30);  # arguments are passed to np.histogram\n",
    "ax1.set_title(\"Train data: Narticles=\" + str(Ntrain));\n",
    "ax1.set_ylabel('N Articles');\n",
    "ax1.set_xlabel('TPR');\n",
    "\n",
    "ax2.hist(TPR0[Ntrain:], bins=30);  # arguments are passed to np.histogram\n",
    "ax2.set_title(\"Dev data: Narticles=\" + str(Ndev));\n",
    "ax2.set_xlabel('TPR');"
   ]
  },
  {
   "cell_type": "markdown",
   "metadata": {},
   "source": [
    "## Plot FPR"
   ]
  },
  {
   "cell_type": "code",
   "execution_count": 33,
   "metadata": {},
   "outputs": [
    {
     "data": {
      "image/png": "[encoded data removed]",
      "text/plain": [
       "<Figure size 1080x288 with 1 Axes>"
      ]
     },
     "metadata": {},
     "output_type": "display_data"
    }
   ],
   "source": [
    "\n",
    "\n",
    "figure(num=None, figsize=(15, 4),facecolor='w', edgecolor='k')\n",
    "barlist = plt.bar(range(len(FPR0)), FPR0, align='center', alpha=0.5)\n",
    "plt.xlabel('Article #')\n",
    "plt.ylabel('FPR')\n",
    "for i in range(Ntrain,Ntrain+Ndev):\n",
    "    barlist[i].set_color('r')\n",
    "plt.show()"
   ]
  },
  {
   "cell_type": "code",
   "execution_count": 34,
   "metadata": {},
   "outputs": [
    {
     "data": {
      "image/png": "[encoded data removed]",
      "text/plain": [
       "<Figure size 1080x288 with 2 Axes>"
      ]
     },
     "metadata": {
      "needs_background": "light"
     },
     "output_type": "display_data"
    }
   ],
   "source": [
    "# figure(num=None, figsize=(15, 4), dpi=80, facecolor='w', edgecolor='k')\n",
    "f, (ax1, ax2) = plt.subplots(1, 2, sharey=False,figsize=(15, 4));\n",
    "ax1.hist(FPR0[0:Ntrain-1], bins=30);  # arguments are passed to np.histogram\n",
    "ax1.set_title(\"Train data: Narticles=\" + str(Ntrain));\n",
    "ax1.set_ylabel('N Articles');\n",
    "ax1.set_xlabel('FPR');\n",
    "\n",
    "ax2.hist(FPR0[Ntrain:], bins=30);  # arguments are passed to np.histogram\n",
    "ax2.set_title(\"Dev data: Narticles=\" + str(Ndev));\n",
    "ax2.set_xlabel('FPR');"
   ]
  },
  {
   "cell_type": "markdown",
   "metadata": {},
   "source": [
    "## Plot True positives per sentence"
   ]
  },
  {
   "cell_type": "code",
   "execution_count": 35,
   "metadata": {},
   "outputs": [
    {
     "data": {
      "image/png": "[encoded data removed]",
      "text/plain": [
       "<Figure size 1080x288 with 1 Axes>"
      ]
     },
     "metadata": {},
     "output_type": "display_data"
    }
   ],
   "source": [
    "figure(num=None, figsize=(15, 4),facecolor='w', edgecolor='k')\n",
    "barlist = plt.bar(range(len(TPpersent0)), TPpersent0, align='center', alpha=0.5)\n",
    "plt.xlabel('Article #')\n",
    "plt.ylabel('TPpersent')\n",
    "for i in range(Ntrain,Ntrain+Ndev):\n",
    "    barlist[i].set_color('r')\n",
    "plt.show()"
   ]
  },
  {
   "cell_type": "code",
   "execution_count": 36,
   "metadata": {},
   "outputs": [
    {
     "data": {
      "image/png": "[encoded data removed]",
      "text/plain": [
       "<Figure size 1080x288 with 2 Axes>"
      ]
     },
     "metadata": {
      "needs_background": "light"
     },
     "output_type": "display_data"
    }
   ],
   "source": [
    "# figure(num=None, figsize=(15, 4), dpi=80, facecolor='w', edgecolor='k')\n",
    "f, (ax1, ax2) = plt.subplots(1, 2, sharey=False,figsize=(15, 4));\n",
    "ax1.hist(TPpersent0[0:Ntrain-1], bins=30);  # arguments are passed to np.histogram\n",
    "ax1.set_title(\"Train data: Narticles=\" + str(Ntrain));\n",
    "ax1.set_ylabel('N Articles');\n",
    "ax1.set_xlabel('TPpersent0');\n",
    "\n",
    "ax2.hist(TPpersent0[Ntrain:], bins=30);  # arguments are passed to np.histogram\n",
    "ax2.set_title(\"Dev data: Narticles=\" + str(Ndev));\n",
    "ax2.set_xlabel('TPpersent0');"
   ]
  },
  {
   "cell_type": "markdown",
   "metadata": {},
   "source": [
    "## Plot False positives per sentence"
   ]
  },
  {
   "cell_type": "code",
   "execution_count": 37,
   "metadata": {},
   "outputs": [
    {
     "data": {
      "image/png": "[encoded data removed]",
      "text/plain": [
       "<Figure size 1080x288 with 1 Axes>"
      ]
     },
     "metadata": {},
     "output_type": "display_data"
    }
   ],
   "source": [
    "figure(num=None, figsize=(15, 4),facecolor='w', edgecolor='k')\n",
    "barlist = plt.bar(range(len(FPpersent0)), FPpersent0, align='center', alpha=0.5)\n",
    "plt.xlabel('Article #')\n",
    "plt.ylabel('FPpersent0')\n",
    "for i in range(Ntrain,Ntrain+Ndev):\n",
    "    barlist[i].set_color('r')\n",
    "plt.show()"
   ]
  },
  {
   "cell_type": "code",
   "execution_count": 38,
   "metadata": {},
   "outputs": [
    {
     "data": {
      "image/png": "[encoded data removed]",
      "text/plain": [
       "<Figure size 1080x288 with 2 Axes>"
      ]
     },
     "metadata": {
      "needs_background": "light"
     },
     "output_type": "display_data"
    }
   ],
   "source": [
    "# figure(num=None, figsize=(15, 4), dpi=80, facecolor='w', edgecolor='k')\n",
    "f, (ax1, ax2) = plt.subplots(1, 2, sharey=False,figsize=(15, 4));\n",
    "ax1.hist(FPpersent0[0:Ntrain-1], bins=30);  # arguments are passed to np.histogram\n",
    "ax1.set_title(\"Train data: Narticles=\" + str(Ntrain));\n",
    "ax1.set_ylabel('N Articles');\n",
    "ax1.set_xlabel('FPpersent0');\n",
    "\n",
    "ax2.hist(FPpersent0[Ntrain:], bins=30);  # arguments are passed to np.histogram\n",
    "ax2.set_title(\"Dev data: Narticles=\" + str(Ndev));\n",
    "ax2.set_xlabel('FPpersent0');"
   ]
  },
  {
   "cell_type": "code",
   "execution_count": null,
   "metadata": {},
   "outputs": [],
   "source": []
  }
 ],
 "metadata": {
  "kernelspec": {
   "display_name": "Python [conda env:allennlp]",
   "language": "python",
   "name": "conda-env-allennlp-py"
  },
  "language_info": {
   "codemirror_mode": {
    "name": "ipython",
    "version": 3
   },
   "file_extension": ".py",
   "mimetype": "text/x-python",
   "name": "python",
   "nbconvert_exporter": "python",
   "pygments_lexer": "ipython3",
   "version": "3.6.8"
  }
 },
 "nbformat": 4,
 "nbformat_minor": 2
}
