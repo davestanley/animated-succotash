{
 "cells": [
  {
   "cell_type": "code",
   "execution_count": 1,
   "metadata": {},
   "outputs": [],
   "source": [
    "\n",
    "import sys\n",
    "import os\n",
    "\n",
    "\n",
    "# Setup paths containing code\n",
    "curr_folder = os.getcwd()\n",
    "sys.path.insert(0, os.path.join(curr_folder,'../app'))\n",
    "\n",
    "\n",
    "from utils import load_SQuAD_train\n",
    "\n"
   ]
  },
  {
   "cell_type": "code",
   "execution_count": 2,
   "metadata": {},
   "outputs": [],
   "source": [
    "\n",
    "arts = load_SQuAD_train()"
   ]
  },
  {
   "cell_type": "code",
   "execution_count": 3,
   "metadata": {},
   "outputs": [
    {
     "name": "stdout",
     "output_type": "stream",
     "text": [
      "Variable           Type        Data/Info\n",
      "----------------------------------------\n",
      "arts               list        n=442\n",
      "curr_folder        str         /home/davestanley/src/animated-succotash/play\n",
      "load_SQuAD_train   function    <function load_SQuAD_train at 0x7f73605cfae8>\n",
      "os                 module      <module 'os' from '/home/<...>nlp/lib/python3.6/os.py'>\n",
      "sys                module      <module 'sys' (built-in)>\n"
     ]
    }
   ],
   "source": [
    "whos"
   ]
  },
  {
   "cell_type": "code",
   "execution_count": 4,
   "metadata": {},
   "outputs": [
    {
     "name": "stdout",
     "output_type": "stream",
     "text": [
      "In modern molecular biology and genetics, the genome is the genetic material of an organism. It consists of DNA (or RNA in RNA viruses). The genome includes both the genes and the non-coding sequences of the DNA/RNA.\n"
     ]
    }
   ],
   "source": [
    "\n",
    "text = arts[15]['paragraphs'][0]['context']\n",
    "\n",
    "print(text)"
   ]
  },
  {
   "cell_type": "code",
   "execution_count": null,
   "metadata": {},
   "outputs": [],
   "source": [
    "# Merge all text into paragraphs and sentences"
   ]
  },
  {
   "cell_type": "code",
   "execution_count": 5,
   "metadata": {
    "scrolled": false
   },
   "outputs": [
    {
     "name": "stderr",
     "output_type": "stream",
     "text": [
      "01/24/2019 12:48:49 - INFO - allennlp.models.archival -   loading archive file /home/davestanley/src/allennlp/ner-model-2018.12.18.tar.gz\n",
      "01/24/2019 12:48:49 - INFO - allennlp.models.archival -   extracting archive file /home/davestanley/src/allennlp/ner-model-2018.12.18.tar.gz to temp dir /tmp/tmpn633thqt\n",
      "01/24/2019 12:48:54 - INFO - allennlp.common.params -   type = default\n",
      "01/24/2019 12:48:54 - INFO - allennlp.data.vocabulary -   Loading token dictionary from /tmp/tmpn633thqt/vocabulary.\n",
      "01/24/2019 12:48:54 - INFO - allennlp.common.from_params -   instantiating class <class 'allennlp.models.model.Model'> from params {'type': 'crf_tagger', 'include_start_end_transitions': False, 'encoder': {'bidirectional': True, 'dropout': 0.5, 'hidden_size': 200, 'input_size': 1202, 'num_layers': 2, 'type': 'lstm'}, 'label_encoding': 'BIOUL', 'regularizer': [['scalar_parameters', {'alpha': 0.1, 'type': 'l2'}]], 'dropout': 0.5, 'text_field_embedder': {'token_characters': {'embedding': {'embedding_dim': 16}, 'encoder': {'conv_layer_activation': 'relu', 'embedding_dim': 16, 'ngram_filter_sizes': [3], 'num_filters': 128, 'type': 'cnn'}, 'type': 'character_encoding'}, 'tokens': {'embedding_dim': 50, 'trainable': True, 'type': 'embedding'}, 'elmo': {'dropout': 0, 'type': 'elmo_token_embedder', 'do_layer_norm': False, 'options_file': '/tmp/tmpn633thqt/fta/model.text_field_embedder.elmo.options_file', 'weight_file': '/tmp/tmpn633thqt/fta/model.text_field_embedder.elmo.weight_file'}}} and extras {'vocab': Vocabulary with namespaces:  tokens, Size: 26871 || token_characters, Size: 87 || labels, Size: 17 || Non Padded Namespaces: {'*tags', '*labels'}}\n",
      "01/24/2019 12:48:54 - INFO - allennlp.common.params -   model.type = crf_tagger\n",
      "01/24/2019 12:48:54 - INFO - allennlp.common.from_params -   instantiating class <class 'allennlp.models.crf_tagger.CrfTagger'> from params {'include_start_end_transitions': False, 'encoder': {'bidirectional': True, 'dropout': 0.5, 'hidden_size': 200, 'input_size': 1202, 'num_layers': 2, 'type': 'lstm'}, 'label_encoding': 'BIOUL', 'regularizer': [['scalar_parameters', {'alpha': 0.1, 'type': 'l2'}]], 'dropout': 0.5, 'text_field_embedder': {'token_characters': {'embedding': {'embedding_dim': 16}, 'encoder': {'conv_layer_activation': 'relu', 'embedding_dim': 16, 'ngram_filter_sizes': [3], 'num_filters': 128, 'type': 'cnn'}, 'type': 'character_encoding'}, 'tokens': {'embedding_dim': 50, 'trainable': True, 'type': 'embedding'}, 'elmo': {'dropout': 0, 'type': 'elmo_token_embedder', 'do_layer_norm': False, 'options_file': '/tmp/tmpn633thqt/fta/model.text_field_embedder.elmo.options_file', 'weight_file': '/tmp/tmpn633thqt/fta/model.text_field_embedder.elmo.weight_file'}}} and extras {'vocab': Vocabulary with namespaces:  tokens, Size: 26871 || token_characters, Size: 87 || labels, Size: 17 || Non Padded Namespaces: {'*tags', '*labels'}}\n",
      "01/24/2019 12:48:54 - INFO - allennlp.common.from_params -   instantiating class <class 'allennlp.modules.text_field_embedders.text_field_embedder.TextFieldEmbedder'> from params {'token_characters': {'embedding': {'embedding_dim': 16}, 'encoder': {'conv_layer_activation': 'relu', 'embedding_dim': 16, 'ngram_filter_sizes': [3], 'num_filters': 128, 'type': 'cnn'}, 'type': 'character_encoding'}, 'tokens': {'embedding_dim': 50, 'trainable': True, 'type': 'embedding'}, 'elmo': {'dropout': 0, 'type': 'elmo_token_embedder', 'do_layer_norm': False, 'options_file': '/tmp/tmpn633thqt/fta/model.text_field_embedder.elmo.options_file', 'weight_file': '/tmp/tmpn633thqt/fta/model.text_field_embedder.elmo.weight_file'}} and extras {'vocab': Vocabulary with namespaces:  tokens, Size: 26871 || token_characters, Size: 87 || labels, Size: 17 || Non Padded Namespaces: {'*tags', '*labels'}}\n",
      "01/24/2019 12:48:54 - INFO - allennlp.common.params -   model.text_field_embedder.type = basic\n",
      "01/24/2019 12:48:54 - INFO - allennlp.common.params -   model.text_field_embedder.embedder_to_indexer_map = None\n",
      "01/24/2019 12:48:54 - INFO - allennlp.common.params -   model.text_field_embedder.allow_unmatched_keys = False\n",
      "01/24/2019 12:48:54 - INFO - allennlp.common.params -   model.text_field_embedder.token_embedders = None\n",
      "01/24/2019 12:48:54 - INFO - allennlp.common.from_params -   instantiating class <class 'allennlp.modules.token_embedders.token_embedder.TokenEmbedder'> from params {'embedding': {'embedding_dim': 16}, 'encoder': {'conv_layer_activation': 'relu', 'embedding_dim': 16, 'ngram_filter_sizes': [3], 'num_filters': 128, 'type': 'cnn'}, 'type': 'character_encoding'} and extras {'vocab': Vocabulary with namespaces:  tokens, Size: 26871 || token_characters, Size: 87 || labels, Size: 17 || Non Padded Namespaces: {'*tags', '*labels'}}\n",
      "01/24/2019 12:48:54 - INFO - allennlp.common.params -   model.text_field_embedder.token_characters.type = character_encoding\n",
      "01/24/2019 12:48:54 - INFO - allennlp.common.params -   model.text_field_embedder.token_characters.embedding.num_embeddings = None\n",
      "01/24/2019 12:48:54 - INFO - allennlp.common.params -   model.text_field_embedder.token_characters.embedding.vocab_namespace = token_characters\n",
      "01/24/2019 12:48:54 - INFO - allennlp.common.params -   model.text_field_embedder.token_characters.embedding.embedding_dim = 16\n",
      "01/24/2019 12:48:54 - INFO - allennlp.common.params -   model.text_field_embedder.token_characters.embedding.pretrained_file = None\n",
      "01/24/2019 12:48:54 - INFO - allennlp.common.params -   model.text_field_embedder.token_characters.embedding.projection_dim = None\n",
      "01/24/2019 12:48:54 - INFO - allennlp.common.params -   model.text_field_embedder.token_characters.embedding.trainable = True\n",
      "01/24/2019 12:48:54 - INFO - allennlp.common.params -   model.text_field_embedder.token_characters.embedding.padding_index = None\n",
      "01/24/2019 12:48:54 - INFO - allennlp.common.params -   model.text_field_embedder.token_characters.embedding.max_norm = None\n",
      "01/24/2019 12:48:54 - INFO - allennlp.common.params -   model.text_field_embedder.token_characters.embedding.norm_type = 2.0\n",
      "01/24/2019 12:48:54 - INFO - allennlp.common.params -   model.text_field_embedder.token_characters.embedding.scale_grad_by_freq = False\n",
      "01/24/2019 12:48:54 - INFO - allennlp.common.params -   model.text_field_embedder.token_characters.embedding.sparse = False\n",
      "01/24/2019 12:48:54 - INFO - allennlp.common.from_params -   instantiating class <class 'allennlp.modules.seq2vec_encoders.seq2vec_encoder.Seq2VecEncoder'> from params {'conv_layer_activation': 'relu', 'embedding_dim': 16, 'ngram_filter_sizes': [3], 'num_filters': 128, 'type': 'cnn'} and extras {}\n",
      "01/24/2019 12:48:54 - INFO - allennlp.common.params -   model.text_field_embedder.token_characters.encoder.type = cnn\n",
      "01/24/2019 12:48:54 - INFO - allennlp.common.from_params -   instantiating class <class 'allennlp.modules.seq2vec_encoders.cnn_encoder.CnnEncoder'> from params {'conv_layer_activation': 'relu', 'embedding_dim': 16, 'ngram_filter_sizes': [3], 'num_filters': 128} and extras {}\n",
      "01/24/2019 12:48:54 - INFO - allennlp.common.params -   model.text_field_embedder.token_characters.encoder.embedding_dim = 16\n",
      "01/24/2019 12:48:54 - INFO - allennlp.common.params -   model.text_field_embedder.token_characters.encoder.num_filters = 128\n",
      "01/24/2019 12:48:54 - INFO - allennlp.common.params -   model.text_field_embedder.token_characters.encoder.ngram_filter_sizes = [3]\n",
      "01/24/2019 12:48:54 - INFO - allennlp.common.params -   model.text_field_embedder.token_characters.encoder.conv_layer_activation = relu\n",
      "01/24/2019 12:48:54 - INFO - allennlp.common.params -   model.text_field_embedder.token_characters.encoder.output_dim = None\n",
      "01/24/2019 12:48:54 - INFO - allennlp.common.params -   model.text_field_embedder.token_characters.dropout = 0.0\n",
      "01/24/2019 12:48:54 - INFO - allennlp.common.from_params -   instantiating class <class 'allennlp.modules.token_embedders.token_embedder.TokenEmbedder'> from params {'embedding_dim': 50, 'trainable': True, 'type': 'embedding'} and extras {'vocab': Vocabulary with namespaces:  tokens, Size: 26871 || token_characters, Size: 87 || labels, Size: 17 || Non Padded Namespaces: {'*tags', '*labels'}}\n",
      "01/24/2019 12:48:54 - INFO - allennlp.common.params -   model.text_field_embedder.tokens.type = embedding\n"
     ]
    },
    {
     "name": "stderr",
     "output_type": "stream",
     "text": [
      "01/24/2019 12:48:54 - INFO - allennlp.common.params -   model.text_field_embedder.tokens.num_embeddings = None\n",
      "01/24/2019 12:48:54 - INFO - allennlp.common.params -   model.text_field_embedder.tokens.vocab_namespace = tokens\n",
      "01/24/2019 12:48:54 - INFO - allennlp.common.params -   model.text_field_embedder.tokens.embedding_dim = 50\n",
      "01/24/2019 12:48:54 - INFO - allennlp.common.params -   model.text_field_embedder.tokens.pretrained_file = None\n",
      "01/24/2019 12:48:54 - INFO - allennlp.common.params -   model.text_field_embedder.tokens.projection_dim = None\n",
      "01/24/2019 12:48:54 - INFO - allennlp.common.params -   model.text_field_embedder.tokens.trainable = True\n",
      "01/24/2019 12:48:54 - INFO - allennlp.common.params -   model.text_field_embedder.tokens.padding_index = None\n",
      "01/24/2019 12:48:54 - INFO - allennlp.common.params -   model.text_field_embedder.tokens.max_norm = None\n",
      "01/24/2019 12:48:54 - INFO - allennlp.common.params -   model.text_field_embedder.tokens.norm_type = 2.0\n",
      "01/24/2019 12:48:54 - INFO - allennlp.common.params -   model.text_field_embedder.tokens.scale_grad_by_freq = False\n",
      "01/24/2019 12:48:54 - INFO - allennlp.common.params -   model.text_field_embedder.tokens.sparse = False\n",
      "01/24/2019 12:48:54 - INFO - allennlp.common.from_params -   instantiating class <class 'allennlp.modules.token_embedders.token_embedder.TokenEmbedder'> from params {'dropout': 0, 'type': 'elmo_token_embedder', 'do_layer_norm': False, 'options_file': '/tmp/tmpn633thqt/fta/model.text_field_embedder.elmo.options_file', 'weight_file': '/tmp/tmpn633thqt/fta/model.text_field_embedder.elmo.weight_file'} and extras {'vocab': Vocabulary with namespaces:  tokens, Size: 26871 || token_characters, Size: 87 || labels, Size: 17 || Non Padded Namespaces: {'*tags', '*labels'}}\n",
      "01/24/2019 12:48:54 - INFO - allennlp.common.params -   model.text_field_embedder.elmo.type = elmo_token_embedder\n",
      "01/24/2019 12:48:54 - INFO - allennlp.common.params -   model.text_field_embedder.elmo.options_file = /tmp/tmpn633thqt/fta/model.text_field_embedder.elmo.options_file\n",
      "01/24/2019 12:48:54 - INFO - allennlp.common.params -   model.text_field_embedder.elmo.weight_file = /tmp/tmpn633thqt/fta/model.text_field_embedder.elmo.weight_file\n",
      "01/24/2019 12:48:54 - INFO - allennlp.common.params -   model.text_field_embedder.elmo.requires_grad = False\n",
      "01/24/2019 12:48:54 - INFO - allennlp.common.params -   model.text_field_embedder.elmo.do_layer_norm = False\n",
      "01/24/2019 12:48:54 - INFO - allennlp.common.params -   model.text_field_embedder.elmo.dropout = 0\n",
      "01/24/2019 12:48:54 - INFO - allennlp.common.params -   model.text_field_embedder.elmo.namespace_to_cache = None\n",
      "01/24/2019 12:48:54 - INFO - allennlp.common.params -   model.text_field_embedder.elmo.projection_dim = None\n",
      "01/24/2019 12:48:54 - INFO - allennlp.common.params -   model.text_field_embedder.elmo.scalar_mix_parameters = None\n",
      "01/24/2019 12:48:54 - INFO - allennlp.modules.elmo -   Initializing ELMo\n",
      "01/24/2019 12:49:01 - INFO - allennlp.common.from_params -   instantiating class <class 'allennlp.modules.seq2seq_encoders.seq2seq_encoder.Seq2SeqEncoder'> from params {'bidirectional': True, 'dropout': 0.5, 'hidden_size': 200, 'input_size': 1202, 'num_layers': 2, 'type': 'lstm'} and extras {'vocab': Vocabulary with namespaces:  tokens, Size: 26871 || token_characters, Size: 87 || labels, Size: 17 || Non Padded Namespaces: {'*tags', '*labels'}}\n",
      "01/24/2019 12:49:01 - INFO - allennlp.common.params -   model.encoder.type = lstm\n",
      "01/24/2019 12:49:01 - INFO - allennlp.common.params -   model.encoder.batch_first = True\n",
      "01/24/2019 12:49:01 - INFO - allennlp.common.params -   model.encoder.stateful = False\n",
      "01/24/2019 12:49:01 - INFO - allennlp.common.params -   Converting Params object to dict; logging of default values will not occur when dictionary parameters are used subsequently.\n",
      "01/24/2019 12:49:01 - INFO - allennlp.common.params -   CURRENTLY DEFINED PARAMETERS: \n",
      "01/24/2019 12:49:01 - INFO - allennlp.common.params -   model.encoder.bidirectional = True\n",
      "01/24/2019 12:49:01 - INFO - allennlp.common.params -   model.encoder.dropout = 0.5\n",
      "01/24/2019 12:49:01 - INFO - allennlp.common.params -   model.encoder.hidden_size = 200\n",
      "01/24/2019 12:49:01 - INFO - allennlp.common.params -   model.encoder.input_size = 1202\n",
      "01/24/2019 12:49:01 - INFO - allennlp.common.params -   model.encoder.num_layers = 2\n",
      "01/24/2019 12:49:01 - INFO - allennlp.common.params -   model.encoder.batch_first = True\n",
      "01/24/2019 12:49:01 - INFO - allennlp.common.params -   model.label_namespace = labels\n",
      "01/24/2019 12:49:01 - INFO - allennlp.common.params -   model.label_encoding = BIOUL\n",
      "01/24/2019 12:49:01 - INFO - allennlp.common.params -   model.include_start_end_transitions = False\n",
      "01/24/2019 12:49:01 - INFO - allennlp.common.params -   model.constrain_crf_decoding = None\n",
      "01/24/2019 12:49:01 - INFO - allennlp.common.params -   model.calculate_span_f1 = None\n",
      "01/24/2019 12:49:01 - INFO - allennlp.common.params -   model.dropout = 0.5\n",
      "01/24/2019 12:49:01 - INFO - allennlp.common.params -   model.verbose_metrics = False\n",
      "01/24/2019 12:49:01 - INFO - allennlp.common.params -   model.regularizer = [['scalar_parameters', {'alpha': 0.1, 'type': 'l2'}]]\n",
      "01/24/2019 12:49:01 - INFO - allennlp.common.params -   model.regularizer.list.list.type = l2\n",
      "01/24/2019 12:49:01 - INFO - allennlp.nn.initializers -   Initializing parameters\n",
      "01/24/2019 12:49:01 - INFO - allennlp.nn.initializers -   Done initializing parameters; the following parameters are using their default initialization from their code\n",
      "01/24/2019 12:49:01 - INFO - allennlp.nn.initializers -      crf._constraint_mask\n",
      "01/24/2019 12:49:01 - INFO - allennlp.nn.initializers -      crf.transitions\n",
      "01/24/2019 12:49:01 - INFO - allennlp.nn.initializers -      encoder._module.bias_hh_l0\n",
      "01/24/2019 12:49:01 - INFO - allennlp.nn.initializers -      encoder._module.bias_hh_l0_reverse\n",
      "01/24/2019 12:49:01 - INFO - allennlp.nn.initializers -      encoder._module.bias_hh_l1\n",
      "01/24/2019 12:49:01 - INFO - allennlp.nn.initializers -      encoder._module.bias_hh_l1_reverse\n",
      "01/24/2019 12:49:01 - INFO - allennlp.nn.initializers -      encoder._module.bias_ih_l0\n",
      "01/24/2019 12:49:01 - INFO - allennlp.nn.initializers -      encoder._module.bias_ih_l0_reverse\n",
      "01/24/2019 12:49:01 - INFO - allennlp.nn.initializers -      encoder._module.bias_ih_l1\n",
      "01/24/2019 12:49:01 - INFO - allennlp.nn.initializers -      encoder._module.bias_ih_l1_reverse\n",
      "01/24/2019 12:49:01 - INFO - allennlp.nn.initializers -      encoder._module.weight_hh_l0\n",
      "01/24/2019 12:49:01 - INFO - allennlp.nn.initializers -      encoder._module.weight_hh_l0_reverse\n",
      "01/24/2019 12:49:01 - INFO - allennlp.nn.initializers -      encoder._module.weight_hh_l1\n",
      "01/24/2019 12:49:01 - INFO - allennlp.nn.initializers -      encoder._module.weight_hh_l1_reverse\n",
      "01/24/2019 12:49:01 - INFO - allennlp.nn.initializers -      encoder._module.weight_ih_l0\n",
      "01/24/2019 12:49:01 - INFO - allennlp.nn.initializers -      encoder._module.weight_ih_l0_reverse\n",
      "01/24/2019 12:49:01 - INFO - allennlp.nn.initializers -      encoder._module.weight_ih_l1\n",
      "01/24/2019 12:49:01 - INFO - allennlp.nn.initializers -      encoder._module.weight_ih_l1_reverse\n",
      "01/24/2019 12:49:01 - INFO - allennlp.nn.initializers -      tag_projection_layer._module.bias\n",
      "01/24/2019 12:49:01 - INFO - allennlp.nn.initializers -      tag_projection_layer._module.weight\n",
      "01/24/2019 12:49:01 - INFO - allennlp.nn.initializers -      text_field_embedder.token_embedder_elmo._elmo._elmo_lstm._elmo_lstm.backward_layer_0.input_linearity.weight\n",
      "01/24/2019 12:49:01 - INFO - allennlp.nn.initializers -      text_field_embedder.token_embedder_elmo._elmo._elmo_lstm._elmo_lstm.backward_layer_0.state_linearity.bias\n",
      "01/24/2019 12:49:01 - INFO - allennlp.nn.initializers -      text_field_embedder.token_embedder_elmo._elmo._elmo_lstm._elmo_lstm.backward_layer_0.state_linearity.weight\n",
      "01/24/2019 12:49:01 - INFO - allennlp.nn.initializers -      text_field_embedder.token_embedder_elmo._elmo._elmo_lstm._elmo_lstm.backward_layer_0.state_projection.weight\n",
      "01/24/2019 12:49:01 - INFO - allennlp.nn.initializers -      text_field_embedder.token_embedder_elmo._elmo._elmo_lstm._elmo_lstm.backward_layer_1.input_linearity.weight\n"
     ]
    },
    {
     "name": "stderr",
     "output_type": "stream",
     "text": [
      "01/24/2019 12:49:01 - INFO - allennlp.nn.initializers -      text_field_embedder.token_embedder_elmo._elmo._elmo_lstm._elmo_lstm.backward_layer_1.state_linearity.bias\n",
      "01/24/2019 12:49:01 - INFO - allennlp.nn.initializers -      text_field_embedder.token_embedder_elmo._elmo._elmo_lstm._elmo_lstm.backward_layer_1.state_linearity.weight\n",
      "01/24/2019 12:49:01 - INFO - allennlp.nn.initializers -      text_field_embedder.token_embedder_elmo._elmo._elmo_lstm._elmo_lstm.backward_layer_1.state_projection.weight\n",
      "01/24/2019 12:49:01 - INFO - allennlp.nn.initializers -      text_field_embedder.token_embedder_elmo._elmo._elmo_lstm._elmo_lstm.forward_layer_0.input_linearity.weight\n",
      "01/24/2019 12:49:01 - INFO - allennlp.nn.initializers -      text_field_embedder.token_embedder_elmo._elmo._elmo_lstm._elmo_lstm.forward_layer_0.state_linearity.bias\n",
      "01/24/2019 12:49:01 - INFO - allennlp.nn.initializers -      text_field_embedder.token_embedder_elmo._elmo._elmo_lstm._elmo_lstm.forward_layer_0.state_linearity.weight\n",
      "01/24/2019 12:49:01 - INFO - allennlp.nn.initializers -      text_field_embedder.token_embedder_elmo._elmo._elmo_lstm._elmo_lstm.forward_layer_0.state_projection.weight\n",
      "01/24/2019 12:49:01 - INFO - allennlp.nn.initializers -      text_field_embedder.token_embedder_elmo._elmo._elmo_lstm._elmo_lstm.forward_layer_1.input_linearity.weight\n",
      "01/24/2019 12:49:01 - INFO - allennlp.nn.initializers -      text_field_embedder.token_embedder_elmo._elmo._elmo_lstm._elmo_lstm.forward_layer_1.state_linearity.bias\n",
      "01/24/2019 12:49:01 - INFO - allennlp.nn.initializers -      text_field_embedder.token_embedder_elmo._elmo._elmo_lstm._elmo_lstm.forward_layer_1.state_linearity.weight\n",
      "01/24/2019 12:49:01 - INFO - allennlp.nn.initializers -      text_field_embedder.token_embedder_elmo._elmo._elmo_lstm._elmo_lstm.forward_layer_1.state_projection.weight\n",
      "01/24/2019 12:49:01 - INFO - allennlp.nn.initializers -      text_field_embedder.token_embedder_elmo._elmo._elmo_lstm._token_embedder._char_embedding_weights\n",
      "01/24/2019 12:49:01 - INFO - allennlp.nn.initializers -      text_field_embedder.token_embedder_elmo._elmo._elmo_lstm._token_embedder._highways._layers.0.bias\n",
      "01/24/2019 12:49:01 - INFO - allennlp.nn.initializers -      text_field_embedder.token_embedder_elmo._elmo._elmo_lstm._token_embedder._highways._layers.0.weight\n",
      "01/24/2019 12:49:01 - INFO - allennlp.nn.initializers -      text_field_embedder.token_embedder_elmo._elmo._elmo_lstm._token_embedder._highways._layers.1.bias\n",
      "01/24/2019 12:49:01 - INFO - allennlp.nn.initializers -      text_field_embedder.token_embedder_elmo._elmo._elmo_lstm._token_embedder._highways._layers.1.weight\n",
      "01/24/2019 12:49:01 - INFO - allennlp.nn.initializers -      text_field_embedder.token_embedder_elmo._elmo._elmo_lstm._token_embedder._projection.bias\n",
      "01/24/2019 12:49:01 - INFO - allennlp.nn.initializers -      text_field_embedder.token_embedder_elmo._elmo._elmo_lstm._token_embedder._projection.weight\n",
      "01/24/2019 12:49:01 - INFO - allennlp.nn.initializers -      text_field_embedder.token_embedder_elmo._elmo._elmo_lstm._token_embedder.char_conv_0.bias\n",
      "01/24/2019 12:49:01 - INFO - allennlp.nn.initializers -      text_field_embedder.token_embedder_elmo._elmo._elmo_lstm._token_embedder.char_conv_0.weight\n",
      "01/24/2019 12:49:01 - INFO - allennlp.nn.initializers -      text_field_embedder.token_embedder_elmo._elmo._elmo_lstm._token_embedder.char_conv_1.bias\n",
      "01/24/2019 12:49:01 - INFO - allennlp.nn.initializers -      text_field_embedder.token_embedder_elmo._elmo._elmo_lstm._token_embedder.char_conv_1.weight\n",
      "01/24/2019 12:49:01 - INFO - allennlp.nn.initializers -      text_field_embedder.token_embedder_elmo._elmo._elmo_lstm._token_embedder.char_conv_2.bias\n",
      "01/24/2019 12:49:01 - INFO - allennlp.nn.initializers -      text_field_embedder.token_embedder_elmo._elmo._elmo_lstm._token_embedder.char_conv_2.weight\n",
      "01/24/2019 12:49:01 - INFO - allennlp.nn.initializers -      text_field_embedder.token_embedder_elmo._elmo._elmo_lstm._token_embedder.char_conv_3.bias\n",
      "01/24/2019 12:49:01 - INFO - allennlp.nn.initializers -      text_field_embedder.token_embedder_elmo._elmo._elmo_lstm._token_embedder.char_conv_3.weight\n",
      "01/24/2019 12:49:01 - INFO - allennlp.nn.initializers -      text_field_embedder.token_embedder_elmo._elmo._elmo_lstm._token_embedder.char_conv_4.bias\n",
      "01/24/2019 12:49:01 - INFO - allennlp.nn.initializers -      text_field_embedder.token_embedder_elmo._elmo._elmo_lstm._token_embedder.char_conv_4.weight\n",
      "01/24/2019 12:49:01 - INFO - allennlp.nn.initializers -      text_field_embedder.token_embedder_elmo._elmo._elmo_lstm._token_embedder.char_conv_5.bias\n",
      "01/24/2019 12:49:01 - INFO - allennlp.nn.initializers -      text_field_embedder.token_embedder_elmo._elmo._elmo_lstm._token_embedder.char_conv_5.weight\n",
      "01/24/2019 12:49:01 - INFO - allennlp.nn.initializers -      text_field_embedder.token_embedder_elmo._elmo._elmo_lstm._token_embedder.char_conv_6.bias\n",
      "01/24/2019 12:49:01 - INFO - allennlp.nn.initializers -      text_field_embedder.token_embedder_elmo._elmo._elmo_lstm._token_embedder.char_conv_6.weight\n",
      "01/24/2019 12:49:01 - INFO - allennlp.nn.initializers -      text_field_embedder.token_embedder_elmo._elmo.scalar_mix_0.gamma\n",
      "01/24/2019 12:49:01 - INFO - allennlp.nn.initializers -      text_field_embedder.token_embedder_elmo._elmo.scalar_mix_0.scalar_parameters.0\n",
      "01/24/2019 12:49:01 - INFO - allennlp.nn.initializers -      text_field_embedder.token_embedder_elmo._elmo.scalar_mix_0.scalar_parameters.1\n",
      "01/24/2019 12:49:01 - INFO - allennlp.nn.initializers -      text_field_embedder.token_embedder_elmo._elmo.scalar_mix_0.scalar_parameters.2\n",
      "01/24/2019 12:49:01 - INFO - allennlp.nn.initializers -      text_field_embedder.token_embedder_token_characters._embedding._module.weight\n",
      "01/24/2019 12:49:01 - INFO - allennlp.nn.initializers -      text_field_embedder.token_embedder_token_characters._encoder._module.conv_layer_0.bias\n",
      "01/24/2019 12:49:01 - INFO - allennlp.nn.initializers -      text_field_embedder.token_embedder_token_characters._encoder._module.conv_layer_0.weight\n",
      "01/24/2019 12:49:01 - INFO - allennlp.nn.initializers -      text_field_embedder.token_embedder_tokens.weight\n",
      "01/24/2019 12:49:01 - INFO - allennlp.common.from_params -   instantiating class <class 'allennlp.data.dataset_readers.dataset_reader.DatasetReader'> from params {'coding_scheme': 'BIOUL', 'tag_label': 'ner', 'token_indexers': {'elmo': {'type': 'elmo_characters'}, 'token_characters': {'type': 'characters'}, 'tokens': {'lowercase_tokens': True, 'type': 'single_id'}}, 'type': 'conll2003'} and extras {}\n",
      "01/24/2019 12:49:01 - INFO - allennlp.common.params -   dataset_reader.type = conll2003\n",
      "01/24/2019 12:49:01 - INFO - allennlp.common.from_params -   instantiating class <class 'allennlp.data.dataset_readers.conll2003.Conll2003DatasetReader'> from params {'coding_scheme': 'BIOUL', 'tag_label': 'ner', 'token_indexers': {'elmo': {'type': 'elmo_characters'}, 'token_characters': {'type': 'characters'}, 'tokens': {'lowercase_tokens': True, 'type': 'single_id'}}} and extras {}\n",
      "01/24/2019 12:49:01 - INFO - allennlp.common.from_params -   instantiating class allennlp.data.token_indexers.token_indexer.TokenIndexer from params {'type': 'elmo_characters'} and extras {}\n",
      "01/24/2019 12:49:01 - INFO - allennlp.common.params -   dataset_reader.token_indexers.elmo.type = elmo_characters\n",
      "01/24/2019 12:49:01 - INFO - allennlp.common.from_params -   instantiating class allennlp.data.token_indexers.elmo_indexer.ELMoTokenCharactersIndexer from params {} and extras {}\n",
      "01/24/2019 12:49:01 - INFO - allennlp.common.params -   dataset_reader.token_indexers.elmo.namespace = elmo_characters\n",
      "01/24/2019 12:49:01 - INFO - allennlp.common.from_params -   instantiating class allennlp.data.token_indexers.token_indexer.TokenIndexer from params {'type': 'characters'} and extras {}\n",
      "01/24/2019 12:49:01 - INFO - allennlp.common.params -   dataset_reader.token_indexers.token_characters.type = characters\n",
      "01/24/2019 12:49:01 - INFO - allennlp.common.from_params -   instantiating class allennlp.data.token_indexers.token_characters_indexer.TokenCharactersIndexer from params {} and extras {}\n",
      "01/24/2019 12:49:01 - INFO - allennlp.common.params -   dataset_reader.token_indexers.token_characters.namespace = token_characters\n"
     ]
    },
    {
     "name": "stderr",
     "output_type": "stream",
     "text": [
      "01/24/2019 12:49:01 - INFO - allennlp.common.params -   dataset_reader.token_indexers.token_characters.start_tokens = None\n",
      "01/24/2019 12:49:01 - INFO - allennlp.common.params -   dataset_reader.token_indexers.token_characters.end_tokens = None\n",
      "01/24/2019 12:49:01 - INFO - allennlp.common.params -   dataset_reader.token_indexers.token_characters.min_padding_length = 0\n",
      "01/24/2019 12:49:01 - INFO - allennlp.common.from_params -   instantiating class allennlp.data.token_indexers.token_indexer.TokenIndexer from params {'lowercase_tokens': True, 'type': 'single_id'} and extras {}\n",
      "01/24/2019 12:49:01 - INFO - allennlp.common.params -   dataset_reader.token_indexers.tokens.type = single_id\n",
      "01/24/2019 12:49:01 - INFO - allennlp.common.from_params -   instantiating class allennlp.data.token_indexers.single_id_token_indexer.SingleIdTokenIndexer from params {'lowercase_tokens': True} and extras {}\n",
      "01/24/2019 12:49:01 - INFO - allennlp.common.params -   dataset_reader.token_indexers.tokens.namespace = tokens\n",
      "01/24/2019 12:49:01 - INFO - allennlp.common.params -   dataset_reader.token_indexers.tokens.lowercase_tokens = True\n",
      "01/24/2019 12:49:01 - INFO - allennlp.common.params -   dataset_reader.token_indexers.tokens.start_tokens = None\n",
      "01/24/2019 12:49:01 - INFO - allennlp.common.params -   dataset_reader.token_indexers.tokens.end_tokens = None\n",
      "01/24/2019 12:49:01 - INFO - allennlp.common.params -   dataset_reader.tag_label = ner\n",
      "01/24/2019 12:49:01 - INFO - allennlp.common.params -   dataset_reader.feature_labels = ()\n",
      "01/24/2019 12:49:01 - INFO - allennlp.common.params -   dataset_reader.lazy = False\n",
      "01/24/2019 12:49:01 - INFO - allennlp.common.params -   dataset_reader.coding_scheme = BIOUL\n",
      "01/24/2019 12:49:01 - INFO - allennlp.common.params -   dataset_reader.label_namespace = labels\n"
     ]
    },
    {
     "name": "stdout",
     "output_type": "stream",
     "text": [
      "Did\tO\n",
      "Uriah\tU-PER\n",
      "honestly\tO\n",
      "think\tO\n",
      "he\tO\n",
      "could\tO\n",
      "beat\tO\n",
      "The\tB-MISC\n",
      "Legend\tI-MISC\n",
      "of\tI-MISC\n",
      "Zelda\tL-MISC\n",
      "in\tO\n",
      "under\tO\n",
      "three\tO\n",
      "hours\tO\n",
      "?\tO\n"
     ]
    }
   ],
   "source": [
    "\n",
    "# Set up and test AllenNLP\n",
    "from allennlp.predictors import Predictor\n",
    "predictor = Predictor.from_path(\"/home/davestanley/src/allennlp/ner-model-2018.12.18.tar.gz\")\n",
    "results = predictor.predict(sentence=\"Did Uriah honestly think he could beat The Legend of Zelda in under three hours?\")\n",
    "for word, tag in zip(results[\"words\"], results[\"tags\"]):\n",
    "    print(f\"{word}\\t{tag}\")\n",
    "\n",
    "\n"
   ]
  },
  {
   "cell_type": "code",
   "execution_count": 7,
   "metadata": {},
   "outputs": [
    {
     "name": "stdout",
     "output_type": "stream",
     "text": [
      "In\tO\n",
      "modern\tO\n",
      "molecular\tO\n",
      "biology\tO\n",
      "and\tO\n",
      "genetics\tO\n",
      ",\tO\n",
      "the\tO\n",
      "genome\tO\n",
      "is\tO\n",
      "the\tO\n",
      "genetic\tO\n",
      "material\tO\n",
      "of\tO\n",
      "an\tO\n",
      "organism\tO\n",
      ".\tO\n",
      "It\tO\n",
      "consists\tO\n",
      "of\tO\n",
      "DNA\tU-MISC\n",
      "(\tO\n",
      "or\tO\n",
      "RNA\tU-MISC\n",
      "in\tO\n",
      "RNA\tU-MISC\n",
      "viruses\tO\n",
      ")\tO\n",
      ".\tO\n",
      "The\tO\n",
      "genome\tO\n",
      "includes\tO\n",
      "both\tO\n",
      "the\tO\n",
      "genes\tO\n",
      "and\tO\n",
      "the\tO\n",
      "non\tO\n",
      "-\tO\n",
      "coding\tO\n",
      "sequences\tO\n",
      "of\tO\n",
      "the\tO\n",
      "DNA\tU-MISC\n",
      "/\tO\n",
      "RNA\tU-MISC\n",
      ".\tO\n"
     ]
    }
   ],
   "source": [
    "\n",
    "# Run it on my test sentence\n",
    "results = predictor.predict(sentence=text)\n",
    "for word, tag in zip(results[\"words\"], results[\"tags\"]):\n",
    "    print(f\"{word}\\t{tag}\")"
   ]
  },
  {
   "cell_type": "code",
   "execution_count": 9,
   "metadata": {},
   "outputs": [],
   "source": [
    "predictor.predict??"
   ]
  },
  {
   "cell_type": "code",
   "execution_count": 17,
   "metadata": {},
   "outputs": [],
   "source": [
    "results.keys\n",
    "tags = results['tags']\n"
   ]
  },
  {
   "cell_type": "code",
   "execution_count": 16,
   "metadata": {},
   "outputs": [],
   "source": []
  },
  {
   "cell_type": "code",
   "execution_count": null,
   "metadata": {},
   "outputs": [],
   "source": []
  }
 ],
 "metadata": {
  "kernelspec": {
   "display_name": "Python [conda env:allennlp]",
   "language": "python",
   "name": "conda-env-allennlp-py"
  },
  "language_info": {
   "codemirror_mode": {
    "name": "ipython",
    "version": 3
   },
   "file_extension": ".py",
   "mimetype": "text/x-python",
   "name": "python",
   "nbconvert_exporter": "python",
   "pygments_lexer": "ipython3",
   "version": "3.6.8"
  }
 },
 "nbformat": 4,
 "nbformat_minor": 2
}
