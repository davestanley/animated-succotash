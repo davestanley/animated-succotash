{
 "cells": [
  {
   "cell_type": "code",
   "execution_count": 1,
   "metadata": {},
   "outputs": [],
   "source": [
    "# Set up and load data\n",
    "# Includes\n",
    "import sys\n",
    "import os\n",
    "import numpy as np\n",
    "import json\n",
    "import os\n",
    "\n",
    "\n",
    "# Setup paths containing utility\n",
    "curr_folder = os.getcwd()\n",
    "sys.path.insert(0, os.path.join(curr_folder,'../app'))\n",
    "\n",
    "# Utils imports for loading data\n",
    "from utils import save_data, load_data, exists_datafolder\n",
    "from utils import load_SQuAD_train, load_SQuAD_dev\n",
    "from utils import get_foldername\n",
    "from utils import merge_artfiles\n",
    "from utils_NLP import text2sentences\n",
    "\n",
    "# Plotting includes\n",
    "from utils_EDAplots import plotbar_train_dev,plothist_train_dev,plotbar_train_dev2,plothist_train_dev2\n",
    "\n",
    "\n",
    "# Import fig stuff\n",
    "import matplotlib.pyplot as plt\n",
    "from matplotlib.pyplot import figure"
   ]
  },
  {
   "cell_type": "markdown",
   "metadata": {},
   "source": [
    "# Load and merge ground truth and NEP data"
   ]
  },
  {
   "cell_type": "code",
   "execution_count": 2,
   "metadata": {},
   "outputs": [
    {
     "name": "stdout",
     "output_type": "stream",
     "text": [
      "Frédéric_Chopin\n"
     ]
    }
   ],
   "source": [
    "# Load data containing NEP (predictions)\n",
    "foldername = get_foldername('sq_pp_ner')\n",
    "arts_train = load_data('train.json',foldername)\n",
    "arts_dev = load_data('dev.json',foldername)\n",
    "\n",
    "# All articles\n",
    "Ntrain = len(arts_train)\n",
    "Ndev = len(arts_dev)\n",
    "\n",
    "arts = arts_train + arts_dev\n",
    "print(arts[1]['title'])\n",
    "# print(arts[1]['paragraphs'][0]['context'])"
   ]
  },
  {
   "cell_type": "code",
   "execution_count": 3,
   "metadata": {},
   "outputs": [
    {
     "name": "stdout",
     "output_type": "stream",
     "text": [
      "Frédéric_Chopin\n"
     ]
    }
   ],
   "source": [
    "# Load blanks data (ground truth)\n",
    "foldername = get_foldername('sq_pp_training')\n",
    "arts3 = load_data('train.json',foldername) + load_data('dev.json',foldername)\n",
    "print(arts3[1]['title'])\n",
    "# print(arts3[1]['paragraphs'][0]['context_blanked'])\n"
   ]
  },
  {
   "cell_type": "code",
   "execution_count": 4,
   "metadata": {},
   "outputs": [
    {
     "name": "stdout",
     "output_type": "stream",
     "text": [
      "Matching titles: 477 \n",
      "Total articles 477\n"
     ]
    }
   ],
   "source": [
    "# Make sure all titles match\n",
    "all_title_pairs = [(a1['title'],a3['title']) for a1,a3 in zip(arts,arts3)]\n",
    "titles_match_bool = [a1['title'] == a3['title'] for a1,a3 in zip(arts,arts3)]\n",
    "print(\"Matching titles: {} \\nTotal articles {}\".format(sum(titles_match_bool),len(titles_match_bool)))"
   ]
  },
  {
   "cell_type": "code",
   "execution_count": 5,
   "metadata": {},
   "outputs": [],
   "source": [
    "# Merge ground truth blanks with original data to get full dataset\n",
    "from utils_SQuAD import merge_arts_paragraph_fields\n",
    "list_of_fields = ['context_blanked','blank_classification']\n",
    "arts = merge_arts_paragraph_fields(arts,arts3,list_of_fields)\n",
    "\n",
    "# print(arts[1]['title'])\n",
    "# print(arts[1]['paragraphs'][0]['context'])\n",
    "# print(arts[1]['paragraphs'][0]['context_blanked'])"
   ]
  },
  {
   "cell_type": "code",
   "execution_count": 6,
   "metadata": {},
   "outputs": [
    {
     "data": {
      "text/plain": [
       "\"Pitch is an auditory sensation in which a listener assigns musical tones to relative positions on a musical scale based primarily on their perception of the frequency of vibration. Pitch is closely related to frequency, but the two are not equivalent. Frequency is an objective, scientific attribute that can be measured. Pitch is each person's subjective perception of a sound, which cannot be directly measured. However, this does not necessarily mean that most people won't agree on which notes are higher and lower.\""
      ]
     },
     "execution_count": 6,
     "metadata": {},
     "output_type": "execute_result"
    }
   ],
   "source": [
    "arts[105]['paragraphs'][0]['context']"
   ]
  },
  {
   "cell_type": "code",
   "execution_count": 7,
   "metadata": {},
   "outputs": [],
   "source": [
    "# Convert AllenNLP blanks classification into standard format\n",
    "\n",
    "from utils_NLP import allenNLP_classify_blanks\n",
    "arts = allenNLP_classify_blanks(arts)"
   ]
  },
  {
   "cell_type": "markdown",
   "metadata": {},
   "source": [
    "# Compare paragraph word reconstructions"
   ]
  },
  {
   "cell_type": "markdown",
   "metadata": {},
   "source": [
    "This just looks at the words in the different saved fiels files to make sure all the words match up 1:1 (otherwise, this could mess up our evaluations). Not looking at blanks here at all. The next sectoin looks at the blanks"
   ]
  },
  {
   "cell_type": "code",
   "execution_count": 8,
   "metadata": {},
   "outputs": [],
   "source": [
    "# Pull out sample paragraph\n",
    "p = arts[1]['paragraphs'][0]"
   ]
  },
  {
   "cell_type": "markdown",
   "metadata": {},
   "source": [
    "## AllenNLP Words"
   ]
  },
  {
   "cell_type": "code",
   "execution_count": 9,
   "metadata": {},
   "outputs": [
    {
     "name": "stdout",
     "output_type": "stream",
     "text": [
      "164\n",
      "164\n",
      "Frédéric François Chopin ( /ˈʃoʊpæn/; French pronunciation : ​[fʁe.de.ʁik fʁɑ̃.swa ʃɔ.pɛ̃ ]; 22 February or 1 March 1810 – 17 October 1849 ), born Fryderyk Franciszek Chopin,[n 1 ] was a Polish and French ( by citizenship and birth of father ) composer and a virtuoso pianist of the Romantic era, who wrote primarily for the solo piano. He gained and has maintained renown worldwide as one of the leading musicians of his era, whose \" poetic genius was based on a professional technique that was without equal in his generation. \" Chopin was born in what was then the Duchy of Warsaw, and grew up in Warsaw, which after 1815 became part of Congress Poland. A child prodigy, he completed his musical education and composed his earlier works in Warsaw before leaving Poland at the age of 20, less than a month before the outbreak of the November 1830 Uprising.\n",
      "858\n"
     ]
    }
   ],
   "source": [
    "from utils_NLP import words2text\n",
    "words = p['allenNER']['words'].split()\n",
    "tags = p['allenNER']['tags'].split()\n",
    "print(len(words))\n",
    "print(len(tags))\n",
    "print(words2text(words))\n",
    "print(len(words2text(words)))"
   ]
  },
  {
   "cell_type": "markdown",
   "metadata": {},
   "source": [
    "## Context"
   ]
  },
  {
   "cell_type": "code",
   "execution_count": 10,
   "metadata": {},
   "outputs": [
    {
     "name": "stdout",
     "output_type": "stream",
     "text": [
      "164\n",
      "Frédéric François Chopin ( /ˈʃoʊpæn/; French pronunciation : ​[fʁe.de.ʁik fʁɑ̃.swa ʃɔ.pɛ̃ ]; 22 February or 1 March 1810 – 17 October 1849 ), born Fryderyk Franciszek Chopin,[n 1 ] was a Polish and French ( by citizenship and birth of father ) composer and a virtuoso pianist of the Romantic era, who wrote primarily for the solo piano. He gained and has maintained renown worldwide as one of the leading musicians of his era, whose \" poetic genius was based on a professional technique that was without equal in his generation. \" Chopin was born in what was then the Duchy of Warsaw, and grew up in Warsaw, which after 1815 became part of Congress Poland. A child prodigy, he completed his musical education and composed his earlier works in Warsaw before leaving Poland at the age of 20, less than a month before the outbreak of the November 1830 Uprising.\n",
      "858\n"
     ]
    }
   ],
   "source": [
    "from utils_NLP import allenNLP_split_words, join_punctuation\n",
    "\n",
    "context = p['context']\n",
    "context_split = allenNLP_split_words(context)\n",
    "\n",
    "# context_reassembled = ' '.join(context_split)\n",
    "context_reassembled = words2text(context_split)\n",
    "\n",
    "print(len(context_split))\n",
    "# print(words2text(context_split))\n",
    "# print(len(words2text(context_split)))\n",
    "print(context_reassembled)\n",
    "print(len(context_reassembled))\n"
   ]
  },
  {
   "cell_type": "markdown",
   "metadata": {},
   "source": [
    "## Context_blanked"
   ]
  },
  {
   "cell_type": "code",
   "execution_count": 11,
   "metadata": {},
   "outputs": [
    {
     "name": "stdout",
     "output_type": "stream",
     "text": [
      "164\n",
      "dict_keys(['qas', 'context', 'allenNER', 'context_blanked', 'blank_classification', 'blank_classified_allenNER'])\n",
      "Frédéric François Chopin ( /ˈʃoʊpæn/ ; ______ pronunciation : ​[fʁe.de.ʁik fʁɑ̃.swa ʃɔ.pɛ̃ ] ; 22 February or 1 March ______ – 17 October ______ ) , born Fryderyk Franciszek Chopin,[n 1 ] was a ______ and ______ ( by citizenship and birth of father ) composer and a virtuoso pianist of the ______ ______ , who wrote primarily for the ______ ______ . He gained and has maintained renown worldwide as one of the leading musicians of his ______ , whose \" poetic genius was based on a professional technique that was without equal in his generation . \" Chopin was born in what was then the ______ of ______ , and grew up in ______ , which after 1815 became part of Congress Poland . A child prodigy , he completed his musical education and composed his earlier works in ______ before leaving Poland at the age of ______ , less than a month before the outbreak of the November 1830 Uprising .\n"
     ]
    }
   ],
   "source": [
    "print(len(p['blank_classification']))\n",
    "print(p.keys())\n",
    "print(p['context_blanked'])"
   ]
  },
  {
   "cell_type": "code",
   "execution_count": 12,
   "metadata": {},
   "outputs": [
    {
     "name": "stdout",
     "output_type": "stream",
     "text": [
      "French\n",
      "1810\n",
      "1849\n",
      "Polish\n",
      "French\n",
      "Romantic\n",
      "era\n",
      "solo\n",
      "piano\n",
      "era\n",
      "Duchy\n",
      "Warsaw\n",
      "Warsaw\n",
      "Warsaw\n",
      "20\n"
     ]
    }
   ],
   "source": [
    "# Answers\n",
    "for i,c in enumerate(p['blank_classification']):\n",
    "    if c == 1: print(context_split[i])"
   ]
  },
  {
   "cell_type": "markdown",
   "metadata": {},
   "source": [
    "# Single paragraph - Compare blanks"
   ]
  },
  {
   "cell_type": "markdown",
   "metadata": {},
   "source": [
    "## First, just look at the raw text"
   ]
  },
  {
   "cell_type": "code",
   "execution_count": 13,
   "metadata": {},
   "outputs": [],
   "source": [
    "p = arts[0]['paragraphs'][1]\n",
    "\n",
    "\n"
   ]
  },
  {
   "cell_type": "code",
   "execution_count": null,
   "metadata": {},
   "outputs": [],
   "source": []
  },
  {
   "cell_type": "code",
   "execution_count": null,
   "metadata": {},
   "outputs": [],
   "source": []
  },
  {
   "cell_type": "markdown",
   "metadata": {},
   "source": [
    "## Now do statistics - TPR, FPR, etc"
   ]
  },
  {
   "cell_type": "code",
   "execution_count": 14,
   "metadata": {},
   "outputs": [],
   "source": [
    "# Pull out sample paragraph\n",
    "# p = arts[22]['paragraphs'][0]\n",
    "p = arts[442]['paragraphs'][0]          # Norse\n",
    "# p = arts[15]['paragraphs'][1]          # Genome\n",
    "# p = arts[458]['paragraphs'][1]          # Pharmacy\n",
    "# p = arts[84]['paragraphs'][0]          # Brain\n",
    "# p = arts[0]['paragraphs'][0]          # Brain\n",
    "\n",
    "# # Print all AllenNLP classifications\n",
    "# print([(a,b) for a,b in zip(p['allenNER']['words'].split(), p['allenNER']['tags'].split())])\n",
    "\n",
    "# AllenNLP results\n",
    "words = p['allenNER']['words'].split()\n",
    "tags = p['allenNER']['tags'].split()\n",
    "tags = [not t == 'O' for t in tags]   # Convert to binary\n"
   ]
  },
  {
   "cell_type": "code",
   "execution_count": null,
   "metadata": {},
   "outputs": [],
   "source": []
  },
  {
   "cell_type": "code",
   "execution_count": 15,
   "metadata": {},
   "outputs": [
    {
     "name": "stdout",
     "output_type": "stream",
     "text": [
      "Length Allen tags: 140. Length ground truth blanks: 140\n"
     ]
    }
   ],
   "source": [
    "# Ground truth\n",
    "blank_classification = p['blank_classification']\n",
    "blank_classification = [b == 1 for b in blank_classification] # Convert to binary\n",
    "\n",
    "print(\"Length Allen tags: {}. Length ground truth blanks: {}\".format(len(tags),len(blank_classification)))"
   ]
  },
  {
   "cell_type": "code",
   "execution_count": 16,
   "metadata": {},
   "outputs": [
    {
     "name": "stdout",
     "output_type": "stream",
     "text": [
      "============\t\t\t==========\n",
      "Ground truth\t\t\tPrediction\n",
      "============\t\t\t==========\n",
      "The\t\t\t\tThe\n",
      "Normans\t\t\t\t______\n",
      "(\t\t\t\t(\n",
      "Norman\t\t\t\t______\n",
      ":\t\t\t\t:\n",
      "Nourmands\t\t\t\t______\n",
      ";\t\t\t\t;\n",
      "French\t\t\t\t______\n",
      ":\t\t\t\t:\n",
      "Normands\t\t\t\t______\n",
      ";\t\t\t\t;\n",
      "Latin\t\t\t\t______\n",
      ":\t\t\t\t______\n",
      "Normanni\t\t\t\t______\n",
      ")\t\t\t\t)\n",
      "were\t\t\t\twere\n",
      "the\t\t\t\tthe\n",
      "people\t\t\t\tpeople\n",
      "who\t\t\t\twho\n",
      "in\t\t\t\tin\n"
     ]
    }
   ],
   "source": [
    "# Side by side compare\n",
    "context_blanked = p['context_blanked']\n",
    "context_blanked_split = context_blanked.strip().split()\n",
    "words_blanked = [words[i] if not t else '______' for i,t in enumerate(tags)]\n",
    "\n",
    "N=len(words_blanked)\n",
    "N=20\n",
    "print(\"============\" + '\\t\\t\\t' + \"==========\")\n",
    "print(\"Ground truth\" + '\\t\\t\\t' + \"Prediction\")\n",
    "print(\"============\" + '\\t\\t\\t' + \"==========\")\n",
    "for c,w in zip(context_blanked_split[:N],words_blanked[:N]):\n",
    "    print(c + '\\t\\t\\t\\t' + w)\n"
   ]
  },
  {
   "cell_type": "code",
   "execution_count": 17,
   "metadata": {},
   "outputs": [
    {
     "name": "stdout",
     "output_type": "stream",
     "text": [
      "The ______ ( ______ : ______; ______ : ______; ______ ______ ______ ) were the people who in the 10th and 11th centuries gave their name to ______, a region in ______. They were descended from ______ ( \" ______ \" comes from \" ______ \" ) raiders and pirates from ______, ______ and ______ who, under their leader ______, agreed to swear fealty to King ______ ______ of ______ ______. Through generations of assimilation and mixing with the native ______ and ______ - ______ populations, their descendants would gradually merge with the ______ - based cultures of ______ ______. The distinct cultural and ethnic identity of the ______ emerged initially in the first half of the 10th century, and it continued to evolve over the succeeding centuries.\n"
     ]
    }
   ],
   "source": [
    "print(words2text(words_blanked))"
   ]
  },
  {
   "cell_type": "code",
   "execution_count": 18,
   "metadata": {},
   "outputs": [
    {
     "name": "stdout",
     "output_type": "stream",
     "text": [
      "The Normans ( Norman : Nourmands ; French : Normands ; Latin : Normanni ) were the people who in the ______ and 11th centuries gave their name to Normandy , a region in ______ . They were descended from Norse ( \" Norman \" comes from \" Norseman \" ) raiders and pirates from Denmark , Iceland and Norway who , under their leader ______ , agreed to swear fealty to King Charles III of West Francia . Through generations of assimilation and mixing with the native Frankish and Roman - Gaulish populations , their descendants would gradually merge with the Carolingian - based cultures of West Francia . The distinct cultural and ethnic identity of the Normans emerged initially in the first half of the ______ ______ , and it continued to evolve over the succeeding centuries .\n"
     ]
    }
   ],
   "source": [
    "print(context_blanked)"
   ]
  },
  {
   "cell_type": "code",
   "execution_count": 19,
   "metadata": {},
   "outputs": [
    {
     "name": "stdout",
     "output_type": "stream",
     "text": [
      "The Normans (Norman: Nourmands; French: Normands; Latin: Normanni) were the people who in the 10th and 11th centuries gave their name to Normandy, a region in France. They were descended from Norse (\"Norman\" comes from \"Norseman\") raiders and pirates from Denmark, Iceland and Norway who, under their leader Rollo, agreed to swear fealty to King Charles III of West Francia. Through generations of assimilation and mixing with the native Frankish and Roman-Gaulish populations, their descendants would gradually merge with the Carolingian-based cultures of West Francia. The distinct cultural and ethnic identity of the Normans emerged initially in the first half of the 10th century, and it continued to evolve over the succeeding centuries.\n"
     ]
    }
   ],
   "source": [
    "print(p['context'])"
   ]
  },
  {
   "cell_type": "code",
   "execution_count": 20,
   "metadata": {},
   "outputs": [],
   "source": [
    "TP = sum([b and t for b,t in zip(blank_classification,tags)])\n",
    "FP = sum([not b and t for b,t in zip(blank_classification,tags)])\n",
    "FN = sum([b and not t for b,t in zip(blank_classification,tags)])\n",
    "TN = sum([not b and not t for b,t in zip(blank_classification,tags)])\n",
    "ACC = (TP+TN)/(TP+FP+FN+TN)\n",
    "ACC2 = sum([b == t for b,t in zip(blank_classification,tags)]) / len(tags)"
   ]
  },
  {
   "cell_type": "code",
   "execution_count": 21,
   "metadata": {},
   "outputs": [
    {
     "name": "stdout",
     "output_type": "stream",
     "text": [
      "0.7928571428571428\n",
      "0.7928571428571428\n"
     ]
    }
   ],
   "source": [
    "print(ACC)\n",
    "print(ACC2)"
   ]
  },
  {
   "cell_type": "code",
   "execution_count": 22,
   "metadata": {},
   "outputs": [],
   "source": [
    "# Sensitivity, hit rate, recall, or true positive rate\n",
    "TPR = TP/(TP+FN)\n",
    "# Specificity or true negative rate\n",
    "TNR = TN/(TN+FP) \n",
    "# Precision or positive predictive value\n",
    "PPV = TP/(TP+FP)\n",
    "# Negative predictive value\n",
    "NPV = TN/(TN+FN)\n",
    "# Fall out or false positive rate\n",
    "FPR = FP/(FP+TN)\n",
    "# False negative rate\n",
    "FNR = FN/(TP+FN)\n",
    "# False discovery rate\n",
    "FDR = FP/(TP+FP)\n"
   ]
  },
  {
   "cell_type": "code",
   "execution_count": 23,
   "metadata": {},
   "outputs": [
    {
     "name": "stdout",
     "output_type": "stream",
     "text": [
      "0.4\n",
      "0.1925925925925926\n"
     ]
    }
   ],
   "source": [
    "print(TPR)\n",
    "print(FPR)"
   ]
  },
  {
   "cell_type": "code",
   "execution_count": 24,
   "metadata": {},
   "outputs": [
    {
     "data": {
      "text/plain": [
       "'The Normans (Norman: Nourmands; French: Normands; Latin: Normanni) were the people who in the 10th and 11th centuries gave their name to Normandy, a region in France. They were descended from Norse (\"Norman\" comes from \"Norseman\") raiders and pirates from Denmark, Iceland and Norway who, under their leader Rollo, agreed to swear fealty to King Charles III of West Francia. Through generations of assimilation and mixing with the native Frankish and Roman-Gaulish populations, their descendants would gradually merge with the Carolingian-based cultures of West Francia. The distinct cultural and ethnic identity of the Normans emerged initially in the first half of the 10th century, and it continued to evolve over the succeeding centuries.'"
      ]
     },
     "execution_count": 24,
     "metadata": {},
     "output_type": "execute_result"
    }
   ],
   "source": [
    "p['context']"
   ]
  },
  {
   "cell_type": "code",
   "execution_count": 25,
   "metadata": {},
   "outputs": [
    {
     "name": "stdout",
     "output_type": "stream",
     "text": [
      "Nsentences=4\n",
      "Nsentences_from_words=4\n"
     ]
    }
   ],
   "source": [
    "Nsentences = len(text2sentences(p['context']))\n",
    "print(\"Nsentences={}\".format(str(Nsentences)))\n",
    "\n",
    "Nsentences2 = len(text2sentences(words2text(words)))\n",
    "print(\"Nsentences_from_words={}\".format(str(Nsentences2)))\n",
    "\n"
   ]
  },
  {
   "cell_type": "code",
   "execution_count": 26,
   "metadata": {},
   "outputs": [
    {
     "name": "stdout",
     "output_type": "stream",
     "text": [
      "0.5\n",
      "6.5\n"
     ]
    }
   ],
   "source": [
    "TPpersent = TP / Nsentences2\n",
    "FPpersent = FP / Nsentences2\n",
    "\n",
    "print(TPpersent)\n",
    "print(FPpersent)"
   ]
  },
  {
   "cell_type": "markdown",
   "metadata": {},
   "source": [
    "# Single article - compare blanks"
   ]
  },
  {
   "cell_type": "code",
   "execution_count": 27,
   "metadata": {},
   "outputs": [],
   "source": [
    "# Pull out sample paragraph\n",
    "a = arts[442]\n",
    "\n",
    "# AllenNLP results\n",
    "words = [w for p in a['paragraphs'] for w in p['allenNER']['words'].split()]\n",
    "tags = [t for p in a['paragraphs'] for t in p['allenNER']['tags'].split()]\n",
    "tags = [not t == 'O' for t in tags]   # Convert to binary"
   ]
  },
  {
   "cell_type": "code",
   "execution_count": 28,
   "metadata": {},
   "outputs": [
    {
     "name": "stdout",
     "output_type": "stream",
     "text": [
      "Length Allen tags: 4665. Length ground truth blanks: 4665\n"
     ]
    }
   ],
   "source": [
    "# Ground truth\n",
    "blank_classification = [bc for p in a['paragraphs'] for bc in p['blank_classification']]\n",
    "blank_classification = [b == 1 for b in blank_classification] # Convert to binary\n",
    "\n",
    "print(\"Length Allen tags: {}. Length ground truth blanks: {}\".format(len(tags),len(blank_classification)))"
   ]
  },
  {
   "cell_type": "code",
   "execution_count": 29,
   "metadata": {},
   "outputs": [],
   "source": [
    "TP = sum([b and t for b,t in zip(blank_classification,tags)])\n",
    "FP = sum([not b and t for b,t in zip(blank_classification,tags)])\n",
    "FN = sum([b and not t for b,t in zip(blank_classification,tags)])\n",
    "TN = sum([not b and not t for b,t in zip(blank_classification,tags)])\n",
    "ACC = (TP+TN)/(TP+FP+FN+TN)\n",
    "ACC2 = sum([b == t for b,t in zip(blank_classification,tags)]) / len(tags)"
   ]
  },
  {
   "cell_type": "code",
   "execution_count": 30,
   "metadata": {},
   "outputs": [
    {
     "name": "stdout",
     "output_type": "stream",
     "text": [
      "0.8180064308681672\n",
      "0.8180064308681672\n"
     ]
    }
   ],
   "source": [
    "print(ACC)\n",
    "print(ACC2)"
   ]
  },
  {
   "cell_type": "code",
   "execution_count": 31,
   "metadata": {},
   "outputs": [],
   "source": [
    "# Sensitivity, hit rate, recall, or true positive rate\n",
    "TPR = TP/(TP+FN)\n",
    "# Specificity or true negative rate\n",
    "TNR = TN/(TN+FP) \n",
    "# Precision or positive predictive value\n",
    "PPV = TP/(TP+FP)\n",
    "# Negative predictive value\n",
    "NPV = TN/(TN+FN)\n",
    "# Fall out or false positive rate\n",
    "FPR = FP/(FP+TN)\n",
    "# False negative rate\n",
    "FNR = FN/(TP+FN)\n",
    "# False discovery rate\n",
    "FDR = FP/(TP+FP)\n"
   ]
  },
  {
   "cell_type": "code",
   "execution_count": 32,
   "metadata": {},
   "outputs": [
    {
     "name": "stdout",
     "output_type": "stream",
     "text": [
      "0.6686390532544378\n",
      "0.17637900355871886\n"
     ]
    }
   ],
   "source": [
    "print(TPR)\n",
    "print(FPR)"
   ]
  },
  {
   "cell_type": "code",
   "execution_count": 33,
   "metadata": {},
   "outputs": [
    {
     "name": "stdout",
     "output_type": "stream",
     "text": [
      "Nsentences_from_words=175\n"
     ]
    }
   ],
   "source": [
    "Nsentences2 = len(text2sentences(words2text(words)))\n",
    "print(\"Nsentences_from_words={}\".format(str(Nsentences2)))"
   ]
  },
  {
   "cell_type": "code",
   "execution_count": 34,
   "metadata": {},
   "outputs": [
    {
     "name": "stdout",
     "output_type": "stream",
     "text": [
      "0.6457142857142857\n",
      "4.531428571428571\n"
     ]
    }
   ],
   "source": [
    "TPpersent = TP / Nsentences2\n",
    "FPpersent = FP / Nsentences2\n",
    "\n",
    "print(TPpersent)\n",
    "print(FPpersent)"
   ]
  },
  {
   "cell_type": "markdown",
   "metadata": {},
   "source": [
    "# All articles - compare blanks"
   ]
  },
  {
   "cell_type": "code",
   "execution_count": 35,
   "metadata": {},
   "outputs": [
    {
     "name": "stdout",
     "output_type": "stream",
     "text": [
      "Warning article 175 contains 0 ground truth blanks and 274 tags. Likely bad\n",
      "Warning article 440 contains 0 ground truth blanks and 116 tags. Likely bad\n",
      "Warning article 441 contains 0 ground truth blanks and 78 tags. Likely bad\n"
     ]
    }
   ],
   "source": [
    "# Initialize stuff\n",
    "TPR0 = []\n",
    "FPR0 = []\n",
    "ACC0 = []\n",
    "Nsentences0 = []\n",
    "TP0 = []\n",
    "FP0 = []\n",
    "TPpersent0 = []\n",
    "FPpersent0 = []\n",
    "abads = []            # Article-level bads\n",
    "\n",
    "art = arts[:]\n",
    "\n",
    "i=0\n",
    "for a in art:\n",
    "    # AllenNLP results\n",
    "    words = [w for p in a['paragraphs'] for w in p['allenNER']['words'].split()]\n",
    "    tags = [t for p in a['paragraphs'] for t in p['allenNER']['tags'].split()]\n",
    "    tags = [not t == 'O' for t in tags]   # Convert to binary\n",
    "\n",
    "    # Ground truth\n",
    "    blank_classification = [bc for p in a['paragraphs'] for bc in p['blank_classification']]\n",
    "    blank_classification = [b == 1 for b in blank_classification] # Convert to binary\n",
    "\n",
    "    Nsentences2 = len(text2sentences(words2text(words)))\n",
    "    \n",
    "    sbc = sum(blank_classification)\n",
    "    st = sum(tags)\n",
    "    if sbc == 0 or st == 0:\n",
    "        print(\"Warning article {} contains {} ground truth blanks and {} tags. Likely bad\".format(str(i),str(sbc),str(st)))\n",
    "        \n",
    "        # Make up some dummy values so don't confuse for a REAL outlier in plots. Should just drop this data in the future\n",
    "        # This is ok because we'll skip them later if want to do stats - that's what abads is for\n",
    "        TPR = 0.5\n",
    "        FPR = 0.5\n",
    "        ACC = 0.5\n",
    "        TP = 100\n",
    "        FP = 100\n",
    "        TPpersent = 1\n",
    "        FPpersent = 1\n",
    "        abads.append(i)\n",
    "    else:\n",
    "        TP = sum([b and t for b,t in zip(blank_classification,tags)])\n",
    "        FP = sum([not b and t for b,t in zip(blank_classification,tags)])\n",
    "        FN = sum([b and not t for b,t in zip(blank_classification,tags)])\n",
    "        TN = sum([not b and not t for b,t in zip(blank_classification,tags)])\n",
    "        ACC = (TP+TN)/(TP+FP+FN+TN)\n",
    "        ACC2 = sum([b == t for b,t in zip(blank_classification,tags)]) / len(tags)\n",
    "\n",
    "        # Sensitivity, hit rate, recall, or true positive rate\n",
    "        TPR = TP/(TP+FN)\n",
    "        # Specificity or true negative rate\n",
    "        TNR = TN/(TN+FP) \n",
    "        # Precision or positive predictive value\n",
    "        PPV = TP/(TP+FP)\n",
    "        # Negative predictive value\n",
    "        NPV = TN/(TN+FN)\n",
    "        # Fall out or false positive rate\n",
    "        FPR = FP/(FP+TN)\n",
    "        # False negative rate\n",
    "        FNR = FN/(TP+FN)\n",
    "        # False discovery rate\n",
    "        FDR = FP/(TP+FP)\n",
    "        \n",
    "        # Per sententance values\n",
    "        TPpersent = TP / Nsentences2\n",
    "        FPpersent = FP / Nsentences2\n",
    "    \n",
    "    TPR0.append(TPR)\n",
    "    FPR0.append(FPR)\n",
    "    ACC0.append(ACC)\n",
    "    TP0.append(TP)\n",
    "    FP0.append(FP)\n",
    "    TPpersent0.append(TPpersent)\n",
    "    FPpersent0.append(FPpersent)\n",
    "    i=i+1\n",
    "\n"
   ]
  },
  {
   "cell_type": "code",
   "execution_count": 36,
   "metadata": {},
   "outputs": [
    {
     "name": "stdout",
     "output_type": "stream",
     "text": [
      "Bill_%26_Melinda_Gates_Foundation\n",
      "Myocardial_infarction\n",
      "Matter\n"
     ]
    }
   ],
   "source": [
    "# Print tiles of bad articles\n",
    "for ab in abads:\n",
    "    print(art[ab]['title'])"
   ]
  },
  {
   "cell_type": "code",
   "execution_count": 37,
   "metadata": {},
   "outputs": [
    {
     "name": "stdout",
     "output_type": "stream",
     "text": [
      "442\n",
      "35\n",
      "3\n",
      "0\n"
     ]
    }
   ],
   "source": [
    "# Calculate how this affects Ntrain / Ndev\n",
    "Ntrain_bad = len([b for b in abads if b < Ntrain])\n",
    "Ndev_bad = len([b for b in abads if b >= Ntrain])\n",
    "print(Ntrain)\n",
    "print(Ndev)\n",
    "print(Ntrain_bad)\n",
    "print(Ndev_bad)\n",
    "\n"
   ]
  },
  {
   "cell_type": "markdown",
   "metadata": {},
   "source": [
    "## Plot TPR"
   ]
  },
  {
   "cell_type": "code",
   "execution_count": 38,
   "metadata": {},
   "outputs": [
    {
     "data": {
      "image/png": "[encoded data removed]",
      "text/plain": [
       "<Figure size 1080x288 with 1 Axes>"
      ]
     },
     "metadata": {},
     "output_type": "display_data"
    },
    {
     "data": {
      "image/png": "[encoded data removed]",
      "text/plain": [
       "<Figure size 1080x288 with 2 Axes>"
      ]
     },
     "metadata": {
      "needs_background": "light"
     },
     "output_type": "display_data"
    }
   ],
   "source": [
    "myvar = TPR0\n",
    "varname = 'TPR'\n",
    "\n",
    "# Plot bargraph\n",
    "plotbar_train_dev2(myvar,Ntrain,Ndev,ylabel='{} per article'.format(varname),xlabel='Article #')\n",
    "\n",
    "# # # Plot the histogram without containing any bads\n",
    "# myvar without the bad articles\n",
    "myvar2 = [tp for i, tp in enumerate(myvar) if i not in abads]\n",
    "\n",
    "# Plot the histogram\n",
    "ax = plothist_train_dev2(myvar2,Ntrain-Ntrain_bad,Ndev-Ndev_bad,xlabel=varname,ylabel='N Articles',devbins='auto')\n",
    "set(ax['ax1'].set_xlim(0,1));\n",
    "set(ax['ax2'].set_xlim(0,1));\n",
    "\n"
   ]
  },
  {
   "cell_type": "markdown",
   "metadata": {},
   "source": [
    "## Plot FPR"
   ]
  },
  {
   "cell_type": "code",
   "execution_count": 39,
   "metadata": {},
   "outputs": [
    {
     "data": {
      "image/png": "[encoded data removed]",
      "text/plain": [
       "<Figure size 1080x288 with 1 Axes>"
      ]
     },
     "metadata": {},
     "output_type": "display_data"
    },
    {
     "data": {
      "image/png": "[encoded data removed]",
      "text/plain": [
       "<Figure size 1080x288 with 2 Axes>"
      ]
     },
     "metadata": {
      "needs_background": "light"
     },
     "output_type": "display_data"
    }
   ],
   "source": [
    "myvar = FPR0\n",
    "varname = 'FPR'\n",
    "\n",
    "# Plot bargraph\n",
    "plotbar_train_dev2(myvar,Ntrain,Ndev,ylabel='{} per article'.format(varname),xlabel='Article #')\n",
    "\n",
    "# # # Plot the histogram without containing any bads\n",
    "# myvar without the bad articles\n",
    "myvar2 = [tp for i, tp in enumerate(myvar) if i not in abads]\n",
    "\n",
    "# Plot the histogram\n",
    "ax = plothist_train_dev2(myvar2,Ntrain-Ntrain_bad,Ndev-Ndev_bad,xlabel=varname,ylabel='N Articles',devbins='auto')\n",
    "set(ax['ax1'].set_xlim(0,1));\n",
    "set(ax['ax2'].set_xlim(0,1));\n",
    "\n"
   ]
  },
  {
   "cell_type": "markdown",
   "metadata": {},
   "source": [
    "## Plot ACC"
   ]
  },
  {
   "cell_type": "code",
   "execution_count": 40,
   "metadata": {},
   "outputs": [
    {
     "data": {
      "image/png": "[encoded data removed]",
      "text/plain": [
       "<Figure size 1080x288 with 1 Axes>"
      ]
     },
     "metadata": {},
     "output_type": "display_data"
    },
    {
     "data": {
      "image/png": "[encoded data removed]",
      "text/plain": [
       "<Figure size 1080x288 with 2 Axes>"
      ]
     },
     "metadata": {
      "needs_background": "light"
     },
     "output_type": "display_data"
    }
   ],
   "source": [
    "myvar = ACC0\n",
    "varname = 'ACC'\n",
    "\n",
    "# Plot bargraph\n",
    "plotbar_train_dev2(myvar,Ntrain,Ndev,ylabel='{} per article'.format(varname),xlabel='Article #')\n",
    "\n",
    "# # # Plot the histogram without containing any bads\n",
    "# myvar without the bad articles\n",
    "myvar2 = [tp for i, tp in enumerate(myvar) if i not in abads]\n",
    "\n",
    "# Plot the histogram\n",
    "ax = plothist_train_dev2(myvar2,Ntrain-Ntrain_bad,Ndev-Ndev_bad,xlabel=varname,ylabel='N Articles',devbins='auto')\n",
    "set(ax['ax1'].set_xlim(0,1));\n",
    "set(ax['ax2'].set_xlim(0,1));\n",
    "\n"
   ]
  },
  {
   "cell_type": "markdown",
   "metadata": {},
   "source": [
    "## Plot True positives per sentence"
   ]
  },
  {
   "cell_type": "code",
   "execution_count": 32,
   "metadata": {},
   "outputs": [
    {
     "data": {
      "image/png": "[encoded data removed]",
      "text/plain": [
       "<Figure size 1080x288 with 1 Axes>"
      ]
     },
     "metadata": {},
     "output_type": "display_data"
    },
    {
     "data": {
      "image/png": "[encoded data removed]",
      "text/plain": [
       "<Figure size 1080x288 with 2 Axes>"
      ]
     },
     "metadata": {
      "needs_background": "light"
     },
     "output_type": "display_data"
    }
   ],
   "source": [
    "myvar = TPpersent0\n",
    "varname = 'True positives per sentence'\n",
    "\n",
    "# Plot bargraph\n",
    "plotbar_train_dev2(myvar,Ntrain,Ndev,ylabel='{}'.format(varname),xlabel='Article #')\n",
    "\n",
    "# # # Plot the histogram without containing any bads\n",
    "# myvar without the bad articles\n",
    "myvar2 = [tp for i, tp in enumerate(myvar) if i not in abads]\n",
    "\n",
    "# Plot the histogram\n",
    "ax = plothist_train_dev2(myvar2,Ntrain-Ntrain_bad,Ndev-Ndev_bad,xlabel=varname,ylabel='N Articles',devbins='auto')\n",
    "# set(ax['ax1'].set_xlim(0,1));\n",
    "# set(ax['ax2'].set_xlim(0,1));\n",
    "\n"
   ]
  },
  {
   "cell_type": "markdown",
   "metadata": {},
   "source": [
    "## Plot False positives per sentence"
   ]
  },
  {
   "cell_type": "code",
   "execution_count": 33,
   "metadata": {},
   "outputs": [
    {
     "data": {
      "image/png": "[encoded data removed]",
      "text/plain": [
       "<Figure size 1080x288 with 1 Axes>"
      ]
     },
     "metadata": {},
     "output_type": "display_data"
    },
    {
     "data": {
      "image/png": "[encoded data removed]",
      "text/plain": [
       "<Figure size 1080x288 with 2 Axes>"
      ]
     },
     "metadata": {
      "needs_background": "light"
     },
     "output_type": "display_data"
    }
   ],
   "source": [
    "myvar = FPpersent0\n",
    "varname = 'False positives per sentence'\n",
    "\n",
    "# Plot bargraph\n",
    "plotbar_train_dev2(myvar,Ntrain,Ndev,ylabel='{}'.format(varname),xlabel='Article #')\n",
    "\n",
    "# # # Plot the histogram without containing any bads\n",
    "# myvar without the bad articles\n",
    "myvar2 = [tp for i, tp in enumerate(myvar) if i not in abads]\n",
    "\n",
    "# Plot the histogram\n",
    "ax = plothist_train_dev2(myvar2,Ntrain-Ntrain_bad,Ndev-Ndev_bad,xlabel=varname,ylabel='N Articles',devbins='auto')\n",
    "# set(ax['ax1'].set_xlim(0,1));\n",
    "# set(ax['ax2'].set_xlim(0,1));\n",
    "\n"
   ]
  },
  {
   "cell_type": "markdown",
   "metadata": {},
   "source": [
    "# All paragraphs - compare blanks"
   ]
  },
  {
   "cell_type": "code",
   "execution_count": 34,
   "metadata": {},
   "outputs": [],
   "source": [
    "# Initialize stuff\n",
    "TPR0 = []\n",
    "FPR0 = []\n",
    "ACC0 = []\n",
    "Nsentences0 = []\n",
    "TP0 = []\n",
    "FP0 = []\n",
    "TPpersent0 = []\n",
    "FPpersent0 = []\n",
    "abads = []\n",
    "\n",
    "art = arts[:]\n",
    "\n",
    "\n",
    "# Only track true positives and false positive to avoid having to deal with other annoying edge cases\n",
    "i=-1\n",
    "k=-1\n",
    "Ntrainp = 0\n",
    "Ndevp=0\n",
    "for a in art:\n",
    "    i=i+1\n",
    "    j=-1\n",
    "    for p in a['paragraphs']:\n",
    "        j=j+1\n",
    "        k=k+1\n",
    "        if i < Ntrain: Ntrainp=Ntrainp+1;\n",
    "        else: Ndevp = Ndevp+1\n",
    "        # AllenNLP results\n",
    "        words = [w for w in p['allenNER']['words'].split()]\n",
    "        tags = [t for t in p['allenNER']['tags'].split()]\n",
    "        tags = [not t == 'O' for t in tags]   # Convert to binary\n",
    "\n",
    "        # Ground truth\n",
    "        blank_classification = [bc for bc in p['blank_classification']]\n",
    "        blank_classification = [b == 1 for b in blank_classification] # Convert to binary\n",
    "\n",
    "        Nsentences2 = len(text2sentences(words2text(words)))\n",
    "\n",
    "        sbc = sum(blank_classification)\n",
    "        st = sum(tags)\n",
    "        if sbc == 0:\n",
    "            #print(\"Warning article {}, paragraph P{} contains {} ground truth blanks and {} tags. Likely bad\".format(str(i),str(j),str(sbc),str(st)))\n",
    "\n",
    "            # Make up some dummy values so don't confuse for a REAL outlier in plots. Should just drop this data in the future\n",
    "            # This is ok because we'll skip them later if want to do stats - that's what bads is for\n",
    "            TPR = 0.5\n",
    "            FPR = 0.5\n",
    "            ACC = 0.5\n",
    "            TP = 100\n",
    "            FP = 100\n",
    "            TPpersent = 1\n",
    "            FPpersent = 1\n",
    "            abads.append(k)       # kth paragraph is bad\n",
    "        else:\n",
    "            TP = sum([b and t for b,t in zip(blank_classification,tags)])\n",
    "            FP = sum([not b and t for b,t in zip(blank_classification,tags)])\n",
    "            FN = sum([b and not t for b,t in zip(blank_classification,tags)])\n",
    "            TN = sum([not b and not t for b,t in zip(blank_classification,tags)])\n",
    "#             ACC = (TP+TN)/(TP+FP+FN+TN)\n",
    "            ACC = sum([b == t for b,t in zip(blank_classification,tags)]) / len(tags)\n",
    "\n",
    "            # Sensitivity, hit rate, recall, or true positive rate\n",
    "            TPR = TP/(TP+FN)\n",
    "#             # Specificity or true negative rate\n",
    "#             TNR = TN/(TN+FP) \n",
    "#             # Precision or positive predictive value\n",
    "#             PPV = TP/(TP+FP)\n",
    "#             # Negative predictive value\n",
    "#             NPV = TN/(TN+FN)\n",
    "#             # Fall out or false positive rate\n",
    "#             FPR = FP/(FP+TN)\n",
    "            # False negative rate\n",
    "            FNR = FN/(TP+FN)\n",
    "#             # False discovery rate\n",
    "#             FDR = FP/(TP+FP)\n",
    "\n",
    "            # Per sententance values\n",
    "            TPpersent = TP / Nsentences2\n",
    "            FPpersent = FP / Nsentences2\n",
    "    \n",
    "        TPR0.append(TPR)\n",
    "        FPR0.append(FPR)\n",
    "        ACC0.append(ACC)\n",
    "        TP0.append(TP)\n",
    "        FP0.append(FP)\n",
    "        TPpersent0.append(TPpersent)\n",
    "        FPpersent0.append(FPpersent)\n",
    "\n"
   ]
  },
  {
   "cell_type": "code",
   "execution_count": 35,
   "metadata": {},
   "outputs": [],
   "source": [
    "# # # Plot the histogram without containing any bads\n",
    "\n",
    "\n",
    "# Choose variable\n",
    "myvar0 = TPR0\n",
    "\n",
    "# myvar without the bad articles\n",
    "myvar = [tp for i, tp in enumerate(myvar0) if i not in abads]\n",
    "\n",
    "# Calculate how this affects Ntrain / Ndev\n",
    "Ntrainp_bad = len([b for b in abads if b < Ntrainp])\n",
    "Ndevp_bad = len([b for b in abads if b >= Ntrainp])\n"
   ]
  },
  {
   "cell_type": "code",
   "execution_count": 36,
   "metadata": {},
   "outputs": [
    {
     "name": "stdout",
     "output_type": "stream",
     "text": [
      "19035\n",
      "1204\n",
      "1383\n",
      "13\n"
     ]
    }
   ],
   "source": [
    "print(Ntrainp)\n",
    "print(Ndevp)\n",
    "print(Ntrainp_bad)\n",
    "print(Ndevp_bad)\n",
    "\n"
   ]
  },
  {
   "cell_type": "markdown",
   "metadata": {},
   "source": [
    "## Plot TPR"
   ]
  },
  {
   "cell_type": "code",
   "execution_count": 39,
   "metadata": {},
   "outputs": [
    {
     "data": {
      "image/png": "[encoded data removed]",
      "text/plain": [
       "<Figure size 1080x288 with 2 Axes>"
      ]
     },
     "metadata": {
      "needs_background": "light"
     },
     "output_type": "display_data"
    }
   ],
   "source": [
    "myvar = TPR0\n",
    "varname = 'TPR'\n",
    "\n",
    "# Plot bargraph (Don't plot figure for each paragraph!)\n",
    "# plotbar_train_dev2(myvar,Ntrain,Ndev,ylabel='{}'.format(varname),xlabel='Article #')\n",
    "\n",
    "# # # Plot the histogram without containing any bads\n",
    "# myvar without the bad articles\n",
    "myvar2 = [tp for i, tp in enumerate(myvar) if i not in abads]\n",
    "\n",
    "# Plot the histogram\n",
    "ax = plothist_train_dev2(myvar2,Ntrainp-Ntrainp_bad,Ndevp-Ndevp_bad,xlabel=varname,ylabel='N Articles',devbins='auto')\n",
    "# set(ax['ax1'].set_xlim(0,1));\n",
    "# set(ax['ax2'].set_xlim(0,1));\n",
    "\n"
   ]
  },
  {
   "cell_type": "markdown",
   "metadata": {},
   "source": [
    "## Plot FPR"
   ]
  },
  {
   "cell_type": "markdown",
   "metadata": {},
   "source": [
    "Not sure what's wrong here"
   ]
  },
  {
   "cell_type": "code",
   "execution_count": 40,
   "metadata": {},
   "outputs": [
    {
     "data": {
      "image/png": "[encoded data removed]",
      "text/plain": [
       "<Figure size 1080x288 with 2 Axes>"
      ]
     },
     "metadata": {
      "needs_background": "light"
     },
     "output_type": "display_data"
    }
   ],
   "source": [
    "myvar = FPR0\n",
    "varname = 'FPR'\n",
    "\n",
    "# Plot bargraph (Don't plot figure for each paragraph!)\n",
    "# plotbar_train_dev2(myvar,Ntrain,Ndev,ylabel='{}'.format(varname),xlabel='Article #')\n",
    "\n",
    "# # # Plot the histogram without containing any bads\n",
    "# myvar without the bad articles\n",
    "myvar2 = [tp for i, tp in enumerate(myvar) if i not in abads]\n",
    "\n",
    "# Plot the histogram\n",
    "ax = plothist_train_dev2(myvar2,Ntrainp-Ntrainp_bad,Ndevp-Ndevp_bad,xlabel=varname,ylabel='N Articles',devbins='auto')\n",
    "# set(ax['ax1'].set_xlim(0,1));\n",
    "# set(ax['ax2'].set_xlim(0,1));\n",
    "\n"
   ]
  },
  {
   "cell_type": "markdown",
   "metadata": {},
   "source": [
    "## Plot TP per sentence"
   ]
  },
  {
   "cell_type": "code",
   "execution_count": 41,
   "metadata": {},
   "outputs": [
    {
     "data": {
      "image/png": "[encoded data removed]",
      "text/plain": [
       "<Figure size 1080x288 with 2 Axes>"
      ]
     },
     "metadata": {
      "needs_background": "light"
     },
     "output_type": "display_data"
    }
   ],
   "source": [
    "myvar = TPpersent0\n",
    "varname = 'TPpersent'\n",
    "\n",
    "# Plot bargraph (Don't plot figure for each paragraph!)\n",
    "# plotbar_train_dev2(myvar,Ntrain,Ndev,ylabel='{}'.format(varname),xlabel='Article #')\n",
    "\n",
    "# # # Plot the histogram without containing any bads\n",
    "# myvar without the bad articles\n",
    "myvar2 = [tp for i, tp in enumerate(myvar) if i not in abads]\n",
    "\n",
    "# Plot the histogram\n",
    "ax = plothist_train_dev2(myvar2,Ntrainp-Ntrainp_bad,Ndevp-Ndevp_bad,xlabel=varname,ylabel='N Articles',devbins='auto')\n",
    "# set(ax['ax1'].set_xlim(0,1));\n",
    "# set(ax['ax2'].set_xlim(0,1));\n",
    "\n"
   ]
  },
  {
   "cell_type": "code",
   "execution_count": null,
   "metadata": {},
   "outputs": [],
   "source": []
  }
 ],
 "metadata": {
  "kernelspec": {
   "display_name": "Python [conda env:allennlp]",
   "language": "python",
   "name": "conda-env-allennlp-py"
  },
  "language_info": {
   "codemirror_mode": {
    "name": "ipython",
    "version": 3
   },
   "file_extension": ".py",
   "mimetype": "text/x-python",
   "name": "python",
   "nbconvert_exporter": "python",
   "pygments_lexer": "ipython3",
   "version": "3.6.8"
  }
 },
 "nbformat": 4,
 "nbformat_minor": 2
}
