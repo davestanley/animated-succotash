{
 "cells": [
  {
   "cell_type": "code",
   "execution_count": 1,
   "metadata": {},
   "outputs": [],
   "source": [
    "\n",
    "\n",
    "# Set up and load data\n",
    "# Includes\n",
    "import sys\n",
    "import os\n",
    "import numpy as np\n",
    "import json\n",
    "import os\n",
    "\n",
    "# Import Allen\n",
    "from allennlp.predictors import Predictor\n",
    "\n",
    "# Setup paths containing utility\n",
    "curr_folder = os.getcwd()\n",
    "sys.path.insert(0, os.path.join(curr_folder,'../submodules/genanki'))\n",
    "sys.path.insert(0, os.path.join(curr_folder,'../app'))\n",
    "\n",
    "# Import custom utilities\n",
    "from utils import save_data, load_data, exists_datafolder\n",
    "from utils import load_SQuAD_train, load_SQuAD_dev\n",
    "from utils import get_foldername\n",
    "from utils_allenNLP import run_predictor\n",
    "\n",
    "# Set up folder names\n",
    "foldername = os.path.join('SQ_pp_b4m0c2')\n",
    "\n",
    "\n"
   ]
  },
  {
   "cell_type": "code",
   "execution_count": 2,
   "metadata": {},
   "outputs": [],
   "source": [
    "import genanki"
   ]
  },
  {
   "cell_type": "code",
   "execution_count": 4,
   "metadata": {},
   "outputs": [],
   "source": [
    "my_model = genanki.Model(\n",
    "  1607392319,\n",
    "  'Simple Model',\n",
    "  fields=[\n",
    "    {'name': 'Question'},\n",
    "    {'name': 'Answer'},\n",
    "  ],\n",
    "  templates=[\n",
    "    {\n",
    "      'name': 'Card 1',\n",
    "      'qfmt': '{{Question}}',\n",
    "      'afmt': '{{FrontSide}}<hr id=\"answer\">{{Answer}}',\n",
    "    },\n",
    "  ])"
   ]
  },
  {
   "cell_type": "code",
   "execution_count": 5,
   "metadata": {},
   "outputs": [],
   "source": [
    "\n",
    "\n",
    "\n",
    "my_note = genanki.Note(\n",
    "  model=my_model,\n",
    "  fields=['Capital of Argentina', 'Buenos Aires'])"
   ]
  },
  {
   "cell_type": "code",
   "execution_count": 6,
   "metadata": {},
   "outputs": [],
   "source": [
    "my_deck = genanki.Deck(\n",
    "  2059400110,\n",
    "  'Country Capitals')\n",
    "\n",
    "my_deck.add_note(my_note)"
   ]
  },
  {
   "cell_type": "code",
   "execution_count": 7,
   "metadata": {},
   "outputs": [],
   "source": [
    "genanki.Package(my_deck).write_to_file('output.apkg')"
   ]
  },
  {
   "cell_type": "code",
   "execution_count": null,
   "metadata": {},
   "outputs": [],
   "source": []
  },
  {
   "cell_type": "code",
   "execution_count": null,
   "metadata": {},
   "outputs": [],
   "source": []
  },
  {
   "cell_type": "code",
   "execution_count": null,
   "metadata": {},
   "outputs": [],
   "source": []
  },
  {
   "cell_type": "code",
   "execution_count": null,
   "metadata": {},
   "outputs": [],
   "source": []
  }
 ],
 "metadata": {
  "kernelspec": {
   "display_name": "Python [conda env:allennlp]",
   "language": "python",
   "name": "conda-env-allennlp-py"
  },
  "language_info": {
   "codemirror_mode": {
    "name": "ipython",
    "version": 3
   },
   "file_extension": ".py",
   "mimetype": "text/x-python",
   "name": "python",
   "nbconvert_exporter": "python",
   "pygments_lexer": "ipython3",
   "version": "3.6.8"
  }
 },
 "nbformat": 4,
 "nbformat_minor": 2
}
