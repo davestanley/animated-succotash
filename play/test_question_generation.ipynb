{
 "cells": [
  {
   "cell_type": "markdown",
   "metadata": {},
   "source": [
    "Import stuff and load the data\n",
    "==="
   ]
  },
  {
   "cell_type": "code",
   "execution_count": 5,
   "metadata": {},
   "outputs": [],
   "source": [
    "# Set up and load data\n",
    "# Includes\n",
    "import sys\n",
    "import os\n",
    "import numpy as np\n",
    "import json\n",
    "import os\n",
    "\n",
    "\n",
    "# Setup paths containing utility\n",
    "curr_folder = os.getcwd()\n",
    "sys.path.insert(0, os.path.join(curr_folder,'../app'))\n",
    "\n",
    "# Load the data\n",
    "from utils import load_SQuAD_train\n",
    "arts = load_SQuAD_train()\n",
    "\n",
    "\n",
    "\n",
    "\n"
   ]
  },
  {
   "cell_type": "code",
   "execution_count": 8,
   "metadata": {},
   "outputs": [
    {
     "name": "stdout",
     "output_type": "stream",
     "text": [
      "Narticles = 442\n"
     ]
    }
   ],
   "source": [
    "\n",
    "# All articles\n",
    "Narticles = len(arts)\n",
    "print (\"Narticles = \" +  str(Narticles)) \n"
   ]
  },
  {
   "cell_type": "markdown",
   "metadata": {},
   "source": [
    "List titles of all articles\n",
    "==="
   ]
  },
  {
   "cell_type": "code",
   "execution_count": 7,
   "metadata": {},
   "outputs": [
    {
     "name": "stdout",
     "output_type": "stream",
     "text": [
      "Narticles = 442\n",
      "Beyoncé\n",
      "Frédéric_Chopin\n",
      "Sino-Tibetan_relations_during_the_Ming_dynasty\n",
      "IPod\n",
      "The_Legend_of_Zelda:_Twilight_Princess\n",
      "Spectre_(2015_film)\n",
      "2008_Sichuan_earthquake\n",
      "New_York_City\n",
      "To_Kill_a_Mockingbird\n",
      "Solar_energy\n",
      "Kanye_West\n",
      "Buddhism\n",
      "American_Idol\n",
      "Dog\n",
      "2008_Summer_Olympics_torch_relay\n",
      "Genome\n",
      "Comprehensive_school\n",
      "Republic_of_the_Congo\n",
      "Prime_minister\n",
      "Institute_of_technology\n",
      "Wayback_Machine\n",
      "Dutch_Republic\n",
      "Symbiosis\n",
      "Canadian_Armed_Forces\n",
      "Cardinal_(Catholicism)\n",
      "Iranian_languages\n",
      "Lighting\n",
      "Separation_of_powers_under_the_United_States_Constitution\n",
      "Architecture\n",
      "Human_Development_Index\n",
      "Southern_Europe\n",
      "BBC_Television\n",
      "Arnold_Schwarzenegger\n",
      "Plymouth\n",
      "Heresy\n",
      "Warsaw_Pact\n",
      "Materialism\n",
      "Christian\n",
      "Sony_Music_Entertainment\n",
      "Oklahoma_City\n",
      "Hunter-gatherer\n",
      "United_Nations_Population_Fund\n",
      "Russian_Soviet_Federative_Socialist_Republic\n",
      "Alexander_Graham_Bell\n",
      "Pub\n",
      "Internet_service_provider\n",
      "Comics\n",
      "Saint_Helena\n",
      "Aspirated_consonant\n",
      "Hydrogen\n",
      "Space_Race\n",
      "Web_browser\n",
      "BeiDou_Navigation_Satellite_System\n",
      "Canon_law\n",
      "Communications_in_Somalia\n",
      "Catalan_language\n",
      "Boston\n",
      "Universal_Studios\n",
      "Estonian_language\n",
      "Paper\n",
      "Adult_contemporary_music\n",
      "Daylight_saving_time\n",
      "Royal_Institute_of_British_Architects\n",
      "National_Archives_and_Records_Administration\n",
      "Tristan_da_Cunha\n",
      "University_of_Kansas\n",
      "Nanjing\n",
      "Arena_Football_League\n",
      "Dialect\n",
      "Bern\n",
      "Westminster_Abbey\n",
      "Political_corruption\n",
      "Classical_music\n",
      "Slavs\n",
      "Southampton\n",
      "Treaty\n",
      "Josip_Broz_Tito\n",
      "Marshall_Islands\n",
      "Szlachta\n",
      "Virgil\n",
      "Alps\n",
      "Gene\n",
      "Guinea-Bissau\n",
      "List_of_numbered_streets_in_Manhattan\n",
      "Brain\n",
      "Near_East\n",
      "Zhejiang\n",
      "Ministry_of_Defence_(United_Kingdom)\n",
      "High-definition_television\n",
      "Wood\n",
      "Somalis\n",
      "Middle_Ages\n",
      "Phonology\n",
      "Computer\n",
      "Black_people\n",
      "The_Times\n",
      "New_Delhi\n",
      "Bird_migration\n",
      "Atlantic_City,_New_Jersey\n",
      "Immunology\n",
      "MP3\n",
      "House_music\n",
      "Letter_case\n",
      "Chihuahua_(state)\n",
      "Imamah_(Shia_doctrine)\n",
      "Pitch_(music)\n",
      "England_national_football_team\n",
      "Houston\n",
      "Copper\n",
      "Identity_(social_science)\n",
      "Himachal_Pradesh\n",
      "Communication\n",
      "Grape\n",
      "Computer_security\n",
      "Orthodox_Judaism\n",
      "Animal\n",
      "Beer\n",
      "Race_and_ethnicity_in_the_United_States_Census\n",
      "United_States_dollar\n",
      "Imperial_College_London\n",
      "Hanover\n",
      "Emotion\n",
      "Everton_F.C.\n",
      "Old_English\n",
      "Aircraft_carrier\n",
      "Federal_Aviation_Administration\n",
      "Lancashire\n",
      "Mesozoic\n",
      "Videoconferencing\n",
      "Gregorian_calendar\n",
      "Xbox_360\n",
      "Military_history_of_the_United_States\n",
      "Hard_rock\n",
      "Great_Plains\n",
      "Infrared\n",
      "Biodiversity\n",
      "ASCII\n",
      "Digestion\n",
      "Gymnastics\n",
      "FC_Barcelona\n",
      "Federal_Bureau_of_Investigation\n",
      "Mary_(mother_of_Jesus)\n",
      "Melbourne\n",
      "John,_King_of_England\n",
      "Macintosh\n",
      "Anti-aircraft_warfare\n",
      "Sanskrit\n",
      "Valencia\n",
      "General_Electric\n",
      "United_States_Army\n",
      "Franco-Prussian_War\n",
      "Adolescence\n",
      "Antarctica\n",
      "Eritrea\n",
      "Uranium\n",
      "Order_of_the_British_Empire\n",
      "Circadian_rhythm\n",
      "Elizabeth_II\n",
      "Sexual_orientation\n",
      "Dell\n",
      "Capital_punishment_in_the_United_States\n",
      "Age_of_Enlightenment\n",
      "Nintendo_Entertainment_System\n",
      "Athanasius_of_Alexandria\n",
      "Seattle\n",
      "Memory\n",
      "Multiracial_American\n",
      "Ashkenazi_Jews\n",
      "Pharmaceutical_industry\n",
      "Umayyad_Caliphate\n",
      "Asphalt\n",
      "Queen_Victoria\n",
      "Freemasonry\n",
      "Israel\n",
      "Hellenistic_period\n",
      "Bill_%26_Melinda_Gates_Foundation\n",
      "Montevideo\n",
      "Poultry\n",
      "Dutch_language\n",
      "Buckingham_Palace\n",
      "Incandescent_light_bulb\n",
      "Arsenal_F.C.\n",
      "Clothing\n",
      "Chicago_Cubs\n",
      "Korean_War\n",
      "Copyright_infringement\n",
      "Greece\n",
      "Royal_Dutch_Shell\n",
      "Mammal\n",
      "East_India_Company\n",
      "Hokkien\n",
      "Professional_wrestling\n",
      "Film_speed\n",
      "Mexico_City\n",
      "Napoleon\n",
      "Germans\n",
      "Southeast_Asia\n",
      "Brigham_Young_University\n",
      "Department_store\n",
      "Intellectual_property\n",
      "Florida\n",
      "Queen_(band)\n",
      "Presbyterianism\n",
      "Thuringia\n",
      "Predation\n",
      "Marvel_Comics\n",
      "British_Empire\n",
      "Botany\n",
      "Madonna_(entertainer)\n",
      "Law_of_the_United_States\n",
      "Myanmar\n",
      "Jews\n",
      "Cotton\n",
      "Data_compression\n",
      "The_Sun_(United_Kingdom)\n",
      "Pesticide\n",
      "Somerset\n",
      "Yale_University\n",
      "Late_Middle_Ages\n",
      "Ann_Arbor,_Michigan\n",
      "Gothic_architecture\n",
      "Cubism\n",
      "Political_philosophy\n",
      "Alloy\n",
      "Norfolk_Island\n",
      "Edmund_Burke\n",
      "Samoa\n",
      "Pope_Paul_VI\n",
      "Electric_motor\n",
      "Switzerland\n",
      "Mali\n",
      "Raleigh,_North_Carolina\n",
      "Nutrition\n",
      "Crimean_War\n",
      "Nonprofit_organization\n",
      "Literature\n",
      "Avicenna\n",
      "Chinese_characters\n",
      "Bermuda\n",
      "Nigeria\n",
      "Utrecht\n",
      "Molotov%E2%80%93Ribbentrop_Pact\n",
      "Capacitor\n",
      "History_of_science\n",
      "Digimon\n",
      "Glacier\n",
      "Comcast\n",
      "Tuberculosis\n",
      "Affirmative_action_in_the_United_States\n",
      "FA_Cup\n",
      "New_Haven,_Connecticut\n",
      "Alsace\n",
      "Carnival\n",
      "Baptists\n",
      "Child_labour\n",
      "North_Carolina\n",
      "Heian_period\n",
      "On_the_Origin_of_Species\n",
      "Dissolution_of_the_Soviet_Union\n",
      "Crucifixion_of_Jesus\n",
      "Supreme_court\n",
      "Textual_criticism\n",
      "Gramophone_record\n",
      "Turner_Classic_Movies\n",
      "Hindu_philosophy\n",
      "Political_party\n",
      "A_cappella\n",
      "Dominican_Order\n",
      "Eton_College\n",
      "Cork_(city)\n",
      "Galicia_(Spain)\n",
      "USB\n",
      "Sichuan\n",
      "Unicode\n",
      "Detroit\n",
      "London\n",
      "Culture\n",
      "Sahara\n",
      "Rule_of_law\n",
      "Tibet\n",
      "Exhibition_game\n",
      "Northwestern_University\n",
      "Strasbourg\n",
      "Oklahoma\n",
      "History_of_India\n",
      "Gamal_Abdel_Nasser\n",
      "Pope_John_XXIII\n",
      "Time\n",
      "European_Central_Bank\n",
      "St._John%27s,_Newfoundland_and_Labrador\n",
      "John_von_Neumann\n",
      "PlayStation_3\n",
      "Royal_assent\n",
      "Group_(mathematics)\n",
      "Central_African_Republic\n",
      "Asthma\n",
      "LaserDisc\n",
      "George_VI\n",
      "Federalism\n",
      "Annelid\n",
      "God\n",
      "War_on_Terror\n",
      "Labour_Party_(UK)\n",
      "Estonia\n",
      "Alaska\n",
      "Karl_Popper\n",
      "Mandolin\n",
      "Insect\n",
      "Race_(human_categorization)\n",
      "Paris\n",
      "Apollo\n",
      "United_States_presidential_election,_2004\n",
      "Liberal_Party_of_Australia\n",
      "Samurai\n",
      "Software_testing\n",
      "States_of_Germany\n",
      "Glass\n",
      "Planck_constant\n",
      "Renewable_energy_commercialization\n",
      "Palermo\n",
      "Green\n",
      "Zinc\n",
      "Neoclassical_architecture\n",
      "Serbo-Croatian\n",
      "CBC_Television\n",
      "Appalachian_Mountains\n",
      "IBM\n",
      "Energy\n",
      "East_Prussia\n",
      "Ottoman_Empire\n",
      "Philosophy_of_space_and_time\n",
      "Neolithic\n",
      "Friedrich_Hayek\n",
      "Diarrhea\n",
      "Madrasa\n",
      "Miami\n",
      "Philadelphia\n",
      "John_Kerry\n",
      "Rajasthan\n",
      "Guam\n",
      "Empiricism\n",
      "Idealism\n",
      "Czech_language\n",
      "Education\n",
      "Tennessee\n",
      "Post-punk\n",
      "Canadian_football\n",
      "Seven_Years%27_War\n",
      "Richard_Feynman\n",
      "Muammar_Gaddafi\n",
      "Cyprus\n",
      "Steven_Spielberg\n",
      "Elevator\n",
      "Neptune\n",
      "Railway_electrification_system\n",
      "Spanish_language_in_the_United_States\n",
      "Charleston,_South_Carolina\n",
      "The_Blitz\n",
      "Endangered_Species_Act\n",
      "Vacuum\n",
      "Han_dynasty\n",
      "Quran\n",
      "Geography_of_the_United_States\n",
      "Compact_disc\n",
      "Transistor\n",
      "Modern_history\n",
      "51st_state\n",
      "Antenna_(radio)\n",
      "Flowering_plant\n",
      "Hyderabad\n",
      "Santa_Monica,_California\n",
      "Washington_University_in_St._Louis\n",
      "Central_Intelligence_Agency\n",
      "Pain\n",
      "Database\n",
      "Tucson,_Arizona\n",
      "Armenia\n",
      "Bacteria\n",
      "Printed_circuit_board\n",
      "Greeks\n",
      "Premier_League\n",
      "Roman_Republic\n",
      "Pacific_War\n",
      "San_Diego\n",
      "Muslim_world\n",
      "Iran\n",
      "British_Isles\n",
      "Association_football\n",
      "Georgian_architecture\n",
      "Liberia\n",
      "Alfred_North_Whitehead\n",
      "Antibiotics\n",
      "Windows_8\n",
      "Swaziland\n",
      "Translation\n",
      "Airport\n",
      "Kievan_Rus%27\n",
      "Super_Nintendo_Entertainment_System\n",
      "Sumer\n",
      "Tuvalu\n",
      "Immaculate_Conception\n",
      "Namibia\n",
      "Russian_language\n",
      "United_States_Air_Force\n",
      "Light-emitting_diode\n",
      "Great_power\n",
      "Bird\n",
      "Qing_dynasty\n",
      "Indigenous_peoples_of_the_Americas\n",
      "Red\n",
      "Egypt\n",
      "Mosaic\n",
      "University\n",
      "Religion_in_ancient_Rome\n",
      "YouTube\n",
      "Separation_of_church_and_state_in_the_United_States\n",
      "Protestantism\n",
      "Bras%C3%ADlia\n",
      "Economy_of_Greece\n",
      "Party_leaders_of_the_United_States_House_of_Representatives\n",
      "Armenians\n",
      "Jehovah%27s_Witnesses\n",
      "Dwight_D._Eisenhower\n",
      "The_Bronx\n",
      "Financial_crisis_of_2007%E2%80%9308\n",
      "Portugal\n",
      "Humanism\n",
      "Geological_history_of_Earth\n",
      "Police\n",
      "Genocide\n",
      "Saint_Barth%C3%A9lemy\n",
      "Tajikistan\n",
      "University_of_Notre_Dame\n",
      "Anthropology\n",
      "Montana\n",
      "Punjab,_Pakistan\n",
      "Richmond,_Virginia\n",
      "Infection\n",
      "Hunting\n",
      "Kathmandu\n",
      "Myocardial_infarction\n",
      "Matter\n"
     ]
    }
   ],
   "source": [
    "# List all article titles\n",
    "print (\"Narticles = \" +  str(Narticles)) \n",
    "for ind in range(Narticles):\n",
    "    art = arts[ind]\n",
    "    print(art['title'])"
   ]
  },
  {
   "cell_type": "markdown",
   "metadata": {},
   "source": [
    "Now explore an individual article\n",
    "==="
   ]
  },
  {
   "cell_type": "code",
   "execution_count": 30,
   "metadata": {},
   "outputs": [
    {
     "name": "stdout",
     "output_type": "stream",
     "text": [
      "Genome\n"
     ]
    }
   ],
   "source": [
    "\n",
    "art = arts[15]\n",
    "print(art['title'])\n"
   ]
  },
  {
   "cell_type": "code",
   "execution_count": 138,
   "metadata": {},
   "outputs": [
    {
     "name": "stdout",
     "output_type": "stream",
     "text": [
      "Nparagraphs: 25\n"
     ]
    }
   ],
   "source": [
    "i_para = 0\n",
    "paragraphs = art['paragraphs']\n",
    "Npara = len(paragraphs)\n",
    "paragraph = paragraphs[0]\n",
    "#print(paragraph.keys())\n",
    "print(\"Nparagraphs: \" + str(Npara))"
   ]
  },
  {
   "cell_type": "code",
   "execution_count": 139,
   "metadata": {},
   "outputs": [
    {
     "name": "stdout",
     "output_type": "stream",
     "text": [
      "PARAGRAPH 0: In modern molecular biology and genetics, the genome is the genetic material of an organism. It consists of DNA (or RNA in RNA viruses). The genome includes both the genes and the non-coding sequences of the DNA/RNA.\n"
     ]
    }
   ],
   "source": [
    "context = paragraph['context']\n",
    "print(\"PARAGRAPH \" + str(i_para) + \": \" + context)"
   ]
  },
  {
   "cell_type": "code",
   "execution_count": 140,
   "metadata": {},
   "outputs": [
    {
     "name": "stdout",
     "output_type": "stream",
     "text": [
      "Number of questions: 8\n"
     ]
    }
   ],
   "source": [
    "qs = paragraph['qas']\n",
    "Nquestions = len(qs)\n",
    "print(\"Number of questions: \" + str(Nquestions))\n"
   ]
  },
  {
   "cell_type": "code",
   "execution_count": 149,
   "metadata": {},
   "outputs": [
    {
     "name": "stdout",
     "output_type": "stream",
     "text": [
      "QUESTION: 0\n",
      "{'question': 'In what fields of science is the genome studied?', 'id': '56dc544814d3a41400c267bf', 'answers': [{'text': 'molecular biology and genetics', 'answer_start': 10}], 'is_impossible': False}\n"
     ]
    }
   ],
   "source": [
    "i_question = 0\n",
    "q = qs[i_question]\n",
    "print(\"QUESTION: \" + str(i_question))\n",
    "print(q)\n"
   ]
  },
  {
   "cell_type": "code",
   "execution_count": 150,
   "metadata": {},
   "outputs": [
    {
     "name": "stdout",
     "output_type": "stream",
     "text": [
      "Number of answers 1\n"
     ]
    }
   ],
   "source": [
    "qas = q['answers']\n",
    "Nanswers = len(qas)\n",
    "print(\"Number of answers \" + str(Nanswers))"
   ]
  },
  {
   "cell_type": "code",
   "execution_count": 151,
   "metadata": {},
   "outputs": [
    {
     "name": "stdout",
     "output_type": "stream",
     "text": [
      "{'text': 'molecular biology and genetics', 'answer_start': 10}\n"
     ]
    }
   ],
   "source": [
    "i_answer = 0\n",
    "qa = qas[i_answer]\n",
    "print(qa)"
   ]
  },
  {
   "cell_type": "code",
   "execution_count": 152,
   "metadata": {},
   "outputs": [
    {
     "name": "stdout",
     "output_type": "stream",
     "text": [
      "CONTEXT\n",
      "In modern molecular biology and genetics, the genome is the genetic material of an organism. It consists of DNA (or RNA in RNA viruses). The genome includes both the genes and the non-coding sequences of the DNA/RNA.\n",
      "\n",
      "QUESTION\n",
      "{'question': 'In what fields of science is the genome studied?', 'id': '56dc544814d3a41400c267bf', 'answers': [{'text': 'molecular biology and genetics', 'answer_start': 10}], 'is_impossible': False}\n",
      "\n",
      "ANSWER\n",
      "Starting position 10\n",
      "molecular biology and genetics, the genome is the genetic material of an organism. It consists of DNA (or RNA in RNA viruses). The genome includes both the genes and the non-coding sequences of the DNA/RNA.\n"
     ]
    }
   ],
   "source": [
    "print('CONTEXT')\n",
    "print(context)\n",
    "print('\\nQUESTION')\n",
    "print(q)\n",
    "print('\\nANSWER')\n",
    "answer_start = qa['answer_start']\n",
    "print(\"Starting position \" + str(answer_start))\n",
    "#print()\n",
    "print(context[answer_start:])\n"
   ]
  },
  {
   "cell_type": "markdown",
   "metadata": {},
   "source": [
    "\n"
   ]
  },
  {
   "cell_type": "markdown",
   "metadata": {},
   "source": []
  },
  {
   "cell_type": "markdown",
   "metadata": {},
   "source": [
    "Now want to ID sentence numbers associated with each question\n",
    "--"
   ]
  },
  {
   "cell_type": "code",
   "execution_count": 183,
   "metadata": {},
   "outputs": [],
   "source": [
    "import nltk\n",
    "from nltk.tokenize import sent_tokenize\n",
    "sentences = sent_tokenize(context)\n",
    "Nsent = len(sentences)"
   ]
  },
  {
   "cell_type": "code",
   "execution_count": 182,
   "metadata": {},
   "outputs": [
    {
     "name": "stdout",
     "output_type": "stream",
     "text": [
      "In modern molecular biology and genetics, the genome is the genetic material of an organism. It consists of DNA (or RNA in RNA viruses). The genome includes both the genes and the non-coding sequences of the DNA/RNA.\n",
      "\n",
      "In modern molecular biology and genetics, the genome is the genetic material of an organism.\n"
     ]
    }
   ],
   "source": [
    "print(context + \"\\n\")\n",
    "print(sentences[0])"
   ]
  },
  {
   "cell_type": "code",
   "execution_count": 180,
   "metadata": {},
   "outputs": [
    {
     "data": {
      "text/plain": [
       "'The genome includes both the genes and the non-coding sequences of the DNA/RNA.'"
      ]
     },
     "execution_count": 180,
     "metadata": {},
     "output_type": "execute_result"
    }
   ],
   "source": [
    "context[context.find(sentences[2]):]"
   ]
  },
  {
   "cell_type": "code",
   "execution_count": 191,
   "metadata": {},
   "outputs": [],
   "source": [
    "# Build list of sentence indices\n",
    "curr = 0\n",
    "sstart = list()\n",
    "sstop = list()\n",
    "for i in range(Nsent):\n",
    "    sstart.append(curr)\n",
    "    sstop.append(curr + len(sentences[i]))\n",
    "    curr = sstop[i] + 1\n"
   ]
  },
  {
   "cell_type": "code",
   "execution_count": 195,
   "metadata": {},
   "outputs": [
    {
     "name": "stdout",
     "output_type": "stream",
     "text": [
      "In modern molecular biology and genetics, the genome is the genetic material of an organism.\n",
      "It consists of DNA (or RNA in RNA viruses).\n",
      "The genome includes both the genes and the non-coding sequences of the DNA/RNA.\n"
     ]
    }
   ],
   "source": [
    "# Test that it worked\n",
    "i=0; print(context[sstart[i]:sstop[i]])\n",
    "i=1; print(context[sstart[i]:sstop[i]])\n",
    "i=2; print(context[sstart[i]:sstop[i]])"
   ]
  },
  {
   "cell_type": "code",
   "execution_count": 251,
   "metadata": {},
   "outputs": [],
   "source": [
    "# Add entry to answer describing which question in context it's associated with\n",
    "Nquestions = len(qs)\n",
    "for i in range(Nquestions):\n",
    "    Nanswers = len(qs[i]['answers'])\n",
    "    for j in range(Nanswers):\n",
    "        for k in range(len(sstart)):\n",
    "            if sstart[k] <= qs[i]['answers'][j]['answer_start'] <= sstop[k]:\n",
    "                qs[i]['answers'][j]['sentence_num'] = k\n",
    "                break\n",
    "    \n",
    "        \n"
   ]
  },
  {
   "cell_type": "code",
   "execution_count": 292,
   "metadata": {},
   "outputs": [
    {
     "name": "stdout",
     "output_type": "stream",
     "text": [
      "In modern molecular biology and genetics, the genome is the genetic material of an organism. It consists of DNA (or RNA in RNA viruses). The genome includes both the genes and the non-coding sequences of the DNA/RNA.\n",
      "\n",
      "\n",
      "{'question': 'What constitutes the viral genome?', 'id': '56dc544814d3a41400c267c1', 'answers': [{'text': 'RNA', 'answer_start': 116, 'sentence_num': 1}], 'is_impossible': False}\n",
      "\n",
      "\n",
      "Predicted sentence: It consists of DNA (or RNA in RNA viruses).\n",
      "Actual sentence tail: RNA in RNA viruses).\n"
     ]
    }
   ],
   "source": [
    "# Test that it works\n",
    "print(context); print('\\n')\n",
    "qnum = 2\n",
    "print(qs[qnum]); print('\\n')\n",
    "\n",
    "def print_question_context(q):\n",
    "    if not q['is_impossible']:\n",
    "        sentence_num = q['answers'][0]['sentence_num']\n",
    "        char_start = q['answers'][0]['answer_start']\n",
    "        print(\"Predicted sentence: \" + sentences[sentence_num])\n",
    "        print(\"Actual sentence tail: \" + sent_tokenize(context[char_start:])[0])\n",
    "\n",
    "print_question_context(qs[qnum])\n",
    "\n"
   ]
  },
  {
   "cell_type": "code",
   "execution_count": 286,
   "metadata": {},
   "outputs": [],
   "source": [
    "# Now start building a list of questions for each sentence\n",
    "\n",
    "# For creating a list of lists (https://stackoverflow.com/questions/5518435/python-fastest-way-to-create-a-list-of-n-lists)\n",
    "from itertools import repeat\n",
    "\n",
    "# Create empty list of lenght Nsentences\n",
    "Nsentences = len(sentences)\n",
    "sentences_questions = [[] for i in repeat(None, Nsentences)]\n",
    "\n",
    "\n",
    "# Pipe the questions appropriately\n",
    "for q in qs:\n",
    "    for a in q['answers']:\n",
    "        sentences_questions[a['sentence_num']].append(q)\n"
   ]
  },
  {
   "cell_type": "code",
   "execution_count": 287,
   "metadata": {},
   "outputs": [
    {
     "data": {
      "text/plain": [
       "[[{'question': 'In what fields of science is the genome studied?',\n",
       "   'id': '56dc544814d3a41400c267bf',\n",
       "   'answers': [{'text': 'molecular biology and genetics',\n",
       "     'answer_start': 10,\n",
       "     'sentence_num': 0}],\n",
       "   'is_impossible': False}],\n",
       " [{'question': 'What is the content of the human genome?',\n",
       "   'id': '56dc544814d3a41400c267c0',\n",
       "   'answers': [{'text': 'DNA', 'answer_start': 108, 'sentence_num': 1}],\n",
       "   'is_impossible': False},\n",
       "  {'question': 'What constitutes the viral genome?',\n",
       "   'id': '56dc544814d3a41400c267c1',\n",
       "   'answers': [{'text': 'RNA', 'answer_start': 116, 'sentence_num': 1}],\n",
       "   'is_impossible': False}],\n",
       " []]"
      ]
     },
     "execution_count": 287,
     "metadata": {},
     "output_type": "execute_result"
    }
   ],
   "source": [
    "sentences_questions"
   ]
  },
  {
   "cell_type": "code",
   "execution_count": 302,
   "metadata": {},
   "outputs": [],
   "source": [
    "# Build a list for each sentence containing ONLY the number of answers\n",
    "\n",
    "# Create empty list of lenght Nsentences\n",
    "Nsentences = len(sentences)\n",
    "sentences_Nquestions = [0] * Nsentences\n",
    "\n",
    "\n",
    "# Pipe the questions appropriately\n",
    "for q in qs:\n",
    "    for a in q['answers']:\n",
    "        sentences_Nquestions[a['sentence_num']] = sentences_Nquestions[a['sentence_num']] + 1\n"
   ]
  },
  {
   "cell_type": "code",
   "execution_count": 285,
   "metadata": {},
   "outputs": [
    {
     "name": "stdout",
     "output_type": "stream",
     "text": [
      "[1, 2, 0]\n"
     ]
    }
   ],
   "source": [
    "print(sentences_Nquestions)\n"
   ]
  },
  {
   "cell_type": "markdown",
   "metadata": {},
   "source": [
    "Put it all together - combine into single code block\n",
    "=="
   ]
  },
  {
   "cell_type": "code",
   "execution_count": 4,
   "metadata": {},
   "outputs": [
    {
     "name": "stdout",
     "output_type": "stream",
     "text": [
      "Narticles = 442\n",
      "Genome\n",
      "Nparagraphs: 25\n",
      "PARAGRAPH 9: Genome composition is used to describe the make up of contents of a haploid genome, which should include genome size, proportions of non-repetitive DNA and repetitive DNA in details. By comparing the genome compositions between genomes, scientists can better understand the evolutionary history of a given genome.\n",
      "Number of questions: 7\n",
      "[1, 1]\n"
     ]
    }
   ],
   "source": [
    "# All articles\n",
    "arts = data['data']\n",
    "Narticles = len(arts)\n",
    "print (\"Narticles = \" +  str(Narticles)) \n",
    "\n",
    "\n",
    "art = arts[15]\n",
    "print(art['title'])\n",
    "\n",
    "i_para = 9\n",
    "paragraphs = art['paragraphs']\n",
    "Npara = len(paragraphs)\n",
    "paragraph = paragraphs[i_para]\n",
    "#print(paragraph.keys())\n",
    "print(\"Nparagraphs: \" + str(Npara))\n",
    "\n",
    "context = paragraph['context']\n",
    "print(\"PARAGRAPH \" + str(i_para) + \": \" + context)\n",
    "\n",
    "qs = paragraph['qas']\n",
    "Nquestions = len(qs)\n",
    "print(\"Number of questions: \" + str(Nquestions))\n",
    "\n",
    "import nltk\n",
    "from nltk.tokenize import sent_tokenize\n",
    "sentences = sent_tokenize(context)\n",
    "Nsent = len(sentences)\n",
    "\n",
    "# Build list of sentence indices\n",
    "curr = 0\n",
    "sstart = list()\n",
    "sstop = list()\n",
    "for i in range(Nsent):\n",
    "    sstart.append(curr)\n",
    "    sstop.append(curr + len(sentences[i]))\n",
    "    curr = sstop[i] + 1\n",
    "\n",
    "\n",
    "# Add entry to answer describing which question in context its associated with\n",
    "Nquestions = len(qs)\n",
    "for i in range(Nquestions):\n",
    "    Nanswers = len(qs[i]['answers'])\n",
    "    for j in range(Nanswers):\n",
    "        for k in range(len(sstart)):\n",
    "            if sstart[k] <= qs[i]['answers'][j]['answer_start'] <= sstop[k]:\n",
    "                qs[i]['answers'][j]['sentence_num'] = k\n",
    "                break\n",
    "\n",
    "# Now start building a list of questions for each sentence\n",
    "\n",
    "# For creating a list of lists (https://stackoverflow.com/questions/5518435/python-fastest-way-to-create-a-list-of-n-lists)\n",
    "from itertools import repeat\n",
    "\n",
    "# Create empty list of lenght Nsentences\n",
    "Nsentences = len(sentences)\n",
    "sentences_questions = [[] for i in repeat(None, Nsentences)]\n",
    "\n",
    "\n",
    "# Pipe the questions appropriately\n",
    "for q in qs:\n",
    "    for a in q['answers']:\n",
    "        sentences_questions[a['sentence_num']].append(q)\n",
    "\n",
    "    \n",
    "# Build a list for each sentence containing ONLY the number of answers\n",
    "# Create empty list of lenght Nsentences\n",
    "Nsentences = len(sentences)\n",
    "sentences_Nquestions = [0] * Nsentences\n",
    "\n",
    "\n",
    "# Pipe the questions appropriately\n",
    "for q in qs:\n",
    "    for a in q['answers']:\n",
    "        sentences_Nquestions[a['sentence_num']] = sentences_Nquestions[a['sentence_num']] + 1\n",
    "\n",
    "#\n",
    "print(sentences_Nquestions)\n",
    "\n"
   ]
  },
  {
   "cell_type": "code",
   "execution_count": 308,
   "metadata": {},
   "outputs": [
    {
     "name": "stdout",
     "output_type": "stream",
     "text": [
      "[{'question': 'What is the science that deals with the common genetic characteristics of related organisms called?', 'id': '56dc561414d3a41400c267d3', 'answers': [{'text': 'genomics', 'answer_start': 656, 'sentence_num': 3}], 'is_impossible': False}, {'question': 'In contrast to genomics, genetics usually studies what?', 'id': '56dc561414d3a41400c267d4', 'answers': [{'text': 'single genes or groups of genes', 'answer_start': 745, 'sentence_num': 3}], 'is_impossible': False}]\n"
     ]
    }
   ],
   "source": [
    "print(sentences_questions[3])"
   ]
  },
  {
   "cell_type": "code",
   "execution_count": null,
   "metadata": {},
   "outputs": [],
   "source": []
  }
 ],
 "metadata": {
  "kernelspec": {
   "display_name": "Python 3",
   "language": "python",
   "name": "python3"
  },
  "language_info": {
   "codemirror_mode": {
    "name": "ipython",
    "version": 3
   },
   "file_extension": ".py",
   "mimetype": "text/x-python",
   "name": "python",
   "nbconvert_exporter": "python",
   "pygments_lexer": "ipython3",
   "version": "3.7.1"
  }
 },
 "nbformat": 4,
 "nbformat_minor": 2
}
