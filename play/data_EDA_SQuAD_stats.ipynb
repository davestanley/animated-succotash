{
 "cells": [
  {
   "cell_type": "code",
   "execution_count": 31,
   "metadata": {},
   "outputs": [],
   "source": [
    "# Set up and load data\n",
    "# Includes\n",
    "import sys\n",
    "import os\n",
    "import numpy as np\n",
    "import json\n",
    "\n",
    "# Import fig stuff\n",
    "import matplotlib.pyplot as plt\n",
    "from matplotlib.pyplot import figure\n",
    "\n",
    "\n",
    "# Setup paths containing utility\n",
    "curr_folder = os.getcwd()\n",
    "sys.path.insert(0, os.path.join(curr_folder,'../app'))\n",
    "\n",
    "# Import utils\n",
    "from utils_EDA import p_list_qas\n",
    "from utils import load_SQuAD_train\n",
    "from utils import load_SQuAD_dev\n",
    "from utils_EDAplots import plotbar_train_dev,plothist_train_dev\n",
    "\n",
    "# Load the training data\n",
    "arts_train = load_SQuAD_train()\n",
    "\n",
    "# Load the testing data\n",
    "arts_dev = load_SQuAD_dev()\n",
    "\n"
   ]
  },
  {
   "cell_type": "code",
   "execution_count": 32,
   "metadata": {},
   "outputs": [
    {
     "name": "stdout",
     "output_type": "stream",
     "text": [
      "Narticles in train = 442\n",
      "Narticles in dev = 35\n"
     ]
    }
   ],
   "source": [
    "# All articles\n",
    "Ntrain = len(arts_train)\n",
    "Ndev = len(arts_dev)\n",
    "print (\"Narticles in train = \" +  str(len(arts_train))) \n",
    "print (\"Narticles in dev = \" +  str(len(arts_dev))) "
   ]
  },
  {
   "cell_type": "code",
   "execution_count": 33,
   "metadata": {},
   "outputs": [
    {
     "name": "stdout",
     "output_type": "stream",
     "text": [
      "Narticles total = 477\n"
     ]
    }
   ],
   "source": [
    "# Merge arts together\n",
    "arts= arts_train + arts_dev\n",
    "Narticles = len(arts)\n",
    "print (\"Narticles total = \" +  str(len(arts))) "
   ]
  },
  {
   "cell_type": "code",
   "execution_count": 34,
   "metadata": {},
   "outputs": [
    {
     "data": {
      "text/plain": [
       "'The Normans (Norman: Nourmands; French: Normands; Latin: Normanni) were the people who in the 10th and 11th centuries gave their name to Normandy, a region in France. They were descended from Norse (\"Norman\" comes from \"Norseman\") raiders and pirates from Denmark, Iceland and Norway who, under their leader Rollo, agreed to swear fealty to King Charles III of West Francia. Through generations of assimilation and mixing with the native Frankish and Roman-Gaulish populations, their descendants would gradually merge with the Carolingian-based cultures of West Francia. The distinct cultural and ethnic identity of the Normans emerged initially in the first half of the 10th century, and it continued to evolve over the succeeding centuries.'"
      ]
     },
     "execution_count": 34,
     "metadata": {},
     "output_type": "execute_result"
    }
   ],
   "source": [
    "arts_dev[0]['paragraphs'][0]['context']"
   ]
  },
  {
   "cell_type": "code",
   "execution_count": 35,
   "metadata": {},
   "outputs": [
    {
     "name": "stdout",
     "output_type": "stream",
     "text": [
      "[[{'question': 'In what country is Normandy located?', 'id': '56ddde6b9a695914005b9628', 'answers': [{'text': 'France', 'answer_start': 159}, {'text': 'France', 'answer_start': 159}, {'text': 'France', 'answer_start': 159}, {'text': 'France', 'answer_start': 159}], 'is_impossible': False}, {'question': 'When were the Normans in Normandy?', 'id': '56ddde6b9a695914005b9629', 'answers': [{'text': '10th and 11th centuries', 'answer_start': 94}, {'text': 'in the 10th and 11th centuries', 'answer_start': 87}, {'text': '10th and 11th centuries', 'answer_start': 94}, {'text': '10th and 11th centuries', 'answer_start': 94}], 'is_impossible': False}, {'question': 'From which countries did the Norse originate?', 'id': '56ddde6b9a695914005b962a', 'answers': [{'text': 'Denmark, Iceland and Norway', 'answer_start': 256}, {'text': 'Denmark, Iceland and Norway', 'answer_start': 256}, {'text': 'Denmark, Iceland and Norway', 'answer_start': 256}, {'text': 'Denmark, Iceland and Norway', 'answer_start': 256}], 'is_impossible': False}, {'question': 'Who was the Norse leader?', 'id': '56ddde6b9a695914005b962b', 'answers': [{'text': 'Rollo', 'answer_start': 308}, {'text': 'Rollo', 'answer_start': 308}, {'text': 'Rollo', 'answer_start': 308}, {'text': 'Rollo', 'answer_start': 308}], 'is_impossible': False}, {'question': 'What century did the Normans first gain their separate identity?', 'id': '56ddde6b9a695914005b962c', 'answers': [{'text': '10th century', 'answer_start': 671}, {'text': 'the first half of the 10th century', 'answer_start': 649}, {'text': '10th', 'answer_start': 671}, {'text': '10th', 'answer_start': 671}], 'is_impossible': False}, {'plausible_answers': [{'text': 'Normans', 'answer_start': 4}], 'question': \"Who gave their name to Normandy in the 1000's and 1100's\", 'id': '5ad39d53604f3c001a3fe8d1', 'answers': [], 'is_impossible': True}, {'plausible_answers': [{'text': 'Normandy', 'answer_start': 137}], 'question': 'What is France a region of?', 'id': '5ad39d53604f3c001a3fe8d2', 'answers': [], 'is_impossible': True}, {'plausible_answers': [{'text': 'Rollo', 'answer_start': 308}], 'question': 'Who did King Charles III swear fealty to?', 'id': '5ad39d53604f3c001a3fe8d3', 'answers': [], 'is_impossible': True}, {'plausible_answers': [{'text': '10th century', 'answer_start': 671}], 'question': 'When did the Frankish identity emerge?', 'id': '5ad39d53604f3c001a3fe8d4', 'answers': [], 'is_impossible': True}]]\n"
     ]
    }
   ],
   "source": [
    "print([arts_dev[0]['paragraphs'][0]['qas']])"
   ]
  },
  {
   "cell_type": "code",
   "execution_count": 36,
   "metadata": {},
   "outputs": [
    {
     "data": {
      "text/plain": [
       "False"
      ]
     },
     "execution_count": 36,
     "metadata": {},
     "output_type": "execute_result"
    }
   ],
   "source": [
    "\n",
    "arts[0]['paragraphs'][0]['qas'][0]['answers']\n",
    "arts[0]['paragraphs'][0]['qas'][0]['is_impossible']"
   ]
  },
  {
   "cell_type": "code",
   "execution_count": 37,
   "metadata": {},
   "outputs": [
    {
     "name": "stdout",
     "output_type": "stream",
     "text": [
      "Beyoncé Giselle Knowles-Carter (/biːˈjɒnseɪ/ bee-YON-say) (born September 4, 1981) is an American singer, songwriter, record producer and actress. Born and raised in Houston, Texas, she performed in various singing and dancing competitions as a child, and rose to fame in the late 1990s as lead singer of R&B girl-group Destiny's Child. Managed by her father, Mathew Knowles, the group became one of the world's best-selling girl groups of all time. Their hiatus saw the release of Beyoncé's debut album, Dangerously in Love (2003), which established her as a solo artist worldwide, earned five Grammy Awards and featured the Billboard Hot 100 number-one singles \"Crazy in Love\" and \"Baby Boy\".\n"
     ]
    }
   ],
   "source": [
    "context = arts[0]['paragraphs'][0]['context']\n",
    "print(context)"
   ]
  },
  {
   "cell_type": "code",
   "execution_count": 38,
   "metadata": {
    "scrolled": false
   },
   "outputs": [],
   "source": [
    "art = arts[:]\n",
    "# for a in art:\n",
    "#     for p in a['paragraphs']:\n",
    "#         print(p['context'] + '\\n')"
   ]
  },
  {
   "cell_type": "markdown",
   "metadata": {},
   "source": [
    "# Do some basic plots of article stats only"
   ]
  },
  {
   "cell_type": "markdown",
   "metadata": {},
   "source": [
    "## Words per paragraph"
   ]
  },
  {
   "cell_type": "code",
   "execution_count": 29,
   "metadata": {},
   "outputs": [
    {
     "data": {
      "image/png": "[encoded data removed]",
      "text/plain": [
       "<Figure size 640x320 with 1 Axes>"
      ]
     },
     "metadata": {},
     "output_type": "display_data"
    },
    {
     "data": {
      "image/png": "[encoded data removed]",
      "text/plain": [
       "<Figure size 432x288 with 1 Axes>"
      ]
     },
     "metadata": {
      "needs_background": "light"
     },
     "output_type": "display_data"
    }
   ],
   "source": [
    "# Words per paragraph\n",
    "a = art[0]\n",
    "pwords = [len(p['context'].split()) for p in a['paragraphs']]\n",
    "\n",
    "figure(num=None, figsize=(8, 4), dpi=80, facecolor='w', edgecolor='k')\n",
    "plt.bar(range(len(pwords)), pwords, align='center', alpha=0.5)\n",
    "plt.xlabel('Paragraph #')\n",
    "plt.ylabel('# Words')\n",
    "plt.show()\n",
    "\n",
    "plt.hist(pwords, bins=30)  # arguments are passed to np.histogram\n",
    "plt.title(\"Hist of words per paragraph\")\n",
    "plt.ylabel('# Paragraphs')\n",
    "plt.show()\n",
    "\n"
   ]
  },
  {
   "cell_type": "markdown",
   "metadata": {},
   "source": [
    "## Words per article"
   ]
  },
  {
   "cell_type": "code",
   "execution_count": 39,
   "metadata": {},
   "outputs": [],
   "source": [
    "\n",
    "awords = []\n",
    "for a in art:\n",
    "    pwords = [len(p['context'].split()) for p in a['paragraphs']]\n",
    "    awords.append(sum(pwords))\n"
   ]
  },
  {
   "cell_type": "code",
   "execution_count": 40,
   "metadata": {},
   "outputs": [
    {
     "data": {
      "image/png": "[encoded data removed]",
      "text/plain": [
       "<Figure size 1080x288 with 1 Axes>"
      ]
     },
     "metadata": {},
     "output_type": "display_data"
    }
   ],
   "source": [
    "\n",
    "myvar = awords\n",
    "varname = '# words'\n",
    "\n",
    "# Plot bargraph\n",
    "plotbar_train_dev(myvar,Ntrain,Ndev,varname,xlabel='Article #')"
   ]
  },
  {
   "cell_type": "code",
   "execution_count": 41,
   "metadata": {},
   "outputs": [
    {
     "data": {
      "image/png": "[encoded data removed]",
      "text/plain": [
       "<Figure size 1080x288 with 2 Axes>"
      ]
     },
     "metadata": {
      "needs_background": "light"
     },
     "output_type": "display_data"
    }
   ],
   "source": [
    "\n",
    "# Plot histogram\n",
    "plothist_train_dev(myvar,Ntrain,Ndev,varname,ylabel='N Articles')"
   ]
  },
  {
   "cell_type": "markdown",
   "metadata": {},
   "source": [
    "Print words per article"
   ]
  },
  {
   "cell_type": "code",
   "execution_count": 10,
   "metadata": {},
   "outputs": [
    {
     "name": "stdout",
     "output_type": "stream",
     "text": [
      "Article # 0: Beyoncé, 9099 words.\n",
      "Article # 1: Frédéric_Chopin, 9050 words.\n",
      "Article # 2: Sino-Tibetan_relations_during_the_Ming_dynasty, 9591 words.\n",
      "Article # 3: IPod, 5236 words.\n",
      "Article # 4: The_Legend_of_Zelda:_Twilight_Princess, 3966 words.\n",
      "Article # 5: Spectre_(2015_film), 5113 words.\n",
      "Article # 6: 2008_Sichuan_earthquake, 7037 words.\n",
      "Article # 7: New_York_City, 14934 words.\n",
      "Article # 8: To_Kill_a_Mockingbird, 8908 words.\n",
      "Article # 9: Solar_energy, 4938 words.\n",
      "Article # 10: Kanye_West, 10883 words.\n",
      "Article # 11: Buddhism, 11834 words.\n",
      "Article # 12: American_Idol, 11605 words.\n",
      "Article # 13: Dog, 6557 words.\n",
      "Article # 14: 2008_Summer_Olympics_torch_relay, 9754 words.\n",
      "Article # 15: Genome, 1771 words.\n",
      "Article # 16: Comprehensive_school, 2247 words.\n",
      "Article # 17: Republic_of_the_Congo, 2879 words.\n",
      "Article # 18: Prime_minister, 2578 words.\n",
      "Article # 19: Institute_of_technology, 5388 words.\n",
      "Article # 20: Wayback_Machine, 1908 words.\n",
      "Article # 21: Dutch_Republic, 1565 words.\n",
      "Article # 22: Symbiosis, 2066 words.\n",
      "Article # 23: Canadian_Armed_Forces, 4180 words.\n",
      "Article # 24: Cardinal_(Catholicism), 4241 words.\n",
      "Article # 25: Iranian_languages, 1830 words.\n",
      "Article # 26: Lighting, 4682 words.\n",
      "Article # 27: Separation_of_powers_under_the_United_States_Constitution, 3048 words.\n",
      "Article # 28: Architecture, 2762 words.\n",
      "Article # 29: Human_Development_Index, 2159 words.\n",
      "Article # 30: Southern_Europe, 1663 words.\n",
      "Article # 31: BBC_Television, 2344 words.\n",
      "Article # 32: Arnold_Schwarzenegger, 8837 words.\n",
      "Article # 33: Plymouth, 7591 words.\n",
      "Article # 34: Heresy, 2530 words.\n",
      "Article # 35: Warsaw_Pact, 2126 words.\n",
      "Article # 36: Materialism, 2369 words.\n",
      "Article # 37: Christian, 1970 words.\n",
      "Article # 38: Sony_Music_Entertainment, 2232 words.\n",
      "Article # 39: Oklahoma_City, 6709 words.\n",
      "Article # 40: Hunter-gatherer, 2544 words.\n",
      "Article # 41: United_Nations_Population_Fund, 1413 words.\n",
      "Article # 42: Russian_Soviet_Federative_Socialist_Republic, 2299 words.\n",
      "Article # 43: Alexander_Graham_Bell, 8675 words.\n",
      "Article # 44: Pub, 7950 words.\n",
      "Article # 45: Internet_service_provider, 1324 words.\n",
      "Article # 46: Comics, 3538 words.\n",
      "Article # 47: Saint_Helena, 5901 words.\n",
      "Article # 48: Aspirated_consonant, 1643 words.\n",
      "Article # 49: Hydrogen, 5007 words.\n",
      "Article # 50: Space_Race, 8179 words.\n",
      "Article # 51: Web_browser, 1601 words.\n",
      "Article # 52: BeiDou_Navigation_Satellite_System, 2206 words.\n",
      "Article # 53: Canon_law, 1677 words.\n",
      "Article # 54: Communications_in_Somalia, 2236 words.\n",
      "Article # 55: Catalan_language, 4363 words.\n",
      "Article # 56: Boston, 8404 words.\n",
      "Article # 57: Universal_Studios, 4323 words.\n",
      "Article # 58: Estonian_language, 2059 words.\n",
      "Article # 59: Paper, 2304 words.\n",
      "Article # 60: Adult_contemporary_music, 4190 words.\n",
      "Article # 61: Daylight_saving_time, 5943 words.\n",
      "Article # 62: Royal_Institute_of_British_Architects, 2002 words.\n",
      "Article # 63: National_Archives_and_Records_Administration, 1736 words.\n",
      "Article # 64: Tristan_da_Cunha, 2588 words.\n",
      "Article # 65: University_of_Kansas, 2640 words.\n",
      "Article # 66: Nanjing, 6694 words.\n",
      "Article # 67: Arena_Football_League, 5424 words.\n",
      "Article # 68: Dialect, 4137 words.\n",
      "Article # 69: Bern, 3565 words.\n",
      "Article # 70: Westminster_Abbey, 3717 words.\n",
      "Article # 71: Political_corruption, 4698 words.\n",
      "Article # 72: Classical_music, 6698 words.\n",
      "Article # 73: Slavs, 4231 words.\n",
      "Article # 74: Southampton, 7579 words.\n",
      "Article # 75: Treaty, 4266 words.\n",
      "Article # 76: Josip_Broz_Tito, 7671 words.\n",
      "Article # 77: Marshall_Islands, 4027 words.\n",
      "Article # 78: Szlachta, 5458 words.\n",
      "Article # 79: Virgil, 3309 words.\n",
      "Article # 80: Alps, 8455 words.\n",
      "Article # 81: Gene, 5413 words.\n",
      "Article # 82: Guinea-Bissau, 3008 words.\n",
      "Article # 83: List_of_numbered_streets_in_Manhattan, 3009 words.\n",
      "Article # 84: Brain, 7318 words.\n",
      "Article # 85: Near_East, 5751 words.\n",
      "Article # 86: Zhejiang, 4002 words.\n",
      "Article # 87: Ministry_of_Defence_(United_Kingdom), 2074 words.\n",
      "Article # 88: High-definition_television, 3522 words.\n",
      "Article # 89: Wood, 5455 words.\n",
      "Article # 90: Somalis, 6107 words.\n",
      "Article # 91: Middle_Ages, 14326 words.\n",
      "Article # 92: Phonology, 1920 words.\n",
      "Article # 93: Computer, 6718 words.\n",
      "Article # 94: Black_people, 5914 words.\n",
      "Article # 95: The_Times, 3632 words.\n",
      "Article # 96: New_Delhi, 4415 words.\n",
      "Article # 97: Bird_migration, 4445 words.\n",
      "Article # 98: Atlantic_City,_New_Jersey, 4574 words.\n",
      "Article # 99: Immunology, 1650 words.\n",
      "Article # 100: MP3, 5054 words.\n",
      "Article # 101: House_music, 4724 words.\n",
      "Article # 102: Letter_case, 1398 words.\n",
      "Article # 103: Chihuahua_(state), 10247 words.\n",
      "Article # 104: Imamah_(Shia_doctrine), 1755 words.\n",
      "Article # 105: Pitch_(music), 1282 words.\n",
      "Article # 106: England_national_football_team, 1285 words.\n",
      "Article # 107: Houston, 5909 words.\n",
      "Article # 108: Copper, 3645 words.\n",
      "Article # 109: Identity_(social_science), 3104 words.\n",
      "Article # 110: Himachal_Pradesh, 2840 words.\n",
      "Article # 111: Communication, 1596 words.\n",
      "Article # 112: Grape, 1165 words.\n",
      "Article # 113: Computer_security, 2737 words.\n",
      "Article # 114: Orthodox_Judaism, 3198 words.\n",
      "Article # 115: Animal, 1916 words.\n",
      "Article # 116: Beer, 4247 words.\n",
      "Article # 117: Race_and_ethnicity_in_the_United_States_Census, 1200 words.\n",
      "Article # 118: United_States_dollar, 4568 words.\n",
      "Article # 119: Imperial_College_London, 2787 words.\n",
      "Article # 120: Hanover, 2693 words.\n",
      "Article # 121: Emotion, 5829 words.\n",
      "Article # 122: Everton_F.C., 2690 words.\n",
      "Article # 123: Old_English, 2724 words.\n",
      "Article # 124: Aircraft_carrier, 4401 words.\n",
      "Article # 125: Federal_Aviation_Administration, 1490 words.\n",
      "Article # 126: Lancashire, 2454 words.\n",
      "Article # 127: Mesozoic, 1849 words.\n",
      "Article # 128: Videoconferencing, 2153 words.\n",
      "Article # 129: Gregorian_calendar, 2718 words.\n",
      "Article # 130: Xbox_360, 3711 words.\n",
      "Article # 131: Military_history_of_the_United_States, 5772 words.\n",
      "Article # 132: Hard_rock, 5206 words.\n",
      "Article # 133: Great_Plains, 1507 words.\n",
      "Article # 134: Infrared, 2158 words.\n",
      "Article # 135: Biodiversity, 3767 words.\n",
      "Article # 136: ASCII, 3274 words.\n",
      "Article # 137: Digestion, 2102 words.\n",
      "Article # 138: Gymnastics, 3002 words.\n",
      "Article # 139: FC_Barcelona, 6248 words.\n",
      "Article # 140: Federal_Bureau_of_Investigation, 5926 words.\n",
      "Article # 141: Mary_(mother_of_Jesus), 5025 words.\n",
      "Article # 142: Melbourne, 8157 words.\n",
      "Article # 143: John,_King_of_England, 12612 words.\n",
      "Article # 144: Macintosh, 7588 words.\n",
      "Article # 145: Anti-aircraft_warfare, 8170 words.\n",
      "Article # 146: Sanskrit, 2349 words.\n",
      "Article # 147: Valencia, 7233 words.\n",
      "Article # 148: General_Electric, 1716 words.\n",
      "Article # 149: United_States_Army, 4139 words.\n",
      "Article # 150: Franco-Prussian_War, 8010 words.\n",
      "Article # 151: Adolescence, 11952 words.\n",
      "Article # 152: Antarctica, 5505 words.\n",
      "Article # 153: Eritrea, 4395 words.\n",
      "Article # 154: Uranium, 5067 words.\n",
      "Article # 155: Order_of_the_British_Empire, 1408 words.\n",
      "Article # 156: Circadian_rhythm, 2505 words.\n",
      "Article # 157: Elizabeth_II, 5724 words.\n",
      "Article # 158: Sexual_orientation, 6692 words.\n",
      "Article # 159: Dell, 6122 words.\n",
      "Article # 160: Capital_punishment_in_the_United_States, 5957 words.\n",
      "Article # 161: Age_of_Enlightenment, 11174 words.\n",
      "Article # 162: Nintendo_Entertainment_System, 6088 words.\n",
      "Article # 163: Athanasius_of_Alexandria, 5126 words.\n",
      "Article # 164: Seattle, 7125 words.\n",
      "Article # 165: Memory, 4552 words.\n",
      "Article # 166: Multiracial_American, 5284 words.\n",
      "Article # 167: Ashkenazi_Jews, 6554 words.\n",
      "Article # 168: Pharmaceutical_industry, 5510 words.\n",
      "Article # 169: Umayyad_Caliphate, 5108 words.\n",
      "Article # 170: Asphalt, 4704 words.\n",
      "Article # 171: Queen_Victoria, 5891 words.\n",
      "Article # 172: Freemasonry, 4284 words.\n",
      "Article # 173: Israel, 13293 words.\n",
      "Article # 174: Hellenistic_period, 13458 words.\n",
      "Article # 175: Bill_%26_Melinda_Gates_Foundation, 2269 words.\n",
      "Article # 176: Montevideo, 8331 words.\n",
      "Article # 177: Poultry, 4244 words.\n",
      "Article # 178: Dutch_language, 5805 words.\n",
      "Article # 179: Buckingham_Palace, 3752 words.\n",
      "Article # 180: Incandescent_light_bulb, 5283 words.\n",
      "Article # 181: Arsenal_F.C., 4375 words.\n",
      "Article # 182: Clothing, 2043 words.\n",
      "Article # 183: Chicago_Cubs, 10084 words.\n",
      "Article # 184: Korean_War, 9524 words.\n",
      "Article # 185: Copyright_infringement, 4187 words.\n",
      "Article # 186: Greece, 10796 words.\n",
      "Article # 187: Royal_Dutch_Shell, 2786 words.\n",
      "Article # 188: Mammal, 3092 words.\n",
      "Article # 189: East_India_Company, 3285 words.\n",
      "Article # 190: Hokkien, 2435 words.\n",
      "Article # 191: Professional_wrestling, 7811 words.\n",
      "Article # 192: Film_speed, 2843 words.\n",
      "Article # 193: Mexico_City, 10126 words.\n",
      "Article # 194: Napoleon, 12440 words.\n",
      "Article # 195: Germans, 3783 words.\n",
      "Article # 196: Southeast_Asia, 3096 words.\n",
      "Article # 197: Brigham_Young_University, 5667 words.\n",
      "Article # 198: Department_store, 5260 words.\n",
      "Article # 199: Intellectual_property, 2555 words.\n",
      "Article # 200: Florida, 3893 words.\n",
      "Article # 201: Queen_(band), 8673 words.\n",
      "Article # 202: Presbyterianism, 4879 words.\n",
      "Article # 203: Thuringia, 3972 words.\n",
      "Article # 204: Predation, 3722 words.\n",
      "Article # 205: Marvel_Comics, 2703 words.\n",
      "Article # 206: British_Empire, 8923 words.\n",
      "Article # 207: Botany, 6768 words.\n",
      "Article # 208: Madonna_(entertainer), 11754 words.\n",
      "Article # 209: Law_of_the_United_States, 3260 words.\n",
      "Article # 210: Myanmar, 7764 words.\n",
      "Article # 211: Jews, 5125 words.\n",
      "Article # 212: Cotton, 4155 words.\n",
      "Article # 213: Data_compression, 2779 words.\n",
      "Article # 214: The_Sun_(United_Kingdom), 6112 words.\n",
      "Article # 215: Pesticide, 2899 words.\n",
      "Article # 216: Somerset, 5419 words.\n",
      "Article # 217: Yale_University, 6629 words.\n",
      "Article # 218: Late_Middle_Ages, 4283 words.\n",
      "Article # 219: Ann_Arbor,_Michigan, 4557 words.\n",
      "Article # 220: Gothic_architecture, 4633 words.\n",
      "Article # 221: Cubism, 5415 words.\n",
      "Article # 222: Political_philosophy, 3029 words.\n",
      "Article # 223: Alloy, 3383 words.\n",
      "Article # 224: Norfolk_Island, 3486 words.\n",
      "Article # 225: Edmund_Burke, 6063 words.\n",
      "Article # 226: Samoa, 2514 words.\n",
      "Article # 227: Pope_Paul_VI, 7248 words.\n",
      "Article # 228: Electric_motor, 5380 words.\n",
      "Article # 229: Switzerland, 8888 words.\n",
      "Article # 230: Mali, 2218 words.\n",
      "Article # 231: Raleigh,_North_Carolina, 3693 words.\n",
      "Article # 232: Nutrition, 7478 words.\n",
      "Article # 233: Crimean_War, 8037 words.\n",
      "Article # 234: Nonprofit_organization, 2926 words.\n",
      "Article # 235: Literature, 2792 words.\n",
      "Article # 236: Avicenna, 4641 words.\n",
      "Article # 237: Chinese_characters, 6799 words.\n",
      "Article # 238: Bermuda, 5800 words.\n",
      "Article # 239: Nigeria, 6126 words.\n",
      "Article # 240: Utrecht, 3375 words.\n",
      "Article # 241: Molotov%E2%80%93Ribbentrop_Pact, 5742 words.\n",
      "Article # 242: Capacitor, 4452 words.\n",
      "Article # 243: History_of_science, 8702 words.\n",
      "Article # 244: Digimon, 3981 words.\n",
      "Article # 245: Glacier, 2461 words.\n",
      "Article # 246: Comcast, 3435 words.\n",
      "Article # 247: Tuberculosis, 3617 words.\n",
      "Article # 248: Affirmative_action_in_the_United_States, 7387 words.\n",
      "Article # 249: FA_Cup, 4256 words.\n",
      "Article # 250: New_Haven,_Connecticut, 8003 words.\n",
      "Article # 251: Alsace, 4064 words.\n",
      "Article # 252: Carnival, 6382 words.\n",
      "Article # 253: Baptists, 2536 words.\n",
      "Article # 254: Child_labour, 7488 words.\n",
      "Article # 255: North_Carolina, 7415 words.\n",
      "Article # 256: Heian_period, 3088 words.\n",
      "Article # 257: On_the_Origin_of_Species, 8595 words.\n",
      "Article # 258: Dissolution_of_the_Soviet_Union, 8093 words.\n",
      "Article # 259: Crucifixion_of_Jesus, 3950 words.\n",
      "Article # 260: Supreme_court, 2976 words.\n",
      "Article # 261: Textual_criticism, 3804 words.\n",
      "Article # 262: Gramophone_record, 11653 words.\n",
      "Article # 263: Turner_Classic_Movies, 2583 words.\n",
      "Article # 264: Hindu_philosophy, 2721 words.\n",
      "Article # 265: Political_party, 3740 words.\n",
      "Article # 266: A_cappella, 3306 words.\n",
      "Article # 267: Dominican_Order, 5301 words.\n",
      "Article # 268: Eton_College, 5357 words.\n",
      "Article # 269: Cork_(city), 3526 words.\n",
      "Article # 270: Galicia_(Spain), 6521 words.\n",
      "Article # 271: USB, 6794 words.\n",
      "Article # 272: Sichuan, 2864 words.\n",
      "Article # 273: Unicode, 3773 words.\n",
      "Article # 274: Detroit, 8821 words.\n",
      "Article # 275: London, 8738 words.\n",
      "Article # 276: Culture, 3269 words.\n",
      "Article # 277: Sahara, 3812 words.\n",
      "Article # 278: Rule_of_law, 2696 words.\n",
      "Article # 279: Tibet, 4274 words.\n",
      "Article # 280: Exhibition_game, 2623 words.\n",
      "Article # 281: Northwestern_University, 6297 words.\n",
      "Article # 282: Strasbourg, 4772 words.\n",
      "Article # 283: Oklahoma, 6200 words.\n",
      "Article # 284: History_of_India, 11033 words.\n",
      "Article # 285: Gamal_Abdel_Nasser, 11234 words.\n",
      "Article # 286: Pope_John_XXIII, 3183 words.\n",
      "Article # 287: Time, 3769 words.\n",
      "Article # 288: European_Central_Bank, 3150 words.\n",
      "Article # 289: St._John%27s,_Newfoundland_and_Labrador, 3734 words.\n",
      "Article # 290: John_von_Neumann, 7633 words.\n",
      "Article # 291: PlayStation_3, 6096 words.\n",
      "Article # 292: Royal_assent, 5370 words.\n",
      "Article # 293: Group_(mathematics), 3674 words.\n",
      "Article # 294: Central_African_Republic, 2395 words.\n",
      "Article # 295: Asthma, 2441 words.\n",
      "Article # 296: LaserDisc, 6726 words.\n",
      "Article # 297: George_VI, 3249 words.\n",
      "Article # 298: Federalism, 4510 words.\n",
      "Article # 299: Annelid, 4890 words.\n",
      "Article # 300: God, 2945 words.\n",
      "Article # 301: War_on_Terror, 3892 words.\n",
      "Article # 302: Labour_Party_(UK), 4766 words.\n",
      "Article # 303: Estonia, 7568 words.\n",
      "Article # 304: Alaska, 4975 words.\n",
      "Article # 305: Karl_Popper, 5919 words.\n",
      "Article # 306: Mandolin, 5911 words.\n",
      "Article # 307: Insect, 8059 words.\n",
      "Article # 308: Race_(human_categorization), 8778 words.\n",
      "Article # 309: Paris, 11495 words.\n",
      "Article # 310: Apollo, 6369 words.\n",
      "Article # 311: United_States_presidential_election,_2004, 3422 words.\n",
      "Article # 312: Liberal_Party_of_Australia, 3486 words.\n",
      "Article # 313: Samurai, 6496 words.\n",
      "Article # 314: Software_testing, 3228 words.\n",
      "Article # 315: States_of_Germany, 2948 words.\n",
      "Article # 316: Glass, 3555 words.\n",
      "Article # 317: Planck_constant, 2827 words.\n",
      "Article # 318: Renewable_energy_commercialization, 4371 words.\n",
      "Article # 319: Palermo, 3142 words.\n",
      "Article # 320: Green, 3457 words.\n",
      "Article # 321: Zinc, 4206 words.\n",
      "Article # 322: Neoclassical_architecture, 2478 words.\n",
      "Article # 323: Serbo-Croatian, 3117 words.\n",
      "Article # 324: CBC_Television, 3136 words.\n",
      "Article # 325: Appalachian_Mountains, 4616 words.\n",
      "Article # 326: IBM, 2880 words.\n",
      "Article # 327: Energy, 4200 words.\n",
      "Article # 328: East_Prussia, 3168 words.\n",
      "Article # 329: Ottoman_Empire, 8729 words.\n",
      "Article # 330: Philosophy_of_space_and_time, 2921 words.\n",
      "Article # 331: Neolithic, 2757 words.\n",
      "Article # 332: Friedrich_Hayek, 5881 words.\n",
      "Article # 333: Diarrhea, 2485 words.\n",
      "Article # 334: Madrasa, 5610 words.\n",
      "Article # 335: Miami, 5495 words.\n",
      "Article # 336: Philadelphia, 7326 words.\n",
      "Article # 337: John_Kerry, 6760 words.\n",
      "Article # 338: Rajasthan, 3222 words.\n",
      "Article # 339: Guam, 4043 words.\n",
      "Article # 340: Empiricism, 3749 words.\n",
      "Article # 341: Idealism, 3691 words.\n",
      "Article # 342: Czech_language, 3047 words.\n",
      "Article # 343: Education, 3901 words.\n",
      "Article # 344: Tennessee, 5944 words.\n",
      "Article # 345: Post-punk, 2756 words.\n",
      "Article # 346: Canadian_football, 2929 words.\n",
      "Article # 347: Seven_Years%27_War, 8022 words.\n",
      "Article # 348: Richard_Feynman, 4027 words.\n",
      "Article # 349: Muammar_Gaddafi, 10957 words.\n",
      "Article # 350: Cyprus, 6882 words.\n",
      "Article # 351: Steven_Spielberg, 6576 words.\n",
      "Article # 352: Elevator, 6616 words.\n",
      "Article # 353: Neptune, 4369 words.\n",
      "Article # 354: Railway_electrification_system, 4927 words.\n",
      "Article # 355: Spanish_language_in_the_United_States, 2336 words.\n",
      "Article # 356: Charleston,_South_Carolina, 5352 words.\n",
      "Article # 357: The_Blitz, 12329 words.\n",
      "Article # 358: Endangered_Species_Act, 3316 words.\n",
      "Article # 359: Vacuum, 3899 words.\n",
      "Article # 360: Han_dynasty, 8082 words.\n",
      "Article # 361: Quran, 6258 words.\n",
      "Article # 362: Geography_of_the_United_States, 2375 words.\n",
      "Article # 363: Compact_disc, 2966 words.\n",
      "Article # 364: Transistor, 2489 words.\n",
      "Article # 365: Modern_history, 10676 words.\n",
      "Article # 366: 51st_state, 3989 words.\n",
      "Article # 367: Antenna_(radio), 8980 words.\n",
      "Article # 368: Flowering_plant, 3003 words.\n",
      "Article # 369: Hyderabad, 7382 words.\n",
      "Article # 370: Santa_Monica,_California, 2688 words.\n",
      "Article # 371: Washington_University_in_St._Louis, 4187 words.\n",
      "Article # 372: Central_Intelligence_Agency, 1786 words.\n",
      "Article # 373: Pain, 4072 words.\n",
      "Article # 374: Database, 3696 words.\n",
      "Article # 375: Tucson,_Arizona, 6364 words.\n",
      "Article # 376: Armenia, 6001 words.\n",
      "Article # 377: Bacteria, 6347 words.\n",
      "Article # 378: Printed_circuit_board, 3985 words.\n",
      "Article # 379: Greeks, 5953 words.\n",
      "Article # 380: Premier_League, 4958 words.\n",
      "Article # 381: Roman_Republic, 10587 words.\n",
      "Article # 382: Pacific_War, 10010 words.\n",
      "Article # 383: San_Diego, 6360 words.\n",
      "Article # 384: Muslim_world, 3092 words.\n",
      "Article # 385: Iran, 6733 words.\n",
      "Article # 386: British_Isles, 5288 words.\n",
      "Article # 387: Association_football, 3652 words.\n",
      "Article # 388: Georgian_architecture, 2559 words.\n",
      "Article # 389: Liberia, 2325 words.\n",
      "Article # 390: Alfred_North_Whitehead, 5578 words.\n",
      "Article # 391: Antibiotics, 3385 words.\n",
      "Article # 392: Windows_8, 6301 words.\n",
      "Article # 393: Swaziland, 2591 words.\n",
      "Article # 394: Translation, 2809 words.\n",
      "Article # 395: Airport, 3113 words.\n",
      "Article # 396: Kievan_Rus%27, 5717 words.\n",
      "Article # 397: Super_Nintendo_Entertainment_System, 2768 words.\n",
      "Article # 398: Sumer, 3867 words.\n",
      "Article # 399: Tuvalu, 7052 words.\n",
      "Article # 400: Immaculate_Conception, 3654 words.\n",
      "Article # 401: Namibia, 4410 words.\n",
      "Article # 402: Russian_language, 3500 words.\n",
      "Article # 403: United_States_Air_Force, 6678 words.\n",
      "Article # 404: Light-emitting_diode, 5301 words.\n",
      "Article # 405: Great_power, 2593 words.\n",
      "Article # 406: Bird, 8514 words.\n",
      "Article # 407: Qing_dynasty, 12591 words.\n",
      "Article # 408: Indigenous_peoples_of_the_Americas, 6336 words.\n",
      "Article # 409: Red, 5927 words.\n",
      "Article # 410: Egypt, 6665 words.\n",
      "Article # 411: Mosaic, 7985 words.\n",
      "Article # 412: University, 3729 words.\n",
      "Article # 413: Religion_in_ancient_Rome, 11227 words.\n",
      "Article # 414: YouTube, 3987 words.\n",
      "Article # 415: Separation_of_church_and_state_in_the_United_States, 5035 words.\n",
      "Article # 416: Protestantism, 8787 words.\n",
      "Article # 417: Bras%C3%ADlia, 2606 words.\n",
      "Article # 418: Economy_of_Greece, 3044 words.\n",
      "Article # 419: Party_leaders_of_the_United_States_House_of_Representatives, 3988 words.\n",
      "Article # 420: Armenians, 3126 words.\n",
      "Article # 421: Jehovah%27s_Witnesses, 6207 words.\n",
      "Article # 422: Dwight_D._Eisenhower, 10615 words.\n",
      "Article # 423: The_Bronx, 6503 words.\n",
      "Article # 424: Financial_crisis_of_2007%E2%80%9308, 9743 words.\n",
      "Article # 425: Portugal, 11005 words.\n",
      "Article # 426: Humanism, 4431 words.\n",
      "Article # 427: Geological_history_of_Earth, 3430 words.\n",
      "Article # 428: Police, 3897 words.\n",
      "Article # 429: Genocide, 3396 words.\n",
      "Article # 430: Saint_Barth%C3%A9lemy, 2679 words.\n",
      "Article # 431: Tajikistan, 4112 words.\n",
      "Article # 432: University_of_Notre_Dame, 8080 words.\n",
      "Article # 433: Anthropology, 4705 words.\n",
      "Article # 434: Montana, 5831 words.\n",
      "Article # 435: Punjab,_Pakistan, 3160 words.\n",
      "Article # 436: Richmond,_Virginia, 7542 words.\n",
      "Article # 437: Infection, 4168 words.\n",
      "Article # 438: Hunting, 4173 words.\n",
      "Article # 439: Kathmandu, 7054 words.\n",
      "Article # 440: Myocardial_infarction, 2831 words.\n",
      "Article # 441: Matter, 3537 words.\n",
      "Article # 442: Normans, 4024 words.\n",
      "Article # 443: Computational_complexity_theory, 4493 words.\n",
      "Article # 444: Southern_California, 2938 words.\n",
      "Article # 445: Sky_(United_Kingdom), 2477 words.\n",
      "Article # 446: Victoria_(Australia), 2599 words.\n",
      "Article # 447: Huguenot, 5435 words.\n",
      "Article # 448: Steam_engine, 5436 words.\n",
      "Article # 449: Oxygen, 5001 words.\n",
      "Article # 450: 1973_oil_crisis, 2795 words.\n",
      "Article # 451: European_Union_law, 10642 words.\n",
      "Article # 452: Amazon_rainforest, 2322 words.\n",
      "Article # 453: Ctenophora, 4549 words.\n",
      "Article # 454: Fresno,_California, 3551 words.\n",
      "Article # 455: Packet_switching, 2964 words.\n",
      "Article # 456: Black_Death, 3213 words.\n",
      "Article # 457: Geology, 3101 words.\n",
      "Article # 458: Pharmacy, 2995 words.\n",
      "Article # 459: Civil_disobedience, 3656 words.\n",
      "Article # 460: Construction, 2379 words.\n",
      "Article # 461: Private_school, 3022 words.\n",
      "Article # 462: Harvard_University, 3834 words.\n",
      "Article # 463: Jacksonville,_Florida, 2770 words.\n",
      "Article # 464: Economic_inequality, 5753 words.\n",
      "Article # 465: University_of_Chicago, 4756 words.\n",
      "Article # 466: Yuan_dynasty, 7228 words.\n",
      "Article # 467: Immune_system, 6155 words.\n",
      "Article # 468: Intergovernmental_Panel_on_Climate_Change, 2963 words.\n",
      "Article # 469: Prime_number, 3902 words.\n",
      "Article # 470: Rhine, 5073 words.\n",
      "Article # 471: Scottish_Parliament, 4799 words.\n",
      "Article # 472: Islamism, 4220 words.\n",
      "Article # 473: Imperialism, 5473 words.\n",
      "Article # 474: Warsaw, 6172 words.\n",
      "Article # 475: French_and_Indian_War, 5780 words.\n",
      "Article # 476: Force, 5924 words.\n"
     ]
    }
   ],
   "source": [
    "awords = []\n",
    "for a in art:\n",
    "    pwords = [len(p['context'].split()) for p in a['paragraphs']]\n",
    "    awords.append(sum(pwords))\n",
    "    \n",
    "for i,awords in enumerate(awords):\n",
    "    print(\"Article # \" + str(i) + \": \" + art[i]['title'] + ', ' + str(awords) + \" words.\")"
   ]
  },
  {
   "cell_type": "markdown",
   "metadata": {},
   "source": [
    "## Sentences per article"
   ]
  },
  {
   "cell_type": "code",
   "execution_count": 50,
   "metadata": {},
   "outputs": [
    {
     "data": {
      "image/png": "[encoded data removed]",
      "text/plain": [
       "<Figure size 1600x320 with 1 Axes>"
      ]
     },
     "metadata": {},
     "output_type": "display_data"
    },
    {
     "data": {
      "image/png": "[encoded data removed]",
      "text/plain": [
       "<Figure size 1080x288 with 2 Axes>"
      ]
     },
     "metadata": {
      "needs_background": "light"
     },
     "output_type": "display_data"
    }
   ],
   "source": [
    "# Number of sentences per article\n",
    "from nltk.tokenize import sent_tokenize\n",
    "\n",
    "asentences = []\n",
    "for a in art:\n",
    "    psentences = [len(sent_tokenize(p['context'])) for p in a['paragraphs']]\n",
    "    asentences.append(sum(psentences))\n",
    "\n",
    " \n",
    "figure(num=None, figsize=(15, 4),facecolor='w', edgecolor='k')\n",
    "plt.bar(range(len(asentences)), asentences, align='center', alpha=0.5)\n",
    "plt.xlabel('Article #')\n",
    "plt.ylabel('# Sentences')\n",
    "plt.show()\n",
    "\n",
    "# figure(num=None, figsize=(15, 4), dpi=80, facecolor='w', edgecolor='k')\n",
    "f, (ax1, ax2) = plt.subplots(1, 2, sharey=False,figsize=(15, 4));\n",
    "ax1.hist(asentences[0:Ntrain-1], bins=30);  # arguments are passed to np.histogram\n",
    "ax1.set_title(\"Train data: Narticles=\" + str(Ntrain));\n",
    "ax1.set_ylabel('N Articles');\n",
    "ax1.set_xlabel('# Sentences');\n",
    "\n",
    "ax2.hist(asentences[Ntrain:], bins=30);  # arguments are passed to np.histogram\n",
    "ax2.set_title(\"Dev data: Narticles=\" + str(Ndev));\n",
    "ax2.set_xlabel('# Sentences');\n"
   ]
  },
  {
   "cell_type": "markdown",
   "metadata": {},
   "source": [
    "## Questions per article"
   ]
  },
  {
   "cell_type": "code",
   "execution_count": 48,
   "metadata": {},
   "outputs": [
    {
     "data": {
      "text/plain": [
       "{'text': 'in the late 1990s', 'answer_start': 269}"
      ]
     },
     "execution_count": 48,
     "metadata": {},
     "output_type": "execute_result"
    }
   ],
   "source": [
    "arts[0]['paragraphs'][0]['qas'][0]['answers'][0]"
   ]
  },
  {
   "cell_type": "code",
   "execution_count": 49,
   "metadata": {},
   "outputs": [
    {
     "data": {
      "image/png": "[encoded data removed]",
      "text/plain": [
       "<Figure size 1600x320 with 1 Axes>"
      ]
     },
     "metadata": {},
     "output_type": "display_data"
    }
   ],
   "source": [
    "aquestions = []\n",
    "for a in art:\n",
    "    pquestions = [len(p['qas']) for p in a['paragraphs']]\n",
    "    aquestions.append(sum(pquestions))\n",
    "    \n",
    "\n",
    "\n",
    "figure(num=None, figsize=(15, 4),facecolor='w', edgecolor='k')\n",
    "barlist = plt.bar(range(len(aquestions)), aquestions, align='center', alpha=0.5)\n",
    "plt.xlabel('Article #')\n",
    "plt.ylabel('# Questions')\n",
    "for i in range(Ntrain,Ntrain+Ndev):\n",
    "    barlist[i].set_color('r')\n",
    "plt.show()"
   ]
  },
  {
   "cell_type": "code",
   "execution_count": 18,
   "metadata": {},
   "outputs": [
    {
     "data": {
      "image/png": "[encoded data removed]",
      "text/plain": [
       "<Figure size 1080x288 with 2 Axes>"
      ]
     },
     "metadata": {
      "needs_background": "light"
     },
     "output_type": "display_data"
    }
   ],
   "source": [
    "# figure(num=None, figsize=(15, 4), dpi=80, facecolor='w', edgecolor='k')\n",
    "f, (ax1, ax2) = plt.subplots(1, 2, sharey=False,figsize=(15, 4));\n",
    "ax1.hist(aquestions[0:Ntrain-1], bins=30);  # arguments are passed to np.histogram\n",
    "ax1.set_title(\"Train data: Narticles=\" + str(Ntrain));\n",
    "ax1.set_ylabel('N Articles');\n",
    "ax1.set_xlabel('# Words');\n",
    "\n",
    "ax2.hist(aquestions[Ntrain:], bins=30);  # arguments are passed to np.histogram\n",
    "ax2.set_title(\"Dev data: Narticles=\" + str(Ndev));\n",
    "ax2.set_xlabel('# Words');"
   ]
  },
  {
   "cell_type": "markdown",
   "metadata": {},
   "source": [
    "## Answers per article"
   ]
  },
  {
   "cell_type": "code",
   "execution_count": 7,
   "metadata": {},
   "outputs": [
    {
     "data": {
      "image/png": "[encoded data removed]",
      "text/plain": [
       "<Figure size 1080x288 with 1 Axes>"
      ]
     },
     "metadata": {},
     "output_type": "display_data"
    }
   ],
   "source": [
    "# import mpld3\n",
    "# mpld3.enable_notebook()\n",
    "\n",
    "aanswers = []\n",
    "for a in art:\n",
    "    qanswers = [len(q['answers']) for p in a['paragraphs'] for q in p['qas']]\n",
    "    aanswers.append(sum(qanswers))\n",
    "\n",
    "\n",
    "figure(num=None, figsize=(15, 4),facecolor='w', edgecolor='k')\n",
    "barlist = plt.bar(range(len(aanswers)), aanswers, align='center', alpha=0.5)\n",
    "plt.xlabel('Article #')\n",
    "plt.ylabel('# Answers')\n",
    "for i in range(Ntrain,Ntrain+Ndev):\n",
    "    barlist[i].set_color('r')\n",
    "axes = plt.gca()\n",
    "# axes.set_xlim([0,200])\n",
    "plt.show()"
   ]
  },
  {
   "cell_type": "code",
   "execution_count": 8,
   "metadata": {},
   "outputs": [
    {
     "data": {
      "image/png": "[encoded data removed]",
      "text/plain": [
       "<Figure size 1080x288 with 2 Axes>"
      ]
     },
     "metadata": {
      "needs_background": "light"
     },
     "output_type": "display_data"
    }
   ],
   "source": [
    "# figure(num=None, figsize=(15, 4), dpi=80, facecolor='w', edgecolor='k')\n",
    "f, (ax1, ax2) = plt.subplots(1, 2, sharey=False,figsize=(15, 4));\n",
    "ax1.hist(aanswers[0:Ntrain-1], bins=30);  # arguments are passed to np.histogram\n",
    "ax1.set_title(\"Train data: Narticles=\" + str(Ntrain));\n",
    "ax1.set_ylabel('N Articles');\n",
    "ax1.set_xlabel('# Words');\n",
    "\n",
    "ax2.hist(aanswers[Ntrain:], bins='auto');  # arguments are passed to np.histogram\n",
    "ax2.set_title(\"Dev data: Narticles=\" + str(Ndev));\n",
    "ax2.set_xlabel('# Words');"
   ]
  },
  {
   "cell_type": "markdown",
   "metadata": {},
   "source": [
    "## Words per answer"
   ]
  },
  {
   "cell_type": "code",
   "execution_count": 7,
   "metadata": {},
   "outputs": [
    {
     "data": {
      "text/plain": [
       "False"
      ]
     },
     "execution_count": 7,
     "metadata": {},
     "output_type": "execute_result"
    }
   ],
   "source": [
    "# import mpld3\n",
    "# mpld3.enable_notebook()\n",
    "art[0]['paragraphs'][0]['qas'][0]['answers'][0]\n",
    "art[0]['paragraphs'][0]['qas'][0]['is_impossible']\n"
   ]
  },
  {
   "cell_type": "code",
   "execution_count": 11,
   "metadata": {},
   "outputs": [],
   "source": [
    "from utils_NLP import extract_no_stopwords\n",
    "\n",
    "a_wordsperanswer = []\n",
    "for a in art:\n",
    "    awords = [len(extract_no_stopwords(ans['text'].strip().split())) for p in a['paragraphs'] for q in p['qas'] for ans in q['answers'] if not q['is_impossible']]\n",
    "    if len(awords) > 0:\n",
    "        a_wordsperanswer.append(sum(awords)/len(awords))\n",
    "    else:\n",
    "        a_wordsperanswer.append(0)"
   ]
  },
  {
   "cell_type": "code",
   "execution_count": 12,
   "metadata": {},
   "outputs": [
    {
     "data": {
      "image/png": "[encoded data removed]",
      "text/plain": [
       "<Figure size 1080x288 with 1 Axes>"
      ]
     },
     "metadata": {},
     "output_type": "display_data"
    }
   ],
   "source": [
    "figure(num=None, figsize=(15, 4),facecolor='w', edgecolor='k')\n",
    "barlist = plt.bar(range(len(a_wordsperanswer)), a_wordsperanswer, align='center', alpha=0.5)\n",
    "plt.xlabel('Article #')\n",
    "plt.ylabel('# Words per answer')\n",
    "for i in range(Ntrain,Ntrain+Ndev):\n",
    "    barlist[i].set_color('r')\n",
    "axes = plt.gca()\n",
    "# axes.set_xlim([0,200])\n",
    "plt.show()"
   ]
  },
  {
   "cell_type": "code",
   "execution_count": 13,
   "metadata": {},
   "outputs": [
    {
     "data": {
      "image/png": "[encoded data removed]",
      "text/plain": [
       "<Figure size 1080x288 with 2 Axes>"
      ]
     },
     "metadata": {
      "needs_background": "light"
     },
     "output_type": "display_data"
    }
   ],
   "source": [
    "# figure(num=None, figsize=(15, 4), dpi=80, facecolor='w', edgecolor='k')\n",
    "f, (ax1, ax2) = plt.subplots(1, 2, sharey=False,figsize=(15, 4));\n",
    "ax1.hist(a_wordsperanswer[0:Ntrain-1], bins=30);  # arguments are passed to np.histogram\n",
    "ax1.set_title(\"Train data: Narticles=\" + str(Ntrain));\n",
    "ax1.set_ylabel('N Articles');\n",
    "ax1.set_xlabel('# Words per answer');\n",
    "\n",
    "ax2.hist(a_wordsperanswer[Ntrain:], bins='auto');  # arguments are passed to np.histogram\n",
    "ax2.set_title(\"Dev data: Narticles=\" + str(Ndev));\n",
    "ax2.set_xlabel('# Words per answer');"
   ]
  },
  {
   "cell_type": "markdown",
   "metadata": {},
   "source": [
    "## Investigate articles with zero answers"
   ]
  },
  {
   "cell_type": "markdown",
   "metadata": {},
   "source": [
    "From figure above, looks like there are some articles near the end that have zero associated answers. See what's going on there"
   ]
  },
  {
   "cell_type": "code",
   "execution_count": 181,
   "metadata": {},
   "outputs": [],
   "source": [
    "# a = art[Ntrain-4]\n",
    "# pquestions = [q['question'] for p in a['paragraphs'] for q in p['qas']]\n",
    "# qanswers = [a['text'] for p in a['paragraphs'] for q in p['qas'] for a in q['answers']]\n",
    "# qisimpossible = [q['is_impossible'] for p in a['paragraphs'] for q in p['qas']]\n",
    "# qanswers = [a['text'] for p in a['paragraphs'] for q in p['qas'] for a in q['answers']]\n",
    "# print(qisimpossible)\n",
    "\n",
    "# a = art[Ntrain-3]\n",
    "# pquestions = [q['question'] for p in a['paragraphs'] for q in p['qas']]\n",
    "# qanswers = [a['text'] for p in a['paragraphs'] for q in p['qas'] for a in q['answers']]\n",
    "# qisimpossible = [q['is_impossible'] for p in a['paragraphs'] for q in p['qas']]\n",
    "# qanswers = [a['text'] for p in a['paragraphs'] for q in p['qas'] for a in q['answers']]\n",
    "# print(qisimpossible)\n",
    "\n",
    "# a = art[Ntrain-2]\n",
    "# qisimpossible = [q['is_impossible'] for p in a['paragraphs'] for q in p['qas']]\n",
    "# print(qisimpossible)\n",
    "\n",
    "# a = art[Ntrain-1]\n",
    "# qisimpossible = [q['is_impossible'] for p in a['paragraphs'] for q in p['qas']]\n",
    "# print(qisimpossible)\n",
    "\n",
    "# a = art[Ntrain-0]\n",
    "# qisimpossible = [q['is_impossible'] for p in a['paragraphs'] for q in p['qas']]\n",
    "# print(qisimpossible)"
   ]
  },
  {
   "cell_type": "code",
   "execution_count": 168,
   "metadata": {},
   "outputs": [
    {
     "data": {
      "text/plain": [
       "False"
      ]
     },
     "execution_count": 168,
     "metadata": {},
     "output_type": "execute_result"
    }
   ],
   "source": [
    "arts[0]['paragraphs'][0]['qas'][0]['is_impossible']"
   ]
  },
  {
   "cell_type": "markdown",
   "metadata": {},
   "source": [
    "## Fraction of questions that are impossible"
   ]
  },
  {
   "cell_type": "code",
   "execution_count": 15,
   "metadata": {},
   "outputs": [
    {
     "data": {
      "image/png": "[encoded data removed]",
      "text/plain": [
       "<Figure size 1600x320 with 1 Axes>"
      ]
     },
     "metadata": {},
     "output_type": "display_data"
    }
   ],
   "source": [
    "# [q['is_impossible'] for a in art for p in a['paragraphs']]\n",
    "# arts[0]['paragraphs'][0]['qas'][0]['is_impossible']\n",
    "\n",
    "aquestions = []\n",
    "aisimpossible = []\n",
    "aimpquestionsratio = []\n",
    "for a in art:\n",
    "    pquestions = [len(p['qas']) for p in a['paragraphs']]\n",
    "    pisimpossible = [q['is_impossible'] for p in a['paragraphs'] for q in p['qas']]\n",
    "    aquestions.append(sum(pquestions))\n",
    "    aisimpossible.append(sum(pisimpossible))\n",
    "    aimpquestionsratio.append(sum(pisimpossible)/sum(pquestions)*100)\n",
    "\n",
    "\n",
    "figure(num=None, figsize=(15, 4),facecolor='w', edgecolor='k')\n",
    "barlist = plt.bar(range(len(aimpquestionsratio)), aimpquestionsratio, align='center', alpha=0.5)\n",
    "plt.xlabel('Article #')\n",
    "plt.ylabel('# Questions')\n",
    "for i in range(Ntrain,Ntrain+Ndev):\n",
    "    barlist[i].set_color('r')\n",
    "plt.show()"
   ]
  },
  {
   "cell_type": "code",
   "execution_count": 16,
   "metadata": {},
   "outputs": [
    {
     "data": {
      "image/png": "[encoded data removed]",
      "text/plain": [
       "<Figure size 1080x288 with 2 Axes>"
      ]
     },
     "metadata": {
      "needs_background": "light"
     },
     "output_type": "display_data"
    }
   ],
   "source": [
    "# figure(num=None, figsize=(15, 4), dpi=80, facecolor='w', edgecolor='k')\n",
    "f, (ax1, ax2) = plt.subplots(1, 2, sharey=False,figsize=(15, 4));\n",
    "ax1.hist(aimpquestionsratio[0:Ntrain-1], bins=30);  # arguments are passed to np.histogram\n",
    "ax1.set_title(\"Train data: Narticles=\" + str(Ntrain));\n",
    "ax1.set_ylabel('N Articles');\n",
    "ax1.set_xlabel('# Words');\n",
    "\n",
    "ax2.hist(aimpquestionsratio[Ntrain:], bins=30);  # arguments are passed to np.histogram\n",
    "ax2.set_title(\"Dev data: Narticles=\" + str(Ndev));\n",
    "ax2.set_xlabel('# Words');"
   ]
  },
  {
   "cell_type": "markdown",
   "metadata": {},
   "source": [
    "Seems like a few articles near the end contain 100% unanswerable questions. Also, a large number of articles contain 100% answerable questions. The rest are a mix of about 50/50"
   ]
  },
  {
   "cell_type": "markdown",
   "metadata": {},
   "source": [
    "# Answers verbatim in text"
   ]
  },
  {
   "cell_type": "markdown",
   "metadata": {},
   "source": [
    "## Run the analysis"
   ]
  },
  {
   "cell_type": "markdown",
   "metadata": {},
   "source": [
    "## Test that blanks are properly indi"
   ]
  },
  {
   "cell_type": "code",
   "execution_count": 52,
   "metadata": {},
   "outputs": [
    {
     "ename": "TypeError",
     "evalue": "list indices must be integers or slices, not str",
     "output_type": "error",
     "traceback": [
      "\u001b[0;31m---------------------------------------------------------------------------\u001b[0m",
      "\u001b[0;31mTypeError\u001b[0m                                 Traceback (most recent call last)",
      "\u001b[0;32m<ipython-input-52-697c6339b887>\u001b[0m in \u001b[0;36m<module>\u001b[0;34m\u001b[0m\n\u001b[1;32m      1\u001b[0m \u001b[0mp\u001b[0m \u001b[0;34m=\u001b[0m \u001b[0mart2\u001b[0m\u001b[0;34m[\u001b[0m\u001b[0;36m0\u001b[0m\u001b[0;34m]\u001b[0m\u001b[0;34m[\u001b[0m\u001b[0;34m'paragraphs'\u001b[0m\u001b[0;34m]\u001b[0m\u001b[0;34m[\u001b[0m\u001b[0;36m0\u001b[0m\u001b[0;34m]\u001b[0m\u001b[0;34m\u001b[0m\u001b[0;34m\u001b[0m\u001b[0m\n\u001b[0;32m----> 2\u001b[0;31m \u001b[0mc\u001b[0m \u001b[0;34m=\u001b[0m \u001b[0mp\u001b[0m\u001b[0;34m[\u001b[0m\u001b[0;34m'context'\u001b[0m\u001b[0;34m]\u001b[0m\u001b[0;34m\u001b[0m\u001b[0;34m\u001b[0m\u001b[0m\n\u001b[0m\u001b[1;32m      3\u001b[0m \u001b[0mcs\u001b[0m \u001b[0;34m=\u001b[0m \u001b[0mc\u001b[0m\u001b[0;34m.\u001b[0m\u001b[0msplit\u001b[0m\u001b[0;34m(\u001b[0m\u001b[0;34m)\u001b[0m\u001b[0;34m\u001b[0m\u001b[0;34m\u001b[0m\u001b[0m\n\u001b[1;32m      4\u001b[0m \u001b[0mbc\u001b[0m \u001b[0;34m=\u001b[0m \u001b[0mp\u001b[0m\u001b[0;34m[\u001b[0m\u001b[0;34m'blank_classification'\u001b[0m\u001b[0;34m]\u001b[0m\u001b[0;34m\u001b[0m\u001b[0;34m\u001b[0m\u001b[0m\n\u001b[1;32m      5\u001b[0m \u001b[0;32mfor\u001b[0m \u001b[0mi\u001b[0m \u001b[0;32min\u001b[0m \u001b[0mrange\u001b[0m\u001b[0;34m(\u001b[0m\u001b[0mlen\u001b[0m\u001b[0;34m(\u001b[0m\u001b[0mbc\u001b[0m\u001b[0;34m)\u001b[0m\u001b[0;34m)\u001b[0m\u001b[0;34m:\u001b[0m\u001b[0;34m\u001b[0m\u001b[0;34m\u001b[0m\u001b[0m\n",
      "\u001b[0;31mTypeError\u001b[0m: list indices must be integers or slices, not str"
     ]
    }
   ],
   "source": [
    "p = art2[0]['paragraphs'][0]\n",
    "c = p['context']\n",
    "cs = c.split()\n",
    "bc = p['blank_classification']\n",
    "for i in range(len(bc)):\n",
    "    if bc[i]:\n",
    "        print('Blank at word #' + str(i) + ' ' + cs[i])\n",
    "print( p['context'])\n",
    "print( p['context_blanked'])\n",
    "\n"
   ]
  },
  {
   "cell_type": "code",
   "execution_count": 93,
   "metadata": {},
   "outputs": [
    {
     "name": "stdout",
     "output_type": "stream",
     "text": [
      "['______', 'is', 'an', '______', 'sensation', 'in', 'which', 'a', 'listener', 'assigns', 'musical', 'tones', 'to', 'relative', 'positions', 'on', 'a', 'musical', 'scale', 'based', 'primarily', 'on', 'their', 'perception', 'of', 'the', '______', 'of', 'vibration.', '______', 'is', 'closely', 'related', 'to', 'frequency,', 'but', 'the', 'two', 'are', 'not', 'equivalent.', '______', 'is', 'an', 'objective,', 'scientific', 'attribute', 'that', 'can', 'be', 'measured.', '______', 'is', 'each', \"person's\", 'subjective', 'perception', 'of', 'a', 'sound,', 'which', 'cannot', 'be', 'directly', 'measured.', 'However,', 'this', 'does', 'not', 'necessarily', 'mean', 'that', 'most', 'people', \"won't\", 'agree', 'on', 'which', 'notes', 'are', 'higher', 'and', 'lower.']\n"
     ]
    }
   ],
   "source": [
    "print(context_split)\n"
   ]
  },
  {
   "cell_type": "code",
   "execution_count": 67,
   "metadata": {},
   "outputs": [
    {
     "data": {
      "text/plain": [
       "'asdfasfdsf'"
      ]
     },
     "execution_count": 67,
     "metadata": {},
     "output_type": "execute_result"
    }
   ],
   "source": [
    "\n",
    "\n",
    "temp = 'ASDFASfdsf'\n",
    "temp.lower()"
   ]
  },
  {
   "cell_type": "code",
   "execution_count": 22,
   "metadata": {},
   "outputs": [
    {
     "data": {
      "text/plain": [
       "False"
      ]
     },
     "execution_count": 22,
     "metadata": {},
     "output_type": "execute_result"
    }
   ],
   "source": [
    "a = ['lets','walk','the','dog']\n",
    "b = ['dog']\n",
    "\n",
    "b in a\n"
   ]
  },
  {
   "cell_type": "code",
   "execution_count": 21,
   "metadata": {},
   "outputs": [
    {
     "data": {
      "text/plain": [
       "True"
      ]
     },
     "execution_count": 21,
     "metadata": {},
     "output_type": "execute_result"
    }
   ],
   "source": [
    "a = 'lets walk the dog'\n",
    "b = 'dog'\n",
    "\n",
    "b in a"
   ]
  },
  {
   "cell_type": "code",
   "execution_count": null,
   "metadata": {},
   "outputs": [],
   "source": [
    "# Gather all questions together\n",
    "\n",
    "answers = []\n",
    "all_questions = [qa['question'] for a in art for p in a['paragraphs'] for qa in p['qas'] for a in qa['answers']]\n",
    "all_answers = [a['text'] for a in art for p in a['paragraphs'] for qa in p['qas'] for a in qa['answers']]\n",
    "answer_is_verbatim_in_context = [a['text'] in p['context'] for a in art for p in a['paragraphs'] for qa in p['qas'] for a in qa['answers']]\n",
    "\n",
    "\n",
    "answers_per_article[for a in art for p in a['paragraphs'] for ]\n",
    "\n",
    "print('Num answers: ' + str(len(all_answers)))\n",
    "print('Num true bools: ' + str(sum(answer_is_verbatim_in_context)))"
   ]
  },
  {
   "cell_type": "code",
   "execution_count": null,
   "metadata": {},
   "outputs": [],
   "source": [
    "# Find all answers less than 3 words in duration. These are ideal candidates for fill in the blank questions\n",
    "a=all_answers[0]\n",
    "Nmax=3\n",
    "answer_is_short = [len(a.split()) <= Nmax for a in all_answers]\n"
   ]
  },
  {
   "cell_type": "code",
   "execution_count": null,
   "metadata": {},
   "outputs": [],
   "source": [
    "# Count number of trues\n",
    "print('Num answers: ' + str(len(all_answers)))\n",
    "print('Num true bools: ' + str(sum(answer_is_short)))\n",
    "print('Percent: ' + str(sum(answer_is_short)/len(all_answers)*100))\n"
   ]
  },
  {
   "cell_type": "code",
   "execution_count": null,
   "metadata": {},
   "outputs": [],
   "source": [
    "# Display all all answers and their validity\n",
    "for q,a, context_bool in zip(all_questions,all_answers,answer_is_short):\n",
    "    print(f\"{a}\\t\\t{context_bool}\")"
   ]
  },
  {
   "cell_type": "code",
   "execution_count": null,
   "metadata": {},
   "outputs": [],
   "source": [
    "# Display all question-answer pairs and their validity\n",
    "for q,a, context_bool in zip(all_questions,all_answers,answer_is_short):\n",
    "    print(f\"{q}\\t{a}\\t{context_bool}\")"
   ]
  },
  {
   "cell_type": "code",
   "execution_count": null,
   "metadata": {},
   "outputs": [],
   "source": [
    "\n",
    "\n",
    "unique_answers = set(all_answers)\n",
    "\n",
    "\n",
    "print('All answers: ' + str(len(all_answers)))\n",
    "print('Unique answers: ' + str(len(unique_answers)))\n"
   ]
  },
  {
   "cell_type": "code",
   "execution_count": null,
   "metadata": {},
   "outputs": [],
   "source": [
    "unique_answers"
   ]
  },
  {
   "cell_type": "code",
   "execution_count": null,
   "metadata": {},
   "outputs": [],
   "source": [
    "\n",
    "\n",
    "text = [p['context'] for a in art for p in a['paragraphs']]\n",
    "text = ' '.join(text[:])\n",
    "\n",
    "text\n"
   ]
  },
  {
   "cell_type": "markdown",
   "metadata": {},
   "source": [
    "# Analyze poorly performing NER"
   ]
  },
  {
   "cell_type": "code",
   "execution_count": null,
   "metadata": {},
   "outputs": [],
   "source": [
    "\n",
    "# This article on music, NER performs poorly; fails to capture key concepts\n",
    "art = arts[105:107]         # A few short articles\n",
    "\n",
    "# Might need to use word2vec or other embedding as additional features\n",
    "\n",
    "\n",
    "\n"
   ]
  },
  {
   "cell_type": "code",
   "execution_count": 115,
   "metadata": {},
   "outputs": [
    {
     "name": "stdout",
     "output_type": "stream",
     "text": [
      "[{'text': 'France', 'answer_start': 159}, {'text': 'France', 'answer_start': 159}, {'text': 'France', 'answer_start': 159}, {'text': 'France', 'answer_start': 159}]\n",
      "[{'text': '10th and 11th centuries', 'answer_start': 94}, {'text': 'in the 10th and 11th centuries', 'answer_start': 87}, {'text': '10th and 11th centuries', 'answer_start': 94}, {'text': '10th and 11th centuries', 'answer_start': 94}]\n",
      "[{'text': 'Denmark, Iceland and Norway', 'answer_start': 256}, {'text': 'Denmark, Iceland and Norway', 'answer_start': 256}, {'text': 'Denmark, Iceland and Norway', 'answer_start': 256}, {'text': 'Denmark, Iceland and Norway', 'answer_start': 256}]\n",
      "[{'text': 'Rollo', 'answer_start': 308}, {'text': 'Rollo', 'answer_start': 308}, {'text': 'Rollo', 'answer_start': 308}, {'text': 'Rollo', 'answer_start': 308}]\n",
      "[{'text': '10th century', 'answer_start': 671}, {'text': 'the first half of the 10th century', 'answer_start': 649}, {'text': '10th', 'answer_start': 671}, {'text': '10th', 'answer_start': 671}]\n",
      "[]\n",
      "[]\n",
      "[]\n",
      "[]\n"
     ]
    }
   ],
   "source": [
    "# List all answers associatd with a specific question\n",
    "ind_art = Ntrain-0\n",
    "Nq = len(art[ind_art]['paragraphs'][0]['qas'])\n",
    "for i in range(Nq):\n",
    "    print(art[ind_art]['paragraphs'][0]['qas'][i]['answers'])\n",
    "    \n"
   ]
  },
  {
   "cell_type": "code",
   "execution_count": 117,
   "metadata": {},
   "outputs": [
    {
     "data": {
      "text/plain": [
       "{'text': 'France', 'answer_start': 159}"
      ]
     },
     "execution_count": 117,
     "metadata": {},
     "output_type": "execute_result"
    }
   ],
   "source": [
    "i=0\n",
    "art[ind_art]['paragraphs'][0]['qas'][i]['answers'][0]"
   ]
  },
  {
   "cell_type": "code",
   "execution_count": 356,
   "metadata": {},
   "outputs": [],
   "source": []
  },
  {
   "cell_type": "code",
   "execution_count": null,
   "metadata": {},
   "outputs": [],
   "source": [
    "\n",
    "\n",
    "\n"
   ]
  },
  {
   "cell_type": "code",
   "execution_count": null,
   "metadata": {},
   "outputs": [],
   "source": []
  },
  {
   "cell_type": "code",
   "execution_count": null,
   "metadata": {},
   "outputs": [],
   "source": []
  },
  {
   "cell_type": "code",
   "execution_count": null,
   "metadata": {},
   "outputs": [],
   "source": []
  }
 ],
 "metadata": {
  "kernelspec": {
   "display_name": "Python [conda env:allennlp]",
   "language": "python",
   "name": "conda-env-allennlp-py"
  },
  "language_info": {
   "codemirror_mode": {
    "name": "ipython",
    "version": 3
   },
   "file_extension": ".py",
   "mimetype": "text/x-python",
   "name": "python",
   "nbconvert_exporter": "python",
   "pygments_lexer": "ipython3",
   "version": "3.6.8"
  }
 },
 "nbformat": 4,
 "nbformat_minor": 2
}
