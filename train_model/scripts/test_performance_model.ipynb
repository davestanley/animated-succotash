{
 "cells": [
  {
   "cell_type": "code",
   "execution_count": 1,
   "metadata": {},
   "outputs": [],
   "source": [
    "# Set up and load data\n",
    "# Includes\n",
    "import sys\n",
    "import os\n",
    "import numpy as np\n",
    "import json\n",
    "import os\n",
    "\n",
    "\n",
    "# Setup paths containing utility\n",
    "curr_folder = os.getcwd()\n",
    "sys.path.insert(0, os.path.join(curr_folder,'../../../app'))\n",
    "\n",
    "# Utils imports for loading data\n",
    "from utils import save_data, load_data, exists_datafolder\n",
    "from utils import load_SQuAD_train, load_SQuAD_dev\n",
    "from utils import get_foldername\n",
    "from utils_NLP import text2sentences,words2words_blanked,words2words_hashblank,words2answers\n",
    "from utils_NLP import words2text\n",
    "from utils_SQuAD import OR_arts_paragraph_fields,merge_arts_paragraph_fields\n",
    "from utils_NLP import allenNLP_classify_blanks,allenNLP_classify_blanks_fromResults\n",
    "\n",
    "# Plotting includes\n",
    "from utils_EDAplots import plotbar_train_dev,plothist_train_dev,plotbar_train_dev2,plothist_train_dev2\n",
    "\n",
    "# Stats saving stuff\n",
    "from utils_EDA import calcstats_train_dev\n",
    "\n",
    "# AllenNLP stuff\n",
    "from allennlp.predictors import Predictor\n",
    "\n",
    "# Include custom AllenNLP\n",
    "import myallennlp\n",
    "from myallennlp import *\n",
    "from myallennlp.models.simple_tagger2 import SimpleTagger2\n",
    "from myallennlp.dataset_readers import sequence_tagging2\n",
    "from myallennlp.data.tokenizers.word_splitter import SpacyWordSplitter\n",
    "\n",
    "# Import fig stuff\n",
    "import matplotlib.pyplot as plt\n",
    "from matplotlib.pyplot import figure"
   ]
  },
  {
   "cell_type": "code",
   "execution_count": 2,
   "metadata": {},
   "outputs": [],
   "source": [
    "# Option for merging NER data into combined model\n",
    "merge_in_NER_data = False"
   ]
  },
  {
   "cell_type": "markdown",
   "metadata": {},
   "source": [
    "# Function definitions"
   ]
  },
  {
   "cell_type": "code",
   "execution_count": 3,
   "metadata": {},
   "outputs": [],
   "source": [
    "\n",
    "def calc_fracblanked(words,tags):\n",
    "    # Pseudocode\n",
    "    # For each answer, loop through the words and count the number of times it occurs.\n",
    "    # Get the set of blanks booleans associated with each occurrence of that words, and calculate the\n",
    "    # mean. Will do this for each word in the article, and then each article in the corpus. For each\n",
    "    # article, rank the words by their proximity to 50 % \n",
    "    myanswers_unique = list(set(words2answers(words,tags)))\n",
    "\n",
    "    fracblanked = []\n",
    "    numblanked = []\n",
    "    for ans in myanswers_unique:\n",
    "        indices = [i for i, w in enumerate(words) if w == ans]\n",
    "        tags_curr = [tags[i] for i in indices]\n",
    "        #words_curr = [words[i] for i in indices]\n",
    "        fracblanked.append(sum(tags_curr)/len(tags_curr)*100)\n",
    "        numblanked.append(len(tags_curr))\n",
    "        \n",
    "    return fracblanked,numblanked,myanswers_unique;\n",
    "\n",
    "\n",
    "def calc_grammatical_tags_dict(words,tags):\n",
    "    # Builds a dictionary that contains all of the words, classification tags (blank/nonblnk),\n",
    "    # and corresponding Spacy tags (parts of speech, ner, etc)\n",
    "\n",
    "    # Use whitespace tokenizer (https://spacy.io/usage/linguistic-features)\n",
    "    # davedit\n",
    "    from spacy.tokens import Doc\n",
    "    class WhitespaceTokenizer(object):\n",
    "\n",
    "        def __init__(self, vocab):\n",
    "            self.vocab = vocab\n",
    "\n",
    "        def __call__(self, text):\n",
    "            words = text.split(' ')\n",
    "            # All tokens 'own' a subsequent space character in this tokenizer\n",
    "            spaces = [True] * len(words)\n",
    "            return Doc(self.vocab, words=words, spaces=spaces)\n",
    "\n",
    "    import spacy\n",
    "\n",
    "    nlp = spacy.load('en_core_web_sm')\n",
    "    nlp.tokenizer = WhitespaceTokenizer(nlp.vocab)\n",
    "    doc = nlp(' '.join(words))\n",
    "    # doc = nlp(words2text(words))\n",
    "\n",
    "    pos=[]\n",
    "    ner=[]\n",
    "    dep=[]\n",
    "    for token in doc:\n",
    "        pos.append(token.pos_)\n",
    "        ner.append(token.ent_type_)\n",
    "        dep.append(token.dep_)\n",
    "\n",
    "    # Build a dataframe to store everything\n",
    "    d = {'ind': range(len(words)),\n",
    "         'words' : words,\n",
    "        'tags':tags,\n",
    "        'pos':pos,\n",
    "        'ner':ner,\n",
    "        'dep':dep}\n",
    "\n",
    "#     for k in d.keys():\n",
    "#         print(str(len(d[k])))\n",
    "\n",
    "    return d\n"
   ]
  },
  {
   "cell_type": "markdown",
   "metadata": {},
   "source": [
    "# Load and merge ground truth and MODEL data"
   ]
  },
  {
   "cell_type": "code",
   "execution_count": 4,
   "metadata": {},
   "outputs": [
    {
     "name": "stdout",
     "output_type": "stream",
     "text": [
      "/home/davestanley/Dropbox/git/mindpocket/train_model/articles_batch5.0/entropy_90_10_model6e0c37\n"
     ]
    }
   ],
   "source": [
    "!pwd"
   ]
  },
  {
   "cell_type": "code",
   "execution_count": 5,
   "metadata": {},
   "outputs": [],
   "source": [
    "# Load data containing MODEL (predictions)\n",
    "foldername = os.path.join('SQ_pp_b4m0c2')\n",
    "arts_train = load_data('train.json',foldername,prepend_data_folder=False)\n",
    "arts_dev = load_data('dev.json',foldername,prepend_data_folder=False)\n",
    "\n",
    "# All articles\n",
    "Ntrain = len(arts_train)\n",
    "Ndev = len(arts_dev)\n",
    "\n",
    "arts = arts_train + arts_dev\n",
    "# print(arts[1]['title'])\n",
    "# print(arts[1]['paragraphs'][0]['context'])"
   ]
  },
  {
   "cell_type": "code",
   "execution_count": 6,
   "metadata": {},
   "outputs": [
    {
     "name": "stdout",
     "output_type": "stream",
     "text": [
      "Black_Death\n"
     ]
    }
   ],
   "source": [
    "# Trim down newly loaded articles to match Narticles in training set\n",
    "ind_train = slice(0,Ntrain)\n",
    "ind_dev = slice(0,Ndev)\n",
    "\n",
    "# Chosen display articles\n",
    "# From train\n",
    "ind_ex = 1                   # Example from training set - Chopin\n",
    "ind_ex = 381                   # Example from training set - Roman Republic\n",
    "ind_ex = 213                   # Example from training set - Data compression\n",
    "# ind_ex = 105                   # Pitch\n",
    "\n",
    "# From dev\n",
    "ind_ex = Ntrain + (467-442)    # Example from dev set - Immune system\n",
    "ind_ex = Ntrain + (458-442)    # Example from dev set - Pharmacy\n",
    "ind_ex = Ntrain + (456-442)    # Example from dev set - Black death\n",
    "\n",
    "print(arts[ind_ex]['title'])"
   ]
  },
  {
   "cell_type": "code",
   "execution_count": 7,
   "metadata": {},
   "outputs": [],
   "source": [
    "# Load blanks data (ground truth)\n",
    "foldername = get_foldername('sq_pp_training')\n",
    "arts3 = load_data('train.json',foldername)[ind_train] + load_data('dev.json',foldername)[ind_dev]\n",
    "# print(arts3[1]['title'])\n",
    "# print(arts3[1]['paragraphs'][0]['context_blanked'])\n"
   ]
  },
  {
   "cell_type": "code",
   "execution_count": 8,
   "metadata": {},
   "outputs": [
    {
     "name": "stdout",
     "output_type": "stream",
     "text": [
      "Matching titles: 477 \n",
      "Total articles 477\n"
     ]
    }
   ],
   "source": [
    "# Make sure all titles match\n",
    "all_title_pairs = [(a1['title'],a3['title']) for a1,a3 in zip(arts,arts3)]\n",
    "titles_match_bool = [a1['title'] == a3['title'] for a1,a3 in zip(arts,arts3)]\n",
    "print(\"Matching titles: {} \\nTotal articles {}\".format(sum(titles_match_bool),len(titles_match_bool)))\n",
    "if not sum(titles_match_bool) == len(titles_match_bool):\n",
    "    raise ValueError('Articles mismatch.')\n"
   ]
  },
  {
   "cell_type": "code",
   "execution_count": 9,
   "metadata": {},
   "outputs": [],
   "source": [
    "# Merge ground truth blanks with original data to get full dataset\n",
    "list_of_fields = ['context_blanked','blank_classification']\n",
    "arts = merge_arts_paragraph_fields(arts,arts3,list_of_fields)\n",
    "\n",
    "# print(arts[1]['title'])\n",
    "# print(arts[1]['paragraphs'][0]['context'])\n",
    "# print(arts[1]['paragraphs'][0]['context_blanked'])"
   ]
  },
  {
   "cell_type": "code",
   "execution_count": 10,
   "metadata": {},
   "outputs": [
    {
     "data": {
      "text/plain": [
       "\"The Black Death is thought to have originated in the arid plains of Central Asia, where it then travelled along the Silk Road, reaching Crimea by 1343. From there, it was most likely carried by Oriental rat fleas living on the black rats that were regular passengers on merchant ships. Spreading throughout the Mediterranean and Europe, the Black Death is estimated to have killed 30–60% of Europe's total population. In total, the plague reduced the world population from an estimated 450 million down to 350–375 million in the 14th century. The world population as a whole did not recover to pre-plague levels until the 17th century. The plague recurred occasionally in Europe until the 19th century.\""
      ]
     },
     "execution_count": 10,
     "metadata": {},
     "output_type": "execute_result"
    }
   ],
   "source": [
    "arts[ind_ex]['paragraphs'][0]['context']"
   ]
  },
  {
   "cell_type": "code",
   "execution_count": 11,
   "metadata": {},
   "outputs": [
    {
     "data": {
      "text/plain": [
       "dict_keys(['qas', 'context', 'allenNER', 'context_blanked', 'blank_classification', 'blank_classified_allen'])"
      ]
     },
     "execution_count": 11,
     "metadata": {},
     "output_type": "execute_result"
    }
   ],
   "source": [
    "# Convert AllenNLP Model blanks classification into standard format\n",
    "\n",
    "# If doing merge, use unique name for this model result. Otherwise, use generic name\n",
    "if merge_in_NER_data: fieldname = 'blank_classified_allenMODEL'\n",
    "else: fieldname = 'blank_classified_allen'\n",
    "\n",
    "arts = allenNLP_classify_blanks(arts,'0',fieldname)\n",
    "arts[0]['paragraphs'][0].keys()"
   ]
  },
  {
   "cell_type": "markdown",
   "metadata": {},
   "source": [
    "# Load NER data and merge into arts dataset"
   ]
  },
  {
   "cell_type": "code",
   "execution_count": 12,
   "metadata": {},
   "outputs": [],
   "source": [
    "\n",
    "if merge_in_NER_data:\n",
    "    # Load data containing NEP (predictions)\n",
    "    foldername = get_foldername('sq_pp_ner')\n",
    "\n",
    "    arts_NER = load_data('train.json',foldername)[ind_train] + load_data('dev.json',foldername)[ind_dev]\n",
    "    print(arts[1]['title'])\n",
    "    # print(arts[1]['paragraphs'][0]['context'])\n",
    "\n",
    "    # Make sure all titles match\n",
    "    all_title_pairs = [(a1['title'],a3['title']) for a1,a3 in zip(arts,arts_NER)]\n",
    "    titles_match_bool = [a1['title'] == a3['title'] for a1,a3 in zip(arts,arts_NER)]\n",
    "    print(\"Matching titles: {} \\nTotal articles {}\".format(sum(titles_match_bool),len(titles_match_bool)))\n",
    "    if not sum(titles_match_bool) == len(titles_match_bool):\n",
    "        raise ValueError('Articles mismatch.')\n",
    "\n",
    "    # Convert AllenNLP Model blanks classification into standard format\n",
    "    from utils_NLP import allenNLP_classify_blanks\n",
    "    arts_NER = allenNLP_classify_blanks(arts_NER,'O','blank_classified_allenNER')\n",
    "    print(arts_NER[0]['paragraphs'][0].keys())\n",
    "\n",
    "    # Merge NER data into full dataset\n",
    "    list_of_fields = ['blank_classified_allenNER']\n",
    "    arts = merge_arts_paragraph_fields(arts,arts_NER,list_of_fields)\n",
    "    print(arts[0]['paragraphs'][0].keys())"
   ]
  },
  {
   "cell_type": "code",
   "execution_count": 13,
   "metadata": {},
   "outputs": [],
   "source": [
    "# OR operation on blank_classified_allenMODEL and blank_classified_allenNER into blank_classified_allenMODEL\n",
    "\n",
    "if merge_in_NER_data:\n",
    "    destination_fieldname = 'blank_classified_allen'\n",
    "    arts = OR_arts_paragraph_fields(arts,['blank_classified_allenMODEL','blank_classified_allenNER'],destination_fieldname)\n",
    "\n",
    "    p = arts[0]['paragraphs'][1]\n",
    "    print(p['blank_classified_allenNER'])\n",
    "    print(p['blank_classified_allenMODEL'])\n",
    "    print(p['blank_classified_allen'])\n"
   ]
  },
  {
   "cell_type": "markdown",
   "metadata": {},
   "source": [
    "# Compare paragraph word reconstructions"
   ]
  },
  {
   "cell_type": "markdown",
   "metadata": {},
   "source": [
    "This just looks at the words in the different saved fiels files to make sure all the words match up 1:1 (otherwise, this could mess up our evaluations). Not looking at blanks here at all. The next sectoin looks at the blanks"
   ]
  },
  {
   "cell_type": "code",
   "execution_count": 14,
   "metadata": {},
   "outputs": [],
   "source": [
    "# Pull out sample paragraph\n",
    "p = arts[ind_ex]['paragraphs'][0]"
   ]
  },
  {
   "cell_type": "markdown",
   "metadata": {},
   "source": [
    "## AllenNLP Words"
   ]
  },
  {
   "cell_type": "code",
   "execution_count": 15,
   "metadata": {},
   "outputs": [
    {
     "name": "stdout",
     "output_type": "stream",
     "text": [
      "131\n",
      "131\n",
      "The Black Death is thought to have originated in the arid plains of Central Asia, where it then travelled along the Silk Road, reaching Crimea by 1343. From there, it was most likely carried by Oriental rat fleas living on the black rats that were regular passengers on merchant ships. Spreading throughout the Mediterranean and Europe, the Black Death is estimated to have killed 30–60 % of Europe 's total population. In total, the plague reduced the world population from an estimated 450 million down to 350–375 million in the 14th century. The world population as a whole did not recover to pre - plague levels until the 17th century. The plague recurred occasionally in Europe until the 19th century.\n",
      "706\n"
     ]
    }
   ],
   "source": [
    "words = p['allenNER']['words'].split()\n",
    "tags = p['allenNER']['tags'].split()\n",
    "print(len(words))\n",
    "print(len(tags))\n",
    "print(words2text(words))\n",
    "print(len(words2text(words)))"
   ]
  },
  {
   "cell_type": "markdown",
   "metadata": {},
   "source": [
    "## Context"
   ]
  },
  {
   "cell_type": "code",
   "execution_count": 16,
   "metadata": {},
   "outputs": [
    {
     "name": "stdout",
     "output_type": "stream",
     "text": [
      "131\n",
      "The Black Death is thought to have originated in the arid plains of Central Asia, where it then travelled along the Silk Road, reaching Crimea by 1343. From there, it was most likely carried by Oriental rat fleas living on the black rats that were regular passengers on merchant ships. Spreading throughout the Mediterranean and Europe, the Black Death is estimated to have killed 30–60 % of Europe 's total population. In total, the plague reduced the world population from an estimated 450 million down to 350–375 million in the 14th century. The world population as a whole did not recover to pre - plague levels until the 17th century. The plague recurred occasionally in Europe until the 19th century.\n",
      "706\n"
     ]
    }
   ],
   "source": [
    "from utils_NLP import allenNLP_split_words, join_punctuation\n",
    "\n",
    "context = p['context']\n",
    "context_split = allenNLP_split_words(context)\n",
    "\n",
    "# context_reassembled = ' '.join(context_split)\n",
    "context_reassembled = words2text(context_split)\n",
    "\n",
    "print(len(context_split))\n",
    "# print(words2text(context_split))\n",
    "# print(len(words2text(context_split)))\n",
    "print(context_reassembled)\n",
    "print(len(context_reassembled))\n"
   ]
  },
  {
   "cell_type": "markdown",
   "metadata": {},
   "source": [
    "## Context_blanked"
   ]
  },
  {
   "cell_type": "code",
   "execution_count": 17,
   "metadata": {},
   "outputs": [
    {
     "name": "stdout",
     "output_type": "stream",
     "text": [
      "131\n",
      "dict_keys(['qas', 'context', 'allenNER', 'context_blanked', 'blank_classification', 'blank_classified_allen'])\n",
      "The Black Death is thought to have originated in the arid plains of ______ ______ , where it then travelled along the ______ ______ , reaching Crimea by 1343 . From there , it was most likely carried by Oriental rat fleas living on the black rats that were regular passengers on ______ ______ . Spreading throughout the Mediterranean and Europe , the Black Death is estimated to have killed 30–60 % of Europe 's total population . In total , the plague reduced the world population from an estimated 450 million down to 350–375 million in the 14th ______ . The world population as a whole did not recover to pre - plague levels until the ______ ______ . The plague recurred occasionally in Europe until the ______ ______ .\n"
     ]
    }
   ],
   "source": [
    "print(len(p['blank_classification']))\n",
    "print(p.keys())\n",
    "print(p['context_blanked'])"
   ]
  },
  {
   "cell_type": "code",
   "execution_count": 18,
   "metadata": {},
   "outputs": [
    {
     "name": "stdout",
     "output_type": "stream",
     "text": [
      "Central\n",
      "Asia\n",
      "Silk\n",
      "Road\n",
      "merchant\n",
      "ships\n",
      "century\n",
      "17th\n",
      "century\n",
      "19th\n",
      "century\n"
     ]
    }
   ],
   "source": [
    "# Answers\n",
    "for i,c in enumerate(p['blank_classification']):\n",
    "    if c == 1: print(context_split[i])"
   ]
  },
  {
   "cell_type": "markdown",
   "metadata": {},
   "source": [
    "# Single paragraph - Compare blanks"
   ]
  },
  {
   "cell_type": "markdown",
   "metadata": {},
   "source": [
    "## First, just look at the raw text"
   ]
  },
  {
   "cell_type": "code",
   "execution_count": 19,
   "metadata": {},
   "outputs": [],
   "source": [
    "# Pull out sample paragraph\n",
    "p = arts[ind_ex]['paragraphs'][0]\n",
    "\n",
    "# # Print all AllenNLP classifications\n",
    "# print([(a,b) for a,b in zip(p['allenNER']['words'].split(), p['allenNER']['tags'].split())])\n",
    "\n",
    "# AllenNLP results\n",
    "words = p['allenNER']['words'].split()\n",
    "# tags = p['allenNER']['tags'].split()\n",
    "# tags = [not t == '0' for t in tags]   # Convert to binary\n",
    "tags = p['blank_classified_allen']\n",
    "\n",
    "# Ground truth\n",
    "blank_classification = p['blank_classification']"
   ]
  },
  {
   "cell_type": "code",
   "execution_count": 20,
   "metadata": {},
   "outputs": [
    {
     "name": "stdout",
     "output_type": "stream",
     "text": [
      "Length Allen tags: 131. Length ground truth blanks: 131\n"
     ]
    }
   ],
   "source": [
    "\n",
    "\n",
    "print(\"Length Allen tags: {}. Length ground truth blanks: {}\".format(len(tags),len(blank_classification)))"
   ]
  },
  {
   "cell_type": "code",
   "execution_count": 21,
   "metadata": {},
   "outputs": [
    {
     "name": "stdout",
     "output_type": "stream",
     "text": [
      "============\t\t\t==========\n",
      "Ground truth\t\t\tPrediction\n",
      "============\t\t\t==========\n",
      "The\t\t\t\tThe\n",
      "Black\t\t\t\t______\n",
      "Death\t\t\t\t______\n",
      "is\t\t\t\tis\n",
      "thought\t\t\t\tthought\n",
      "to\t\t\t\tto\n",
      "have\t\t\t\thave\n",
      "originated\t\t\t\toriginated\n",
      "in\t\t\t\tin\n",
      "the\t\t\t\tthe\n",
      "arid\t\t\t\t______\n",
      "plains\t\t\t\t______\n",
      "of\t\t\t\tof\n",
      "______\t\t\t\tCentral\n",
      "______\t\t\t\tAsia\n",
      ",\t\t\t\t,\n",
      "where\t\t\t\twhere\n",
      "it\t\t\t\tit\n",
      "then\t\t\t\tthen\n",
      "travelled\t\t\t\ttravelled\n"
     ]
    }
   ],
   "source": [
    "# Side by side compare\n",
    "\n",
    "words_blanked_ground_truth = words2words_blanked(words,blank_classification)\n",
    "words_blanked_allen = words2words_blanked(words,tags)\n",
    "\n",
    "N=len(words_blanked_ground_truth)\n",
    "N=20\n",
    "print(\"============\" + '\\t\\t\\t' + \"==========\")\n",
    "print(\"Ground truth\" + '\\t\\t\\t' + \"Prediction\")\n",
    "print(\"============\" + '\\t\\t\\t' + \"==========\")\n",
    "for c,w in zip(words_blanked_ground_truth[:N],words_blanked_allen[:N]):\n",
    "    print(c + '\\t\\t\\t\\t' + w)\n"
   ]
  },
  {
   "cell_type": "markdown",
   "metadata": {},
   "source": [
    "## Ground truth blanked"
   ]
  },
  {
   "cell_type": "code",
   "execution_count": 22,
   "metadata": {},
   "outputs": [
    {
     "name": "stdout",
     "output_type": "stream",
     "text": [
      "The Black Death is thought to have originated in the arid plains of ______ ______, where it then travelled along the ______ ______, reaching Crimea by 1343. From there, it was most likely carried by Oriental rat fleas living on the black rats that were regular passengers on ______ ______. Spreading throughout the Mediterranean and Europe, the Black Death is estimated to have killed 30–60 % of Europe 's total population. In total, the plague reduced the world population from an estimated 450 million down to 350–375 million in the 14th ______. The world population as a whole did not recover to pre - plague levels until the ______ ______. The plague recurred occasionally in Europe until the ______ ______.\n",
      "Answers:\n",
      "['Central', 'Asia', 'Silk', 'Road', 'merchant', 'ships', 'century', '17th', 'century', '19th', 'century']\n"
     ]
    }
   ],
   "source": [
    "# Blanked text\n",
    "print(words2text(words_blanked_ground_truth))\n",
    "\n",
    "# Answers    \n",
    "myanswers = words2answers(words,blank_classification)\n",
    "print(\"Answers:\")\n",
    "print(myanswers)"
   ]
  },
  {
   "cell_type": "code",
   "execution_count": 23,
   "metadata": {},
   "outputs": [
    {
     "name": "stdout",
     "output_type": "stream",
     "text": [
      "The ______ ______ is thought to have originated in the ______ ______ of Central Asia, where it then travelled along the ______ ______, reaching Crimea by ______. From there, it was most likely carried by Oriental ______ ______ living on the black rats that were regular passengers on merchant ships. Spreading throughout the Mediterranean and Europe, the Black Death is estimated to have killed 30–60 % of Europe 's total population. In total, the plague reduced the world population from an estimated ______ ______ down to ______ ______ in the 14th century. The world population as a whole did not recover to pre - plague levels until the ______ ______. The plague recurred occasionally in Europe until the 19th century.\n",
      "Answers:\n",
      "['Black', 'Death', 'arid', 'plains', 'Silk', 'Road', '1343', 'rat', 'fleas', '450', 'million', '350–375', 'million', '17th', 'century']\n"
     ]
    }
   ],
   "source": [
    "# Blanked text\n",
    "print(words2text(words_blanked_allen))\n",
    "\n",
    "# Answers    \n",
    "myanswers = words2answers(words,tags)\n",
    "print(\"Answers:\")\n",
    "print(myanswers)"
   ]
  },
  {
   "cell_type": "code",
   "execution_count": 24,
   "metadata": {},
   "outputs": [],
   "source": [
    "TP = sum([b and t for b,t in zip(blank_classification,tags)])\n",
    "FP = sum([not b and t for b,t in zip(blank_classification,tags)])\n",
    "FN = sum([b and not t for b,t in zip(blank_classification,tags)])\n",
    "TN = sum([not b and not t for b,t in zip(blank_classification,tags)])\n",
    "ACC = (TP+TN)/(TP+FP+FN+TN)\n",
    "ACC2 = sum([b == t for b,t in zip(blank_classification,tags)]) / len(tags)"
   ]
  },
  {
   "cell_type": "code",
   "execution_count": 25,
   "metadata": {},
   "outputs": [
    {
     "name": "stdout",
     "output_type": "stream",
     "text": [
      "0.8625954198473282\n",
      "0.8625954198473282\n",
      "4\n",
      "11\n"
     ]
    }
   ],
   "source": [
    "print(ACC)\n",
    "print(ACC2)\n",
    "print(TP)\n",
    "print(FP)"
   ]
  },
  {
   "cell_type": "code",
   "execution_count": 26,
   "metadata": {},
   "outputs": [],
   "source": [
    "# Sensitivity, hit rate, recall, or true positive rate\n",
    "TPR = TP/(TP+FN)\n",
    "# Specificity or true negative rate\n",
    "TNR = TN/(TN+FP) \n",
    "# Precision or positive predictive value\n",
    "PPV = TP/(TP+FP)\n",
    "# Negative predictive value\n",
    "NPV = TN/(TN+FN)\n",
    "# Fall out or false positive rate\n",
    "FPR = FP/(FP+TN)\n",
    "# False negative rate\n",
    "FNR = FN/(TP+FN)\n",
    "# False discovery rate\n",
    "FDR = FP/(TP+FP)\n"
   ]
  },
  {
   "cell_type": "code",
   "execution_count": 27,
   "metadata": {},
   "outputs": [
    {
     "name": "stdout",
     "output_type": "stream",
     "text": [
      "0.36363636363636365\n",
      "0.09166666666666666\n"
     ]
    }
   ],
   "source": [
    "print(TPR)\n",
    "print(FPR)"
   ]
  },
  {
   "cell_type": "code",
   "execution_count": 28,
   "metadata": {},
   "outputs": [
    {
     "name": "stdout",
     "output_type": "stream",
     "text": [
      "Nsentences=6\n",
      "Nsentences_from_words=6\n"
     ]
    }
   ],
   "source": [
    "Nsentences = len(text2sentences(p['context']))\n",
    "print(\"Nsentences={}\".format(str(Nsentences)))\n",
    "\n",
    "Nsentences2 = len(text2sentences(words2text(words)))\n",
    "print(\"Nsentences_from_words={}\".format(str(Nsentences2)))\n",
    "\n"
   ]
  },
  {
   "cell_type": "code",
   "execution_count": 29,
   "metadata": {},
   "outputs": [
    {
     "name": "stdout",
     "output_type": "stream",
     "text": [
      "0.6666666666666666\n",
      "1.8333333333333333\n"
     ]
    }
   ],
   "source": [
    "TPpersent = TP / Nsentences2\n",
    "FPpersent = FP / Nsentences2\n",
    "\n",
    "print(TPpersent)\n",
    "print(FPpersent)"
   ]
  },
  {
   "cell_type": "markdown",
   "metadata": {},
   "source": [
    "# Single article - compare blanks"
   ]
  },
  {
   "cell_type": "code",
   "execution_count": 30,
   "metadata": {},
   "outputs": [
    {
     "name": "stdout",
     "output_type": "stream",
     "text": [
      "Black_Death\n"
     ]
    }
   ],
   "source": [
    "##### Pull out sample paragraph\n",
    "a = arts[ind_ex]\n",
    "print(a['title'])\n",
    "\n",
    "# AllenNLP results\n",
    "words = [w for p in a['paragraphs'] for w in p['allenNER']['words'].split()]\n",
    "# tags = [t for p in a['paragraphs'] for t in p['allenNER']['tags'].split()]\n",
    "# tags = [not t == '0' for t in tags]   # Convert to binary\n",
    "tags = [t for p in a['paragraphs'] for t in p['blank_classified_allen']]\n",
    "\n",
    "# Ground truth\n",
    "blank_classification = [bc for p in a['paragraphs'] for bc in p['blank_classification']]"
   ]
  },
  {
   "cell_type": "code",
   "execution_count": 31,
   "metadata": {},
   "outputs": [
    {
     "name": "stdout",
     "output_type": "stream",
     "text": [
      "Length Allen tags: 3683. Length ground truth blanks: 3683\n"
     ]
    }
   ],
   "source": [
    "\n",
    "print(\"Length Allen tags: {}. Length ground truth blanks: {}\".format(len(tags),len(blank_classification)))"
   ]
  },
  {
   "cell_type": "code",
   "execution_count": 32,
   "metadata": {},
   "outputs": [
    {
     "name": "stdout",
     "output_type": "stream",
     "text": [
      "========\t\t\t============\t\t\t==========\n",
      "Original\t\t\tGround truth\t\t\tPrediction\n",
      "========\t\t\t============\t\t\t==========\n",
      "The\t\t\t\tThe\t\t\t\tThe\n",
      "Black\t\t\t\tBlack\t\t\t\t______\n",
      "Death\t\t\t\tDeath\t\t\t\t______\n",
      "is\t\t\t\tis\t\t\t\tis\n",
      "thought\t\t\t\tthought\t\t\t\tthought\n",
      "to\t\t\t\tto\t\t\t\tto\n",
      "have\t\t\t\thave\t\t\t\thave\n",
      "originated\t\t\t\toriginated\t\t\t\toriginated\n",
      "in\t\t\t\tin\t\t\t\tin\n",
      "the\t\t\t\tthe\t\t\t\tthe\n",
      "arid\t\t\t\tarid\t\t\t\t______\n",
      "plains\t\t\t\tplains\t\t\t\t______\n",
      "of\t\t\t\tof\t\t\t\tof\n",
      "Central\t\t\t\t______\t\t\t\tCentral\n",
      "Asia\t\t\t\t______\t\t\t\tAsia\n",
      ",\t\t\t\t,\t\t\t\t,\n",
      "where\t\t\t\twhere\t\t\t\twhere\n",
      "it\t\t\t\tit\t\t\t\tit\n",
      "then\t\t\t\tthen\t\t\t\tthen\n",
      "travelled\t\t\t\ttravelled\t\t\t\ttravelled\n",
      "along\t\t\t\talong\t\t\t\talong\n",
      "the\t\t\t\tthe\t\t\t\tthe\n",
      "Silk\t\t\t\t______\t\t\t\t______\n",
      "Road\t\t\t\t______\t\t\t\t______\n",
      ",\t\t\t\t,\t\t\t\t,\n",
      "reaching\t\t\t\treaching\t\t\t\treaching\n",
      "Crimea\t\t\t\tCrimea\t\t\t\tCrimea\n",
      "by\t\t\t\tby\t\t\t\tby\n",
      "1343\t\t\t\t1343\t\t\t\t______\n",
      ".\t\t\t\t.\t\t\t\t.\n"
     ]
    }
   ],
   "source": [
    "# Side by side compare\n",
    "words_blanked_ground_truth = words2words_blanked(words,blank_classification)\n",
    "words_blanked_allen = words2words_blanked(words,tags)\n",
    "\n",
    "N=len(words_blanked_ground_truth)\n",
    "N=30\n",
    "print(\"========\" + '\\t\\t\\t' + \"============\" + '\\t\\t\\t' + \"==========\")\n",
    "print(\"Original\" + '\\t\\t\\t' + \"Ground truth\" + '\\t\\t\\t' + \"Prediction\")\n",
    "print(\"========\" + '\\t\\t\\t' + \"============\" + '\\t\\t\\t' + \"==========\")\n",
    "for o,c,w in zip(words[:N],words_blanked_ground_truth[:N],words_blanked_allen[:N]):\n",
    "    print(o + '\\t\\t\\t\\t' + c + '\\t\\t\\t\\t' + w)\n"
   ]
  },
  {
   "cell_type": "code",
   "execution_count": 33,
   "metadata": {},
   "outputs": [],
   "source": [
    "TP = sum([b and t for b,t in zip(blank_classification,tags)])\n",
    "FP = sum([not b and t for b,t in zip(blank_classification,tags)])\n",
    "FN = sum([b and not t for b,t in zip(blank_classification,tags)])\n",
    "TN = sum([not b and not t for b,t in zip(blank_classification,tags)])\n",
    "ACC = (TP+TN)/(TP+FP+FN+TN)\n",
    "ACC2 = sum([b == t for b,t in zip(blank_classification,tags)]) / len(tags)"
   ]
  },
  {
   "cell_type": "code",
   "execution_count": 34,
   "metadata": {},
   "outputs": [
    {
     "name": "stdout",
     "output_type": "stream",
     "text": [
      "0.8810752104262829\n",
      "0.8810752104262829\n"
     ]
    }
   ],
   "source": [
    "print(ACC)\n",
    "print(ACC2)"
   ]
  },
  {
   "cell_type": "code",
   "execution_count": 35,
   "metadata": {},
   "outputs": [],
   "source": [
    "# # Sensitivity, hit rate, recall, or true positive rate\n",
    "# TPR = TP/(TP+FN)\n",
    "# # Specificity or true negative rate\n",
    "# TNR = TN/(TN+FP) \n",
    "# # Precision or positive predictive value\n",
    "# PPV = TP/(TP+FP)\n",
    "# # Negative predictive value\n",
    "# NPV = TN/(TN+FN)\n",
    "# # Fall out or false positive rate\n",
    "# FPR = FP/(FP+TN)\n",
    "# # False negative rate\n",
    "# FNR = FN/(TP+FN)\n",
    "# # False discovery rate\n",
    "# FDR = FP/(TP+FP)\n"
   ]
  },
  {
   "cell_type": "code",
   "execution_count": 36,
   "metadata": {},
   "outputs": [],
   "source": [
    "# print(TPR)\n",
    "# print(FPR)"
   ]
  },
  {
   "cell_type": "code",
   "execution_count": 37,
   "metadata": {},
   "outputs": [
    {
     "name": "stdout",
     "output_type": "stream",
     "text": [
      "Nsentences_from_words=126\n"
     ]
    }
   ],
   "source": [
    "Nsentences2 = len(text2sentences(words2text(words)))\n",
    "print(\"Nsentences_from_words={}\".format(str(Nsentences2)))"
   ]
  },
  {
   "cell_type": "code",
   "execution_count": 38,
   "metadata": {},
   "outputs": [
    {
     "name": "stdout",
     "output_type": "stream",
     "text": [
      "0.7301587301587301\n",
      "2.9206349206349205\n"
     ]
    }
   ],
   "source": [
    "TPpersent = TP / Nsentences2\n",
    "FPpersent = FP / Nsentences2\n",
    "\n",
    "print(TPpersent)\n",
    "print(FPpersent)"
   ]
  },
  {
   "cell_type": "markdown",
   "metadata": {},
   "source": [
    "## Ground truth blanked vs predicted blanked"
   ]
  },
  {
   "cell_type": "code",
   "execution_count": 39,
   "metadata": {},
   "outputs": [
    {
     "name": "stdout",
     "output_type": "stream",
     "text": [
      "Answers:\n",
      "{'Kong', 'heavens', 'genetic', 'plague', '1377', '1665', 'Asia', '1350', 'corpses', '1331', '1908', 'Sicily', 'million', 'bad', 'commonly', '17th', 'isolated', '1349', 'Yersinia', 'J.I.', 'marginal', 'Genoese', 'infected', '100,000', 'Jani', 'Y.', 'Smithfield', 'Silk', '1823', 'October', '1.7', '5', 'much', '38–41', 'atra', 'population', '1347', '40,000', 'bubonic', 'fleas', '1338–39', '100–106', 'China', '2010', 'Scandinavia', 'areas', 'air', 'third', '22', '1654', 'mors', '2011', 'account', '1500', '95', 'Miasma', '19th', 'Gasquet', '80', 'present', 'Russia', 'Half', 'rats', '90', 'Central', 'traders', 'pestis', 'half', 'Yersin', 'Italian', 'confirmed', 'faster', 'Hong', '1850', 'king', 'ships', 'century', 'England', 'Beg', 'clergy', 'theory', '15', 'Plague', 'Pontanus', 'Constantinople', 'Germany', 'Justinian', 'north', 'percent', 'autumn', 'trade', 'branches', 'anthrax', 'Alexandre', 'form', 'spring', 'significance', 'figures', 'northwestern', '1720', 'epidemiological', 'merchant', 'France', 'dating', 'East', 'Road', 'northwest', 'amended', '25'}\n"
     ]
    }
   ],
   "source": [
    "# Blanked text\n",
    "# print(words2text(words_blanked_ground_truth))\n",
    "\n",
    "# Answers    \n",
    "myanswers = words2answers(words,blank_classification)\n",
    "print(\"Answers:\")\n",
    "print(set(myanswers))"
   ]
  },
  {
   "cell_type": "code",
   "execution_count": 40,
   "metadata": {},
   "outputs": [
    {
     "name": "stdout",
     "output_type": "stream",
     "text": [
      "Answers:\n",
      "{'1970', 'India', 'heavens', 'November', 'Basque', '350–375', 'farming', 'plague', 'PCR', 'genetic', '1671', '1377', 'hypothesis', 'southern', 'Hanseatic', 'Nestorian', 'blood', '1665', '1350', 'resurgences', 'Herlihy', 'Paris', 'blamed', '1331', '1894', 'Ages', '30', '1908', 'Middle', 'Haensch', 'transmission', 'Sicily', 'million', 'Egypt', 'bad', 'Raoult', 'cold', 'Ebola', '1649', 'Islamic', '14th', 'infections', 'Twigg', '17th', 'poisoning', 'enzootic', 'identification', '1349', 'Yersinia', 'western', 'J.I.', 'marginal', 'whence', 'medical', 'symptoms', 'Genoese', '1750', 'faculty', '1898', '1893', 'depopulation', 'rural', '100,000', '1679', 'preincident', 'Florence', 'Low', 'Ottoman', 'Jani', 'sceptics', 'septicemic', 'Kyrgyzstan', '1330s', 'Y.', 'Smithfield', 'Silk', '1823', 'Graham', '15th', 'October', 'Domesday', '1.7', 'tooth', '1628–31', 'pestilence', 'transference', 'Norman', 'Helsinki', 'recurrence', 'rat', 'Norway', 'atra', 'survival', 'human', 'high', 'range', '1347', 'Europe', '40,000', 'Britain', 'bubonic', 'Bjørgvin', 'fleas', '7', 'mortality', '1.25', 'Simond', 'plains', 'wills', 'China', 'ancient', '2010', 'Scandinavia', 'air', 'Tudor', 'buboes', 'Clerkenwell', 'Pestilence', 'Mongol', '1654', 'hosts', 'smallpox', 'mors', 'lungs', '1346', 'Septicemic', 'Cantor', '300,000', '1865', '95', 'Miasma', 'unique', '1345', 'Gasquet', '80', 'Russia', 'Scott', 'infection', 'Mediterranean', '1631', 'famine', 'red', 'Italy', '1343', 'rats', 'epidemic', '170,000', 'pestis', '1466', 'Syria', '450', 'Yersin', 'great', 'sockets', 'arid', 'Askøy', 'Sea', '1984', 'Antioch', 'regurgitation', '1850', 'Black', 'Alexandria', 'king', 'Drancourt', 'Netherlands', 'clergy', 'century', 'Plague', 'Beg', 'England', 'theory', 'untreated', 'airborne', 'Pontanus', 'Constantinople', 'pneumonic', 'Uganda', 'David', 'Germany', '1374', '1701', 'Justinian', 'black', 'Portugal', 'Africa', '541', '1490', 'Crimea', 'Biraben', 'rodents', 'percent', 'Iran', 'autumn', 'medieval', 'branches', 'Spain', 'Duncan', '1361', 'Death', 'anthrax', '1351', 'stagnated', 'Alexandre', 'June', '1656', 'Book', 'bright', 'sufferers', '1348–50', 'purple', '13th', 'hemorrhagic', 'three', 'clades', 'significance', 'Marseille', 'London', '1479–80', '2', '1997', 'sputum', 'blockage', '4', 'outbreaks', 'DNA', '2001', '1528', 'northwestern', 'typhus', '1720', '1348', 'Danish', 'epidemiological', 'region', 'social', 'endemic', 'France', 'disease', 'East', 'death', '1471', 'Kaffa', 'respiratory', '1629–1631', 'Road', 'CE', 'Public', '25'}\n"
     ]
    }
   ],
   "source": [
    "# Blanked text\n",
    "# print(words2text(words_blanked_allen))\n",
    "\n",
    "# Answers    \n",
    "myanswers = words2answers(words,tags)\n",
    "print(\"Answers:\")\n",
    "print(set(myanswers))"
   ]
  },
  {
   "cell_type": "code",
   "execution_count": null,
   "metadata": {},
   "outputs": [],
   "source": []
  },
  {
   "cell_type": "markdown",
   "metadata": {},
   "source": [
    "## Fract of answers blanked"
   ]
  },
  {
   "cell_type": "markdown",
   "metadata": {},
   "source": [
    "### Fract answers blanked vs num answers"
   ]
  },
  {
   "cell_type": "code",
   "execution_count": 41,
   "metadata": {},
   "outputs": [],
   "source": [
    "fracblanked,numblanked,myanswers_unique = calc_fracblanked(words,tags)"
   ]
  },
  {
   "cell_type": "code",
   "execution_count": 42,
   "metadata": {},
   "outputs": [
    {
     "data": {
      "text/plain": [
       "Text(0, 0.5, 'Num occurrences')"
      ]
     },
     "execution_count": 42,
     "metadata": {},
     "output_type": "execute_result"
    },
    {
     "data": {
      "image/png": "[encoded data removed]",
      "text/plain": [
       "<Figure size 576x576 with 1 Axes>"
      ]
     },
     "metadata": {
      "needs_background": "light"
     },
     "output_type": "display_data"
    }
   ],
   "source": [
    "# Do scatter plot\n",
    "y = numblanked\n",
    "z = fracblanked\n",
    "n = myanswers_unique\n",
    "\n",
    "fig, ax = plt.subplots(figsize=(8, 8))\n",
    "ax.scatter(z, y)\n",
    "\n",
    "for i, txt in enumerate(n):\n",
    "    ax.annotate(txt, (z[i], y[i]))\n",
    "plt.xlabel('Percentage of times blanked out')\n",
    "plt.ylabel('Num occurrences')"
   ]
  },
  {
   "cell_type": "markdown",
   "metadata": {},
   "source": [
    "### Fract answers blanked for all answers"
   ]
  },
  {
   "cell_type": "code",
   "execution_count": 43,
   "metadata": {},
   "outputs": [
    {
     "data": {
      "image/png": "[encoded data removed]",
      "text/plain": [
       "<Figure size 576x576 with 1 Axes>"
      ]
     },
     "metadata": {},
     "output_type": "display_data"
    }
   ],
   "source": [
    "import numpy as np\n",
    "import pandas as pd\n",
    "\n",
    "d = {'myanswers_unique':myanswers_unique,'fracblanked':fracblanked}\n",
    "\n",
    "df = pd.DataFrame(data=d);\n",
    "\n",
    "df2 = df.sort_values(by='fracblanked',ascending=True);\n",
    "\n",
    "\n",
    "\n",
    "N=30          # of data points to show\n",
    "figure(num=None, figsize=(8, 8),facecolor='w', edgecolor='k')\n",
    "bars = (df2['myanswers_unique'].values.tolist())[0:N]\n",
    "y_pos = np.arange(len(bars))\n",
    "val = (df2['fracblanked'].values.tolist())[0:N]\n",
    "y_pos = np.arange(len(bars))\n",
    " \n",
    "# Create horizontal bars\n",
    "plt.barh(y_pos, val)\n",
    " \n",
    "# Create names on the y-axis\n",
    "plt.yticks(y_pos, bars)\n",
    "\n",
    "plt.xlabel('Percentage of times blanked out')\n",
    "# Show graphic\n",
    "plt.show()\n",
    "\n"
   ]
  },
  {
   "cell_type": "markdown",
   "metadata": {},
   "source": [
    "### Fractions of NER tags blanked"
   ]
  },
  {
   "cell_type": "code",
   "execution_count": 44,
   "metadata": {},
   "outputs": [],
   "source": [
    "d = calc_grammatical_tags_dict(words,tags)"
   ]
  },
  {
   "cell_type": "code",
   "execution_count": 45,
   "metadata": {},
   "outputs": [],
   "source": [
    "df = pd.DataFrame(data=d)\n",
    "xlabs=[]\n",
    "yvals=[]\n",
    "\n",
    "# Search through keys and unique items therein, counting \"Trues\"\n",
    "keys = ['ner']\n",
    "for k in keys:\n",
    "    for item in list(set(d[k])):\n",
    "        df2 = df.loc[df[k] == item]\n",
    "        mysum = df2.sum()['tags']\n",
    "        N = len(df2)\n",
    "        \n",
    "        xlabs.append(k.upper() + ': ' + item.lower())\n",
    "        yvals.append(mysum/N*100)\n",
    "\n",
    "        "
   ]
  },
  {
   "cell_type": "code",
   "execution_count": 46,
   "metadata": {},
   "outputs": [
    {
     "data": {
      "text/html": [
       "<div>\n",
       "<style scoped>\n",
       "    .dataframe tbody tr th:only-of-type {\n",
       "        vertical-align: middle;\n",
       "    }\n",
       "\n",
       "    .dataframe tbody tr th {\n",
       "        vertical-align: top;\n",
       "    }\n",
       "\n",
       "    .dataframe thead th {\n",
       "        text-align: right;\n",
       "    }\n",
       "</style>\n",
       "<table border=\"1\" class=\"dataframe\">\n",
       "  <thead>\n",
       "    <tr style=\"text-align: right;\">\n",
       "      <th></th>\n",
       "      <th>ind</th>\n",
       "      <th>words</th>\n",
       "      <th>tags</th>\n",
       "      <th>pos</th>\n",
       "      <th>ner</th>\n",
       "      <th>dep</th>\n",
       "    </tr>\n",
       "  </thead>\n",
       "  <tbody>\n",
       "    <tr>\n",
       "      <th>319</th>\n",
       "      <td>319</td>\n",
       "      <td>Constantinople</td>\n",
       "      <td>1</td>\n",
       "      <td>PROPN</td>\n",
       "      <td>PERSON</td>\n",
       "      <td>dobj</td>\n",
       "    </tr>\n",
       "    <tr>\n",
       "      <th>356</th>\n",
       "      <td>356</td>\n",
       "      <td>Jani</td>\n",
       "      <td>1</td>\n",
       "      <td>PROPN</td>\n",
       "      <td>PERSON</td>\n",
       "      <td>compound</td>\n",
       "    </tr>\n",
       "    <tr>\n",
       "      <th>357</th>\n",
       "      <td>357</td>\n",
       "      <td>Beg</td>\n",
       "      <td>1</td>\n",
       "      <td>PROPN</td>\n",
       "      <td>PERSON</td>\n",
       "      <td>pobj</td>\n",
       "    </tr>\n",
       "    <tr>\n",
       "      <th>489</th>\n",
       "      <td>489</td>\n",
       "      <td>Bjørgvin</td>\n",
       "      <td>1</td>\n",
       "      <td>PROPN</td>\n",
       "      <td>PERSON</td>\n",
       "      <td>pobj</td>\n",
       "    </tr>\n",
       "    <tr>\n",
       "      <th>616</th>\n",
       "      <td>616</td>\n",
       "      <td>Constantinople</td>\n",
       "      <td>1</td>\n",
       "      <td>PROPN</td>\n",
       "      <td>PERSON</td>\n",
       "      <td>pobj</td>\n",
       "    </tr>\n",
       "  </tbody>\n",
       "</table>\n",
       "</div>"
      ],
      "text/plain": [
       "     ind           words  tags    pos     ner       dep\n",
       "319  319  Constantinople     1  PROPN  PERSON      dobj\n",
       "356  356            Jani     1  PROPN  PERSON  compound\n",
       "357  357             Beg     1  PROPN  PERSON      pobj\n",
       "489  489        Bjørgvin     1  PROPN  PERSON      pobj\n",
       "616  616  Constantinople     1  PROPN  PERSON      pobj"
      ]
     },
     "execution_count": 46,
     "metadata": {},
     "output_type": "execute_result"
    }
   ],
   "source": [
    "df3 = df.loc[df['ner'] == 'PERSON']\n",
    "df3.head()           # Hmmm"
   ]
  },
  {
   "cell_type": "code",
   "execution_count": 47,
   "metadata": {},
   "outputs": [
    {
     "data": {
      "text/html": [
       "<div>\n",
       "<style scoped>\n",
       "    .dataframe tbody tr th:only-of-type {\n",
       "        vertical-align: middle;\n",
       "    }\n",
       "\n",
       "    .dataframe tbody tr th {\n",
       "        vertical-align: top;\n",
       "    }\n",
       "\n",
       "    .dataframe thead th {\n",
       "        text-align: right;\n",
       "    }\n",
       "</style>\n",
       "<table border=\"1\" class=\"dataframe\">\n",
       "  <thead>\n",
       "    <tr style=\"text-align: right;\">\n",
       "      <th></th>\n",
       "      <th>xlabs</th>\n",
       "      <th>yvals</th>\n",
       "    </tr>\n",
       "  </thead>\n",
       "  <tbody>\n",
       "    <tr>\n",
       "      <th>14</th>\n",
       "      <td>NER: money</td>\n",
       "      <td>0.000000</td>\n",
       "    </tr>\n",
       "    <tr>\n",
       "      <th>9</th>\n",
       "      <td>NER: ordinal</td>\n",
       "      <td>0.000000</td>\n",
       "    </tr>\n",
       "    <tr>\n",
       "      <th>0</th>\n",
       "      <td>NER:</td>\n",
       "      <td>6.606082</td>\n",
       "    </tr>\n",
       "    <tr>\n",
       "      <th>12</th>\n",
       "      <td>NER: percent</td>\n",
       "      <td>8.000000</td>\n",
       "    </tr>\n",
       "    <tr>\n",
       "      <th>7</th>\n",
       "      <td>NER: law</td>\n",
       "      <td>16.666667</td>\n",
       "    </tr>\n",
       "    <tr>\n",
       "      <th>8</th>\n",
       "      <td>NER: loc</td>\n",
       "      <td>22.033898</td>\n",
       "    </tr>\n",
       "    <tr>\n",
       "      <th>3</th>\n",
       "      <td>NER: cardinal</td>\n",
       "      <td>24.210526</td>\n",
       "    </tr>\n",
       "    <tr>\n",
       "      <th>1</th>\n",
       "      <td>NER: date</td>\n",
       "      <td>29.218107</td>\n",
       "    </tr>\n",
       "    <tr>\n",
       "      <th>6</th>\n",
       "      <td>NER: fac</td>\n",
       "      <td>33.333333</td>\n",
       "    </tr>\n",
       "    <tr>\n",
       "      <th>11</th>\n",
       "      <td>NER: product</td>\n",
       "      <td>33.333333</td>\n",
       "    </tr>\n",
       "    <tr>\n",
       "      <th>13</th>\n",
       "      <td>NER: quantity</td>\n",
       "      <td>33.333333</td>\n",
       "    </tr>\n",
       "    <tr>\n",
       "      <th>5</th>\n",
       "      <td>NER: org</td>\n",
       "      <td>35.714286</td>\n",
       "    </tr>\n",
       "    <tr>\n",
       "      <th>10</th>\n",
       "      <td>NER: event</td>\n",
       "      <td>39.344262</td>\n",
       "    </tr>\n",
       "    <tr>\n",
       "      <th>2</th>\n",
       "      <td>NER: norp</td>\n",
       "      <td>42.857143</td>\n",
       "    </tr>\n",
       "    <tr>\n",
       "      <th>16</th>\n",
       "      <td>NER: person</td>\n",
       "      <td>50.000000</td>\n",
       "    </tr>\n",
       "    <tr>\n",
       "      <th>15</th>\n",
       "      <td>NER: gpe</td>\n",
       "      <td>52.032520</td>\n",
       "    </tr>\n",
       "    <tr>\n",
       "      <th>4</th>\n",
       "      <td>NER: work_of_art</td>\n",
       "      <td>66.666667</td>\n",
       "    </tr>\n",
       "  </tbody>\n",
       "</table>\n",
       "</div>"
      ],
      "text/plain": [
       "               xlabs      yvals\n",
       "14        NER: money   0.000000\n",
       "9       NER: ordinal   0.000000\n",
       "0              NER:    6.606082\n",
       "12      NER: percent   8.000000\n",
       "7           NER: law  16.666667\n",
       "8           NER: loc  22.033898\n",
       "3      NER: cardinal  24.210526\n",
       "1          NER: date  29.218107\n",
       "6           NER: fac  33.333333\n",
       "11      NER: product  33.333333\n",
       "13     NER: quantity  33.333333\n",
       "5           NER: org  35.714286\n",
       "10        NER: event  39.344262\n",
       "2          NER: norp  42.857143\n",
       "16       NER: person  50.000000\n",
       "15          NER: gpe  52.032520\n",
       "4   NER: work_of_art  66.666667"
      ]
     },
     "execution_count": 47,
     "metadata": {},
     "output_type": "execute_result"
    }
   ],
   "source": [
    "df = pd.DataFrame(data={'xlabs':xlabs,'yvals':yvals})\n",
    "df = df.sort_values(by='yvals',ascending=True)\n",
    "df"
   ]
  },
  {
   "cell_type": "code",
   "execution_count": 48,
   "metadata": {},
   "outputs": [
    {
     "data": {
      "image/png": "[encoded data removed]",
      "text/plain": [
       "<Figure size 504x504 with 1 Axes>"
      ]
     },
     "metadata": {},
     "output_type": "display_data"
    }
   ],
   "source": [
    "figure(num=None, figsize=(7,7),facecolor='w', edgecolor='k')\n",
    "bars = df['xlabs']\n",
    "y_pos = np.arange(len(bars))\n",
    "val = df['yvals']\n",
    "\n",
    "# Make fake dataset\n",
    "y_pos = np.arange(len(bars))\n",
    " \n",
    "# Create horizontal bars\n",
    "plt.barh(y_pos, val)\n",
    " \n",
    "# Create names on the y-axis\n",
    "plt.yticks(y_pos, bars)\n",
    "\n",
    "plt.xlabel('% of times blanked')\n",
    "# Show graphic\n",
    "plt.show()\n"
   ]
  },
  {
   "cell_type": "markdown",
   "metadata": {},
   "source": [
    "### Fractions of POS tags blanked"
   ]
  },
  {
   "cell_type": "code",
   "execution_count": 49,
   "metadata": {},
   "outputs": [],
   "source": [
    "df = pd.DataFrame(data=d)\n",
    "xlabs=[]\n",
    "yvals=[]\n",
    "\n",
    "# Search through keys and unique items therein, counting \"Trues\"\n",
    "keys = ['pos']\n",
    "for k in keys:\n",
    "    for item in list(set(d[k])):\n",
    "        df2 = df.loc[df[k] == item]\n",
    "        mysum = df2.sum()['tags']\n",
    "        N = len(df2)\n",
    "        \n",
    "        xlabs.append(k.upper() + ': ' + item.lower())\n",
    "        yvals.append(mysum/N*100)\n",
    "\n",
    "        "
   ]
  },
  {
   "cell_type": "code",
   "execution_count": 50,
   "metadata": {},
   "outputs": [
    {
     "data": {
      "text/html": [
       "<div>\n",
       "<style scoped>\n",
       "    .dataframe tbody tr th:only-of-type {\n",
       "        vertical-align: middle;\n",
       "    }\n",
       "\n",
       "    .dataframe tbody tr th {\n",
       "        vertical-align: top;\n",
       "    }\n",
       "\n",
       "    .dataframe thead th {\n",
       "        text-align: right;\n",
       "    }\n",
       "</style>\n",
       "<table border=\"1\" class=\"dataframe\">\n",
       "  <thead>\n",
       "    <tr style=\"text-align: right;\">\n",
       "      <th></th>\n",
       "      <th>ind</th>\n",
       "      <th>words</th>\n",
       "      <th>tags</th>\n",
       "      <th>pos</th>\n",
       "      <th>ner</th>\n",
       "      <th>dep</th>\n",
       "    </tr>\n",
       "  </thead>\n",
       "  <tbody>\n",
       "    <tr>\n",
       "      <th>1</th>\n",
       "      <td>1</td>\n",
       "      <td>Black</td>\n",
       "      <td>1</td>\n",
       "      <td>PROPN</td>\n",
       "      <td>EVENT</td>\n",
       "      <td>compound</td>\n",
       "    </tr>\n",
       "    <tr>\n",
       "      <th>2</th>\n",
       "      <td>2</td>\n",
       "      <td>Death</td>\n",
       "      <td>1</td>\n",
       "      <td>PROPN</td>\n",
       "      <td>EVENT</td>\n",
       "      <td>nsubjpass</td>\n",
       "    </tr>\n",
       "    <tr>\n",
       "      <th>13</th>\n",
       "      <td>13</td>\n",
       "      <td>Central</td>\n",
       "      <td>0</td>\n",
       "      <td>PROPN</td>\n",
       "      <td>LOC</td>\n",
       "      <td>compound</td>\n",
       "    </tr>\n",
       "    <tr>\n",
       "      <th>14</th>\n",
       "      <td>14</td>\n",
       "      <td>Asia</td>\n",
       "      <td>0</td>\n",
       "      <td>PROPN</td>\n",
       "      <td>LOC</td>\n",
       "      <td>pobj</td>\n",
       "    </tr>\n",
       "    <tr>\n",
       "      <th>22</th>\n",
       "      <td>22</td>\n",
       "      <td>Silk</td>\n",
       "      <td>1</td>\n",
       "      <td>PROPN</td>\n",
       "      <td>FAC</td>\n",
       "      <td>compound</td>\n",
       "    </tr>\n",
       "  </tbody>\n",
       "</table>\n",
       "</div>"
      ],
      "text/plain": [
       "    ind    words  tags    pos    ner        dep\n",
       "1     1    Black     1  PROPN  EVENT   compound\n",
       "2     2    Death     1  PROPN  EVENT  nsubjpass\n",
       "13   13  Central     0  PROPN    LOC   compound\n",
       "14   14     Asia     0  PROPN    LOC       pobj\n",
       "22   22     Silk     1  PROPN    FAC   compound"
      ]
     },
     "execution_count": 50,
     "metadata": {},
     "output_type": "execute_result"
    }
   ],
   "source": [
    "df3 = df.loc[df['pos'] == 'PROPN']\n",
    "df3.head()           # Hmmm"
   ]
  },
  {
   "cell_type": "code",
   "execution_count": 51,
   "metadata": {},
   "outputs": [
    {
     "data": {
      "text/html": [
       "<div>\n",
       "<style scoped>\n",
       "    .dataframe tbody tr th:only-of-type {\n",
       "        vertical-align: middle;\n",
       "    }\n",
       "\n",
       "    .dataframe tbody tr th {\n",
       "        vertical-align: top;\n",
       "    }\n",
       "\n",
       "    .dataframe thead th {\n",
       "        text-align: right;\n",
       "    }\n",
       "</style>\n",
       "<table border=\"1\" class=\"dataframe\">\n",
       "  <thead>\n",
       "    <tr style=\"text-align: right;\">\n",
       "      <th></th>\n",
       "      <th>xlabs</th>\n",
       "      <th>yvals</th>\n",
       "    </tr>\n",
       "  </thead>\n",
       "  <tbody>\n",
       "    <tr>\n",
       "      <th>2</th>\n",
       "      <td>POS: punct</td>\n",
       "      <td>0.000000</td>\n",
       "    </tr>\n",
       "    <tr>\n",
       "      <th>3</th>\n",
       "      <td>POS: x</td>\n",
       "      <td>0.000000</td>\n",
       "    </tr>\n",
       "    <tr>\n",
       "      <th>7</th>\n",
       "      <td>POS: det</td>\n",
       "      <td>0.000000</td>\n",
       "    </tr>\n",
       "    <tr>\n",
       "      <th>9</th>\n",
       "      <td>POS: part</td>\n",
       "      <td>0.000000</td>\n",
       "    </tr>\n",
       "    <tr>\n",
       "      <th>10</th>\n",
       "      <td>POS: cconj</td>\n",
       "      <td>0.000000</td>\n",
       "    </tr>\n",
       "    <tr>\n",
       "      <th>12</th>\n",
       "      <td>POS: sym</td>\n",
       "      <td>0.000000</td>\n",
       "    </tr>\n",
       "    <tr>\n",
       "      <th>13</th>\n",
       "      <td>POS: pron</td>\n",
       "      <td>0.000000</td>\n",
       "    </tr>\n",
       "    <tr>\n",
       "      <th>5</th>\n",
       "      <td>POS: adp</td>\n",
       "      <td>0.173010</td>\n",
       "    </tr>\n",
       "    <tr>\n",
       "      <th>8</th>\n",
       "      <td>POS: verb</td>\n",
       "      <td>0.691244</td>\n",
       "    </tr>\n",
       "    <tr>\n",
       "      <th>6</th>\n",
       "      <td>POS: adv</td>\n",
       "      <td>0.714286</td>\n",
       "    </tr>\n",
       "    <tr>\n",
       "      <th>4</th>\n",
       "      <td>POS: adj</td>\n",
       "      <td>19.325153</td>\n",
       "    </tr>\n",
       "    <tr>\n",
       "      <th>1</th>\n",
       "      <td>POS: noun</td>\n",
       "      <td>19.369369</td>\n",
       "    </tr>\n",
       "    <tr>\n",
       "      <th>0</th>\n",
       "      <td>POS: num</td>\n",
       "      <td>43.298969</td>\n",
       "    </tr>\n",
       "    <tr>\n",
       "      <th>11</th>\n",
       "      <td>POS: propn</td>\n",
       "      <td>50.140056</td>\n",
       "    </tr>\n",
       "  </tbody>\n",
       "</table>\n",
       "</div>"
      ],
      "text/plain": [
       "         xlabs      yvals\n",
       "2   POS: punct   0.000000\n",
       "3       POS: x   0.000000\n",
       "7     POS: det   0.000000\n",
       "9    POS: part   0.000000\n",
       "10  POS: cconj   0.000000\n",
       "12    POS: sym   0.000000\n",
       "13   POS: pron   0.000000\n",
       "5     POS: adp   0.173010\n",
       "8    POS: verb   0.691244\n",
       "6     POS: adv   0.714286\n",
       "4     POS: adj  19.325153\n",
       "1    POS: noun  19.369369\n",
       "0     POS: num  43.298969\n",
       "11  POS: propn  50.140056"
      ]
     },
     "execution_count": 51,
     "metadata": {},
     "output_type": "execute_result"
    }
   ],
   "source": [
    "df = pd.DataFrame(data={'xlabs':xlabs,'yvals':yvals})\n",
    "df = df.sort_values(by='yvals',ascending=True)\n",
    "df"
   ]
  },
  {
   "cell_type": "code",
   "execution_count": 52,
   "metadata": {},
   "outputs": [
    {
     "data": {
      "image/png": "[encoded data removed]",
      "text/plain": [
       "<Figure size 504x504 with 1 Axes>"
      ]
     },
     "metadata": {},
     "output_type": "display_data"
    }
   ],
   "source": [
    "figure(num=None, figsize=(7,7),facecolor='w', edgecolor='k')\n",
    "bars = df['xlabs']\n",
    "y_pos = np.arange(len(bars))\n",
    "val = df['yvals']\n",
    "\n",
    "# Make fake dataset\n",
    "y_pos = np.arange(len(bars))\n",
    " \n",
    "# Create horizontal bars\n",
    "plt.barh(y_pos, val)\n",
    " \n",
    "# Create names on the y-axis\n",
    "plt.yticks(y_pos, bars)\n",
    "\n",
    "plt.xlabel('% of times blanked')\n",
    "# Show graphic\n",
    "plt.show()\n"
   ]
  },
  {
   "cell_type": "markdown",
   "metadata": {},
   "source": [
    "## Whole article"
   ]
  },
  {
   "cell_type": "markdown",
   "metadata": {},
   "source": [
    "### Ground truth"
   ]
  },
  {
   "cell_type": "code",
   "execution_count": 53,
   "metadata": {},
   "outputs": [],
   "source": [
    "\n",
    "# print('--------------- GROUND TRUTH ---------------')\n",
    "\n",
    "# # Pull out sample paragraph\n",
    "# for p in arts[ind_ex]['paragraphs']:\n",
    "#     # # Print all AllenNLP classifications\n",
    "#     # print([(a,b) for a,b in zip(p['allenNER']['words'].split(), p['allenNER']['tags'].split())])\n",
    "\n",
    "#     # AllenNLP results\n",
    "#     words = p['allenNER']['words'].split()\n",
    "#     # tags = p['allenNER']['tags'].split()\n",
    "#     # tags = [not t == '0' for t in tags]   # Convert to binary\n",
    "#     tags = p['blank_classified_allen']\n",
    "\n",
    "#     # Ground truth\n",
    "#     blank_classification = p['blank_classification']\n",
    "\n",
    "#     words_blanked_ground_truth = words2words_blanked(words,blank_classification)\n",
    "#     words_blanked_allen = words2words_blanked(words,tags)\n",
    "#     words_hash_ground_truth = words2words_hashblank(words,blank_classification)\n",
    "#     words_hash_allen = words2words_hashblank(words,tags)\n",
    "    \n",
    "    \n",
    "#     # Blanked text\n",
    "#     print(words2text(words_hash_ground_truth))\n",
    "\n",
    "#     # Answers    \n",
    "#     myanswers = words2answers(words,blank_classification)\n",
    "#     print(\"Answers:\")\n",
    "#     print(myanswers)\n",
    "\n",
    "    "
   ]
  },
  {
   "cell_type": "markdown",
   "metadata": {},
   "source": [
    "### My model"
   ]
  },
  {
   "cell_type": "code",
   "execution_count": 54,
   "metadata": {},
   "outputs": [
    {
     "name": "stdout",
     "output_type": "stream",
     "text": [
      "--------------- MY MODEL ---------------\n",
      "The ___Black___ ___Death___ is thought to have originated in the ___arid___ ___plains___ of Central Asia, where it then travelled along the ___Silk___ ___Road___, reaching Crimea by ___1343___. From there, it was most likely carried by Oriental ___rat___ ___fleas___ living on the black rats that were regular passengers on merchant ships. Spreading throughout the Mediterranean and Europe, the Black Death is estimated to have killed 30–60 % of Europe 's total population. In total, the plague reduced the world population from an estimated ___450___ ___million___ down to ___350–375___ ___million___ in the 14th century. The world population as a whole did not recover to pre - plague levels until the ___17th___ ___century___. The plague recurred occasionally in Europe until the 19th century.\n",
      "Answers:\n",
      "['plains', 'Black', '17th', '1343', 'rat', '350–375', 'Death', 'Silk', 'million', 'century', 'Road', '450', 'fleas', 'arid']\n",
      "The ___plague___ disease, caused by ___Yersinia___ ___pestis___, is ___enzootic___ ( commonly present ) in populations of ___fleas___ carried by ground rodents, including marmots, in various areas including Central Asia, Kurdistan, Western Asia, Northern India and ___Uganda___. ___Nestorian___ graves dating to 1338–39 near Lake Issyk Kul in ___Kyrgyzstan___ have inscriptions referring to ___plague___ and are thought by many epidemiologists to mark the outbreak of the epidemic, from which it could easily have spread to ___China___ and ___India___. In October 2010, medical geneticists suggested that all ___three___ of the great waves of the plague originated in ___China___. In ___China___, the ___13th___ ___century___ ___Mongol___ conquest caused a decline in ___farming___ and trading. However, economic recovery had been observed at the beginning of the ___14th___ ___century___. In the ___1330s___ a large number of natural disasters and plagues led to widespread ___famine___, starting in ___1331___, with a deadly plague arriving soon after. Epidemics that may have included plague killed an estimated ___25___ ___million___ Chinese and other Asians during the 15 years before it reached ___Constantinople___ in ___1347___.\n",
      "Answers:\n",
      "['famine', 'India', 'farming', 'plague', 'Kyrgyzstan', '1330s', 'Nestorian', 'pestis', '1331', '13th', 'three', 'million', '1347', 'fleas', '14th', 'China', 'century', 'enzootic', 'Mongol', 'Constantinople', 'Uganda', 'Yersinia', '25']\n",
      "___Plague___ was reportedly first introduced to Europe via ___Genoese___ traders at the port city of ___Kaffa___ in the ___Crimea___ in ___1347___. After a protracted siege, during which the Mongol army under ___Jani___ ___Beg___ was suffering from the disease, the army catapulted the infected corpses over the city walls of ___Kaffa___ to infect the inhabitants. The ___Genoese___ traders fled, taking the ___plague___ by ship into ___Sicily___ and the south of ___Europe___, ___whence___ it spread north. Whether or not this hypothesis is accurate, it is clear that several existing conditions such as war, ___famine___, and weather contributed to the severity of the ___Black___ Death.\n",
      "Answers:\n",
      "['Black', 'famine', 'whence', 'Jani', 'Genoese', 'plague', 'Sicily', 'Plague', 'Kaffa', 'Beg', '1347', 'Europe', 'Crimea']\n",
      "From ___Italy___, the disease spread northwest across Europe, striking ___France___, ___Spain___, ___Portugal___ and ___England___ by ___June___ ___1348___, then turned and spread east through ___Germany___ and Scandinavia from ___1348___ to ___1350___. It was introduced in ___Norway___ in ___1349___ when a ship landed at ___Askøy___, then spread to ___Bjørgvin___ ( modern Bergen ) and Iceland. Finally it spread to ___northwestern___ ___Russia___ in ___1351___. The plague was somewhat less common in parts of Europe that had smaller trade relations with their neighbours, including the Kingdom of Poland, the majority of the ___Basque___ Country, isolated parts of Belgium and the Netherlands, and isolated alpine villages throughout the continent.\n",
      "Answers:\n",
      "['Askøy', 'France', 'Germany', 'Spain', 'Italy', 'Norway', 'Russia', 'Basque', 'Portugal', 'northwestern', '1351', 'June', 'England', '1348', '1350', 'Bjørgvin', '1349']\n",
      "The ___plague___ struck various countries in the ___Middle___ ___East___ during the pandemic, leading to serious ___depopulation___ and permanent change in both economic and ___social___ structures. As it spread to ___western___ ___Europe___, the disease entered the ___region___ from ___southern___ ___Russia___ also. By ___autumn___ ___1347___, the plague reached ___Alexandria___ in ___Egypt___, probably through the port 's trade with ___Constantinople___, and ports on the ___Black___ ___Sea___. During ___1347___, the disease travelled eastward to Gaza, and north along the eastern coast to cities in Lebanon, ___Syria___ and Palestine, including Ashkelon, Acre, Jerusalem, Sidon, Damascus, Homs, and Aleppo. In 1348–49, the disease reached ___Antioch___. The city 's residents fled to the north, most of them dying during the journey, but the infection had been spread to the people of Asia Minor.[citation needed ]\n",
      "Answers:\n",
      "['western', 'Sea', 'autumn', 'Black', 'Syria', 'East', 'Middle', 'Antioch', 'plague', 'Alexandria', 'Egypt', 'Europe', 'southern', '1347', 'depopulation', 'Constantinople', 'region', 'Russia', 'social']\n",
      "___Gasquet___ ( ___1908___ ) claimed that the Latin name ___atra___ ___mors___ ( ___Black___ ___Death___ ) for the 14th - century ___epidemic___ first appeared in modern times in ___1631___ in a book on ___Danish___ history by ___J.I.___ ___Pontanus___ : \" Vulgo & ab effectu atram mortem vocatibant. ( \" Commonly and from its effects, they called it the ___black___ ___death___ \" ). The name spread through ___Scandinavia___ and then ___Germany___, gradually becoming attached to the mid ___14th___ - century ___epidemic___ as a proper name. In ___England___, it was not until ___1823___ that the medieval epidemic was first called the ___Black___ ___Death___.\n",
      "Answers:\n",
      "['1631', 'Black', 'J.I.', 'Germany', '1908', 'atra', 'Scandinavia', 'Death', 'black', 'epidemic', 'death', 'Danish', 'England', 'Gasquet', '1823', 'Pontanus', '14th', 'mors']\n",
      "Medical knowledge had ___stagnated___ during the ___Middle___ ___Ages___. The most authoritative account at the time came from the ___medical___ ___faculty___ in ___Paris___ in a report to the ___king___ of ___France___ that ___blamed___ the ___heavens___, in the form of a conjunction of three planets in ___1345___ that caused a \" ___great___ ___pestilence___ in the ___air___ \". This report became the first and most widely circulated of a series of ___plague___ tracts that sought to give advice to ___sufferers___. That the ___plague___ was caused by ___bad___ ___air___ became the most widely accepted theory. Today, this is known as the ___Miasma___ ___theory___. The word ' ___plague___ ' had no special significance at this time, and only the ___recurrence___ of ___outbreaks___ during the ___Middle___ ___Ages___ gave it the name that has become the medical term.\n",
      "Answers:\n",
      "['heavens', 'plague', 'stagnated', 'great', 'blamed', 'Paris', 'Ages', 'pestilence', 'recurrence', 'Middle', 'sufferers', 'bad', 'outbreaks', 'air', 'king', 'theory', 'France', 'medical', 'Miasma', '1345', 'faculty']\n",
      "The dominant explanation for the ___Black___ ___Death___ is the ___plague___ ___theory___, which attributes the outbreak to ___Yersinia___ ___pestis___, also responsible for an epidemic that began in southern ___China___ in ___1865___, eventually spreading to ___India___. The investigation of the pathogen that caused the 19th - century plague was begun by teams of scientists who visited Hong Kong in ___1894___, among whom was the French - Swiss bacteriologist ___Alexandre___ ___Yersin___, after whom the pathogen was named ___Yersinia___ ___pestis___. The mechanism by which ___Y.___ ___pestis___ was usually transmitted was established in ___1898___ by Paul - Louis ___Simond___ and was found to involve the bites of fleas whose midguts had become obstructed by replicating ___Y.___ ___pestis___ several days after feeding on an infected host. This ___blockage___ results in starvation and aggressive feeding behaviour by the ___fleas___, which repeatedly attempt to clear their blockage by ___regurgitation___, resulting in thousands of ___plague___ bacteria being flushed into the feeding site, infecting the host. The ___bubonic___ ___plague___ mechanism was also dependent on two populations of ___rodents___ : one resistant to the ___disease___, which act as ___hosts___, keeping the ___disease___ ___endemic___, and a second that lack resistance. When the second population dies, the ___fleas___ move on to other hosts, including people, thus creating a ___human___ ___epidemic___.\n",
      "Answers:\n",
      "['India', 'Death', 'plague', 'epidemic', 'Alexandre', 'Y.', 'pestis', 'Yersin', '1894', 'human', 'regurgitation', 'bubonic', 'fleas', 'Simond', 'blockage', 'Black', 'China', 'theory', 'hosts', 'Yersinia', 'endemic', 'disease', '1865', '1898', 'rodents']\n",
      "The historian Francis Aidan Gasquet wrote about the ' Great ___Pestilence___ ' in ___1893___ and suggested that \" it would appear to be some form of the ordinary Eastern or ___bubonic___ ___plague___ \". He was able to adopt the epidemiology of the ___bubonic___ ___plague___ for the ___Black___ ___Death___ for the second edition in ___1908___, implicating ___rats___ and ___fleas___ in the process, and his interpretation was widely accepted for other ___ancient___ and ___medieval___ epidemics, such as the ___Justinian___ ___plague___ that was prevalent in the Eastern Roman Empire from ___541___ to 700 ___CE___.\n",
      "Answers:\n",
      "['Black', 'medieval', 'ancient', '1908', 'rats', 'Justinian', 'Death', 'plague', '541', '1893', 'Pestilence', 'CE', 'bubonic', 'fleas']\n",
      "Other forms of ___plague___ have been implicated by modern scientists. The modern ___bubonic___ ___plague___ has a mortality rate of 30–75 % and symptoms including fever of 38–41 ° C ( 100–106 ° F ), headaches, painful aching joints, nausea and vomiting, and a general feeling of malaise. Left ___untreated___, of those that contract the ___bubonic___ ___plague___, ___80___ ___percent___ die within eight days. Pneumonic plague has a mortality rate of 90 to ___95___ ___percent___. Symptoms include fever, cough, and blood - tinged ___sputum___. As the disease progresses, ___sputum___ becomes free flowing and ___bright___ ___red___. ___Septicemic___ ___plague___ is the least common of the three forms, with a mortality rate near 100 %. Symptoms are high fevers and ___purple___ skin patches ( purpura due to disseminated intravascular coagulation ). In cases of ___pneumonic___ and particularly ___septicemic___ ___plague___, the progress of the ___disease___ is so rapid that there would often be no time for the development of the enlarged lymph nodes that were noted as ___buboes___.\n",
      "Answers:\n",
      "['sputum', 'Septicemic', 'disease', 'red', 'bright', '95', 'purple', 'plague', 'septicemic', 'buboes', 'untreated', '80', 'bubonic', 'pneumonic', 'percent']\n",
      "In ___October___ ___2010___, the open - access scientific journal PLoS Pathogens published a paper by a multinational team who undertook a new investigation into the role of ___Yersinia___ ___pestis___ in the ___Black___ ___Death___ following the disputed identification by ___Drancourt___ and ___Raoult___ in 1998. They assessed the presence of ___DNA___ / RNA with Polymerase Chain Reaction ( ___PCR___ ) techniques for Y. pestis from the ___tooth___ ___sockets___ in human skeletons from mass graves in northern, central and southern Europe that were associated archaeologically with the ___Black___ ___Death___ and subsequent ___resurgences___. The authors concluded that this new research, together with prior analyses from the south of ___France___ and ___Germany___, \"... ends the debate about the etiology of the ___Black___ ___Death___, and unambiguously demonstrates that ___Y.___ ___pestis___ was the causative agent of the epidemic plague that devastated Europe during the Middle Ages \".\n",
      "Answers:\n",
      "['Black', 'France', 'Germany', 'DNA', '2010', 'PCR', 'Death', 'Drancourt', 'Y.', 'Raoult', 'pestis', 'October', 'sockets', 'resurgences', 'Yersinia', 'tooth']\n",
      "The study also found that there were two previously unknown but related ___clades___ ( ___genetic___ ___branches___ ) of the ___Y.___ ___pestis___ genome associated with medieval mass graves. These ___clades___ ( which are thought to be extinct ) were found to be ancestral to modern isolates of the modern ___Y.___ ___pestis___ strains Y. p. orientalis and Y. p. medievalis, suggesting the plague may have entered Europe in two waves. Surveys of plague pit remains in ___France___ and ___England___ indicate the first variant entered ___Europe___ through the port of ___Marseille___ around ___November___ ___1347___ and spread through ___France___ over the next two years, eventually reaching ___England___ in the spring of ___1349___, where it spread through the country in ___three___ epidemics. Surveys of plague pit remains from the Dutch town of Bergen op Zoom showed the ___Y.___ ___pestis___ genotype responsible for the pandemic that spread through the ___Low___ Countries from ___1350___ differed from that found in Britain and ___France___, implying Bergen op Zoom ( and possibly other parts of the southern ___Netherlands___ ) was not directly infected from ___England___ or ___France___ in ___1349___ and suggesting a second wave of ___plague___, different from those in ___Britain___ and ___France___, may have been carried to the Low Countries from ___Norway___, the ___Hanseatic___ cities or another site.\n",
      "Answers:\n",
      "['France', 'branches', 'November', 'Low', 'Norway', 'genetic', 'plague', 'Netherlands', 'Y.', 'clades', 'three', 'England', 'Europe', '1347', 'Hanseatic', 'pestis', 'Marseille', '1350', '1349', 'Britain']\n",
      "The results of the ___Haensch___ study have since been confirmed and amended. Based on genetic evidence derived from Black Death victims in the East ___Smithfield___ burial site in England, Schuenemann et al. concluded in 2011 \" that the ___Black___ ___Death___ in medieval Europe was caused by a variant of ___Y.___ ___pestis___ that may no longer exist. \" A study published in Nature in October 2011 sequenced the genome of ___Y.___ ___pestis___ from ___plague___ victims and indicated that the strain that caused the ___Black___ ___Death___ is ancestral to most modern strains of the disease.\n",
      "Answers:\n",
      "['Black', 'Haensch', 'Death', 'plague', 'Y.', 'Smithfield', 'pestis']\n",
      "The ___plague___ theory was first significantly challenged by the work of British bacteriologist J. F. D. Shrewsbury in ___1970___, who noted that the reported rates of ___mortality___ in rural areas during the 14th - century pandemic were inconsistent with the modern ___bubonic___ ___plague___, leading him to conclude that contemporary accounts were exaggerations. In ___1984___ zoologist ___Graham___ ___Twigg___ produced the first major work to challenge the ___bubonic___ ___plague___ theory directly, and his doubts about the identity of the Black Death have been taken up by a number of authors, including Samuel K. Cohn, Jr. ( 2002 ), ___David___ ___Herlihy___ ( ___1997___ ), and Susan Scott and Christopher Duncan ( 2001 ).\n",
      "Answers:\n",
      "['1970', '1984', 'Twigg', 'David', 'plague', 'Graham', 'bubonic', 'Herlihy', 'mortality', '1997']\n",
      "It is recognised that an ___epidemiological___ account of the ___plague___ is as important as an ___identification___ of ___symptoms___, but researchers are hampered by the lack of reliable statistics from this period. Most work has been done on the spread of the ___plague___ in ___England___, and even estimates of overall population at the start vary by over 100 % as no census was undertaken between the time of publication of the ___Domesday___ ___Book___ and the year ___1377___. Estimates of plague victims are usually extrapolated from figures from the ___clergy___.\n",
      "Answers:\n",
      "['Book', 'symptoms', 'plague', '1377', 'clergy', 'England', 'epidemiological', 'identification', 'Domesday']\n",
      "In addition to arguing that the ___rat___ population was insufficient to account for a ___bubonic___ ___plague___ pandemic, ___sceptics___ of the ___bubonic___ ___plague___ theory point out that the symptoms of the ___Black___ ___Death___ are not ___unique___ ( and arguably in some accounts may differ from ___bubonic___ ___plague___ ); that ___transference___ via ___fleas___ in goods was likely to be of ___marginal___ ___significance___; and that the ___DNA___ results may be flawed and might not have been repeated elsewhere, despite extensive samples from other mass graves. Other arguments include the lack of accounts of the death of ___rats___ before outbreaks of ___plague___ between the 14th and ___17th___ centuries; temperatures that are too ___cold___ in northern Europe for the ___survival___ of ___fleas___; that, despite primitive transport systems, the spread of the ___Black___ Death was much faster than that of modern ___bubonic___ ___plague___; that ___mortality___ rates of the ___Black___ Death appear to be very ___high___; that, while modern ___bubonic___ ___plague___ is largely endemic as a rural ___disease___, the ___Black___ Death indiscriminately struck urban and ___rural___ areas; and that the pattern of the ___Black___ ___Death___, with major outbreaks in the same areas separated by 5 to 15 years, differs from modern ___bubonic___ ___plague___ — which often becomes ___endemic___ for decades with annual flare - ups.\n",
      "Answers:\n",
      "['rats', 'sceptics', 'Death', 'plague', 'transference', 'rat', 'survival', 'high', 'significance', 'cold', 'bubonic', 'fleas', 'mortality', 'Black', '17th', 'DNA', 'endemic', 'marginal', 'disease', 'unique', 'rural']\n",
      "A variety of alternatives to the ___Y.___ ___pestis___ have been put forward. ___Twigg___ suggested that the cause was a form of ___anthrax___, and ___Norman___ ___Cantor___ ( ___2001___ ) thought it may have been a combination of anthrax and other pandemics. ___Scott___ and ___Duncan___ have argued that the pandemic was a form of infectious disease that characterise as ___hemorrhagic___ ___plague___ similar to ___Ebola___. Archaeologist Barney Sloane has argued that there is insufficient evidence of the extinction of a large number of ___rats___ in the archaeological record of the medieval waterfront in ___London___ and that the ___plague___ spread too quickly to support the thesis that the ___Y.___ ___pestis___ was spread from ___fleas___ on ___rats___; he argues that ___transmission___ must have been person to person. However, no single alternative solution has achieved widespread acceptance. Many scholars arguing for the ___Y.___ ___pestis___ as the major agent of the pandemic suggest that its extent and ___symptoms___ can be explained by a combination of ___bubonic___ ___plague___ with other diseases, including ___typhus___, ___smallpox___ and ___respiratory___ ___infections___. In addition to the ___bubonic___ ___infection___, others point to additional ___septicemic___ ( a type of \" ___blood___ ___poisoning___ \" ) and ___pneumonic___ ( an ___airborne___ ___plague___ that attacks the ___lungs___ before the rest of the body ) forms of the ___plague___, which lengthen the duration of outbreaks throughout the seasons and help account for its high mortality rate and additional recorded symptoms. In 2014, scientists with ___Public___ Health ___England___ announced the results of an examination of ___25___ bodies exhumed from the ___Clerkenwell___ area of London, as well as of ___wills___ registered in ___London___ during the period, which supported the ___pneumonic___ ___hypothesis___.\n",
      "Answers:\n",
      "['Duncan', 'rats', 'plague', 'septicemic', 'Y.', 'hypothesis', 'pestis', 'blood', 'Norman', 'hemorrhagic', 'transmission', 'Ebola', 'bubonic', 'London', 'fleas', 'infections', 'wills', 'Twigg', '2001', 'typhus', 'poisoning', 'England', 'Clerkenwell', 'airborne', 'pneumonic', 'smallpox', 'lungs', 'Cantor', 'symptoms', '25', 'respiratory', 'Public', 'Scott', 'infection', 'anthrax']\n",
      "The most widely accepted estimate for the ___Middle___ ___East___, including Iraq, ___Iran___ and ___Syria___, during this time, is for a death rate of about a third. The Black Death killed about 40 % of Egypt 's population. Half of Paris 's population of 100,000 people died. In Italy, the population of ___Florence___ was reduced from 110–120 thousand inhabitants in 1338 down to 50 thousand in 1351. At least 60 % of the population of Hamburg and Bremen perished, and a similar percentage of Londoners may have died from the disease as well. Interestingly while contemporary reports account of mass burial pits being created in response to the large numbers of dead, recent scientific investigations of a burial pit in Central London found well - preserved individuals to be buried in isolated, evenly spaced graves, suggesting at least some pre - planning and Christian burials at this time. Before ___1350___, there were about ___170,000___ settlements in Germany, and this was reduced by nearly ___40,000___ by 1450. In ___1348___, the plague spread so rapidly that before any physicians or government authorities had time to reflect upon its origins, about a third of the European population had already perished. In crowded cities, it was not uncommon for as much as 50 % of the population to die. The disease bypassed some areas, and the most isolated areas were less vulnerable to contagion. Monks and priests were especially hard hit since they cared for victims of the Black Death.\n",
      "Answers:\n",
      "['Florence', 'East', 'Middle', '1350', '1348', '40,000', '170,000', 'Syria', 'Iran']\n",
      "The ___plague___ repeatedly returned to haunt Europe and the ___Mediterranean___ throughout the 14th to ___17th___ centuries. According to ___Biraben___, the plague was present somewhere in Europe in every year between ___1346___ and ___1671___. The Second Pandemic was particularly widespread in the following years : 1360–63; ___1374___; 1400; 1438–39; 1456–57; 1464–66; 1481–85; 1500–03; 1518–31; 1544–48; 1563–66; 1573–88; 1596–99; 1602–11; 1623–40; 1644–54; and 1664–67. Subsequent outbreaks, though severe, marked the retreat from most of Europe ( 18th century ) and northern ___Africa___ ( 19th century ). According to Geoffrey Parker, \" ___France___ alone lost almost a ___million___ people to the plague in the epidemic of ___1628–31___. \"\n",
      "Answers:\n",
      "['1628–31', 'France', '17th', '1374', '1671', 'Africa', 'plague', 'million', 'Biraben', '1346', 'Mediterranean']\n",
      "In ___England___, in the absence of census figures, historians propose a ___range___ of ___preincident___ population figures from as high as ___7___ ___million___ to as low as ___4___ ___million___ in 1300, and a postincident population figure as low as ___2___ ___million___. By the end of ___1350___, the Black Death subsided, but it never really died out in England. Over the next few hundred years, further outbreaks occurred in 1361–62, 1369, 1379–83, 1389–93, and throughout the first half of the ___15th___ century. An outbreak in ___1471___ took as much as 10–15 % of the population, while the death rate of the plague of ___1479–80___ could have been as high as 20 %. The most general outbreaks in ___Tudor___ and Stuart ___England___ seem to have begun in 1498, 1535, 1543, 1563, 1589, 1603, 1625, and 1636, and ended with the Great Plague of London in ___1665___.\n",
      "Answers:\n",
      "['4', '1471', 'Tudor', 'range', 'million', 'England', '15th', '1665', '1350', '7', '1479–80', '2', 'preincident']\n",
      "In ___1466___, perhaps ___40,000___ people died of the plague in Paris. During the 16th and 17th centuries, the plague was present in Paris around 30 per cent of the time. The Black Death ravaged Europe for three years before it continued on into ___Russia___, where the disease was present somewhere in the country ___25___ times between 1350 to ___1490___. Plague epidemics ravaged London in 1563, 1593, 1603, 1625, 1636, and 1665, reducing its population by 10 to 30 % during those years. Over 10 % of Amsterdam 's population died in 1623–25, and again in 1635–36, 1655, and 1664. Plague occurred in Venice 22 times between ___1361___ and ___1528___. The plague of 1576–77 killed 50,000 in Venice, almost a third of the population. Late outbreaks in central Europe included the Italian ___Plague___ of ___1629–1631___, which is associated with troop movements during the Thirty Years ' War, and the Great Plague of Vienna in ___1679___. Over 60 % of Norway 's population died in ___1348–50___. The last plague outbreak ravaged Oslo in ___1654___.\n",
      "Answers:\n",
      "['1361', '1348–50', '1528', '1490', '1629–1631', 'Plague', '40,000', '1466', '1654', '1679', 'Russia', '25']\n",
      "In the first half of the ___17th___ century, a plague claimed some ___1.7___ ___million___ victims in Italy, or about 14 % of the population. In ___1656___, the plague killed about half of Naples ' 300,000 inhabitants. More than ___1.25___ ___million___ deaths resulted from the extreme incidence of plague in 17th - century ___Spain___. The plague of ___1649___ probably reduced the population of Seville by half. In 1709–13, a plague epidemic that followed the Great Northern War ( 1700–21, Sweden v. Russia and allies ) killed about ___100,000___ in Sweden, and ___300,000___ in Prussia. The plague killed two - thirds of the inhabitants of ___Helsinki___, and claimed a third of Stockholm 's population. Europe 's last major epidemic occurred in ___1720___ in ___Marseille___.\n",
      "Answers:\n",
      "['100,000', 'Helsinki', '17th', 'Spain', '300,000', '1720', 'million', '1656', '1649', 'Marseille', '1.7', '1.25']\n",
      "The ___Black___ ___Death___ ravaged much of the ___Islamic___ world. ___Plague___ was present in at least one location in the Islamic world virtually every year between 1500 and ___1850___. ___Plague___ repeatedly struck the cities of North Africa. Algiers lost ___30___ to 50 thousand inhabitants to it in 1620–21, and again in 1654–57, 1665, 1691, and 1740–42. ___Plague___ remained a major event in ___Ottoman___ society until the second quarter of the 19th century. Between ___1701___ and ___1750___, thirty - seven larger and smaller epidemics were recorded in ___Constantinople___, and an additional thirty - one between 1751 and 1800. Baghdad has suffered severely from visitations of the plague, and sometimes two - thirds of its population has been wiped out.\n",
      "Answers:\n",
      "['Black', '30', 'Ottoman', '1701', 'Death', '1750', 'Plague', 'Islamic', 'Constantinople', '1850']\n"
     ]
    }
   ],
   "source": [
    "\n",
    "print('--------------- MY MODEL ---------------')\n",
    "# Pull out sample paragraph\n",
    "for p in arts[ind_ex]['paragraphs']:\n",
    "    # # Print all AllenNLP classifications\n",
    "    # print([(a,b) for a,b in zip(p['allenNER']['words'].split(), p['allenNER']['tags'].split())])\n",
    "\n",
    "    # AllenNLP results\n",
    "    words = p['allenNER']['words'].split()\n",
    "    # tags = p['allenNER']['tags'].split()\n",
    "    # tags = [not t == '0' for t in tags]   # Convert to binary\n",
    "    tags = p['blank_classified_allen']\n",
    "\n",
    "    # Ground truth\n",
    "    blank_classification = p['blank_classification']\n",
    "\n",
    "    words_blanked_ground_truth = words2words_blanked(words,blank_classification)\n",
    "    words_blanked_allen = words2words_blanked(words,tags)\n",
    "    words_hash_ground_truth = words2words_hashblank(words,blank_classification)\n",
    "    words_hash_allen = words2words_hashblank(words,tags)\n",
    "    \n",
    "    # Blanked text\n",
    "    print(words2text(words_hash_allen))\n",
    "\n",
    "    # Answers    \n",
    "    myanswers = list(set(words2answers(words,tags)))\n",
    "    print(\"Answers:\")\n",
    "    print(myanswers)\n",
    "    \n",
    "\n",
    "    "
   ]
  },
  {
   "cell_type": "markdown",
   "metadata": {},
   "source": [
    "# All articles - compare blanks"
   ]
  },
  {
   "cell_type": "code",
   "execution_count": 55,
   "metadata": {},
   "outputs": [
    {
     "name": "stdout",
     "output_type": "stream",
     "text": [
      "Warning article 175 contains 0 ground truth blanks and 268 tags. Likely bad\n",
      "Warning article 440 contains 0 ground truth blanks and 348 tags. Likely bad\n",
      "Warning article 441 contains 0 ground truth blanks and 645 tags. Likely bad\n"
     ]
    }
   ],
   "source": [
    "# Initialize stuff\n",
    "TPR0 = []\n",
    "FPR0 = []\n",
    "ACC0 = []\n",
    "Nsentences0 = []\n",
    "TP0 = []\n",
    "FP0 = []\n",
    "FN0 = []\n",
    "TN0 = []\n",
    "TPpersent0 = []\n",
    "FPpersent0 = []\n",
    "abads = []            # Article-level bads\n",
    "sbc0 = []\n",
    "st0 = []\n",
    "Nwords0 = []\n",
    "\n",
    "art = arts[:]\n",
    "\n",
    "i=-1\n",
    "for a in art:\n",
    "    i=i+1\n",
    "    # AllenNLP results\n",
    "    words = [w for p in a['paragraphs'] for w in p['allenNER']['words'].split()]\n",
    "#     tags = [t for p in a['paragraphs'] for t in p['allenNER']['tags'].split()]\n",
    "#     tags = [not t == '0' for t in tags]   # Convert to binary\n",
    "    tags = [t for p in a['paragraphs'] for t in p['blank_classified_allen']]\n",
    "\n",
    "    # Ground truth\n",
    "    blank_classification = [bc for p in a['paragraphs'] for bc in p['blank_classification']]\n",
    "    blank_classification = [b == 1 for b in blank_classification] # Convert to binary\n",
    "\n",
    "    Nsentences2 = len(text2sentences(words2text(words)))\n",
    "\n",
    "    sbc = sum(blank_classification)\n",
    "    st = sum(tags)\n",
    "    if sbc == 0 or st == 0:\n",
    "        print(\"Warning article {} contains {} ground truth blanks and {} tags. Likely bad\".format(str(i),str(sbc),str(st)))\n",
    "\n",
    "        # Make up some dummy values so don't confuse for a REAL outlier in plots. Should just drop this data in the future\n",
    "        # This is ok because we'll skip them later if want to do stats - that's what abads is for\n",
    "        TPR = 0.0\n",
    "        FPR = 0.0\n",
    "        ACC = 0.0\n",
    "        TP = 100\n",
    "        FP = 100\n",
    "        FN = 100\n",
    "        TN = 100\n",
    "\n",
    "        TPpersent = 1\n",
    "        FPpersent = 1\n",
    "        abads.append(i)\n",
    "    else:\n",
    "        TP = sum([b and t for b,t in zip(blank_classification,tags)])\n",
    "        FP = sum([not b and t for b,t in zip(blank_classification,tags)])\n",
    "        FN = sum([b and not t for b,t in zip(blank_classification,tags)])\n",
    "        TN = sum([not b and not t for b,t in zip(blank_classification,tags)])\n",
    "        ACC = (TP+TN)/(TP+FP+FN+TN)\n",
    "        ACC2 = sum([b == t for b,t in zip(blank_classification,tags)]) / len(tags)\n",
    "\n",
    "        # Sensitivity, hit rate, recall, or true positive rate\n",
    "        TPR = TP/(TP+FN)\n",
    "        # Specificity or true negative rate\n",
    "        TNR = TN/(TN+FP)\n",
    "        # Precision or positive predictive value\n",
    "        PPV = TP/(TP+FP)\n",
    "        # Negative predictive value\n",
    "        NPV = TN/(TN+FN)\n",
    "        # Fall out or false positive rate\n",
    "        FPR = FP/(FP+TN)\n",
    "        # False negative rate\n",
    "        FNR = FN/(TP+FN)\n",
    "        # False discovery rate\n",
    "        FDR = FP/(TP+FP)\n",
    "\n",
    "        # Per sententance values\n",
    "        TPpersent = TP / Nsentences2\n",
    "        FPpersent = FP / Nsentences2\n",
    "\n",
    "    TPR0.append(TPR)\n",
    "    FPR0.append(FPR)\n",
    "    ACC0.append(ACC)\n",
    "    TP0.append(TP)\n",
    "    FP0.append(FP)\n",
    "    FN0.append(FN)\n",
    "    TN0.append(TN)\n",
    "    TPpersent0.append(TPpersent)\n",
    "    FPpersent0.append(FPpersent)\n",
    "    sbc0.append(sbc)\n",
    "    st0.append(st)\n",
    "    Nwords0.append(len(tags))"
   ]
  },
  {
   "cell_type": "code",
   "execution_count": 56,
   "metadata": {},
   "outputs": [
    {
     "name": "stdout",
     "output_type": "stream",
     "text": [
      "Bill_%26_Melinda_Gates_Foundation\n",
      "Myocardial_infarction\n",
      "Matter\n"
     ]
    }
   ],
   "source": [
    "# Print tiles of bad articles\n",
    "for ab in abads:\n",
    "    print(art[ab]['title'])"
   ]
  },
  {
   "cell_type": "code",
   "execution_count": 57,
   "metadata": {},
   "outputs": [
    {
     "name": "stdout",
     "output_type": "stream",
     "text": [
      "Ntrain=442\n",
      "Ndev=35\n",
      "Ntrain_bad=3\n",
      "Ndev_bad=0\n"
     ]
    }
   ],
   "source": [
    "# Calculate how this affects Ntrain / Ndev\n",
    "Ntrain_bad = len([b for b in abads if b < Ntrain])\n",
    "Ndev_bad = len([b for b in abads if b >= Ntrain])\n",
    "print('Ntrain={}'.format(str(Ntrain)))\n",
    "print('Ndev={}'.format(str(Ndev)))\n",
    "print('Ntrain_bad={}'.format(str(Ntrain_bad)))\n",
    "print('Ndev_bad={}'.format(str(Ndev_bad)))\n",
    "\n",
    "\n"
   ]
  },
  {
   "cell_type": "markdown",
   "metadata": {},
   "source": [
    "## Plot TPR"
   ]
  },
  {
   "cell_type": "code",
   "execution_count": 58,
   "metadata": {},
   "outputs": [
    {
     "data": {
      "image/png": "[encoded data removed]",
      "text/plain": [
       "<Figure size 1080x288 with 1 Axes>"
      ]
     },
     "metadata": {},
     "output_type": "display_data"
    },
    {
     "data": {
      "image/png": "[encoded data removed]",
      "text/plain": [
       "<Figure size 1080x288 with 2 Axes>"
      ]
     },
     "metadata": {
      "needs_background": "light"
     },
     "output_type": "display_data"
    }
   ],
   "source": [
    "myvar = TPR0\n",
    "varname = 'TPR'\n",
    "\n",
    "# Plot bargraph\n",
    "plotbar_train_dev2(myvar,Ntrain,Ndev,ylabel='{} per article'.format(varname),xlabel='Article #')\n",
    "\n",
    "# # # Plot the histogram without containing any bads\n",
    "# myvar without the bad articles\n",
    "myvar2 = [tp for i, tp in enumerate(myvar) if i not in abads]\n",
    "\n",
    "# Plot the histogram\n",
    "ax = plothist_train_dev2(myvar2,Ntrain-Ntrain_bad,Ndev-Ndev_bad,xlabel=varname,ylabel='N Articles',devbins='auto')\n",
    "set(ax['ax1'].set_xlim(0,1));\n",
    "set(ax['ax2'].set_xlim(0,1));\n",
    "\n"
   ]
  },
  {
   "cell_type": "markdown",
   "metadata": {},
   "source": [
    "## Plot FPR"
   ]
  },
  {
   "cell_type": "code",
   "execution_count": 59,
   "metadata": {},
   "outputs": [
    {
     "data": {
      "image/png": "[encoded data removed]",
      "text/plain": [
       "<Figure size 1080x288 with 1 Axes>"
      ]
     },
     "metadata": {},
     "output_type": "display_data"
    },
    {
     "data": {
      "image/png": "[encoded data removed]",
      "text/plain": [
       "<Figure size 1080x288 with 2 Axes>"
      ]
     },
     "metadata": {
      "needs_background": "light"
     },
     "output_type": "display_data"
    },
    {
     "data": {
      "image/png": "[encoded data removed]",
      "text/plain": [
       "<Figure size 1080x288 with 2 Axes>"
      ]
     },
     "metadata": {
      "needs_background": "light"
     },
     "output_type": "display_data"
    }
   ],
   "source": [
    "myvar = FPR0\n",
    "varname = 'FPR'\n",
    "\n",
    "# Plot bargraph\n",
    "plotbar_train_dev2(myvar,Ntrain,Ndev,ylabel='{} per article'.format(varname),xlabel='Article #')\n",
    "\n",
    "# # # Plot the histogram without containing any bads\n",
    "# myvar without the bad articles\n",
    "myvar2 = [tp for i, tp in enumerate(myvar) if i not in abads]\n",
    "\n",
    "# REdefine for plotting with with more decimal places\n",
    "def plothist_train_dev2(myvar,Ntrain,Ndev,xlabel='value',ylabel='N Articles',devbins=30):\n",
    "    # Import fig stuff\n",
    "    import matplotlib.pyplot as plt\n",
    "    from matplotlib.pyplot import figure\n",
    "    import statistics\n",
    "\n",
    "    f, (ax1, ax2) = plt.subplots(1, 2, sharey=False,figsize=(15, 4));\n",
    "    ax1.hist(myvar[0:Ntrain-1], bins=30);  # arguments are passed to np.histogram\n",
    "    ax1.set_title(\"Narticles={}, median={}, mean={}\".format(str(Ntrain),'{0:.4f}'.format(statistics.median(myvar[0:Ntrain-1])),'{0:.2f}'.format(statistics.mean(myvar[0:Ntrain-1]))));\n",
    "    ax1.set_ylabel('N Articles');\n",
    "    ax1.set_xlabel(xlabel);\n",
    "\n",
    "    ax2.hist(myvar[Ntrain:], bins=devbins);  # arguments are passed to np.histogram\n",
    "    ax2.set_title(\"Narticles={}, median={}, mean={}\".format(str(Ndev),'{0:.4f}'.format(statistics.median(myvar[Ntrain:])),'{0:.2f}'.format(statistics.mean(myvar[Ntrain:]))));\n",
    "    ax2.set_xlabel(xlabel);\n",
    "    return {'ax1': ax1, 'ax2':ax2}\n",
    "\n",
    "\n",
    "# Plot the histogram\n",
    "ax = plothist_train_dev2(myvar2,Ntrain-Ntrain_bad,Ndev-Ndev_bad,xlabel=varname,ylabel='N Articles',devbins='auto')\n",
    "ax = plothist_train_dev2(myvar,Ntrain,Ndev,xlabel=varname,ylabel='N Articles',devbins='auto')\n",
    "# set(ax['ax1'].set_xlim(0,1));\n",
    "# set(ax['ax2'].set_xlim(0,1));\n",
    "\n"
   ]
  },
  {
   "cell_type": "markdown",
   "metadata": {},
   "source": [
    "## Plot ACC"
   ]
  },
  {
   "cell_type": "code",
   "execution_count": 60,
   "metadata": {},
   "outputs": [
    {
     "data": {
      "image/png": "[encoded data removed]",
      "text/plain": [
       "<Figure size 1080x288 with 1 Axes>"
      ]
     },
     "metadata": {},
     "output_type": "display_data"
    },
    {
     "data": {
      "image/png": "[encoded data removed]",
      "text/plain": [
       "<Figure size 1080x288 with 2 Axes>"
      ]
     },
     "metadata": {
      "needs_background": "light"
     },
     "output_type": "display_data"
    }
   ],
   "source": [
    "myvar = ACC0\n",
    "varname = 'Accuracy'\n",
    "\n",
    "# Plot bargraph\n",
    "plotbar_train_dev2(myvar,Ntrain,Ndev,ylabel='{} per article'.format(varname),xlabel='Article #')\n",
    "\n",
    "# # # Plot the histogram without containing any bads\n",
    "# myvar without the bad articles\n",
    "myvar2 = [tp for i, tp in enumerate(myvar) if i not in abads]\n",
    "\n",
    "# Plot the histogram\n",
    "ax = plothist_train_dev2(myvar2,Ntrain-Ntrain_bad,Ndev-Ndev_bad,xlabel=varname,ylabel='N Articles',devbins='auto')\n",
    "set(ax['ax1'].set_xlim(0,1));\n",
    "set(ax['ax2'].set_xlim(0,1));\n",
    "\n"
   ]
  },
  {
   "cell_type": "markdown",
   "metadata": {},
   "source": [
    "## Plot True positives per sentence"
   ]
  },
  {
   "cell_type": "code",
   "execution_count": 61,
   "metadata": {},
   "outputs": [
    {
     "data": {
      "image/png": "[encoded data removed]",
      "text/plain": [
       "<Figure size 1080x288 with 1 Axes>"
      ]
     },
     "metadata": {},
     "output_type": "display_data"
    },
    {
     "data": {
      "image/png": "[encoded data removed]",
      "text/plain": [
       "<Figure size 1080x288 with 2 Axes>"
      ]
     },
     "metadata": {
      "needs_background": "light"
     },
     "output_type": "display_data"
    }
   ],
   "source": [
    "myvar = TPpersent0\n",
    "varname = 'True positives per sentence'\n",
    "\n",
    "# Plot bargraph\n",
    "plotbar_train_dev2(myvar,Ntrain,Ndev,ylabel='{}'.format(varname),xlabel='Article #')\n",
    "\n",
    "# # # Plot the histogram without containing any bads\n",
    "# myvar without the bad articles\n",
    "myvar2 = [tp for i, tp in enumerate(myvar) if i not in abads]\n",
    "\n",
    "# Plot the histogram\n",
    "ax = plothist_train_dev2(myvar2,Ntrain-Ntrain_bad,Ndev-Ndev_bad,xlabel=varname,ylabel='N Articles',devbins='auto')\n",
    "# set(ax['ax1'].set_xlim(0,1));\n",
    "# set(ax['ax2'].set_xlim(0,1));\n",
    "\n"
   ]
  },
  {
   "cell_type": "markdown",
   "metadata": {},
   "source": [
    "## Plot False positives per sentence"
   ]
  },
  {
   "cell_type": "code",
   "execution_count": 62,
   "metadata": {},
   "outputs": [
    {
     "data": {
      "image/png": "[encoded data removed]",
      "text/plain": [
       "<Figure size 1080x288 with 1 Axes>"
      ]
     },
     "metadata": {},
     "output_type": "display_data"
    },
    {
     "data": {
      "image/png": "[encoded data removed]",
      "text/plain": [
       "<Figure size 1080x288 with 2 Axes>"
      ]
     },
     "metadata": {
      "needs_background": "light"
     },
     "output_type": "display_data"
    }
   ],
   "source": [
    "myvar = FPpersent0\n",
    "varname = 'False positives per sentence'\n",
    "\n",
    "# Plot bargraph\n",
    "plotbar_train_dev2(myvar,Ntrain,Ndev,ylabel='{}'.format(varname),xlabel='Article #')\n",
    "\n",
    "# # # Plot the histogram without containing any bads\n",
    "# myvar without the bad articles\n",
    "myvar2 = [tp for i, tp in enumerate(myvar) if i not in abads]\n",
    "\n",
    "# Plot the histogram\n",
    "ax = plothist_train_dev2(myvar2,Ntrain-Ntrain_bad,Ndev-Ndev_bad,xlabel=varname,ylabel='N Articles',devbins='auto')\n",
    "# set(ax['ax1'].set_xlim(0,1));\n",
    "# set(ax['ax2'].set_xlim(0,1));\n",
    "\n"
   ]
  },
  {
   "cell_type": "markdown",
   "metadata": {},
   "source": [
    "## Find articles containing a lot of true positives"
   ]
  },
  {
   "cell_type": "code",
   "execution_count": 63,
   "metadata": {},
   "outputs": [
    {
     "name": "stdout",
     "output_type": "stream",
     "text": [
      "34\n",
      "Article #476\n",
      "Computational_complexity_theory\n",
      "True positive rate: 0.5116279069767442\n"
     ]
    }
   ],
   "source": [
    "\n",
    "# Inds of all articles >0.4 TPR\n",
    "inds = [i for i,x in enumerate(TPR0) if x >=0.08]\n",
    "\n",
    "# Inds of all articles >0.4 TPR and in dev dataset\n",
    "inds = [i for i,x in enumerate(TPR0) if x >=0.08 and x < 1.0 and i > Ntrain and i not in abads]\n",
    "\n",
    "print(len(inds))\n",
    "chosen_ind = inds[0]\n",
    "print('Article #{}'.format(str(i)))\n",
    "print(arts[chosen_ind]['title'])\n",
    "print('True positive rate: {}'.format(str(TPR0[chosen_ind])))"
   ]
  },
  {
   "cell_type": "code",
   "execution_count": 64,
   "metadata": {},
   "outputs": [
    {
     "name": "stdout",
     "output_type": "stream",
     "text": [
      "Computational_complexity_theory\n"
     ]
    }
   ],
   "source": [
    "# Pull out sample paragraph\n",
    "a = arts[chosen_ind]\n",
    "print(a['title'])\n",
    "\n",
    "# AllenNLP results\n",
    "words = [w for p in a['paragraphs'] for w in p['allenNER']['words'].split()]\n",
    "# tags = [t for p in a['paragraphs'] for t in p['allenNER']['tags'].split()]\n",
    "# tags = [not t == '0' for t in tags]   # Convert to binary\n",
    "tags = [t for p in a['paragraphs'] for t in p['blank_classified_allen']]\n",
    "\n",
    "# Ground truth\n",
    "blank_classification = [bc for p in a['paragraphs'] for bc in p['blank_classification']]"
   ]
  },
  {
   "cell_type": "code",
   "execution_count": 65,
   "metadata": {},
   "outputs": [
    {
     "name": "stdout",
     "output_type": "stream",
     "text": [
      "============\t\t\t==========\n",
      "Ground truth\t\t\tPrediction\n",
      "============\t\t\t==========\n",
      "______\t\t\t\t______\n",
      "complexity\t\t\t\t______\n",
      "theory\t\t\t\ttheory\n",
      "is\t\t\t\tis\n",
      "a\t\t\t\ta\n",
      "branch\t\t\t\tbranch\n",
      "of\t\t\t\tof\n",
      "the\t\t\t\tthe\n",
      "theory\t\t\t\ttheory\n",
      "of\t\t\t\tof\n",
      "computation\t\t\t\t______\n",
      "in\t\t\t\tin\n",
      "theoretical\t\t\t\ttheoretical\n",
      "computer\t\t\t\tcomputer\n",
      "science\t\t\t\tscience\n",
      "that\t\t\t\tthat\n",
      "focuses\t\t\t\tfocuses\n",
      "on\t\t\t\ton\n",
      "classifying\t\t\t\tclassifying\n",
      "______\t\t\t\t______\n"
     ]
    }
   ],
   "source": [
    "# Side by side compare\n",
    "\n",
    "words_blanked_ground_truth = words2words_blanked(words,blank_classification)\n",
    "words_blanked_allen = words2words_blanked(words,tags)\n",
    "\n",
    "N=len(words_blanked_ground_truth)\n",
    "N=20\n",
    "print(\"============\" + '\\t\\t\\t' + \"==========\")\n",
    "print(\"Ground truth\" + '\\t\\t\\t' + \"Prediction\")\n",
    "print(\"============\" + '\\t\\t\\t' + \"==========\")\n",
    "for c,w in zip(words_blanked_ground_truth[:N],words_blanked_allen[:N]):\n",
    "    print(c + '\\t\\t\\t\\t' + w)\n"
   ]
  },
  {
   "cell_type": "markdown",
   "metadata": {},
   "source": [
    "## Ground truth blanked"
   ]
  },
  {
   "cell_type": "code",
   "execution_count": 66,
   "metadata": {},
   "outputs": [
    {
     "name": "stdout",
     "output_type": "stream",
     "text": [
      "Answers:\n",
      "{'unusual', 'single', 'quantitative', 'encoding', 'resources', 'L', 'triples', 'output', 'models', 'bits', 'computability', 'model', 'types', 'intractable', 'definitions', 'multiplication', 'inherent', 'bounds', 'linear', 'Blum', 'algorithms', 'binary', 'problems', 'computation', 'Alan', 'NL', 'abstract', 'computers', 'triple', 'Computational', 'second', 'polynomial', 'computational', 'mathematical', 'complicated', 'state', 'randomized', 'NP', 'taken', 'integer', 'Boolean', 'symbols', 'knapsack', 'hierarchy', 'Hisao', 'space', 'reversed', 'classes', 'lower', 'Problems', 'memory', 'written', 'quicksort', 'notation', 'Myhill', 'problem', 'measures', 'graph', 'factorization', '21', 'proper', '2000', 'Ladner', 'Manuel', 'reduction', 'laid', 'machine', 'John', 'another', 'transitions', 'analysis', 'arbitrary', 'Yamada', 'concrete', 'yes', 'statements', 'quantum', 'PSPACE', 'matrices', 'EXPTIME', 'number', 'time', 'level', 'Algorithms', 'rules', 'algorithm', 'set', 'Decision', 'language', 'Turing', 'gates', 'framework', 'NC', 'deterministically', 'machines', 'unequal', 'upper', 'isomorphism', 'suspected', '1', 'theory', 'bound', 'possible', 'Cobham', 'P', 'thesis', 'decision', 'branching', 'input', 'RSA', 'complex', 'reductions', 'theorem', 'foundations', 'worst', 'inputs', 'formal', 'computer', 'instances', '1936', 'size', 'probabilistic', 'measure', 'solution', 'power', 'Interactive', 'Presburger', 'equal', 'resource', '1961', 'difficulty', 'complexity', 'storage', 'Complexity', 'efficient', 'instance', 'alphabet', 'adjacency', 'deterministic', '1965', 'bounding', 'solutions', 'function', 'bitstrings', '0', 'reduces', 'arithmetic'}\n"
     ]
    }
   ],
   "source": [
    "# Blanked text\n",
    "# print(words2text(words_blanked_ground_truth))\n",
    "\n",
    "# Answers    \n",
    "myanswers = words2answers(words,blank_classification)\n",
    "print(\"Answers:\")\n",
    "print(set(myanswers))"
   ]
  },
  {
   "cell_type": "code",
   "execution_count": 67,
   "metadata": {},
   "outputs": [
    {
     "name": "stdout",
     "output_type": "stream",
     "text": [
      "Answers:\n",
      "{'Upper', 'finite', 'DTIME(f(n', 'encoding', 'RAM', 'objective', 'increase', 'resources', 'inclusions', 'L', 'utterance', 'measuring', 'literature', 'solved', 'triples', 'Analogous', 'unsolved', 'output', 'debate', 'paper', 'bits', 'computability', 'steps', 'intractable', 'DTIME(n', 'definitions', 'respective', '1971', 'n15', 'prime', '2O(√(n', 'intuition', 'multiplication', 'NP', 'Raymond', 'Boris', 'bounded', 'Blum', 'bounds', 'Stephen', 'algorithms', 'binary', 'recast', 'problems', 'computation', 'decide', 'solves', 'sets', 'scale', 'NL', 'parallel', 'Alan', 'constraining', 'Trakhtenbrot', 'theoretical', 'solvable', 'abstract', 'maximum', 'Juris', 'requirements', 'triple', 'Computational', 'papers', 'polynomial', 'computational', 'mathematical', 'cellular', 'Smullyan', 'BQP', 'determinism', 'length', 'amount', 'graphs', 'randomized', 'FP', 'Boolean', 'theorems', 'suitably', 'outputs', 'Y.', 'integer', 'IP', 'DTIME(n2', 'log', 'integers', 'b', 'sorted', 'knapsack', 'communication', 'hierarchy', 'Hisao', 'algorithmic', 'space', 'strings', 'Π2', 'kilometres', 'aid', 'classes', 'round', 'otherwise', 'lower', 'Problems', 'axioms', 'AM', 'quicksort', 'C', 'vertex', 'notation', 'pencil', 'Myhill', 'problem', 'measures', 'amenable', 'n.', 'biology', 'total', 'Hamiltonian', 'isomorphic', 'quadratic', 'graph', 'less', 'automata', 'pairs', 'complement', 'consideration', 'O', 'Y', 'factorization', 'USSR', 'transformation', '21', '2000', 'cryptographic', 'concept', 'Ladner', 'T(n', 'Manuel', 'reduction', 'questions', '100', 'machine', 'expressed', 'quantifying', 'course', 'rudimentary', 'strict', 'logarithm', 'analysis', 'arbitrary', 'Phrased', 'Yamada', 'concrete', 'yes', 'primality', 'quantum', 'PSPACE', 'matrices', 'route', 'number', 'time', 'O(n2', 'EXPTIME', '2003', 'level', 'technological', 'Algorithms', 'Fortnow', 'algorithm', 'set', 'Reducibility', 'Combinatorial', '1.2', 'O(n', 'class', 'faster', 'Decision', 'language', 'relaxing', 'logarithmic', 'respectively', 'Turing', 'computations', 'gates', 'string', 'NC', 'machines', 'deterministically', 'unequal', 'Leonid', 'Milan', 'AC', 'upper', 'Conway', 'isomorphism', 'Shor', 'log(n', '1', '10', 'theory', '15', 'halts', 'computing', 'n', '1012', 'encoded', 'Cobham', 'km', 'thesis', 'decision', 'P', 'Germany', 'f(n', '2)1/3(log', 'magnitude', 'pivoting', 'QMA', 'input', 'pioneer', 'tape', '×', 'X.', 'tree', 'constant', 'order', '1956', 'RSA', 'reductions', 'criteria', 'theorem', 'O(e(64/9)1/3(n.log', 'general', 'Π1', 'worst', 'inputs', 'computer', 'formal', 'factor', 'principle', 'circuit', 'Clay', 'M', 'programming', '1936', 'average', '2n', 'measure', 'size', 'falls', 'X', 'solution', 'three', 'processors', 'Chapter', 'reverse', 'n.log', 'consumption', 'Homer', 'Interactive', 'Presburger', 'equal', 'resource', '1961', 'satisfiability', 'difficulty', 'complexity', 'Mathematics', 'storage', 'Complexity', 'open', 'efficient', 'instance', 'salesman', 'Levin', 'alphabet', 'adjacency', 'deterministic', 'hardest', 'Edmonds', 'discrete', 'intractability', '1965', 'Church', 'bounding', 'Cook', 'function', 'solutions', 'bitstrings', '0', 'protein', 'testing', 'circuits', '1962', 'arithmetic', 'squaring', '1972', 'C.'}\n"
     ]
    }
   ],
   "source": [
    "# Blanked text\n",
    "# print(words2text(words_blanked_allen))\n",
    "\n",
    "# Answers    \n",
    "myanswers = words2answers(words,tags)\n",
    "print(\"Answers:\")\n",
    "print(set(myanswers))"
   ]
  },
  {
   "cell_type": "markdown",
   "metadata": {},
   "source": [
    "# All dev articles - fract Tags"
   ]
  },
  {
   "cell_type": "code",
   "execution_count": 68,
   "metadata": {},
   "outputs": [
    {
     "name": "stdout",
     "output_type": "stream",
     "text": [
      "Number of articles = 35\n"
     ]
    }
   ],
   "source": [
    "\n",
    "\n",
    "# # Only train articles\n",
    "# art = arts[0:Ntrain]\n",
    "\n",
    "\n",
    "# Only dev articles\n",
    "art = arts[Ntrain:]\n",
    "\n",
    "print(\"Number of articles = {}\".format(str(len(art))))\n",
    "\n",
    "i=-1\n",
    "words = []\n",
    "tags = []\n",
    "for a in art:\n",
    "    i=i+1\n",
    "    #print(a['title'])\n",
    "    # AllenNLP results\n",
    "    words = words + [w for p in a['paragraphs'] for w in p['allenNER']['words'].split()]\n",
    "#     tags = [t for p in a['paragraphs'] for t in p['allenNER']['tags'].split()]\n",
    "#     tags = [not t == '0' for t in tags]   # Convert to binary\n",
    "    tags = tags + [t for p in a['paragraphs'] for t in p['blank_classified_allen']]\n"
   ]
  },
  {
   "cell_type": "code",
   "execution_count": 69,
   "metadata": {},
   "outputs": [],
   "source": [
    "d = calc_grammatical_tags_dict(words,tags)"
   ]
  },
  {
   "cell_type": "markdown",
   "metadata": {},
   "source": [
    "### Fractions of POS tags blanked"
   ]
  },
  {
   "cell_type": "code",
   "execution_count": 88,
   "metadata": {},
   "outputs": [
    {
     "name": "stdout",
     "output_type": "stream",
     "text": [
      "Lenth = 176719\n",
      "    ind     words  tags    pos     ner    dep\n",
      "1     1   Normans     1  PROPN    NORP  nsubj\n",
      "3     3    Norman     1  PROPN  PERSON   intj\n",
      "7     7    French     1  PROPN    NORP   conj\n",
      "13   13  Normanni     1  PROPN          appos\n",
      "29   29  Normandy     1  PROPN  PERSON   pobj\n"
     ]
    }
   ],
   "source": [
    "df = pd.DataFrame(data=d)\n",
    "\n",
    "df3 = df.loc[df['pos'] == 'PROPN']\n",
    "print ('Lenth = {}'.format(str(len(df))))\n",
    "print(df3.head())           # Hmmm\n",
    "\n",
    "xlabs=[]\n",
    "yvals=[]\n",
    "\n",
    "# Search through keys and unique items therein, counting \"Trues\"\n",
    "keys = ['pos']\n",
    "for k in keys:\n",
    "    for item in list(set(d[k])):\n",
    "        df2 = df.loc[df[k] == item]\n",
    "        mysum = df2.sum()['tags']\n",
    "        N = len(df2)\n",
    "        \n",
    "        xlabs.append(k.upper() + ': ' + item.lower())\n",
    "        yvals.append(mysum/N*100)\n",
    "\n"
   ]
  },
  {
   "cell_type": "code",
   "execution_count": 109,
   "metadata": {},
   "outputs": [
    {
     "data": {
      "image/png": "[encoded data removed]",
      "text/plain": [
       "<Figure size 504x504 with 1 Axes>"
      ]
     },
     "metadata": {},
     "output_type": "display_data"
    }
   ],
   "source": [
    "\n",
    "\n",
    "df = pd.DataFrame(data={'xlabs':xlabs,'yvals':yvals})\n",
    "df = df.sort_values(by='yvals',ascending=True)\n",
    "df\n",
    "\n",
    "figure(num=None, figsize=(7,7),facecolor='w', edgecolor='k')\n",
    "bars = df['xlabs']\n",
    "y_pos = np.arange(len(bars))\n",
    "val = df['yvals']\n",
    "\n",
    "# Make fake dataset\n",
    "y_pos = np.arange(len(bars))\n",
    " \n",
    "# Create horizontal bars\n",
    "plt.barh(y_pos, val)\n",
    " \n",
    "# Create names on the y-axis\n",
    "plt.yticks(y_pos, bars)\n",
    "\n",
    "plt.xlabel('% of times blanked')\n",
    "# Show graphic\n",
    "plt.show()\n"
   ]
  },
  {
   "cell_type": "code",
   "execution_count": 112,
   "metadata": {},
   "outputs": [
    {
     "data": {
      "image/png": "[encoded data removed]",
      "text/plain": [
       "<Figure size 504x144 with 1 Axes>"
      ]
     },
     "metadata": {},
     "output_type": "display_data"
    }
   ],
   "source": [
    "\n",
    "\n",
    "df = pd.DataFrame(data={'xlabs':xlabs,'yvals':yvals})\n",
    "df = df.sort_values(by='yvals',ascending=True)\n",
    "df\n",
    "\n",
    "df = df.loc[(df['xlabs'] == 'POS: propn') | (df['xlabs'] == 'POS: adv')| (df['xlabs'] == 'POS: noun')| (df['xlabs'] == 'POS: verb')]\n",
    "\n",
    "figure(num=None, figsize=(7,2),facecolor='w', edgecolor='k')\n",
    "bars = df['xlabs']\n",
    "y_pos = np.arange(len(bars))\n",
    "val = df['yvals']\n",
    "\n",
    "# Make fake dataset\n",
    "y_pos = np.arange(len(bars))\n",
    " \n",
    "# Create horizontal bars\n",
    "plt.barh(y_pos, val)\n",
    " \n",
    "# Create names on the y-axis\n",
    "plt.yticks(y_pos, bars)\n",
    "\n",
    "plt.xlabel('% of times blanked')\n",
    "# Show graphic\n",
    "plt.show()\n"
   ]
  },
  {
   "cell_type": "markdown",
   "metadata": {},
   "source": [
    "### Fractions of NER tags blanked"
   ]
  },
  {
   "cell_type": "code",
   "execution_count": 114,
   "metadata": {},
   "outputs": [
    {
     "name": "stdout",
     "output_type": "stream",
     "text": [
      "    ind     words  tags    pos     ner       dep\n",
      "3     3    Norman     1  PROPN  PERSON      intj\n",
      "29   29  Normandy     1  PROPN  PERSON      pobj\n",
      "40   40     Norse     1  PROPN  PERSON      pobj\n",
      "65   65     Rollo     1  PROPN  PERSON     appos\n",
      "73   73   Charles     0  PROPN  PERSON  compound\n"
     ]
    }
   ],
   "source": [
    "df = pd.DataFrame(data=d)\n",
    "\n",
    "df3 = df.loc[df['ner'] == 'PERSON']\n",
    "print(df3.head())           # Hmmm\n",
    "\n",
    "xlabs=[]\n",
    "yvals=[]\n",
    "\n",
    "# Search through keys and unique items therein, counting \"Trues\"\n",
    "keys = ['ner']\n",
    "for k in keys:\n",
    "    for item in list(set(d[k])):\n",
    "        df2 = df.loc[df[k] == item]\n",
    "        mysum = df2.sum()['tags']\n",
    "        N = len(df2)\n",
    "        \n",
    "        xlabs.append(k.upper() + ': ' + item.lower())\n",
    "        yvals.append(mysum/N*100)\n",
    "\n"
   ]
  },
  {
   "cell_type": "code",
   "execution_count": 115,
   "metadata": {},
   "outputs": [
    {
     "data": {
      "image/png": "[encoded data removed]",
      "text/plain": [
       "<Figure size 504x504 with 1 Axes>"
      ]
     },
     "metadata": {},
     "output_type": "display_data"
    }
   ],
   "source": [
    "\n",
    "\n",
    "df = pd.DataFrame(data={'xlabs':xlabs,'yvals':yvals})\n",
    "df = df.sort_values(by='yvals',ascending=True)\n",
    "df\n",
    "\n",
    "figure(num=None, figsize=(7,7),facecolor='w', edgecolor='k')\n",
    "bars = df['xlabs']\n",
    "y_pos = np.arange(len(bars))\n",
    "val = df['yvals']\n",
    "\n",
    "# Make fake dataset\n",
    "y_pos = np.arange(len(bars))\n",
    " \n",
    "# Create horizontal bars\n",
    "plt.barh(y_pos, val)\n",
    " \n",
    "# Create names on the y-axis\n",
    "plt.yticks(y_pos, bars)\n",
    "\n",
    "plt.xlabel('% of times blanked')\n",
    "# Show graphic\n",
    "plt.show()\n"
   ]
  },
  {
   "cell_type": "code",
   "execution_count": 131,
   "metadata": {},
   "outputs": [
    {
     "data": {
      "image/png": "[encoded data removed]",
      "text/plain": [
       "<Figure size 504x144 with 1 Axes>"
      ]
     },
     "metadata": {},
     "output_type": "display_data"
    }
   ],
   "source": [
    "\n",
    "\n",
    "df = pd.DataFrame(data={'xlabs':xlabs,'yvals':yvals})\n",
    "df = df.sort_values(by='yvals',ascending=True)\n",
    "df\n",
    "\n",
    "df = df.loc[(df['xlabs'] == 'NER: gpe') | (df['xlabs'] == 'NER: person') | (df['xlabs'] == 'NER: ')]\n",
    "\n",
    "\n",
    "figure(num=None, figsize=(7,2),facecolor='w', edgecolor='k')\n",
    "bars = df['xlabs']\n",
    "y_pos = np.arange(len(bars))\n",
    "val = df['yvals']\n",
    "\n",
    "# Make fake dataset\n",
    "y_pos = np.arange(len(bars))\n",
    " \n",
    "# Create horizontal bars\n",
    "plt.barh(y_pos, val)\n",
    " \n",
    "# Create names on the y-axis\n",
    "plt.yticks(y_pos, bars)\n",
    "\n",
    "plt.xlabel('% of times blanked')\n",
    "# Show graphic\n",
    "plt.show()\n"
   ]
  },
  {
   "cell_type": "markdown",
   "metadata": {},
   "source": [
    "# All paragraphs - compare blanks"
   ]
  },
  {
   "cell_type": "code",
   "execution_count": 74,
   "metadata": {},
   "outputs": [],
   "source": [
    "# Initialize stuff\n",
    "TPR0 = []\n",
    "FPR0 = []\n",
    "ACC0 = []\n",
    "Nsentences0 = []\n",
    "TP0 = []\n",
    "FP0 = []\n",
    "FN0 = []\n",
    "TN0 = []\n",
    "TPpersent0 = []\n",
    "FPpersent0 = []\n",
    "abads = []\n",
    "indices = {'i':[],'j':[],'k':[]}\n",
    "\n",
    "art = arts[:]\n",
    "\n",
    "\n",
    "# Only track true positives and false positive to avoid having to deal with other annoying edge cases\n",
    "i=-1\n",
    "k=-1\n",
    "Ntrainp = 0\n",
    "Ndevp=0\n",
    "for a in art:\n",
    "    i=i+1\n",
    "    j=-1\n",
    "    for p in a['paragraphs']:\n",
    "        j=j+1\n",
    "        k=k+1\n",
    "        if i < Ntrain: Ntrainp=Ntrainp+1;\n",
    "        else: Ndevp = Ndevp+1\n",
    "        # AllenNLP results\n",
    "        words = [w for w in p['allenNER']['words'].split()]\n",
    "        tags = [t for t in p['allenNER']['tags'].split()]\n",
    "        tags = [not t == '0' for t in tags]   # Convert to binary\n",
    "\n",
    "        # Ground truth\n",
    "        blank_classification = [bc for bc in p['blank_classification']]\n",
    "        blank_classification = [b == 1 for b in blank_classification] # Convert to binary\n",
    "\n",
    "        Nsentences2 = len(text2sentences(words2text(words)))\n",
    "\n",
    "        sbc = sum(blank_classification)\n",
    "        st = sum(tags)\n",
    "        if sbc == 0:\n",
    "            #print(\"Warning article {}, paragraph P{} contains {} ground truth blanks and {} tags. Likely bad\".format(str(i),str(j),str(sbc),str(st)))\n",
    "\n",
    "            # Make up some dummy values so don't confuse for a REAL outlier in plots. Should just drop this data in the future\n",
    "            # This is ok because we'll skip them later if want to do stats - that's what bads is for\n",
    "            TPR = 0.7\n",
    "            FNR = 0.7\n",
    "            ACC = 0.7\n",
    "            TP = 100\n",
    "            FP = 100\n",
    "            FN = 100\n",
    "            TN = 100\n",
    "            TPpersent = 1\n",
    "            FPpersent = 1\n",
    "            abads.append(k)       # kth paragraph is bad\n",
    "        else:\n",
    "            TP = sum([b and t for b,t in zip(blank_classification,tags)])\n",
    "            FP = sum([not b and t for b,t in zip(blank_classification,tags)])\n",
    "            FN = sum([b and not t for b,t in zip(blank_classification,tags)])\n",
    "            TN = sum([not b and not t for b,t in zip(blank_classification,tags)])\n",
    "#             ACC = (TP+TN)/(TP+FP+FN+TN)\n",
    "            ACC = sum([b == t for b,t in zip(blank_classification,tags)]) / len(tags)\n",
    "\n",
    "            # Sensitivity, hit rate, recall, or true positive rate\n",
    "            TPR = TP/(TP+FN)\n",
    "#             # Specificity or true negative rate\n",
    "#             TNR = TN/(TN+FP) \n",
    "#             # Precision or positive predictive value\n",
    "#             PPV = TP/(TP+FP)\n",
    "#             # Negative predictive value\n",
    "#             NPV = TN/(TN+FN)\n",
    "#             # Fall out or false positive rate\n",
    "#             FPR = FP/(FP+TN)\n",
    "            # False negative rate\n",
    "            FNR = FN/(TP+FN)\n",
    "#             # False discovery rate\n",
    "#             FDR = FP/(TP+FP)\n",
    "\n",
    "            # Per sententance values\n",
    "            TPpersent = TP / Nsentences2\n",
    "            FPpersent = FP / Nsentences2\n",
    "    \n",
    "        TPR0.append(TPR)\n",
    "        FPR0.append(FPR)\n",
    "        ACC0.append(ACC)\n",
    "        TP0.append(TP)\n",
    "        FP0.append(FP)\n",
    "        FN0.append(FN)\n",
    "        TN0.append(TN)\n",
    "        TPpersent0.append(TPpersent)\n",
    "        FPpersent0.append(FPpersent)\n",
    "        indices['i'].append(i)\n",
    "        indices['j'].append(j)\n",
    "        indices['k'].append(k)\n",
    "\n"
   ]
  },
  {
   "cell_type": "code",
   "execution_count": 75,
   "metadata": {},
   "outputs": [
    {
     "data": {
      "text/plain": [
       "[0.1354387107276575,\n",
       " 0.1354387107276575,\n",
       " 0.1354387107276575,\n",
       " 0.1354387107276575,\n",
       " 0.1354387107276575,\n",
       " 0.1354387107276575,\n",
       " 0.1354387107276575,\n",
       " 0.1354387107276575,\n",
       " 0.1354387107276575,\n",
       " 0.1354387107276575]"
      ]
     },
     "execution_count": 75,
     "metadata": {},
     "output_type": "execute_result"
    }
   ],
   "source": [
    "FPR0[0:10]"
   ]
  },
  {
   "cell_type": "code",
   "execution_count": 76,
   "metadata": {},
   "outputs": [],
   "source": [
    "# # # Plot the histogram without containing any bads\n",
    "# Calculate how this affects Ntrain / Ndev\n",
    "Ntrainp_bad = len([b for b in abads if b < Ntrainp])\n",
    "Ndevp_bad = len([b for b in abads if b >= Ntrainp])\n"
   ]
  },
  {
   "cell_type": "code",
   "execution_count": 77,
   "metadata": {},
   "outputs": [
    {
     "name": "stdout",
     "output_type": "stream",
     "text": [
      "19035\n",
      "1204\n",
      "1383\n",
      "13\n"
     ]
    }
   ],
   "source": [
    "print(Ntrainp)\n",
    "print(Ndevp)\n",
    "print(Ntrainp_bad)\n",
    "print(Ndevp_bad)\n",
    "max(abads)\n",
    "len(FN0)\n",
    "\n",
    "x = []\n",
    "for a in abads:\n",
    "    x.append(TPR0[a])\n"
   ]
  },
  {
   "cell_type": "markdown",
   "metadata": {},
   "source": [
    "## Plot TPR"
   ]
  },
  {
   "cell_type": "code",
   "execution_count": 78,
   "metadata": {},
   "outputs": [
    {
     "data": {
      "image/png": "[encoded data removed]",
      "text/plain": [
       "<Figure size 1080x288 with 2 Axes>"
      ]
     },
     "metadata": {
      "needs_background": "light"
     },
     "output_type": "display_data"
    }
   ],
   "source": [
    "myvar = TPR0\n",
    "varname = 'TPR'\n",
    "\n",
    "# Plot bargraph (Don't plot figure for each paragraph!)\n",
    "# plotbar_train_dev2(myvar,Ntrain,Ndev,ylabel='{}'.format(varname),xlabel='Article #')\n",
    "\n",
    "# # # Plot the histogram without containing any bads\n",
    "# myvar without the bad articles\n",
    "myvar2 = [tp for i, tp in enumerate(myvar) if i not in abads]\n",
    "\n",
    "# Plot the histogram\n",
    "ax = plothist_train_dev2(myvar2,Ntrainp-Ntrainp_bad,Ndevp-Ndevp_bad,xlabel=varname,ylabel='N Articles',devbins='auto')\n",
    "# set(ax['ax1'].set_xlim(0,1));\n",
    "# set(ax['ax2'].set_xlim(0,1));\n",
    "\n"
   ]
  },
  {
   "cell_type": "markdown",
   "metadata": {},
   "source": [
    "## Find paragraphs containing a lot of true positives"
   ]
  },
  {
   "cell_type": "code",
   "execution_count": 79,
   "metadata": {},
   "outputs": [
    {
     "name": "stdout",
     "output_type": "stream",
     "text": [
      "744\n",
      "Article #442 paragraph #1\n",
      "Normans\n",
      "True positive rate: 0.8571428571428571\n"
     ]
    }
   ],
   "source": [
    "\n",
    "# Inds of all articles >0.4 TPR\n",
    "inds = [i for i,x in enumerate(TPR0) if x >=0.6]\n",
    "\n",
    "# Inds of all articles >0.4 TPR and in dev dataset\n",
    "inds = [i for i,x in enumerate(TPR0) if x >=0.4 and x < 1.0 and i > Ntrainp and i not in abads]\n",
    "\n",
    "print(len(inds))\n",
    "chosen_ind = inds[0]\n",
    "i = indices['i'][chosen_ind]\n",
    "j = indices['j'][chosen_ind]\n",
    "k = indices['k'][chosen_ind]\n",
    "print('Article #{} paragraph #{}'.format(str(i),str(j)))\n",
    "print(arts[i]['title'])\n",
    "print('True positive rate: {}'.format(str(TPR0[chosen_ind])))"
   ]
  },
  {
   "cell_type": "code",
   "execution_count": 80,
   "metadata": {},
   "outputs": [],
   "source": [
    "# Pull out sample paragraph\n",
    "p = arts[i]['paragraphs'][j]\n",
    "\n",
    "# AllenNLP results\n",
    "words = p['allenNER']['words'].split()\n",
    "# tags = p['allenNER']['tags'].split()\n",
    "# tags = [not t == '0' for t in tags]   # Convert to binary\n",
    "tags = p['blank_classified_allen']\n",
    "\n",
    "# Ground truth\n",
    "blank_classification = p['blank_classification']"
   ]
  },
  {
   "cell_type": "code",
   "execution_count": 81,
   "metadata": {},
   "outputs": [
    {
     "name": "stdout",
     "output_type": "stream",
     "text": [
      "============\t\t\t==========\n",
      "Ground truth\t\t\tPrediction\n",
      "============\t\t\t==========\n",
      "The\t\t\t\tThe\n",
      "Norman\t\t\t\t______\n",
      "dynasty\t\t\t\t______\n",
      "had\t\t\t\thad\n",
      "a\t\t\t\ta\n",
      "major\t\t\t\tmajor\n",
      "political\t\t\t\tpolitical\n",
      ",\t\t\t\t,\n",
      "cultural\t\t\t\tcultural\n",
      "and\t\t\t\tand\n",
      "military\t\t\t\tmilitary\n",
      "impact\t\t\t\timpact\n",
      "on\t\t\t\ton\n",
      "medieval\t\t\t\tmedieval\n",
      "Europe\t\t\t\tEurope\n",
      "and\t\t\t\tand\n",
      "even\t\t\t\teven\n",
      "the\t\t\t\tthe\n",
      "Near\t\t\t\tNear\n",
      "East\t\t\t\t______\n"
     ]
    }
   ],
   "source": [
    "# Side by side compare\n",
    "\n",
    "words_blanked_ground_truth = words2words_blanked(words,blank_classification)\n",
    "words_blanked_allen = words2words_blanked(words,tags)\n",
    "\n",
    "N=len(words_blanked_ground_truth)\n",
    "N=20\n",
    "print(\"============\" + '\\t\\t\\t' + \"==========\")\n",
    "print(\"Ground truth\" + '\\t\\t\\t' + \"Prediction\")\n",
    "print(\"============\" + '\\t\\t\\t' + \"==========\")\n",
    "for c,w in zip(words_blanked_ground_truth[:N],words_blanked_allen[:N]):\n",
    "    print(c + '\\t\\t\\t\\t' + w)\n"
   ]
  },
  {
   "cell_type": "markdown",
   "metadata": {},
   "source": [
    "## Ground truth blanked"
   ]
  },
  {
   "cell_type": "code",
   "execution_count": 82,
   "metadata": {},
   "outputs": [
    {
     "name": "stdout",
     "output_type": "stream",
     "text": [
      "The Norman dynasty had a major political, cultural and military impact on medieval Europe and even the Near East. The Normans were famed for their martial spirit and eventually for their Christian piety, becoming exponents of the ______ ______ into which they assimilated. They adopted the Gallo - Romance language of the Frankish land they settled, their dialect becoming known as Norman, Normaund or Norman French, an important literary language. The Duchy of Normandy, which they formed by treaty with the French crown, was a great fief of medieval France, and under ______ ______ of Normandy was forged into a cohesive and formidable principality in feudal tenure. The Normans are noted both for their culture, such as their unique Romanesque architecture and musical traditions, and for their significant military accomplishments and innovations. Norman adventurers founded the Kingdom of Sicily under Roger II after conquering southern Italy on the Saracens and Byzantines, and an expedition on behalf of their duke, ______ the ______, led to the Norman conquest of England at the Battle of Hastings in 1066. Norman cultural and military influence spread from these new European centres to the Crusader states of the Near East, where their prince Bohemond ______ founded the Principality of Antioch in the Levant, to Scotland and Wales in Great Britain, to Ireland, and to the coasts of north Africa and the Canary Islands.\n",
      "Answers:\n",
      "['Catholic', 'orthodoxy', 'Richard', 'I', 'William', 'Conqueror', 'I']\n"
     ]
    }
   ],
   "source": [
    "# Blanked text\n",
    "print(words2text(words_blanked_ground_truth))\n",
    "\n",
    "# Answers    \n",
    "myanswers = words2answers(words,blank_classification)\n",
    "print(\"Answers:\")\n",
    "print(myanswers)"
   ]
  },
  {
   "cell_type": "code",
   "execution_count": 83,
   "metadata": {},
   "outputs": [
    {
     "name": "stdout",
     "output_type": "stream",
     "text": [
      "The ______ ______ had a major political, cultural and military impact on medieval Europe and even the Near ______. The ______ were famed for their martial spirit and eventually for their ______ ______, becoming exponents of the ______ ______ into which they assimilated. They adopted the ______ - Romance language of the ______ land they settled, their dialect becoming known as ______, ______ or ______ ______, an important literary language. The ______ of ______, which they formed by ______ with the ______ crown, was a great fief of ______ ______, and under ______ I of Normandy was forged into a cohesive and formidable principality in feudal tenure. The ______ are noted both for their culture, such as their unique Romanesque architecture and musical traditions, and for their significant military accomplishments and innovations. ______ adventurers founded the ______ of ______ under ______ ______ after conquering ______ ______ on the ______ and ______, and an ______ on behalf of their duke, ______ the ______, led to the ______ conquest of England at the ______ of ______ in ______. Norman cultural and military influence spread from these new European centres to the Crusader states of the Near East, where their prince ______ ______ founded the Principality of ______ in the ______, to ______ and Wales in Great Britain, to ______, and to the coasts of north Africa and the ______ ______.\n",
      "Answers:\n",
      "['Norman', 'dynasty', 'East', 'Normans', 'Christian', 'piety', 'Catholic', 'orthodoxy', 'Gallo', 'Frankish', 'Norman', 'Normaund', 'Norman', 'French', 'Duchy', 'Normandy', 'treaty', 'French', 'medieval', 'France', 'Richard', 'Normans', 'Norman', 'Kingdom', 'Sicily', 'Roger', 'II', 'southern', 'Italy', 'Saracens', 'Byzantines', 'expedition', 'William', 'Conqueror', 'Norman', 'Battle', 'Hastings', '1066', 'Bohemond', 'I', 'Antioch', 'Levant', 'Scotland', 'Ireland', 'Canary', 'Islands']\n"
     ]
    }
   ],
   "source": [
    "# Blanked text\n",
    "print(words2text(words_blanked_allen))\n",
    "\n",
    "# Answers    \n",
    "myanswers = words2answers(words,tags)\n",
    "print(\"Answers:\")\n",
    "print(myanswers)"
   ]
  },
  {
   "cell_type": "code",
   "execution_count": 84,
   "metadata": {},
   "outputs": [],
   "source": [
    "TP = sum([b and t for b,t in zip(blank_classification,tags)])\n",
    "FP = sum([not b and t for b,t in zip(blank_classification,tags)])\n",
    "FN = sum([b and not t for b,t in zip(blank_classification,tags)])\n",
    "TN = sum([not b and not t for b,t in zip(blank_classification,tags)])\n",
    "ACC = (TP+TN)/(TP+FP+FN+TN)\n",
    "ACC2 = sum([b == t for b,t in zip(blank_classification,tags)]) / len(tags)"
   ]
  },
  {
   "cell_type": "code",
   "execution_count": 85,
   "metadata": {},
   "outputs": [
    {
     "name": "stdout",
     "output_type": "stream",
     "text": [
      "0.8373015873015873\n",
      "0.8373015873015873\n",
      "6\n",
      "40\n"
     ]
    }
   ],
   "source": [
    "print(ACC)\n",
    "print(ACC2)\n",
    "print(TP)\n",
    "print(FP)"
   ]
  },
  {
   "cell_type": "code",
   "execution_count": 86,
   "metadata": {},
   "outputs": [],
   "source": [
    "# Sensitivity, hit rate, recall, or true positive rate\n",
    "TPR = TP/(TP+FN)\n",
    "# Specificity or true negative rate\n",
    "TNR = TN/(TN+FP) \n",
    "# Precision or positive predictive value\n",
    "PPV = TP/(TP+FP)\n",
    "# Negative predictive value\n",
    "NPV = TN/(TN+FN)\n",
    "# Fall out or false positive rate\n",
    "FPR = FP/(FP+TN)\n",
    "# False negative rate\n",
    "FNR = FN/(TP+FN)\n",
    "# False discovery rate\n",
    "FDR = FP/(TP+FP)\n"
   ]
  },
  {
   "cell_type": "code",
   "execution_count": 87,
   "metadata": {},
   "outputs": [
    {
     "name": "stdout",
     "output_type": "stream",
     "text": [
      "0.8571428571428571\n",
      "0.16326530612244897\n"
     ]
    }
   ],
   "source": [
    "print(TPR)\n",
    "print(FPR)"
   ]
  }
 ],
 "metadata": {
  "kernelspec": {
   "display_name": "Python [conda env:allennlp]",
   "language": "python",
   "name": "conda-env-allennlp-py"
  },
  "language_info": {
   "codemirror_mode": {
    "name": "ipython",
    "version": 3
   },
   "file_extension": ".py",
   "mimetype": "text/x-python",
   "name": "python",
   "nbconvert_exporter": "python",
   "pygments_lexer": "ipython3",
   "version": "3.6.8"
  }
 },
 "nbformat": 4,
 "nbformat_minor": 2
}
