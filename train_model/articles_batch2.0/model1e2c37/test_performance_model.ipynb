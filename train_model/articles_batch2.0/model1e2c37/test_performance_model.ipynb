{
 "cells": [
  {
   "cell_type": "code",
   "execution_count": 1,
   "metadata": {},
   "outputs": [],
   "source": [
    "# Set up and load data\n",
    "# Includes\n",
    "import sys\n",
    "import os\n",
    "import numpy as np\n",
    "import json\n",
    "import os\n",
    "\n",
    "\n",
    "# Setup paths containing utility\n",
    "curr_folder = os.getcwd()\n",
    "sys.path.insert(0, os.path.join(curr_folder,'../../../app'))\n",
    "\n",
    "# Utils imports for loading data\n",
    "from utils import save_data, load_data, exists_datafolder\n",
    "from utils import load_SQuAD_train, load_SQuAD_dev\n",
    "from utils import get_foldername\n",
    "from utils_NLP import text2sentences,words2words_blanked,words2answers\n",
    "from utils_SQuAD import OR_arts_paragraph_fields,merge_arts_paragraph_fields\n",
    "\n",
    "# Plotting includes\n",
    "from utils_EDAplots import plotbar_train_dev,plothist_train_dev,plotbar_train_dev2,plothist_train_dev2\n",
    "\n",
    "\n",
    "# Import fig stuff\n",
    "import matplotlib.pyplot as plt\n",
    "from matplotlib.pyplot import figure"
   ]
  },
  {
   "cell_type": "code",
   "execution_count": 2,
   "metadata": {},
   "outputs": [],
   "source": [
    "# Option for merging NER data into combined model\n",
    "merge_in_NER_data = False"
   ]
  },
  {
   "cell_type": "markdown",
   "metadata": {},
   "source": [
    "# Load and merge ground truth and MODEL data"
   ]
  },
  {
   "cell_type": "code",
   "execution_count": 3,
   "metadata": {},
   "outputs": [
    {
     "name": "stdout",
     "output_type": "stream",
     "text": [
      "/home/davestanley/Dropbox/git/mindpocket/train_model/articles_batch2.0/model1e2c37\n"
     ]
    }
   ],
   "source": [
    "!pwd"
   ]
  },
  {
   "cell_type": "code",
   "execution_count": 4,
   "metadata": {},
   "outputs": [
    {
     "name": "stdout",
     "output_type": "stream",
     "text": [
      "Frédéric_Chopin\n"
     ]
    }
   ],
   "source": [
    "# Load data containing MODEL (predictions)\n",
    "foldername = os.path.join('SQ_pp_b4m0c2')\n",
    "arts_train = load_data('train.json',foldername,prepend_data_folder=False)\n",
    "arts_dev = load_data('dev.json',foldername,prepend_data_folder=False)\n",
    "\n",
    "# All articles\n",
    "Ntrain = len(arts_train)\n",
    "Ndev = len(arts_dev)\n",
    "\n",
    "arts = arts_train + arts_dev\n",
    "print(arts[1]['title'])\n",
    "# print(arts[1]['paragraphs'][0]['context'])"
   ]
  },
  {
   "cell_type": "code",
   "execution_count": 5,
   "metadata": {},
   "outputs": [],
   "source": [
    "# Trim down newly loaded articles to match Narticles in training set\n",
    "ind_train = slice(0,Ntrain)\n",
    "ind_dev = slice(0,Ndev)\n",
    "\n",
    "# Chosen display articles\n",
    "ind_ex_train = 1                   # Example from training set - Chopin\n",
    "ind_ex_dev = Ntrain + (467-442)    # Example from dev set - Immune system"
   ]
  },
  {
   "cell_type": "code",
   "execution_count": 6,
   "metadata": {},
   "outputs": [
    {
     "name": "stdout",
     "output_type": "stream",
     "text": [
      "Frédéric_Chopin\n"
     ]
    }
   ],
   "source": [
    "# Load blanks data (ground truth)\n",
    "foldername = get_foldername('sq_pp_training')\n",
    "arts3 = load_data('train.json',foldername)[ind_train] + load_data('dev.json',foldername)[ind_dev]\n",
    "print(arts3[1]['title'])\n",
    "# print(arts3[1]['paragraphs'][0]['context_blanked'])\n"
   ]
  },
  {
   "cell_type": "code",
   "execution_count": 7,
   "metadata": {},
   "outputs": [
    {
     "name": "stdout",
     "output_type": "stream",
     "text": [
      "Matching titles: 55 \n",
      "Total articles 55\n"
     ]
    }
   ],
   "source": [
    "# Make sure all titles match\n",
    "all_title_pairs = [(a1['title'],a3['title']) for a1,a3 in zip(arts,arts3)]\n",
    "titles_match_bool = [a1['title'] == a3['title'] for a1,a3 in zip(arts,arts3)]\n",
    "print(\"Matching titles: {} \\nTotal articles {}\".format(sum(titles_match_bool),len(titles_match_bool)))\n",
    "if not sum(titles_match_bool) == len(titles_match_bool):\n",
    "    raise ValueError('Articles mismatch.')\n"
   ]
  },
  {
   "cell_type": "code",
   "execution_count": 8,
   "metadata": {},
   "outputs": [],
   "source": [
    "# Merge ground truth blanks with original data to get full dataset\n",
    "list_of_fields = ['context_blanked','blank_classification']\n",
    "arts = merge_arts_paragraph_fields(arts,arts3,list_of_fields)\n",
    "\n",
    "# print(arts[1]['title'])\n",
    "# print(arts[1]['paragraphs'][0]['context'])\n",
    "# print(arts[1]['paragraphs'][0]['context_blanked'])"
   ]
  },
  {
   "cell_type": "code",
   "execution_count": 9,
   "metadata": {},
   "outputs": [
    {
     "data": {
      "text/plain": [
       "'Frédéric François Chopin (/ˈʃoʊpæn/; French pronunciation: \\u200b[fʁe.de.ʁik fʁɑ̃.swa ʃɔ.pɛ̃]; 22 February or 1 March 1810 – 17 October 1849), born Fryderyk Franciszek Chopin,[n 1] was a Polish and French (by citizenship and birth of father) composer and a virtuoso pianist of the Romantic era, who wrote primarily for the solo piano. He gained and has maintained renown worldwide as one of the leading musicians of his era, whose \"poetic genius was based on a professional technique that was without equal in his generation.\" Chopin was born in what was then the Duchy of Warsaw, and grew up in Warsaw, which after 1815 became part of Congress Poland. A child prodigy, he completed his musical education and composed his earlier works in Warsaw before leaving Poland at the age of 20, less than a month before the outbreak of the November 1830 Uprising.'"
      ]
     },
     "execution_count": 9,
     "metadata": {},
     "output_type": "execute_result"
    }
   ],
   "source": [
    "arts[ind_ex_train]['paragraphs'][0]['context']"
   ]
  },
  {
   "cell_type": "code",
   "execution_count": 10,
   "metadata": {},
   "outputs": [
    {
     "data": {
      "text/plain": [
       "dict_keys(['qas', 'context', 'allenNER', 'context_blanked', 'blank_classification', 'blank_classified_allen'])"
      ]
     },
     "execution_count": 10,
     "metadata": {},
     "output_type": "execute_result"
    }
   ],
   "source": [
    "# Convert AllenNLP Model blanks classification into standard format\n",
    "\n",
    "# If doing merge, use unique name for this model result. Otherwise, use generic name\n",
    "if merge_in_NER_data: fieldname = 'blank_classified_allenMODEL'\n",
    "else: fieldname = 'blank_classified_allen'\n",
    "\n",
    "\n",
    "from utils_NLP import allenNLP_classify_blanks\n",
    "arts = allenNLP_classify_blanks(arts,'0',fieldname)\n",
    "arts[0]['paragraphs'][0].keys()"
   ]
  },
  {
   "cell_type": "markdown",
   "metadata": {},
   "source": [
    "# Load NER data and merge into arts dataset"
   ]
  },
  {
   "cell_type": "code",
   "execution_count": 11,
   "metadata": {},
   "outputs": [],
   "source": [
    "\n",
    "if merge_in_NER_data:\n",
    "    # Load data containing NEP (predictions)\n",
    "    foldername = get_foldername('sq_pp_ner')\n",
    "\n",
    "    arts_NER = load_data('train.json',foldername)[ind_train] + load_data('dev.json',foldername)[ind_dev]\n",
    "    print(arts[1]['title'])\n",
    "    # print(arts[1]['paragraphs'][0]['context'])\n",
    "\n",
    "    # Make sure all titles match\n",
    "    all_title_pairs = [(a1['title'],a3['title']) for a1,a3 in zip(arts,arts_NER)]\n",
    "    titles_match_bool = [a1['title'] == a3['title'] for a1,a3 in zip(arts,arts_NER)]\n",
    "    print(\"Matching titles: {} \\nTotal articles {}\".format(sum(titles_match_bool),len(titles_match_bool)))\n",
    "    if not sum(titles_match_bool) == len(titles_match_bool):\n",
    "        raise ValueError('Articles mismatch.')\n",
    "\n",
    "    # Convert AllenNLP Model blanks classification into standard format\n",
    "    from utils_NLP import allenNLP_classify_blanks\n",
    "    arts_NER = allenNLP_classify_blanks(arts_NER,'O','blank_classified_allenNER')\n",
    "    print(arts_NER[0]['paragraphs'][0].keys())\n",
    "\n",
    "    # Merge NER data into full dataset\n",
    "    list_of_fields = ['blank_classified_allenNER']\n",
    "    arts = merge_arts_paragraph_fields(arts,arts_NER,list_of_fields)\n",
    "    print(arts[0]['paragraphs'][0].keys())"
   ]
  },
  {
   "cell_type": "code",
   "execution_count": 12,
   "metadata": {},
   "outputs": [],
   "source": [
    "# OR operation on blank_classified_allenMODEL and blank_classified_allenNER into blank_classified_allenMODEL\n",
    "\n",
    "if merge_in_NER_data:\n",
    "    destination_fieldname = 'blank_classified_allen'\n",
    "    arts = OR_arts_paragraph_fields(arts,['blank_classified_allenMODEL','blank_classified_allenNER'],destination_fieldname)\n",
    "\n",
    "    p = arts[0]['paragraphs'][1]\n",
    "    print(p['blank_classified_allenNER'])\n",
    "    print(p['blank_classified_allenMODEL'])\n",
    "    print(p['blank_classified_allen'])\n"
   ]
  },
  {
   "cell_type": "markdown",
   "metadata": {},
   "source": [
    "# Compare paragraph word reconstructions"
   ]
  },
  {
   "cell_type": "markdown",
   "metadata": {},
   "source": [
    "This just looks at the words in the different saved fiels files to make sure all the words match up 1:1 (otherwise, this could mess up our evaluations). Not looking at blanks here at all. The next sectoin looks at the blanks"
   ]
  },
  {
   "cell_type": "code",
   "execution_count": 13,
   "metadata": {},
   "outputs": [],
   "source": [
    "# Pull out sample paragraph\n",
    "p = arts[ind_ex_dev]['paragraphs'][0]"
   ]
  },
  {
   "cell_type": "markdown",
   "metadata": {},
   "source": [
    "## AllenNLP Words"
   ]
  },
  {
   "cell_type": "code",
   "execution_count": 14,
   "metadata": {},
   "outputs": [
    {
     "name": "stdout",
     "output_type": "stream",
     "text": [
      "125\n",
      "125\n",
      "The immune system is a system of many biological structures and processes within an organism that protects against disease. To function properly, an immune system must detect a wide variety of agents, known as pathogens, from viruses to parasitic worms, and distinguish them from the organism 's own healthy tissue. In many species, the immune system can be classified into subsystems, such as the innate immune system versus the adaptive immune system, or humoral immunity versus cell - mediated immunity. In humans, the blood – brain barrier, blood – cerebrospinal fluid barrier, and similar fluid – brain barriers separate the peripheral immune system from the neuroimmune system which protects the brain.\n",
      "708\n"
     ]
    }
   ],
   "source": [
    "from utils_NLP import words2text\n",
    "words = p['allenNER']['words'].split()\n",
    "tags = p['allenNER']['tags'].split()\n",
    "print(len(words))\n",
    "print(len(tags))\n",
    "print(words2text(words))\n",
    "print(len(words2text(words)))"
   ]
  },
  {
   "cell_type": "markdown",
   "metadata": {},
   "source": [
    "## Context"
   ]
  },
  {
   "cell_type": "code",
   "execution_count": 15,
   "metadata": {},
   "outputs": [
    {
     "name": "stdout",
     "output_type": "stream",
     "text": [
      "125\n",
      "The immune system is a system of many biological structures and processes within an organism that protects against disease. To function properly, an immune system must detect a wide variety of agents, known as pathogens, from viruses to parasitic worms, and distinguish them from the organism 's own healthy tissue. In many species, the immune system can be classified into subsystems, such as the innate immune system versus the adaptive immune system, or humoral immunity versus cell - mediated immunity. In humans, the blood – brain barrier, blood – cerebrospinal fluid barrier, and similar fluid – brain barriers separate the peripheral immune system from the neuroimmune system which protects the brain.\n",
      "708\n"
     ]
    }
   ],
   "source": [
    "from utils_NLP import allenNLP_split_words, join_punctuation\n",
    "\n",
    "context = p['context']\n",
    "context_split = allenNLP_split_words(context)\n",
    "\n",
    "# context_reassembled = ' '.join(context_split)\n",
    "context_reassembled = words2text(context_split)\n",
    "\n",
    "print(len(context_split))\n",
    "# print(words2text(context_split))\n",
    "# print(len(words2text(context_split)))\n",
    "print(context_reassembled)\n",
    "print(len(context_reassembled))\n"
   ]
  },
  {
   "cell_type": "markdown",
   "metadata": {},
   "source": [
    "## Context_blanked"
   ]
  },
  {
   "cell_type": "code",
   "execution_count": 16,
   "metadata": {},
   "outputs": [
    {
     "name": "stdout",
     "output_type": "stream",
     "text": [
      "125\n",
      "dict_keys(['qas', 'context', 'allenNER', 'context_blanked', 'blank_classification', 'blank_classified_allen'])\n",
      "The immune ______ is a ______ of many biological structures and processes within an organism that protects against ______ . To function properly , an immune ______ must detect a wide variety of agents , known as ______ , from viruses to parasitic worms , and distinguish them from the organism 's own healthy tissue . In many species , the immune ______ can be classified into subsystems , such as the innate immune ______ versus the adaptive immune ______ , or humoral immunity versus cell - mediated immunity . In humans , the blood – brain barrier , blood – cerebrospinal fluid barrier , and similar fluid – brain ______ separate the peripheral immune ______ from the ______ ______ which protects the brain .\n"
     ]
    }
   ],
   "source": [
    "print(len(p['blank_classification']))\n",
    "print(p.keys())\n",
    "print(p['context_blanked'])"
   ]
  },
  {
   "cell_type": "code",
   "execution_count": 17,
   "metadata": {},
   "outputs": [
    {
     "name": "stdout",
     "output_type": "stream",
     "text": [
      "system\n",
      "system\n",
      "disease\n",
      "system\n",
      "pathogens\n",
      "system\n",
      "system\n",
      "system\n",
      "barriers\n",
      "system\n",
      "neuroimmune\n",
      "system\n"
     ]
    }
   ],
   "source": [
    "# Answers\n",
    "for i,c in enumerate(p['blank_classification']):\n",
    "    if c == 1: print(context_split[i])"
   ]
  },
  {
   "cell_type": "markdown",
   "metadata": {},
   "source": [
    "# Single paragraph - Compare blanks"
   ]
  },
  {
   "cell_type": "markdown",
   "metadata": {},
   "source": [
    "## First, just look at the raw text"
   ]
  },
  {
   "cell_type": "code",
   "execution_count": 18,
   "metadata": {},
   "outputs": [],
   "source": [
    "# Pull out sample paragraph\n",
    "p = arts[ind_ex_dev]['paragraphs'][1]\n",
    "\n",
    "# # Print all AllenNLP classifications\n",
    "# print([(a,b) for a,b in zip(p['allenNER']['words'].split(), p['allenNER']['tags'].split())])\n",
    "\n",
    "# AllenNLP results\n",
    "words = p['allenNER']['words'].split()\n",
    "# tags = p['allenNER']['tags'].split()\n",
    "# tags = [not t == '0' for t in tags]   # Convert to binary\n",
    "tags = p['blank_classified_allen']\n",
    "\n",
    "# Ground truth\n",
    "blank_classification = p['blank_classification']"
   ]
  },
  {
   "cell_type": "code",
   "execution_count": 19,
   "metadata": {},
   "outputs": [
    {
     "name": "stdout",
     "output_type": "stream",
     "text": [
      "Length Allen tags: 124. Length ground truth blanks: 124\n"
     ]
    }
   ],
   "source": [
    "\n",
    "\n",
    "print(\"Length Allen tags: {}. Length ground truth blanks: {}\".format(len(tags),len(blank_classification)))"
   ]
  },
  {
   "cell_type": "code",
   "execution_count": 20,
   "metadata": {},
   "outputs": [
    {
     "name": "stdout",
     "output_type": "stream",
     "text": [
      "============\t\t\t==========\n",
      "Ground truth\t\t\tPrediction\n",
      "============\t\t\t==========\n",
      "Disorders\t\t\t\t______\n",
      "of\t\t\t\tof\n",
      "the\t\t\t\tthe\n",
      "immune\t\t\t\timmune\n",
      "system\t\t\t\t______\n",
      "can\t\t\t\tcan\n",
      "result\t\t\t\tresult\n",
      "in\t\t\t\tin\n",
      "autoimmune\t\t\t\t______\n",
      "diseases\t\t\t\t______\n",
      ",\t\t\t\t,\n",
      "inflammatory\t\t\t\t______\n",
      "diseases\t\t\t\t______\n",
      "and\t\t\t\tand\n",
      "cancer\t\t\t\t______\n",
      ".\t\t\t\t.\n",
      "______\t\t\t\t______\n",
      "______\t\t\t\toccurs\n",
      "when\t\t\t\twhen\n",
      "the\t\t\t\tthe\n"
     ]
    }
   ],
   "source": [
    "# Side by side compare\n",
    "\n",
    "words_blanked_ground_truth = words2words_blanked(words,blank_classification)\n",
    "words_blanked_allen = words2words_blanked(words,tags)\n",
    "\n",
    "N=len(words_blanked_ground_truth)\n",
    "N=20\n",
    "print(\"============\" + '\\t\\t\\t' + \"==========\")\n",
    "print(\"Ground truth\" + '\\t\\t\\t' + \"Prediction\")\n",
    "print(\"============\" + '\\t\\t\\t' + \"==========\")\n",
    "for c,w in zip(words_blanked_ground_truth[:N],words_blanked_allen[:N]):\n",
    "    print(c + '\\t\\t\\t\\t' + w)\n"
   ]
  },
  {
   "cell_type": "markdown",
   "metadata": {},
   "source": [
    "## Ground truth blanked"
   ]
  },
  {
   "cell_type": "code",
   "execution_count": 21,
   "metadata": {},
   "outputs": [
    {
     "name": "stdout",
     "output_type": "stream",
     "text": [
      "Disorders of the immune system can result in autoimmune diseases, inflammatory diseases and cancer. ______ ______ when the immune system is less active than normal, resulting in recurring and life - threatening infections. In humans, ______ can either be the result of a genetic disease such as severe combined ______, acquired conditions such as HIV / AIDS, or the use of immunosuppressive medication. In contrast, ______ results from a hyperactive immune system attacking normal tissues as if they were foreign organisms. Common autoimmune diseases include Hashimoto 's thyroiditis, rheumatoid arthritis, diabetes mellitus type 1, and systemic lupus erythematosus. ______ covers the study of all aspects of the immune system.\n",
      "Answers:\n",
      "['Immunodeficiency', 'occurs', 'immunodeficiency', 'immunodeficiency', 'autoimmunity', 'Immunology']\n"
     ]
    }
   ],
   "source": [
    "# Blanked text\n",
    "print(words2text(words_blanked_ground_truth))\n",
    "\n",
    "# Answers    \n",
    "myanswers = words2answers(words,blank_classification)\n",
    "print(\"Answers:\")\n",
    "print(myanswers)"
   ]
  },
  {
   "cell_type": "code",
   "execution_count": 22,
   "metadata": {},
   "outputs": [
    {
     "name": "stdout",
     "output_type": "stream",
     "text": [
      "______ of the immune ______ can result in ______ ______, ______ ______ and ______. ______ occurs when the immune ______ is less ______ than ______, resulting in recurring and ______ - threatening ______. In ______, ______ can either be the ______ of a genetic ______ such as severe combined ______, acquired ______ such as ______ / ______, or the ______ of immunosuppressive ______. In ______, ______ results from a hyperactive immune ______ attacking normal ______ as if they were ______ ______. Common autoimmune diseases include ______ 's ______, ______ ______, ______ ______ ______ ______, and systemic ______ ______. ______ covers the ______ of all ______ of the immune system.\n",
      "Answers:\n",
      "['Disorders', 'system', 'autoimmune', 'diseases', 'inflammatory', 'diseases', 'cancer', 'Immunodeficiency', 'system', 'active', 'normal', 'life', 'infections', 'humans', 'immunodeficiency', 'result', 'disease', 'immunodeficiency', 'conditions', 'HIV', 'AIDS', 'use', 'medication', 'contrast', 'autoimmunity', 'system', 'tissues', 'foreign', 'organisms', 'Hashimoto', 'thyroiditis', 'rheumatoid', 'arthritis', 'diabetes', 'mellitus', 'type', '1', 'lupus', 'erythematosus', 'Immunology', 'study', 'aspects']\n"
     ]
    }
   ],
   "source": [
    "# Blanked text\n",
    "print(words2text(words_blanked_allen))\n",
    "\n",
    "# Answers    \n",
    "myanswers = words2answers(words,tags)\n",
    "print(\"Answers:\")\n",
    "print(myanswers)"
   ]
  },
  {
   "cell_type": "code",
   "execution_count": 23,
   "metadata": {},
   "outputs": [],
   "source": [
    "TP = sum([b and t for b,t in zip(blank_classification,tags)])\n",
    "FP = sum([not b and t for b,t in zip(blank_classification,tags)])\n",
    "FN = sum([b and not t for b,t in zip(blank_classification,tags)])\n",
    "TN = sum([not b and not t for b,t in zip(blank_classification,tags)])\n",
    "ACC = (TP+TN)/(TP+FP+FN+TN)\n",
    "ACC2 = sum([b == t for b,t in zip(blank_classification,tags)]) / len(tags)"
   ]
  },
  {
   "cell_type": "code",
   "execution_count": 24,
   "metadata": {},
   "outputs": [
    {
     "name": "stdout",
     "output_type": "stream",
     "text": [
      "0.6935483870967742\n",
      "0.6935483870967742\n",
      "5\n",
      "37\n"
     ]
    }
   ],
   "source": [
    "print(ACC)\n",
    "print(ACC2)\n",
    "print(TP)\n",
    "print(FP)"
   ]
  },
  {
   "cell_type": "code",
   "execution_count": 25,
   "metadata": {},
   "outputs": [],
   "source": [
    "# Sensitivity, hit rate, recall, or true positive rate\n",
    "TPR = TP/(TP+FN)\n",
    "# Specificity or true negative rate\n",
    "TNR = TN/(TN+FP) \n",
    "# Precision or positive predictive value\n",
    "PPV = TP/(TP+FP)\n",
    "# Negative predictive value\n",
    "NPV = TN/(TN+FN)\n",
    "# Fall out or false positive rate\n",
    "FPR = FP/(FP+TN)\n",
    "# False negative rate\n",
    "FNR = FN/(TP+FN)\n",
    "# False discovery rate\n",
    "FDR = FP/(TP+FP)\n"
   ]
  },
  {
   "cell_type": "code",
   "execution_count": 26,
   "metadata": {},
   "outputs": [
    {
     "name": "stdout",
     "output_type": "stream",
     "text": [
      "0.8333333333333334\n",
      "0.3135593220338983\n"
     ]
    }
   ],
   "source": [
    "print(TPR)\n",
    "print(FPR)"
   ]
  },
  {
   "cell_type": "code",
   "execution_count": 27,
   "metadata": {},
   "outputs": [
    {
     "name": "stdout",
     "output_type": "stream",
     "text": [
      "Nsentences=6\n",
      "Nsentences_from_words=6\n"
     ]
    }
   ],
   "source": [
    "Nsentences = len(text2sentences(p['context']))\n",
    "print(\"Nsentences={}\".format(str(Nsentences)))\n",
    "\n",
    "Nsentences2 = len(text2sentences(words2text(words)))\n",
    "print(\"Nsentences_from_words={}\".format(str(Nsentences2)))\n",
    "\n"
   ]
  },
  {
   "cell_type": "code",
   "execution_count": 28,
   "metadata": {},
   "outputs": [
    {
     "name": "stdout",
     "output_type": "stream",
     "text": [
      "0.8333333333333334\n",
      "6.166666666666667\n"
     ]
    }
   ],
   "source": [
    "TPpersent = TP / Nsentences2\n",
    "FPpersent = FP / Nsentences2\n",
    "\n",
    "print(TPpersent)\n",
    "print(FPpersent)"
   ]
  },
  {
   "cell_type": "markdown",
   "metadata": {},
   "source": [
    "# Single article - compare blanks"
   ]
  },
  {
   "cell_type": "code",
   "execution_count": 29,
   "metadata": {},
   "outputs": [
    {
     "name": "stdout",
     "output_type": "stream",
     "text": [
      "Immune_system\n"
     ]
    }
   ],
   "source": [
    "##### Pull out sample paragraph\n",
    "a = arts[ind_ex_dev]\n",
    "print(a['title'])\n",
    "\n",
    "# AllenNLP results\n",
    "words = [w for p in a['paragraphs'] for w in p['allenNER']['words'].split()]\n",
    "# tags = [t for p in a['paragraphs'] for t in p['allenNER']['tags'].split()]\n",
    "# tags = [not t == '0' for t in tags]   # Convert to binary\n",
    "tags = [t for p in a['paragraphs'] for t in p['blank_classified_allen']]\n",
    "\n",
    "# Ground truth\n",
    "blank_classification = [bc for p in a['paragraphs'] for bc in p['blank_classification']]"
   ]
  },
  {
   "cell_type": "code",
   "execution_count": 30,
   "metadata": {},
   "outputs": [
    {
     "name": "stdout",
     "output_type": "stream",
     "text": [
      "Length Allen tags: 7160. Length ground truth blanks: 7160\n"
     ]
    }
   ],
   "source": [
    "\n",
    "print(\"Length Allen tags: {}. Length ground truth blanks: {}\".format(len(tags),len(blank_classification)))"
   ]
  },
  {
   "cell_type": "code",
   "execution_count": 31,
   "metadata": {},
   "outputs": [
    {
     "name": "stdout",
     "output_type": "stream",
     "text": [
      "============\t\t\t==========\n",
      "Ground truth\t\t\tPrediction\n",
      "============\t\t\t==========\n",
      "The\t\t\t\tThe\n",
      "immune\t\t\t\timmune\n",
      "______\t\t\t\tsystem\n",
      "is\t\t\t\tis\n",
      "a\t\t\t\ta\n",
      "______\t\t\t\t______\n",
      "of\t\t\t\tof\n",
      "many\t\t\t\tmany\n",
      "biological\t\t\t\tbiological\n",
      "structures\t\t\t\t______\n",
      "and\t\t\t\tand\n",
      "processes\t\t\t\t______\n",
      "within\t\t\t\twithin\n",
      "an\t\t\t\tan\n",
      "organism\t\t\t\t______\n",
      "that\t\t\t\tthat\n",
      "protects\t\t\t\tprotects\n",
      "against\t\t\t\tagainst\n",
      "______\t\t\t\t______\n",
      ".\t\t\t\t.\n"
     ]
    }
   ],
   "source": [
    "# Side by side compare\n",
    "words_blanked_ground_truth = words2words_blanked(words,blank_classification)\n",
    "words_blanked_allen = words2words_blanked(words,tags)\n",
    "\n",
    "N=len(words_blanked_ground_truth)\n",
    "N=20\n",
    "print(\"============\" + '\\t\\t\\t' + \"==========\")\n",
    "print(\"Ground truth\" + '\\t\\t\\t' + \"Prediction\")\n",
    "print(\"============\" + '\\t\\t\\t' + \"==========\")\n",
    "for c,w in zip(words_blanked_ground_truth[:N],words_blanked_allen[:N]):\n",
    "    print(c + '\\t\\t\\t\\t' + w)\n"
   ]
  },
  {
   "cell_type": "code",
   "execution_count": 32,
   "metadata": {},
   "outputs": [],
   "source": [
    "TP = sum([b and t for b,t in zip(blank_classification,tags)])\n",
    "FP = sum([not b and t for b,t in zip(blank_classification,tags)])\n",
    "FN = sum([b and not t for b,t in zip(blank_classification,tags)])\n",
    "TN = sum([not b and not t for b,t in zip(blank_classification,tags)])\n",
    "ACC = (TP+TN)/(TP+FP+FN+TN)\n",
    "ACC2 = sum([b == t for b,t in zip(blank_classification,tags)]) / len(tags)"
   ]
  },
  {
   "cell_type": "code",
   "execution_count": 33,
   "metadata": {},
   "outputs": [
    {
     "name": "stdout",
     "output_type": "stream",
     "text": [
      "0.721927374301676\n",
      "0.721927374301676\n"
     ]
    }
   ],
   "source": [
    "print(ACC)\n",
    "print(ACC2)"
   ]
  },
  {
   "cell_type": "code",
   "execution_count": 34,
   "metadata": {},
   "outputs": [],
   "source": [
    "# Sensitivity, hit rate, recall, or true positive rate\n",
    "TPR = TP/(TP+FN)\n",
    "# Specificity or true negative rate\n",
    "TNR = TN/(TN+FP) \n",
    "# Precision or positive predictive value\n",
    "PPV = TP/(TP+FP)\n",
    "# Negative predictive value\n",
    "NPV = TN/(TN+FN)\n",
    "# Fall out or false positive rate\n",
    "FPR = FP/(FP+TN)\n",
    "# False negative rate\n",
    "FNR = FN/(TP+FN)\n",
    "# False discovery rate\n",
    "FDR = FP/(TP+FP)\n"
   ]
  },
  {
   "cell_type": "code",
   "execution_count": 35,
   "metadata": {},
   "outputs": [
    {
     "name": "stdout",
     "output_type": "stream",
     "text": [
      "0.817966903073286\n",
      "0.2841027163425857\n"
     ]
    }
   ],
   "source": [
    "print(TPR)\n",
    "print(FPR)"
   ]
  },
  {
   "cell_type": "code",
   "execution_count": 36,
   "metadata": {},
   "outputs": [
    {
     "name": "stdout",
     "output_type": "stream",
     "text": [
      "Nsentences_from_words=287\n"
     ]
    }
   ],
   "source": [
    "Nsentences2 = len(text2sentences(words2text(words)))\n",
    "print(\"Nsentences_from_words={}\".format(str(Nsentences2)))"
   ]
  },
  {
   "cell_type": "code",
   "execution_count": 37,
   "metadata": {},
   "outputs": [
    {
     "name": "stdout",
     "output_type": "stream",
     "text": [
      "1.2055749128919862\n",
      "6.668989547038327\n"
     ]
    }
   ],
   "source": [
    "TPpersent = TP / Nsentences2\n",
    "FPpersent = FP / Nsentences2\n",
    "\n",
    "print(TPpersent)\n",
    "print(FPpersent)"
   ]
  },
  {
   "cell_type": "markdown",
   "metadata": {},
   "source": [
    "## Ground truth blanked"
   ]
  },
  {
   "cell_type": "code",
   "execution_count": 38,
   "metadata": {},
   "outputs": [
    {
     "name": "stdout",
     "output_type": "stream",
     "text": [
      "Answers:\n",
      "{'CRISPR', 'perforin', 'sequences', 'yellow', 'prostaglandins', 'Th1', 'variation', 'lysozyme', 'Burnet', 'sleep', 'NFIL3', 'immunomodulators', 'β-defensins', 'melatonin', 'protein', 'ligand', 'lupus', 'Immunodeficiencies', 'neuroimmune', 'Glucocorticoids', 'classes', 'methotrexate', 'Cytotoxic', 'autoimmune', 'Type', 'cytokine', 'adaptive', 'Trypanosoma', 'commensal', 'waxy', 'disorders', 'γδ', 'hagfish', 'exoskeleton', 'Macrophages', 'leptin', 'calcitriol', 'A', 'chemotaxis', 'Koch', 'histocompatibility', 'lactobacilli', 'passive', 'IgG', 'chronic', 'presentation', 'receptor', 'Antigen', 'CD40', 'D.', 'autoimmunity', 'infections', 'Immunology', 'Immunoproteomics', 'macrophages', 'granulysin', 'hormones', 'surveillance', 'Salmonella', 'molecules', 'cytokines', 'Breast', 'Leukocytes', 'gene', 'immunodeficiency', 'T', 'deprivation', 'relationship', 'CD4', 'CD8', 'specific', 'Da', 'cascade', '200–300', 'Dendritic', 'enzymes', 'fever', 'phagolysosome', 'MHC', 'milk', 'erythematosus', 'rapid', 'radical', 'acid', 'Elie', 'tyrosinase', 'mucus', 'natural', 'melanomas', 'cyclosporin', '1', 'vertebrates', 'early', 'microbes', 'immunity', 'lymphocytes', 'immunoinformatics', 'pain', 'tears', 'cancers', 'Killer', 'defensins', 'RNA', 'brucei', 'BC', 'vitamin', 'Immunodeficiency', 'single', 'azathioprine', 'menarche', 'IgE', 'free', 'memory', 'dendrites', 'coughing', 'Niels', 'gastric', 'cuticle', 'Hypersensitivity', 'human', 'fungi', 'antigen', 'immunization', 'Jerne', 'Phagocytes', 'diversity', 'proteolysis', 'system', 'drugs', 'four', 'missing', 'intracellular', 'sneezing', 'lymphokines', 'papillomavirus', 'self', 'antigens', 'cortisol', 'interleukins', 'allograft', 'regulatory', 'disease', 'Mycobacterium', 'nutrients', 'elderly', 'Frank', 'vaccination', 'zinc', 'neuronal', 'Plasmodium', 'cell', 'antibodies', 'response', 'catalytic', 'phagocytes', 'innate', 'immunosuppressive', 'cytotoxic', 'lamprey', 'phagocytic', 'HIV', 'physical', 'interleukin', 'specificity', '430', 'Neutrophils', 'around', 'Immunosuppressive', 'Inflammation', 'bacteriophages', 'strong', 'inflammation', 'leukocytes', 'pathogens', 'microorganisms', 'phagosome', 'D', 'a', 'B', 'pathogenesis', 'melanocytes', 'interference', 'acquiring', 'hydrophilic', 'Eicosanoids', 'flora', 'antigenic', 'young', 'CYP27B1', 'eicosanoids', 'cells', 'malnutrition', 'amplification', 'APCs', 'II', 'peptides', 'symbiotic', 'I', 'carbohydrates', 'viral', 'bacteriophage', 'barriers', 'apoptosis', 'Innate', 'Robert', 'receptors', 'G', 'signal', 'occurs', 'immunological', 'neutrophils', 'catecholamines', 'soluble', 'dendritic', 'pathogen', 'components', 'type', 'Microorganisms', 'falciparum', 'Vγ9/Vδ2', 'immunoglobulins', 'Metchnikoff', 'TGF-β', '50', 'hypersensitivity', 'immune', 'tuberculosis', 'cholecalciferol'}\n"
     ]
    }
   ],
   "source": [
    "# Blanked text\n",
    "# print(words2text(words_blanked_ground_truth))\n",
    "\n",
    "# Answers    \n",
    "myanswers = words2answers(words,blank_classification)\n",
    "print(\"Answers:\")\n",
    "print(set(myanswers))"
   ]
  },
  {
   "cell_type": "code",
   "execution_count": 39,
   "metadata": {},
   "outputs": [
    {
     "name": "stdout",
     "output_type": "stream",
     "text": [
      "Answers:\n",
      "{'substances', 'years', 'peak', 'turn', 'mutations', 'lifetime', 'patient', 'Pseudomonas', 'instances', 'variation', 'complexes', 'lysozyme', 'destruction', 'third', 'Hashimoto', 'ligand', 'Immunodeficiencies', 'generic', 'degranulation', 'group', 'lymphocyte', 'cytokine', 'deposition', 'bloodstream', 'strike', 'inducing', 'nose', 'lysis', 'heart', 'waxy', 'disorders', 'alarm', 'hagfish', 'Macrophages', 'characteristics', 'dermatitis', 'development', 'calcitriol', 'science', 'chemotaxis', 'immediate', 'products', 'version', 'lactobacilli', 'Antibodies', 'inducibility', 'mechanism', 'tolerance', 'Pierre', 'chronic', 'examples', 'immunogenic', '500', 'contact', 'layers', 'number', 'granulysin', 'way', 'molecules', 'cytokines', 'environments', 'TCR', 'copies', 'complicated', 'days', 'elements', 'dysfunctional', 'effect', 'loss', 'foreign', 'Da', '200–300', 'enzymes', 'killing', 'tyrosinase', 'situation', 'responses', 'death', 'other', 'vertebrates', 'phase', 'microbes', 'arm', 'placenta', 'life', 'humans', 'times', 'manipulation', 'developments', 'gamma', 'means', 'changes', 'cancers', 'time', 'antibiotics', 'gastroenteritis', 'Immunodeficiency', 'single', 'bout', 'approach', 'cuticle', 'permeability', 'testosterone', 'antigen', 'principle', 'cause', 'diversity', 'order', 'binding', 'bowel', 'tumors', 'short', 'degree', 'Gamma', 'systems', 'drugs', 'Evolution', 'intracellular', 'step', 'Th', 'Chemical', 'papillomavirus', 'debris', 'transduction', 'tumor', 'plasma', 'secretions', 'PAMPs', 'Frank', 'lungs', 'vaccination', 'zinc', 'others', 'Plasmodium', 'cell', 'babies', 'phagocytes', 'immunosuppressive', 'association', 'differentiation', 'work', 'specificity', 'attacks', '430', 'positive', 'capsule', 'formation', 'destructive', 'nodes', 'failures', 'tissue', 'medicine', 'inflammation', 'microorganisms', 'probability', 'phagosome', 'distinct', 'pathogenesis', 'melanocytes', 'Pathogen', 'targets', 'age', 'induce', 'chemokines', 'interference', 'combination', 'mankind', 'secretion', 'flora', 'types', 'patterns', 'wake', 'fragments', 'cells', 'their', 'shells', 'insects', 'practice', 'cellular', 'therapeutic', 'bacteriophage', 'vesicle', 'basis', 'countries', 'reactions', 'Robert', 'protease', 'Other', 'neutrophils', 'border', 'pathogen', 'side', 'three', 'falciparum', 'Metchnikoff', 'immunoglobulins', 'less', 'state', 'malaria', 'modification', 'redness', 'Thucydides', 'who', 'immune', 'cycles', 'drop', 'neutralization', 'balance', 'acidic', 'nonself', 'CRISPR', 'sequences', 'women', 'cases', 'TNF', 'lymph', 'presence', 'lower', 'mediators', 'onset', 'sleep', 'ability', 'β-defensins', 'search', 'immunosenescence', 'Glucocorticoids', 'such', 'biological', 'projections', 'Systemic', 'e.g.', 'Type', 'mutation', 'organism', 'Louis', 'von', 'exoskeleton', 'Maupertuis', 'database', 'cenocepacia', 'leptin', 'route', 'surface', 'A', 'Cytokine', 'impaired', 'multicomponent', 'resemblance', 'bioinformatics', 'Recognition', 'several', 'groups', 'spp', 'engagement', 'bacterial', 'Symptoms', 'Antigen', 'active', 'CD40', 'autoimmunity', 'Staphylococcus', 'condition', 'animals', 'surveillance', 'century', 'introduction', 'medication', 'flow', 'leishmaniasis', 'Leukocytes', 'gene', 'space', 'marker', 'Phagocytosis', 'data', 'target', 'pregnancy', 'increase', 'processes', 'cascade', 'high', 'circulating', 'openings', 'milk', 'Lower', 'Elie', 'acid', 'serious', 'leukotrienes', 'effector', 'numbers', 'survival', '1', 'dogs', 'stress', 'effectiveness', 'circumstances', 'array', 'immunoinformatics', 'its', 'RNA', 'defensins', 'migrate', 'epithelia', 'urine', 'heat', 'reaction', 'dysfunction', 'rheumatoid', 'osteoporosis', 'Adaptive', 'memory', 'observations', 'amino', 'conditions', 'IgM', 'disruptions', 'generation', 'human', 'thyroiditis', 'virulence', 'evidence', 'immunization', 'observation', 'protection', 'agents', 'link', 'proteolysis', 'engulf', 'self', 'deal', 'normal', 'Leishmania', 'regions', 'Helper', 'external', 'discomfort', 'essential', 'sun', 'Growth', 'agent', 'multiple', 'theory', 'theoretical', 'water', 'battle', 'lamprey', 'levels', 'methods', 'HIV', 'Nobel', 'Pasteur', 'trap', 'months', 'interleukin', 'results', 'symptoms', 'saliva', 'machine', 'independent', 'undifferentiated', 'αβ', 'engulfment', 'Streptococcus', 'bacteriophages', 'plant', 'leukocytes', 'pathogens', 'Pathogens', 'population', 'B', 'learning', 'milieu', 'exposure', 'Eicosanoids', 'nervous', 'larger', 'antigenic', 'CYP27B1', 'specificities', 'end', 'thymus', 'vocabulary', 'defenses', 'databases', 'cataloguing', 'mast', 'dilation', 'growth', 'barriers', 'apoptosis', 'Innate', 'process', 'receptors', 'interleukin-12', 'viruses', 'immunological', 'leaves', 'shift', 'first', 'phenomenon', 'synthesis', 'helper', 'catecholamines', 'membrane', 'anaphylactic', 'antibacterials', 'Lck', 'Prize', 'term', 'virus', 'cholecalciferol', 'study', 'asthma', 'biofilms', 'perforin', 'host', 'susceptibility', 'Ribonucleases', 'ancestor', 'humors', 'eosinophils', 'notion', 'duration', 'causes', 'interferons', 'which', 'Th1', 'replication', 'Burnet', 'treatments', 'proteins', 'immunomodulators', 'epitope', 'protein', 'infected', 'diabetes', 'lupus', 'SAR', 'humoral', 'methotrexate', 'gut', 'phagocytosis', 'autoimmune', 'eject', 'hand', 'adaptive', 'children', 'CD1d', 'Trypanosoma', 'surfaces', 'immunogenicity', 'constituents', 'calcidiol', 'discoveries', 'cytotoxins', 'case', 'histocompatibility', 'detection', 'passive', 'intestines', 'removal', 'IgG', 'descendants', 'Walter', 'hyperglycemia', 'receptor', 'D.', 'scene', 'environment', 'device', 'training', 'IFN', 'Salmonella', 'A2', 'resistance', '%', 'Breast', 'immunodeficiency', '1901', 'site', 'marrow', 'concentrations', 'precursors', 'Enzymes', 'Second', 'unpasteurized', 'defense', 'uptake', 'eggs', 'skin', 'fever', 'phagolysosome', 'MHC', 'envelope', 'terms', 'DC', 'melanomas', 'present', 'validation', 'mellitus', 'field', 'invertebrates', 'bacteria', 'immunity', 'early', 'lymphocytes', 'Moreau', '1905', 'yogurt', 'production', 'pain', 'proliferation', 'tears', 'encounters', 'aureus', 'Killer', 'obesity', 'jawless', 'Athens', 'mother', 'azathioprine', 'menarche', 'Immune', 'Class', 'ions', 'IgE', 'infant', 'reference', 'CD154', 'Prokaryotes', 'recognition', 'Disorders', 'dendrites', 'Niels', 'respiratory', 'microbicidal', 'aggregations', 'fungi', 'complement', 'class', 'doses', 'parasitic', 'range', 'organs', 'vertebrate', 'diseases', 'sex', 'epitopes', 'adaptation', 'stage', 'Behring', 'burst', 'techniques', 'fetus', 'post', 'molecule', 'four', 'candidiasis', 'simple', 'discovery', 'antigens', 'L', 'studies', 'Natural', 'interleukins', 'two', 'oncogenes', 'healing', 'nutrients', 'elderly', 'Peptostreptococcus', 'antibodies', 'response', 'restriction', 'set', 'acids', 'innate', 'cytotoxic', 'antibody', 'body', 'Burkholderia', 'invertebrate', 'assistance', 'Viruses', 'locations', 'forms', 'mechanisms', 'dependent', 'keratinocytes', 'scorpion', 'inflammatory', 'wave', 'IV', 'organisms', 'bind', 'entities', 'blood', 'poisoning', 'sources', 'tracts', '60', 'phenotype', 'proteases', 'parasites', 'action', 'activity', 'newborn', 'VLRs', 'signature', 'eicosanoids', 'colostrum', 'amplification', 'one', 'II', 'tract', 'role', 'entry', 'viral', 'compound', 'vascular', 'part', 'alpha', 'Diets', 'Tumor', 'most', 'challenges', 'attitude', 'structures', 'type', 'components', 'dendritic', 'genes', 'impairments', 'soluble', 'Vγ9/Vδ2', 'factors', 'TGF-β', '50', 'baby', 'One', 'alcoholism', 'hypersensitivity', 'millions', 'immunology', 'scavengers', 'barrier', 'functions', 'individuals', 'subsets', 'infection', 'animal', 'sensitivity', 'prostaglandins', 'individual', 'tissues', 'feature', 'sophisticated', 'contrast', 'NFIL3', 'indoors', 'that', 'melatonin', 'similar', 'component', 'speed', 'addition', 'classes', 'de', 'silencing', 'result', 'person', 'Emil', 'co', 'commensal', 'particles', 'things', 'people', 'basophils', 'γδ', 'toxin', 'Pattern', 'Koch', 're', 'KIR', 'example', 'presentation', 'infections', 'subsystems', 'Immunology', 'yeast', 'killer', 'Immunoproteomics', 'macrophages', 'hormones', 'miasma', 'hormone', 'III', 'pursuit', 'species', 'T', 'cognitive', 'deprivation', 'relationship', 'hypersensitive', 'CD4', 'TCRs', 'CD8', 'specific', 'signals', 'aspects', 'CST', 'essence', 'opposition', 'erythematosus', 'Many', 'beginning', 'use', 'mucus', 'vessels', 'natural', 'genitourinary', 'bone', 'lysosome', 'prolactin', 'diminished', 'steroid', 'hours', 'structure', 'infectious', 'venom', 'Reed', 'communication', '1891', 'mechanical', 'spine', 'AIDS', 'BC', 'vitamin', 'parasite', 'non', 'vaccines', 'immunostimulators', 'radiation', 'populations', 'immunizations', 'sets', 'brain', 'pro', 'Hypersensitivity', 'pre', 'cycle', 'decline', 'overgrowth', 'strategy', 'chemical', 'illness', 'immunoglobulin', 'effects', 'Phagocytes', 'Jerne', 'offspring', 'enzyme', 'light', 'spread', 'drug', 'UVB', 'system', 'genomes', 'proofs', 'allergy', 'tuberculosis', 'lymphokines', 'cortisol', 'pattern', 'radicals', 'food', 'allograft', 'generators', 'disease', 'Mycobacterium', 'microbe', 'upregulation', 'many', 'disturbance', 'poison', '6000', 'irritants', 'interactions', 'layer', 'peptide', 'induction', 'initiation', 'membranes', 'secrete', 'Neutrophils', 'stomach', 'own', 'arthritis', 'Inflammation', 'like', 'conjunction', 'phagocyte', 'form', 'D', 'CTLs', 'coat', 'variety', 'mice', 'distinction', 'sub', 'virion', 'feedback', 'rhythms', 'course', 'cervical', 'Bacteria', 'complex', 'young', 'ivy', 'breast', 'suggestion', 'malnutrition', 'theories', 'line', 'APCs', 'peptides', 'eukaryotes', 'pH', 'phage', 'I', 'Th1/Th2', 'carbohydrates', 'chemicals', 'fibrosis', 'puberty', 'iron', 'birth', 'makeup', 'proteomics', 'G', 'worms', 'cancer', 'signal', 'toxins', 'semen', 'tube', 'NK', 'Microorganisms', 'past', 'plants', 'cross', 'activation', 'selection', 'magnus', 'Taxol', 'bacterium', 'function', 'Hormones', 'epinephrine'}\n"
     ]
    }
   ],
   "source": [
    "# Blanked text\n",
    "# print(words2text(words_blanked_allen))\n",
    "\n",
    "# Answers    \n",
    "myanswers = words2answers(words,tags)\n",
    "print(\"Answers:\")\n",
    "print(set(myanswers))"
   ]
  },
  {
   "cell_type": "markdown",
   "metadata": {},
   "source": [
    "# All articles - compare blanks"
   ]
  },
  {
   "cell_type": "code",
   "execution_count": 40,
   "metadata": {},
   "outputs": [],
   "source": [
    "# Initialize stuff\n",
    "TPR0 = []\n",
    "FPR0 = []\n",
    "ACC0 = []\n",
    "Nsentences0 = []\n",
    "TP0 = []\n",
    "FP0 = []\n",
    "FN0 = []\n",
    "TN0 = []\n",
    "TPpersent0 = []\n",
    "FPpersent0 = []\n",
    "abads = []            # Article-level bads\n",
    "\n",
    "art = arts[:]\n",
    "\n",
    "i=-1\n",
    "for a in art:\n",
    "    i=i+1\n",
    "    # AllenNLP results\n",
    "    words = [w for p in a['paragraphs'] for w in p['allenNER']['words'].split()]\n",
    "#     tags = [t for p in a['paragraphs'] for t in p['allenNER']['tags'].split()]\n",
    "#     tags = [not t == '0' for t in tags]   # Convert to binary\n",
    "    tags = [t for p in a['paragraphs'] for t in p['blank_classified_allen']]\n",
    "\n",
    "    # Ground truth\n",
    "    blank_classification = [bc for p in a['paragraphs'] for bc in p['blank_classification']]\n",
    "    blank_classification = [b == 1 for b in blank_classification] # Convert to binary\n",
    "\n",
    "    Nsentences2 = len(text2sentences(words2text(words)))\n",
    "    \n",
    "    sbc = sum(blank_classification)\n",
    "    st = sum(tags)\n",
    "    if sbc == 0 or st == 0:\n",
    "        print(\"Warning article {} contains {} ground truth blanks and {} tags. Likely bad\".format(str(i),str(sbc),str(st)))\n",
    "        \n",
    "        # Make up some dummy values so don't confuse for a REAL outlier in plots. Should just drop this data in the future\n",
    "        # This is ok because we'll skip them later if want to do stats - that's what abads is for\n",
    "        TPR = 0.0\n",
    "        FPR = 0.0\n",
    "        ACC = 0.0\n",
    "        TP = 100\n",
    "        FP = 100\n",
    "        FN = 100\n",
    "        TN = 100\n",
    "        \n",
    "        TPpersent = 1\n",
    "        FPpersent = 1\n",
    "        abads.append(i)\n",
    "    else:\n",
    "        TP = sum([b and t for b,t in zip(blank_classification,tags)])\n",
    "        FP = sum([not b and t for b,t in zip(blank_classification,tags)])\n",
    "        FN = sum([b and not t for b,t in zip(blank_classification,tags)])\n",
    "        TN = sum([not b and not t for b,t in zip(blank_classification,tags)])\n",
    "        ACC = (TP+TN)/(TP+FP+FN+TN)\n",
    "        ACC2 = sum([b == t for b,t in zip(blank_classification,tags)]) / len(tags)\n",
    "\n",
    "        # Sensitivity, hit rate, recall, or true positive rate\n",
    "        TPR = TP/(TP+FN)\n",
    "        # Specificity or true negative rate\n",
    "        TNR = TN/(TN+FP) \n",
    "        # Precision or positive predictive value\n",
    "        PPV = TP/(TP+FP)\n",
    "        # Negative predictive value\n",
    "        NPV = TN/(TN+FN)\n",
    "        # Fall out or false positive rate\n",
    "        FPR = FP/(FP+TN)\n",
    "        # False negative rate\n",
    "        FNR = FN/(TP+FN)\n",
    "        # False discovery rate\n",
    "        FDR = FP/(TP+FP)\n",
    "        \n",
    "        # Per sententance values\n",
    "        TPpersent = TP / Nsentences2\n",
    "        FPpersent = FP / Nsentences2\n",
    "    \n",
    "    TPR0.append(TPR)\n",
    "    FPR0.append(FPR)\n",
    "    ACC0.append(ACC)\n",
    "    TP0.append(TP)\n",
    "    FP0.append(FP)\n",
    "    FN0.append(FN)\n",
    "    TN0.append(TN)\n",
    "    TPpersent0.append(TPpersent)\n",
    "    FPpersent0.append(FPpersent)\n",
    "    \n",
    "\n"
   ]
  },
  {
   "cell_type": "code",
   "execution_count": 41,
   "metadata": {},
   "outputs": [],
   "source": [
    "# Print tiles of bad articles\n",
    "for ab in abads:\n",
    "    print(art[ab]['title'])"
   ]
  },
  {
   "cell_type": "code",
   "execution_count": 42,
   "metadata": {},
   "outputs": [
    {
     "name": "stdout",
     "output_type": "stream",
     "text": [
      "20\n",
      "35\n",
      "0\n",
      "0\n"
     ]
    }
   ],
   "source": [
    "# Calculate how this affects Ntrain / Ndev\n",
    "Ntrain_bad = len([b for b in abads if b < Ntrain])\n",
    "Ndev_bad = len([b for b in abads if b >= Ntrain])\n",
    "print(Ntrain)\n",
    "print(Ndev)\n",
    "print(Ntrain_bad)\n",
    "print(Ndev_bad)\n",
    "\n"
   ]
  },
  {
   "cell_type": "markdown",
   "metadata": {},
   "source": [
    "## Plot TPR"
   ]
  },
  {
   "cell_type": "code",
   "execution_count": 43,
   "metadata": {},
   "outputs": [
    {
     "data": {
      "image/png": "[encoded data removed]",
      "text/plain": [
       "<Figure size 1080x288 with 1 Axes>"
      ]
     },
     "metadata": {},
     "output_type": "display_data"
    },
    {
     "data": {
      "image/png": "[encoded data removed]",
      "text/plain": [
       "<Figure size 1080x288 with 2 Axes>"
      ]
     },
     "metadata": {
      "needs_background": "light"
     },
     "output_type": "display_data"
    }
   ],
   "source": [
    "myvar = TPR0\n",
    "varname = 'TPR'\n",
    "\n",
    "# Plot bargraph\n",
    "plotbar_train_dev2(myvar,Ntrain,Ndev,ylabel='{} per article'.format(varname),xlabel='Article #')\n",
    "\n",
    "# # # Plot the histogram without containing any bads\n",
    "# myvar without the bad articles\n",
    "myvar2 = [tp for i, tp in enumerate(myvar) if i not in abads]\n",
    "\n",
    "# Plot the histogram\n",
    "ax = plothist_train_dev2(myvar2,Ntrain-Ntrain_bad,Ndev-Ndev_bad,xlabel=varname,ylabel='N Articles',devbins='auto')\n",
    "set(ax['ax1'].set_xlim(0,1));\n",
    "set(ax['ax2'].set_xlim(0,1));\n",
    "\n"
   ]
  },
  {
   "cell_type": "markdown",
   "metadata": {},
   "source": [
    "## Plot FPR"
   ]
  },
  {
   "cell_type": "code",
   "execution_count": 44,
   "metadata": {},
   "outputs": [
    {
     "data": {
      "image/png": "[encoded data removed]",
      "text/plain": [
       "<Figure size 1080x288 with 1 Axes>"
      ]
     },
     "metadata": {},
     "output_type": "display_data"
    },
    {
     "data": {
      "image/png": "[encoded data removed]",
      "text/plain": [
       "<Figure size 1080x288 with 2 Axes>"
      ]
     },
     "metadata": {
      "needs_background": "light"
     },
     "output_type": "display_data"
    },
    {
     "data": {
      "image/png": "[encoded data removed]",
      "text/plain": [
       "<Figure size 1080x288 with 2 Axes>"
      ]
     },
     "metadata": {
      "needs_background": "light"
     },
     "output_type": "display_data"
    }
   ],
   "source": [
    "myvar = FPR0\n",
    "varname = 'FPR'\n",
    "\n",
    "# Plot bargraph\n",
    "plotbar_train_dev2(myvar,Ntrain,Ndev,ylabel='{} per article'.format(varname),xlabel='Article #')\n",
    "\n",
    "# # # Plot the histogram without containing any bads\n",
    "# myvar without the bad articles\n",
    "myvar2 = [tp for i, tp in enumerate(myvar) if i not in abads]\n",
    "\n",
    "def plothist_train_dev2(myvar,Ntrain,Ndev,xlabel='value',ylabel='N Articles',devbins=30):\n",
    "    # Import fig stuff\n",
    "    import matplotlib.pyplot as plt\n",
    "    from matplotlib.pyplot import figure\n",
    "    import statistics\n",
    "\n",
    "    f, (ax1, ax2) = plt.subplots(1, 2, sharey=False,figsize=(15, 4));\n",
    "    ax1.hist(myvar[0:Ntrain-1], bins=30);  # arguments are passed to np.histogram\n",
    "    ax1.set_title(\"Narticles={}, median={}, mean={}\".format(str(Ntrain),'{0:.4f}'.format(statistics.median(myvar[0:Ntrain-1])),'{0:.2f}'.format(statistics.mean(myvar[0:Ntrain-1]))));\n",
    "    ax1.set_ylabel('N Articles');\n",
    "    ax1.set_xlabel(xlabel);\n",
    "\n",
    "    ax2.hist(myvar[Ntrain:], bins=devbins);  # arguments are passed to np.histogram\n",
    "    ax2.set_title(\"Narticles={}, median={}, mean={}\".format(str(Ndev),'{0:.4f}'.format(statistics.median(myvar[Ntrain:])),'{0:.2f}'.format(statistics.mean(myvar[Ntrain:]))));\n",
    "    ax2.set_xlabel(xlabel);\n",
    "    return {'ax1': ax1, 'ax2':ax2}\n",
    "\n",
    "\n",
    "# Plot the histogram\n",
    "ax = plothist_train_dev2(myvar2,Ntrain-Ntrain_bad,Ndev-Ndev_bad,xlabel=varname,ylabel='N Articles',devbins='auto')\n",
    "ax = plothist_train_dev2(myvar,Ntrain,Ndev,xlabel=varname,ylabel='N Articles',devbins='auto')\n",
    "# set(ax['ax1'].set_xlim(0,1));\n",
    "# set(ax['ax2'].set_xlim(0,1));\n",
    "\n"
   ]
  },
  {
   "cell_type": "markdown",
   "metadata": {},
   "source": [
    "## Plot ACC"
   ]
  },
  {
   "cell_type": "code",
   "execution_count": 45,
   "metadata": {},
   "outputs": [
    {
     "data": {
      "image/png": "[encoded data removed]",
      "text/plain": [
       "<Figure size 1080x288 with 1 Axes>"
      ]
     },
     "metadata": {},
     "output_type": "display_data"
    },
    {
     "data": {
      "image/png": "[encoded data removed]",
      "text/plain": [
       "<Figure size 1080x288 with 2 Axes>"
      ]
     },
     "metadata": {
      "needs_background": "light"
     },
     "output_type": "display_data"
    }
   ],
   "source": [
    "myvar = ACC0\n",
    "varname = 'Accuracy'\n",
    "\n",
    "# Plot bargraph\n",
    "plotbar_train_dev2(myvar,Ntrain,Ndev,ylabel='{} per article'.format(varname),xlabel='Article #')\n",
    "\n",
    "# # # Plot the histogram without containing any bads\n",
    "# myvar without the bad articles\n",
    "myvar2 = [tp for i, tp in enumerate(myvar) if i not in abads]\n",
    "\n",
    "# Plot the histogram\n",
    "ax = plothist_train_dev2(myvar2,Ntrain-Ntrain_bad,Ndev-Ndev_bad,xlabel=varname,ylabel='N Articles',devbins='auto')\n",
    "set(ax['ax1'].set_xlim(0,1));\n",
    "set(ax['ax2'].set_xlim(0,1));\n",
    "\n"
   ]
  },
  {
   "cell_type": "markdown",
   "metadata": {},
   "source": [
    "## Plot True positives per sentence"
   ]
  },
  {
   "cell_type": "code",
   "execution_count": 46,
   "metadata": {},
   "outputs": [
    {
     "data": {
      "image/png": "[encoded data removed]",
      "text/plain": [
       "<Figure size 1080x288 with 1 Axes>"
      ]
     },
     "metadata": {},
     "output_type": "display_data"
    },
    {
     "data": {
      "image/png": "[encoded data removed]",
      "text/plain": [
       "<Figure size 1080x288 with 2 Axes>"
      ]
     },
     "metadata": {
      "needs_background": "light"
     },
     "output_type": "display_data"
    }
   ],
   "source": [
    "myvar = TPpersent0\n",
    "varname = 'True positives per sentence'\n",
    "\n",
    "# Plot bargraph\n",
    "plotbar_train_dev2(myvar,Ntrain,Ndev,ylabel='{}'.format(varname),xlabel='Article #')\n",
    "\n",
    "# # # Plot the histogram without containing any bads\n",
    "# myvar without the bad articles\n",
    "myvar2 = [tp for i, tp in enumerate(myvar) if i not in abads]\n",
    "\n",
    "# Plot the histogram\n",
    "ax = plothist_train_dev2(myvar2,Ntrain-Ntrain_bad,Ndev-Ndev_bad,xlabel=varname,ylabel='N Articles',devbins='auto')\n",
    "# set(ax['ax1'].set_xlim(0,1));\n",
    "# set(ax['ax2'].set_xlim(0,1));\n",
    "\n"
   ]
  },
  {
   "cell_type": "markdown",
   "metadata": {},
   "source": [
    "## Plot False positives per sentence"
   ]
  },
  {
   "cell_type": "code",
   "execution_count": 47,
   "metadata": {},
   "outputs": [
    {
     "data": {
      "image/png": "[encoded data removed]",
      "text/plain": [
       "<Figure size 1080x288 with 1 Axes>"
      ]
     },
     "metadata": {},
     "output_type": "display_data"
    },
    {
     "data": {
      "image/png": "[encoded data removed]",
      "text/plain": [
       "<Figure size 1080x288 with 2 Axes>"
      ]
     },
     "metadata": {
      "needs_background": "light"
     },
     "output_type": "display_data"
    }
   ],
   "source": [
    "myvar = FPpersent0\n",
    "varname = 'False positives per sentence'\n",
    "\n",
    "# Plot bargraph\n",
    "plotbar_train_dev2(myvar,Ntrain,Ndev,ylabel='{}'.format(varname),xlabel='Article #')\n",
    "\n",
    "# # # Plot the histogram without containing any bads\n",
    "# myvar without the bad articles\n",
    "myvar2 = [tp for i, tp in enumerate(myvar) if i not in abads]\n",
    "\n",
    "# Plot the histogram\n",
    "ax = plothist_train_dev2(myvar2,Ntrain-Ntrain_bad,Ndev-Ndev_bad,xlabel=varname,ylabel='N Articles',devbins='auto')\n",
    "# set(ax['ax1'].set_xlim(0,1));\n",
    "# set(ax['ax2'].set_xlim(0,1));\n",
    "\n"
   ]
  },
  {
   "cell_type": "markdown",
   "metadata": {},
   "source": [
    "## Find articles containing a lot of true positives"
   ]
  },
  {
   "cell_type": "code",
   "execution_count": 48,
   "metadata": {},
   "outputs": [
    {
     "name": "stdout",
     "output_type": "stream",
     "text": [
      "34\n",
      "Article #54\n",
      "Computational_complexity_theory\n",
      "True positive rate: 0.7837209302325582\n"
     ]
    }
   ],
   "source": [
    "\n",
    "# Inds of all articles >0.4 TPR\n",
    "inds = [i for i,x in enumerate(TPR0) if x >=0.08]\n",
    "\n",
    "# Inds of all articles >0.4 TPR and in dev dataset\n",
    "inds = [i for i,x in enumerate(TPR0) if x >=0.08 and x < 1.0 and i > Ntrain and i not in abads]\n",
    "\n",
    "print(len(inds))\n",
    "chosen_ind = inds[0]\n",
    "print('Article #{}'.format(str(i)))\n",
    "print(arts[chosen_ind]['title'])\n",
    "print('True positive rate: {}'.format(str(TPR0[chosen_ind])))"
   ]
  },
  {
   "cell_type": "code",
   "execution_count": 49,
   "metadata": {},
   "outputs": [
    {
     "name": "stdout",
     "output_type": "stream",
     "text": [
      "Computational_complexity_theory\n"
     ]
    }
   ],
   "source": [
    "# Pull out sample paragraph\n",
    "a = arts[chosen_ind]\n",
    "print(a['title'])\n",
    "\n",
    "# AllenNLP results\n",
    "words = [w for p in a['paragraphs'] for w in p['allenNER']['words'].split()]\n",
    "# tags = [t for p in a['paragraphs'] for t in p['allenNER']['tags'].split()]\n",
    "# tags = [not t == '0' for t in tags]   # Convert to binary\n",
    "tags = [t for p in a['paragraphs'] for t in p['blank_classified_allen']]\n",
    "\n",
    "# Ground truth\n",
    "blank_classification = [bc for p in a['paragraphs'] for bc in p['blank_classification']]"
   ]
  },
  {
   "cell_type": "code",
   "execution_count": 50,
   "metadata": {},
   "outputs": [
    {
     "name": "stdout",
     "output_type": "stream",
     "text": [
      "============\t\t\t==========\n",
      "Ground truth\t\t\tPrediction\n",
      "============\t\t\t==========\n",
      "______\t\t\t\tComputational\n",
      "complexity\t\t\t\tcomplexity\n",
      "theory\t\t\t\ttheory\n",
      "is\t\t\t\tis\n",
      "a\t\t\t\ta\n",
      "branch\t\t\t\t______\n",
      "of\t\t\t\tof\n",
      "the\t\t\t\tthe\n",
      "theory\t\t\t\t______\n",
      "of\t\t\t\tof\n",
      "computation\t\t\t\t______\n",
      "in\t\t\t\tin\n",
      "theoretical\t\t\t\ttheoretical\n",
      "computer\t\t\t\t______\n",
      "science\t\t\t\t______\n",
      "that\t\t\t\tthat\n",
      "focuses\t\t\t\tfocuses\n",
      "on\t\t\t\ton\n",
      "classifying\t\t\t\tclassifying\n",
      "______\t\t\t\tcomputational\n"
     ]
    }
   ],
   "source": [
    "# Side by side compare\n",
    "\n",
    "words_blanked_ground_truth = words2words_blanked(words,blank_classification)\n",
    "words_blanked_allen = words2words_blanked(words,tags)\n",
    "\n",
    "N=len(words_blanked_ground_truth)\n",
    "N=20\n",
    "print(\"============\" + '\\t\\t\\t' + \"==========\")\n",
    "print(\"Ground truth\" + '\\t\\t\\t' + \"Prediction\")\n",
    "print(\"============\" + '\\t\\t\\t' + \"==========\")\n",
    "for c,w in zip(words_blanked_ground_truth[:N],words_blanked_allen[:N]):\n",
    "    print(c + '\\t\\t\\t\\t' + w)\n"
   ]
  },
  {
   "cell_type": "markdown",
   "metadata": {},
   "source": [
    "## Ground truth blanked"
   ]
  },
  {
   "cell_type": "code",
   "execution_count": 51,
   "metadata": {},
   "outputs": [
    {
     "name": "stdout",
     "output_type": "stream",
     "text": [
      "Answers:\n",
      "{'intractable', 'written', 'problem', 'Problems', 'Myhill', 'decision', '21', 'deterministically', 'adjacency', 'suspected', 'taken', 'instances', 'lower', 'bounds', '1961', 'John', 'framework', '2000', 'solutions', 'computers', 'Interactive', 'reduces', 'classes', 'Ladner', 'Presburger', 'transitions', 'storage', 'inherent', 'Turing', 'isomorphism', 'Computational', 'triples', 'Cobham', 'NP', 'worst', 'language', 'reductions', 'symbols', 'models', 'proper', 'algorithms', 'size', 'PSPACE', 'graph', 'Yamada', 'quantum', 'number', 'matrices', 'Complexity', 'Decision', 'RSA', 'unusual', 'space', 'quantitative', 'bits', 'branching', 'complicated', 'integer', 'encoding', 'yes', 'factorization', 'analysis', 'notation', 'input', 'model', 'NL', 'theorem', '1', 'binary', 'arithmetic', 'second', 'measure', 'probabilistic', 'time', 'single', 'mathematical', 'bounding', 'reduction', 'solution', '1965', 'multiplication', 'possible', 'randomized', 'memory', 'efficient', 'formal', 'arbitrary', 'P', 'EXPTIME', 'thesis', 'foundations', 'definitions', 'unequal', 'statements', 'L', 'concrete', 'complexity', 'computer', 'Blum', 'resource', 'hierarchy', 'theory', 'linear', 'bitstrings', 'set', 'deterministic', 'Algorithms', 'NC', 'computation', 'Boolean', 'machine', 'rules', 'machines', 'instance', 'reversed', 'Alan', 'power', '0', 'another', 'algorithm', '1936', 'problems', 'bound', 'gates', 'complex', 'types', 'computability', 'output', 'abstract', 'inputs', 'computational', 'quicksort', 'measures', 'laid', 'Manuel', 'triple', 'level', 'alphabet', 'knapsack', 'state', 'upper', 'polynomial', 'difficulty', 'resources', 'Hisao', 'function', 'equal'}\n"
     ]
    }
   ],
   "source": [
    "# Blanked text\n",
    "# print(words2text(words_blanked_ground_truth))\n",
    "\n",
    "# Answers    \n",
    "myanswers = words2answers(words,blank_classification)\n",
    "print(\"Answers:\")\n",
    "print(set(myanswers))"
   ]
  },
  {
   "cell_type": "code",
   "execution_count": 52,
   "metadata": {},
   "outputs": [
    {
     "name": "stdout",
     "output_type": "stream",
     "text": [
      "Answers:\n",
      "{'turn', 'answer', 'small', 'instances', 'John', 'solutions', 'computers', 'reduces', 'Ladner', 'pencil', 'Fortnow', 'practical', 'same', 'inherent', 'Raymond', 'Computational', 'triples', 'NP', 'language', '4', 'science', '1972', 'symbols', 'models', 'members', 'more', 'RAM', 'version', 'prime', 'inclusion', 'prediction', 'graph', 'Yamada', 'examples', 'cover', 'pairs', 'progress', 'number', 'latter', 'way', 'difference', 'branching', 'notation', '10', 'n.log', 'other', 'bit', 'program', 'times', 'task', 'AM', '1,000,000', '1960', 'kind', 'time', 'single', 'Clay', 'reduction', 'X.', 'Eugene', 'concept', 'researchers', 'Goldreich', 'principle', 'P', 'computations', 'thesis', 'order', 'phrase', 'objective', 'step', 'systems', 'unequal', 'Juris', 'question', 'Laszlo', 'Milan', 'half', 'FP', 'hierarchy', 'C.', 'others', 'smaller', 'branch', 'Algorithms', 'Y.', 'NC', 'DTIME(n2', 'salesman', 'DTIME(n', 'logarithmic', 'Alan', 'Edmonds', 'power', 'inclusions', 'algorithm', 'simplification', 'problems', 'paths', 'BPP', 'age', 'paper', 'bound', 'sense', 'types', '|', 'abstract', 'powerful', 'Luks', 'running', 'practice', 'Cook', 'list', 'basis', 'integers', 'sites', 'triple', 'three', 'supercomputer', 'state', 'breakthrough', 'reason', 'resources', 'Hisao', 'world', 'additional', 'SAT', 'cases', 'aid', 'computing', 'adjacency', 'decisions', 'vertex', 'likely', 'say', 'faster', 'bounds', 'IP', 'important', 'ability', 'determinism', 'Interactive', 'C', 'USSR', '1967', 'e.g.', 'outputs', 'transitions', 'storage', 'Turing', 'possibilities', 'Babai', '1971', 'worst', 'route', 'Trakhtenbrot', 'size', 'b', 'answers', 'operations', 'circuit', 'amount', 'Millennium', 'strings', 'matrices', 'Complexity', 'RSA', 'space', 'quantitative', 'smallest', 'c', 'integer', 'increase', 'biology', 'Chapter', 'statement', 'technological', 'theorem', '1', 'binary', 'PP', 'Stephen', 'its', 'measure', 'actions', 'Y', 'magnitude', 'respective', '1965', 'mathematics', 'possible', 'memory', '1956', 'T(n', 'questions', 'definitions', 'Classes', 'sake', 'captures', '2O(√(n', 'concrete', 'complexity', 'anything', 'Institute', 'squaring', '1010', 'consideration', 'Game', 'resource', 'theory', 'Homer', 'Church', 'Life', 'logarithm', 'following', 'results', 'Mathematics', 'O(n2', 'What', 'halts', '2))2/3', 'machine', 'rules', 'utterance', 'DTIME(f(n', 'UP', 'gates', '×', 'axioms', 'computability', 'access', 'literature', 'output', 'tree', 'quicksort', 'vertices', 'known', 'Hartmanis', 'method', 'process', 'hard', 'path', 'level', 'ones', 'O(e(64/9)1/3(n.log', 'experiment', 'Leonid', 'Prize', 'MA', 'difficulty', 'complexities', 'study', 'RP', 'intractable', 'problem', 'realizable', 'Myhill', 'decision', '21', '1.2', 'notion', 'which', 'permutations', 'proof', '2000', 'BQP', 'protein', 'solvers', 'Germany', 'sorting', 'hand', 'Boris', 'isomorphism', 'case', 'reductions', 'algorithms', 'satisfiability', 'log(n', 'intuition', 'tape', 'quantum', 'exponential', 'circuits', 'device', 'Karp', 'Again', 'AC', '100', 'US', 'O(n', 'factorization', 'input', 'significant', 'terms', 'field', 'xx', 'prize', 'Combinatorial', 'branches', 'sizes', 'strip', 'solution', 'different', 'trip', 'efficient', 'f(n', 'formal', 'complement', 'class', 'mathematician', 'leap', 'discussion', 'reverse', 'range', 'useful', 'EXPTIME', 'consumption', 'L', 'seminal', 'steps', 'log', '2)1/3(log', 'manner', 'studies', 'good', 'implications', 'two', 'Π2', 'member', 'strict', 'set', 'bitstrings', 'deterministic', 'fact', '0,1', 'X', 'future', 'hypothesis', 'primality', 'instance', 'Levin', '0', 'large', 'intermediate', 'Shor', 'n15', 'computational', 'one', 'research', 'QMA', 'Reducibility', 'various', 'finite', 'thought', 'most', 'P.', 'type', 'alphabet', 'factors', 'knapsack', 'One', 'polynomial', '40', 'Problems', 'objects', 'programming', 'definition', 'M', 'Stearns', '2003', '1961', 'feature', 'limits', 'framework', 'contrast', 'that', 'tasks', 'similar', 'speed', 'classes', '2008', 'transformation', 'what', 'Presburger', 'variations', 'criteria', 'Smullyan', 'result', 'co', 'application', 'roles', 'people', 'Cobham', 'lines', 'PH', 'respect', '1012', 'km', 'separation', 'PSPACE', 'example', 'general', 'total', 'Richard', 'graphs', 'unusual', 'bits', 'requirements', 'abstraction', 'encoding', 'processors', 'representations', 'model', 'analysis', 'NL', 'string', 'supply', 'beginning', 'use', 'technology', '⊆', 'structure', 'communication', 'second', 'numerous', '2n', 'O', 'non', 'multiplication', 'sets', 'arbitrary', 'Π1', 'everything', 'landmark', 'foundations', 'restrictions', 'factor', 'proofs', 'statements', 'intractability', 'computer', 'rise', 'Blum', 'theorems', 'particular', 'many', '15n', 'today', 'n.', 'details', 'computation', 'Boolean', 'length', 'collection', 'robust', 'machines', '15', 'logistics', '1962', 'universe', 'distinction', 'pioneer', '1936', 'course', 'ZPP', 'inputs', 'scale', 'difficult', 'automata', 'measures', 'Conway', 'Manuel', '7n2', 'connected', 'choice', 'function', 'testing'}\n"
     ]
    }
   ],
   "source": [
    "# Blanked text\n",
    "# print(words2text(words_blanked_allen))\n",
    "\n",
    "# Answers    \n",
    "myanswers = words2answers(words,tags)\n",
    "print(\"Answers:\")\n",
    "print(set(myanswers))"
   ]
  },
  {
   "cell_type": "markdown",
   "metadata": {},
   "source": [
    "# All paragraphs - compare blanks"
   ]
  },
  {
   "cell_type": "code",
   "execution_count": 46,
   "metadata": {},
   "outputs": [],
   "source": [
    "# Initialize stuff\n",
    "TPR0 = []\n",
    "FPR0 = []\n",
    "ACC0 = []\n",
    "Nsentences0 = []\n",
    "TP0 = []\n",
    "FP0 = []\n",
    "FN0 = []\n",
    "TN0 = []\n",
    "TPpersent0 = []\n",
    "FPpersent0 = []\n",
    "abads = []\n",
    "indices = {'i':[],'j':[],'k':[]}\n",
    "\n",
    "art = arts[:]\n",
    "\n",
    "\n",
    "# Only track true positives and false positive to avoid having to deal with other annoying edge cases\n",
    "i=-1\n",
    "k=-1\n",
    "Ntrainp = 0\n",
    "Ndevp=0\n",
    "for a in art:\n",
    "    i=i+1\n",
    "    j=-1\n",
    "    for p in a['paragraphs']:\n",
    "        j=j+1\n",
    "        k=k+1\n",
    "        if i < Ntrain: Ntrainp=Ntrainp+1;\n",
    "        else: Ndevp = Ndevp+1\n",
    "        # AllenNLP results\n",
    "        words = [w for w in p['allenNER']['words'].split()]\n",
    "        tags = [t for t in p['allenNER']['tags'].split()]\n",
    "        tags = [not t == '0' for t in tags]   # Convert to binary\n",
    "\n",
    "        # Ground truth\n",
    "        blank_classification = [bc for bc in p['blank_classification']]\n",
    "        blank_classification = [b == 1 for b in blank_classification] # Convert to binary\n",
    "\n",
    "        Nsentences2 = len(text2sentences(words2text(words)))\n",
    "\n",
    "        sbc = sum(blank_classification)\n",
    "        st = sum(tags)\n",
    "        if sbc == 0:\n",
    "            #print(\"Warning article {}, paragraph P{} contains {} ground truth blanks and {} tags. Likely bad\".format(str(i),str(j),str(sbc),str(st)))\n",
    "\n",
    "            # Make up some dummy values so don't confuse for a REAL outlier in plots. Should just drop this data in the future\n",
    "            # This is ok because we'll skip them later if want to do stats - that's what bads is for\n",
    "            TPR = 0.7\n",
    "            FNR = 0.7\n",
    "            ACC = 0.7\n",
    "            TP = 100\n",
    "            FP = 100\n",
    "            FN = 100\n",
    "            TN = 100\n",
    "            TPpersent = 1\n",
    "            FPpersent = 1\n",
    "            abads.append(k)       # kth paragraph is bad\n",
    "        else:\n",
    "            TP = sum([b and t for b,t in zip(blank_classification,tags)])\n",
    "            FP = sum([not b and t for b,t in zip(blank_classification,tags)])\n",
    "            FN = sum([b and not t for b,t in zip(blank_classification,tags)])\n",
    "            TN = sum([not b and not t for b,t in zip(blank_classification,tags)])\n",
    "#             ACC = (TP+TN)/(TP+FP+FN+TN)\n",
    "            ACC = sum([b == t for b,t in zip(blank_classification,tags)]) / len(tags)\n",
    "\n",
    "            # Sensitivity, hit rate, recall, or true positive rate\n",
    "            TPR = TP/(TP+FN)\n",
    "#             # Specificity or true negative rate\n",
    "#             TNR = TN/(TN+FP) \n",
    "#             # Precision or positive predictive value\n",
    "#             PPV = TP/(TP+FP)\n",
    "#             # Negative predictive value\n",
    "#             NPV = TN/(TN+FN)\n",
    "#             # Fall out or false positive rate\n",
    "#             FPR = FP/(FP+TN)\n",
    "            # False negative rate\n",
    "            FNR = FN/(TP+FN)\n",
    "#             # False discovery rate\n",
    "#             FDR = FP/(TP+FP)\n",
    "\n",
    "            # Per sententance values\n",
    "            TPpersent = TP / Nsentences2\n",
    "            FPpersent = FP / Nsentences2\n",
    "    \n",
    "        TPR0.append(TPR)\n",
    "        FPR0.append(FPR)\n",
    "        ACC0.append(ACC)\n",
    "        TP0.append(TP)\n",
    "        FP0.append(FP)\n",
    "        FN0.append(FN)\n",
    "        TN0.append(TN)\n",
    "        TPpersent0.append(TPpersent)\n",
    "        FPpersent0.append(FPpersent)\n",
    "        indices['i'].append(i)\n",
    "        indices['j'].append(j)\n",
    "        indices['k'].append(k)\n",
    "\n"
   ]
  },
  {
   "cell_type": "code",
   "execution_count": 47,
   "metadata": {},
   "outputs": [
    {
     "data": {
      "text/plain": [
       "[0.00016278691193228064,\n",
       " 0.00016278691193228064,\n",
       " 0.00016278691193228064,\n",
       " 0.00016278691193228064,\n",
       " 0.00016278691193228064,\n",
       " 0.00016278691193228064,\n",
       " 0.00016278691193228064,\n",
       " 0.00016278691193228064,\n",
       " 0.00016278691193228064,\n",
       " 0.00016278691193228064]"
      ]
     },
     "execution_count": 47,
     "metadata": {},
     "output_type": "execute_result"
    }
   ],
   "source": [
    "FPR0[0:10]"
   ]
  },
  {
   "cell_type": "code",
   "execution_count": 48,
   "metadata": {},
   "outputs": [],
   "source": [
    "# # # Plot the histogram without containing any bads\n",
    "# Calculate how this affects Ntrain / Ndev\n",
    "Ntrainp_bad = len([b for b in abads if b < Ntrainp])\n",
    "Ndevp_bad = len([b for b in abads if b >= Ntrainp])\n"
   ]
  },
  {
   "cell_type": "code",
   "execution_count": 49,
   "metadata": {},
   "outputs": [
    {
     "name": "stdout",
     "output_type": "stream",
     "text": [
      "19035\n",
      "1204\n",
      "1383\n",
      "13\n"
     ]
    }
   ],
   "source": [
    "print(Ntrainp)\n",
    "print(Ndevp)\n",
    "print(Ntrainp_bad)\n",
    "print(Ndevp_bad)\n",
    "max(abads)\n",
    "len(FN0)\n",
    "\n",
    "x = []\n",
    "for a in abads:\n",
    "    x.append(TPR0[a])\n"
   ]
  },
  {
   "cell_type": "markdown",
   "metadata": {},
   "source": [
    "## Plot TPR"
   ]
  },
  {
   "cell_type": "code",
   "execution_count": 50,
   "metadata": {},
   "outputs": [
    {
     "data": {
      "image/png": "[encoded data removed]",
      "text/plain": [
       "<Figure size 1080x288 with 2 Axes>"
      ]
     },
     "metadata": {
      "needs_background": "light"
     },
     "output_type": "display_data"
    }
   ],
   "source": [
    "myvar = TPR0\n",
    "varname = 'TPR'\n",
    "\n",
    "# Plot bargraph (Don't plot figure for each paragraph!)\n",
    "# plotbar_train_dev2(myvar,Ntrain,Ndev,ylabel='{}'.format(varname),xlabel='Article #')\n",
    "\n",
    "# # # Plot the histogram without containing any bads\n",
    "# myvar without the bad articles\n",
    "myvar2 = [tp for i, tp in enumerate(myvar) if i not in abads]\n",
    "\n",
    "# Plot the histogram\n",
    "ax = plothist_train_dev2(myvar2,Ntrainp-Ntrainp_bad,Ndevp-Ndevp_bad,xlabel=varname,ylabel='N Articles',devbins='auto')\n",
    "# set(ax['ax1'].set_xlim(0,1));\n",
    "# set(ax['ax2'].set_xlim(0,1));\n",
    "\n"
   ]
  },
  {
   "cell_type": "markdown",
   "metadata": {},
   "source": [
    "## Find paragraphs containing a lot of true positives"
   ]
  },
  {
   "cell_type": "code",
   "execution_count": 51,
   "metadata": {},
   "outputs": [
    {
     "name": "stdout",
     "output_type": "stream",
     "text": [
      "23\n",
      "Article #442 paragraph #15\n",
      "Normans\n",
      "True positive rate: 0.5\n"
     ]
    }
   ],
   "source": [
    "\n",
    "# Inds of all articles >0.4 TPR\n",
    "inds = [i for i,x in enumerate(TPR0) if x >=0.6]\n",
    "\n",
    "# Inds of all articles >0.4 TPR and in dev dataset\n",
    "inds = [i for i,x in enumerate(TPR0) if x >=0.4 and x < 1.0 and i > Ntrainp and i not in abads]\n",
    "\n",
    "print(len(inds))\n",
    "chosen_ind = inds[0]\n",
    "i = indices['i'][chosen_ind]\n",
    "j = indices['j'][chosen_ind]\n",
    "k = indices['k'][chosen_ind]\n",
    "print('Article #{} paragraph #{}'.format(str(i),str(j)))\n",
    "print(arts[i]['title'])\n",
    "print('True positive rate: {}'.format(str(TPR0[chosen_ind])))"
   ]
  },
  {
   "cell_type": "code",
   "execution_count": 252,
   "metadata": {},
   "outputs": [],
   "source": [
    "# Pull out sample paragraph\n",
    "p = arts[i]['paragraphs'][j]\n",
    "\n",
    "# AllenNLP results\n",
    "words = p['allenNER']['words'].split()\n",
    "# tags = p['allenNER']['tags'].split()\n",
    "# tags = [not t == '0' for t in tags]   # Convert to binary\n",
    "tags = p['blank_classified_allen']\n",
    "\n",
    "# Ground truth\n",
    "blank_classification = p['blank_classification']"
   ]
  },
  {
   "cell_type": "code",
   "execution_count": 253,
   "metadata": {},
   "outputs": [
    {
     "name": "stdout",
     "output_type": "stream",
     "text": [
      "============\t\t\t==========\n",
      "Ground truth\t\t\tPrediction\n",
      "============\t\t\t==========\n",
      "______\t\t\t\t______\n",
      "______\t\t\t\t______\n",
      ",\t\t\t\t,\n",
      "an\t\t\t\tan\n",
      "other\t\t\t\tother\n",
      "Norman\t\t\t\tNorman\n",
      "adventurer\t\t\t\tadventurer\n",
      "previously\t\t\t\tpreviously\n",
      "elevated\t\t\t\televated\n",
      "to\t\t\t\tto\n",
      "the\t\t\t\tthe\n",
      "dignity\t\t\t\tdignity\n",
      "of\t\t\t\tof\n",
      "count\t\t\t\tcount\n",
      "of\t\t\t\tof\n",
      "Apulia\t\t\t\tApulia\n",
      "as\t\t\t\tas\n",
      "the\t\t\t\tthe\n",
      "result\t\t\t\tresult\n",
      "of\t\t\t\tof\n"
     ]
    }
   ],
   "source": [
    "# Side by side compare\n",
    "\n",
    "words_blanked_ground_truth = words2words_blanked(words,blank_classification)\n",
    "words_blanked_allen = words2words_blanked(words,tags)\n",
    "\n",
    "N=len(words_blanked_ground_truth)\n",
    "N=20\n",
    "print(\"============\" + '\\t\\t\\t' + \"==========\")\n",
    "print(\"Ground truth\" + '\\t\\t\\t' + \"Prediction\")\n",
    "print(\"============\" + '\\t\\t\\t' + \"==========\")\n",
    "for c,w in zip(words_blanked_ground_truth[:N],words_blanked_allen[:N]):\n",
    "    print(c + '\\t\\t\\t\\t' + w)\n"
   ]
  },
  {
   "cell_type": "markdown",
   "metadata": {},
   "source": [
    "## Ground truth blanked"
   ]
  },
  {
   "cell_type": "code",
   "execution_count": 249,
   "metadata": {},
   "outputs": [
    {
     "name": "stdout",
     "output_type": "stream",
     "text": [
      "______ ______ was descended from Huguenot refugees, as was ______ ______, who signed the Articles of Confederation for South Carolina; Jack Jouett, who made the ride from Cuckoo Tavern to warn Thomas Jefferson and others that Tarleton and his men were on their way to arrest him for crimes against the king; Francis Marion, and a number of other leaders of the American Revolution and later statesmen. The last active Huguenot congregation in North America worships in ______, South Carolina, at a church that dates to 1844. The Huguenot Society of America maintains Manakin Episcopal Church in Virginia as an historic shrine with occasional services. The Society has chapters in numerous states, with the one in ______ being the largest.\n",
      "Answers:\n",
      "['Paul', 'Revere', 'Henry', 'Laurens', 'Charleston', 'Texas']\n"
     ]
    }
   ],
   "source": [
    "# Blanked text\n",
    "print(words2text(words_blanked_ground_truth))\n",
    "\n",
    "# Answers    \n",
    "myanswers = words2answers(words,blank_classification)\n",
    "print(\"Answers:\")\n",
    "print(myanswers)"
   ]
  },
  {
   "cell_type": "code",
   "execution_count": 250,
   "metadata": {},
   "outputs": [
    {
     "name": "stdout",
     "output_type": "stream",
     "text": [
      "______ ______ was descended from Huguenot refugees, as was ______ ______, who signed the Articles of Confederation for South Carolina; Jack Jouett, who made the ride from Cuckoo Tavern to warn Thomas Jefferson and others that Tarleton and his men were on their way to arrest him for crimes against the king; Francis Marion, and a number of other leaders of the American Revolution and later statesmen. The last active Huguenot congregation in North America worships in Charleston, South Carolina, at a church that dates to 1844. The Huguenot Society of America maintains Manakin Episcopal Church in Virginia as an historic shrine with occasional services. The Society has chapters in numerous states, with the one in Texas being the largest.\n",
      "Answers:\n",
      "['Paul', 'Revere', 'Henry', 'Laurens']\n"
     ]
    }
   ],
   "source": [
    "# Blanked text\n",
    "print(words2text(words_blanked_allen))\n",
    "\n",
    "# Answers    \n",
    "myanswers = words2answers(words,tags)\n",
    "print(\"Answers:\")\n",
    "print(myanswers)"
   ]
  },
  {
   "cell_type": "code",
   "execution_count": 174,
   "metadata": {},
   "outputs": [],
   "source": [
    "TP = sum([b and t for b,t in zip(blank_classification,tags)])\n",
    "FP = sum([not b and t for b,t in zip(blank_classification,tags)])\n",
    "FN = sum([b and not t for b,t in zip(blank_classification,tags)])\n",
    "TN = sum([not b and not t for b,t in zip(blank_classification,tags)])\n",
    "ACC = (TP+TN)/(TP+FP+FN+TN)\n",
    "ACC2 = sum([b == t for b,t in zip(blank_classification,tags)]) / len(tags)"
   ]
  },
  {
   "cell_type": "code",
   "execution_count": 175,
   "metadata": {},
   "outputs": [
    {
     "name": "stdout",
     "output_type": "stream",
     "text": [
      "0.9255813953488372\n",
      "0.9255813953488372\n",
      "3\n",
      "0\n"
     ]
    }
   ],
   "source": [
    "print(ACC)\n",
    "print(ACC2)\n",
    "print(TP)\n",
    "print(FP)"
   ]
  },
  {
   "cell_type": "code",
   "execution_count": 176,
   "metadata": {},
   "outputs": [],
   "source": [
    "# Sensitivity, hit rate, recall, or true positive rate\n",
    "TPR = TP/(TP+FN)\n",
    "# Specificity or true negative rate\n",
    "TNR = TN/(TN+FP) \n",
    "# Precision or positive predictive value\n",
    "PPV = TP/(TP+FP)\n",
    "# Negative predictive value\n",
    "NPV = TN/(TN+FN)\n",
    "# Fall out or false positive rate\n",
    "FPR = FP/(FP+TN)\n",
    "# False negative rate\n",
    "FNR = FN/(TP+FN)\n",
    "# False discovery rate\n",
    "FDR = FP/(TP+FP)\n"
   ]
  },
  {
   "cell_type": "code",
   "execution_count": 177,
   "metadata": {},
   "outputs": [
    {
     "name": "stdout",
     "output_type": "stream",
     "text": [
      "0.15789473684210525\n",
      "0.0\n"
     ]
    }
   ],
   "source": [
    "print(TPR)\n",
    "print(FPR)"
   ]
  }
 ],
 "metadata": {
  "kernelspec": {
   "display_name": "Python [conda env:allennlp]",
   "language": "python",
   "name": "conda-env-allennlp-py"
  },
  "language_info": {
   "codemirror_mode": {
    "name": "ipython",
    "version": 3
   },
   "file_extension": ".py",
   "mimetype": "text/x-python",
   "name": "python",
   "nbconvert_exporter": "python",
   "pygments_lexer": "ipython3",
   "version": "3.6.8"
  }
 },
 "nbformat": 4,
 "nbformat_minor": 2
}
