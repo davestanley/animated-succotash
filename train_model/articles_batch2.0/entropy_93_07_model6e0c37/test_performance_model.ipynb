{
 "cells": [
  {
   "cell_type": "code",
   "execution_count": 1,
   "metadata": {},
   "outputs": [],
   "source": [
    "# Set up and load data\n",
    "# Includes\n",
    "import sys\n",
    "import os\n",
    "import numpy as np\n",
    "import json\n",
    "import os\n",
    "\n",
    "\n",
    "# Setup paths containing utility\n",
    "curr_folder = os.getcwd()\n",
    "sys.path.insert(0, os.path.join(curr_folder,'../../../app'))\n",
    "\n",
    "# Utils imports for loading data\n",
    "from utils import save_data, load_data, exists_datafolder\n",
    "from utils import load_SQuAD_train, load_SQuAD_dev\n",
    "from utils import get_foldername\n",
    "from utils_NLP import text2sentences,words2words_blanked,words2words_hashblank,words2answers\n",
    "from utils_NLP import words2text\n",
    "from utils_SQuAD import OR_arts_paragraph_fields,merge_arts_paragraph_fields\n",
    "from utils_NLP import allenNLP_classify_blanks,allenNLP_classify_blanks_fromResults\n",
    "\n",
    "# Plotting includes\n",
    "from utils_EDAplots import plotbar_train_dev,plothist_train_dev,plotbar_train_dev2,plothist_train_dev2\n",
    "\n",
    "# Stats saving stuff\n",
    "from utils_EDA import calcstats_train_dev\n",
    "\n",
    "# AllenNLP stuff\n",
    "from allennlp.predictors import Predictor\n",
    "\n",
    "# Include custom AllenNLP\n",
    "import myallennlp\n",
    "from myallennlp import *\n",
    "from myallennlp.models.simple_tagger2 import SimpleTagger2\n",
    "from myallennlp.dataset_readers import sequence_tagging2\n",
    "from myallennlp.data.tokenizers.word_splitter import SpacyWordSplitter\n",
    "\n",
    "# Import fig stuff\n",
    "import matplotlib.pyplot as plt\n",
    "from matplotlib.pyplot import figure"
   ]
  },
  {
   "cell_type": "code",
   "execution_count": 2,
   "metadata": {},
   "outputs": [],
   "source": [
    "# Option for merging NER data into combined model\n",
    "merge_in_NER_data = False"
   ]
  },
  {
   "cell_type": "markdown",
   "metadata": {},
   "source": [
    "# Manually test the predictor"
   ]
  },
  {
   "cell_type": "markdown",
   "metadata": {},
   "source": [
    "## Load the predictor"
   ]
  },
  {
   "cell_type": "code",
   "execution_count": 3,
   "metadata": {},
   "outputs": [
    {
     "name": "stderr",
     "output_type": "stream",
     "text": [
      "02/24/2019 19:26:36 - INFO - allennlp.models.archival -   loading archive file ./model.tar.gz\n",
      "02/24/2019 19:26:36 - INFO - allennlp.models.archival -   extracting archive file ./model.tar.gz to temp dir /tmp/tmpnac86rn7\n",
      "02/24/2019 19:26:36 - INFO - allennlp.common.params -   type = default\n",
      "02/24/2019 19:26:36 - INFO - allennlp.data.vocabulary -   Loading token dictionary from /tmp/tmpnac86rn7/vocabulary.\n",
      "02/24/2019 19:26:36 - INFO - allennlp.common.from_params -   instantiating class <class 'allennlp.models.model.Model'> from params {'Ntags0': 93, 'Ntags1': 7, 'do_crossentropy_weighting': True, 'encoder': {'bidirectional': True, 'dropout': 0.5, 'hidden_size': 72, 'input_size': 72, 'num_layers': 2, 'type': 'lstm'}, 'text_field_embedder': {'token_embedders': {'dependency_label': {'embedding_dim': 10, 'type': 'embedding', 'vocab_namespace': 'dependencies'}, 'ner_tag': {'embedding_dim': 7, 'type': 'embedding', 'vocab_namespace': 'ner'}, 'pos_tag': {'embedding_dim': 5, 'type': 'embedding', 'vocab_namespace': 'pos'}, 'tokens': {'embedding_dim': 50, 'trainable': False, 'type': 'embedding'}}}, 'type': 'simple_tagger2'} and extras {'vocab': Vocabulary with namespaces:  tokens, Size: 21902 || ner, Size: 21 || dependencies, Size: 47 || pos, Size: 17 || labels, Size: 2 || Non Padded Namespaces: {'*labels', '*tags'}}\n",
      "02/24/2019 19:26:36 - INFO - allennlp.common.params -   model.type = simple_tagger2\n",
      "02/24/2019 19:26:36 - INFO - allennlp.common.from_params -   instantiating class <class 'myallennlp.models.simple_tagger2.SimpleTagger2'> from params {'Ntags0': 93, 'Ntags1': 7, 'do_crossentropy_weighting': True, 'encoder': {'bidirectional': True, 'dropout': 0.5, 'hidden_size': 72, 'input_size': 72, 'num_layers': 2, 'type': 'lstm'}, 'text_field_embedder': {'token_embedders': {'dependency_label': {'embedding_dim': 10, 'type': 'embedding', 'vocab_namespace': 'dependencies'}, 'ner_tag': {'embedding_dim': 7, 'type': 'embedding', 'vocab_namespace': 'ner'}, 'pos_tag': {'embedding_dim': 5, 'type': 'embedding', 'vocab_namespace': 'pos'}, 'tokens': {'embedding_dim': 50, 'trainable': False, 'type': 'embedding'}}}} and extras {'vocab': Vocabulary with namespaces:  tokens, Size: 21902 || ner, Size: 21 || dependencies, Size: 47 || pos, Size: 17 || labels, Size: 2 || Non Padded Namespaces: {'*labels', '*tags'}}\n",
      "02/24/2019 19:26:36 - INFO - allennlp.common.from_params -   instantiating class <class 'allennlp.modules.text_field_embedders.text_field_embedder.TextFieldEmbedder'> from params {'token_embedders': {'dependency_label': {'embedding_dim': 10, 'type': 'embedding', 'vocab_namespace': 'dependencies'}, 'ner_tag': {'embedding_dim': 7, 'type': 'embedding', 'vocab_namespace': 'ner'}, 'pos_tag': {'embedding_dim': 5, 'type': 'embedding', 'vocab_namespace': 'pos'}, 'tokens': {'embedding_dim': 50, 'trainable': False, 'type': 'embedding'}}} and extras {'vocab': Vocabulary with namespaces:  tokens, Size: 21902 || ner, Size: 21 || dependencies, Size: 47 || pos, Size: 17 || labels, Size: 2 || Non Padded Namespaces: {'*labels', '*tags'}}\n",
      "02/24/2019 19:26:36 - INFO - allennlp.common.params -   model.text_field_embedder.type = basic\n",
      "02/24/2019 19:26:36 - INFO - allennlp.common.params -   model.text_field_embedder.embedder_to_indexer_map = None\n",
      "02/24/2019 19:26:36 - INFO - allennlp.common.params -   model.text_field_embedder.allow_unmatched_keys = False\n",
      "02/24/2019 19:26:36 - INFO - allennlp.common.from_params -   instantiating class <class 'allennlp.modules.token_embedders.token_embedder.TokenEmbedder'> from params {'embedding_dim': 10, 'type': 'embedding', 'vocab_namespace': 'dependencies'} and extras {'vocab': Vocabulary with namespaces:  tokens, Size: 21902 || ner, Size: 21 || dependencies, Size: 47 || pos, Size: 17 || labels, Size: 2 || Non Padded Namespaces: {'*labels', '*tags'}}\n",
      "02/24/2019 19:26:36 - INFO - allennlp.common.params -   model.text_field_embedder.token_embedders.dependency_label.type = embedding\n",
      "02/24/2019 19:26:36 - INFO - allennlp.common.params -   model.text_field_embedder.token_embedders.dependency_label.num_embeddings = None\n",
      "02/24/2019 19:26:36 - INFO - allennlp.common.params -   model.text_field_embedder.token_embedders.dependency_label.vocab_namespace = dependencies\n",
      "02/24/2019 19:26:36 - INFO - allennlp.common.params -   model.text_field_embedder.token_embedders.dependency_label.embedding_dim = 10\n",
      "02/24/2019 19:26:36 - INFO - allennlp.common.params -   model.text_field_embedder.token_embedders.dependency_label.pretrained_file = None\n",
      "02/24/2019 19:26:36 - INFO - allennlp.common.params -   model.text_field_embedder.token_embedders.dependency_label.projection_dim = None\n",
      "02/24/2019 19:26:36 - INFO - allennlp.common.params -   model.text_field_embedder.token_embedders.dependency_label.trainable = True\n",
      "02/24/2019 19:26:36 - INFO - allennlp.common.params -   model.text_field_embedder.token_embedders.dependency_label.padding_index = None\n",
      "02/24/2019 19:26:36 - INFO - allennlp.common.params -   model.text_field_embedder.token_embedders.dependency_label.max_norm = None\n",
      "02/24/2019 19:26:36 - INFO - allennlp.common.params -   model.text_field_embedder.token_embedders.dependency_label.norm_type = 2.0\n",
      "02/24/2019 19:26:36 - INFO - allennlp.common.params -   model.text_field_embedder.token_embedders.dependency_label.scale_grad_by_freq = False\n",
      "02/24/2019 19:26:36 - INFO - allennlp.common.params -   model.text_field_embedder.token_embedders.dependency_label.sparse = False\n",
      "02/24/2019 19:26:36 - INFO - allennlp.common.from_params -   instantiating class <class 'allennlp.modules.token_embedders.token_embedder.TokenEmbedder'> from params {'embedding_dim': 7, 'type': 'embedding', 'vocab_namespace': 'ner'} and extras {'vocab': Vocabulary with namespaces:  tokens, Size: 21902 || ner, Size: 21 || dependencies, Size: 47 || pos, Size: 17 || labels, Size: 2 || Non Padded Namespaces: {'*labels', '*tags'}}\n",
      "02/24/2019 19:26:36 - INFO - allennlp.common.params -   model.text_field_embedder.token_embedders.ner_tag.type = embedding\n",
      "02/24/2019 19:26:36 - INFO - allennlp.common.params -   model.text_field_embedder.token_embedders.ner_tag.num_embeddings = None\n",
      "02/24/2019 19:26:36 - INFO - allennlp.common.params -   model.text_field_embedder.token_embedders.ner_tag.vocab_namespace = ner\n",
      "02/24/2019 19:26:36 - INFO - allennlp.common.params -   model.text_field_embedder.token_embedders.ner_tag.embedding_dim = 7\n",
      "02/24/2019 19:26:36 - INFO - allennlp.common.params -   model.text_field_embedder.token_embedders.ner_tag.pretrained_file = None\n",
      "02/24/2019 19:26:36 - INFO - allennlp.common.params -   model.text_field_embedder.token_embedders.ner_tag.projection_dim = None\n",
      "02/24/2019 19:26:36 - INFO - allennlp.common.params -   model.text_field_embedder.token_embedders.ner_tag.trainable = True\n",
      "02/24/2019 19:26:36 - INFO - allennlp.common.params -   model.text_field_embedder.token_embedders.ner_tag.padding_index = None\n",
      "02/24/2019 19:26:36 - INFO - allennlp.common.params -   model.text_field_embedder.token_embedders.ner_tag.max_norm = None\n",
      "02/24/2019 19:26:36 - INFO - allennlp.common.params -   model.text_field_embedder.token_embedders.ner_tag.norm_type = 2.0\n",
      "02/24/2019 19:26:36 - INFO - allennlp.common.params -   model.text_field_embedder.token_embedders.ner_tag.scale_grad_by_freq = False\n",
      "02/24/2019 19:26:36 - INFO - allennlp.common.params -   model.text_field_embedder.token_embedders.ner_tag.sparse = False\n",
      "02/24/2019 19:26:36 - INFO - allennlp.common.from_params -   instantiating class <class 'allennlp.modules.token_embedders.token_embedder.TokenEmbedder'> from params {'embedding_dim': 5, 'type': 'embedding', 'vocab_namespace': 'pos'} and extras {'vocab': Vocabulary with namespaces:  tokens, Size: 21902 || ner, Size: 21 || dependencies, Size: 47 || pos, Size: 17 || labels, Size: 2 || Non Padded Namespaces: {'*labels', '*tags'}}\n",
      "02/24/2019 19:26:36 - INFO - allennlp.common.params -   model.text_field_embedder.token_embedders.pos_tag.type = embedding\n",
      "02/24/2019 19:26:36 - INFO - allennlp.common.params -   model.text_field_embedder.token_embedders.pos_tag.num_embeddings = None\n",
      "02/24/2019 19:26:36 - INFO - allennlp.common.params -   model.text_field_embedder.token_embedders.pos_tag.vocab_namespace = pos\n",
      "02/24/2019 19:26:36 - INFO - allennlp.common.params -   model.text_field_embedder.token_embedders.pos_tag.embedding_dim = 5\n",
      "02/24/2019 19:26:36 - INFO - allennlp.common.params -   model.text_field_embedder.token_embedders.pos_tag.pretrained_file = None\n",
      "02/24/2019 19:26:36 - INFO - allennlp.common.params -   model.text_field_embedder.token_embedders.pos_tag.projection_dim = None\n",
      "02/24/2019 19:26:36 - INFO - allennlp.common.params -   model.text_field_embedder.token_embedders.pos_tag.trainable = True\n",
      "02/24/2019 19:26:36 - INFO - allennlp.common.params -   model.text_field_embedder.token_embedders.pos_tag.padding_index = None\n",
      "02/24/2019 19:26:36 - INFO - allennlp.common.params -   model.text_field_embedder.token_embedders.pos_tag.max_norm = None\n",
      "02/24/2019 19:26:36 - INFO - allennlp.common.params -   model.text_field_embedder.token_embedders.pos_tag.norm_type = 2.0\n",
      "02/24/2019 19:26:36 - INFO - allennlp.common.params -   model.text_field_embedder.token_embedders.pos_tag.scale_grad_by_freq = False\n",
      "02/24/2019 19:26:36 - INFO - allennlp.common.params -   model.text_field_embedder.token_embedders.pos_tag.sparse = False\n",
      "02/24/2019 19:26:36 - INFO - allennlp.common.from_params -   instantiating class <class 'allennlp.modules.token_embedders.token_embedder.TokenEmbedder'> from params {'embedding_dim': 50, 'trainable': False, 'type': 'embedding'} and extras {'vocab': Vocabulary with namespaces:  tokens, Size: 21902 || ner, Size: 21 || dependencies, Size: 47 || pos, Size: 17 || labels, Size: 2 || Non Padded Namespaces: {'*labels', '*tags'}}\n",
      "02/24/2019 19:26:36 - INFO - allennlp.common.params -   model.text_field_embedder.token_embedders.tokens.type = embedding\n",
      "02/24/2019 19:26:36 - INFO - allennlp.common.params -   model.text_field_embedder.token_embedders.tokens.num_embeddings = None\n",
      "02/24/2019 19:26:36 - INFO - allennlp.common.params -   model.text_field_embedder.token_embedders.tokens.vocab_namespace = tokens\n",
      "02/24/2019 19:26:36 - INFO - allennlp.common.params -   model.text_field_embedder.token_embedders.tokens.embedding_dim = 50\n",
      "02/24/2019 19:26:36 - INFO - allennlp.common.params -   model.text_field_embedder.token_embedders.tokens.pretrained_file = None\n",
      "02/24/2019 19:26:36 - INFO - allennlp.common.params -   model.text_field_embedder.token_embedders.tokens.projection_dim = None\n",
      "02/24/2019 19:26:36 - INFO - allennlp.common.params -   model.text_field_embedder.token_embedders.tokens.trainable = False\n",
      "02/24/2019 19:26:36 - INFO - allennlp.common.params -   model.text_field_embedder.token_embedders.tokens.padding_index = None\n",
      "02/24/2019 19:26:36 - INFO - allennlp.common.params -   model.text_field_embedder.token_embedders.tokens.max_norm = None\n",
      "02/24/2019 19:26:36 - INFO - allennlp.common.params -   model.text_field_embedder.token_embedders.tokens.norm_type = 2.0\n",
      "02/24/2019 19:26:36 - INFO - allennlp.common.params -   model.text_field_embedder.token_embedders.tokens.scale_grad_by_freq = False\n",
      "02/24/2019 19:26:36 - INFO - allennlp.common.params -   model.text_field_embedder.token_embedders.tokens.sparse = False\n",
      "02/24/2019 19:26:36 - INFO - allennlp.common.from_params -   instantiating class <class 'allennlp.modules.seq2seq_encoders.seq2seq_encoder.Seq2SeqEncoder'> from params {'bidirectional': True, 'dropout': 0.5, 'hidden_size': 72, 'input_size': 72, 'num_layers': 2, 'type': 'lstm'} and extras {'vocab': Vocabulary with namespaces:  tokens, Size: 21902 || ner, Size: 21 || dependencies, Size: 47 || pos, Size: 17 || labels, Size: 2 || Non Padded Namespaces: {'*labels', '*tags'}}\n",
      "02/24/2019 19:26:36 - INFO - allennlp.common.params -   model.encoder.type = lstm\n",
      "02/24/2019 19:26:36 - INFO - allennlp.common.params -   model.encoder.batch_first = True\n",
      "02/24/2019 19:26:36 - INFO - allennlp.common.params -   model.encoder.stateful = False\n",
      "02/24/2019 19:26:36 - INFO - allennlp.common.params -   Converting Params object to dict; logging of default values will not occur when dictionary parameters are used subsequently.\n",
      "02/24/2019 19:26:36 - INFO - allennlp.common.params -   CURRENTLY DEFINED PARAMETERS: \n",
      "02/24/2019 19:26:36 - INFO - allennlp.common.params -   model.encoder.bidirectional = True\n",
      "02/24/2019 19:26:36 - INFO - allennlp.common.params -   model.encoder.dropout = 0.5\n",
      "02/24/2019 19:26:36 - INFO - allennlp.common.params -   model.encoder.hidden_size = 72\n",
      "02/24/2019 19:26:36 - INFO - allennlp.common.params -   model.encoder.input_size = 72\n",
      "02/24/2019 19:26:36 - INFO - allennlp.common.params -   model.encoder.num_layers = 2\n",
      "02/24/2019 19:26:36 - INFO - allennlp.common.params -   model.encoder.batch_first = True\n",
      "02/24/2019 19:26:36 - INFO - allennlp.common.params -   model.do_crossentropy_weighting = True\n",
      "02/24/2019 19:26:36 - INFO - allennlp.common.params -   model.Ntags0 = 93\n",
      "02/24/2019 19:26:36 - INFO - allennlp.common.params -   model.Ntags1 = 7\n",
      "02/24/2019 19:26:36 - INFO - allennlp.nn.initializers -   Initializing parameters\n",
      "02/24/2019 19:26:36 - INFO - allennlp.nn.initializers -   Done initializing parameters; the following parameters are using their default initialization from their code\n",
      "02/24/2019 19:26:36 - INFO - allennlp.nn.initializers -      encoder._module.bias_hh_l0\n",
      "02/24/2019 19:26:36 - INFO - allennlp.nn.initializers -      encoder._module.bias_hh_l0_reverse\n",
      "02/24/2019 19:26:36 - INFO - allennlp.nn.initializers -      encoder._module.bias_hh_l1\n",
      "02/24/2019 19:26:36 - INFO - allennlp.nn.initializers -      encoder._module.bias_hh_l1_reverse\n",
      "02/24/2019 19:26:36 - INFO - allennlp.nn.initializers -      encoder._module.bias_ih_l0\n",
      "02/24/2019 19:26:36 - INFO - allennlp.nn.initializers -      encoder._module.bias_ih_l0_reverse\n",
      "02/24/2019 19:26:36 - INFO - allennlp.nn.initializers -      encoder._module.bias_ih_l1\n",
      "02/24/2019 19:26:36 - INFO - allennlp.nn.initializers -      encoder._module.bias_ih_l1_reverse\n",
      "02/24/2019 19:26:36 - INFO - allennlp.nn.initializers -      encoder._module.weight_hh_l0\n",
      "02/24/2019 19:26:36 - INFO - allennlp.nn.initializers -      encoder._module.weight_hh_l0_reverse\n",
      "02/24/2019 19:26:36 - INFO - allennlp.nn.initializers -      encoder._module.weight_hh_l1\n",
      "02/24/2019 19:26:36 - INFO - allennlp.nn.initializers -      encoder._module.weight_hh_l1_reverse\n",
      "02/24/2019 19:26:36 - INFO - allennlp.nn.initializers -      encoder._module.weight_ih_l0\n",
      "02/24/2019 19:26:36 - INFO - allennlp.nn.initializers -      encoder._module.weight_ih_l0_reverse\n",
      "02/24/2019 19:26:36 - INFO - allennlp.nn.initializers -      encoder._module.weight_ih_l1\n",
      "02/24/2019 19:26:36 - INFO - allennlp.nn.initializers -      encoder._module.weight_ih_l1_reverse\n",
      "02/24/2019 19:26:36 - INFO - allennlp.nn.initializers -      tag_projection_layer._module.bias\n",
      "02/24/2019 19:26:36 - INFO - allennlp.nn.initializers -      tag_projection_layer._module.weight\n",
      "02/24/2019 19:26:36 - INFO - allennlp.nn.initializers -      text_field_embedder.token_embedder_dependency_label.weight\n",
      "02/24/2019 19:26:36 - INFO - allennlp.nn.initializers -      text_field_embedder.token_embedder_ner_tag.weight\n",
      "02/24/2019 19:26:36 - INFO - allennlp.nn.initializers -      text_field_embedder.token_embedder_pos_tag.weight\n",
      "02/24/2019 19:26:36 - INFO - allennlp.nn.initializers -      text_field_embedder.token_embedder_tokens.weight\n",
      "02/24/2019 19:26:36 - INFO - allennlp.common.from_params -   instantiating class <class 'allennlp.data.dataset_readers.dataset_reader.DatasetReader'> from params {'mytokenizer': {'type': 'word', 'word_splitter': {'ner': True, 'parse': True, 'pos_tags': True, 'type': 'whitespacy'}}, 'token_indexers': {'dependency_label': {'namespace': 'dependencies', 'type': 'dependency_label'}, 'ner_tag': {'namespace': 'ner', 'type': 'ner_tag'}, 'pos_tag': {'coarse_tags': True, 'namespace': 'pos', 'type': 'pos_tag'}, 'tokens': {'lowercase_tokens': True, 'type': 'single_id'}}, 'type': 'sequence_tagging2', 'word_tag_delimiter': '//'} and extras {}\n",
      "02/24/2019 19:26:36 - INFO - allennlp.common.params -   dataset_reader.type = sequence_tagging2\n",
      "02/24/2019 19:26:36 - INFO - allennlp.common.from_params -   instantiating class <class 'myallennlp.dataset_readers.sequence_tagging2.SequenceTaggingDatasetReader'> from params {'mytokenizer': {'type': 'word', 'word_splitter': {'ner': True, 'parse': True, 'pos_tags': True, 'type': 'whitespacy'}}, 'token_indexers': {'dependency_label': {'namespace': 'dependencies', 'type': 'dependency_label'}, 'ner_tag': {'namespace': 'ner', 'type': 'ner_tag'}, 'pos_tag': {'coarse_tags': True, 'namespace': 'pos', 'type': 'pos_tag'}, 'tokens': {'lowercase_tokens': True, 'type': 'single_id'}}, 'word_tag_delimiter': '//'} and extras {}\n",
      "02/24/2019 19:26:36 - INFO - allennlp.common.params -   dataset_reader.word_tag_delimiter = //\n",
      "02/24/2019 19:26:36 - INFO - allennlp.common.params -   dataset_reader.token_delimiter = None\n",
      "02/24/2019 19:26:36 - INFO - allennlp.common.from_params -   instantiating class allennlp.data.token_indexers.token_indexer.TokenIndexer from params {'namespace': 'dependencies', 'type': 'dependency_label'} and extras {}\n",
      "02/24/2019 19:26:36 - INFO - allennlp.common.params -   dataset_reader.token_indexers.dependency_label.type = dependency_label\n",
      "02/24/2019 19:26:36 - INFO - allennlp.common.from_params -   instantiating class allennlp.data.token_indexers.dep_label_indexer.DepLabelIndexer from params {'namespace': 'dependencies'} and extras {}\n",
      "02/24/2019 19:26:36 - INFO - allennlp.common.params -   dataset_reader.token_indexers.dependency_label.namespace = dependencies\n",
      "02/24/2019 19:26:36 - INFO - allennlp.common.from_params -   instantiating class allennlp.data.token_indexers.token_indexer.TokenIndexer from params {'namespace': 'ner', 'type': 'ner_tag'} and extras {}\n",
      "02/24/2019 19:26:36 - INFO - allennlp.common.params -   dataset_reader.token_indexers.ner_tag.type = ner_tag\n",
      "02/24/2019 19:26:36 - INFO - allennlp.common.from_params -   instantiating class allennlp.data.token_indexers.ner_tag_indexer.NerTagIndexer from params {'namespace': 'ner'} and extras {}\n",
      "02/24/2019 19:26:36 - INFO - allennlp.common.params -   dataset_reader.token_indexers.ner_tag.namespace = ner\n",
      "02/24/2019 19:26:36 - INFO - allennlp.common.from_params -   instantiating class allennlp.data.token_indexers.token_indexer.TokenIndexer from params {'coarse_tags': True, 'namespace': 'pos', 'type': 'pos_tag'} and extras {}\n",
      "02/24/2019 19:26:36 - INFO - allennlp.common.params -   dataset_reader.token_indexers.pos_tag.type = pos_tag\n",
      "02/24/2019 19:26:36 - INFO - allennlp.common.from_params -   instantiating class allennlp.data.token_indexers.pos_tag_indexer.PosTagIndexer from params {'coarse_tags': True, 'namespace': 'pos'} and extras {}\n",
      "02/24/2019 19:26:36 - INFO - allennlp.common.params -   dataset_reader.token_indexers.pos_tag.namespace = pos\n",
      "02/24/2019 19:26:36 - INFO - allennlp.common.params -   dataset_reader.token_indexers.pos_tag.coarse_tags = True\n",
      "02/24/2019 19:26:36 - INFO - allennlp.common.from_params -   instantiating class allennlp.data.token_indexers.token_indexer.TokenIndexer from params {'lowercase_tokens': True, 'type': 'single_id'} and extras {}\n",
      "02/24/2019 19:26:36 - INFO - allennlp.common.params -   dataset_reader.token_indexers.tokens.type = single_id\n",
      "02/24/2019 19:26:36 - INFO - allennlp.common.from_params -   instantiating class allennlp.data.token_indexers.single_id_token_indexer.SingleIdTokenIndexer from params {'lowercase_tokens': True} and extras {}\n",
      "02/24/2019 19:26:36 - INFO - allennlp.common.params -   dataset_reader.token_indexers.tokens.namespace = tokens\n",
      "02/24/2019 19:26:36 - INFO - allennlp.common.params -   dataset_reader.token_indexers.tokens.lowercase_tokens = True\n",
      "02/24/2019 19:26:36 - INFO - allennlp.common.params -   dataset_reader.token_indexers.tokens.start_tokens = None\n",
      "02/24/2019 19:26:36 - INFO - allennlp.common.params -   dataset_reader.token_indexers.tokens.end_tokens = None\n",
      "02/24/2019 19:26:36 - INFO - allennlp.common.params -   dataset_reader.lazy = False\n",
      "02/24/2019 19:26:36 - INFO - allennlp.common.from_params -   instantiating class <class 'allennlp.data.tokenizers.tokenizer.Tokenizer'> from params {'type': 'word', 'word_splitter': {'ner': True, 'parse': True, 'pos_tags': True, 'type': 'whitespacy'}} and extras {}\n",
      "02/24/2019 19:26:36 - INFO - allennlp.common.params -   dataset_reader.mytokenizer.type = word\n",
      "02/24/2019 19:26:36 - INFO - allennlp.common.from_params -   instantiating class <class 'allennlp.data.tokenizers.word_tokenizer.WordTokenizer'> from params {'word_splitter': {'ner': True, 'parse': True, 'pos_tags': True, 'type': 'whitespacy'}} and extras {}\n",
      "02/24/2019 19:26:36 - INFO - allennlp.common.from_params -   instantiating class <class 'allennlp.data.tokenizers.word_splitter.WordSplitter'> from params {'ner': True, 'parse': True, 'pos_tags': True, 'type': 'whitespacy'} and extras {}\n",
      "02/24/2019 19:26:36 - INFO - allennlp.common.params -   dataset_reader.mytokenizer.word_splitter.type = whitespacy\n",
      "02/24/2019 19:26:36 - INFO - allennlp.common.from_params -   instantiating class <class 'myallennlp.data.tokenizers.word_splitter.SpacyWordSplitter'> from params {'ner': True, 'parse': True, 'pos_tags': True} and extras {}\n",
      "02/24/2019 19:26:36 - INFO - allennlp.common.params -   dataset_reader.mytokenizer.word_splitter.language = en_core_web_sm\n",
      "02/24/2019 19:26:36 - INFO - allennlp.common.params -   dataset_reader.mytokenizer.word_splitter.pos_tags = True\n",
      "02/24/2019 19:26:36 - INFO - allennlp.common.params -   dataset_reader.mytokenizer.word_splitter.parse = True\n",
      "02/24/2019 19:26:36 - INFO - allennlp.common.params -   dataset_reader.mytokenizer.word_splitter.ner = True\n",
      "02/24/2019 19:26:36 - INFO - allennlp.common.params -   dataset_reader.mytokenizer.start_tokens = None\n",
      "02/24/2019 19:26:36 - INFO - allennlp.common.params -   dataset_reader.mytokenizer.end_tokens = None\n",
      "02/24/2019 19:26:36 - INFO - allennlp.common.params -   dataset_reader.use_spacy_directly = False\n"
     ]
    }
   ],
   "source": [
    "# Set up AllenNLP\n",
    "currmodel = os.path.join('.','model.tar.gz')\n",
    "predictor = Predictor.from_path(currmodel,predictor_name='sentence-tagger');"
   ]
  },
  {
   "cell_type": "markdown",
   "metadata": {},
   "source": [
    "## Run on test sentence"
   ]
  },
  {
   "cell_type": "code",
   "execution_count": null,
   "metadata": {},
   "outputs": [],
   "source": []
  },
  {
   "cell_type": "code",
   "execution_count": 4,
   "metadata": {},
   "outputs": [
    {
     "name": "stdout",
     "output_type": "stream",
     "text": [
      "['___Pitch___', 'is', 'an', 'auditory', 'sensation', 'based', 'on', 'the', 'frequency', 'of', '___vibration___', '.']\n"
     ]
    }
   ],
   "source": [
    "results = predictor.predict(sentence='Pitch is an auditory sensation based on the frequency of vibration.');\n",
    "words = results['words']\n",
    "tags = allenNLP_classify_blanks_fromResults(results,'0')\n",
    "out = words_blanked_allen = words2words_hashblank(words,tags)\n",
    "print(out)"
   ]
  },
  {
   "cell_type": "code",
   "execution_count": 5,
   "metadata": {},
   "outputs": [
    {
     "name": "stdout",
     "output_type": "stream",
     "text": [
      "['The', 'French', 'are', 'from', 'northern', 'France', '.']\n"
     ]
    }
   ],
   "source": [
    "results = predictor.predict(sentence='The French are from northern France.');\n",
    "words = results['words']\n",
    "tags = allenNLP_classify_blanks_fromResults(results,'0')\n",
    "out = words_blanked_allen = words2words_hashblank(words,tags)\n",
    "print(out)"
   ]
  },
  {
   "cell_type": "code",
   "execution_count": 6,
   "metadata": {},
   "outputs": [
    {
     "name": "stdout",
     "output_type": "stream",
     "text": [
      "['The', 'brain', 'is', 'an', '___organ___', 'that', 'serves', 'as', 'the', 'center', 'of', 'the', 'nervous', 'system', 'in', 'all', '___vertebrate___', 'and', 'most', '___invertebrate___', 'animals', '.']\n"
     ]
    }
   ],
   "source": [
    "results = predictor.predict(sentence='The brain is an organ that serves as the center of the nervous system in all vertebrate and most invertebrate animals.');\n",
    "words = results['words']\n",
    "tags = allenNLP_classify_blanks_fromResults(results,'0')\n",
    "out = words_blanked_allen = words2words_hashblank(words,tags)\n",
    "print(out)"
   ]
  },
  {
   "cell_type": "code",
   "execution_count": 7,
   "metadata": {},
   "outputs": [
    {
     "name": "stdout",
     "output_type": "stream",
     "text": [
      "['______', ',', 'the', 'function', 'of', 'the', '______', 'is', 'to', 'exert', 'centralized', 'control', 'over', 'the', 'other', 'organs', 'of', 'the', 'body', '.']\n"
     ]
    }
   ],
   "source": [
    "results = predictor.predict(sentence='Physiologically, the function of the brain is to exert centralized control over the other organs of the body.');\n",
    "words = results['words']\n",
    "tags = allenNLP_classify_blanks_fromResults(results,'0')\n",
    "out = words_blanked_allen = words2words_blanked(words,tags)\n",
    "print(out)"
   ]
  },
  {
   "cell_type": "code",
   "execution_count": 8,
   "metadata": {},
   "outputs": [
    {
     "name": "stdout",
     "output_type": "stream",
     "text": [
      "['The', '______', 'Death', 'ravaged', 'Europe', 'for', 'three', 'years', 'before', 'it', 'continued', 'on', 'into', '______', ',', 'where', 'the', '______', 'was', 'present', 'somewhere', 'in', 'the', 'country', '25', 'times', 'between', '______', 'to', '______', '.']\n"
     ]
    }
   ],
   "source": [
    "results = predictor.predict(sentence='The Black Death ravaged Europe for three years before it continued on into Russia, where the disease was present somewhere in the country 25 times between 1350 to 1490.');\n",
    "words = results['words']\n",
    "tags = allenNLP_classify_blanks_fromResults(results,'0')\n",
    "out = words_blanked_allen = words2words_blanked(words,tags)\n",
    "print(out)"
   ]
  },
  {
   "cell_type": "code",
   "execution_count": 9,
   "metadata": {},
   "outputs": [
    {
     "name": "stdout",
     "output_type": "stream",
     "text": [
      "['The', '______', 'Death', 'ravaged', 'Europe', 'for', 'three', 'years', 'before', 'it', 'continued', 'on', 'into', 'Russia', '.']\n"
     ]
    }
   ],
   "source": [
    "results = predictor.predict(sentence='The Black Death ravaged Europe for three years before it continued on into Russia.');\n",
    "words = results['words']\n",
    "tags = allenNLP_classify_blanks_fromResults(results,'0')\n",
    "out = words_blanked_allen = words2words_blanked(words,tags)\n",
    "print(out)"
   ]
  },
  {
   "cell_type": "code",
   "execution_count": 10,
   "metadata": {},
   "outputs": [
    {
     "name": "stdout",
     "output_type": "stream",
     "text": [
      "['I', 'continued', 'on', 'into', '______', ',', 'which', 'is', 'a', 'country', '.']\n"
     ]
    }
   ],
   "source": [
    "results = predictor.predict(sentence='I continued on into Russia, which is a country.');\n",
    "words = results['words']\n",
    "tags = allenNLP_classify_blanks_fromResults(results,'0')\n",
    "out = words_blanked_allen = words2words_blanked(words,tags)\n",
    "print(out)"
   ]
  },
  {
   "cell_type": "code",
   "execution_count": 11,
   "metadata": {},
   "outputs": [
    {
     "name": "stdout",
     "output_type": "stream",
     "text": [
      "['I', 'continued', 'on', 'into', 'Russia', ',', 'which', 'is', 'a', 'food', '.']\n"
     ]
    }
   ],
   "source": [
    "results = predictor.predict(sentence='I continued on into Russia, which is a food.');\n",
    "words = results['words']\n",
    "tags = allenNLP_classify_blanks_fromResults(results,'0')\n",
    "out = words_blanked_allen = words2words_blanked(words,tags)\n",
    "print(out)"
   ]
  },
  {
   "cell_type": "code",
   "execution_count": 12,
   "metadata": {},
   "outputs": [
    {
     "name": "stdout",
     "output_type": "stream",
     "text": [
      "['______', 'is', 'the', 'capital', 'of', 'Russia', '.']\n"
     ]
    }
   ],
   "source": [
    "results = predictor.predict(sentence='Moscow is the capital of Russia.');\n",
    "words = results['words']\n",
    "tags = allenNLP_classify_blanks_fromResults(results,'0')\n",
    "out = words_blanked_allen = words2words_blanked(words,tags)\n",
    "print(out)"
   ]
  },
  {
   "cell_type": "code",
   "execution_count": 13,
   "metadata": {},
   "outputs": [
    {
     "name": "stdout",
     "output_type": "stream",
     "text": [
      "['______', 'is', 'the', 'capital', 'of', '______', '.']\n"
     ]
    }
   ],
   "source": [
    "results = predictor.predict(sentence='London is the capital of England.');\n",
    "words = results['words']\n",
    "tags = allenNLP_classify_blanks_fromResults(results,'0')\n",
    "out = words_blanked_allen = words2words_blanked(words,tags)\n",
    "print(out)"
   ]
  },
  {
   "cell_type": "code",
   "execution_count": 14,
   "metadata": {},
   "outputs": [
    {
     "name": "stdout",
     "output_type": "stream",
     "text": [
      "['Manchester', 'is', 'the', 'capital', 'of', '______', '.']\n"
     ]
    }
   ],
   "source": [
    "results = predictor.predict(sentence='Manchester is the capital of England.');\n",
    "words = results['words']\n",
    "tags = allenNLP_classify_blanks_fromResults(results,'0')\n",
    "out = words_blanked_allen = words2words_blanked(words,tags)\n",
    "print(out)"
   ]
  },
  {
   "cell_type": "code",
   "execution_count": 15,
   "metadata": {},
   "outputs": [
    {
     "name": "stdout",
     "output_type": "stream",
     "text": [
      "['York', 'is', 'the', 'capital', 'of', '______', '.']\n"
     ]
    }
   ],
   "source": [
    "results = predictor.predict(sentence='York is the capital of England.');\n",
    "words = results['words']\n",
    "tags = allenNLP_classify_blanks_fromResults(results,'0')\n",
    "out = words_blanked_allen = words2words_blanked(words,tags)\n",
    "print(out)"
   ]
  },
  {
   "cell_type": "code",
   "execution_count": 16,
   "metadata": {},
   "outputs": [
    {
     "name": "stdout",
     "output_type": "stream",
     "text": [
      "['______', 'is', 'the', 'capital', 'of', 'England', '.']\n"
     ]
    }
   ],
   "source": [
    "results = predictor.predict(sentence='Oxford is the capital of England.');\n",
    "words = results['words']\n",
    "tags = allenNLP_classify_blanks_fromResults(results,'0')\n",
    "out = words_blanked_allen = words2words_blanked(words,tags)\n",
    "print(out)"
   ]
  },
  {
   "cell_type": "code",
   "execution_count": 17,
   "metadata": {},
   "outputs": [
    {
     "name": "stdout",
     "output_type": "stream",
     "text": [
      "['______', 'is', 'located', 'in', '______', '.']\n"
     ]
    }
   ],
   "source": [
    "results = predictor.predict(sentence='Cambridge is located in England.');\n",
    "words = results['words']\n",
    "tags = allenNLP_classify_blanks_fromResults(results,'0')\n",
    "out = words_blanked_allen = words2words_blanked(words,tags)\n",
    "print(out)"
   ]
  },
  {
   "cell_type": "code",
   "execution_count": 18,
   "metadata": {},
   "outputs": [
    {
     "name": "stdout",
     "output_type": "stream",
     "text": [
      "['______', 'is', 'the', 'capital', 'of', 'England', '.']\n"
     ]
    }
   ],
   "source": [
    "results = predictor.predict(sentence='Berlin is the capital of England.');\n",
    "words = results['words']\n",
    "tags = allenNLP_classify_blanks_fromResults(results,'0')\n",
    "out = words_blanked_allen = words2words_blanked(words,tags)\n",
    "print(out)"
   ]
  },
  {
   "cell_type": "code",
   "execution_count": 19,
   "metadata": {},
   "outputs": [
    {
     "name": "stdout",
     "output_type": "stream",
     "text": [
      "['______', 'is', 'the', 'capital', 'of', 'England', '.']\n"
     ]
    }
   ],
   "source": [
    "results = predictor.predict(sentence='Moscow is the capital of England.');\n",
    "words = results['words']\n",
    "tags = allenNLP_classify_blanks_fromResults(results,'0')\n",
    "out = words_blanked_allen = words2words_blanked(words,tags)\n",
    "print(out)"
   ]
  },
  {
   "cell_type": "code",
   "execution_count": 20,
   "metadata": {},
   "outputs": [
    {
     "name": "stdout",
     "output_type": "stream",
     "text": [
      "['______', 'is', 'the', 'capital', 'of', 'England', '.']\n"
     ]
    }
   ],
   "source": [
    "results = predictor.predict(sentence='Shanghai is the capital of England.');\n",
    "words = results['words']\n",
    "tags = allenNLP_classify_blanks_fromResults(results,'0')\n",
    "out = words_blanked_allen = words2words_blanked(words,tags)\n",
    "print(out)"
   ]
  },
  {
   "cell_type": "code",
   "execution_count": 21,
   "metadata": {},
   "outputs": [
    {
     "name": "stdout",
     "output_type": "stream",
     "text": [
      "['______', 'is', 'the', 'capital', 'of', 'England', '.']\n"
     ]
    }
   ],
   "source": [
    "results = predictor.predict(sentence='Bacon is the capital of England.');\n",
    "words = results['words']\n",
    "tags = allenNLP_classify_blanks_fromResults(results,'0')\n",
    "out = words_blanked_allen = words2words_blanked(words,tags)\n",
    "print(out)"
   ]
  },
  {
   "cell_type": "code",
   "execution_count": 22,
   "metadata": {},
   "outputs": [
    {
     "name": "stdout",
     "output_type": "stream",
     "text": [
      "['______', 'is', 'the', 'capital', 'of', 'England', '.']\n"
     ]
    }
   ],
   "source": [
    "results = predictor.predict(sentence='Washington is the capital of England.');\n",
    "words = results['words']\n",
    "tags = allenNLP_classify_blanks_fromResults(results,'0')\n",
    "out = words_blanked_allen = words2words_blanked(words,tags)\n",
    "print(out)"
   ]
  },
  {
   "cell_type": "code",
   "execution_count": 23,
   "metadata": {},
   "outputs": [
    {
     "name": "stdout",
     "output_type": "stream",
     "text": [
      "['______', 'is', 'the', 'the', 'the', 'the', 'the', 'the', 'capital', 'of', '______', '.']\n"
     ]
    }
   ],
   "source": [
    "results = predictor.predict(sentence='London is the the the the the the capital of England.');\n",
    "words = results['words']\n",
    "tags = allenNLP_classify_blanks_fromResults(results,'0')\n",
    "out = words_blanked_allen = words2words_blanked(words,tags)\n",
    "print(out)"
   ]
  },
  {
   "cell_type": "code",
   "execution_count": 24,
   "metadata": {},
   "outputs": [
    {
     "name": "stdout",
     "output_type": "stream",
     "text": [
      "['______', 'is', 'the', 'the', 'the', 'the', 'the', 'the', 'capital', 'of', '______', '.']\n"
     ]
    }
   ],
   "source": [
    "results = predictor.predict(sentence='Berlin is the the the the the the capital of England.');\n",
    "words = results['words']\n",
    "tags = allenNLP_classify_blanks_fromResults(results,'0')\n",
    "out = words_blanked_allen = words2words_blanked(words,tags)\n",
    "print(out)"
   ]
  },
  {
   "cell_type": "code",
   "execution_count": 25,
   "metadata": {},
   "outputs": [
    {
     "name": "stdout",
     "output_type": "stream",
     "text": [
      "['______', 'is', 'the', 'the', 'the', 'the', 'the', 'the', 'capital', 'of', '______', '.']\n"
     ]
    }
   ],
   "source": [
    "results = predictor.predict(sentence='Moscow is the the the the the the capital of England.');\n",
    "words = results['words']\n",
    "tags = allenNLP_classify_blanks_fromResults(results,'0')\n",
    "out = words_blanked_allen = words2words_blanked(words,tags)\n",
    "print(out)"
   ]
  },
  {
   "cell_type": "code",
   "execution_count": 26,
   "metadata": {},
   "outputs": [
    {
     "name": "stdout",
     "output_type": "stream",
     "text": [
      "['______', 'is', 'the', 'the', 'the', 'the', 'the', 'the', 'capital', 'of', '______', '.']\n"
     ]
    }
   ],
   "source": [
    "results = predictor.predict(sentence='Washington is the the the the the the capital of England.');\n",
    "words = results['words']\n",
    "tags = allenNLP_classify_blanks_fromResults(results,'0')\n",
    "out = words_blanked_allen = words2words_blanked(words,tags)\n",
    "print(out)"
   ]
  },
  {
   "cell_type": "code",
   "execution_count": 27,
   "metadata": {},
   "outputs": [
    {
     "name": "stdout",
     "output_type": "stream",
     "text": [
      "['______', 'is', 'the', 'capital', 'of', 'Canada', '.']\n",
      "['______', 'is', 'the', 'capital', 'of', 'a', 'country', 'called', '______', '.']\n"
     ]
    }
   ],
   "source": [
    "city = 'Toronto'\n",
    "country = 'Canada'\n",
    "results = predictor.predict(sentence= city + ' is the capital of ' + country + '.');\n",
    "words = results['words']\n",
    "tags = allenNLP_classify_blanks_fromResults(results,'0')\n",
    "out = words_blanked_allen = words2words_blanked(words,tags)\n",
    "print(out)\n",
    "results = predictor.predict(sentence= city + ' is the capital of a country called ' + country + '.');\n",
    "words = results['words']\n",
    "tags = allenNLP_classify_blanks_fromResults(results,'0')\n",
    "out = words_blanked_allen = words2words_blanked(words,tags)\n",
    "print(out)"
   ]
  },
  {
   "cell_type": "code",
   "execution_count": 28,
   "metadata": {},
   "outputs": [
    {
     "name": "stdout",
     "output_type": "stream",
     "text": [
      "['______', 'is', 'the', 'capital', 'of', 'Russia', '.']\n",
      "['______', 'is', 'the', 'capital', 'of', 'a', 'country', 'called', 'Russia', '.']\n"
     ]
    }
   ],
   "source": [
    "city = 'Moscow'\n",
    "country = 'Russia'\n",
    "results = predictor.predict(sentence= city + ' is the capital of ' + country + '.');\n",
    "words = results['words']\n",
    "tags = allenNLP_classify_blanks_fromResults(results,'0')\n",
    "out = words_blanked_allen = words2words_blanked(words,tags)\n",
    "print(out)\n",
    "results = predictor.predict(sentence= city + ' is the capital of a country called ' + country + '.');\n",
    "words = results['words']\n",
    "tags = allenNLP_classify_blanks_fromResults(results,'0')\n",
    "out = words_blanked_allen = words2words_blanked(words,tags)\n",
    "print(out)"
   ]
  },
  {
   "cell_type": "code",
   "execution_count": 29,
   "metadata": {},
   "outputs": [
    {
     "name": "stdout",
     "output_type": "stream",
     "text": [
      "['______', 'is', 'the', 'capital', 'of', 'Germany', '.']\n",
      "['______', 'is', 'the', 'capital', 'of', 'a', 'country', 'called', '______', '.']\n"
     ]
    }
   ],
   "source": [
    "city = 'Berlin'\n",
    "country = 'Germany'\n",
    "results = predictor.predict(sentence= city + ' is the capital of ' + country + '.');\n",
    "words = results['words']\n",
    "tags = allenNLP_classify_blanks_fromResults(results,'0')\n",
    "out = words_blanked_allen = words2words_blanked(words,tags)\n",
    "print(out)\n",
    "results = predictor.predict(sentence= city + ' is the capital of a country called ' + country + '.');\n",
    "words = results['words']\n",
    "tags = allenNLP_classify_blanks_fromResults(results,'0')\n",
    "out = words_blanked_allen = words2words_blanked(words,tags)\n",
    "print(out)"
   ]
  },
  {
   "cell_type": "code",
   "execution_count": 30,
   "metadata": {},
   "outputs": [
    {
     "name": "stdout",
     "output_type": "stream",
     "text": [
      "['______', 'is', 'the', 'capital', 'of', 'China', '.']\n",
      "['______', 'is', 'the', 'capital', 'of', 'a', 'country', 'called', 'China', '.']\n"
     ]
    }
   ],
   "source": [
    "city = 'Beijing'\n",
    "country = 'China'\n",
    "results = predictor.predict(sentence= city + ' is the capital of ' + country + '.');\n",
    "words = results['words']\n",
    "tags = allenNLP_classify_blanks_fromResults(results,'0')\n",
    "out = words_blanked_allen = words2words_blanked(words,tags)\n",
    "print(out)\n",
    "results = predictor.predict(sentence= city + ' is the capital of a country called ' + country + '.');\n",
    "words = results['words']\n",
    "tags = allenNLP_classify_blanks_fromResults(results,'0')\n",
    "out = words_blanked_allen = words2words_blanked(words,tags)\n",
    "print(out)"
   ]
  },
  {
   "cell_type": "code",
   "execution_count": 31,
   "metadata": {},
   "outputs": [
    {
     "name": "stdout",
     "output_type": "stream",
     "text": [
      "['______', 'is', 'the', 'capital', 'of', '______', '.']\n",
      "['______', 'is', 'the', 'capital', 'of', 'a', 'country', 'called', '______', '.']\n"
     ]
    }
   ],
   "source": [
    "city = 'Paris'\n",
    "country = 'France'\n",
    "results = predictor.predict(sentence= city + ' is the capital of ' + country + '.');\n",
    "words = results['words']\n",
    "tags = allenNLP_classify_blanks_fromResults(results,'0')\n",
    "out = words_blanked_allen = words2words_blanked(words,tags)\n",
    "print(out)\n",
    "results = predictor.predict(sentence= city + ' is the capital of a country called ' + country + '.');\n",
    "words = results['words']\n",
    "tags = allenNLP_classify_blanks_fromResults(results,'0')\n",
    "out = words_blanked_allen = words2words_blanked(words,tags)\n",
    "print(out)"
   ]
  },
  {
   "cell_type": "code",
   "execution_count": 32,
   "metadata": {},
   "outputs": [
    {
     "name": "stdout",
     "output_type": "stream",
     "text": [
      "['______', 'is', 'the', 'capital', 'of', '______', '.']\n",
      "['______', 'is', 'the', 'capital', 'of', 'a', 'country', 'called', '______', '.']\n"
     ]
    }
   ],
   "source": [
    "city = 'Rome'\n",
    "country = 'Italy'\n",
    "results = predictor.predict(sentence= city + ' is the capital of ' + country + '.');\n",
    "words = results['words']\n",
    "tags = allenNLP_classify_blanks_fromResults(results,'0')\n",
    "out = words_blanked_allen = words2words_blanked(words,tags)\n",
    "print(out)\n",
    "results = predictor.predict(sentence= city + ' is the capital of a country called ' + country + '.');\n",
    "words = results['words']\n",
    "tags = allenNLP_classify_blanks_fromResults(results,'0')\n",
    "out = words_blanked_allen = words2words_blanked(words,tags)\n",
    "print(out)"
   ]
  },
  {
   "cell_type": "code",
   "execution_count": 33,
   "metadata": {},
   "outputs": [
    {
     "name": "stdout",
     "output_type": "stream",
     "text": [
      "['______', 'is', 'the', 'capital', 'of', 'Turkey', '.']\n",
      "['______', 'is', 'the', 'capital', 'of', 'a', 'country', 'called', '______', '.']\n"
     ]
    }
   ],
   "source": [
    "city = 'Istanbul'\n",
    "country = 'Turkey'\n",
    "results = predictor.predict(sentence= city + ' is the capital of ' + country + '.');\n",
    "words = results['words']\n",
    "tags = allenNLP_classify_blanks_fromResults(results,'0')\n",
    "out = words_blanked_allen = words2words_blanked(words,tags)\n",
    "print(out)\n",
    "results = predictor.predict(sentence= city + ' is the capital of a country called ' + country + '.');\n",
    "words = results['words']\n",
    "tags = allenNLP_classify_blanks_fromResults(results,'0')\n",
    "out = words_blanked_allen = words2words_blanked(words,tags)\n",
    "print(out)"
   ]
  },
  {
   "cell_type": "code",
   "execution_count": 34,
   "metadata": {},
   "outputs": [
    {
     "name": "stdout",
     "output_type": "stream",
     "text": [
      "['______', 'is', 'the', 'capital', 'and', 'financial', 'center', 'of', 'England', '.']\n"
     ]
    }
   ],
   "source": [
    "results = predictor.predict(sentence='London is the capital and financial center of England.');\n",
    "words = results['words']\n",
    "tags = allenNLP_classify_blanks_fromResults(results,'0')\n",
    "out = words_blanked_allen = words2words_blanked(words,tags)\n",
    "print(out)"
   ]
  },
  {
   "cell_type": "code",
   "execution_count": null,
   "metadata": {},
   "outputs": [],
   "source": []
  },
  {
   "cell_type": "code",
   "execution_count": null,
   "metadata": {},
   "outputs": [],
   "source": []
  },
  {
   "cell_type": "code",
   "execution_count": null,
   "metadata": {},
   "outputs": [],
   "source": []
  },
  {
   "cell_type": "code",
   "execution_count": 35,
   "metadata": {},
   "outputs": [],
   "source": [
    "# # Pull out sample paragraph\n",
    "# p = arts[ind_ex_dev]['paragraphs'][0]\n",
    "\n",
    "# # # Print all AllenNLP classifications\n",
    "# # print([(a,b) for a,b in zip(p['allenNER']['words'].split(), p['allenNER']['tags'].split())])\n",
    "\n",
    "# # AllenNLP results\n",
    "# words = p['allenNER']['words'].split()\n",
    "# # tags = p['allenNER']['tags'].split()\n",
    "# # tags = [not t == '0' for t in tags]   # Convert to binary\n",
    "# tags = p['blank_classified_allen']\n",
    "\n",
    "# # Ground truth\n",
    "# blank_classification = p['blank_classification']\n",
    "\n",
    "\n",
    "# words_blanked_ground_truth = words2words_blanked(words,blank_classification)\n",
    "# words_blanked_allen = words2words_blanked(words,tags)\n"
   ]
  },
  {
   "cell_type": "code",
   "execution_count": null,
   "metadata": {},
   "outputs": [],
   "source": []
  },
  {
   "cell_type": "code",
   "execution_count": null,
   "metadata": {},
   "outputs": [],
   "source": []
  },
  {
   "cell_type": "code",
   "execution_count": null,
   "metadata": {},
   "outputs": [],
   "source": []
  },
  {
   "cell_type": "code",
   "execution_count": null,
   "metadata": {},
   "outputs": [],
   "source": []
  },
  {
   "cell_type": "markdown",
   "metadata": {},
   "source": [
    "# Load and merge ground truth and MODEL data"
   ]
  },
  {
   "cell_type": "code",
   "execution_count": 36,
   "metadata": {},
   "outputs": [
    {
     "name": "stdout",
     "output_type": "stream",
     "text": [
      "/home/davestanley/src/mindpocket/train_model/articles_batch2.0/entropy_93_07_model6e0c37\n"
     ]
    }
   ],
   "source": [
    "!pwd"
   ]
  },
  {
   "cell_type": "code",
   "execution_count": 37,
   "metadata": {},
   "outputs": [
    {
     "name": "stdout",
     "output_type": "stream",
     "text": [
      "Frédéric_Chopin\n"
     ]
    }
   ],
   "source": [
    "# Load data containing MODEL (predictions)\n",
    "foldername = os.path.join('SQ_pp_b4m0c2')\n",
    "arts_train = load_data('train.json',foldername,prepend_data_folder=False)\n",
    "arts_dev = load_data('dev.json',foldername,prepend_data_folder=False)\n",
    "\n",
    "# All articles\n",
    "Ntrain = len(arts_train)\n",
    "Ndev = len(arts_dev)\n",
    "\n",
    "arts = arts_train + arts_dev\n",
    "print(arts[1]['title'])\n",
    "# print(arts[1]['paragraphs'][0]['context'])"
   ]
  },
  {
   "cell_type": "code",
   "execution_count": 38,
   "metadata": {},
   "outputs": [
    {
     "data": {
      "text/plain": [
       "dict_keys(['qas', 'context', 'allenNER'])"
      ]
     },
     "execution_count": 38,
     "metadata": {},
     "output_type": "execute_result"
    }
   ],
   "source": [
    "arts[0]['paragraphs'][0].keys()"
   ]
  },
  {
   "cell_type": "code",
   "execution_count": 39,
   "metadata": {},
   "outputs": [],
   "source": [
    "# Trim down newly loaded articles to match Narticles in training set\n",
    "ind_train = slice(0,Ntrain)\n",
    "ind_dev = slice(0,Ndev)\n",
    "\n",
    "# Chosen display articles\n",
    "ind_ex_train = 1                   # Example from training set - Chopin\n",
    "# ind_ex_train = 381                   # Example from training set - Roman Republic\n",
    "# ind_ex_train = 213                   # Example from training set - Data compression\n",
    "ind_ex_dev = Ntrain + (467-442)    # Example from dev set - Immune system\n",
    "ind_ex_dev = Ntrain + (458-442)    # Example from dev set - Pharmacy\n",
    "ind_ex_dev = Ntrain + (456-442)    # Example from dev set - Black death\n",
    "# ind_ex_dev = 105                   # Pitch\n",
    "# ind_ex_dev = ind_ex_train          # Use train for everything"
   ]
  },
  {
   "cell_type": "code",
   "execution_count": 40,
   "metadata": {},
   "outputs": [
    {
     "name": "stdout",
     "output_type": "stream",
     "text": [
      "Frédéric_Chopin\n"
     ]
    }
   ],
   "source": [
    "# Load blanks data (ground truth)\n",
    "foldername = get_foldername('sq_pp_training')\n",
    "arts3 = load_data('train.json',foldername)[ind_train] + load_data('dev.json',foldername)[ind_dev]\n",
    "print(arts3[1]['title'])\n",
    "# print(arts3[1]['paragraphs'][0]['context_blanked'])\n"
   ]
  },
  {
   "cell_type": "code",
   "execution_count": 41,
   "metadata": {},
   "outputs": [
    {
     "name": "stdout",
     "output_type": "stream",
     "text": [
      "Matching titles: 55 \n",
      "Total articles 55\n"
     ]
    }
   ],
   "source": [
    "# Make sure all titles match\n",
    "all_title_pairs = [(a1['title'],a3['title']) for a1,a3 in zip(arts,arts3)]\n",
    "titles_match_bool = [a1['title'] == a3['title'] for a1,a3 in zip(arts,arts3)]\n",
    "print(\"Matching titles: {} \\nTotal articles {}\".format(sum(titles_match_bool),len(titles_match_bool)))\n",
    "if not sum(titles_match_bool) == len(titles_match_bool):\n",
    "    raise ValueError('Articles mismatch.')\n"
   ]
  },
  {
   "cell_type": "code",
   "execution_count": 42,
   "metadata": {},
   "outputs": [],
   "source": [
    "# Merge ground truth blanks with original data to get full dataset\n",
    "list_of_fields = ['context_blanked','blank_classification']\n",
    "arts = merge_arts_paragraph_fields(arts,arts3,list_of_fields)\n",
    "\n",
    "# print(arts[1]['title'])\n",
    "# print(arts[1]['paragraphs'][0]['context'])\n",
    "# print(arts[1]['paragraphs'][0]['context_blanked'])"
   ]
  },
  {
   "cell_type": "code",
   "execution_count": 43,
   "metadata": {},
   "outputs": [
    {
     "data": {
      "text/plain": [
       "'Frédéric François Chopin (/ˈʃoʊpæn/; French pronunciation: \\u200b[fʁe.de.ʁik fʁɑ̃.swa ʃɔ.pɛ̃]; 22 February or 1 March 1810 – 17 October 1849), born Fryderyk Franciszek Chopin,[n 1] was a Polish and French (by citizenship and birth of father) composer and a virtuoso pianist of the Romantic era, who wrote primarily for the solo piano. He gained and has maintained renown worldwide as one of the leading musicians of his era, whose \"poetic genius was based on a professional technique that was without equal in his generation.\" Chopin was born in what was then the Duchy of Warsaw, and grew up in Warsaw, which after 1815 became part of Congress Poland. A child prodigy, he completed his musical education and composed his earlier works in Warsaw before leaving Poland at the age of 20, less than a month before the outbreak of the November 1830 Uprising.'"
      ]
     },
     "execution_count": 43,
     "metadata": {},
     "output_type": "execute_result"
    }
   ],
   "source": [
    "arts[ind_ex_train]['paragraphs'][0]['context']"
   ]
  },
  {
   "cell_type": "code",
   "execution_count": 44,
   "metadata": {},
   "outputs": [
    {
     "data": {
      "text/plain": [
       "dict_keys(['qas', 'context', 'allenNER', 'context_blanked', 'blank_classification', 'blank_classified_allen'])"
      ]
     },
     "execution_count": 44,
     "metadata": {},
     "output_type": "execute_result"
    }
   ],
   "source": [
    "# Convert AllenNLP Model blanks classification into standard format\n",
    "\n",
    "# If doing merge, use unique name for this model result. Otherwise, use generic name\n",
    "if merge_in_NER_data: fieldname = 'blank_classified_allenMODEL'\n",
    "else: fieldname = 'blank_classified_allen'\n",
    "\n",
    "arts = allenNLP_classify_blanks(arts,'0',fieldname)\n",
    "arts[0]['paragraphs'][0].keys()"
   ]
  },
  {
   "cell_type": "markdown",
   "metadata": {},
   "source": [
    "# Load NER data and merge into arts dataset"
   ]
  },
  {
   "cell_type": "code",
   "execution_count": 45,
   "metadata": {},
   "outputs": [],
   "source": [
    "\n",
    "if merge_in_NER_data:\n",
    "    # Load data containing NEP (predictions)\n",
    "    foldername = get_foldername('sq_pp_ner')\n",
    "\n",
    "    arts_NER = load_data('train.json',foldername)[ind_train] + load_data('dev.json',foldername)[ind_dev]\n",
    "    print(arts[1]['title'])\n",
    "    # print(arts[1]['paragraphs'][0]['context'])\n",
    "\n",
    "    # Make sure all titles match\n",
    "    all_title_pairs = [(a1['title'],a3['title']) for a1,a3 in zip(arts,arts_NER)]\n",
    "    titles_match_bool = [a1['title'] == a3['title'] for a1,a3 in zip(arts,arts_NER)]\n",
    "    print(\"Matching titles: {} \\nTotal articles {}\".format(sum(titles_match_bool),len(titles_match_bool)))\n",
    "    if not sum(titles_match_bool) == len(titles_match_bool):\n",
    "        raise ValueError('Articles mismatch.')\n",
    "\n",
    "    # Convert AllenNLP Model blanks classification into standard format\n",
    "    from utils_NLP import allenNLP_classify_blanks\n",
    "    arts_NER = allenNLP_classify_blanks(arts_NER,'O','blank_classified_allenNER')\n",
    "    print(arts_NER[0]['paragraphs'][0].keys())\n",
    "\n",
    "    # Merge NER data into full dataset\n",
    "    list_of_fields = ['blank_classified_allenNER']\n",
    "    arts = merge_arts_paragraph_fields(arts,arts_NER,list_of_fields)\n",
    "    print(arts[0]['paragraphs'][0].keys())"
   ]
  },
  {
   "cell_type": "code",
   "execution_count": 46,
   "metadata": {},
   "outputs": [],
   "source": [
    "# OR operation on blank_classified_allenMODEL and blank_classified_allenNER into blank_classified_allenMODEL\n",
    "\n",
    "if merge_in_NER_data:\n",
    "    destination_fieldname = 'blank_classified_allen'\n",
    "    arts = OR_arts_paragraph_fields(arts,['blank_classified_allenMODEL','blank_classified_allenNER'],destination_fieldname)\n",
    "\n",
    "    p = arts[0]['paragraphs'][1]\n",
    "    print(p['blank_classified_allenNER'])\n",
    "    print(p['blank_classified_allenMODEL'])\n",
    "    print(p['blank_classified_allen'])\n"
   ]
  },
  {
   "cell_type": "markdown",
   "metadata": {},
   "source": [
    "# Compare paragraph word reconstructions"
   ]
  },
  {
   "cell_type": "markdown",
   "metadata": {},
   "source": [
    "This just looks at the words in the different saved fiels files to make sure all the words match up 1:1 (otherwise, this could mess up our evaluations). Not looking at blanks here at all. The next sectoin looks at the blanks"
   ]
  },
  {
   "cell_type": "code",
   "execution_count": 47,
   "metadata": {},
   "outputs": [],
   "source": [
    "# Pull out sample paragraph\n",
    "p = arts[ind_ex_dev]['paragraphs'][0]"
   ]
  },
  {
   "cell_type": "markdown",
   "metadata": {},
   "source": [
    "## AllenNLP Words"
   ]
  },
  {
   "cell_type": "code",
   "execution_count": 48,
   "metadata": {},
   "outputs": [
    {
     "name": "stdout",
     "output_type": "stream",
     "text": [
      "131\n",
      "131\n",
      "The Black Death is thought to have originated in the arid plains of Central Asia, where it then travelled along the Silk Road, reaching Crimea by 1343. From there, it was most likely carried by Oriental rat fleas living on the black rats that were regular passengers on merchant ships. Spreading throughout the Mediterranean and Europe, the Black Death is estimated to have killed 30–60 % of Europe 's total population. In total, the plague reduced the world population from an estimated 450 million down to 350–375 million in the 14th century. The world population as a whole did not recover to pre - plague levels until the 17th century. The plague recurred occasionally in Europe until the 19th century.\n",
      "706\n"
     ]
    }
   ],
   "source": [
    "words = p['allenNER']['words'].split()\n",
    "tags = p['allenNER']['tags'].split()\n",
    "print(len(words))\n",
    "print(len(tags))\n",
    "print(words2text(words))\n",
    "print(len(words2text(words)))"
   ]
  },
  {
   "cell_type": "markdown",
   "metadata": {},
   "source": [
    "## Context"
   ]
  },
  {
   "cell_type": "code",
   "execution_count": 49,
   "metadata": {},
   "outputs": [
    {
     "name": "stdout",
     "output_type": "stream",
     "text": [
      "131\n",
      "The Black Death is thought to have originated in the arid plains of Central Asia, where it then travelled along the Silk Road, reaching Crimea by 1343. From there, it was most likely carried by Oriental rat fleas living on the black rats that were regular passengers on merchant ships. Spreading throughout the Mediterranean and Europe, the Black Death is estimated to have killed 30–60 % of Europe 's total population. In total, the plague reduced the world population from an estimated 450 million down to 350–375 million in the 14th century. The world population as a whole did not recover to pre - plague levels until the 17th century. The plague recurred occasionally in Europe until the 19th century.\n",
      "706\n"
     ]
    }
   ],
   "source": [
    "from utils_NLP import allenNLP_split_words, join_punctuation\n",
    "\n",
    "context = p['context']\n",
    "context_split = allenNLP_split_words(context)\n",
    "\n",
    "# context_reassembled = ' '.join(context_split)\n",
    "context_reassembled = words2text(context_split)\n",
    "\n",
    "print(len(context_split))\n",
    "# print(words2text(context_split))\n",
    "# print(len(words2text(context_split)))\n",
    "print(context_reassembled)\n",
    "print(len(context_reassembled))\n"
   ]
  },
  {
   "cell_type": "markdown",
   "metadata": {},
   "source": [
    "## Context_blanked"
   ]
  },
  {
   "cell_type": "code",
   "execution_count": 50,
   "metadata": {},
   "outputs": [
    {
     "name": "stdout",
     "output_type": "stream",
     "text": [
      "131\n",
      "dict_keys(['qas', 'context', 'allenNER', 'context_blanked', 'blank_classification', 'blank_classified_allen'])\n",
      "The Black Death is thought to have originated in the arid plains of ______ ______ , where it then travelled along the ______ ______ , reaching Crimea by 1343 . From there , it was most likely carried by Oriental rat fleas living on the black rats that were regular passengers on ______ ______ . Spreading throughout the Mediterranean and Europe , the Black Death is estimated to have killed 30–60 % of Europe 's total population . In total , the plague reduced the world population from an estimated 450 million down to 350–375 million in the 14th ______ . The world population as a whole did not recover to pre - plague levels until the ______ ______ . The plague recurred occasionally in Europe until the ______ ______ .\n"
     ]
    }
   ],
   "source": [
    "print(len(p['blank_classification']))\n",
    "print(p.keys())\n",
    "print(p['context_blanked'])"
   ]
  },
  {
   "cell_type": "code",
   "execution_count": 51,
   "metadata": {},
   "outputs": [
    {
     "name": "stdout",
     "output_type": "stream",
     "text": [
      "Central\n",
      "Asia\n",
      "Silk\n",
      "Road\n",
      "merchant\n",
      "ships\n",
      "century\n",
      "17th\n",
      "century\n",
      "19th\n",
      "century\n"
     ]
    }
   ],
   "source": [
    "# Answers\n",
    "for i,c in enumerate(p['blank_classification']):\n",
    "    if c == 1: print(context_split[i])"
   ]
  },
  {
   "cell_type": "markdown",
   "metadata": {},
   "source": [
    "# Single paragraph - Compare blanks"
   ]
  },
  {
   "cell_type": "markdown",
   "metadata": {},
   "source": [
    "## First, just look at the raw text"
   ]
  },
  {
   "cell_type": "code",
   "execution_count": 52,
   "metadata": {},
   "outputs": [],
   "source": [
    "# Pull out sample paragraph\n",
    "p = arts[ind_ex_dev]['paragraphs'][0]\n",
    "\n",
    "# # Print all AllenNLP classifications\n",
    "# print([(a,b) for a,b in zip(p['allenNER']['words'].split(), p['allenNER']['tags'].split())])\n",
    "\n",
    "# AllenNLP results\n",
    "words = p['allenNER']['words'].split()\n",
    "# tags = p['allenNER']['tags'].split()\n",
    "# tags = [not t == '0' for t in tags]   # Convert to binary\n",
    "tags = p['blank_classified_allen']\n",
    "\n",
    "# Ground truth\n",
    "blank_classification = p['blank_classification']"
   ]
  },
  {
   "cell_type": "code",
   "execution_count": 53,
   "metadata": {},
   "outputs": [
    {
     "name": "stdout",
     "output_type": "stream",
     "text": [
      "Length Allen tags: 131. Length ground truth blanks: 131\n"
     ]
    }
   ],
   "source": [
    "\n",
    "\n",
    "print(\"Length Allen tags: {}. Length ground truth blanks: {}\".format(len(tags),len(blank_classification)))"
   ]
  },
  {
   "cell_type": "code",
   "execution_count": 54,
   "metadata": {},
   "outputs": [
    {
     "name": "stdout",
     "output_type": "stream",
     "text": [
      "============\t\t\t==========\n",
      "Ground truth\t\t\tPrediction\n",
      "============\t\t\t==========\n",
      "The\t\t\t\tThe\n",
      "Black\t\t\t\t______\n",
      "Death\t\t\t\t______\n",
      "is\t\t\t\tis\n",
      "thought\t\t\t\tthought\n",
      "to\t\t\t\tto\n",
      "have\t\t\t\thave\n",
      "originated\t\t\t\toriginated\n",
      "in\t\t\t\tin\n",
      "the\t\t\t\tthe\n",
      "arid\t\t\t\tarid\n",
      "plains\t\t\t\t______\n",
      "of\t\t\t\tof\n",
      "______\t\t\t\t______\n",
      "______\t\t\t\tAsia\n",
      ",\t\t\t\t,\n",
      "where\t\t\t\twhere\n",
      "it\t\t\t\tit\n",
      "then\t\t\t\tthen\n",
      "travelled\t\t\t\ttravelled\n"
     ]
    }
   ],
   "source": [
    "# Side by side compare\n",
    "\n",
    "words_blanked_ground_truth = words2words_blanked(words,blank_classification)\n",
    "words_blanked_allen = words2words_blanked(words,tags)\n",
    "\n",
    "N=len(words_blanked_ground_truth)\n",
    "N=20\n",
    "print(\"============\" + '\\t\\t\\t' + \"==========\")\n",
    "print(\"Ground truth\" + '\\t\\t\\t' + \"Prediction\")\n",
    "print(\"============\" + '\\t\\t\\t' + \"==========\")\n",
    "for c,w in zip(words_blanked_ground_truth[:N],words_blanked_allen[:N]):\n",
    "    print(c + '\\t\\t\\t\\t' + w)\n"
   ]
  },
  {
   "cell_type": "markdown",
   "metadata": {},
   "source": [
    "## Ground truth blanked"
   ]
  },
  {
   "cell_type": "code",
   "execution_count": 55,
   "metadata": {},
   "outputs": [
    {
     "name": "stdout",
     "output_type": "stream",
     "text": [
      "The Black Death is thought to have originated in the arid plains of ______ ______, where it then travelled along the ______ ______, reaching Crimea by 1343. From there, it was most likely carried by Oriental rat fleas living on the black rats that were regular passengers on ______ ______. Spreading throughout the Mediterranean and Europe, the Black Death is estimated to have killed 30–60 % of Europe 's total population. In total, the plague reduced the world population from an estimated 450 million down to 350–375 million in the 14th ______. The world population as a whole did not recover to pre - plague levels until the ______ ______. The plague recurred occasionally in Europe until the ______ ______.\n",
      "Answers:\n",
      "['Central', 'Asia', 'Silk', 'Road', 'merchant', 'ships', 'century', '17th', 'century', '19th', 'century']\n"
     ]
    }
   ],
   "source": [
    "# Blanked text\n",
    "print(words2text(words_blanked_ground_truth))\n",
    "\n",
    "# Answers    \n",
    "myanswers = words2answers(words,blank_classification)\n",
    "print(\"Answers:\")\n",
    "print(myanswers)"
   ]
  },
  {
   "cell_type": "code",
   "execution_count": 56,
   "metadata": {},
   "outputs": [
    {
     "name": "stdout",
     "output_type": "stream",
     "text": [
      "The ______ ______ is thought to have originated in the arid ______ of ______ Asia, where it then travelled along the ______ ______, reaching Crimea by ______. From there, it was most likely carried by ______ ______ ______ living on the black ______ that were regular passengers on merchant ships. Spreading throughout the ______ and Europe, the ______ ______ is estimated to have killed ______ % of Europe 's total population. In total, the ______ reduced the world population from an estimated ______ ______ down to 350–375 ______ in the 14th century. The world population as a whole did not recover to pre - plague levels until the ______ century. The ______ recurred occasionally in Europe until the 19th century.\n",
      "Answers:\n",
      "['Black', 'Death', 'plains', 'Central', 'Silk', 'Road', '1343', 'Oriental', 'rat', 'fleas', 'rats', 'Mediterranean', 'Black', 'Death', '30–60', 'plague', '450', 'million', 'million', '17th', 'plague']\n"
     ]
    }
   ],
   "source": [
    "# Blanked text\n",
    "print(words2text(words_blanked_allen))\n",
    "\n",
    "# Answers    \n",
    "myanswers = words2answers(words,tags)\n",
    "print(\"Answers:\")\n",
    "print(myanswers)"
   ]
  },
  {
   "cell_type": "code",
   "execution_count": 57,
   "metadata": {},
   "outputs": [],
   "source": [
    "TP = sum([b and t for b,t in zip(blank_classification,tags)])\n",
    "FP = sum([not b and t for b,t in zip(blank_classification,tags)])\n",
    "FN = sum([b and not t for b,t in zip(blank_classification,tags)])\n",
    "TN = sum([not b and not t for b,t in zip(blank_classification,tags)])\n",
    "ACC = (TP+TN)/(TP+FP+FN+TN)\n",
    "ACC2 = sum([b == t for b,t in zip(blank_classification,tags)]) / len(tags)"
   ]
  },
  {
   "cell_type": "code",
   "execution_count": 58,
   "metadata": {},
   "outputs": [
    {
     "name": "stdout",
     "output_type": "stream",
     "text": [
      "0.816793893129771\n",
      "0.816793893129771\n",
      "4\n",
      "17\n"
     ]
    }
   ],
   "source": [
    "print(ACC)\n",
    "print(ACC2)\n",
    "print(TP)\n",
    "print(FP)"
   ]
  },
  {
   "cell_type": "code",
   "execution_count": 59,
   "metadata": {},
   "outputs": [],
   "source": [
    "# Sensitivity, hit rate, recall, or true positive rate\n",
    "TPR = TP/(TP+FN)\n",
    "# Specificity or true negative rate\n",
    "TNR = TN/(TN+FP) \n",
    "# Precision or positive predictive value\n",
    "PPV = TP/(TP+FP)\n",
    "# Negative predictive value\n",
    "NPV = TN/(TN+FN)\n",
    "# Fall out or false positive rate\n",
    "FPR = FP/(FP+TN)\n",
    "# False negative rate\n",
    "FNR = FN/(TP+FN)\n",
    "# False discovery rate\n",
    "FDR = FP/(TP+FP)\n"
   ]
  },
  {
   "cell_type": "code",
   "execution_count": 60,
   "metadata": {},
   "outputs": [
    {
     "name": "stdout",
     "output_type": "stream",
     "text": [
      "0.36363636363636365\n",
      "0.14166666666666666\n"
     ]
    }
   ],
   "source": [
    "print(TPR)\n",
    "print(FPR)"
   ]
  },
  {
   "cell_type": "code",
   "execution_count": 61,
   "metadata": {},
   "outputs": [
    {
     "name": "stdout",
     "output_type": "stream",
     "text": [
      "Nsentences=6\n",
      "Nsentences_from_words=6\n"
     ]
    }
   ],
   "source": [
    "Nsentences = len(text2sentences(p['context']))\n",
    "print(\"Nsentences={}\".format(str(Nsentences)))\n",
    "\n",
    "Nsentences2 = len(text2sentences(words2text(words)))\n",
    "print(\"Nsentences_from_words={}\".format(str(Nsentences2)))\n",
    "\n"
   ]
  },
  {
   "cell_type": "code",
   "execution_count": 62,
   "metadata": {},
   "outputs": [
    {
     "name": "stdout",
     "output_type": "stream",
     "text": [
      "0.6666666666666666\n",
      "2.8333333333333335\n"
     ]
    }
   ],
   "source": [
    "TPpersent = TP / Nsentences2\n",
    "FPpersent = FP / Nsentences2\n",
    "\n",
    "print(TPpersent)\n",
    "print(FPpersent)"
   ]
  },
  {
   "cell_type": "markdown",
   "metadata": {},
   "source": [
    "# Single article - compare blanks"
   ]
  },
  {
   "cell_type": "code",
   "execution_count": 63,
   "metadata": {},
   "outputs": [
    {
     "name": "stdout",
     "output_type": "stream",
     "text": [
      "Black_Death\n"
     ]
    }
   ],
   "source": [
    "##### Pull out sample paragraph\n",
    "a = arts[ind_ex_dev]\n",
    "print(a['title'])\n",
    "\n",
    "# AllenNLP results\n",
    "words = [w for p in a['paragraphs'] for w in p['allenNER']['words'].split()]\n",
    "# tags = [t for p in a['paragraphs'] for t in p['allenNER']['tags'].split()]\n",
    "# tags = [not t == '0' for t in tags]   # Convert to binary\n",
    "tags = [t for p in a['paragraphs'] for t in p['blank_classified_allen']]\n",
    "\n",
    "# Ground truth\n",
    "blank_classification = [bc for p in a['paragraphs'] for bc in p['blank_classification']]"
   ]
  },
  {
   "cell_type": "code",
   "execution_count": 64,
   "metadata": {},
   "outputs": [
    {
     "name": "stdout",
     "output_type": "stream",
     "text": [
      "Length Allen tags: 3683. Length ground truth blanks: 3683\n"
     ]
    }
   ],
   "source": [
    "\n",
    "print(\"Length Allen tags: {}. Length ground truth blanks: {}\".format(len(tags),len(blank_classification)))"
   ]
  },
  {
   "cell_type": "code",
   "execution_count": 65,
   "metadata": {},
   "outputs": [
    {
     "name": "stdout",
     "output_type": "stream",
     "text": [
      "========\t\t\t============\t\t\t==========\n",
      "Original\t\t\tGround truth\t\t\tPrediction\n",
      "========\t\t\t============\t\t\t==========\n",
      "The\t\t\t\tThe\t\t\t\tThe\n",
      "Black\t\t\t\tBlack\t\t\t\t______\n",
      "Death\t\t\t\tDeath\t\t\t\t______\n",
      "is\t\t\t\tis\t\t\t\tis\n",
      "thought\t\t\t\tthought\t\t\t\tthought\n",
      "to\t\t\t\tto\t\t\t\tto\n",
      "have\t\t\t\thave\t\t\t\thave\n",
      "originated\t\t\t\toriginated\t\t\t\toriginated\n",
      "in\t\t\t\tin\t\t\t\tin\n",
      "the\t\t\t\tthe\t\t\t\tthe\n",
      "arid\t\t\t\tarid\t\t\t\tarid\n",
      "plains\t\t\t\tplains\t\t\t\t______\n",
      "of\t\t\t\tof\t\t\t\tof\n",
      "Central\t\t\t\t______\t\t\t\t______\n",
      "Asia\t\t\t\t______\t\t\t\tAsia\n",
      ",\t\t\t\t,\t\t\t\t,\n",
      "where\t\t\t\twhere\t\t\t\twhere\n",
      "it\t\t\t\tit\t\t\t\tit\n",
      "then\t\t\t\tthen\t\t\t\tthen\n",
      "travelled\t\t\t\ttravelled\t\t\t\ttravelled\n",
      "along\t\t\t\talong\t\t\t\talong\n",
      "the\t\t\t\tthe\t\t\t\tthe\n",
      "Silk\t\t\t\t______\t\t\t\t______\n",
      "Road\t\t\t\t______\t\t\t\t______\n",
      ",\t\t\t\t,\t\t\t\t,\n",
      "reaching\t\t\t\treaching\t\t\t\treaching\n",
      "Crimea\t\t\t\tCrimea\t\t\t\tCrimea\n",
      "by\t\t\t\tby\t\t\t\tby\n",
      "1343\t\t\t\t1343\t\t\t\t______\n",
      ".\t\t\t\t.\t\t\t\t.\n"
     ]
    }
   ],
   "source": [
    "# Side by side compare\n",
    "words_blanked_ground_truth = words2words_blanked(words,blank_classification)\n",
    "words_blanked_allen = words2words_blanked(words,tags)\n",
    "\n",
    "N=len(words_blanked_ground_truth)\n",
    "N=30\n",
    "print(\"========\" + '\\t\\t\\t' + \"============\" + '\\t\\t\\t' + \"==========\")\n",
    "print(\"Original\" + '\\t\\t\\t' + \"Ground truth\" + '\\t\\t\\t' + \"Prediction\")\n",
    "print(\"========\" + '\\t\\t\\t' + \"============\" + '\\t\\t\\t' + \"==========\")\n",
    "for o,c,w in zip(words[:N],words_blanked_ground_truth[:N],words_blanked_allen[:N]):\n",
    "    print(o + '\\t\\t\\t\\t' + c + '\\t\\t\\t\\t' + w)\n"
   ]
  },
  {
   "cell_type": "code",
   "execution_count": 66,
   "metadata": {},
   "outputs": [],
   "source": [
    "TP = sum([b and t for b,t in zip(blank_classification,tags)])\n",
    "FP = sum([not b and t for b,t in zip(blank_classification,tags)])\n",
    "FN = sum([b and not t for b,t in zip(blank_classification,tags)])\n",
    "TN = sum([not b and not t for b,t in zip(blank_classification,tags)])\n",
    "ACC = (TP+TN)/(TP+FP+FN+TN)\n",
    "ACC2 = sum([b == t for b,t in zip(blank_classification,tags)]) / len(tags)"
   ]
  },
  {
   "cell_type": "code",
   "execution_count": 67,
   "metadata": {},
   "outputs": [
    {
     "name": "stdout",
     "output_type": "stream",
     "text": [
      "0.8373608471354874\n",
      "0.8373608471354874\n"
     ]
    }
   ],
   "source": [
    "print(ACC)\n",
    "print(ACC2)"
   ]
  },
  {
   "cell_type": "code",
   "execution_count": 68,
   "metadata": {},
   "outputs": [],
   "source": [
    "# # Sensitivity, hit rate, recall, or true positive rate\n",
    "# TPR = TP/(TP+FN)\n",
    "# # Specificity or true negative rate\n",
    "# TNR = TN/(TN+FP) \n",
    "# # Precision or positive predictive value\n",
    "# PPV = TP/(TP+FP)\n",
    "# # Negative predictive value\n",
    "# NPV = TN/(TN+FN)\n",
    "# # Fall out or false positive rate\n",
    "# FPR = FP/(FP+TN)\n",
    "# # False negative rate\n",
    "# FNR = FN/(TP+FN)\n",
    "# # False discovery rate\n",
    "# FDR = FP/(TP+FP)\n"
   ]
  },
  {
   "cell_type": "code",
   "execution_count": 69,
   "metadata": {},
   "outputs": [],
   "source": [
    "# print(TPR)\n",
    "# print(FPR)"
   ]
  },
  {
   "cell_type": "code",
   "execution_count": 70,
   "metadata": {},
   "outputs": [
    {
     "name": "stdout",
     "output_type": "stream",
     "text": [
      "Nsentences_from_words=126\n"
     ]
    }
   ],
   "source": [
    "Nsentences2 = len(text2sentences(words2text(words)))\n",
    "print(\"Nsentences_from_words={}\".format(str(Nsentences2)))"
   ]
  },
  {
   "cell_type": "code",
   "execution_count": 71,
   "metadata": {},
   "outputs": [
    {
     "name": "stdout",
     "output_type": "stream",
     "text": [
      "0.7142857142857143\n",
      "4.182539682539683\n"
     ]
    }
   ],
   "source": [
    "TPpersent = TP / Nsentences2\n",
    "FPpersent = FP / Nsentences2\n",
    "\n",
    "print(TPpersent)\n",
    "print(FPpersent)"
   ]
  },
  {
   "cell_type": "markdown",
   "metadata": {},
   "source": [
    "## Ground truth blanked vs predicted blanked"
   ]
  },
  {
   "cell_type": "code",
   "execution_count": 72,
   "metadata": {},
   "outputs": [
    {
     "name": "stdout",
     "output_type": "stream",
     "text": [
      "Answers:\n",
      "{'Gasquet', '1500', '19th', '90', 'ships', 'Road', 'present', 'J.I.', 'East', 'Pontanus', 'Silk', 'isolated', '1349', 'bubonic', 'heavens', 'plague', 'account', 'Alexandre', '80', 'figures', 'Sicily', 'amended', 'infected', 'Germany', '1347', 'rats', 'Hong', 'century', 'northwestern', 'Smithfield', '40,000', '1665', 'pestis', 'Justinian', 'Genoese', 'autumn', 'England', 'third', 'October', 'significance', 'Y.', 'percent', 'Central', 'fleas', '95', 'Constantinople', 'north', '38–41', 'branches', '2010', '5', 'Jani', 'commonly', 'Scandinavia', 'Yersin', '25', '100–106', 'marginal', 'France', 'form', 'king', 'traders', 'half', 'northwest', 'dating', 'atra', 'Yersinia', 'anthrax', 'Russia', 'bad', 'areas', '1720', '22', 'million', '15', 'genetic', 'corpses', '100,000', 'population', 'Plague', '1850', 'Beg', 'confirmed', 'epidemiological', 'much', 'mors', '1331', 'clergy', '1350', '1377', 'trade', 'air', '17th', 'faster', '1823', 'Asia', 'spring', 'Half', 'Kong', 'Miasma', '1654', '2011', 'China', '1338–39', 'merchant', 'Italian', '1.7', '1908', 'theory'}\n"
     ]
    }
   ],
   "source": [
    "# Blanked text\n",
    "# print(words2text(words_blanked_ground_truth))\n",
    "\n",
    "# Answers    \n",
    "myanswers = words2answers(words,blank_classification)\n",
    "print(\"Answers:\")\n",
    "print(set(myanswers))"
   ]
  },
  {
   "cell_type": "code",
   "execution_count": 73,
   "metadata": {},
   "outputs": [
    {
     "name": "stdout",
     "output_type": "stream",
     "text": [
      "Answers:\n",
      "{'Gasquet', 'Thirty', 'Florence', '1500', 'Acre', 'Graham', '2014', 'Venice', 'rodents', 'Europe', '1898', 'Parker', '1751', 'poisoning', 'Road', 'J.I.', '1671', 'Pontanus', 'Silk', 'Simond', 'Twigg', 'Jr.', 'pathogen', 'Crimea', '1471', 'Schuenemann', 'Epidemics', '1349', 'bubonic', 'buboes', 'heavens', 'lungs', '1625', '1345', 'coagulation', '1709–13', 'Bjørgvin', 'Stuart', '1479–80', '1655', 'plague', 'contagion', 'June', 'Alexandre', 'Minor.[citation', 'Hanseatic', 'Helsinki', 'Black', 'Stockholm', 'Gaza', 'Clerkenwell', '1656', 'Sicily', 'Askøy', 'geneticists', 'replicating', 'Norway', 'Biraben', 'Pestilence', '700', '15th', '1361–62', 'Death', '50', 'Haensch', 'infected', 'pestilence', 'resistant', 'symptoms', 'epidemiologists', 'medieval', 'Scott', '1347', 'enzootic', 'Germany', 'mechanism', '16th', 'rats', '30–75', 'India', '4', 'famine', '1800', 'airborne', '1379–83', 'mortality', 'Smithfield', '1623–25', 'siege', 'Italy', '1348–49', 'Kul', 'PLoS', '40,000', '1593', 'hemorrhagic', '1894', '1665', 'Pathogens', 'pestis', 'Justinian', 'Genoese', 'farming', 'autumn', 'England', 'October', 'epidemic', 'respiratory', 'blood', '1620–21', '450', 'Y.', '1893', 'infection', 'zoologist', 'fever', '1636', '50,000', 'Central', 'fleas', 'Basque', 'Issyk', 'Francis', 'endemic', '95', 'Constantinople', 'Polymerase', 'Marseille', 'Nature', 'smallpox', 'Middle', '1330s', 'Londoners', 'pneumonic', '1346', 'Vienna', '1631', 'Geoffrey', 'Herlihy', '1628–31', 'Sea', 'branches', 'cough', 'starvation', 'visitations', 'Nestorian', 'regurgitation', '1374', 'CE', 'Portugal', 'Jani', 'Poland', 'Alexandria', 'Uganda', 'Domesday', 'characterise', '10–15', 'Ages', 'outbreak', '1338', '1664', '1679', 'Belgium', 'Kaffa', 'Scandinavia', 'Yersin', 'waterfront', '25', 'London', 'Tudor', 'Homs', '1360–63', '14th', '1629–1631', '1970', 'pandemics', '1635–36', '1351', '1490', 'Oslo', 'France', 'society', 'Paris', 'op', 'Septicemic', 'Book', 'spaced', 'marmots', 'disease', 'intravascular', 'sufferers', 'bacteria', 'Roman', '1576–77', 'nodes', 'Bergen', 'purpura', '1389–93', '1700–21', 'nausea', 'tooth', '1498', 'Cohn', 'epidemiology', '30–60', 'extinction', 'hundred', 'skeletons', '1603', 'Amsterdam', '1589', 'Yersinia', 'atra', 'anthrax', 'Palestine', 'Norman', '1649', '1654–57', '1348–50', 'Russia', 'Mongol', 'Cantor', 'Zoom', '1720', '1644–54', 'million', '15', 'Pandemic', '20', '1.25', 'epidemics', 'genetic', '1535', 'corpses', 'septicemic', 'infectious', '100,000', 'pits', '7', 'Africa', '1369', '1528', 'plains', 'Plague', 'feeding', 'sockets', 'burial', '1850', '1361', 'Beg', 'typhus', '1563', 'malaise', 'rat', 'epidemiological', '1300', '1450', 'pandemic', 'vomiting', 'behaviour', 'pit', 'Monks', '170,000', 'Mediterranean', '1998', '1466', 'genome', 'mors', 'Lake', '1331', 'outbreaks', 'infections', 'Aidan', '1350', 'skin', 'Sloane', 'lymph', 'Iceland', '1377', 'diseases', 'Netherlands', '1343', 'Ebola', '1348', 'Ottoman', '2', 'Vulgo', 'Raoult', 'Barney', 'thousand', 'clades', '17th', '1865', '1823', 'patches', 'Louis', 'Hamburg', '300,000', 'Pneumonic', '541', 'bites', 'medical', 'Archaeologist', 'Antioch', '1750', 'sputum', '1701', '1740–42', 'Miasma', '1691', 'Aleppo', 'recurrence', '2011', 'wills', '1654', 'China', '1543', 'Italian', 'tracts', 'Seville', 'Bremen', '1.7', 'Oriental', '1908', 'Duncan', 'untreated', 'Naples', '110–120', 'Prussia'}\n"
     ]
    }
   ],
   "source": [
    "# Blanked text\n",
    "# print(words2text(words_blanked_allen))\n",
    "\n",
    "# Answers    \n",
    "myanswers = words2answers(words,tags)\n",
    "print(\"Answers:\")\n",
    "print(set(myanswers))"
   ]
  },
  {
   "cell_type": "code",
   "execution_count": null,
   "metadata": {},
   "outputs": [],
   "source": []
  },
  {
   "cell_type": "markdown",
   "metadata": {},
   "source": [
    "## Fract of answers blanked"
   ]
  },
  {
   "cell_type": "markdown",
   "metadata": {},
   "source": [
    "### Fract answers blanked vs num answers"
   ]
  },
  {
   "cell_type": "code",
   "execution_count": 74,
   "metadata": {},
   "outputs": [],
   "source": [
    "\n",
    "# Pseudocode\n",
    "# For each answer, loop through the words and count the number of times it occurs.\n",
    "# Get the set of blanks booleans associated with each occurrence of that words, and calculate the\n",
    "# mean. Will do this for each word in the article, and then each article in the corpus. For each\n",
    "# article, rank the words by their proximity to 50 % \n",
    "\n",
    "myanswers_unique = list(set(words2answers(words,tags)))\n",
    "\n",
    "fracblanked = []\n",
    "numblanked = []\n",
    "for ans in myanswers_unique:\n",
    "    indices = [i for i, w in enumerate(words) if w == ans]\n",
    "    tags_curr = [tags[i] for i in indices]\n",
    "    #words_curr = [words[i] for i in indices]\n",
    "    fracblanked.append(sum(tags_curr)/len(tags_curr)*100)\n",
    "    numblanked.append(len(tags_curr))"
   ]
  },
  {
   "cell_type": "code",
   "execution_count": 78,
   "metadata": {},
   "outputs": [
    {
     "data": {
      "text/plain": [
       "Text(0, 0.5, 'Num occurrences')"
      ]
     },
     "execution_count": 78,
     "metadata": {},
     "output_type": "execute_result"
    },
    {
     "data": {
      "image/png": "[encoded data removed]",
      "text/plain": [
       "<Figure size 288x288 with 1 Axes>"
      ]
     },
     "metadata": {
      "needs_background": "light"
     },
     "output_type": "display_data"
    }
   ],
   "source": [
    "# Do scatter plot\n",
    "y = numblanked\n",
    "z = fracblanked\n",
    "n = myanswers_unique\n",
    "\n",
    "fig, ax = plt.subplots(figsize=(4,4))\n",
    "ax.scatter(z, y)\n",
    "\n",
    "for i, txt in enumerate(n):\n",
    "    ax.annotate(txt, (z[i], y[i]))\n",
    "plt.xlabel('Percentage of times blanked out')\n",
    "plt.ylabel('Num occurrences')"
   ]
  },
  {
   "cell_type": "markdown",
   "metadata": {},
   "source": [
    "### Fract answers blanked for all answers"
   ]
  },
  {
   "cell_type": "code",
   "execution_count": 76,
   "metadata": {},
   "outputs": [
    {
     "data": {
      "image/png": "[encoded data removed]",
      "text/plain": [
       "<Figure size 576x576 with 1 Axes>"
      ]
     },
     "metadata": {},
     "output_type": "display_data"
    }
   ],
   "source": [
    "import numpy as np\n",
    "import pandas as pd\n",
    "\n",
    "d = {'myanswers_unique':myanswers_unique,'fracblanked':fracblanked}\n",
    "\n",
    "df = pd.DataFrame(data=d);\n",
    "\n",
    "df2 = df.sort_values(by='fracblanked',ascending=True);\n",
    "\n",
    "\n",
    "\n",
    "N=30          # of data points to show\n",
    "figure(num=None, figsize=(8, 8),facecolor='w', edgecolor='k')\n",
    "bars = (df2['myanswers_unique'].values.tolist())[0:N]\n",
    "y_pos = np.arange(len(bars))\n",
    "val = (df2['fracblanked'].values.tolist())[0:N]\n",
    "y_pos = np.arange(len(bars))\n",
    " \n",
    "# Create horizontal bars\n",
    "plt.barh(y_pos, val)\n",
    " \n",
    "# Create names on the y-axis\n",
    "plt.yticks(y_pos, bars)\n",
    "\n",
    "plt.xlabel('Percentage of times blanked out')\n",
    "# Show graphic\n",
    "plt.show()\n",
    "\n"
   ]
  },
  {
   "cell_type": "markdown",
   "metadata": {},
   "source": [
    "### Fractions of POS/NER tags blanked"
   ]
  },
  {
   "cell_type": "code",
   "execution_count": 77,
   "metadata": {},
   "outputs": [],
   "source": [
    "# Use whitespace tokenizer (https://spacy.io/usage/linguistic-features)\n",
    "# davedit\n",
    "from spacy.tokens import Doc\n",
    "class WhitespaceTokenizer(object):\n",
    "\n",
    "    def __init__(self, vocab):\n",
    "        self.vocab = vocab\n",
    "\n",
    "    def __call__(self, text):\n",
    "        words = text.split(' ')\n",
    "        # All tokens 'own' a subsequent space character in this tokenizer\n",
    "        spaces = [True] * len(words)\n",
    "        return Doc(self.vocab, words=words, spaces=spaces)\n"
   ]
  },
  {
   "cell_type": "code",
   "execution_count": 78,
   "metadata": {},
   "outputs": [
    {
     "name": "stdout",
     "output_type": "stream",
     "text": [
      "3683\n",
      "3683\n",
      "3683\n",
      "3683\n",
      "3683\n",
      "3683\n"
     ]
    }
   ],
   "source": [
    "import spacy\n",
    "\n",
    "nlp = spacy.load('en_core_web_sm')\n",
    "nlp.tokenizer = WhitespaceTokenizer(nlp.vocab)\n",
    "doc = nlp(' '.join(words))\n",
    "# doc = nlp(words2text(words))\n",
    "\n",
    "pos=[]\n",
    "ner=[]\n",
    "dep=[]\n",
    "for token in doc:\n",
    "    pos.append(token.pos_)\n",
    "    ner.append(token.ent_type_)\n",
    "    dep.append(token.dep_)\n",
    "\n",
    "# Build a dataframe to store everything\n",
    "d = {'ind': range(len(words)),\n",
    "     'words' : words,\n",
    "    'tags':tags,\n",
    "    'pos':pos,\n",
    "    'ner':ner,\n",
    "    'dep':dep}\n",
    "\n",
    "# # Build a dataframe to store everything\n",
    "# d = {'words' : words,\n",
    "#     'tags':tags,\n",
    "#     'pos':pos,\n",
    "#     'ner':ner,\n",
    "#     'dep':dep}\n",
    "\n",
    "for k in d.keys():\n",
    "    print(str(len(d[k])))"
   ]
  },
  {
   "cell_type": "code",
   "execution_count": 79,
   "metadata": {},
   "outputs": [],
   "source": [
    "df = pd.DataFrame(data=d)\n",
    "xlabs=[]\n",
    "yvals=[]\n",
    "\n",
    "# Search through keys and unique items therein, counting \"Trues\"\n",
    "keys = ['ner']\n",
    "for k in keys:\n",
    "    for item in list(set(d[k])):\n",
    "        df2 = df.loc[df[k] == item]\n",
    "        mysum = df2.sum()['tags']\n",
    "        N = len(df2)\n",
    "        \n",
    "        xlabs.append(k.upper() + ': ' + item.lower())\n",
    "        yvals.append(mysum/N*100)\n",
    "\n",
    "        "
   ]
  },
  {
   "cell_type": "code",
   "execution_count": 80,
   "metadata": {},
   "outputs": [
    {
     "data": {
      "text/html": [
       "<div>\n",
       "<style scoped>\n",
       "    .dataframe tbody tr th:only-of-type {\n",
       "        vertical-align: middle;\n",
       "    }\n",
       "\n",
       "    .dataframe tbody tr th {\n",
       "        vertical-align: top;\n",
       "    }\n",
       "\n",
       "    .dataframe thead th {\n",
       "        text-align: right;\n",
       "    }\n",
       "</style>\n",
       "<table border=\"1\" class=\"dataframe\">\n",
       "  <thead>\n",
       "    <tr style=\"text-align: right;\">\n",
       "      <th></th>\n",
       "      <th>ind</th>\n",
       "      <th>words</th>\n",
       "      <th>tags</th>\n",
       "      <th>pos</th>\n",
       "      <th>ner</th>\n",
       "      <th>dep</th>\n",
       "    </tr>\n",
       "  </thead>\n",
       "  <tbody>\n",
       "    <tr>\n",
       "      <th>319</th>\n",
       "      <td>319</td>\n",
       "      <td>Constantinople</td>\n",
       "      <td>1</td>\n",
       "      <td>PROPN</td>\n",
       "      <td>PERSON</td>\n",
       "      <td>dobj</td>\n",
       "    </tr>\n",
       "    <tr>\n",
       "      <th>356</th>\n",
       "      <td>356</td>\n",
       "      <td>Jani</td>\n",
       "      <td>1</td>\n",
       "      <td>PROPN</td>\n",
       "      <td>PERSON</td>\n",
       "      <td>compound</td>\n",
       "    </tr>\n",
       "    <tr>\n",
       "      <th>357</th>\n",
       "      <td>357</td>\n",
       "      <td>Beg</td>\n",
       "      <td>1</td>\n",
       "      <td>PROPN</td>\n",
       "      <td>PERSON</td>\n",
       "      <td>pobj</td>\n",
       "    </tr>\n",
       "    <tr>\n",
       "      <th>489</th>\n",
       "      <td>489</td>\n",
       "      <td>Bjørgvin</td>\n",
       "      <td>1</td>\n",
       "      <td>PROPN</td>\n",
       "      <td>PERSON</td>\n",
       "      <td>pobj</td>\n",
       "    </tr>\n",
       "    <tr>\n",
       "      <th>616</th>\n",
       "      <td>616</td>\n",
       "      <td>Constantinople</td>\n",
       "      <td>1</td>\n",
       "      <td>PROPN</td>\n",
       "      <td>PERSON</td>\n",
       "      <td>pobj</td>\n",
       "    </tr>\n",
       "  </tbody>\n",
       "</table>\n",
       "</div>"
      ],
      "text/plain": [
       "     ind           words  tags    pos     ner       dep\n",
       "319  319  Constantinople     1  PROPN  PERSON      dobj\n",
       "356  356            Jani     1  PROPN  PERSON  compound\n",
       "357  357             Beg     1  PROPN  PERSON      pobj\n",
       "489  489        Bjørgvin     1  PROPN  PERSON      pobj\n",
       "616  616  Constantinople     1  PROPN  PERSON      pobj"
      ]
     },
     "execution_count": 80,
     "metadata": {},
     "output_type": "execute_result"
    }
   ],
   "source": [
    "df3 = df.loc[df['ner'] == 'PERSON']\n",
    "df3.head()           # Hmmm"
   ]
  },
  {
   "cell_type": "code",
   "execution_count": 81,
   "metadata": {},
   "outputs": [
    {
     "data": {
      "text/html": [
       "<div>\n",
       "<style scoped>\n",
       "    .dataframe tbody tr th:only-of-type {\n",
       "        vertical-align: middle;\n",
       "    }\n",
       "\n",
       "    .dataframe tbody tr th {\n",
       "        vertical-align: top;\n",
       "    }\n",
       "\n",
       "    .dataframe thead th {\n",
       "        text-align: right;\n",
       "    }\n",
       "</style>\n",
       "<table border=\"1\" class=\"dataframe\">\n",
       "  <thead>\n",
       "    <tr style=\"text-align: right;\">\n",
       "      <th></th>\n",
       "      <th>xlabs</th>\n",
       "      <th>yvals</th>\n",
       "    </tr>\n",
       "  </thead>\n",
       "  <tbody>\n",
       "    <tr>\n",
       "      <th>8</th>\n",
       "      <td>NER: ordinal</td>\n",
       "      <td>0.000000</td>\n",
       "    </tr>\n",
       "    <tr>\n",
       "      <th>13</th>\n",
       "      <td>NER: money</td>\n",
       "      <td>0.000000</td>\n",
       "    </tr>\n",
       "    <tr>\n",
       "      <th>0</th>\n",
       "      <td>NER:</td>\n",
       "      <td>9.087732</td>\n",
       "    </tr>\n",
       "    <tr>\n",
       "      <th>15</th>\n",
       "      <td>NER: percent</td>\n",
       "      <td>12.000000</td>\n",
       "    </tr>\n",
       "    <tr>\n",
       "      <th>3</th>\n",
       "      <td>NER: loc</td>\n",
       "      <td>27.118644</td>\n",
       "    </tr>\n",
       "    <tr>\n",
       "      <th>2</th>\n",
       "      <td>NER: cardinal</td>\n",
       "      <td>29.473684</td>\n",
       "    </tr>\n",
       "    <tr>\n",
       "      <th>9</th>\n",
       "      <td>NER: quantity</td>\n",
       "      <td>38.888889</td>\n",
       "    </tr>\n",
       "    <tr>\n",
       "      <th>7</th>\n",
       "      <td>NER: date</td>\n",
       "      <td>41.975309</td>\n",
       "    </tr>\n",
       "    <tr>\n",
       "      <th>1</th>\n",
       "      <td>NER: event</td>\n",
       "      <td>44.262295</td>\n",
       "    </tr>\n",
       "    <tr>\n",
       "      <th>11</th>\n",
       "      <td>NER: norp</td>\n",
       "      <td>47.619048</td>\n",
       "    </tr>\n",
       "    <tr>\n",
       "      <th>16</th>\n",
       "      <td>NER: law</td>\n",
       "      <td>50.000000</td>\n",
       "    </tr>\n",
       "    <tr>\n",
       "      <th>10</th>\n",
       "      <td>NER: org</td>\n",
       "      <td>53.571429</td>\n",
       "    </tr>\n",
       "    <tr>\n",
       "      <th>12</th>\n",
       "      <td>NER: gpe</td>\n",
       "      <td>62.601626</td>\n",
       "    </tr>\n",
       "    <tr>\n",
       "      <th>5</th>\n",
       "      <td>NER: product</td>\n",
       "      <td>66.666667</td>\n",
       "    </tr>\n",
       "    <tr>\n",
       "      <th>6</th>\n",
       "      <td>NER: work_of_art</td>\n",
       "      <td>66.666667</td>\n",
       "    </tr>\n",
       "    <tr>\n",
       "      <th>14</th>\n",
       "      <td>NER: person</td>\n",
       "      <td>67.741935</td>\n",
       "    </tr>\n",
       "    <tr>\n",
       "      <th>4</th>\n",
       "      <td>NER: fac</td>\n",
       "      <td>83.333333</td>\n",
       "    </tr>\n",
       "  </tbody>\n",
       "</table>\n",
       "</div>"
      ],
      "text/plain": [
       "               xlabs      yvals\n",
       "8       NER: ordinal   0.000000\n",
       "13        NER: money   0.000000\n",
       "0              NER:    9.087732\n",
       "15      NER: percent  12.000000\n",
       "3           NER: loc  27.118644\n",
       "2      NER: cardinal  29.473684\n",
       "9      NER: quantity  38.888889\n",
       "7          NER: date  41.975309\n",
       "1         NER: event  44.262295\n",
       "11         NER: norp  47.619048\n",
       "16          NER: law  50.000000\n",
       "10          NER: org  53.571429\n",
       "12          NER: gpe  62.601626\n",
       "5       NER: product  66.666667\n",
       "6   NER: work_of_art  66.666667\n",
       "14       NER: person  67.741935\n",
       "4           NER: fac  83.333333"
      ]
     },
     "execution_count": 81,
     "metadata": {},
     "output_type": "execute_result"
    }
   ],
   "source": [
    "df = pd.DataFrame(data={'xlabs':xlabs,'yvals':yvals})\n",
    "df = df.sort_values(by='yvals',ascending=True)\n",
    "df"
   ]
  },
  {
   "cell_type": "code",
   "execution_count": 82,
   "metadata": {},
   "outputs": [
    {
     "data": {
      "image/png": "[encoded data removed]",
      "text/plain": [
       "<Figure size 504x504 with 1 Axes>"
      ]
     },
     "metadata": {},
     "output_type": "display_data"
    }
   ],
   "source": [
    "figure(num=None, figsize=(7,7),facecolor='w', edgecolor='k')\n",
    "bars = df['xlabs']\n",
    "y_pos = np.arange(len(bars))\n",
    "val = df['yvals']\n",
    "\n",
    "# Make fake dataset\n",
    "y_pos = np.arange(len(bars))\n",
    " \n",
    "# Create horizontal bars\n",
    "plt.barh(y_pos, val)\n",
    " \n",
    "# Create names on the y-axis\n",
    "plt.yticks(y_pos, bars)\n",
    "\n",
    "plt.xlabel('% of times blanked')\n",
    "# Show graphic\n",
    "plt.show()\n"
   ]
  },
  {
   "cell_type": "markdown",
   "metadata": {},
   "source": [
    "## Whole article"
   ]
  },
  {
   "cell_type": "markdown",
   "metadata": {},
   "source": [
    "### Ground truth"
   ]
  },
  {
   "cell_type": "code",
   "execution_count": 83,
   "metadata": {},
   "outputs": [],
   "source": [
    "\n",
    "# print('--------------- GROUND TRUTH ---------------')\n",
    "\n",
    "# # Pull out sample paragraph\n",
    "# for p in arts[ind_ex_dev]['paragraphs']:\n",
    "#     # # Print all AllenNLP classifications\n",
    "#     # print([(a,b) for a,b in zip(p['allenNER']['words'].split(), p['allenNER']['tags'].split())])\n",
    "\n",
    "#     # AllenNLP results\n",
    "#     words = p['allenNER']['words'].split()\n",
    "#     # tags = p['allenNER']['tags'].split()\n",
    "#     # tags = [not t == '0' for t in tags]   # Convert to binary\n",
    "#     tags = p['blank_classified_allen']\n",
    "\n",
    "#     # Ground truth\n",
    "#     blank_classification = p['blank_classification']\n",
    "\n",
    "#     words_blanked_ground_truth = words2words_blanked(words,blank_classification)\n",
    "#     words_blanked_allen = words2words_blanked(words,tags)\n",
    "#     words_hash_ground_truth = words2words_hashblank(words,blank_classification)\n",
    "#     words_hash_allen = words2words_hashblank(words,tags)\n",
    "    \n",
    "    \n",
    "#     # Blanked text\n",
    "#     print(words2text(words_hash_ground_truth))\n",
    "\n",
    "#     # Answers    \n",
    "#     myanswers = words2answers(words,blank_classification)\n",
    "#     print(\"Answers:\")\n",
    "#     print(myanswers)\n",
    "\n",
    "    "
   ]
  },
  {
   "cell_type": "markdown",
   "metadata": {},
   "source": [
    "### My model"
   ]
  },
  {
   "cell_type": "code",
   "execution_count": 84,
   "metadata": {},
   "outputs": [
    {
     "name": "stdout",
     "output_type": "stream",
     "text": [
      "--------------- MY MODEL ---------------\n",
      "The ___Black___ ___Death___ is thought to have originated in the arid ___plains___ of ___Central___ Asia, where it then travelled along the ___Silk___ ___Road___, reaching Crimea by ___1343___. From there, it was most likely carried by ___Oriental___ ___rat___ ___fleas___ living on the black ___rats___ that were regular passengers on merchant ships. Spreading throughout the ___Mediterranean___ and Europe, the ___Black___ ___Death___ is estimated to have killed ___30–60___ % of Europe 's total population. In total, the ___plague___ reduced the world population from an estimated ___450___ ___million___ down to 350–375 ___million___ in the 14th century. The world population as a whole did not recover to pre - plague levels until the ___17th___ century. The ___plague___ recurred occasionally in Europe until the 19th century.\n",
      "Answers:\n",
      "['450', 'Road', 'plague', 'plains', '30–60', 'fleas', '17th', 'million', 'Mediterranean', 'Death', 'Central', '1343', 'rats', 'Oriental', 'Silk', 'Black', 'rat']\n",
      "The ___plague___ disease, caused by ___Yersinia___ ___pestis___, is ___enzootic___ ( commonly present ) in populations of ___fleas___ carried by ground ___rodents___, including ___marmots___, in various areas including Central Asia, Kurdistan, Western Asia, Northern India and ___Uganda___. ___Nestorian___ graves dating to 1338–39 near ___Lake___ ___Issyk___ ___Kul___ in Kyrgyzstan have inscriptions referring to ___plague___ and are thought by many ___epidemiologists___ to mark the ___outbreak___ of the ___epidemic___, from which it could easily have spread to China and India. In ___October___ 2010, ___medical___ ___geneticists___ suggested that all three of the great waves of the ___plague___ originated in ___China___. In ___China___, the 13th century ___Mongol___ conquest caused a decline in ___farming___ and trading. However, economic recovery had been observed at the beginning of the ___14th___ century. In the ___1330s___ a large number of natural disasters and plagues led to widespread ___famine___, starting in ___1331___, with a deadly ___plague___ arriving soon after. ___Epidemics___ that may have included ___plague___ killed an estimated ___25___ ___million___ Chinese and other Asians during the 15 years before it reached ___Constantinople___ in ___1347___.\n",
      "Answers:\n",
      "['geneticists', 'farming', 'Nestorian', 'Lake', 'enzootic', '14th', 'marmots', 'pestis', 'fleas', 'Epidemics', 'Yersinia', 'epidemic', 'Issyk', 'plague', 'Kul', '1331', 'million', 'Constantinople', '1347', '25', 'famine', 'Uganda', 'Mongol', 'epidemiologists', 'China', 'outbreak', 'medical', 'October', 'rodents', '1330s']\n",
      "___Plague___ was reportedly first introduced to ___Europe___ via ___Genoese___ traders at the port city of ___Kaffa___ in the ___Crimea___ in ___1347___. After a protracted ___siege___, during which the ___Mongol___ army under ___Jani___ ___Beg___ was suffering from the ___disease___, the army catapulted the ___infected___ ___corpses___ over the city walls of ___Kaffa___ to infect the inhabitants. The ___Genoese___ traders fled, taking the ___plague___ by ship into ___Sicily___ and the south of Europe, whence it spread north. Whether or not this hypothesis is accurate, it is clear that several existing conditions such as war, ___famine___, and weather contributed to the severity of the ___Black___ ___Death___.\n",
      "Answers:\n",
      "['Crimea', 'Sicily', 'Jani', 'Mongol', 'Kaffa', 'plague', 'infected', 'Genoese', 'siege', 'disease', 'Death', '1347', 'Beg', 'Plague', 'corpses', 'famine', 'Europe', 'Black']\n",
      "From ___Italy___, the disease spread northwest across Europe, striking France, Spain, ___Portugal___ and England by ___June___ ___1348___, then turned and spread east through Germany and Scandinavia from ___1348___ to ___1350___. It was introduced in ___Norway___ in ___1349___ when a ship landed at ___Askøy___, then spread to ___Bjørgvin___ ( modern ___Bergen___ ) and ___Iceland___. Finally it spread to northwestern Russia in ___1351___. The ___plague___ was somewhat less common in parts of Europe that had smaller trade relations with their neighbours, including the Kingdom of ___Poland___, the majority of the ___Basque___ Country, isolated parts of ___Belgium___ and the ___Netherlands___, and isolated alpine villages throughout the continent.\n",
      "Answers:\n",
      "['Bjørgvin', 'Basque', 'Askøy', '1351', 'Netherlands', 'plague', 'Norway', 'Italy', 'Portugal', 'Iceland', 'Bergen', '1349', 'Poland', '1350', 'Belgium', 'June', '1348']\n",
      "The ___plague___ struck various countries in the Middle East during the ___pandemic___, leading to serious depopulation and permanent change in both economic and social structures. As it spread to western Europe, the disease entered the region from southern Russia also. By ___autumn___ ___1347___, the plague reached ___Alexandria___ in Egypt, probably through the port 's trade with ___Constantinople___, and ports on the ___Black___ ___Sea___. During ___1347___, the disease travelled eastward to ___Gaza___, and north along the eastern coast to cities in Lebanon, Syria and ___Palestine___, including Ashkelon, ___Acre___, Jerusalem, Sidon, Damascus, ___Homs___, and ___Aleppo___. In ___1348–49___, the disease reached ___Antioch___. The city 's residents fled to the north, most of them dying during the journey, but the ___infection___ had been spread to the people of Asia ___Minor.[citation___ needed ]\n",
      "Answers:\n",
      "['Acre', 'Sea', 'Gaza', 'Homs', 'plague', 'Aleppo', 'autumn', 'Palestine', 'Constantinople', 'infection', '1348–49', '1347', 'pandemic', 'Antioch', 'Alexandria', 'Minor.[citation', 'Black']\n",
      "___Gasquet___ ( ___1908___ ) claimed that the Latin name ___atra___ ___mors___ ( ___Black___ Death ) for the 14th - century ___epidemic___ first appeared in modern times in ___1631___ in a book on Danish history by ___J.I.___ ___Pontanus___ : \" ___Vulgo___ & ab effectu atram mortem vocatibant. ( \" Commonly and from its effects, they called it the black death \" ). The name spread through ___Scandinavia___ and then ___Germany___, gradually becoming attached to the mid 14th - century ___epidemic___ as a proper name. In ___England___, it was not until ___1823___ that the ___medieval___ ___epidemic___ was first called the ___Black___ ___Death___.\n",
      "Answers:\n",
      "['medieval', 'atra', 'England', 'Scandinavia', 'epidemic', '1823', 'Germany', 'Death', 'mors', '1631', 'Pontanus', 'Vulgo', 'Gasquet', 'Black', '1908', 'J.I.']\n",
      "Medical knowledge had stagnated during the ___Middle___ ___Ages___. The most authoritative account at the time came from the medical faculty in ___Paris___ in a report to the king of ___France___ that blamed the ___heavens___, in the form of a conjunction of three planets in ___1345___ that caused a \" great ___pestilence___ in the air \". This report became the first and most widely circulated of a series of ___plague___ ___tracts___ that sought to give advice to ___sufferers___. That the ___plague___ was caused by bad air became the most widely accepted theory. Today, this is known as the ___Miasma___ theory. The word ' ___plague___ ' had no special significance at this time, and only the ___recurrence___ of ___outbreaks___ during the ___Middle___ Ages gave it the name that has become the medical term.\n",
      "Answers:\n",
      "['tracts', 'plague', 'sufferers', 'France', 'recurrence', 'Paris', '1345', 'Miasma', 'Middle', 'Ages', 'pestilence', 'heavens', 'outbreaks']\n",
      "The dominant explanation for the ___Black___ ___Death___ is the ___plague___ theory, which attributes the outbreak to ___Yersinia___ ___pestis___, also responsible for an ___epidemic___ that began in southern ___China___ in ___1865___, eventually spreading to ___India___. The investigation of the ___pathogen___ that caused the 19th - century ___plague___ was begun by teams of scientists who visited Hong Kong in ___1894___, among whom was the French - Swiss bacteriologist ___Alexandre___ ___Yersin___, after whom the ___pathogen___ was named ___Yersinia___ ___pestis___. The mechanism by which ___Y.___ ___pestis___ was usually transmitted was established in ___1898___ by Paul - ___Louis___ ___Simond___ and was found to involve the ___bites___ of ___fleas___ whose midguts had become obstructed by ___replicating___ ___Y.___ ___pestis___ several days after feeding on an ___infected___ host. This blockage results in ___starvation___ and aggressive ___feeding___ ___behaviour___ by the ___fleas___, which repeatedly attempt to clear their blockage by ___regurgitation___, resulting in thousands of ___plague___ ___bacteria___ being flushed into the ___feeding___ site, infecting the host. The ___bubonic___ ___plague___ ___mechanism___ was also dependent on two populations of ___rodents___ : one ___resistant___ to the ___disease___, which act as hosts, keeping the ___disease___ ___endemic___, and a second that lack resistance. When the second population dies, the ___fleas___ move on to other hosts, including people, thus creating a human ___epidemic___.\n",
      "Answers:\n",
      "['feeding', '1894', 'Alexandre', 'mechanism', 'resistant', 'Death', 'bubonic', 'replicating', 'bacteria', 'India', 'pestis', 'fleas', 'infected', 'Yersinia', 'epidemic', 'pathogen', 'plague', 'behaviour', 'disease', 'Y.', 'Black', 'endemic', 'Yersin', 'China', 'Louis', '1898', '1865', 'regurgitation', 'bites', 'Simond', 'rodents', 'starvation']\n",
      "The historian ___Francis___ ___Aidan___ ___Gasquet___ wrote about the ' Great ___Pestilence___ ' in ___1893___ and suggested that \" it would appear to be some form of the ordinary Eastern or ___bubonic___ ___plague___ \". He was able to adopt the ___epidemiology___ of the ___bubonic___ ___plague___ for the ___Black___ Death for the second edition in ___1908___, implicating ___rats___ and ___fleas___ in the process, and his interpretation was widely accepted for other ancient and ___medieval___ ___epidemics___, such as the ___Justinian___ ___plague___ that was prevalent in the Eastern ___Roman___ Empire from ___541___ to ___700___ ___CE___.\n",
      "Answers:\n",
      "['medieval', '1893', 'plague', '541', 'Roman', 'fleas', '700', 'CE', 'bubonic', 'epidemics', 'epidemiology', 'Justinian', 'Aidan', 'rats', 'Pestilence', 'Gasquet', 'Francis', 'Black', '1908']\n",
      "Other forms of ___plague___ have been implicated by modern scientists. The modern ___bubonic___ ___plague___ has a mortality rate of ___30–75___ % and symptoms including fever of 38–41 ° C ( 100–106 ° F ), headaches, painful aching joints, ___nausea___ and ___vomiting___, and a general feeling of ___malaise___. Left ___untreated___, of those that contract the ___bubonic___ ___plague___, 80 percent die within eight days. ___Pneumonic___ ___plague___ has a mortality rate of 90 to ___95___ percent. Symptoms include ___fever___, ___cough___, and blood - tinged ___sputum___. As the ___disease___ progresses, ___sputum___ becomes free flowing and bright red. ___Septicemic___ ___plague___ is the least common of the three forms, with a mortality rate near 100 %. Symptoms are high fevers and purple ___skin___ ___patches___ ( ___purpura___ due to disseminated ___intravascular___ ___coagulation___ ). In cases of ___pneumonic___ and particularly ___septicemic___ ___plague___, the progress of the ___disease___ is so rapid that there would often be no time for the development of the enlarged ___lymph___ ___nodes___ that were noted as ___buboes___.\n",
      "Answers:\n",
      "['coagulation', 'Septicemic', 'septicemic', 'bubonic', 'untreated', 'vomiting', 'sputum', 'nodes', 'purpura', 'lymph', 'intravascular', '95', 'nausea', 'plague', 'disease', 'patches', 'Pneumonic', 'buboes', 'skin', 'pneumonic', 'cough', 'fever', 'malaise', '30–75']\n",
      "In ___October___ 2010, the open - access scientific journal ___PLoS___ ___Pathogens___ published a paper by a multinational team who undertook a new investigation into the role of ___Yersinia___ ___pestis___ in the Black Death following the disputed identification by Drancourt and ___Raoult___ in ___1998___. They assessed the presence of DNA / RNA with ___Polymerase___ Chain Reaction ( PCR ) techniques for ___Y.___ ___pestis___ from the ___tooth___ ___sockets___ in human ___skeletons___ from mass graves in northern, central and southern Europe that were associated archaeologically with the ___Black___ ___Death___ and subsequent resurgences. The authors concluded that this new research, together with prior analyses from the south of ___France___ and ___Germany___, \"... ends the debate about the etiology of the ___Black___ ___Death___, and unambiguously demonstrates that ___Y.___ ___pestis___ was the causative agent of the ___epidemic___ ___plague___ that devastated Europe during the ___Middle___ ___Ages___ \".\n",
      "Answers:\n",
      "['Polymerase', 'tooth', 'plague', 'pestis', '1998', 'France', 'PLoS', 'Yersinia', 'sockets', 'Death', 'epidemic', 'Germany', 'October', 'Middle', 'Y.', 'Ages', 'Raoult', 'Black', 'skeletons', 'Pathogens']\n",
      "The study also found that there were two previously unknown but related ___clades___ ( ___genetic___ ___branches___ ) of the ___Y.___ ___pestis___ ___genome___ associated with medieval mass graves. These ___clades___ ( which are thought to be extinct ) were found to be ancestral to modern isolates of the modern Y. ___pestis___ strains Y. p. orientalis and Y. p. medievalis, suggesting the ___plague___ may have entered Europe in two waves. Surveys of ___plague___ pit remains in ___France___ and England indicate the first variant entered Europe through the port of ___Marseille___ around November ___1347___ and spread through France over the next two years, eventually reaching ___England___ in the spring of ___1349___, where it spread through the country in three ___epidemics___. Surveys of ___plague___ pit remains from the Dutch town of ___Bergen___ op Zoom showed the ___Y.___ ___pestis___ genotype responsible for the pandemic that spread through the Low Countries from ___1350___ differed from that found in Britain and ___France___, implying ___Bergen___ ___op___ ___Zoom___ ( and possibly other parts of the southern ___Netherlands___ ) was not directly infected from ___England___ or ___France___ in ___1349___ and suggesting a second wave of ___plague___, different from those in Britain and ___France___, may have been carried to the Low Countries from Norway, the ___Hanseatic___ cities or another site.\n",
      "Answers:\n",
      "['genome', 'Marseille', 'op', 'Netherlands', 'Hanseatic', 'plague', 'pestis', 'France', 'Zoom', 'Bergen', '1347', '1349', 'Y.', '1350', 'branches', 'genetic', 'England', 'epidemics', 'clades']\n",
      "The results of the ___Haensch___ study have since been confirmed and amended. Based on genetic evidence derived from ___Black___ Death victims in the East ___Smithfield___ burial site in England, ___Schuenemann___ et al. concluded in ___2011___ \" that the ___Black___ Death in medieval Europe was caused by a variant of ___Y.___ ___pestis___ that may no longer exist. \" A study published in ___Nature___ in ___October___ 2011 sequenced the ___genome___ of ___Y.___ ___pestis___ from plague victims and indicated that the strain that caused the ___Black___ ___Death___ is ancestral to most modern strains of the ___disease___.\n",
      "Answers:\n",
      "['genome', 'Nature', 'Smithfield', 'Schuenemann', 'pestis', 'Black', 'disease', 'Death', 'Haensch', 'October', 'Y.', '2011']\n",
      "The ___plague___ theory was first significantly challenged by the work of British bacteriologist J. F. D. Shrewsbury in ___1970___, who noted that the reported rates of ___mortality___ in rural areas during the 14th - century ___pandemic___ were inconsistent with the modern ___bubonic___ ___plague___, leading him to conclude that contemporary accounts were exaggerations. In 1984 ___zoologist___ ___Graham___ ___Twigg___ produced the first major work to challenge the ___bubonic___ ___plague___ theory directly, and his doubts about the identity of the ___Black___ ___Death___ have been taken up by a number of authors, including Samuel K. ___Cohn___, ___Jr.___ ( 2002 ), David ___Herlihy___ ( 1997 ), and Susan Scott and Christopher ___Duncan___ ( 2001 ).\n",
      "Answers:\n",
      "['Cohn', 'Duncan', '1970', 'plague', 'Herlihy', 'zoologist', 'mortality', 'Death', 'bubonic', 'pandemic', 'Graham', 'Twigg', 'Black', 'Jr.']\n",
      "It is recognised that an ___epidemiological___ account of the ___plague___ is as important as an identification of ___symptoms___, but researchers are hampered by the lack of reliable statistics from this period. Most work has been done on the spread of the ___plague___ in ___England___, and even estimates of overall population at the start vary by over 100 % as no census was undertaken between the time of publication of the ___Domesday___ ___Book___ and the year ___1377___. Estimates of ___plague___ victims are usually extrapolated from figures from the clergy.\n",
      "Answers:\n",
      "['epidemiological', 'Book', 'plague', 'symptoms', 'Domesday', '1377', 'England']\n",
      "In addition to arguing that the ___rat___ population was insufficient to account for a ___bubonic___ ___plague___ ___pandemic___, sceptics of the ___bubonic___ ___plague___ theory point out that the symptoms of the ___Black___ ___Death___ are not unique ( and arguably in some accounts may differ from ___bubonic___ ___plague___ ); that transference via ___fleas___ in goods was likely to be of marginal significance; and that the DNA results may be flawed and might not have been repeated elsewhere, despite extensive samples from other mass graves. Other arguments include the lack of accounts of the death of ___rats___ before ___outbreaks___ of ___plague___ between the 14th and ___17th___ centuries; temperatures that are too cold in northern Europe for the survival of ___fleas___; that, despite primitive transport systems, the spread of the ___Black___ ___Death___ was much faster than that of modern ___bubonic___ ___plague___; that mortality rates of the ___Black___ ___Death___ appear to be very high; that, while modern ___bubonic___ ___plague___ is largely ___endemic___ as a rural ___disease___, the Black Death indiscriminately struck urban and rural areas; and that the pattern of the ___Black___ ___Death___, with major outbreaks in the same areas separated by 5 to ___15___ years, differs from modern ___bubonic___ ___plague___ — which often becomes ___endemic___ for decades with annual flare - ups.\n",
      "Answers:\n",
      "['plague', '17th', 'fleas', '15', 'disease', 'Death', 'bubonic', 'outbreaks', 'pandemic', 'rats', 'Black', 'endemic', 'rat']\n",
      "A variety of alternatives to the ___Y.___ ___pestis___ have been put forward. ___Twigg___ suggested that the cause was a form of ___anthrax___, and ___Norman___ ___Cantor___ ( 2001 ) thought it may have been a combination of ___anthrax___ and other ___pandemics___. ___Scott___ and ___Duncan___ have argued that the ___pandemic___ was a form of ___infectious___ ___disease___ that ___characterise___ as ___hemorrhagic___ ___plague___ similar to ___Ebola___. ___Archaeologist___ ___Barney___ ___Sloane___ has argued that there is insufficient evidence of the ___extinction___ of a large number of ___rats___ in the archaeological record of the medieval ___waterfront___ in ___London___ and that the ___plague___ spread too quickly to support the thesis that the ___Y.___ ___pestis___ was spread from ___fleas___ on ___rats___; he argues that transmission must have been person to person. However, no single alternative solution has achieved widespread acceptance. Many scholars arguing for the ___Y.___ ___pestis___ as the major agent of the ___pandemic___ suggest that its extent and symptoms can be explained by a combination of ___bubonic___ ___plague___ with other ___diseases___, including ___typhus___, ___smallpox___ and ___respiratory___ ___infections___. In addition to the ___bubonic___ ___infection___, others point to additional ___septicemic___ ( a type of \" ___blood___ ___poisoning___ \" ) and ___pneumonic___ ( an ___airborne___ ___plague___ that attacks the ___lungs___ before the rest of the body ) forms of the ___plague___, which lengthen the duration of ___outbreaks___ throughout the seasons and help account for its high mortality rate and additional recorded ___symptoms___. In ___2014___, scientists with Public Health England announced the results of an examination of ___25___ bodies exhumed from the ___Clerkenwell___ area of ___London___, as well as of ___wills___ registered in ___London___ during the period, which supported the ___pneumonic___ hypothesis.\n",
      "Answers:\n",
      "['Norman', 'Archaeologist', 'symptoms', 'septicemic', 'bubonic', 'Clerkenwell', 'respiratory', 'smallpox', 'Duncan', 'pestis', 'fleas', 'extinction', 'Sloane', 'pandemics', '2014', 'Twigg', 'characterise', 'Scott', 'anthrax', 'airborne', 'plague', 'Ebola', 'infection', 'Barney', 'disease', 'Y.', '25', 'diseases', 'rats', 'outbreaks', 'Cantor', 'waterfront', 'hemorrhagic', 'pneumonic', 'infections', 'poisoning', 'typhus', 'infectious', 'pandemic', 'wills', 'lungs', 'London', 'blood']\n",
      "The most widely accepted estimate for the Middle East, including Iraq, Iran and Syria, during this time, is for a death rate of about a third. The ___Black___ Death killed about 40 % of Egypt 's population. Half of ___Paris___ 's population of ___100,000___ people died. In ___Italy___, the population of ___Florence___ was reduced from ___110–120___ ___thousand___ inhabitants in ___1338___ down to 50 thousand in ___1351___. At least 60 % of the population of ___Hamburg___ and ___Bremen___ perished, and a similar percentage of ___Londoners___ may have died from the ___disease___ as well. Interestingly while contemporary reports account of mass ___burial___ ___pits___ being created in response to the large numbers of dead, recent scientific investigations of a burial ___pit___ in ___Central___ ___London___ found well - preserved individuals to be buried in isolated, evenly ___spaced___ graves, suggesting at least some pre - planning and Christian burials at this time. Before ___1350___, there were about ___170,000___ settlements in ___Germany___, and this was reduced by nearly ___40,000___ by ___1450___. In ___1348___, the ___plague___ spread so rapidly that before any physicians or government authorities had time to reflect upon its origins, about a third of the European population had already perished. In crowded cities, it was not uncommon for as much as ___50___ % of the population to die. The ___disease___ bypassed some areas, and the most isolated areas were less vulnerable to ___contagion___. ___Monks___ and priests were especially hard hit since they cared for victims of the ___Black___ ___Death___.\n",
      "Answers:\n",
      "['pit', '110–120', 'thousand', '50', 'Paris', 'spaced', 'Londoners', 'Death', 'Bremen', 'Italy', '1338', '40,000', '1351', 'plague', 'disease', 'Monks', 'contagion', 'Black', 'burial', '100,000', 'Florence', '170,000', 'Germany', 'pits', '1350', 'Hamburg', '1450', 'London', 'Central', '1348']\n",
      "The ___plague___ repeatedly returned to haunt Europe and the ___Mediterranean___ throughout the 14th to ___17th___ centuries. According to ___Biraben___, the ___plague___ was present somewhere in Europe in every year between ___1346___ and ___1671___. The Second ___Pandemic___ was particularly widespread in the following years : ___1360–63___; ___1374___; 1400; 1438–39; 1456–57; 1464–66; 1481–85; 1500–03; 1518–31; 1544–48; 1563–66; 1573–88; 1596–99; 1602–11; 1623–40; ___1644–54___; and 1664–67. Subsequent ___outbreaks___, though severe, marked the retreat from most of ___Europe___ ( 18th century ) and northern ___Africa___ ( 19th century ). According to ___Geoffrey___ ___Parker___, \" ___France___ alone lost almost a ___million___ people to the ___plague___ in the epidemic of ___1628–31___. \"\n",
      "Answers:\n",
      "['Biraben', '1346', 'plague', '1644–54', 'France', 'Africa', 'Mediterranean', 'million', '1628–31', '1671', '1360–63', 'Geoffrey', 'Pandemic', 'Parker', '1374', 'Europe', 'outbreaks', '17th']\n",
      "In ___England___, in the absence of census figures, historians propose a range of preincident population figures from as high as ___7___ ___million___ to as low as ___4___ ___million___ in ___1300___, and a postincident population figure as low as ___2___ ___million___. By the end of ___1350___, the ___Black___ Death subsided, but it never really died out in ___England___. Over the next few ___hundred___ years, further outbreaks occurred in ___1361–62___, ___1369___, ___1379–83___, ___1389–93___, and throughout the first half of the ___15th___ century. An ___outbreak___ in ___1471___ took as much as ___10–15___ % of the population, while the death rate of the ___plague___ of ___1479–80___ could have been as high as ___20___ %. The most general outbreaks in ___Tudor___ and ___Stuart___ England seem to have begun in ___1498___, ___1535___, ___1543___, ___1563___, ___1589___, ___1603___, ___1625___, and ___1636___, and ended with the Great ___Plague___ of London in ___1665___.\n",
      "Answers:\n",
      "['1543', '1636', '1369', '1498', '2', 'England', 'Tudor', '1300', '15th', '1535', 'Plague', '1379–83', 'hundred', '1361–62', 'plague', '1479–80', 'million', '1603', '1471', '20', '1563', '1665', 'Black', '7', '10–15', 'outbreak', '1589', 'Stuart', '1350', '4', '1625', '1389–93']\n",
      "In ___1466___, perhaps ___40,000___ people died of the ___plague___ in ___Paris___. During the ___16th___ and ___17th___ centuries, the ___plague___ was present in ___Paris___ around 30 per cent of the time. The ___Black___ Death ravaged Europe for three years before it continued on into ___Russia___, where the ___disease___ was present somewhere in the country 25 times between ___1350___ to ___1490___. ___Plague___ ___epidemics___ ravaged London in ___1563___, ___1593___, ___1603___, ___1625___, ___1636___, and ___1665___, reducing its population by 10 to 30 % during those years. Over 10 % of ___Amsterdam___ 's population died in ___1623–25___, and again in ___1635–36___, ___1655___, and ___1664___. ___Plague___ occurred in ___Venice___ 22 times between ___1361___ and ___1528___. The plague of ___1576–77___ killed ___50,000___ in ___Venice___, almost a third of the population. Late outbreaks in central Europe included the ___Italian___ ___Plague___ of ___1629–1631___, which is associated with troop movements during the ___Thirty___ Years ' War, and the Great ___Plague___ of ___Vienna___ in ___1679___. Over 60 % of ___Norway___ 's population died in ___1348–50___. The last ___plague___ outbreak ravaged ___Oslo___ in ___1654___.\n",
      "Answers:\n",
      "['Vienna', '1636', '1466', 'Paris', '1576–77', '1623–25', '1348–50', 'Amsterdam', '1664', 'Russia', '40,000', 'Plague', 'epidemics', '1629–1631', '16th', '1490', 'plague', '1654', '1603', '1528', 'disease', '1563', '1665', 'Thirty', 'Black', '50,000', '1655', '1679', 'Norway', '1593', '1635–36', 'Italian', '1361', 'Oslo', '1350', 'Venice', '1625', '17th']\n",
      "In the first half of the ___17th___ century, a ___plague___ claimed some ___1.7___ ___million___ victims in Italy, or about 14 % of the population. In ___1656___, the ___plague___ killed about half of ___Naples___ ' ___300,000___ inhabitants. More than ___1.25___ ___million___ deaths resulted from the extreme incidence of ___plague___ in 17th - century Spain. The ___plague___ of ___1649___ probably reduced the population of ___Seville___ by half. In ___1709–13___, a ___plague___ ___epidemic___ that followed the Great Northern War ( ___1700–21___, Sweden v. Russia and allies ) killed about ___100,000___ in Sweden, and ___300,000___ in ___Prussia___. The ___plague___ killed two - thirds of the inhabitants of ___Helsinki___, and claimed a third of ___Stockholm___ 's population. Europe 's last major epidemic occurred in ___1720___ in ___Marseille___.\n",
      "Answers:\n",
      "['Marseille', '300,000', '1709–13', '1656', 'plague', '17th', 'Seville', '100,000', 'million', 'Helsinki', 'Stockholm', 'epidemic', '1649', 'Naples', '1.25', 'Prussia', '1700–21', '1720', '1.7']\n",
      "The ___Black___ Death ravaged much of the Islamic world. ___Plague___ was present in at least one location in the Islamic world virtually every year between ___1500___ and ___1850___. ___Plague___ repeatedly struck the cities of North Africa. Algiers lost 30 to ___50___ ___thousand___ inhabitants to it in ___1620–21___, and again in ___1654–57___, ___1665___, ___1691___, and ___1740–42___. ___Plague___ remained a major event in ___Ottoman___ ___society___ until the second quarter of the 19th century. Between ___1701___ and ___1750___, thirty - seven larger and smaller ___epidemics___ were recorded in ___Constantinople___, and an additional thirty - one between ___1751___ and ___1800___. Baghdad has suffered severely from ___visitations___ of the ___plague___, and sometimes two - thirds of its population has been wiped out.\n",
      "Answers:\n",
      "['1701', '50', 'thousand', 'Ottoman', '1500', 'Plague', 'epidemics', '1620–21', '1850', '1751', 'plague', '1691', 'Constantinople', '1740–42', '1665', '1800', 'visitations', 'Black', 'society', '1654–57', '1750']\n"
     ]
    }
   ],
   "source": [
    "\n",
    "print('--------------- MY MODEL ---------------')\n",
    "# Pull out sample paragraph\n",
    "for p in arts[ind_ex_dev]['paragraphs']:\n",
    "    # # Print all AllenNLP classifications\n",
    "    # print([(a,b) for a,b in zip(p['allenNER']['words'].split(), p['allenNER']['tags'].split())])\n",
    "\n",
    "    # AllenNLP results\n",
    "    words = p['allenNER']['words'].split()\n",
    "    # tags = p['allenNER']['tags'].split()\n",
    "    # tags = [not t == '0' for t in tags]   # Convert to binary\n",
    "    tags = p['blank_classified_allen']\n",
    "\n",
    "    # Ground truth\n",
    "    blank_classification = p['blank_classification']\n",
    "\n",
    "    words_blanked_ground_truth = words2words_blanked(words,blank_classification)\n",
    "    words_blanked_allen = words2words_blanked(words,tags)\n",
    "    words_hash_ground_truth = words2words_hashblank(words,blank_classification)\n",
    "    words_hash_allen = words2words_hashblank(words,tags)\n",
    "    \n",
    "    # Blanked text\n",
    "    print(words2text(words_hash_allen))\n",
    "\n",
    "    # Answers    \n",
    "    myanswers = list(set(words2answers(words,tags)))\n",
    "    print(\"Answers:\")\n",
    "    print(myanswers)\n",
    "    \n",
    "\n",
    "    "
   ]
  },
  {
   "cell_type": "markdown",
   "metadata": {},
   "source": [
    "# All articles - compare blanks"
   ]
  },
  {
   "cell_type": "code",
   "execution_count": 85,
   "metadata": {},
   "outputs": [],
   "source": [
    "# Initialize stuff\n",
    "TPR0 = []\n",
    "FPR0 = []\n",
    "ACC0 = []\n",
    "Nsentences0 = []\n",
    "TP0 = []\n",
    "FP0 = []\n",
    "FN0 = []\n",
    "TN0 = []\n",
    "TPpersent0 = []\n",
    "FPpersent0 = []\n",
    "abads = []            # Article-level bads\n",
    "sbc0 = []\n",
    "st0 = []\n",
    "Nwords0 = []\n",
    "\n",
    "art = arts[:]\n",
    "\n",
    "i=-1\n",
    "for a in art:\n",
    "    i=i+1\n",
    "    # AllenNLP results\n",
    "    words = [w for p in a['paragraphs'] for w in p['allenNER']['words'].split()]\n",
    "#     tags = [t for p in a['paragraphs'] for t in p['allenNER']['tags'].split()]\n",
    "#     tags = [not t == '0' for t in tags]   # Convert to binary\n",
    "    tags = [t for p in a['paragraphs'] for t in p['blank_classified_allen']]\n",
    "\n",
    "    # Ground truth\n",
    "    blank_classification = [bc for p in a['paragraphs'] for bc in p['blank_classification']]\n",
    "    blank_classification = [b == 1 for b in blank_classification] # Convert to binary\n",
    "\n",
    "    Nsentences2 = len(text2sentences(words2text(words)))\n",
    "\n",
    "    sbc = sum(blank_classification)\n",
    "    st = sum(tags)\n",
    "    if sbc == 0 or st == 0:\n",
    "        print(\"Warning article {} contains {} ground truth blanks and {} tags. Likely bad\".format(str(i),str(sbc),str(st)))\n",
    "\n",
    "        # Make up some dummy values so don't confuse for a REAL outlier in plots. Should just drop this data in the future\n",
    "        # This is ok because we'll skip them later if want to do stats - that's what abads is for\n",
    "        TPR = 0.0\n",
    "        FPR = 0.0\n",
    "        ACC = 0.0\n",
    "        TP = 100\n",
    "        FP = 100\n",
    "        FN = 100\n",
    "        TN = 100\n",
    "\n",
    "        TPpersent = 1\n",
    "        FPpersent = 1\n",
    "        abads.append(i)\n",
    "    else:\n",
    "        TP = sum([b and t for b,t in zip(blank_classification,tags)])\n",
    "        FP = sum([not b and t for b,t in zip(blank_classification,tags)])\n",
    "        FN = sum([b and not t for b,t in zip(blank_classification,tags)])\n",
    "        TN = sum([not b and not t for b,t in zip(blank_classification,tags)])\n",
    "        ACC = (TP+TN)/(TP+FP+FN+TN)\n",
    "        ACC2 = sum([b == t for b,t in zip(blank_classification,tags)]) / len(tags)\n",
    "\n",
    "        # Sensitivity, hit rate, recall, or true positive rate\n",
    "        TPR = TP/(TP+FN)\n",
    "        # Specificity or true negative rate\n",
    "        TNR = TN/(TN+FP)\n",
    "        # Precision or positive predictive value\n",
    "        PPV = TP/(TP+FP)\n",
    "        # Negative predictive value\n",
    "        NPV = TN/(TN+FN)\n",
    "        # Fall out or false positive rate\n",
    "        FPR = FP/(FP+TN)\n",
    "        # False negative rate\n",
    "        FNR = FN/(TP+FN)\n",
    "        # False discovery rate\n",
    "        FDR = FP/(TP+FP)\n",
    "\n",
    "        # Per sententance values\n",
    "        TPpersent = TP / Nsentences2\n",
    "        FPpersent = FP / Nsentences2\n",
    "\n",
    "    TPR0.append(TPR)\n",
    "    FPR0.append(FPR)\n",
    "    ACC0.append(ACC)\n",
    "    TP0.append(TP)\n",
    "    FP0.append(FP)\n",
    "    FN0.append(FN)\n",
    "    TN0.append(TN)\n",
    "    TPpersent0.append(TPpersent)\n",
    "    FPpersent0.append(FPpersent)\n",
    "    sbc0.append(sbc)\n",
    "    st0.append(st)\n",
    "    Nwords0.append(len(tags))"
   ]
  },
  {
   "cell_type": "code",
   "execution_count": 86,
   "metadata": {},
   "outputs": [],
   "source": [
    "# Print tiles of bad articles\n",
    "for ab in abads:\n",
    "    print(art[ab]['title'])"
   ]
  },
  {
   "cell_type": "code",
   "execution_count": 87,
   "metadata": {},
   "outputs": [
    {
     "name": "stdout",
     "output_type": "stream",
     "text": [
      "Ntrain=20\n",
      "Ndev=35\n",
      "Ntrain_bad=0\n",
      "Ndev_bad=0\n"
     ]
    }
   ],
   "source": [
    "# Calculate how this affects Ntrain / Ndev\n",
    "Ntrain_bad = len([b for b in abads if b < Ntrain])\n",
    "Ndev_bad = len([b for b in abads if b >= Ntrain])\n",
    "print('Ntrain={}'.format(str(Ntrain)))\n",
    "print('Ndev={}'.format(str(Ndev)))\n",
    "print('Ntrain_bad={}'.format(str(Ntrain_bad)))\n",
    "print('Ndev_bad={}'.format(str(Ndev_bad)))\n",
    "\n",
    "\n"
   ]
  },
  {
   "cell_type": "markdown",
   "metadata": {},
   "source": [
    "## Plot TPR"
   ]
  },
  {
   "cell_type": "code",
   "execution_count": 88,
   "metadata": {},
   "outputs": [
    {
     "data": {
      "image/png": "[encoded data removed]",
      "text/plain": [
       "<Figure size 1080x288 with 1 Axes>"
      ]
     },
     "metadata": {},
     "output_type": "display_data"
    },
    {
     "data": {
      "image/png": "[encoded data removed]",
      "text/plain": [
       "<Figure size 1080x288 with 2 Axes>"
      ]
     },
     "metadata": {
      "needs_background": "light"
     },
     "output_type": "display_data"
    }
   ],
   "source": [
    "myvar = TPR0\n",
    "varname = 'TPR'\n",
    "\n",
    "# Plot bargraph\n",
    "plotbar_train_dev2(myvar,Ntrain,Ndev,ylabel='{} per article'.format(varname),xlabel='Article #')\n",
    "\n",
    "# # # Plot the histogram without containing any bads\n",
    "# myvar without the bad articles\n",
    "myvar2 = [tp for i, tp in enumerate(myvar) if i not in abads]\n",
    "\n",
    "# Plot the histogram\n",
    "ax = plothist_train_dev2(myvar2,Ntrain-Ntrain_bad,Ndev-Ndev_bad,xlabel=varname,ylabel='N Articles',devbins='auto')\n",
    "set(ax['ax1'].set_xlim(0,1));\n",
    "set(ax['ax2'].set_xlim(0,1));\n",
    "\n"
   ]
  },
  {
   "cell_type": "markdown",
   "metadata": {},
   "source": [
    "## Plot FPR"
   ]
  },
  {
   "cell_type": "code",
   "execution_count": 89,
   "metadata": {},
   "outputs": [
    {
     "data": {
      "image/png": "[encoded data removed]",
      "text/plain": [
       "<Figure size 1080x288 with 1 Axes>"
      ]
     },
     "metadata": {},
     "output_type": "display_data"
    },
    {
     "data": {
      "image/png": "[encoded data removed]",
      "text/plain": [
       "<Figure size 1080x288 with 2 Axes>"
      ]
     },
     "metadata": {
      "needs_background": "light"
     },
     "output_type": "display_data"
    },
    {
     "data": {
      "image/png": "[encoded data removed]",
      "text/plain": [
       "<Figure size 1080x288 with 2 Axes>"
      ]
     },
     "metadata": {
      "needs_background": "light"
     },
     "output_type": "display_data"
    }
   ],
   "source": [
    "myvar = FPR0\n",
    "varname = 'FPR'\n",
    "\n",
    "# Plot bargraph\n",
    "plotbar_train_dev2(myvar,Ntrain,Ndev,ylabel='{} per article'.format(varname),xlabel='Article #')\n",
    "\n",
    "# # # Plot the histogram without containing any bads\n",
    "# myvar without the bad articles\n",
    "myvar2 = [tp for i, tp in enumerate(myvar) if i not in abads]\n",
    "\n",
    "# REdefine for plotting with with more decimal places\n",
    "def plothist_train_dev2(myvar,Ntrain,Ndev,xlabel='value',ylabel='N Articles',devbins=30):\n",
    "    # Import fig stuff\n",
    "    import matplotlib.pyplot as plt\n",
    "    from matplotlib.pyplot import figure\n",
    "    import statistics\n",
    "\n",
    "    f, (ax1, ax2) = plt.subplots(1, 2, sharey=False,figsize=(15, 4));\n",
    "    ax1.hist(myvar[0:Ntrain-1], bins=30);  # arguments are passed to np.histogram\n",
    "    ax1.set_title(\"Narticles={}, median={}, mean={}\".format(str(Ntrain),'{0:.4f}'.format(statistics.median(myvar[0:Ntrain-1])),'{0:.2f}'.format(statistics.mean(myvar[0:Ntrain-1]))));\n",
    "    ax1.set_ylabel('N Articles');\n",
    "    ax1.set_xlabel(xlabel);\n",
    "\n",
    "    ax2.hist(myvar[Ntrain:], bins=devbins);  # arguments are passed to np.histogram\n",
    "    ax2.set_title(\"Narticles={}, median={}, mean={}\".format(str(Ndev),'{0:.4f}'.format(statistics.median(myvar[Ntrain:])),'{0:.2f}'.format(statistics.mean(myvar[Ntrain:]))));\n",
    "    ax2.set_xlabel(xlabel);\n",
    "    return {'ax1': ax1, 'ax2':ax2}\n",
    "\n",
    "\n",
    "# Plot the histogram\n",
    "ax = plothist_train_dev2(myvar2,Ntrain-Ntrain_bad,Ndev-Ndev_bad,xlabel=varname,ylabel='N Articles',devbins='auto')\n",
    "ax = plothist_train_dev2(myvar,Ntrain,Ndev,xlabel=varname,ylabel='N Articles',devbins='auto')\n",
    "# set(ax['ax1'].set_xlim(0,1));\n",
    "# set(ax['ax2'].set_xlim(0,1));\n",
    "\n"
   ]
  },
  {
   "cell_type": "markdown",
   "metadata": {},
   "source": [
    "## Plot ACC"
   ]
  },
  {
   "cell_type": "code",
   "execution_count": 90,
   "metadata": {},
   "outputs": [
    {
     "data": {
      "image/png": "[encoded data removed]",
      "text/plain": [
       "<Figure size 1080x288 with 1 Axes>"
      ]
     },
     "metadata": {},
     "output_type": "display_data"
    },
    {
     "data": {
      "image/png": "[encoded data removed]",
      "text/plain": [
       "<Figure size 1080x288 with 2 Axes>"
      ]
     },
     "metadata": {
      "needs_background": "light"
     },
     "output_type": "display_data"
    }
   ],
   "source": [
    "myvar = ACC0\n",
    "varname = 'Accuracy'\n",
    "\n",
    "# Plot bargraph\n",
    "plotbar_train_dev2(myvar,Ntrain,Ndev,ylabel='{} per article'.format(varname),xlabel='Article #')\n",
    "\n",
    "# # # Plot the histogram without containing any bads\n",
    "# myvar without the bad articles\n",
    "myvar2 = [tp for i, tp in enumerate(myvar) if i not in abads]\n",
    "\n",
    "# Plot the histogram\n",
    "ax = plothist_train_dev2(myvar2,Ntrain-Ntrain_bad,Ndev-Ndev_bad,xlabel=varname,ylabel='N Articles',devbins='auto')\n",
    "set(ax['ax1'].set_xlim(0,1));\n",
    "set(ax['ax2'].set_xlim(0,1));\n",
    "\n"
   ]
  },
  {
   "cell_type": "markdown",
   "metadata": {},
   "source": [
    "## Plot True positives per sentence"
   ]
  },
  {
   "cell_type": "code",
   "execution_count": 91,
   "metadata": {},
   "outputs": [
    {
     "data": {
      "image/png": "[encoded data removed]",
      "text/plain": [
       "<Figure size 1080x288 with 1 Axes>"
      ]
     },
     "metadata": {},
     "output_type": "display_data"
    },
    {
     "data": {
      "image/png": "[encoded data removed]",
      "text/plain": [
       "<Figure size 1080x288 with 2 Axes>"
      ]
     },
     "metadata": {
      "needs_background": "light"
     },
     "output_type": "display_data"
    }
   ],
   "source": [
    "myvar = TPpersent0\n",
    "varname = 'True positives per sentence'\n",
    "\n",
    "# Plot bargraph\n",
    "plotbar_train_dev2(myvar,Ntrain,Ndev,ylabel='{}'.format(varname),xlabel='Article #')\n",
    "\n",
    "# # # Plot the histogram without containing any bads\n",
    "# myvar without the bad articles\n",
    "myvar2 = [tp for i, tp in enumerate(myvar) if i not in abads]\n",
    "\n",
    "# Plot the histogram\n",
    "ax = plothist_train_dev2(myvar2,Ntrain-Ntrain_bad,Ndev-Ndev_bad,xlabel=varname,ylabel='N Articles',devbins='auto')\n",
    "# set(ax['ax1'].set_xlim(0,1));\n",
    "# set(ax['ax2'].set_xlim(0,1));\n",
    "\n"
   ]
  },
  {
   "cell_type": "markdown",
   "metadata": {},
   "source": [
    "## Plot False positives per sentence"
   ]
  },
  {
   "cell_type": "code",
   "execution_count": 92,
   "metadata": {},
   "outputs": [
    {
     "data": {
      "image/png": "[encoded data removed]",
      "text/plain": [
       "<Figure size 1080x288 with 1 Axes>"
      ]
     },
     "metadata": {},
     "output_type": "display_data"
    },
    {
     "data": {
      "image/png": "[encoded data removed]",
      "text/plain": [
       "<Figure size 1080x288 with 2 Axes>"
      ]
     },
     "metadata": {
      "needs_background": "light"
     },
     "output_type": "display_data"
    }
   ],
   "source": [
    "myvar = FPpersent0\n",
    "varname = 'False positives per sentence'\n",
    "\n",
    "# Plot bargraph\n",
    "plotbar_train_dev2(myvar,Ntrain,Ndev,ylabel='{}'.format(varname),xlabel='Article #')\n",
    "\n",
    "# # # Plot the histogram without containing any bads\n",
    "# myvar without the bad articles\n",
    "myvar2 = [tp for i, tp in enumerate(myvar) if i not in abads]\n",
    "\n",
    "# Plot the histogram\n",
    "ax = plothist_train_dev2(myvar2,Ntrain-Ntrain_bad,Ndev-Ndev_bad,xlabel=varname,ylabel='N Articles',devbins='auto')\n",
    "# set(ax['ax1'].set_xlim(0,1));\n",
    "# set(ax['ax2'].set_xlim(0,1));\n",
    "\n"
   ]
  },
  {
   "cell_type": "markdown",
   "metadata": {},
   "source": [
    "## Find articles containing a lot of true positives"
   ]
  },
  {
   "cell_type": "code",
   "execution_count": 93,
   "metadata": {},
   "outputs": [
    {
     "name": "stdout",
     "output_type": "stream",
     "text": [
      "34\n",
      "Article #54\n",
      "Computational_complexity_theory\n",
      "True positive rate: 0.20930232558139536\n"
     ]
    }
   ],
   "source": [
    "\n",
    "# Inds of all articles >0.4 TPR\n",
    "inds = [i for i,x in enumerate(TPR0) if x >=0.08]\n",
    "\n",
    "# Inds of all articles >0.4 TPR and in dev dataset\n",
    "inds = [i for i,x in enumerate(TPR0) if x >=0.08 and x < 1.0 and i > Ntrain and i not in abads]\n",
    "\n",
    "print(len(inds))\n",
    "chosen_ind = inds[0]\n",
    "print('Article #{}'.format(str(i)))\n",
    "print(arts[chosen_ind]['title'])\n",
    "print('True positive rate: {}'.format(str(TPR0[chosen_ind])))"
   ]
  },
  {
   "cell_type": "code",
   "execution_count": 94,
   "metadata": {},
   "outputs": [
    {
     "name": "stdout",
     "output_type": "stream",
     "text": [
      "Computational_complexity_theory\n"
     ]
    }
   ],
   "source": [
    "# Pull out sample paragraph\n",
    "a = arts[chosen_ind]\n",
    "print(a['title'])\n",
    "\n",
    "# AllenNLP results\n",
    "words = [w for p in a['paragraphs'] for w in p['allenNER']['words'].split()]\n",
    "# tags = [t for p in a['paragraphs'] for t in p['allenNER']['tags'].split()]\n",
    "# tags = [not t == '0' for t in tags]   # Convert to binary\n",
    "tags = [t for p in a['paragraphs'] for t in p['blank_classified_allen']]\n",
    "\n",
    "# Ground truth\n",
    "blank_classification = [bc for p in a['paragraphs'] for bc in p['blank_classification']]"
   ]
  },
  {
   "cell_type": "code",
   "execution_count": 95,
   "metadata": {},
   "outputs": [
    {
     "name": "stdout",
     "output_type": "stream",
     "text": [
      "============\t\t\t==========\n",
      "Ground truth\t\t\tPrediction\n",
      "============\t\t\t==========\n",
      "______\t\t\t\tComputational\n",
      "complexity\t\t\t\tcomplexity\n",
      "theory\t\t\t\ttheory\n",
      "is\t\t\t\tis\n",
      "a\t\t\t\ta\n",
      "branch\t\t\t\tbranch\n",
      "of\t\t\t\tof\n",
      "the\t\t\t\tthe\n",
      "theory\t\t\t\ttheory\n",
      "of\t\t\t\tof\n",
      "computation\t\t\t\tcomputation\n",
      "in\t\t\t\tin\n",
      "theoretical\t\t\t\ttheoretical\n",
      "computer\t\t\t\tcomputer\n",
      "science\t\t\t\tscience\n",
      "that\t\t\t\tthat\n",
      "focuses\t\t\t\tfocuses\n",
      "on\t\t\t\ton\n",
      "classifying\t\t\t\tclassifying\n",
      "______\t\t\t\t______\n"
     ]
    }
   ],
   "source": [
    "# Side by side compare\n",
    "\n",
    "words_blanked_ground_truth = words2words_blanked(words,blank_classification)\n",
    "words_blanked_allen = words2words_blanked(words,tags)\n",
    "\n",
    "N=len(words_blanked_ground_truth)\n",
    "N=20\n",
    "print(\"============\" + '\\t\\t\\t' + \"==========\")\n",
    "print(\"Ground truth\" + '\\t\\t\\t' + \"Prediction\")\n",
    "print(\"============\" + '\\t\\t\\t' + \"==========\")\n",
    "for c,w in zip(words_blanked_ground_truth[:N],words_blanked_allen[:N]):\n",
    "    print(c + '\\t\\t\\t\\t' + w)\n"
   ]
  },
  {
   "cell_type": "markdown",
   "metadata": {},
   "source": [
    "## Ground truth blanked"
   ]
  },
  {
   "cell_type": "code",
   "execution_count": 96,
   "metadata": {},
   "outputs": [
    {
     "name": "stdout",
     "output_type": "stream",
     "text": [
      "Answers:\n",
      "{'integer', 'resources', 'Interactive', 'bounding', 'reversed', 'taken', 'branching', 'mathematical', '1965', '1', 'lower', 'bitstrings', 'Problems', 'written', 'complexity', 'isomorphism', 'function', 'NC', 'yes', 'L', 'arbitrary', 'size', 'thesis', 'machines', 'models', 'notation', 'theory', 'instance', 'foundations', 'quantum', 'memory', 'multiplication', 'proper', 'space', 'adjacency', 'Turing', 'bits', 'Algorithms', 'efficient', 'solutions', 'inherent', 'inputs', 'arithmetic', 'Decision', 'decision', 'problems', 'framework', 'worst', 'polynomial', 'algorithms', 'complicated', 'P', 'NP', 'language', 'measures', 'machine', 'definitions', 'triple', 'another', 'theorem', 'Ladner', 'computational', 'instances', 'symbols', 'transitions', 'time', 'probabilistic', 'reductions', 'equal', 'encoding', 'Presburger', 'reduction', 'complex', 'RSA', 'Yamada', 'possible', 'alphabet', 'suspected', 'solution', 'unusual', 'upper', 'gates', '21', 'Blum', 'graph', '2000', 'model', '0', 'Cobham', 'randomized', 'quantitative', 'number', 'reduces', 'intractable', 'output', 'difficulty', 'bounds', 'second', 'level', 'formal', 'Boolean', 'single', 'John', 'statements', 'quicksort', 'linear', 'Myhill', 'resource', '1936', 'measure', 'power', 'deterministic', 'input', 'knapsack', 'rules', 'classes', 'storage', 'unequal', 'hierarchy', 'triples', 'Complexity', 'Computational', 'Alan', 'abstract', 'binary', 'NL', '1961', 'analysis', 'computability', 'matrices', 'problem', 'deterministically', 'laid', 'computer', 'algorithm', 'state', 'concrete', 'computers', 'set', 'computation', 'EXPTIME', 'bound', 'PSPACE', 'types', 'Manuel', 'Hisao', 'factorization'}\n"
     ]
    }
   ],
   "source": [
    "# Blanked text\n",
    "# print(words2text(words_blanked_ground_truth))\n",
    "\n",
    "# Answers    \n",
    "myanswers = words2answers(words,blank_classification)\n",
    "print(\"Answers:\")\n",
    "print(set(myanswers))"
   ]
  },
  {
   "cell_type": "code",
   "execution_count": 97,
   "metadata": {},
   "outputs": [
    {
     "name": "stdout",
     "output_type": "stream",
     "text": [
      "Answers:\n",
      "{'Interactive', 'Trakhtenbrot', 'Richard', 'DTIME(n', '1010', 'isomorphic', 'Laszlo', 'f(n', 'Eugene', 'bitstrings', 'Problems', 'pivoting', 'isomorphism', 'complexity', 'PH', 'Stearns', 'NC', 'yes', 'inclusions', 'L', '1971', 'paper', 'branches', '1972', 'FP', 'DTIME(f(n', 'xx', 'Karp', 'machines', 'notation', 'processors', 'intractability', 'theory', 'foundations', 'quantum', 'multiplication', 'Y', 'space', 'adjacency', 'Boris', 'algorithmic', 'Turing', 'Algorithms', 'Babai', 'automata', 'C.', 'arithmetic', 'polynomial', 'algorithms', 'O(n', 'Edmonds', 'NP', 'P', 'SAT', 'machine', 'pencil', '2)1/3(log', 'biology', 'Ladner', 'Cook', '1.2', 'computational', '2))2/3', 'QMA', 'IP', 'probabilistic', 'ZPP', 'Shor', 'Goldreich', 'theorems', 'supercomputer', 'Presburger', 'RSA', 'Yamada', '2n', 'alphabet', 'satisfiability', '0,1', 'computing', 'DTIME(n2', 'intuition', 'solvers', '1962', 'Blum', 'Hartmanis', 'graph', 'strict', 'Homer', 'Fortnow', 'T(n', 'Π1', 'n15', 'log', '0', 'Cobham', 'Levin', 'P.', 'BPP', 'RAM', 'Luks', 'communication', 'primality', 'n.log', 'cryptographic', 'Boolean', 'Y.', '1956', 'quicksort', 'tree', 'Leonid', 'Myhill', 'realizable', 'sieve', 'Reducibility', '1936', 'salesman', 'logarithmic', 'BQP', '×', 'Combinatorial', 'M', '1012', 'deterministic', 'Conway', 'storage', 'hierarchy', '2O(√(n', 'Π2', 'Computational', 'Alan', 'NL', '15', '1961', 'computability', 'RP', 'Milan', 'matrices', 'O(n2', 'Stephen', 'computer', 'X.', 'Church', 'algorithm', 'USSR', 'n.', 'circuits', 'concrete', 'utterance', 'computation', 'log(n', 'EXPTIME', 'logarithm', 'PSPACE', '≠', 'Manuel', 'Hisao', '1,000,000', 'factorization'}\n"
     ]
    }
   ],
   "source": [
    "# Blanked text\n",
    "# print(words2text(words_blanked_allen))\n",
    "\n",
    "# Answers    \n",
    "myanswers = words2answers(words,tags)\n",
    "print(\"Answers:\")\n",
    "print(set(myanswers))"
   ]
  },
  {
   "cell_type": "markdown",
   "metadata": {},
   "source": [
    "# All paragraphs - compare blanks"
   ]
  },
  {
   "cell_type": "code",
   "execution_count": 98,
   "metadata": {},
   "outputs": [],
   "source": [
    "# Initialize stuff\n",
    "TPR0 = []\n",
    "FPR0 = []\n",
    "ACC0 = []\n",
    "Nsentences0 = []\n",
    "TP0 = []\n",
    "FP0 = []\n",
    "FN0 = []\n",
    "TN0 = []\n",
    "TPpersent0 = []\n",
    "FPpersent0 = []\n",
    "abads = []\n",
    "indices = {'i':[],'j':[],'k':[]}\n",
    "\n",
    "art = arts[:]\n",
    "\n",
    "\n",
    "# Only track true positives and false positive to avoid having to deal with other annoying edge cases\n",
    "i=-1\n",
    "k=-1\n",
    "Ntrainp = 0\n",
    "Ndevp=0\n",
    "for a in art:\n",
    "    i=i+1\n",
    "    j=-1\n",
    "    for p in a['paragraphs']:\n",
    "        j=j+1\n",
    "        k=k+1\n",
    "        if i < Ntrain: Ntrainp=Ntrainp+1;\n",
    "        else: Ndevp = Ndevp+1\n",
    "        # AllenNLP results\n",
    "        words = [w for w in p['allenNER']['words'].split()]\n",
    "        tags = [t for t in p['allenNER']['tags'].split()]\n",
    "        tags = [not t == '0' for t in tags]   # Convert to binary\n",
    "\n",
    "        # Ground truth\n",
    "        blank_classification = [bc for bc in p['blank_classification']]\n",
    "        blank_classification = [b == 1 for b in blank_classification] # Convert to binary\n",
    "\n",
    "        Nsentences2 = len(text2sentences(words2text(words)))\n",
    "\n",
    "        sbc = sum(blank_classification)\n",
    "        st = sum(tags)\n",
    "        if sbc == 0:\n",
    "            #print(\"Warning article {}, paragraph P{} contains {} ground truth blanks and {} tags. Likely bad\".format(str(i),str(j),str(sbc),str(st)))\n",
    "\n",
    "            # Make up some dummy values so don't confuse for a REAL outlier in plots. Should just drop this data in the future\n",
    "            # This is ok because we'll skip them later if want to do stats - that's what bads is for\n",
    "            TPR = 0.7\n",
    "            FNR = 0.7\n",
    "            ACC = 0.7\n",
    "            TP = 100\n",
    "            FP = 100\n",
    "            FN = 100\n",
    "            TN = 100\n",
    "            TPpersent = 1\n",
    "            FPpersent = 1\n",
    "            abads.append(k)       # kth paragraph is bad\n",
    "        else:\n",
    "            TP = sum([b and t for b,t in zip(blank_classification,tags)])\n",
    "            FP = sum([not b and t for b,t in zip(blank_classification,tags)])\n",
    "            FN = sum([b and not t for b,t in zip(blank_classification,tags)])\n",
    "            TN = sum([not b and not t for b,t in zip(blank_classification,tags)])\n",
    "#             ACC = (TP+TN)/(TP+FP+FN+TN)\n",
    "            ACC = sum([b == t for b,t in zip(blank_classification,tags)]) / len(tags)\n",
    "\n",
    "            # Sensitivity, hit rate, recall, or true positive rate\n",
    "            TPR = TP/(TP+FN)\n",
    "#             # Specificity or true negative rate\n",
    "#             TNR = TN/(TN+FP) \n",
    "#             # Precision or positive predictive value\n",
    "#             PPV = TP/(TP+FP)\n",
    "#             # Negative predictive value\n",
    "#             NPV = TN/(TN+FN)\n",
    "#             # Fall out or false positive rate\n",
    "#             FPR = FP/(FP+TN)\n",
    "            # False negative rate\n",
    "            FNR = FN/(TP+FN)\n",
    "#             # False discovery rate\n",
    "#             FDR = FP/(TP+FP)\n",
    "\n",
    "            # Per sententance values\n",
    "            TPpersent = TP / Nsentences2\n",
    "            FPpersent = FP / Nsentences2\n",
    "    \n",
    "        TPR0.append(TPR)\n",
    "        FPR0.append(FPR)\n",
    "        ACC0.append(ACC)\n",
    "        TP0.append(TP)\n",
    "        FP0.append(FP)\n",
    "        FN0.append(FN)\n",
    "        TN0.append(TN)\n",
    "        TPpersent0.append(TPpersent)\n",
    "        FPpersent0.append(FPpersent)\n",
    "        indices['i'].append(i)\n",
    "        indices['j'].append(j)\n",
    "        indices['k'].append(k)\n",
    "\n"
   ]
  },
  {
   "cell_type": "code",
   "execution_count": 99,
   "metadata": {},
   "outputs": [
    {
     "data": {
      "text/plain": [
       "[0.05437082858538173,\n",
       " 0.05437082858538173,\n",
       " 0.05437082858538173,\n",
       " 0.05437082858538173,\n",
       " 0.05437082858538173,\n",
       " 0.05437082858538173,\n",
       " 0.05437082858538173,\n",
       " 0.05437082858538173,\n",
       " 0.05437082858538173,\n",
       " 0.05437082858538173]"
      ]
     },
     "execution_count": 99,
     "metadata": {},
     "output_type": "execute_result"
    }
   ],
   "source": [
    "FPR0[0:10]"
   ]
  },
  {
   "cell_type": "code",
   "execution_count": 100,
   "metadata": {},
   "outputs": [],
   "source": [
    "# # # Plot the histogram without containing any bads\n",
    "# Calculate how this affects Ntrain / Ndev\n",
    "Ntrainp_bad = len([b for b in abads if b < Ntrainp])\n",
    "Ndevp_bad = len([b for b in abads if b >= Ntrainp])\n"
   ]
  },
  {
   "cell_type": "code",
   "execution_count": 101,
   "metadata": {},
   "outputs": [
    {
     "name": "stdout",
     "output_type": "stream",
     "text": [
      "1400\n",
      "1204\n",
      "55\n",
      "13\n"
     ]
    }
   ],
   "source": [
    "print(Ntrainp)\n",
    "print(Ndevp)\n",
    "print(Ntrainp_bad)\n",
    "print(Ndevp_bad)\n",
    "max(abads)\n",
    "len(FN0)\n",
    "\n",
    "x = []\n",
    "for a in abads:\n",
    "    x.append(TPR0[a])\n"
   ]
  },
  {
   "cell_type": "markdown",
   "metadata": {},
   "source": [
    "## Plot TPR"
   ]
  },
  {
   "cell_type": "code",
   "execution_count": 102,
   "metadata": {},
   "outputs": [
    {
     "data": {
      "image/png": "[encoded data removed]",
      "text/plain": [
       "<Figure size 1080x288 with 2 Axes>"
      ]
     },
     "metadata": {
      "needs_background": "light"
     },
     "output_type": "display_data"
    }
   ],
   "source": [
    "myvar = TPR0\n",
    "varname = 'TPR'\n",
    "\n",
    "# Plot bargraph (Don't plot figure for each paragraph!)\n",
    "# plotbar_train_dev2(myvar,Ntrain,Ndev,ylabel='{}'.format(varname),xlabel='Article #')\n",
    "\n",
    "# # # Plot the histogram without containing any bads\n",
    "# myvar without the bad articles\n",
    "myvar2 = [tp for i, tp in enumerate(myvar) if i not in abads]\n",
    "\n",
    "# Plot the histogram\n",
    "ax = plothist_train_dev2(myvar2,Ntrainp-Ntrainp_bad,Ndevp-Ndevp_bad,xlabel=varname,ylabel='N Articles',devbins='auto')\n",
    "# set(ax['ax1'].set_xlim(0,1));\n",
    "# set(ax['ax2'].set_xlim(0,1));\n",
    "\n"
   ]
  },
  {
   "cell_type": "markdown",
   "metadata": {},
   "source": [
    "## Find paragraphs containing a lot of true positives"
   ]
  },
  {
   "cell_type": "code",
   "execution_count": 103,
   "metadata": {},
   "outputs": [
    {
     "name": "stdout",
     "output_type": "stream",
     "text": [
      "595\n",
      "Article #20 paragraph #1\n",
      "Normans\n",
      "True positive rate: 0.7142857142857143\n"
     ]
    }
   ],
   "source": [
    "\n",
    "# Inds of all articles >0.4 TPR\n",
    "inds = [i for i,x in enumerate(TPR0) if x >=0.6]\n",
    "\n",
    "# Inds of all articles >0.4 TPR and in dev dataset\n",
    "inds = [i for i,x in enumerate(TPR0) if x >=0.4 and x < 1.0 and i > Ntrainp and i not in abads]\n",
    "\n",
    "print(len(inds))\n",
    "chosen_ind = inds[0]\n",
    "i = indices['i'][chosen_ind]\n",
    "j = indices['j'][chosen_ind]\n",
    "k = indices['k'][chosen_ind]\n",
    "print('Article #{} paragraph #{}'.format(str(i),str(j)))\n",
    "print(arts[i]['title'])\n",
    "print('True positive rate: {}'.format(str(TPR0[chosen_ind])))"
   ]
  },
  {
   "cell_type": "code",
   "execution_count": 104,
   "metadata": {},
   "outputs": [],
   "source": [
    "# Pull out sample paragraph\n",
    "p = arts[i]['paragraphs'][j]\n",
    "\n",
    "# AllenNLP results\n",
    "words = p['allenNER']['words'].split()\n",
    "# tags = p['allenNER']['tags'].split()\n",
    "# tags = [not t == '0' for t in tags]   # Convert to binary\n",
    "tags = p['blank_classified_allen']\n",
    "\n",
    "# Ground truth\n",
    "blank_classification = p['blank_classification']"
   ]
  },
  {
   "cell_type": "code",
   "execution_count": 105,
   "metadata": {},
   "outputs": [
    {
     "name": "stdout",
     "output_type": "stream",
     "text": [
      "============\t\t\t==========\n",
      "Ground truth\t\t\tPrediction\n",
      "============\t\t\t==========\n",
      "The\t\t\t\tThe\n",
      "Norman\t\t\t\t______\n",
      "dynasty\t\t\t\tdynasty\n",
      "had\t\t\t\thad\n",
      "a\t\t\t\ta\n",
      "major\t\t\t\tmajor\n",
      "political\t\t\t\tpolitical\n",
      ",\t\t\t\t,\n",
      "cultural\t\t\t\tcultural\n",
      "and\t\t\t\tand\n",
      "military\t\t\t\tmilitary\n",
      "impact\t\t\t\timpact\n",
      "on\t\t\t\ton\n",
      "medieval\t\t\t\tmedieval\n",
      "Europe\t\t\t\tEurope\n",
      "and\t\t\t\tand\n",
      "even\t\t\t\teven\n",
      "the\t\t\t\tthe\n",
      "Near\t\t\t\t______\n",
      "East\t\t\t\t______\n"
     ]
    }
   ],
   "source": [
    "# Side by side compare\n",
    "\n",
    "words_blanked_ground_truth = words2words_blanked(words,blank_classification)\n",
    "words_blanked_allen = words2words_blanked(words,tags)\n",
    "\n",
    "N=len(words_blanked_ground_truth)\n",
    "N=20\n",
    "print(\"============\" + '\\t\\t\\t' + \"==========\")\n",
    "print(\"Ground truth\" + '\\t\\t\\t' + \"Prediction\")\n",
    "print(\"============\" + '\\t\\t\\t' + \"==========\")\n",
    "for c,w in zip(words_blanked_ground_truth[:N],words_blanked_allen[:N]):\n",
    "    print(c + '\\t\\t\\t\\t' + w)\n"
   ]
  },
  {
   "cell_type": "markdown",
   "metadata": {},
   "source": [
    "## Ground truth blanked"
   ]
  },
  {
   "cell_type": "code",
   "execution_count": 106,
   "metadata": {},
   "outputs": [
    {
     "name": "stdout",
     "output_type": "stream",
     "text": [
      "The Norman dynasty had a major political, cultural and military impact on medieval Europe and even the Near East. The Normans were famed for their martial spirit and eventually for their Christian piety, becoming exponents of the ______ ______ into which they assimilated. They adopted the Gallo - Romance language of the Frankish land they settled, their dialect becoming known as Norman, Normaund or Norman French, an important literary language. The Duchy of Normandy, which they formed by treaty with the French crown, was a great fief of medieval France, and under ______ ______ of Normandy was forged into a cohesive and formidable principality in feudal tenure. The Normans are noted both for their culture, such as their unique Romanesque architecture and musical traditions, and for their significant military accomplishments and innovations. Norman adventurers founded the Kingdom of Sicily under Roger II after conquering southern Italy on the Saracens and Byzantines, and an expedition on behalf of their duke, ______ the ______, led to the Norman conquest of England at the Battle of Hastings in 1066. Norman cultural and military influence spread from these new European centres to the Crusader states of the Near East, where their prince Bohemond ______ founded the Principality of Antioch in the Levant, to Scotland and Wales in Great Britain, to Ireland, and to the coasts of north Africa and the Canary Islands.\n",
      "Answers:\n",
      "['Catholic', 'orthodoxy', 'Richard', 'I', 'William', 'Conqueror', 'I']\n"
     ]
    }
   ],
   "source": [
    "# Blanked text\n",
    "print(words2text(words_blanked_ground_truth))\n",
    "\n",
    "# Answers    \n",
    "myanswers = words2answers(words,blank_classification)\n",
    "print(\"Answers:\")\n",
    "print(myanswers)"
   ]
  },
  {
   "cell_type": "code",
   "execution_count": 107,
   "metadata": {},
   "outputs": [
    {
     "name": "stdout",
     "output_type": "stream",
     "text": [
      "The ______ dynasty had a major political, cultural and military impact on medieval Europe and even the ______ ______. The ______ were famed for their martial spirit and eventually for their Christian ______, becoming exponents of the ______ ______ into which they assimilated. They adopted the ______ - Romance language of the ______ land they settled, their dialect becoming known as ______, Normaund or ______ ______, an important literary language. The ______ of ______, which they formed by treaty with the French crown, was a great fief of medieval ______, and under ______ I of ______ was forged into a cohesive and formidable principality in feudal tenure. The ______ are noted both for their culture, such as their unique ______ architecture and musical traditions, and for their significant military accomplishments and innovations. Norman ______ founded the Kingdom of ______ under ______ II after conquering southern Italy on the ______ and ______, and an expedition on behalf of their duke, ______ the ______, led to the ______ conquest of England at the ______ of ______ in ______. Norman cultural and military influence spread from these new European centres to the ______ states of the ______ ______, where their prince ______ I founded the ______ of ______ in the ______, to Scotland and Wales in Great Britain, to ______, and to the coasts of north Africa and the ______ ______.\n",
      "Answers:\n",
      "['Norman', 'Near', 'East', 'Normans', 'piety', 'Catholic', 'orthodoxy', 'Gallo', 'Frankish', 'Norman', 'Norman', 'French', 'Duchy', 'Normandy', 'France', 'Richard', 'Normandy', 'Normans', 'Romanesque', 'adventurers', 'Sicily', 'Roger', 'Saracens', 'Byzantines', 'William', 'Conqueror', 'Norman', 'Battle', 'Hastings', '1066', 'Crusader', 'Near', 'East', 'Bohemond', 'Principality', 'Antioch', 'Levant', 'Ireland', 'Canary', 'Islands']\n"
     ]
    }
   ],
   "source": [
    "# Blanked text\n",
    "print(words2text(words_blanked_allen))\n",
    "\n",
    "# Answers    \n",
    "myanswers = words2answers(words,tags)\n",
    "print(\"Answers:\")\n",
    "print(myanswers)"
   ]
  },
  {
   "cell_type": "code",
   "execution_count": 108,
   "metadata": {},
   "outputs": [],
   "source": [
    "TP = sum([b and t for b,t in zip(blank_classification,tags)])\n",
    "FP = sum([not b and t for b,t in zip(blank_classification,tags)])\n",
    "FN = sum([b and not t for b,t in zip(blank_classification,tags)])\n",
    "TN = sum([not b and not t for b,t in zip(blank_classification,tags)])\n",
    "ACC = (TP+TN)/(TP+FP+FN+TN)\n",
    "ACC2 = sum([b == t for b,t in zip(blank_classification,tags)]) / len(tags)"
   ]
  },
  {
   "cell_type": "code",
   "execution_count": 109,
   "metadata": {},
   "outputs": [
    {
     "name": "stdout",
     "output_type": "stream",
     "text": [
      "0.8531746031746031\n",
      "0.8531746031746031\n",
      "5\n",
      "35\n"
     ]
    }
   ],
   "source": [
    "print(ACC)\n",
    "print(ACC2)\n",
    "print(TP)\n",
    "print(FP)"
   ]
  },
  {
   "cell_type": "code",
   "execution_count": 110,
   "metadata": {},
   "outputs": [],
   "source": [
    "# Sensitivity, hit rate, recall, or true positive rate\n",
    "TPR = TP/(TP+FN)\n",
    "# Specificity or true negative rate\n",
    "TNR = TN/(TN+FP) \n",
    "# Precision or positive predictive value\n",
    "PPV = TP/(TP+FP)\n",
    "# Negative predictive value\n",
    "NPV = TN/(TN+FN)\n",
    "# Fall out or false positive rate\n",
    "FPR = FP/(FP+TN)\n",
    "# False negative rate\n",
    "FNR = FN/(TP+FN)\n",
    "# False discovery rate\n",
    "FDR = FP/(TP+FP)\n"
   ]
  },
  {
   "cell_type": "code",
   "execution_count": 111,
   "metadata": {},
   "outputs": [
    {
     "name": "stdout",
     "output_type": "stream",
     "text": [
      "0.7142857142857143\n",
      "0.14285714285714285\n"
     ]
    }
   ],
   "source": [
    "print(TPR)\n",
    "print(FPR)"
   ]
  }
 ],
 "metadata": {
  "kernelspec": {
   "display_name": "Python [conda env:allennlp]",
   "language": "python",
   "name": "conda-env-allennlp-py"
  },
  "language_info": {
   "codemirror_mode": {
    "name": "ipython",
    "version": 3
   },
   "file_extension": ".py",
   "mimetype": "text/x-python",
   "name": "python",
   "nbconvert_exporter": "python",
   "pygments_lexer": "ipython3",
   "version": "3.6.8"
  }
 },
 "nbformat": 4,
 "nbformat_minor": 2
}
