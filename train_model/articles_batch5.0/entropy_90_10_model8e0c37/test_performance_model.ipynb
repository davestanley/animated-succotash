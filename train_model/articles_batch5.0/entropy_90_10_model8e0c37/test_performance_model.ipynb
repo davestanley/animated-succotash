{
 "cells": [
  {
   "cell_type": "code",
   "execution_count": 1,
   "metadata": {},
   "outputs": [],
   "source": [
    "# Set up and load data\n",
    "# Includes\n",
    "import sys\n",
    "import os\n",
    "import numpy as np\n",
    "import json\n",
    "import os\n",
    "\n",
    "\n",
    "# Setup paths containing utility\n",
    "curr_folder = os.getcwd()\n",
    "sys.path.insert(0, os.path.join(curr_folder,'../../../app'))\n",
    "\n",
    "# Utils imports for loading data\n",
    "from utils import save_data, load_data, exists_datafolder\n",
    "from utils import load_SQuAD_train, load_SQuAD_dev\n",
    "from utils import get_foldername\n",
    "from utils_NLP import text2sentences,words2words_blanked,words2words_hashblank,words2answers\n",
    "from utils_NLP import words2text\n",
    "from utils_SQuAD import OR_arts_paragraph_fields,merge_arts_paragraph_fields\n",
    "from utils_NLP import allenNLP_classify_blanks,allenNLP_classify_blanks_fromResults\n",
    "\n",
    "# Plotting includes\n",
    "from utils_EDAplots import plotbar_train_dev,plothist_train_dev,plotbar_train_dev2,plothist_train_dev2\n",
    "\n",
    "# Stats saving stuff\n",
    "from utils_EDA import calcstats_train_dev\n",
    "\n",
    "# AllenNLP stuff\n",
    "from allennlp.predictors import Predictor\n",
    "\n",
    "# Include custom AllenNLP\n",
    "import myallennlp\n",
    "from myallennlp import *\n",
    "from myallennlp.models.simple_tagger2 import SimpleTagger2\n",
    "from myallennlp.dataset_readers import sequence_tagging2\n",
    "from myallennlp.data.tokenizers.word_splitter import SpacyWordSplitter\n",
    "\n",
    "# Import fig stuff\n",
    "import matplotlib.pyplot as plt\n",
    "from matplotlib.pyplot import figure"
   ]
  },
  {
   "cell_type": "code",
   "execution_count": 2,
   "metadata": {},
   "outputs": [],
   "source": [
    "# Option for merging NER data into combined model\n",
    "merge_in_NER_data = False"
   ]
  },
  {
   "cell_type": "markdown",
   "metadata": {},
   "source": [
    "# Function definitions"
   ]
  },
  {
   "cell_type": "code",
   "execution_count": 3,
   "metadata": {},
   "outputs": [],
   "source": [
    "\n",
    "def calc_fracblanked(words,tags):\n",
    "    # Pseudocode\n",
    "    # For each answer, loop through the words and count the number of times it occurs.\n",
    "    # Get the set of blanks booleans associated with each occurrence of that words, and calculate the\n",
    "    # mean. Will do this for each word in the article, and then each article in the corpus. For each\n",
    "    # article, rank the words by their proximity to 50 % \n",
    "    myanswers_unique = list(set(words2answers(words,tags)))\n",
    "\n",
    "    fracblanked = []\n",
    "    numblanked = []\n",
    "    for ans in myanswers_unique:\n",
    "        indices = [i for i, w in enumerate(words) if w == ans]\n",
    "        tags_curr = [tags[i] for i in indices]\n",
    "        #words_curr = [words[i] for i in indices]\n",
    "        fracblanked.append(sum(tags_curr)/len(tags_curr)*100)\n",
    "        numblanked.append(len(tags_curr))\n",
    "        \n",
    "    return fracblanked,numblanked,myanswers_unique;\n",
    "\n",
    "\n",
    "def calc_grammatical_tags_dict(words,tags):\n",
    "    # Builds a dictionary that contains all of the words, classification tags (blank/nonblnk),\n",
    "    # and corresponding Spacy tags (parts of speech, ner, etc)\n",
    "\n",
    "    # Use whitespace tokenizer (https://spacy.io/usage/linguistic-features)\n",
    "    # davedit\n",
    "    from spacy.tokens import Doc\n",
    "    class WhitespaceTokenizer(object):\n",
    "\n",
    "        def __init__(self, vocab):\n",
    "            self.vocab = vocab\n",
    "\n",
    "        def __call__(self, text):\n",
    "            words = text.split(' ')\n",
    "            # All tokens 'own' a subsequent space character in this tokenizer\n",
    "            spaces = [True] * len(words)\n",
    "            return Doc(self.vocab, words=words, spaces=spaces)\n",
    "\n",
    "    import spacy\n",
    "\n",
    "    nlp = spacy.load('en_core_web_sm')\n",
    "    nlp.tokenizer = WhitespaceTokenizer(nlp.vocab)\n",
    "    doc = nlp(' '.join(words))\n",
    "    # doc = nlp(words2text(words))\n",
    "\n",
    "    pos=[]\n",
    "    ner=[]\n",
    "    dep=[]\n",
    "    for token in doc:\n",
    "        pos.append(token.pos_)\n",
    "        ner.append(token.ent_type_)\n",
    "        dep.append(token.dep_)\n",
    "\n",
    "    # Build a dataframe to store everything\n",
    "    d = {'ind': range(len(words)),\n",
    "         'words' : words,\n",
    "        'tags':tags,\n",
    "        'pos':pos,\n",
    "        'ner':ner,\n",
    "        'dep':dep}\n",
    "\n",
    "#     for k in d.keys():\n",
    "#         print(str(len(d[k])))\n",
    "\n",
    "    return d\n"
   ]
  },
  {
   "cell_type": "markdown",
   "metadata": {},
   "source": [
    "# Load and merge ground truth and MODEL data"
   ]
  },
  {
   "cell_type": "code",
   "execution_count": 4,
   "metadata": {},
   "outputs": [
    {
     "name": "stdout",
     "output_type": "stream",
     "text": [
      "/home/davestanley/Dropbox/git/mindpocket/train_model/articles_batch5.0/entropy_90_10_model8e0c37\n"
     ]
    }
   ],
   "source": [
    "!pwd"
   ]
  },
  {
   "cell_type": "code",
   "execution_count": 5,
   "metadata": {},
   "outputs": [],
   "source": [
    "# Load data containing MODEL (predictions)\n",
    "foldername = os.path.join('SQ_pp_b4m0c2')\n",
    "arts_train = load_data('train.json',foldername,prepend_data_folder=False)\n",
    "arts_dev = load_data('dev.json',foldername,prepend_data_folder=False)\n",
    "\n",
    "# All articles\n",
    "Ntrain = len(arts_train)\n",
    "Ndev = len(arts_dev)\n",
    "\n",
    "arts = arts_train + arts_dev\n",
    "# print(arts[1]['title'])\n",
    "# print(arts[1]['paragraphs'][0]['context'])"
   ]
  },
  {
   "cell_type": "code",
   "execution_count": 6,
   "metadata": {},
   "outputs": [
    {
     "name": "stdout",
     "output_type": "stream",
     "text": [
      "Black_Death\n"
     ]
    }
   ],
   "source": [
    "# Trim down newly loaded articles to match Narticles in training set\n",
    "ind_train = slice(0,Ntrain)\n",
    "ind_dev = slice(0,Ndev)\n",
    "\n",
    "# Chosen display articles\n",
    "# From train\n",
    "ind_ex = 1                   # Example from training set - Chopin\n",
    "ind_ex = 381                   # Example from training set - Roman Republic\n",
    "ind_ex = 213                   # Example from training set - Data compression\n",
    "# ind_ex = 105                   # Pitch\n",
    "\n",
    "# From dev\n",
    "ind_ex = Ntrain + (467-442)    # Example from dev set - Immune system\n",
    "ind_ex = Ntrain + (458-442)    # Example from dev set - Pharmacy\n",
    "ind_ex = Ntrain + (456-442)    # Example from dev set - Black death\n",
    "\n",
    "print(arts[ind_ex]['title'])"
   ]
  },
  {
   "cell_type": "code",
   "execution_count": 7,
   "metadata": {},
   "outputs": [],
   "source": [
    "# Load blanks data (ground truth)\n",
    "foldername = get_foldername('sq_pp_training')\n",
    "arts3 = load_data('train.json',foldername)[ind_train] + load_data('dev.json',foldername)[ind_dev]\n",
    "# print(arts3[1]['title'])\n",
    "# print(arts3[1]['paragraphs'][0]['context_blanked'])\n"
   ]
  },
  {
   "cell_type": "code",
   "execution_count": 8,
   "metadata": {},
   "outputs": [
    {
     "name": "stdout",
     "output_type": "stream",
     "text": [
      "Matching titles: 477 \n",
      "Total articles 477\n"
     ]
    }
   ],
   "source": [
    "# Make sure all titles match\n",
    "all_title_pairs = [(a1['title'],a3['title']) for a1,a3 in zip(arts,arts3)]\n",
    "titles_match_bool = [a1['title'] == a3['title'] for a1,a3 in zip(arts,arts3)]\n",
    "print(\"Matching titles: {} \\nTotal articles {}\".format(sum(titles_match_bool),len(titles_match_bool)))\n",
    "if not sum(titles_match_bool) == len(titles_match_bool):\n",
    "    raise ValueError('Articles mismatch.')\n"
   ]
  },
  {
   "cell_type": "code",
   "execution_count": 9,
   "metadata": {},
   "outputs": [],
   "source": [
    "# Merge ground truth blanks with original data to get full dataset\n",
    "list_of_fields = ['context_blanked','blank_classification']\n",
    "arts = merge_arts_paragraph_fields(arts,arts3,list_of_fields)\n",
    "\n",
    "# print(arts[1]['title'])\n",
    "# print(arts[1]['paragraphs'][0]['context'])\n",
    "# print(arts[1]['paragraphs'][0]['context_blanked'])"
   ]
  },
  {
   "cell_type": "code",
   "execution_count": 10,
   "metadata": {},
   "outputs": [
    {
     "data": {
      "text/plain": [
       "\"The Black Death is thought to have originated in the arid plains of Central Asia, where it then travelled along the Silk Road, reaching Crimea by 1343. From there, it was most likely carried by Oriental rat fleas living on the black rats that were regular passengers on merchant ships. Spreading throughout the Mediterranean and Europe, the Black Death is estimated to have killed 30–60% of Europe's total population. In total, the plague reduced the world population from an estimated 450 million down to 350–375 million in the 14th century. The world population as a whole did not recover to pre-plague levels until the 17th century. The plague recurred occasionally in Europe until the 19th century.\""
      ]
     },
     "execution_count": 10,
     "metadata": {},
     "output_type": "execute_result"
    }
   ],
   "source": [
    "arts[ind_ex]['paragraphs'][0]['context']"
   ]
  },
  {
   "cell_type": "code",
   "execution_count": 11,
   "metadata": {},
   "outputs": [
    {
     "data": {
      "text/plain": [
       "dict_keys(['qas', 'context', 'allenNER', 'context_blanked', 'blank_classification', 'blank_classified_allen'])"
      ]
     },
     "execution_count": 11,
     "metadata": {},
     "output_type": "execute_result"
    }
   ],
   "source": [
    "# Convert AllenNLP Model blanks classification into standard format\n",
    "\n",
    "# If doing merge, use unique name for this model result. Otherwise, use generic name\n",
    "if merge_in_NER_data: fieldname = 'blank_classified_allenMODEL'\n",
    "else: fieldname = 'blank_classified_allen'\n",
    "\n",
    "arts = allenNLP_classify_blanks(arts,'0',fieldname)\n",
    "arts[0]['paragraphs'][0].keys()"
   ]
  },
  {
   "cell_type": "markdown",
   "metadata": {},
   "source": [
    "# Load NER data and merge into arts dataset"
   ]
  },
  {
   "cell_type": "code",
   "execution_count": 12,
   "metadata": {},
   "outputs": [],
   "source": [
    "\n",
    "if merge_in_NER_data:\n",
    "    # Load data containing NEP (predictions)\n",
    "    foldername = get_foldername('sq_pp_ner')\n",
    "\n",
    "    arts_NER = load_data('train.json',foldername)[ind_train] + load_data('dev.json',foldername)[ind_dev]\n",
    "    print(arts[1]['title'])\n",
    "    # print(arts[1]['paragraphs'][0]['context'])\n",
    "\n",
    "    # Make sure all titles match\n",
    "    all_title_pairs = [(a1['title'],a3['title']) for a1,a3 in zip(arts,arts_NER)]\n",
    "    titles_match_bool = [a1['title'] == a3['title'] for a1,a3 in zip(arts,arts_NER)]\n",
    "    print(\"Matching titles: {} \\nTotal articles {}\".format(sum(titles_match_bool),len(titles_match_bool)))\n",
    "    if not sum(titles_match_bool) == len(titles_match_bool):\n",
    "        raise ValueError('Articles mismatch.')\n",
    "\n",
    "    # Convert AllenNLP Model blanks classification into standard format\n",
    "    from utils_NLP import allenNLP_classify_blanks\n",
    "    arts_NER = allenNLP_classify_blanks(arts_NER,'O','blank_classified_allenNER')\n",
    "    print(arts_NER[0]['paragraphs'][0].keys())\n",
    "\n",
    "    # Merge NER data into full dataset\n",
    "    list_of_fields = ['blank_classified_allenNER']\n",
    "    arts = merge_arts_paragraph_fields(arts,arts_NER,list_of_fields)\n",
    "    print(arts[0]['paragraphs'][0].keys())"
   ]
  },
  {
   "cell_type": "code",
   "execution_count": 13,
   "metadata": {},
   "outputs": [],
   "source": [
    "# OR operation on blank_classified_allenMODEL and blank_classified_allenNER into blank_classified_allenMODEL\n",
    "\n",
    "if merge_in_NER_data:\n",
    "    destination_fieldname = 'blank_classified_allen'\n",
    "    arts = OR_arts_paragraph_fields(arts,['blank_classified_allenMODEL','blank_classified_allenNER'],destination_fieldname)\n",
    "\n",
    "    p = arts[0]['paragraphs'][1]\n",
    "    print(p['blank_classified_allenNER'])\n",
    "    print(p['blank_classified_allenMODEL'])\n",
    "    print(p['blank_classified_allen'])\n"
   ]
  },
  {
   "cell_type": "markdown",
   "metadata": {},
   "source": [
    "# Compare paragraph word reconstructions"
   ]
  },
  {
   "cell_type": "markdown",
   "metadata": {},
   "source": [
    "This just looks at the words in the different saved fiels files to make sure all the words match up 1:1 (otherwise, this could mess up our evaluations). Not looking at blanks here at all. The next sectoin looks at the blanks"
   ]
  },
  {
   "cell_type": "code",
   "execution_count": 14,
   "metadata": {},
   "outputs": [],
   "source": [
    "# Pull out sample paragraph\n",
    "p = arts[ind_ex]['paragraphs'][0]"
   ]
  },
  {
   "cell_type": "markdown",
   "metadata": {},
   "source": [
    "## AllenNLP Words"
   ]
  },
  {
   "cell_type": "code",
   "execution_count": 15,
   "metadata": {},
   "outputs": [
    {
     "name": "stdout",
     "output_type": "stream",
     "text": [
      "131\n",
      "131\n",
      "The Black Death is thought to have originated in the arid plains of Central Asia, where it then travelled along the Silk Road, reaching Crimea by 1343. From there, it was most likely carried by Oriental rat fleas living on the black rats that were regular passengers on merchant ships. Spreading throughout the Mediterranean and Europe, the Black Death is estimated to have killed 30–60 % of Europe 's total population. In total, the plague reduced the world population from an estimated 450 million down to 350–375 million in the 14th century. The world population as a whole did not recover to pre - plague levels until the 17th century. The plague recurred occasionally in Europe until the 19th century.\n",
      "706\n"
     ]
    }
   ],
   "source": [
    "words = p['allenNER']['words'].split()\n",
    "tags = p['allenNER']['tags'].split()\n",
    "print(len(words))\n",
    "print(len(tags))\n",
    "print(words2text(words))\n",
    "print(len(words2text(words)))"
   ]
  },
  {
   "cell_type": "markdown",
   "metadata": {},
   "source": [
    "## Context"
   ]
  },
  {
   "cell_type": "code",
   "execution_count": 16,
   "metadata": {},
   "outputs": [
    {
     "name": "stdout",
     "output_type": "stream",
     "text": [
      "131\n",
      "The Black Death is thought to have originated in the arid plains of Central Asia, where it then travelled along the Silk Road, reaching Crimea by 1343. From there, it was most likely carried by Oriental rat fleas living on the black rats that were regular passengers on merchant ships. Spreading throughout the Mediterranean and Europe, the Black Death is estimated to have killed 30–60 % of Europe 's total population. In total, the plague reduced the world population from an estimated 450 million down to 350–375 million in the 14th century. The world population as a whole did not recover to pre - plague levels until the 17th century. The plague recurred occasionally in Europe until the 19th century.\n",
      "706\n"
     ]
    }
   ],
   "source": [
    "from utils_NLP import allenNLP_split_words, join_punctuation\n",
    "\n",
    "context = p['context']\n",
    "context_split = allenNLP_split_words(context)\n",
    "\n",
    "# context_reassembled = ' '.join(context_split)\n",
    "context_reassembled = words2text(context_split)\n",
    "\n",
    "print(len(context_split))\n",
    "# print(words2text(context_split))\n",
    "# print(len(words2text(context_split)))\n",
    "print(context_reassembled)\n",
    "print(len(context_reassembled))\n"
   ]
  },
  {
   "cell_type": "markdown",
   "metadata": {},
   "source": [
    "## Context_blanked"
   ]
  },
  {
   "cell_type": "code",
   "execution_count": 17,
   "metadata": {},
   "outputs": [
    {
     "name": "stdout",
     "output_type": "stream",
     "text": [
      "131\n",
      "dict_keys(['qas', 'context', 'allenNER', 'context_blanked', 'blank_classification', 'blank_classified_allen'])\n",
      "The Black Death is thought to have originated in the arid plains of ______ ______ , where it then travelled along the ______ ______ , reaching Crimea by 1343 . From there , it was most likely carried by Oriental rat fleas living on the black rats that were regular passengers on ______ ______ . Spreading throughout the Mediterranean and Europe , the Black Death is estimated to have killed 30–60 % of Europe 's total population . In total , the plague reduced the world population from an estimated 450 million down to 350–375 million in the 14th ______ . The world population as a whole did not recover to pre - plague levels until the ______ ______ . The plague recurred occasionally in Europe until the ______ ______ .\n"
     ]
    }
   ],
   "source": [
    "print(len(p['blank_classification']))\n",
    "print(p.keys())\n",
    "print(p['context_blanked'])"
   ]
  },
  {
   "cell_type": "code",
   "execution_count": 18,
   "metadata": {},
   "outputs": [
    {
     "name": "stdout",
     "output_type": "stream",
     "text": [
      "Central\n",
      "Asia\n",
      "Silk\n",
      "Road\n",
      "merchant\n",
      "ships\n",
      "century\n",
      "17th\n",
      "century\n",
      "19th\n",
      "century\n"
     ]
    }
   ],
   "source": [
    "# Answers\n",
    "for i,c in enumerate(p['blank_classification']):\n",
    "    if c == 1: print(context_split[i])"
   ]
  },
  {
   "cell_type": "markdown",
   "metadata": {},
   "source": [
    "# Single paragraph - Compare blanks"
   ]
  },
  {
   "cell_type": "markdown",
   "metadata": {},
   "source": [
    "## First, just look at the raw text"
   ]
  },
  {
   "cell_type": "code",
   "execution_count": 19,
   "metadata": {},
   "outputs": [],
   "source": [
    "# Pull out sample paragraph\n",
    "p = arts[ind_ex]['paragraphs'][0]\n",
    "\n",
    "# # Print all AllenNLP classifications\n",
    "# print([(a,b) for a,b in zip(p['allenNER']['words'].split(), p['allenNER']['tags'].split())])\n",
    "\n",
    "# AllenNLP results\n",
    "words = p['allenNER']['words'].split()\n",
    "# tags = p['allenNER']['tags'].split()\n",
    "# tags = [not t == '0' for t in tags]   # Convert to binary\n",
    "tags = p['blank_classified_allen']\n",
    "\n",
    "# Ground truth\n",
    "blank_classification = p['blank_classification']"
   ]
  },
  {
   "cell_type": "code",
   "execution_count": 20,
   "metadata": {},
   "outputs": [
    {
     "name": "stdout",
     "output_type": "stream",
     "text": [
      "Length Allen tags: 131. Length ground truth blanks: 131\n"
     ]
    }
   ],
   "source": [
    "\n",
    "\n",
    "print(\"Length Allen tags: {}. Length ground truth blanks: {}\".format(len(tags),len(blank_classification)))"
   ]
  },
  {
   "cell_type": "code",
   "execution_count": 21,
   "metadata": {},
   "outputs": [
    {
     "name": "stdout",
     "output_type": "stream",
     "text": [
      "============\t\t\t==========\n",
      "Ground truth\t\t\tPrediction\n",
      "============\t\t\t==========\n",
      "The\t\t\t\tThe\n",
      "Black\t\t\t\tBlack\n",
      "Death\t\t\t\tDeath\n",
      "is\t\t\t\tis\n",
      "thought\t\t\t\tthought\n",
      "to\t\t\t\tto\n",
      "have\t\t\t\thave\n",
      "originated\t\t\t\toriginated\n",
      "in\t\t\t\tin\n",
      "the\t\t\t\tthe\n",
      "arid\t\t\t\tarid\n",
      "plains\t\t\t\tplains\n",
      "of\t\t\t\tof\n",
      "______\t\t\t\tCentral\n",
      "______\t\t\t\tAsia\n",
      ",\t\t\t\t,\n",
      "where\t\t\t\twhere\n",
      "it\t\t\t\tit\n",
      "then\t\t\t\tthen\n",
      "travelled\t\t\t\ttravelled\n"
     ]
    }
   ],
   "source": [
    "# Side by side compare\n",
    "\n",
    "words_blanked_ground_truth = words2words_blanked(words,blank_classification)\n",
    "words_blanked_allen = words2words_blanked(words,tags)\n",
    "\n",
    "N=len(words_blanked_ground_truth)\n",
    "N=20\n",
    "print(\"============\" + '\\t\\t\\t' + \"==========\")\n",
    "print(\"Ground truth\" + '\\t\\t\\t' + \"Prediction\")\n",
    "print(\"============\" + '\\t\\t\\t' + \"==========\")\n",
    "for c,w in zip(words_blanked_ground_truth[:N],words_blanked_allen[:N]):\n",
    "    print(c + '\\t\\t\\t\\t' + w)\n"
   ]
  },
  {
   "cell_type": "markdown",
   "metadata": {},
   "source": [
    "## Ground truth blanked"
   ]
  },
  {
   "cell_type": "code",
   "execution_count": 22,
   "metadata": {},
   "outputs": [
    {
     "name": "stdout",
     "output_type": "stream",
     "text": [
      "The Black Death is thought to have originated in the arid plains of ______ ______, where it then travelled along the ______ ______, reaching Crimea by 1343. From there, it was most likely carried by Oriental rat fleas living on the black rats that were regular passengers on ______ ______. Spreading throughout the Mediterranean and Europe, the Black Death is estimated to have killed 30–60 % of Europe 's total population. In total, the plague reduced the world population from an estimated 450 million down to 350–375 million in the 14th ______. The world population as a whole did not recover to pre - plague levels until the ______ ______. The plague recurred occasionally in Europe until the ______ ______.\n",
      "Answers:\n",
      "['Central', 'Asia', 'Silk', 'Road', 'merchant', 'ships', 'century', '17th', 'century', '19th', 'century']\n"
     ]
    }
   ],
   "source": [
    "# Blanked text\n",
    "print(words2text(words_blanked_ground_truth))\n",
    "\n",
    "# Answers    \n",
    "myanswers = words2answers(words,blank_classification)\n",
    "print(\"Answers:\")\n",
    "print(myanswers)"
   ]
  },
  {
   "cell_type": "code",
   "execution_count": 23,
   "metadata": {},
   "outputs": [
    {
     "name": "stdout",
     "output_type": "stream",
     "text": [
      "The Black Death is thought to have originated in the arid plains of Central Asia, where it then travelled along the Silk Road, reaching Crimea by ______. From there, it was most likely carried by Oriental rat fleas living on the black rats that were regular passengers on merchant ships. Spreading throughout the Mediterranean and Europe, the Black Death is estimated to have killed ______ % of Europe 's total population. In total, the plague reduced the world population from an estimated 450 million down to ______ million in the 14th century. The world population as a whole did not recover to pre - plague levels until the 17th century. The plague recurred occasionally in Europe until the 19th century.\n",
      "Answers:\n",
      "['1343', '30–60', '350–375']\n"
     ]
    }
   ],
   "source": [
    "# Blanked text\n",
    "print(words2text(words_blanked_allen))\n",
    "\n",
    "# Answers    \n",
    "myanswers = words2answers(words,tags)\n",
    "print(\"Answers:\")\n",
    "print(myanswers)"
   ]
  },
  {
   "cell_type": "code",
   "execution_count": 24,
   "metadata": {},
   "outputs": [],
   "source": [
    "TP = sum([b and t for b,t in zip(blank_classification,tags)])\n",
    "FP = sum([not b and t for b,t in zip(blank_classification,tags)])\n",
    "FN = sum([b and not t for b,t in zip(blank_classification,tags)])\n",
    "TN = sum([not b and not t for b,t in zip(blank_classification,tags)])\n",
    "ACC = (TP+TN)/(TP+FP+FN+TN)\n",
    "ACC2 = sum([b == t for b,t in zip(blank_classification,tags)]) / len(tags)"
   ]
  },
  {
   "cell_type": "code",
   "execution_count": 25,
   "metadata": {},
   "outputs": [
    {
     "name": "stdout",
     "output_type": "stream",
     "text": [
      "0.8931297709923665\n",
      "0.8931297709923665\n",
      "0\n",
      "3\n"
     ]
    }
   ],
   "source": [
    "print(ACC)\n",
    "print(ACC2)\n",
    "print(TP)\n",
    "print(FP)"
   ]
  },
  {
   "cell_type": "code",
   "execution_count": 26,
   "metadata": {},
   "outputs": [],
   "source": [
    "# Sensitivity, hit rate, recall, or true positive rate\n",
    "TPR = TP/(TP+FN)\n",
    "# Specificity or true negative rate\n",
    "TNR = TN/(TN+FP) \n",
    "# Precision or positive predictive value\n",
    "PPV = TP/(TP+FP)\n",
    "# Negative predictive value\n",
    "NPV = TN/(TN+FN)\n",
    "# Fall out or false positive rate\n",
    "FPR = FP/(FP+TN)\n",
    "# False negative rate\n",
    "FNR = FN/(TP+FN)\n",
    "# False discovery rate\n",
    "FDR = FP/(TP+FP)\n"
   ]
  },
  {
   "cell_type": "code",
   "execution_count": 27,
   "metadata": {},
   "outputs": [
    {
     "name": "stdout",
     "output_type": "stream",
     "text": [
      "0.0\n",
      "0.025\n"
     ]
    }
   ],
   "source": [
    "print(TPR)\n",
    "print(FPR)"
   ]
  },
  {
   "cell_type": "code",
   "execution_count": 28,
   "metadata": {},
   "outputs": [
    {
     "name": "stdout",
     "output_type": "stream",
     "text": [
      "Nsentences=6\n",
      "Nsentences_from_words=6\n"
     ]
    }
   ],
   "source": [
    "Nsentences = len(text2sentences(p['context']))\n",
    "print(\"Nsentences={}\".format(str(Nsentences)))\n",
    "\n",
    "Nsentences2 = len(text2sentences(words2text(words)))\n",
    "print(\"Nsentences_from_words={}\".format(str(Nsentences2)))\n",
    "\n"
   ]
  },
  {
   "cell_type": "code",
   "execution_count": 29,
   "metadata": {},
   "outputs": [
    {
     "name": "stdout",
     "output_type": "stream",
     "text": [
      "0.0\n",
      "0.5\n"
     ]
    }
   ],
   "source": [
    "TPpersent = TP / Nsentences2\n",
    "FPpersent = FP / Nsentences2\n",
    "\n",
    "print(TPpersent)\n",
    "print(FPpersent)"
   ]
  },
  {
   "cell_type": "markdown",
   "metadata": {},
   "source": [
    "# Single article - compare blanks"
   ]
  },
  {
   "cell_type": "code",
   "execution_count": 30,
   "metadata": {},
   "outputs": [
    {
     "name": "stdout",
     "output_type": "stream",
     "text": [
      "Black_Death\n"
     ]
    }
   ],
   "source": [
    "##### Pull out sample paragraph\n",
    "a = arts[ind_ex]\n",
    "print(a['title'])\n",
    "\n",
    "# AllenNLP results\n",
    "words = [w for p in a['paragraphs'] for w in p['allenNER']['words'].split()]\n",
    "# tags = [t for p in a['paragraphs'] for t in p['allenNER']['tags'].split()]\n",
    "# tags = [not t == '0' for t in tags]   # Convert to binary\n",
    "tags = [t for p in a['paragraphs'] for t in p['blank_classified_allen']]\n",
    "\n",
    "# Ground truth\n",
    "blank_classification = [bc for p in a['paragraphs'] for bc in p['blank_classification']]"
   ]
  },
  {
   "cell_type": "code",
   "execution_count": 31,
   "metadata": {},
   "outputs": [
    {
     "name": "stdout",
     "output_type": "stream",
     "text": [
      "Length Allen tags: 3683. Length ground truth blanks: 3683\n"
     ]
    }
   ],
   "source": [
    "\n",
    "print(\"Length Allen tags: {}. Length ground truth blanks: {}\".format(len(tags),len(blank_classification)))"
   ]
  },
  {
   "cell_type": "code",
   "execution_count": 32,
   "metadata": {},
   "outputs": [
    {
     "name": "stdout",
     "output_type": "stream",
     "text": [
      "========\t\t\t============\t\t\t==========\n",
      "Original\t\t\tGround truth\t\t\tPrediction\n",
      "========\t\t\t============\t\t\t==========\n",
      "The\t\t\t\tThe\t\t\t\tThe\n",
      "Black\t\t\t\tBlack\t\t\t\tBlack\n",
      "Death\t\t\t\tDeath\t\t\t\tDeath\n",
      "is\t\t\t\tis\t\t\t\tis\n",
      "thought\t\t\t\tthought\t\t\t\tthought\n",
      "to\t\t\t\tto\t\t\t\tto\n",
      "have\t\t\t\thave\t\t\t\thave\n",
      "originated\t\t\t\toriginated\t\t\t\toriginated\n",
      "in\t\t\t\tin\t\t\t\tin\n",
      "the\t\t\t\tthe\t\t\t\tthe\n",
      "arid\t\t\t\tarid\t\t\t\tarid\n",
      "plains\t\t\t\tplains\t\t\t\tplains\n",
      "of\t\t\t\tof\t\t\t\tof\n",
      "Central\t\t\t\t______\t\t\t\tCentral\n",
      "Asia\t\t\t\t______\t\t\t\tAsia\n",
      ",\t\t\t\t,\t\t\t\t,\n",
      "where\t\t\t\twhere\t\t\t\twhere\n",
      "it\t\t\t\tit\t\t\t\tit\n",
      "then\t\t\t\tthen\t\t\t\tthen\n",
      "travelled\t\t\t\ttravelled\t\t\t\ttravelled\n",
      "along\t\t\t\talong\t\t\t\talong\n",
      "the\t\t\t\tthe\t\t\t\tthe\n",
      "Silk\t\t\t\t______\t\t\t\tSilk\n",
      "Road\t\t\t\t______\t\t\t\tRoad\n",
      ",\t\t\t\t,\t\t\t\t,\n",
      "reaching\t\t\t\treaching\t\t\t\treaching\n",
      "Crimea\t\t\t\tCrimea\t\t\t\tCrimea\n",
      "by\t\t\t\tby\t\t\t\tby\n",
      "1343\t\t\t\t1343\t\t\t\t______\n",
      ".\t\t\t\t.\t\t\t\t.\n"
     ]
    }
   ],
   "source": [
    "# Side by side compare\n",
    "words_blanked_ground_truth = words2words_blanked(words,blank_classification)\n",
    "words_blanked_allen = words2words_blanked(words,tags)\n",
    "\n",
    "N=len(words_blanked_ground_truth)\n",
    "N=30\n",
    "print(\"========\" + '\\t\\t\\t' + \"============\" + '\\t\\t\\t' + \"==========\")\n",
    "print(\"Original\" + '\\t\\t\\t' + \"Ground truth\" + '\\t\\t\\t' + \"Prediction\")\n",
    "print(\"========\" + '\\t\\t\\t' + \"============\" + '\\t\\t\\t' + \"==========\")\n",
    "for o,c,w in zip(words[:N],words_blanked_ground_truth[:N],words_blanked_allen[:N]):\n",
    "    print(o + '\\t\\t\\t\\t' + c + '\\t\\t\\t\\t' + w)\n"
   ]
  },
  {
   "cell_type": "code",
   "execution_count": 33,
   "metadata": {},
   "outputs": [],
   "source": [
    "TP = sum([b and t for b,t in zip(blank_classification,tags)])\n",
    "FP = sum([not b and t for b,t in zip(blank_classification,tags)])\n",
    "FN = sum([b and not t for b,t in zip(blank_classification,tags)])\n",
    "TN = sum([not b and not t for b,t in zip(blank_classification,tags)])\n",
    "ACC = (TP+TN)/(TP+FP+FN+TN)\n",
    "ACC2 = sum([b == t for b,t in zip(blank_classification,tags)]) / len(tags)"
   ]
  },
  {
   "cell_type": "code",
   "execution_count": 34,
   "metadata": {},
   "outputs": [
    {
     "name": "stdout",
     "output_type": "stream",
     "text": [
      "0.9329351072495249\n",
      "0.9329351072495249\n"
     ]
    }
   ],
   "source": [
    "print(ACC)\n",
    "print(ACC2)"
   ]
  },
  {
   "cell_type": "code",
   "execution_count": 35,
   "metadata": {},
   "outputs": [],
   "source": [
    "# # Sensitivity, hit rate, recall, or true positive rate\n",
    "# TPR = TP/(TP+FN)\n",
    "# # Specificity or true negative rate\n",
    "# TNR = TN/(TN+FP) \n",
    "# # Precision or positive predictive value\n",
    "# PPV = TP/(TP+FP)\n",
    "# # Negative predictive value\n",
    "# NPV = TN/(TN+FN)\n",
    "# # Fall out or false positive rate\n",
    "# FPR = FP/(FP+TN)\n",
    "# # False negative rate\n",
    "# FNR = FN/(TP+FN)\n",
    "# # False discovery rate\n",
    "# FDR = FP/(TP+FP)\n"
   ]
  },
  {
   "cell_type": "code",
   "execution_count": 36,
   "metadata": {},
   "outputs": [],
   "source": [
    "# print(TPR)\n",
    "# print(FPR)"
   ]
  },
  {
   "cell_type": "code",
   "execution_count": 37,
   "metadata": {},
   "outputs": [
    {
     "name": "stdout",
     "output_type": "stream",
     "text": [
      "Nsentences_from_words=126\n"
     ]
    }
   ],
   "source": [
    "Nsentences2 = len(text2sentences(words2text(words)))\n",
    "print(\"Nsentences_from_words={}\".format(str(Nsentences2)))"
   ]
  },
  {
   "cell_type": "code",
   "execution_count": 38,
   "metadata": {},
   "outputs": [
    {
     "name": "stdout",
     "output_type": "stream",
     "text": [
      "0.20634920634920634\n",
      "0.8809523809523809\n"
     ]
    }
   ],
   "source": [
    "TPpersent = TP / Nsentences2\n",
    "FPpersent = FP / Nsentences2\n",
    "\n",
    "print(TPpersent)\n",
    "print(FPpersent)"
   ]
  },
  {
   "cell_type": "markdown",
   "metadata": {},
   "source": [
    "## Ground truth blanked vs predicted blanked"
   ]
  },
  {
   "cell_type": "code",
   "execution_count": 39,
   "metadata": {},
   "outputs": [
    {
     "name": "stdout",
     "output_type": "stream",
     "text": [
      "Answers:\n",
      "{'Road', 'amended', 'Kong', 'Miasma', '1665', 'Justinian', 'northwestern', '1500', 'pestis', 'half', 'Central', 'marginal', 'epidemiological', 'Yersinia', '95', 'heavens', '80', 'present', 'much', 'atra', 'China', 'account', 'third', 'England', 'Smithfield', '2011', 'commonly', 'Yersin', 'form', 'confirmed', 'century', 'anthrax', 'king', '15', '1347', '40,000', 'Gasquet', '1.7', 'mors', 'bubonic', 'figures', 'Italian', 'Constantinople', '1850', '1377', '19th', 'merchant', '17th', 'Half', 'theory', 'Beg', 'bad', '1350', 'Alexandre', 'Silk', 'plague', 'October', 'Y.', '38–41', 'fleas', '1823', '1338–39', '2010', '100,000', 'East', 'France', 'infected', 'clergy', 'Sicily', '5', 'traders', 'Germany', 'trade', '90', 'Scandinavia', 'north', '1349', '1331', 'rats', '1654', 'spring', '1720', 'air', 'dating', 'J.I.', 'percent', 'branches', 'million', 'significance', 'Russia', 'northwest', 'autumn', 'Pontanus', 'Jani', '100–106', 'Asia', '25', '1908', '22', 'Plague', 'isolated', 'ships', 'areas', 'corpses', 'population', 'faster', 'genetic', 'Genoese', 'Hong'}\n"
     ]
    }
   ],
   "source": [
    "# Blanked text\n",
    "# print(words2text(words_blanked_ground_truth))\n",
    "\n",
    "# Answers    \n",
    "myanswers = words2answers(words,blank_classification)\n",
    "print(\"Answers:\")\n",
    "print(set(myanswers))"
   ]
  },
  {
   "cell_type": "code",
   "execution_count": 40,
   "metadata": {},
   "outputs": [
    {
     "name": "stdout",
     "output_type": "stream",
     "text": [
      "Answers:\n",
      "{'Raoult', '10–15', 'sputum', '1636', '1528', '1593', '1343', 'Miasma', '1665', '1348–50', 'PLoS', '1655', 'Kaffa', '1589', '30–75', 'pestis', 'Biraben', '1535', 'Yersinia', '350–375', '541', 'bacteriologist', 'Haensch', '1500–03', '1361–62', '1603', 'Yersin', '110–120', 'marmots', '1573–88', '1338', 'Simond', '1347', '1664', '1360–63', '1466', 'Twigg', '1563', '1850', '1490', '1800', '1377', '1649', '1350', 'Schuenemann', '1389–93', '1625', '1361', 'Herlihy', '38–41', '1374', '1471', '1351', '1671', '1348', 'cough', '1823', '1576–77', '1865', '1679', '1629–1631', '1498', '1740–42', '1563–66', 'Cohn', '1701', '1644–54', 'Bjørgvin', '1349', '1751', '1331', '1654', '1346', '1656', 'Issyk', '1720', 'Kul', '30–60', '1479–80', 'J.I.', '1300', '1450', '1631', '1369', '1664–67', '1.25', '1750', '1623–25', 'Clerkenwell', '1543', '1464–66', '1700–21', '1345', '1400', '1893', '1691', '1330s'}\n"
     ]
    }
   ],
   "source": [
    "# Blanked text\n",
    "# print(words2text(words_blanked_allen))\n",
    "\n",
    "# Answers    \n",
    "myanswers = words2answers(words,tags)\n",
    "print(\"Answers:\")\n",
    "print(set(myanswers))"
   ]
  },
  {
   "cell_type": "code",
   "execution_count": null,
   "metadata": {},
   "outputs": [],
   "source": []
  },
  {
   "cell_type": "markdown",
   "metadata": {},
   "source": [
    "## Fract of answers blanked"
   ]
  },
  {
   "cell_type": "markdown",
   "metadata": {},
   "source": [
    "### Fract answers blanked vs num answers"
   ]
  },
  {
   "cell_type": "code",
   "execution_count": 41,
   "metadata": {},
   "outputs": [],
   "source": [
    "fracblanked,numblanked,myanswers_unique = calc_fracblanked(words,tags)"
   ]
  },
  {
   "cell_type": "code",
   "execution_count": 42,
   "metadata": {},
   "outputs": [
    {
     "data": {
      "text/plain": [
       "Text(0, 0.5, 'Num occurrences')"
      ]
     },
     "execution_count": 42,
     "metadata": {},
     "output_type": "execute_result"
    },
    {
     "data": {
      "image/png": "[encoded data removed]",
      "text/plain": [
       "<Figure size 576x576 with 1 Axes>"
      ]
     },
     "metadata": {
      "needs_background": "light"
     },
     "output_type": "display_data"
    }
   ],
   "source": [
    "# Do scatter plot\n",
    "y = numblanked\n",
    "z = fracblanked\n",
    "n = myanswers_unique\n",
    "\n",
    "fig, ax = plt.subplots(figsize=(8, 8))\n",
    "ax.scatter(z, y)\n",
    "\n",
    "for i, txt in enumerate(n):\n",
    "    ax.annotate(txt, (z[i], y[i]))\n",
    "plt.xlabel('Percentage of times blanked out')\n",
    "plt.ylabel('Num occurrences')"
   ]
  },
  {
   "cell_type": "markdown",
   "metadata": {},
   "source": [
    "### Fract answers blanked for all answers"
   ]
  },
  {
   "cell_type": "code",
   "execution_count": 43,
   "metadata": {},
   "outputs": [
    {
     "data": {
      "image/png": "[encoded data removed]",
      "text/plain": [
       "<Figure size 576x576 with 1 Axes>"
      ]
     },
     "metadata": {},
     "output_type": "display_data"
    }
   ],
   "source": [
    "import numpy as np\n",
    "import pandas as pd\n",
    "\n",
    "d = {'myanswers_unique':myanswers_unique,'fracblanked':fracblanked}\n",
    "\n",
    "df = pd.DataFrame(data=d);\n",
    "\n",
    "df2 = df.sort_values(by='fracblanked',ascending=True);\n",
    "\n",
    "\n",
    "\n",
    "N=30          # of data points to show\n",
    "figure(num=None, figsize=(8, 8),facecolor='w', edgecolor='k')\n",
    "bars = (df2['myanswers_unique'].values.tolist())[0:N]\n",
    "y_pos = np.arange(len(bars))\n",
    "val = (df2['fracblanked'].values.tolist())[0:N]\n",
    "y_pos = np.arange(len(bars))\n",
    " \n",
    "# Create horizontal bars\n",
    "plt.barh(y_pos, val)\n",
    " \n",
    "# Create names on the y-axis\n",
    "plt.yticks(y_pos, bars)\n",
    "\n",
    "plt.xlabel('Percentage of times blanked out')\n",
    "# Show graphic\n",
    "plt.show()\n",
    "\n"
   ]
  },
  {
   "cell_type": "markdown",
   "metadata": {},
   "source": [
    "### Fractions of NER tags blanked"
   ]
  },
  {
   "cell_type": "code",
   "execution_count": 44,
   "metadata": {},
   "outputs": [],
   "source": [
    "d = calc_grammatical_tags_dict(words,tags)"
   ]
  },
  {
   "cell_type": "code",
   "execution_count": 45,
   "metadata": {},
   "outputs": [],
   "source": [
    "df = pd.DataFrame(data=d)\n",
    "xlabs=[]\n",
    "yvals=[]\n",
    "\n",
    "# Search through keys and unique items therein, counting \"Trues\"\n",
    "keys = ['ner']\n",
    "for k in keys:\n",
    "    for item in list(set(d[k])):\n",
    "        df2 = df.loc[df[k] == item]\n",
    "        mysum = df2.sum()['tags']\n",
    "        N = len(df2)\n",
    "        \n",
    "        xlabs.append(k.upper() + ': ' + item.lower())\n",
    "        yvals.append(mysum/N*100)\n",
    "\n",
    "        "
   ]
  },
  {
   "cell_type": "code",
   "execution_count": 46,
   "metadata": {},
   "outputs": [
    {
     "data": {
      "text/html": [
       "<div>\n",
       "<style scoped>\n",
       "    .dataframe tbody tr th:only-of-type {\n",
       "        vertical-align: middle;\n",
       "    }\n",
       "\n",
       "    .dataframe tbody tr th {\n",
       "        vertical-align: top;\n",
       "    }\n",
       "\n",
       "    .dataframe thead th {\n",
       "        text-align: right;\n",
       "    }\n",
       "</style>\n",
       "<table border=\"1\" class=\"dataframe\">\n",
       "  <thead>\n",
       "    <tr style=\"text-align: right;\">\n",
       "      <th></th>\n",
       "      <th>ind</th>\n",
       "      <th>words</th>\n",
       "      <th>tags</th>\n",
       "      <th>pos</th>\n",
       "      <th>ner</th>\n",
       "      <th>dep</th>\n",
       "    </tr>\n",
       "  </thead>\n",
       "  <tbody>\n",
       "    <tr>\n",
       "      <th>319</th>\n",
       "      <td>319</td>\n",
       "      <td>Constantinople</td>\n",
       "      <td>0</td>\n",
       "      <td>PROPN</td>\n",
       "      <td>PERSON</td>\n",
       "      <td>dobj</td>\n",
       "    </tr>\n",
       "    <tr>\n",
       "      <th>356</th>\n",
       "      <td>356</td>\n",
       "      <td>Jani</td>\n",
       "      <td>0</td>\n",
       "      <td>PROPN</td>\n",
       "      <td>PERSON</td>\n",
       "      <td>compound</td>\n",
       "    </tr>\n",
       "    <tr>\n",
       "      <th>357</th>\n",
       "      <td>357</td>\n",
       "      <td>Beg</td>\n",
       "      <td>0</td>\n",
       "      <td>PROPN</td>\n",
       "      <td>PERSON</td>\n",
       "      <td>pobj</td>\n",
       "    </tr>\n",
       "    <tr>\n",
       "      <th>489</th>\n",
       "      <td>489</td>\n",
       "      <td>Bjørgvin</td>\n",
       "      <td>1</td>\n",
       "      <td>PROPN</td>\n",
       "      <td>PERSON</td>\n",
       "      <td>pobj</td>\n",
       "    </tr>\n",
       "    <tr>\n",
       "      <th>616</th>\n",
       "      <td>616</td>\n",
       "      <td>Constantinople</td>\n",
       "      <td>0</td>\n",
       "      <td>PROPN</td>\n",
       "      <td>PERSON</td>\n",
       "      <td>pobj</td>\n",
       "    </tr>\n",
       "  </tbody>\n",
       "</table>\n",
       "</div>"
      ],
      "text/plain": [
       "     ind           words  tags    pos     ner       dep\n",
       "319  319  Constantinople     0  PROPN  PERSON      dobj\n",
       "356  356            Jani     0  PROPN  PERSON  compound\n",
       "357  357             Beg     0  PROPN  PERSON      pobj\n",
       "489  489        Bjørgvin     1  PROPN  PERSON      pobj\n",
       "616  616  Constantinople     0  PROPN  PERSON      pobj"
      ]
     },
     "execution_count": 46,
     "metadata": {},
     "output_type": "execute_result"
    }
   ],
   "source": [
    "df3 = df.loc[df['ner'] == 'PERSON']\n",
    "df3.head()           # Hmmm"
   ]
  },
  {
   "cell_type": "code",
   "execution_count": 47,
   "metadata": {},
   "outputs": [
    {
     "data": {
      "text/html": [
       "<div>\n",
       "<style scoped>\n",
       "    .dataframe tbody tr th:only-of-type {\n",
       "        vertical-align: middle;\n",
       "    }\n",
       "\n",
       "    .dataframe tbody tr th {\n",
       "        vertical-align: top;\n",
       "    }\n",
       "\n",
       "    .dataframe thead th {\n",
       "        text-align: right;\n",
       "    }\n",
       "</style>\n",
       "<table border=\"1\" class=\"dataframe\">\n",
       "  <thead>\n",
       "    <tr style=\"text-align: right;\">\n",
       "      <th></th>\n",
       "      <th>xlabs</th>\n",
       "      <th>yvals</th>\n",
       "    </tr>\n",
       "  </thead>\n",
       "  <tbody>\n",
       "    <tr>\n",
       "      <th>16</th>\n",
       "      <td>NER: work_of_art</td>\n",
       "      <td>0.000000</td>\n",
       "    </tr>\n",
       "    <tr>\n",
       "      <th>1</th>\n",
       "      <td>NER: event</td>\n",
       "      <td>0.000000</td>\n",
       "    </tr>\n",
       "    <tr>\n",
       "      <th>13</th>\n",
       "      <td>NER: money</td>\n",
       "      <td>0.000000</td>\n",
       "    </tr>\n",
       "    <tr>\n",
       "      <th>9</th>\n",
       "      <td>NER: product</td>\n",
       "      <td>0.000000</td>\n",
       "    </tr>\n",
       "    <tr>\n",
       "      <th>7</th>\n",
       "      <td>NER: law</td>\n",
       "      <td>0.000000</td>\n",
       "    </tr>\n",
       "    <tr>\n",
       "      <th>5</th>\n",
       "      <td>NER: ordinal</td>\n",
       "      <td>0.000000</td>\n",
       "    </tr>\n",
       "    <tr>\n",
       "      <th>0</th>\n",
       "      <td>NER:</td>\n",
       "      <td>0.803915</td>\n",
       "    </tr>\n",
       "    <tr>\n",
       "      <th>8</th>\n",
       "      <td>NER: loc</td>\n",
       "      <td>1.694915</td>\n",
       "    </tr>\n",
       "    <tr>\n",
       "      <th>6</th>\n",
       "      <td>NER: norp</td>\n",
       "      <td>4.761905</td>\n",
       "    </tr>\n",
       "    <tr>\n",
       "      <th>10</th>\n",
       "      <td>NER: quantity</td>\n",
       "      <td>5.555556</td>\n",
       "    </tr>\n",
       "    <tr>\n",
       "      <th>12</th>\n",
       "      <td>NER: percent</td>\n",
       "      <td>6.000000</td>\n",
       "    </tr>\n",
       "    <tr>\n",
       "      <th>14</th>\n",
       "      <td>NER: gpe</td>\n",
       "      <td>8.943089</td>\n",
       "    </tr>\n",
       "    <tr>\n",
       "      <th>2</th>\n",
       "      <td>NER: cardinal</td>\n",
       "      <td>9.473684</td>\n",
       "    </tr>\n",
       "    <tr>\n",
       "      <th>3</th>\n",
       "      <td>NER: person</td>\n",
       "      <td>9.677419</td>\n",
       "    </tr>\n",
       "    <tr>\n",
       "      <th>4</th>\n",
       "      <td>NER: org</td>\n",
       "      <td>14.285714</td>\n",
       "    </tr>\n",
       "    <tr>\n",
       "      <th>15</th>\n",
       "      <td>NER: date</td>\n",
       "      <td>29.629630</td>\n",
       "    </tr>\n",
       "    <tr>\n",
       "      <th>11</th>\n",
       "      <td>NER: fac</td>\n",
       "      <td>33.333333</td>\n",
       "    </tr>\n",
       "  </tbody>\n",
       "</table>\n",
       "</div>"
      ],
      "text/plain": [
       "               xlabs      yvals\n",
       "16  NER: work_of_art   0.000000\n",
       "1         NER: event   0.000000\n",
       "13        NER: money   0.000000\n",
       "9       NER: product   0.000000\n",
       "7           NER: law   0.000000\n",
       "5       NER: ordinal   0.000000\n",
       "0              NER:    0.803915\n",
       "8           NER: loc   1.694915\n",
       "6          NER: norp   4.761905\n",
       "10     NER: quantity   5.555556\n",
       "12      NER: percent   6.000000\n",
       "14          NER: gpe   8.943089\n",
       "2      NER: cardinal   9.473684\n",
       "3        NER: person   9.677419\n",
       "4           NER: org  14.285714\n",
       "15         NER: date  29.629630\n",
       "11          NER: fac  33.333333"
      ]
     },
     "execution_count": 47,
     "metadata": {},
     "output_type": "execute_result"
    }
   ],
   "source": [
    "df = pd.DataFrame(data={'xlabs':xlabs,'yvals':yvals})\n",
    "df = df.sort_values(by='yvals',ascending=True)\n",
    "df"
   ]
  },
  {
   "cell_type": "code",
   "execution_count": 48,
   "metadata": {},
   "outputs": [
    {
     "data": {
      "image/png": "[encoded data removed]",
      "text/plain": [
       "<Figure size 504x504 with 1 Axes>"
      ]
     },
     "metadata": {},
     "output_type": "display_data"
    }
   ],
   "source": [
    "figure(num=None, figsize=(7,7),facecolor='w', edgecolor='k')\n",
    "bars = df['xlabs']\n",
    "y_pos = np.arange(len(bars))\n",
    "val = df['yvals']\n",
    "\n",
    "# Make fake dataset\n",
    "y_pos = np.arange(len(bars))\n",
    " \n",
    "# Create horizontal bars\n",
    "plt.barh(y_pos, val)\n",
    " \n",
    "# Create names on the y-axis\n",
    "plt.yticks(y_pos, bars)\n",
    "\n",
    "plt.xlabel('% of times blanked')\n",
    "# Show graphic\n",
    "plt.show()\n"
   ]
  },
  {
   "cell_type": "markdown",
   "metadata": {},
   "source": [
    "### Fractions of POS tags blanked"
   ]
  },
  {
   "cell_type": "code",
   "execution_count": 49,
   "metadata": {},
   "outputs": [],
   "source": [
    "df = pd.DataFrame(data=d)\n",
    "xlabs=[]\n",
    "yvals=[]\n",
    "\n",
    "# Search through keys and unique items therein, counting \"Trues\"\n",
    "keys = ['pos']\n",
    "for k in keys:\n",
    "    for item in list(set(d[k])):\n",
    "        df2 = df.loc[df[k] == item]\n",
    "        mysum = df2.sum()['tags']\n",
    "        N = len(df2)\n",
    "        \n",
    "        xlabs.append(k.upper() + ': ' + item.lower())\n",
    "        yvals.append(mysum/N*100)\n",
    "\n",
    "        "
   ]
  },
  {
   "cell_type": "code",
   "execution_count": 50,
   "metadata": {},
   "outputs": [
    {
     "data": {
      "text/html": [
       "<div>\n",
       "<style scoped>\n",
       "    .dataframe tbody tr th:only-of-type {\n",
       "        vertical-align: middle;\n",
       "    }\n",
       "\n",
       "    .dataframe tbody tr th {\n",
       "        vertical-align: top;\n",
       "    }\n",
       "\n",
       "    .dataframe thead th {\n",
       "        text-align: right;\n",
       "    }\n",
       "</style>\n",
       "<table border=\"1\" class=\"dataframe\">\n",
       "  <thead>\n",
       "    <tr style=\"text-align: right;\">\n",
       "      <th></th>\n",
       "      <th>ind</th>\n",
       "      <th>words</th>\n",
       "      <th>tags</th>\n",
       "      <th>pos</th>\n",
       "      <th>ner</th>\n",
       "      <th>dep</th>\n",
       "    </tr>\n",
       "  </thead>\n",
       "  <tbody>\n",
       "    <tr>\n",
       "      <th>1</th>\n",
       "      <td>1</td>\n",
       "      <td>Black</td>\n",
       "      <td>0</td>\n",
       "      <td>PROPN</td>\n",
       "      <td>EVENT</td>\n",
       "      <td>compound</td>\n",
       "    </tr>\n",
       "    <tr>\n",
       "      <th>2</th>\n",
       "      <td>2</td>\n",
       "      <td>Death</td>\n",
       "      <td>0</td>\n",
       "      <td>PROPN</td>\n",
       "      <td>EVENT</td>\n",
       "      <td>nsubjpass</td>\n",
       "    </tr>\n",
       "    <tr>\n",
       "      <th>13</th>\n",
       "      <td>13</td>\n",
       "      <td>Central</td>\n",
       "      <td>0</td>\n",
       "      <td>PROPN</td>\n",
       "      <td>LOC</td>\n",
       "      <td>compound</td>\n",
       "    </tr>\n",
       "    <tr>\n",
       "      <th>14</th>\n",
       "      <td>14</td>\n",
       "      <td>Asia</td>\n",
       "      <td>0</td>\n",
       "      <td>PROPN</td>\n",
       "      <td>LOC</td>\n",
       "      <td>pobj</td>\n",
       "    </tr>\n",
       "    <tr>\n",
       "      <th>22</th>\n",
       "      <td>22</td>\n",
       "      <td>Silk</td>\n",
       "      <td>0</td>\n",
       "      <td>PROPN</td>\n",
       "      <td>FAC</td>\n",
       "      <td>compound</td>\n",
       "    </tr>\n",
       "  </tbody>\n",
       "</table>\n",
       "</div>"
      ],
      "text/plain": [
       "    ind    words  tags    pos    ner        dep\n",
       "1     1    Black     0  PROPN  EVENT   compound\n",
       "2     2    Death     0  PROPN  EVENT  nsubjpass\n",
       "13   13  Central     0  PROPN    LOC   compound\n",
       "14   14     Asia     0  PROPN    LOC       pobj\n",
       "22   22     Silk     0  PROPN    FAC   compound"
      ]
     },
     "execution_count": 50,
     "metadata": {},
     "output_type": "execute_result"
    }
   ],
   "source": [
    "df3 = df.loc[df['pos'] == 'PROPN']\n",
    "df3.head()           # Hmmm"
   ]
  },
  {
   "cell_type": "code",
   "execution_count": 51,
   "metadata": {},
   "outputs": [
    {
     "data": {
      "text/html": [
       "<div>\n",
       "<style scoped>\n",
       "    .dataframe tbody tr th:only-of-type {\n",
       "        vertical-align: middle;\n",
       "    }\n",
       "\n",
       "    .dataframe tbody tr th {\n",
       "        vertical-align: top;\n",
       "    }\n",
       "\n",
       "    .dataframe thead th {\n",
       "        text-align: right;\n",
       "    }\n",
       "</style>\n",
       "<table border=\"1\" class=\"dataframe\">\n",
       "  <thead>\n",
       "    <tr style=\"text-align: right;\">\n",
       "      <th></th>\n",
       "      <th>xlabs</th>\n",
       "      <th>yvals</th>\n",
       "    </tr>\n",
       "  </thead>\n",
       "  <tbody>\n",
       "    <tr>\n",
       "      <th>0</th>\n",
       "      <td>POS: sym</td>\n",
       "      <td>0.000000</td>\n",
       "    </tr>\n",
       "    <tr>\n",
       "      <th>1</th>\n",
       "      <td>POS: det</td>\n",
       "      <td>0.000000</td>\n",
       "    </tr>\n",
       "    <tr>\n",
       "      <th>2</th>\n",
       "      <td>POS: adj</td>\n",
       "      <td>0.000000</td>\n",
       "    </tr>\n",
       "    <tr>\n",
       "      <th>3</th>\n",
       "      <td>POS: pron</td>\n",
       "      <td>0.000000</td>\n",
       "    </tr>\n",
       "    <tr>\n",
       "      <th>4</th>\n",
       "      <td>POS: punct</td>\n",
       "      <td>0.000000</td>\n",
       "    </tr>\n",
       "    <tr>\n",
       "      <th>6</th>\n",
       "      <td>POS: x</td>\n",
       "      <td>0.000000</td>\n",
       "    </tr>\n",
       "    <tr>\n",
       "      <th>7</th>\n",
       "      <td>POS: adv</td>\n",
       "      <td>0.000000</td>\n",
       "    </tr>\n",
       "    <tr>\n",
       "      <th>8</th>\n",
       "      <td>POS: part</td>\n",
       "      <td>0.000000</td>\n",
       "    </tr>\n",
       "    <tr>\n",
       "      <th>9</th>\n",
       "      <td>POS: cconj</td>\n",
       "      <td>0.000000</td>\n",
       "    </tr>\n",
       "    <tr>\n",
       "      <th>11</th>\n",
       "      <td>POS: adp</td>\n",
       "      <td>0.000000</td>\n",
       "    </tr>\n",
       "    <tr>\n",
       "      <th>12</th>\n",
       "      <td>POS: verb</td>\n",
       "      <td>0.000000</td>\n",
       "    </tr>\n",
       "    <tr>\n",
       "      <th>10</th>\n",
       "      <td>POS: noun</td>\n",
       "      <td>1.801802</td>\n",
       "    </tr>\n",
       "    <tr>\n",
       "      <th>5</th>\n",
       "      <td>POS: propn</td>\n",
       "      <td>9.523810</td>\n",
       "    </tr>\n",
       "    <tr>\n",
       "      <th>13</th>\n",
       "      <td>POS: num</td>\n",
       "      <td>46.907216</td>\n",
       "    </tr>\n",
       "  </tbody>\n",
       "</table>\n",
       "</div>"
      ],
      "text/plain": [
       "         xlabs      yvals\n",
       "0     POS: sym   0.000000\n",
       "1     POS: det   0.000000\n",
       "2     POS: adj   0.000000\n",
       "3    POS: pron   0.000000\n",
       "4   POS: punct   0.000000\n",
       "6       POS: x   0.000000\n",
       "7     POS: adv   0.000000\n",
       "8    POS: part   0.000000\n",
       "9   POS: cconj   0.000000\n",
       "11    POS: adp   0.000000\n",
       "12   POS: verb   0.000000\n",
       "10   POS: noun   1.801802\n",
       "5   POS: propn   9.523810\n",
       "13    POS: num  46.907216"
      ]
     },
     "execution_count": 51,
     "metadata": {},
     "output_type": "execute_result"
    }
   ],
   "source": [
    "df = pd.DataFrame(data={'xlabs':xlabs,'yvals':yvals})\n",
    "df = df.sort_values(by='yvals',ascending=True)\n",
    "df"
   ]
  },
  {
   "cell_type": "code",
   "execution_count": 52,
   "metadata": {},
   "outputs": [
    {
     "data": {
      "image/png": "[encoded data removed]",
      "text/plain": [
       "<Figure size 504x504 with 1 Axes>"
      ]
     },
     "metadata": {},
     "output_type": "display_data"
    }
   ],
   "source": [
    "figure(num=None, figsize=(7,7),facecolor='w', edgecolor='k')\n",
    "bars = df['xlabs']\n",
    "y_pos = np.arange(len(bars))\n",
    "val = df['yvals']\n",
    "\n",
    "# Make fake dataset\n",
    "y_pos = np.arange(len(bars))\n",
    " \n",
    "# Create horizontal bars\n",
    "plt.barh(y_pos, val)\n",
    " \n",
    "# Create names on the y-axis\n",
    "plt.yticks(y_pos, bars)\n",
    "\n",
    "plt.xlabel('% of times blanked')\n",
    "# Show graphic\n",
    "plt.show()\n"
   ]
  },
  {
   "cell_type": "markdown",
   "metadata": {},
   "source": [
    "## Whole article"
   ]
  },
  {
   "cell_type": "markdown",
   "metadata": {},
   "source": [
    "### Ground truth"
   ]
  },
  {
   "cell_type": "code",
   "execution_count": 53,
   "metadata": {},
   "outputs": [],
   "source": [
    "\n",
    "# print('--------------- GROUND TRUTH ---------------')\n",
    "\n",
    "# # Pull out sample paragraph\n",
    "# for p in arts[ind_ex]['paragraphs']:\n",
    "#     # # Print all AllenNLP classifications\n",
    "#     # print([(a,b) for a,b in zip(p['allenNER']['words'].split(), p['allenNER']['tags'].split())])\n",
    "\n",
    "#     # AllenNLP results\n",
    "#     words = p['allenNER']['words'].split()\n",
    "#     # tags = p['allenNER']['tags'].split()\n",
    "#     # tags = [not t == '0' for t in tags]   # Convert to binary\n",
    "#     tags = p['blank_classified_allen']\n",
    "\n",
    "#     # Ground truth\n",
    "#     blank_classification = p['blank_classification']\n",
    "\n",
    "#     words_blanked_ground_truth = words2words_blanked(words,blank_classification)\n",
    "#     words_blanked_allen = words2words_blanked(words,tags)\n",
    "#     words_hash_ground_truth = words2words_hashblank(words,blank_classification)\n",
    "#     words_hash_allen = words2words_hashblank(words,tags)\n",
    "    \n",
    "    \n",
    "#     # Blanked text\n",
    "#     print(words2text(words_hash_ground_truth))\n",
    "\n",
    "#     # Answers    \n",
    "#     myanswers = words2answers(words,blank_classification)\n",
    "#     print(\"Answers:\")\n",
    "#     print(myanswers)\n",
    "\n",
    "    "
   ]
  },
  {
   "cell_type": "markdown",
   "metadata": {},
   "source": [
    "### My model"
   ]
  },
  {
   "cell_type": "code",
   "execution_count": 54,
   "metadata": {},
   "outputs": [
    {
     "name": "stdout",
     "output_type": "stream",
     "text": [
      "--------------- MY MODEL ---------------\n",
      "The Black Death is thought to have originated in the arid plains of Central Asia, where it then travelled along the Silk Road, reaching Crimea by ___1343___. From there, it was most likely carried by Oriental rat fleas living on the black rats that were regular passengers on merchant ships. Spreading throughout the Mediterranean and Europe, the Black Death is estimated to have killed ___30–60___ % of Europe 's total population. In total, the plague reduced the world population from an estimated 450 million down to ___350–375___ million in the 14th century. The world population as a whole did not recover to pre - plague levels until the 17th century. The plague recurred occasionally in Europe until the 19th century.\n",
      "Answers:\n",
      "['350–375', '30–60', '1343']\n",
      "The plague disease, caused by ___Yersinia___ ___pestis___, is enzootic ( commonly present ) in populations of fleas carried by ground rodents, including ___marmots___, in various areas including Central Asia, Kurdistan, Western Asia, Northern India and Uganda. Nestorian graves dating to 1338–39 near Lake ___Issyk___ ___Kul___ in Kyrgyzstan have inscriptions referring to plague and are thought by many epidemiologists to mark the outbreak of the epidemic, from which it could easily have spread to China and India. In October 2010, medical geneticists suggested that all three of the great waves of the plague originated in China. In China, the 13th century Mongol conquest caused a decline in farming and trading. However, economic recovery had been observed at the beginning of the 14th century. In the ___1330s___ a large number of natural disasters and plagues led to widespread famine, starting in ___1331___, with a deadly plague arriving soon after. Epidemics that may have included plague killed an estimated 25 million Chinese and other Asians during the 15 years before it reached Constantinople in ___1347___.\n",
      "Answers:\n",
      "['Issyk', '1331', '1347', 'Kul', '1330s', 'Yersinia', 'pestis', 'marmots']\n",
      "Plague was reportedly first introduced to Europe via Genoese traders at the port city of ___Kaffa___ in the Crimea in ___1347___. After a protracted siege, during which the Mongol army under Jani Beg was suffering from the disease, the army catapulted the infected corpses over the city walls of ___Kaffa___ to infect the inhabitants. The Genoese traders fled, taking the plague by ship into Sicily and the south of Europe, whence it spread north. Whether or not this hypothesis is accurate, it is clear that several existing conditions such as war, famine, and weather contributed to the severity of the Black Death.\n",
      "Answers:\n",
      "['1347', 'Kaffa']\n",
      "From Italy, the disease spread northwest across Europe, striking France, Spain, Portugal and England by June ___1348___, then turned and spread east through Germany and Scandinavia from ___1348___ to ___1350___. It was introduced in Norway in ___1349___ when a ship landed at Askøy, then spread to ___Bjørgvin___ ( modern Bergen ) and Iceland. Finally it spread to northwestern Russia in ___1351___. The plague was somewhat less common in parts of Europe that had smaller trade relations with their neighbours, including the Kingdom of Poland, the majority of the Basque Country, isolated parts of Belgium and the Netherlands, and isolated alpine villages throughout the continent.\n",
      "Answers:\n",
      "['1351', '1349', '1348', '1350', 'Bjørgvin']\n",
      "The plague struck various countries in the Middle East during the pandemic, leading to serious depopulation and permanent change in both economic and social structures. As it spread to western Europe, the disease entered the region from southern Russia also. By autumn ___1347___, the plague reached Alexandria in Egypt, probably through the port 's trade with Constantinople, and ports on the Black Sea. During ___1347___, the disease travelled eastward to Gaza, and north along the eastern coast to cities in Lebanon, Syria and Palestine, including Ashkelon, Acre, Jerusalem, Sidon, Damascus, Homs, and Aleppo. In 1348–49, the disease reached Antioch. The city 's residents fled to the north, most of them dying during the journey, but the infection had been spread to the people of Asia Minor.[citation needed ]\n",
      "Answers:\n",
      "['1347']\n",
      "Gasquet ( 1908 ) claimed that the Latin name atra mors ( Black Death ) for the 14th - century epidemic first appeared in modern times in ___1631___ in a book on Danish history by ___J.I.___ Pontanus : \" Vulgo & ab effectu atram mortem vocatibant. ( \" Commonly and from its effects, they called it the black death \" ). The name spread through Scandinavia and then Germany, gradually becoming attached to the mid 14th - century epidemic as a proper name. In England, it was not until ___1823___ that the medieval epidemic was first called the Black Death.\n",
      "Answers:\n",
      "['1631', 'J.I.', '1823']\n",
      "Medical knowledge had stagnated during the Middle Ages. The most authoritative account at the time came from the medical faculty in Paris in a report to the king of France that blamed the heavens, in the form of a conjunction of three planets in ___1345___ that caused a \" great pestilence in the air \". This report became the first and most widely circulated of a series of plague tracts that sought to give advice to sufferers. That the plague was caused by bad air became the most widely accepted theory. Today, this is known as the ___Miasma___ theory. The word ' plague ' had no special significance at this time, and only the recurrence of outbreaks during the Middle Ages gave it the name that has become the medical term.\n",
      "Answers:\n",
      "['Miasma', '1345']\n",
      "The dominant explanation for the Black Death is the plague theory, which attributes the outbreak to ___Yersinia___ ___pestis___, also responsible for an epidemic that began in southern China in ___1865___, eventually spreading to India. The investigation of the pathogen that caused the 19th - century plague was begun by teams of scientists who visited Hong Kong in 1894, among whom was the French - Swiss ___bacteriologist___ Alexandre ___Yersin___, after whom the pathogen was named ___Yersinia___ ___pestis___. The mechanism by which Y. ___pestis___ was usually transmitted was established in 1898 by Paul - Louis ___Simond___ and was found to involve the bites of fleas whose midguts had become obstructed by replicating Y. pestis several days after feeding on an infected host. This blockage results in starvation and aggressive feeding behaviour by the fleas, which repeatedly attempt to clear their blockage by regurgitation, resulting in thousands of plague bacteria being flushed into the feeding site, infecting the host. The bubonic plague mechanism was also dependent on two populations of rodents : one resistant to the disease, which act as hosts, keeping the disease endemic, and a second that lack resistance. When the second population dies, the fleas move on to other hosts, including people, thus creating a human epidemic.\n",
      "Answers:\n",
      "['Simond', 'Yersinia', 'pestis', 'Yersin', 'bacteriologist', '1865']\n",
      "The historian Francis Aidan Gasquet wrote about the ' Great Pestilence ' in ___1893___ and suggested that \" it would appear to be some form of the ordinary Eastern or bubonic plague \". He was able to adopt the epidemiology of the bubonic plague for the Black Death for the second edition in 1908, implicating rats and fleas in the process, and his interpretation was widely accepted for other ancient and medieval epidemics, such as the Justinian plague that was prevalent in the Eastern Roman Empire from ___541___ to 700 CE.\n",
      "Answers:\n",
      "['541', '1893']\n",
      "Other forms of plague have been implicated by modern scientists. The modern bubonic plague has a mortality rate of ___30–75___ % and symptoms including fever of ___38–41___ ° C ( 100–106 ° F ), headaches, painful aching joints, nausea and vomiting, and a general feeling of malaise. Left untreated, of those that contract the bubonic plague, 80 percent die within eight days. Pneumonic plague has a mortality rate of 90 to 95 percent. Symptoms include fever, ___cough___, and blood - tinged ___sputum___. As the disease progresses, ___sputum___ becomes free flowing and bright red. Septicemic plague is the least common of the three forms, with a mortality rate near 100 %. Symptoms are high fevers and purple skin patches ( purpura due to disseminated intravascular coagulation ). In cases of pneumonic and particularly septicemic plague, the progress of the disease is so rapid that there would often be no time for the development of the enlarged lymph nodes that were noted as buboes.\n",
      "Answers:\n",
      "['30–75', 'cough', 'sputum', '38–41']\n",
      "In October 2010, the open - access scientific journal ___PLoS___ Pathogens published a paper by a multinational team who undertook a new investigation into the role of ___Yersinia___ ___pestis___ in the Black Death following the disputed identification by Drancourt and ___Raoult___ in 1998. They assessed the presence of DNA / RNA with Polymerase Chain Reaction ( PCR ) techniques for Y. ___pestis___ from the tooth sockets in human skeletons from mass graves in northern, central and southern Europe that were associated archaeologically with the Black Death and subsequent resurgences. The authors concluded that this new research, together with prior analyses from the south of France and Germany, \"... ends the debate about the etiology of the Black Death, and unambiguously demonstrates that Y. ___pestis___ was the causative agent of the epidemic plague that devastated Europe during the Middle Ages \".\n",
      "Answers:\n",
      "['Yersinia', 'Raoult', 'PLoS', 'pestis']\n",
      "The study also found that there were two previously unknown but related clades ( genetic branches ) of the Y. ___pestis___ genome associated with medieval mass graves. These clades ( which are thought to be extinct ) were found to be ancestral to modern isolates of the modern Y. ___pestis___ strains Y. p. orientalis and Y. p. medievalis, suggesting the plague may have entered Europe in two waves. Surveys of plague pit remains in France and England indicate the first variant entered Europe through the port of Marseille around November ___1347___ and spread through France over the next two years, eventually reaching England in the spring of ___1349___, where it spread through the country in three epidemics. Surveys of plague pit remains from the Dutch town of Bergen op Zoom showed the Y. ___pestis___ genotype responsible for the pandemic that spread through the Low Countries from ___1350___ differed from that found in Britain and France, implying Bergen op Zoom ( and possibly other parts of the southern Netherlands ) was not directly infected from England or France in ___1349___ and suggesting a second wave of plague, different from those in Britain and France, may have been carried to the Low Countries from Norway, the Hanseatic cities or another site.\n",
      "Answers:\n",
      "['1350', '1347', '1349', 'pestis']\n",
      "The results of the ___Haensch___ study have since been confirmed and amended. Based on genetic evidence derived from Black Death victims in the East Smithfield burial site in England, ___Schuenemann___ et al. concluded in 2011 \" that the Black Death in medieval Europe was caused by a variant of Y. ___pestis___ that may no longer exist. \" A study published in Nature in October 2011 sequenced the genome of Y. ___pestis___ from plague victims and indicated that the strain that caused the Black Death is ancestral to most modern strains of the disease.\n",
      "Answers:\n",
      "['Haensch', 'pestis', 'Schuenemann']\n",
      "The plague theory was first significantly challenged by the work of British ___bacteriologist___ J. F. D. Shrewsbury in 1970, who noted that the reported rates of mortality in rural areas during the 14th - century pandemic were inconsistent with the modern bubonic plague, leading him to conclude that contemporary accounts were exaggerations. In 1984 zoologist Graham ___Twigg___ produced the first major work to challenge the bubonic plague theory directly, and his doubts about the identity of the Black Death have been taken up by a number of authors, including Samuel K. ___Cohn___, Jr. ( 2002 ), David ___Herlihy___ ( 1997 ), and Susan Scott and Christopher Duncan ( 2001 ).\n",
      "Answers:\n",
      "['Cohn', 'Twigg', 'Herlihy', 'bacteriologist']\n",
      "It is recognised that an epidemiological account of the plague is as important as an identification of symptoms, but researchers are hampered by the lack of reliable statistics from this period. Most work has been done on the spread of the plague in England, and even estimates of overall population at the start vary by over 100 % as no census was undertaken between the time of publication of the Domesday Book and the year ___1377___. Estimates of plague victims are usually extrapolated from figures from the clergy.\n",
      "Answers:\n",
      "['1377']\n",
      "In addition to arguing that the rat population was insufficient to account for a bubonic plague pandemic, sceptics of the bubonic plague theory point out that the symptoms of the Black Death are not unique ( and arguably in some accounts may differ from bubonic plague ); that transference via fleas in goods was likely to be of marginal significance; and that the DNA results may be flawed and might not have been repeated elsewhere, despite extensive samples from other mass graves. Other arguments include the lack of accounts of the death of rats before outbreaks of plague between the 14th and 17th centuries; temperatures that are too cold in northern Europe for the survival of fleas; that, despite primitive transport systems, the spread of the Black Death was much faster than that of modern bubonic plague; that mortality rates of the Black Death appear to be very high; that, while modern bubonic plague is largely endemic as a rural disease, the Black Death indiscriminately struck urban and rural areas; and that the pattern of the Black Death, with major outbreaks in the same areas separated by 5 to 15 years, differs from modern bubonic plague — which often becomes endemic for decades with annual flare - ups.\n",
      "Answers:\n",
      "[]\n",
      "A variety of alternatives to the Y. ___pestis___ have been put forward. ___Twigg___ suggested that the cause was a form of anthrax, and Norman Cantor ( 2001 ) thought it may have been a combination of anthrax and other pandemics. Scott and Duncan have argued that the pandemic was a form of infectious disease that characterise as hemorrhagic plague similar to Ebola. Archaeologist Barney Sloane has argued that there is insufficient evidence of the extinction of a large number of rats in the archaeological record of the medieval waterfront in London and that the plague spread too quickly to support the thesis that the Y. ___pestis___ was spread from fleas on rats; he argues that transmission must have been person to person. However, no single alternative solution has achieved widespread acceptance. Many scholars arguing for the Y. ___pestis___ as the major agent of the pandemic suggest that its extent and symptoms can be explained by a combination of bubonic plague with other diseases, including typhus, smallpox and respiratory infections. In addition to the bubonic infection, others point to additional septicemic ( a type of \" blood poisoning \" ) and pneumonic ( an airborne plague that attacks the lungs before the rest of the body ) forms of the plague, which lengthen the duration of outbreaks throughout the seasons and help account for its high mortality rate and additional recorded symptoms. In 2014, scientists with Public Health England announced the results of an examination of 25 bodies exhumed from the ___Clerkenwell___ area of London, as well as of wills registered in London during the period, which supported the pneumonic hypothesis.\n",
      "Answers:\n",
      "['Twigg', 'Clerkenwell', 'pestis']\n",
      "The most widely accepted estimate for the Middle East, including Iraq, Iran and Syria, during this time, is for a death rate of about a third. The Black Death killed about 40 % of Egypt 's population. Half of Paris 's population of 100,000 people died. In Italy, the population of Florence was reduced from ___110–120___ thousand inhabitants in ___1338___ down to 50 thousand in ___1351___. At least 60 % of the population of Hamburg and Bremen perished, and a similar percentage of Londoners may have died from the disease as well. Interestingly while contemporary reports account of mass burial pits being created in response to the large numbers of dead, recent scientific investigations of a burial pit in Central London found well - preserved individuals to be buried in isolated, evenly spaced graves, suggesting at least some pre - planning and Christian burials at this time. Before ___1350___, there were about 170,000 settlements in Germany, and this was reduced by nearly 40,000 by ___1450___. In ___1348___, the plague spread so rapidly that before any physicians or government authorities had time to reflect upon its origins, about a third of the European population had already perished. In crowded cities, it was not uncommon for as much as 50 % of the population to die. The disease bypassed some areas, and the most isolated areas were less vulnerable to contagion. Monks and priests were especially hard hit since they cared for victims of the Black Death.\n",
      "Answers:\n",
      "['1351', '1450', '1338', '1348', '1350', '110–120']\n",
      "The plague repeatedly returned to haunt Europe and the Mediterranean throughout the 14th to 17th centuries. According to ___Biraben___, the plague was present somewhere in Europe in every year between ___1346___ and ___1671___. The Second Pandemic was particularly widespread in the following years : ___1360–63___; ___1374___; ___1400___; 1438–39; 1456–57; ___1464–66___; 1481–85; ___1500–03___; 1518–31; 1544–48; ___1563–66___; ___1573–88___; 1596–99; 1602–11; 1623–40; ___1644–54___; and ___1664–67___. Subsequent outbreaks, though severe, marked the retreat from most of Europe ( 18th century ) and northern Africa ( 19th century ). According to Geoffrey Parker, \" France alone lost almost a million people to the plague in the epidemic of 1628–31. \"\n",
      "Answers:\n",
      "['1374', '1573–88', '1360–63', '1671', '1400', '1500–03', '1563–66', '1664–67', 'Biraben', '1464–66', '1346', '1644–54']\n",
      "In England, in the absence of census figures, historians propose a range of preincident population figures from as high as 7 million to as low as 4 million in ___1300___, and a postincident population figure as low as 2 million. By the end of ___1350___, the Black Death subsided, but it never really died out in England. Over the next few hundred years, further outbreaks occurred in ___1361–62___, ___1369___, 1379–83, ___1389–93___, and throughout the first half of the 15th century. An outbreak in ___1471___ took as much as ___10–15___ % of the population, while the death rate of the plague of ___1479–80___ could have been as high as 20 %. The most general outbreaks in Tudor and Stuart England seem to have begun in ___1498___, ___1535___, ___1543___, ___1563___, ___1589___, ___1603___, ___1625___, and ___1636___, and ended with the Great Plague of London in ___1665___.\n",
      "Answers:\n",
      "['1625', '1471', '1535', '1300', '1498', '1369', '10–15', '1563', '1589', '1636', '1361–62', '1543', '1603', '1350', '1479–80', '1389–93', '1665']\n",
      "In ___1466___, perhaps 40,000 people died of the plague in Paris. During the 16th and 17th centuries, the plague was present in Paris around 30 per cent of the time. The Black Death ravaged Europe for three years before it continued on into Russia, where the disease was present somewhere in the country 25 times between ___1350___ to ___1490___. Plague epidemics ravaged London in ___1563___, ___1593___, ___1603___, ___1625___, ___1636___, and ___1665___, reducing its population by 10 to 30 % during those years. Over 10 % of Amsterdam 's population died in ___1623–25___, and again in 1635–36, ___1655___, and ___1664___. Plague occurred in Venice 22 times between ___1361___ and ___1528___. The plague of ___1576–77___ killed 50,000 in Venice, almost a third of the population. Late outbreaks in central Europe included the Italian Plague of ___1629–1631___, which is associated with troop movements during the Thirty Years ' War, and the Great Plague of Vienna in ___1679___. Over 60 % of Norway 's population died in ___1348–50___. The last plague outbreak ravaged Oslo in ___1654___.\n",
      "Answers:\n",
      "['1625', '1348–50', '1466', '1623–25', '1655', '1563', '1664', '1490', '1636', '1528', '1361', '1593', '1679', '1603', '1350', '1654', '1629–1631', '1576–77', '1665']\n",
      "In the first half of the 17th century, a plague claimed some 1.7 million victims in Italy, or about 14 % of the population. In ___1656___, the plague killed about half of Naples ' 300,000 inhabitants. More than ___1.25___ million deaths resulted from the extreme incidence of plague in 17th - century Spain. The plague of ___1649___ probably reduced the population of Seville by half. In 1709–13, a plague epidemic that followed the Great Northern War ( ___1700–21___, Sweden v. Russia and allies ) killed about 100,000 in Sweden, and 300,000 in Prussia. The plague killed two - thirds of the inhabitants of Helsinki, and claimed a third of Stockholm 's population. Europe 's last major epidemic occurred in ___1720___ in Marseille.\n",
      "Answers:\n",
      "['1649', '1700–21', '1656', '1720', '1.25']\n",
      "The Black Death ravaged much of the Islamic world. Plague was present in at least one location in the Islamic world virtually every year between 1500 and ___1850___. Plague repeatedly struck the cities of North Africa. Algiers lost 30 to 50 thousand inhabitants to it in 1620–21, and again in 1654–57, ___1665___, ___1691___, and ___1740–42___. Plague remained a major event in Ottoman society until the second quarter of the 19th century. Between ___1701___ and ___1750___, thirty - seven larger and smaller epidemics were recorded in Constantinople, and an additional thirty - one between ___1751___ and ___1800___. Baghdad has suffered severely from visitations of the plague, and sometimes two - thirds of its population has been wiped out.\n",
      "Answers:\n",
      "['1740–42', '1751', '1850', '1800', '1691', '1701', '1665', '1750']\n"
     ]
    }
   ],
   "source": [
    "\n",
    "print('--------------- MY MODEL ---------------')\n",
    "# Pull out sample paragraph\n",
    "for p in arts[ind_ex]['paragraphs']:\n",
    "    # # Print all AllenNLP classifications\n",
    "    # print([(a,b) for a,b in zip(p['allenNER']['words'].split(), p['allenNER']['tags'].split())])\n",
    "\n",
    "    # AllenNLP results\n",
    "    words = p['allenNER']['words'].split()\n",
    "    # tags = p['allenNER']['tags'].split()\n",
    "    # tags = [not t == '0' for t in tags]   # Convert to binary\n",
    "    tags = p['blank_classified_allen']\n",
    "\n",
    "    # Ground truth\n",
    "    blank_classification = p['blank_classification']\n",
    "\n",
    "    words_blanked_ground_truth = words2words_blanked(words,blank_classification)\n",
    "    words_blanked_allen = words2words_blanked(words,tags)\n",
    "    words_hash_ground_truth = words2words_hashblank(words,blank_classification)\n",
    "    words_hash_allen = words2words_hashblank(words,tags)\n",
    "    \n",
    "    # Blanked text\n",
    "    print(words2text(words_hash_allen))\n",
    "\n",
    "    # Answers    \n",
    "    myanswers = list(set(words2answers(words,tags)))\n",
    "    print(\"Answers:\")\n",
    "    print(myanswers)\n",
    "    \n",
    "\n",
    "    "
   ]
  },
  {
   "cell_type": "markdown",
   "metadata": {},
   "source": [
    "# All articles - compare blanks"
   ]
  },
  {
   "cell_type": "code",
   "execution_count": 55,
   "metadata": {},
   "outputs": [
    {
     "name": "stdout",
     "output_type": "stream",
     "text": [
      "Warning article 175 contains 0 ground truth blanks and 14 tags. Likely bad\n",
      "Warning article 440 contains 0 ground truth blanks and 15 tags. Likely bad\n",
      "Warning article 441 contains 0 ground truth blanks and 29 tags. Likely bad\n"
     ]
    }
   ],
   "source": [
    "# Initialize stuff\n",
    "TPR0 = []\n",
    "FPR0 = []\n",
    "ACC0 = []\n",
    "Nsentences0 = []\n",
    "TP0 = []\n",
    "FP0 = []\n",
    "FN0 = []\n",
    "TN0 = []\n",
    "TPpersent0 = []\n",
    "FPpersent0 = []\n",
    "abads = []            # Article-level bads\n",
    "sbc0 = []\n",
    "st0 = []\n",
    "Nwords0 = []\n",
    "\n",
    "art = arts[:]\n",
    "\n",
    "i=-1\n",
    "for a in art:\n",
    "    i=i+1\n",
    "    # AllenNLP results\n",
    "    words = [w for p in a['paragraphs'] for w in p['allenNER']['words'].split()]\n",
    "#     tags = [t for p in a['paragraphs'] for t in p['allenNER']['tags'].split()]\n",
    "#     tags = [not t == '0' for t in tags]   # Convert to binary\n",
    "    tags = [t for p in a['paragraphs'] for t in p['blank_classified_allen']]\n",
    "\n",
    "    # Ground truth\n",
    "    blank_classification = [bc for p in a['paragraphs'] for bc in p['blank_classification']]\n",
    "    blank_classification = [b == 1 for b in blank_classification] # Convert to binary\n",
    "\n",
    "    Nsentences2 = len(text2sentences(words2text(words)))\n",
    "\n",
    "    sbc = sum(blank_classification)\n",
    "    st = sum(tags)\n",
    "    if sbc == 0 or st == 0:\n",
    "        print(\"Warning article {} contains {} ground truth blanks and {} tags. Likely bad\".format(str(i),str(sbc),str(st)))\n",
    "\n",
    "        # Make up some dummy values so don't confuse for a REAL outlier in plots. Should just drop this data in the future\n",
    "        # This is ok because we'll skip them later if want to do stats - that's what abads is for\n",
    "        TPR = 0.0\n",
    "        FPR = 0.0\n",
    "        ACC = 0.0\n",
    "        TP = 100\n",
    "        FP = 100\n",
    "        FN = 100\n",
    "        TN = 100\n",
    "\n",
    "        TPpersent = 1\n",
    "        FPpersent = 1\n",
    "        abads.append(i)\n",
    "    else:\n",
    "        TP = sum([b and t for b,t in zip(blank_classification,tags)])\n",
    "        FP = sum([not b and t for b,t in zip(blank_classification,tags)])\n",
    "        FN = sum([b and not t for b,t in zip(blank_classification,tags)])\n",
    "        TN = sum([not b and not t for b,t in zip(blank_classification,tags)])\n",
    "        ACC = (TP+TN)/(TP+FP+FN+TN)\n",
    "        ACC2 = sum([b == t for b,t in zip(blank_classification,tags)]) / len(tags)\n",
    "\n",
    "        # Sensitivity, hit rate, recall, or true positive rate\n",
    "        TPR = TP/(TP+FN)\n",
    "        # Specificity or true negative rate\n",
    "        TNR = TN/(TN+FP)\n",
    "        # Precision or positive predictive value\n",
    "        PPV = TP/(TP+FP)\n",
    "        # Negative predictive value\n",
    "        NPV = TN/(TN+FN)\n",
    "        # Fall out or false positive rate\n",
    "        FPR = FP/(FP+TN)\n",
    "        # False negative rate\n",
    "        FNR = FN/(TP+FN)\n",
    "        # False discovery rate\n",
    "        FDR = FP/(TP+FP)\n",
    "\n",
    "        # Per sententance values\n",
    "        TPpersent = TP / Nsentences2\n",
    "        FPpersent = FP / Nsentences2\n",
    "\n",
    "    TPR0.append(TPR)\n",
    "    FPR0.append(FPR)\n",
    "    ACC0.append(ACC)\n",
    "    TP0.append(TP)\n",
    "    FP0.append(FP)\n",
    "    FN0.append(FN)\n",
    "    TN0.append(TN)\n",
    "    TPpersent0.append(TPpersent)\n",
    "    FPpersent0.append(FPpersent)\n",
    "    sbc0.append(sbc)\n",
    "    st0.append(st)\n",
    "    Nwords0.append(len(tags))"
   ]
  },
  {
   "cell_type": "code",
   "execution_count": 56,
   "metadata": {},
   "outputs": [
    {
     "name": "stdout",
     "output_type": "stream",
     "text": [
      "Bill_%26_Melinda_Gates_Foundation\n",
      "Myocardial_infarction\n",
      "Matter\n"
     ]
    }
   ],
   "source": [
    "# Print tiles of bad articles\n",
    "for ab in abads:\n",
    "    print(art[ab]['title'])"
   ]
  },
  {
   "cell_type": "code",
   "execution_count": 57,
   "metadata": {},
   "outputs": [
    {
     "name": "stdout",
     "output_type": "stream",
     "text": [
      "Ntrain=442\n",
      "Ndev=35\n",
      "Ntrain_bad=3\n",
      "Ndev_bad=0\n"
     ]
    }
   ],
   "source": [
    "# Calculate how this affects Ntrain / Ndev\n",
    "Ntrain_bad = len([b for b in abads if b < Ntrain])\n",
    "Ndev_bad = len([b for b in abads if b >= Ntrain])\n",
    "print('Ntrain={}'.format(str(Ntrain)))\n",
    "print('Ndev={}'.format(str(Ndev)))\n",
    "print('Ntrain_bad={}'.format(str(Ntrain_bad)))\n",
    "print('Ndev_bad={}'.format(str(Ndev_bad)))\n",
    "\n",
    "\n"
   ]
  },
  {
   "cell_type": "markdown",
   "metadata": {},
   "source": [
    "## Plot TPR"
   ]
  },
  {
   "cell_type": "code",
   "execution_count": 58,
   "metadata": {},
   "outputs": [
    {
     "data": {
      "image/png": "[encoded data removed]",
      "text/plain": [
       "<Figure size 1080x288 with 1 Axes>"
      ]
     },
     "metadata": {},
     "output_type": "display_data"
    },
    {
     "data": {
      "image/png": "[encoded data removed]",
      "text/plain": [
       "<Figure size 1080x288 with 2 Axes>"
      ]
     },
     "metadata": {
      "needs_background": "light"
     },
     "output_type": "display_data"
    }
   ],
   "source": [
    "myvar = TPR0\n",
    "varname = 'TPR'\n",
    "\n",
    "# Plot bargraph\n",
    "plotbar_train_dev2(myvar,Ntrain,Ndev,ylabel='{} per article'.format(varname),xlabel='Article #')\n",
    "\n",
    "# # # Plot the histogram without containing any bads\n",
    "# myvar without the bad articles\n",
    "myvar2 = [tp for i, tp in enumerate(myvar) if i not in abads]\n",
    "\n",
    "# Plot the histogram\n",
    "ax = plothist_train_dev2(myvar2,Ntrain-Ntrain_bad,Ndev-Ndev_bad,xlabel=varname,ylabel='N Articles',devbins='auto')\n",
    "set(ax['ax1'].set_xlim(0,1));\n",
    "set(ax['ax2'].set_xlim(0,1));\n",
    "\n"
   ]
  },
  {
   "cell_type": "markdown",
   "metadata": {},
   "source": [
    "## Plot FPR"
   ]
  },
  {
   "cell_type": "code",
   "execution_count": 59,
   "metadata": {},
   "outputs": [
    {
     "data": {
      "image/png": "[encoded data removed]",
      "text/plain": [
       "<Figure size 1080x288 with 1 Axes>"
      ]
     },
     "metadata": {},
     "output_type": "display_data"
    },
    {
     "data": {
      "image/png": "[encoded data removed]",
      "text/plain": [
       "<Figure size 1080x288 with 2 Axes>"
      ]
     },
     "metadata": {
      "needs_background": "light"
     },
     "output_type": "display_data"
    },
    {
     "data": {
      "image/png": "[encoded data removed]",
      "text/plain": [
       "<Figure size 1080x288 with 2 Axes>"
      ]
     },
     "metadata": {
      "needs_background": "light"
     },
     "output_type": "display_data"
    }
   ],
   "source": [
    "myvar = FPR0\n",
    "varname = 'FPR'\n",
    "\n",
    "# Plot bargraph\n",
    "plotbar_train_dev2(myvar,Ntrain,Ndev,ylabel='{} per article'.format(varname),xlabel='Article #')\n",
    "\n",
    "# # # Plot the histogram without containing any bads\n",
    "# myvar without the bad articles\n",
    "myvar2 = [tp for i, tp in enumerate(myvar) if i not in abads]\n",
    "\n",
    "# REdefine for plotting with with more decimal places\n",
    "def plothist_train_dev2(myvar,Ntrain,Ndev,xlabel='value',ylabel='N Articles',devbins=30):\n",
    "    # Import fig stuff\n",
    "    import matplotlib.pyplot as plt\n",
    "    from matplotlib.pyplot import figure\n",
    "    import statistics\n",
    "\n",
    "    f, (ax1, ax2) = plt.subplots(1, 2, sharey=False,figsize=(15, 4));\n",
    "    ax1.hist(myvar[0:Ntrain-1], bins=30);  # arguments are passed to np.histogram\n",
    "    ax1.set_title(\"Narticles={}, median={}, mean={}\".format(str(Ntrain),'{0:.4f}'.format(statistics.median(myvar[0:Ntrain-1])),'{0:.2f}'.format(statistics.mean(myvar[0:Ntrain-1]))));\n",
    "    ax1.set_ylabel('N Articles');\n",
    "    ax1.set_xlabel(xlabel);\n",
    "\n",
    "    ax2.hist(myvar[Ntrain:], bins=devbins);  # arguments are passed to np.histogram\n",
    "    ax2.set_title(\"Narticles={}, median={}, mean={}\".format(str(Ndev),'{0:.4f}'.format(statistics.median(myvar[Ntrain:])),'{0:.2f}'.format(statistics.mean(myvar[Ntrain:]))));\n",
    "    ax2.set_xlabel(xlabel);\n",
    "    return {'ax1': ax1, 'ax2':ax2}\n",
    "\n",
    "\n",
    "# Plot the histogram\n",
    "ax = plothist_train_dev2(myvar2,Ntrain-Ntrain_bad,Ndev-Ndev_bad,xlabel=varname,ylabel='N Articles',devbins='auto')\n",
    "ax = plothist_train_dev2(myvar,Ntrain,Ndev,xlabel=varname,ylabel='N Articles',devbins='auto')\n",
    "# set(ax['ax1'].set_xlim(0,1));\n",
    "# set(ax['ax2'].set_xlim(0,1));\n",
    "\n"
   ]
  },
  {
   "cell_type": "markdown",
   "metadata": {},
   "source": [
    "## Plot ACC"
   ]
  },
  {
   "cell_type": "code",
   "execution_count": 60,
   "metadata": {},
   "outputs": [
    {
     "data": {
      "image/png": "[encoded data removed]",
      "text/plain": [
       "<Figure size 1080x288 with 1 Axes>"
      ]
     },
     "metadata": {},
     "output_type": "display_data"
    },
    {
     "data": {
      "image/png": "[encoded data removed]",
      "text/plain": [
       "<Figure size 1080x288 with 2 Axes>"
      ]
     },
     "metadata": {
      "needs_background": "light"
     },
     "output_type": "display_data"
    }
   ],
   "source": [
    "myvar = ACC0\n",
    "varname = 'Accuracy'\n",
    "\n",
    "# Plot bargraph\n",
    "plotbar_train_dev2(myvar,Ntrain,Ndev,ylabel='{} per article'.format(varname),xlabel='Article #')\n",
    "\n",
    "# # # Plot the histogram without containing any bads\n",
    "# myvar without the bad articles\n",
    "myvar2 = [tp for i, tp in enumerate(myvar) if i not in abads]\n",
    "\n",
    "# Plot the histogram\n",
    "ax = plothist_train_dev2(myvar2,Ntrain-Ntrain_bad,Ndev-Ndev_bad,xlabel=varname,ylabel='N Articles',devbins='auto')\n",
    "set(ax['ax1'].set_xlim(0,1));\n",
    "set(ax['ax2'].set_xlim(0,1));\n",
    "\n"
   ]
  },
  {
   "cell_type": "markdown",
   "metadata": {},
   "source": [
    "## Plot True positives per sentence"
   ]
  },
  {
   "cell_type": "code",
   "execution_count": 61,
   "metadata": {},
   "outputs": [
    {
     "data": {
      "image/png": "[encoded data removed]",
      "text/plain": [
       "<Figure size 1080x288 with 1 Axes>"
      ]
     },
     "metadata": {},
     "output_type": "display_data"
    },
    {
     "data": {
      "image/png": "[encoded data removed]",
      "text/plain": [
       "<Figure size 1080x288 with 2 Axes>"
      ]
     },
     "metadata": {
      "needs_background": "light"
     },
     "output_type": "display_data"
    }
   ],
   "source": [
    "myvar = TPpersent0\n",
    "varname = 'True positives per sentence'\n",
    "\n",
    "# Plot bargraph\n",
    "plotbar_train_dev2(myvar,Ntrain,Ndev,ylabel='{}'.format(varname),xlabel='Article #')\n",
    "\n",
    "# # # Plot the histogram without containing any bads\n",
    "# myvar without the bad articles\n",
    "myvar2 = [tp for i, tp in enumerate(myvar) if i not in abads]\n",
    "\n",
    "# Plot the histogram\n",
    "ax = plothist_train_dev2(myvar2,Ntrain-Ntrain_bad,Ndev-Ndev_bad,xlabel=varname,ylabel='N Articles',devbins='auto')\n",
    "# set(ax['ax1'].set_xlim(0,1));\n",
    "# set(ax['ax2'].set_xlim(0,1));\n",
    "\n"
   ]
  },
  {
   "cell_type": "markdown",
   "metadata": {},
   "source": [
    "## Plot False positives per sentence"
   ]
  },
  {
   "cell_type": "code",
   "execution_count": 62,
   "metadata": {},
   "outputs": [
    {
     "data": {
      "image/png": "[encoded data removed]",
      "text/plain": [
       "<Figure size 1080x288 with 1 Axes>"
      ]
     },
     "metadata": {},
     "output_type": "display_data"
    },
    {
     "data": {
      "image/png": "[encoded data removed]",
      "text/plain": [
       "<Figure size 1080x288 with 2 Axes>"
      ]
     },
     "metadata": {
      "needs_background": "light"
     },
     "output_type": "display_data"
    }
   ],
   "source": [
    "myvar = FPpersent0\n",
    "varname = 'False positives per sentence'\n",
    "\n",
    "# Plot bargraph\n",
    "plotbar_train_dev2(myvar,Ntrain,Ndev,ylabel='{}'.format(varname),xlabel='Article #')\n",
    "\n",
    "# # # Plot the histogram without containing any bads\n",
    "# myvar without the bad articles\n",
    "myvar2 = [tp for i, tp in enumerate(myvar) if i not in abads]\n",
    "\n",
    "# Plot the histogram\n",
    "ax = plothist_train_dev2(myvar2,Ntrain-Ntrain_bad,Ndev-Ndev_bad,xlabel=varname,ylabel='N Articles',devbins='auto')\n",
    "# set(ax['ax1'].set_xlim(0,1));\n",
    "# set(ax['ax2'].set_xlim(0,1));\n",
    "\n"
   ]
  },
  {
   "cell_type": "markdown",
   "metadata": {},
   "source": [
    "## Find articles containing a lot of true positives"
   ]
  },
  {
   "cell_type": "code",
   "execution_count": 63,
   "metadata": {},
   "outputs": [
    {
     "name": "stdout",
     "output_type": "stream",
     "text": [
      "5\n",
      "Article #476\n",
      "Victoria_(Australia)\n",
      "True positive rate: 0.0958904109589041\n"
     ]
    }
   ],
   "source": [
    "\n",
    "# Inds of all articles >0.4 TPR\n",
    "inds = [i for i,x in enumerate(TPR0) if x >=0.08]\n",
    "\n",
    "# Inds of all articles >0.4 TPR and in dev dataset\n",
    "inds = [i for i,x in enumerate(TPR0) if x >=0.08 and x < 1.0 and i > Ntrain and i not in abads]\n",
    "\n",
    "print(len(inds))\n",
    "chosen_ind = inds[0]\n",
    "print('Article #{}'.format(str(i)))\n",
    "print(arts[chosen_ind]['title'])\n",
    "print('True positive rate: {}'.format(str(TPR0[chosen_ind])))"
   ]
  },
  {
   "cell_type": "code",
   "execution_count": 64,
   "metadata": {},
   "outputs": [
    {
     "name": "stdout",
     "output_type": "stream",
     "text": [
      "Victoria_(Australia)\n"
     ]
    }
   ],
   "source": [
    "# Pull out sample paragraph\n",
    "a = arts[chosen_ind]\n",
    "print(a['title'])\n",
    "\n",
    "# AllenNLP results\n",
    "words = [w for p in a['paragraphs'] for w in p['allenNER']['words'].split()]\n",
    "# tags = [t for p in a['paragraphs'] for t in p['allenNER']['tags'].split()]\n",
    "# tags = [not t == '0' for t in tags]   # Convert to binary\n",
    "tags = [t for p in a['paragraphs'] for t in p['blank_classified_allen']]\n",
    "\n",
    "# Ground truth\n",
    "blank_classification = [bc for p in a['paragraphs'] for bc in p['blank_classification']]"
   ]
  },
  {
   "cell_type": "code",
   "execution_count": 65,
   "metadata": {},
   "outputs": [
    {
     "name": "stdout",
     "output_type": "stream",
     "text": [
      "============\t\t\t==========\n",
      "Ground truth\t\t\tPrediction\n",
      "============\t\t\t==========\n",
      "The\t\t\t\tThe\n",
      "economy\t\t\t\teconomy\n",
      "of\t\t\t\tof\n",
      "Victoria\t\t\t\tVictoria\n",
      "is\t\t\t\tis\n",
      "______\t\t\t\thighly\n",
      "______\t\t\t\tdiversified\n",
      ":\t\t\t\t:\n",
      "service\t\t\t\tservice\n",
      "sectors\t\t\t\tsectors\n",
      "including\t\t\t\tincluding\n",
      "financial\t\t\t\tfinancial\n",
      "and\t\t\t\tand\n",
      "property\t\t\t\tproperty\n",
      "services\t\t\t\tservices\n",
      ",\t\t\t\t,\n",
      "health\t\t\t\thealth\n",
      ",\t\t\t\t,\n",
      "education\t\t\t\teducation\n",
      ",\t\t\t\t,\n"
     ]
    }
   ],
   "source": [
    "# Side by side compare\n",
    "\n",
    "words_blanked_ground_truth = words2words_blanked(words,blank_classification)\n",
    "words_blanked_allen = words2words_blanked(words,tags)\n",
    "\n",
    "N=len(words_blanked_ground_truth)\n",
    "N=20\n",
    "print(\"============\" + '\\t\\t\\t' + \"==========\")\n",
    "print(\"Ground truth\" + '\\t\\t\\t' + \"Prediction\")\n",
    "print(\"============\" + '\\t\\t\\t' + \"==========\")\n",
    "for c,w in zip(words_blanked_ground_truth[:N],words_blanked_allen[:N]):\n",
    "    print(c + '\\t\\t\\t\\t' + w)\n"
   ]
  },
  {
   "cell_type": "markdown",
   "metadata": {},
   "source": [
    "## Ground truth blanked"
   ]
  },
  {
   "cell_type": "code",
   "execution_count": 66,
   "metadata": {},
   "outputs": [
    {
     "name": "stdout",
     "output_type": "stream",
     "text": [
      "Answers:\n",
      "{'Assembly', 'provisions', 'nearly', 'elected', '1975', 'SurfClassic', 'seats', 'Government', 'Melbourne', 'freight', 'Phillip', 'Labor', 'Nationals', 'gold', 'River', 'regional', 'New', 'Linda', 'troops', 'the', 'Island', '1854', 'mountainous', 'passenger', '1,548', 'standards', 'rushes', 'sevenfold', '760', 'British', '12', 'Victorian', '1851', '15', 'Buckland', 'cities', '32', 'honeyeater', 'extra', 'Liberals', 'diversified', 'Valley', '1,986', '0', '1,000', 'densely', 'Roman', 'car', 'Premier', '48.8', '1,600', 'Daniel', 'Eureka', 'five', 'October', '1803', '1,435', 'Alps', 'Victoria', 'Koori', 'sports', 'unsanitary', 'Andrews', 'systems', 'representatives', 'Australian', 'populous', 'Bogong', 'populated', 'Dessau', 'Bendigo', 'state', 'second', 'Buddhism', 'services', 'billion', 'regions', '63,519', '3', 'years', '489', 'Greens', 'city', '540,800', 'Holland', '2009', 'river', 'Liberal', 'mm', 'curriculum', 'Mount', 'May', '2013', '−11.7', 'Catholic', 'Council', 'Legislative', 'Australia', '32,463', 'Sydney', '168,637', '76,000', '540,000', 'Bay', '2,000', '121,200', 'million', 'fourth', 'Sullivan', 'National', 'tourism', 'warmest', 'costs', 'cramped', '1788', 'big', 'eight', '61', 'government', 'Ford', 'helmeted', 'Asia', 'highly', 'Party', 'Stockade', 'The', 'Parliament', 'almost', '2016', 'areas', '2017', '37', 'four', 'proportional', '270,000'}\n"
     ]
    }
   ],
   "source": [
    "# Blanked text\n",
    "# print(words2text(words_blanked_ground_truth))\n",
    "\n",
    "# Answers    \n",
    "myanswers = words2answers(words,blank_classification)\n",
    "print(\"Answers:\")\n",
    "print(set(myanswers))"
   ]
  },
  {
   "cell_type": "code",
   "execution_count": 67,
   "metadata": {},
   "outputs": [
    {
     "name": "stdout",
     "output_type": "stream",
     "text": [
      "Answers:\n",
      "{'Goulburn', '311,800', '402', 'Nossal', '1851–1860', '1851', '1853', '1836', 'Broadmeadows', 'MacRobertson', 'Bogong', '1857', '76,000', '540,000', '6,600', 'Dessau', 'Mitta', '45,150', '1855', '121,200', '136,000', 'Cory', '13.7', '119.8', '1⁄2', 'Ovens', 'Merri', 'Kiewa', 'honeyeater', '1788', 'Loddon', 'Gippsland', '1,986', 'TrainLink', '61.1', 'Queenscliff', 'Barwon', '489', '540,800', 'Stockade', '462,000', 'Mallee', 'Campaspe', '6,516', '26.7', '48.8', '52,500', '1854', '390,000', 'Maribyrnong', 'Leadbeater', '1,548', '1803', 'Monash', 'Omeo', '1,435', '270,000', 'Koori'}\n"
     ]
    }
   ],
   "source": [
    "# Blanked text\n",
    "# print(words2text(words_blanked_allen))\n",
    "\n",
    "# Answers    \n",
    "myanswers = words2answers(words,tags)\n",
    "print(\"Answers:\")\n",
    "print(set(myanswers))"
   ]
  },
  {
   "cell_type": "markdown",
   "metadata": {},
   "source": [
    "# All dev articles - fract Tags"
   ]
  },
  {
   "cell_type": "code",
   "execution_count": 68,
   "metadata": {},
   "outputs": [
    {
     "name": "stdout",
     "output_type": "stream",
     "text": [
      "Number of articles = 35\n"
     ]
    }
   ],
   "source": [
    "\n",
    "\n",
    "# # Only train articles\n",
    "# art = arts[0:Ntrain]\n",
    "\n",
    "\n",
    "# Only dev articles\n",
    "art = arts[Ntrain:]\n",
    "\n",
    "print(\"Number of articles = {}\".format(str(len(art))))\n",
    "\n",
    "i=-1\n",
    "words = []\n",
    "tags = []\n",
    "for a in art:\n",
    "    i=i+1\n",
    "    #print(a['title'])\n",
    "    # AllenNLP results\n",
    "    words = words + [w for p in a['paragraphs'] for w in p['allenNER']['words'].split()]\n",
    "#     tags = [t for p in a['paragraphs'] for t in p['allenNER']['tags'].split()]\n",
    "#     tags = [not t == '0' for t in tags]   # Convert to binary\n",
    "    tags = tags + [t for p in a['paragraphs'] for t in p['blank_classified_allen']]\n"
   ]
  },
  {
   "cell_type": "code",
   "execution_count": 69,
   "metadata": {},
   "outputs": [],
   "source": [
    "d = calc_grammatical_tags_dict(words,tags)"
   ]
  },
  {
   "cell_type": "markdown",
   "metadata": {},
   "source": [
    "### Fractions of POS tags blanked"
   ]
  },
  {
   "cell_type": "code",
   "execution_count": 70,
   "metadata": {},
   "outputs": [
    {
     "name": "stdout",
     "output_type": "stream",
     "text": [
      "Lenth = 176719\n",
      "    ind     words  tags    pos     ner    dep\n",
      "1     1   Normans     0  PROPN    NORP  nsubj\n",
      "3     3    Norman     0  PROPN  PERSON   intj\n",
      "7     7    French     0  PROPN    NORP   conj\n",
      "13   13  Normanni     1  PROPN          appos\n",
      "29   29  Normandy     0  PROPN  PERSON   pobj\n"
     ]
    }
   ],
   "source": [
    "df = pd.DataFrame(data=d)\n",
    "\n",
    "df3 = df.loc[df['pos'] == 'PROPN']\n",
    "print ('Lenth = {}'.format(str(len(df))))\n",
    "print(df3.head())           # Hmmm\n",
    "\n",
    "xlabs=[]\n",
    "yvals=[]\n",
    "\n",
    "# Search through keys and unique items therein, counting \"Trues\"\n",
    "keys = ['pos']\n",
    "for k in keys:\n",
    "    for item in list(set(d[k])):\n",
    "        df2 = df.loc[df[k] == item]\n",
    "        mysum = df2.sum()['tags']\n",
    "        N = len(df2)\n",
    "        \n",
    "        xlabs.append(k.upper() + ': ' + item.lower())\n",
    "        yvals.append(mysum/N*100)\n",
    "\n"
   ]
  },
  {
   "cell_type": "code",
   "execution_count": 71,
   "metadata": {},
   "outputs": [
    {
     "data": {
      "image/png": "[encoded data removed]",
      "text/plain": [
       "<Figure size 504x504 with 1 Axes>"
      ]
     },
     "metadata": {},
     "output_type": "display_data"
    }
   ],
   "source": [
    "\n",
    "\n",
    "df = pd.DataFrame(data={'xlabs':xlabs,'yvals':yvals})\n",
    "df = df.sort_values(by='yvals',ascending=True)\n",
    "df\n",
    "\n",
    "figure(num=None, figsize=(7,7),facecolor='w', edgecolor='k')\n",
    "bars = df['xlabs']\n",
    "y_pos = np.arange(len(bars))\n",
    "val = df['yvals']\n",
    "\n",
    "# Make fake dataset\n",
    "y_pos = np.arange(len(bars))\n",
    " \n",
    "# Create horizontal bars\n",
    "plt.barh(y_pos, val)\n",
    " \n",
    "# Create names on the y-axis\n",
    "plt.yticks(y_pos, bars)\n",
    "\n",
    "plt.xlabel('% of times blanked')\n",
    "# Show graphic\n",
    "plt.show()\n"
   ]
  },
  {
   "cell_type": "code",
   "execution_count": 72,
   "metadata": {},
   "outputs": [
    {
     "data": {
      "image/png": "[encoded data removed]",
      "text/plain": [
       "<Figure size 504x144 with 1 Axes>"
      ]
     },
     "metadata": {},
     "output_type": "display_data"
    }
   ],
   "source": [
    "\n",
    "\n",
    "df = pd.DataFrame(data={'xlabs':xlabs,'yvals':yvals})\n",
    "df = df.sort_values(by='yvals',ascending=True)\n",
    "df\n",
    "\n",
    "df = df.loc[(df['xlabs'] == 'POS: propn') | (df['xlabs'] == 'POS: adv')| (df['xlabs'] == 'POS: noun')| (df['xlabs'] == 'POS: verb')]\n",
    "\n",
    "figure(num=None, figsize=(7,2),facecolor='w', edgecolor='k')\n",
    "bars = df['xlabs']\n",
    "y_pos = np.arange(len(bars))\n",
    "val = df['yvals']\n",
    "\n",
    "# Make fake dataset\n",
    "y_pos = np.arange(len(bars))\n",
    " \n",
    "# Create horizontal bars\n",
    "plt.barh(y_pos, val)\n",
    " \n",
    "# Create names on the y-axis\n",
    "plt.yticks(y_pos, bars)\n",
    "\n",
    "plt.xlabel('% of times blanked')\n",
    "# Show graphic\n",
    "plt.show()\n"
   ]
  },
  {
   "cell_type": "markdown",
   "metadata": {},
   "source": [
    "### Fractions of NER tags blanked"
   ]
  },
  {
   "cell_type": "code",
   "execution_count": 73,
   "metadata": {},
   "outputs": [
    {
     "name": "stdout",
     "output_type": "stream",
     "text": [
      "    ind     words  tags    pos     ner       dep\n",
      "3     3    Norman     0  PROPN  PERSON      intj\n",
      "29   29  Normandy     0  PROPN  PERSON      pobj\n",
      "40   40     Norse     0  PROPN  PERSON      pobj\n",
      "65   65     Rollo     0  PROPN  PERSON     appos\n",
      "73   73   Charles     0  PROPN  PERSON  compound\n"
     ]
    }
   ],
   "source": [
    "df = pd.DataFrame(data=d)\n",
    "\n",
    "df3 = df.loc[df['ner'] == 'PERSON']\n",
    "print(df3.head())           # Hmmm\n",
    "\n",
    "xlabs=[]\n",
    "yvals=[]\n",
    "\n",
    "# Search through keys and unique items therein, counting \"Trues\"\n",
    "keys = ['ner']\n",
    "for k in keys:\n",
    "    for item in list(set(d[k])):\n",
    "        df2 = df.loc[df[k] == item]\n",
    "        mysum = df2.sum()['tags']\n",
    "        N = len(df2)\n",
    "        \n",
    "        xlabs.append(k.upper() + ': ' + item.lower())\n",
    "        yvals.append(mysum/N*100)\n",
    "\n"
   ]
  },
  {
   "cell_type": "code",
   "execution_count": 74,
   "metadata": {},
   "outputs": [
    {
     "data": {
      "image/png": "[encoded data removed]",
      "text/plain": [
       "<Figure size 504x504 with 1 Axes>"
      ]
     },
     "metadata": {},
     "output_type": "display_data"
    }
   ],
   "source": [
    "\n",
    "\n",
    "df = pd.DataFrame(data={'xlabs':xlabs,'yvals':yvals})\n",
    "df = df.sort_values(by='yvals',ascending=True)\n",
    "df\n",
    "\n",
    "figure(num=None, figsize=(7,7),facecolor='w', edgecolor='k')\n",
    "bars = df['xlabs']\n",
    "y_pos = np.arange(len(bars))\n",
    "val = df['yvals']\n",
    "\n",
    "# Make fake dataset\n",
    "y_pos = np.arange(len(bars))\n",
    " \n",
    "# Create horizontal bars\n",
    "plt.barh(y_pos, val)\n",
    " \n",
    "# Create names on the y-axis\n",
    "plt.yticks(y_pos, bars)\n",
    "\n",
    "plt.xlabel('% of times blanked')\n",
    "# Show graphic\n",
    "plt.show()\n"
   ]
  },
  {
   "cell_type": "code",
   "execution_count": 75,
   "metadata": {},
   "outputs": [
    {
     "data": {
      "image/png": "[encoded data removed]",
      "text/plain": [
       "<Figure size 504x144 with 1 Axes>"
      ]
     },
     "metadata": {},
     "output_type": "display_data"
    }
   ],
   "source": [
    "\n",
    "\n",
    "df = pd.DataFrame(data={'xlabs':xlabs,'yvals':yvals})\n",
    "df = df.sort_values(by='yvals',ascending=True)\n",
    "df\n",
    "\n",
    "df = df.loc[(df['xlabs'] == 'NER: gpe') | (df['xlabs'] == 'NER: person') | (df['xlabs'] == 'NER: ')]\n",
    "\n",
    "\n",
    "figure(num=None, figsize=(7,2),facecolor='w', edgecolor='k')\n",
    "bars = df['xlabs']\n",
    "y_pos = np.arange(len(bars))\n",
    "val = df['yvals']\n",
    "\n",
    "# Make fake dataset\n",
    "y_pos = np.arange(len(bars))\n",
    " \n",
    "# Create horizontal bars\n",
    "plt.barh(y_pos, val)\n",
    " \n",
    "# Create names on the y-axis\n",
    "plt.yticks(y_pos, bars)\n",
    "\n",
    "plt.xlabel('% of times blanked')\n",
    "# Show graphic\n",
    "plt.show()\n"
   ]
  },
  {
   "cell_type": "markdown",
   "metadata": {},
   "source": [
    "# All paragraphs - compare blanks"
   ]
  },
  {
   "cell_type": "code",
   "execution_count": 76,
   "metadata": {},
   "outputs": [],
   "source": [
    "# Initialize stuff\n",
    "TPR0 = []\n",
    "FPR0 = []\n",
    "ACC0 = []\n",
    "Nsentences0 = []\n",
    "TP0 = []\n",
    "FP0 = []\n",
    "FN0 = []\n",
    "TN0 = []\n",
    "TPpersent0 = []\n",
    "FPpersent0 = []\n",
    "abads = []\n",
    "indices = {'i':[],'j':[],'k':[]}\n",
    "\n",
    "art = arts[:]\n",
    "\n",
    "\n",
    "# Only track true positives and false positive to avoid having to deal with other annoying edge cases\n",
    "i=-1\n",
    "k=-1\n",
    "Ntrainp = 0\n",
    "Ndevp=0\n",
    "for a in art:\n",
    "    i=i+1\n",
    "    j=-1\n",
    "    for p in a['paragraphs']:\n",
    "        j=j+1\n",
    "        k=k+1\n",
    "        if i < Ntrain: Ntrainp=Ntrainp+1;\n",
    "        else: Ndevp = Ndevp+1\n",
    "        # AllenNLP results\n",
    "        words = [w for w in p['allenNER']['words'].split()]\n",
    "        tags = [t for t in p['allenNER']['tags'].split()]\n",
    "        tags = [not t == '0' for t in tags]   # Convert to binary\n",
    "\n",
    "        # Ground truth\n",
    "        blank_classification = [bc for bc in p['blank_classification']]\n",
    "        blank_classification = [b == 1 for b in blank_classification] # Convert to binary\n",
    "\n",
    "        Nsentences2 = len(text2sentences(words2text(words)))\n",
    "\n",
    "        sbc = sum(blank_classification)\n",
    "        st = sum(tags)\n",
    "        if sbc == 0:\n",
    "            #print(\"Warning article {}, paragraph P{} contains {} ground truth blanks and {} tags. Likely bad\".format(str(i),str(j),str(sbc),str(st)))\n",
    "\n",
    "            # Make up some dummy values so don't confuse for a REAL outlier in plots. Should just drop this data in the future\n",
    "            # This is ok because we'll skip them later if want to do stats - that's what bads is for\n",
    "            TPR = 0.7\n",
    "            FNR = 0.7\n",
    "            ACC = 0.7\n",
    "            TP = 100\n",
    "            FP = 100\n",
    "            FN = 100\n",
    "            TN = 100\n",
    "            TPpersent = 1\n",
    "            FPpersent = 1\n",
    "            abads.append(k)       # kth paragraph is bad\n",
    "        else:\n",
    "            TP = sum([b and t for b,t in zip(blank_classification,tags)])\n",
    "            FP = sum([not b and t for b,t in zip(blank_classification,tags)])\n",
    "            FN = sum([b and not t for b,t in zip(blank_classification,tags)])\n",
    "            TN = sum([not b and not t for b,t in zip(blank_classification,tags)])\n",
    "#             ACC = (TP+TN)/(TP+FP+FN+TN)\n",
    "            ACC = sum([b == t for b,t in zip(blank_classification,tags)]) / len(tags)\n",
    "\n",
    "            # Sensitivity, hit rate, recall, or true positive rate\n",
    "            TPR = TP/(TP+FN)\n",
    "#             # Specificity or true negative rate\n",
    "#             TNR = TN/(TN+FP) \n",
    "#             # Precision or positive predictive value\n",
    "#             PPV = TP/(TP+FP)\n",
    "#             # Negative predictive value\n",
    "#             NPV = TN/(TN+FN)\n",
    "#             # Fall out or false positive rate\n",
    "#             FPR = FP/(FP+TN)\n",
    "            # False negative rate\n",
    "            FNR = FN/(TP+FN)\n",
    "#             # False discovery rate\n",
    "#             FDR = FP/(TP+FP)\n",
    "\n",
    "            # Per sententance values\n",
    "            TPpersent = TP / Nsentences2\n",
    "            FPpersent = FP / Nsentences2\n",
    "    \n",
    "        TPR0.append(TPR)\n",
    "        FPR0.append(FPR)\n",
    "        ACC0.append(ACC)\n",
    "        TP0.append(TP)\n",
    "        FP0.append(FP)\n",
    "        FN0.append(FN)\n",
    "        TN0.append(TN)\n",
    "        TPpersent0.append(TPpersent)\n",
    "        FPpersent0.append(FPpersent)\n",
    "        indices['i'].append(i)\n",
    "        indices['j'].append(j)\n",
    "        indices['k'].append(k)\n",
    "\n"
   ]
  },
  {
   "cell_type": "code",
   "execution_count": 77,
   "metadata": {},
   "outputs": [
    {
     "data": {
      "text/plain": [
       "[0.001465082207390526,\n",
       " 0.001465082207390526,\n",
       " 0.001465082207390526,\n",
       " 0.001465082207390526,\n",
       " 0.001465082207390526,\n",
       " 0.001465082207390526,\n",
       " 0.001465082207390526,\n",
       " 0.001465082207390526,\n",
       " 0.001465082207390526,\n",
       " 0.001465082207390526]"
      ]
     },
     "execution_count": 77,
     "metadata": {},
     "output_type": "execute_result"
    }
   ],
   "source": [
    "FPR0[0:10]"
   ]
  },
  {
   "cell_type": "code",
   "execution_count": 78,
   "metadata": {},
   "outputs": [],
   "source": [
    "# # # Plot the histogram without containing any bads\n",
    "# Calculate how this affects Ntrain / Ndev\n",
    "Ntrainp_bad = len([b for b in abads if b < Ntrainp])\n",
    "Ndevp_bad = len([b for b in abads if b >= Ntrainp])\n"
   ]
  },
  {
   "cell_type": "code",
   "execution_count": 79,
   "metadata": {},
   "outputs": [
    {
     "name": "stdout",
     "output_type": "stream",
     "text": [
      "19035\n",
      "1204\n",
      "1383\n",
      "13\n"
     ]
    }
   ],
   "source": [
    "print(Ntrainp)\n",
    "print(Ndevp)\n",
    "print(Ntrainp_bad)\n",
    "print(Ndevp_bad)\n",
    "max(abads)\n",
    "len(FN0)\n",
    "\n",
    "x = []\n",
    "for a in abads:\n",
    "    x.append(TPR0[a])\n"
   ]
  },
  {
   "cell_type": "markdown",
   "metadata": {},
   "source": [
    "## Plot TPR"
   ]
  },
  {
   "cell_type": "code",
   "execution_count": 80,
   "metadata": {},
   "outputs": [
    {
     "data": {
      "image/png": "[encoded data removed]",
      "text/plain": [
       "<Figure size 1080x288 with 2 Axes>"
      ]
     },
     "metadata": {
      "needs_background": "light"
     },
     "output_type": "display_data"
    }
   ],
   "source": [
    "myvar = TPR0\n",
    "varname = 'TPR'\n",
    "\n",
    "# Plot bargraph (Don't plot figure for each paragraph!)\n",
    "# plotbar_train_dev2(myvar,Ntrain,Ndev,ylabel='{}'.format(varname),xlabel='Article #')\n",
    "\n",
    "# # # Plot the histogram without containing any bads\n",
    "# myvar without the bad articles\n",
    "myvar2 = [tp for i, tp in enumerate(myvar) if i not in abads]\n",
    "\n",
    "# Plot the histogram\n",
    "ax = plothist_train_dev2(myvar2,Ntrainp-Ntrainp_bad,Ndevp-Ndevp_bad,xlabel=varname,ylabel='N Articles',devbins='auto')\n",
    "# set(ax['ax1'].set_xlim(0,1));\n",
    "# set(ax['ax2'].set_xlim(0,1));\n",
    "\n"
   ]
  },
  {
   "cell_type": "markdown",
   "metadata": {},
   "source": [
    "## Find paragraphs containing a lot of true positives"
   ]
  },
  {
   "cell_type": "code",
   "execution_count": 81,
   "metadata": {},
   "outputs": [
    {
     "name": "stdout",
     "output_type": "stream",
     "text": [
      "47\n",
      "Article #442 paragraph #13\n",
      "Normans\n",
      "True positive rate: 0.75\n"
     ]
    }
   ],
   "source": [
    "\n",
    "# Inds of all articles >0.4 TPR\n",
    "inds = [i for i,x in enumerate(TPR0) if x >=0.6]\n",
    "\n",
    "# Inds of all articles >0.4 TPR and in dev dataset\n",
    "inds = [i for i,x in enumerate(TPR0) if x >=0.4 and x < 1.0 and i > Ntrainp and i not in abads]\n",
    "\n",
    "print(len(inds))\n",
    "chosen_ind = inds[0]\n",
    "i = indices['i'][chosen_ind]\n",
    "j = indices['j'][chosen_ind]\n",
    "k = indices['k'][chosen_ind]\n",
    "print('Article #{} paragraph #{}'.format(str(i),str(j)))\n",
    "print(arts[i]['title'])\n",
    "print('True positive rate: {}'.format(str(TPR0[chosen_ind])))"
   ]
  },
  {
   "cell_type": "code",
   "execution_count": 82,
   "metadata": {},
   "outputs": [],
   "source": [
    "# Pull out sample paragraph\n",
    "p = arts[i]['paragraphs'][j]\n",
    "\n",
    "# AllenNLP results\n",
    "words = p['allenNER']['words'].split()\n",
    "# tags = p['allenNER']['tags'].split()\n",
    "# tags = [not t == '0' for t in tags]   # Convert to binary\n",
    "tags = p['blank_classified_allen']\n",
    "\n",
    "# Ground truth\n",
    "blank_classification = p['blank_classification']"
   ]
  },
  {
   "cell_type": "code",
   "execution_count": 83,
   "metadata": {},
   "outputs": [
    {
     "name": "stdout",
     "output_type": "stream",
     "text": [
      "============\t\t\t==========\n",
      "Ground truth\t\t\tPrediction\n",
      "============\t\t\t==========\n",
      "The\t\t\t\tThe\n",
      "further\t\t\t\tfurther\n",
      "decline\t\t\t\tdecline\n",
      "of\t\t\t\tof\n",
      "Byzantine\t\t\t\tByzantine\n",
      "state\t\t\t\tstate\n",
      "-\t\t\t\t-\n",
      "of\t\t\t\tof\n",
      "-\t\t\t\t-\n",
      "affairs\t\t\t\taffairs\n",
      "paved\t\t\t\tpaved\n",
      "the\t\t\t\tthe\n",
      "road\t\t\t\troad\n",
      "to\t\t\t\tto\n",
      "a\t\t\t\ta\n",
      "third\t\t\t\tthird\n",
      "attack\t\t\t\tattack\n",
      "in\t\t\t\tin\n",
      "______\t\t\t\t______\n",
      ",\t\t\t\t,\n"
     ]
    }
   ],
   "source": [
    "# Side by side compare\n",
    "\n",
    "words_blanked_ground_truth = words2words_blanked(words,blank_classification)\n",
    "words_blanked_allen = words2words_blanked(words,tags)\n",
    "\n",
    "N=len(words_blanked_ground_truth)\n",
    "N=20\n",
    "print(\"============\" + '\\t\\t\\t' + \"==========\")\n",
    "print(\"Ground truth\" + '\\t\\t\\t' + \"Prediction\")\n",
    "print(\"============\" + '\\t\\t\\t' + \"==========\")\n",
    "for c,w in zip(words_blanked_ground_truth[:N],words_blanked_allen[:N]):\n",
    "    print(c + '\\t\\t\\t\\t' + w)\n"
   ]
  },
  {
   "cell_type": "markdown",
   "metadata": {},
   "source": [
    "## Ground truth blanked"
   ]
  },
  {
   "cell_type": "code",
   "execution_count": 84,
   "metadata": {},
   "outputs": [
    {
     "name": "stdout",
     "output_type": "stream",
     "text": [
      "The further decline of Byzantine state - of - affairs paved the road to a third attack in ______, when a large Norman army invaded ______, owing to the betrayal of high Byzantine officials. Some time later, ______ — one of the most important naval bases of the ______ — fell again to Byzantine hands.\n",
      "Answers:\n",
      "['1185', 'Dyrrachium', 'Dyrrachium', 'Adriatic']\n"
     ]
    }
   ],
   "source": [
    "# Blanked text\n",
    "print(words2text(words_blanked_ground_truth))\n",
    "\n",
    "# Answers    \n",
    "myanswers = words2answers(words,blank_classification)\n",
    "print(\"Answers:\")\n",
    "print(myanswers)"
   ]
  },
  {
   "cell_type": "code",
   "execution_count": 85,
   "metadata": {},
   "outputs": [
    {
     "name": "stdout",
     "output_type": "stream",
     "text": [
      "The further decline of Byzantine state - of - affairs paved the road to a third attack in ______, when a large Norman army invaded ______, owing to the betrayal of high Byzantine officials. Some time later, ______ — one of the most important naval bases of the Adriatic — fell again to Byzantine hands.\n",
      "Answers:\n",
      "['1185', 'Dyrrachium', 'Dyrrachium']\n"
     ]
    }
   ],
   "source": [
    "# Blanked text\n",
    "print(words2text(words_blanked_allen))\n",
    "\n",
    "# Answers    \n",
    "myanswers = words2answers(words,tags)\n",
    "print(\"Answers:\")\n",
    "print(myanswers)"
   ]
  },
  {
   "cell_type": "code",
   "execution_count": 86,
   "metadata": {},
   "outputs": [],
   "source": [
    "TP = sum([b and t for b,t in zip(blank_classification,tags)])\n",
    "FP = sum([not b and t for b,t in zip(blank_classification,tags)])\n",
    "FN = sum([b and not t for b,t in zip(blank_classification,tags)])\n",
    "TN = sum([not b and not t for b,t in zip(blank_classification,tags)])\n",
    "ACC = (TP+TN)/(TP+FP+FN+TN)\n",
    "ACC2 = sum([b == t for b,t in zip(blank_classification,tags)]) / len(tags)"
   ]
  },
  {
   "cell_type": "code",
   "execution_count": 87,
   "metadata": {},
   "outputs": [
    {
     "name": "stdout",
     "output_type": "stream",
     "text": [
      "0.9833333333333333\n",
      "0.9833333333333333\n",
      "3\n",
      "0\n"
     ]
    }
   ],
   "source": [
    "print(ACC)\n",
    "print(ACC2)\n",
    "print(TP)\n",
    "print(FP)"
   ]
  },
  {
   "cell_type": "code",
   "execution_count": 88,
   "metadata": {},
   "outputs": [],
   "source": [
    "# Sensitivity, hit rate, recall, or true positive rate\n",
    "TPR = TP/(TP+FN)\n",
    "# Specificity or true negative rate\n",
    "TNR = TN/(TN+FP) \n",
    "# Precision or positive predictive value\n",
    "PPV = TP/(TP+FP)\n",
    "# Negative predictive value\n",
    "NPV = TN/(TN+FN)\n",
    "# Fall out or false positive rate\n",
    "FPR = FP/(FP+TN)\n",
    "# False negative rate\n",
    "FNR = FN/(TP+FN)\n",
    "# False discovery rate\n",
    "FDR = FP/(TP+FP)\n"
   ]
  },
  {
   "cell_type": "code",
   "execution_count": 89,
   "metadata": {},
   "outputs": [
    {
     "name": "stdout",
     "output_type": "stream",
     "text": [
      "0.75\n",
      "0.0\n"
     ]
    }
   ],
   "source": [
    "print(TPR)\n",
    "print(FPR)"
   ]
  }
 ],
 "metadata": {
  "kernelspec": {
   "display_name": "Python [conda env:allennlp]",
   "language": "python",
   "name": "conda-env-allennlp-py"
  },
  "language_info": {
   "codemirror_mode": {
    "name": "ipython",
    "version": 3
   },
   "file_extension": ".py",
   "mimetype": "text/x-python",
   "name": "python",
   "nbconvert_exporter": "python",
   "pygments_lexer": "ipython3",
   "version": "3.6.8"
  }
 },
 "nbformat": 4,
 "nbformat_minor": 2
}
