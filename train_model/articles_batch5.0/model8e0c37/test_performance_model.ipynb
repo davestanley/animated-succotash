{
 "cells": [
  {
   "cell_type": "code",
   "execution_count": 101,
   "metadata": {},
   "outputs": [],
   "source": [
    "# Set up and load data\n",
    "# Includes\n",
    "import sys\n",
    "import os\n",
    "import numpy as np\n",
    "import json\n",
    "import os\n",
    "\n",
    "\n",
    "# Setup paths containing utility\n",
    "curr_folder = os.getcwd()\n",
    "sys.path.insert(0, os.path.join(curr_folder,'../../../app'))\n",
    "\n",
    "# Utils imports for loading data\n",
    "from utils import save_data, load_data, exists_datafolder\n",
    "from utils import load_SQuAD_train, load_SQuAD_dev\n",
    "from utils import get_foldername\n",
    "from utils_NLP import text2sentences,words2words_blanked,words2words_hashblank,words2answers\n",
    "from utils_NLP import words2text\n",
    "from utils_SQuAD import OR_arts_paragraph_fields,merge_arts_paragraph_fields\n",
    "\n",
    "# Plotting includes\n",
    "from utils_EDAplots import plotbar_train_dev,plothist_train_dev,plotbar_train_dev2,plothist_train_dev2\n",
    "\n",
    "# Stats saving stuff\n",
    "from utils_EDA import calcstats_train_dev\n",
    "\n",
    "# Import fig stuff\n",
    "import matplotlib.pyplot as plt\n",
    "from matplotlib.pyplot import figure"
   ]
  },
  {
   "cell_type": "code",
   "execution_count": 102,
   "metadata": {},
   "outputs": [],
   "source": [
    "# Option for merging NER data into combined model\n",
    "merge_in_NER_data = False"
   ]
  },
  {
   "cell_type": "markdown",
   "metadata": {},
   "source": [
    "# Load and merge ground truth and MODEL data"
   ]
  },
  {
   "cell_type": "code",
   "execution_count": 103,
   "metadata": {},
   "outputs": [
    {
     "name": "stdout",
     "output_type": "stream",
     "text": [
      "/home/davestanley/Dropbox/git/mindpocket/train_model/articles_batch5.0/model8e0c37\n"
     ]
    }
   ],
   "source": [
    "!pwd"
   ]
  },
  {
   "cell_type": "code",
   "execution_count": 104,
   "metadata": {},
   "outputs": [
    {
     "name": "stdout",
     "output_type": "stream",
     "text": [
      "Frédéric_Chopin\n"
     ]
    }
   ],
   "source": [
    "# Load data containing MODEL (predictions)\n",
    "foldername = os.path.join('SQ_pp_b4m0c2')\n",
    "arts_train = load_data('train.json',foldername,prepend_data_folder=False)\n",
    "arts_dev = load_data('dev.json',foldername,prepend_data_folder=False)\n",
    "\n",
    "# All articles\n",
    "Ntrain = len(arts_train)\n",
    "Ndev = len(arts_dev)\n",
    "\n",
    "arts = arts_train + arts_dev\n",
    "print(arts[1]['title'])\n",
    "# print(arts[1]['paragraphs'][0]['context'])"
   ]
  },
  {
   "cell_type": "code",
   "execution_count": 105,
   "metadata": {},
   "outputs": [],
   "source": [
    "# Trim down newly loaded articles to match Narticles in training set\n",
    "ind_train = slice(0,Ntrain)\n",
    "ind_dev = slice(0,Ndev)\n",
    "\n",
    "# Chosen display articles\n",
    "ind_ex_train = 1                   # Example from training set - Chopin\n",
    "ind_ex_dev = Ntrain + (467-442)    # Example from dev set - Immune system\n",
    "ind_ex_dev = 105                   # Pitch"
   ]
  },
  {
   "cell_type": "code",
   "execution_count": 106,
   "metadata": {},
   "outputs": [
    {
     "name": "stdout",
     "output_type": "stream",
     "text": [
      "Frédéric_Chopin\n"
     ]
    }
   ],
   "source": [
    "# Load blanks data (ground truth)\n",
    "foldername = get_foldername('sq_pp_training')\n",
    "arts3 = load_data('train.json',foldername)[ind_train] + load_data('dev.json',foldername)[ind_dev]\n",
    "print(arts3[1]['title'])\n",
    "# print(arts3[1]['paragraphs'][0]['context_blanked'])\n"
   ]
  },
  {
   "cell_type": "code",
   "execution_count": 107,
   "metadata": {},
   "outputs": [
    {
     "name": "stdout",
     "output_type": "stream",
     "text": [
      "Matching titles: 477 \n",
      "Total articles 477\n"
     ]
    }
   ],
   "source": [
    "# Make sure all titles match\n",
    "all_title_pairs = [(a1['title'],a3['title']) for a1,a3 in zip(arts,arts3)]\n",
    "titles_match_bool = [a1['title'] == a3['title'] for a1,a3 in zip(arts,arts3)]\n",
    "print(\"Matching titles: {} \\nTotal articles {}\".format(sum(titles_match_bool),len(titles_match_bool)))\n",
    "if not sum(titles_match_bool) == len(titles_match_bool):\n",
    "    raise ValueError('Articles mismatch.')\n"
   ]
  },
  {
   "cell_type": "code",
   "execution_count": 108,
   "metadata": {},
   "outputs": [],
   "source": [
    "# Merge ground truth blanks with original data to get full dataset\n",
    "list_of_fields = ['context_blanked','blank_classification']\n",
    "arts = merge_arts_paragraph_fields(arts,arts3,list_of_fields)\n",
    "\n",
    "# print(arts[1]['title'])\n",
    "# print(arts[1]['paragraphs'][0]['context'])\n",
    "# print(arts[1]['paragraphs'][0]['context_blanked'])"
   ]
  },
  {
   "cell_type": "code",
   "execution_count": 109,
   "metadata": {},
   "outputs": [
    {
     "data": {
      "text/plain": [
       "'Frédéric François Chopin (/ˈʃoʊpæn/; French pronunciation: \\u200b[fʁe.de.ʁik fʁɑ̃.swa ʃɔ.pɛ̃]; 22 February or 1 March 1810 – 17 October 1849), born Fryderyk Franciszek Chopin,[n 1] was a Polish and French (by citizenship and birth of father) composer and a virtuoso pianist of the Romantic era, who wrote primarily for the solo piano. He gained and has maintained renown worldwide as one of the leading musicians of his era, whose \"poetic genius was based on a professional technique that was without equal in his generation.\" Chopin was born in what was then the Duchy of Warsaw, and grew up in Warsaw, which after 1815 became part of Congress Poland. A child prodigy, he completed his musical education and composed his earlier works in Warsaw before leaving Poland at the age of 20, less than a month before the outbreak of the November 1830 Uprising.'"
      ]
     },
     "execution_count": 109,
     "metadata": {},
     "output_type": "execute_result"
    }
   ],
   "source": [
    "arts[ind_ex_train]['paragraphs'][0]['context']"
   ]
  },
  {
   "cell_type": "code",
   "execution_count": 110,
   "metadata": {},
   "outputs": [
    {
     "data": {
      "text/plain": [
       "dict_keys(['qas', 'context', 'allenNER', 'context_blanked', 'blank_classification', 'blank_classified_allen'])"
      ]
     },
     "execution_count": 110,
     "metadata": {},
     "output_type": "execute_result"
    }
   ],
   "source": [
    "# Convert AllenNLP Model blanks classification into standard format\n",
    "\n",
    "# If doing merge, use unique name for this model result. Otherwise, use generic name\n",
    "if merge_in_NER_data: fieldname = 'blank_classified_allenMODEL'\n",
    "else: fieldname = 'blank_classified_allen'\n",
    "\n",
    "\n",
    "from utils_NLP import allenNLP_classify_blanks\n",
    "arts = allenNLP_classify_blanks(arts,'0',fieldname)\n",
    "arts[0]['paragraphs'][0].keys()"
   ]
  },
  {
   "cell_type": "markdown",
   "metadata": {},
   "source": [
    "# Load NER data and merge into arts dataset"
   ]
  },
  {
   "cell_type": "code",
   "execution_count": 111,
   "metadata": {},
   "outputs": [],
   "source": [
    "\n",
    "if merge_in_NER_data:\n",
    "    # Load data containing NEP (predictions)\n",
    "    foldername = get_foldername('sq_pp_ner')\n",
    "\n",
    "    arts_NER = load_data('train.json',foldername)[ind_train] + load_data('dev.json',foldername)[ind_dev]\n",
    "    print(arts[1]['title'])\n",
    "    # print(arts[1]['paragraphs'][0]['context'])\n",
    "\n",
    "    # Make sure all titles match\n",
    "    all_title_pairs = [(a1['title'],a3['title']) for a1,a3 in zip(arts,arts_NER)]\n",
    "    titles_match_bool = [a1['title'] == a3['title'] for a1,a3 in zip(arts,arts_NER)]\n",
    "    print(\"Matching titles: {} \\nTotal articles {}\".format(sum(titles_match_bool),len(titles_match_bool)))\n",
    "    if not sum(titles_match_bool) == len(titles_match_bool):\n",
    "        raise ValueError('Articles mismatch.')\n",
    "\n",
    "    # Convert AllenNLP Model blanks classification into standard format\n",
    "    from utils_NLP import allenNLP_classify_blanks\n",
    "    arts_NER = allenNLP_classify_blanks(arts_NER,'O','blank_classified_allenNER')\n",
    "    print(arts_NER[0]['paragraphs'][0].keys())\n",
    "\n",
    "    # Merge NER data into full dataset\n",
    "    list_of_fields = ['blank_classified_allenNER']\n",
    "    arts = merge_arts_paragraph_fields(arts,arts_NER,list_of_fields)\n",
    "    print(arts[0]['paragraphs'][0].keys())"
   ]
  },
  {
   "cell_type": "code",
   "execution_count": 112,
   "metadata": {},
   "outputs": [],
   "source": [
    "# OR operation on blank_classified_allenMODEL and blank_classified_allenNER into blank_classified_allenMODEL\n",
    "\n",
    "if merge_in_NER_data:\n",
    "    destination_fieldname = 'blank_classified_allen'\n",
    "    arts = OR_arts_paragraph_fields(arts,['blank_classified_allenMODEL','blank_classified_allenNER'],destination_fieldname)\n",
    "\n",
    "    p = arts[0]['paragraphs'][1]\n",
    "    print(p['blank_classified_allenNER'])\n",
    "    print(p['blank_classified_allenMODEL'])\n",
    "    print(p['blank_classified_allen'])\n"
   ]
  },
  {
   "cell_type": "markdown",
   "metadata": {},
   "source": [
    "# Compare paragraph word reconstructions"
   ]
  },
  {
   "cell_type": "markdown",
   "metadata": {},
   "source": [
    "This just looks at the words in the different saved fiels files to make sure all the words match up 1:1 (otherwise, this could mess up our evaluations). Not looking at blanks here at all. The next sectoin looks at the blanks"
   ]
  },
  {
   "cell_type": "code",
   "execution_count": 113,
   "metadata": {},
   "outputs": [],
   "source": [
    "# Pull out sample paragraph\n",
    "p = arts[ind_ex_dev]['paragraphs'][0]"
   ]
  },
  {
   "cell_type": "markdown",
   "metadata": {},
   "source": [
    "## AllenNLP Words"
   ]
  },
  {
   "cell_type": "code",
   "execution_count": 114,
   "metadata": {},
   "outputs": [
    {
     "name": "stdout",
     "output_type": "stream",
     "text": [
      "95\n",
      "95\n",
      "Pitch is an auditory sensation in which a listener assigns musical tones to relative positions on a musical scale based primarily on their perception of the frequency of vibration. Pitch is closely related to frequency, but the two are not equivalent. Frequency is an objective, scientific attribute that can be measured. Pitch is each person 's subjective perception of a sound, which can not be directly measured. However, this does not necessarily mean that most people wo n't agree on which notes are higher and lower.\n",
      "522\n"
     ]
    }
   ],
   "source": [
    "words = p['allenNER']['words'].split()\n",
    "tags = p['allenNER']['tags'].split()\n",
    "print(len(words))\n",
    "print(len(tags))\n",
    "print(words2text(words))\n",
    "print(len(words2text(words)))"
   ]
  },
  {
   "cell_type": "markdown",
   "metadata": {},
   "source": [
    "## Context"
   ]
  },
  {
   "cell_type": "code",
   "execution_count": 115,
   "metadata": {},
   "outputs": [
    {
     "name": "stdout",
     "output_type": "stream",
     "text": [
      "95\n",
      "Pitch is an auditory sensation in which a listener assigns musical tones to relative positions on a musical scale based primarily on their perception of the frequency of vibration. Pitch is closely related to frequency, but the two are not equivalent. Frequency is an objective, scientific attribute that can be measured. Pitch is each person 's subjective perception of a sound, which can not be directly measured. However, this does not necessarily mean that most people wo n't agree on which notes are higher and lower.\n",
      "522\n"
     ]
    }
   ],
   "source": [
    "from utils_NLP import allenNLP_split_words, join_punctuation\n",
    "\n",
    "context = p['context']\n",
    "context_split = allenNLP_split_words(context)\n",
    "\n",
    "# context_reassembled = ' '.join(context_split)\n",
    "context_reassembled = words2text(context_split)\n",
    "\n",
    "print(len(context_split))\n",
    "# print(words2text(context_split))\n",
    "# print(len(words2text(context_split)))\n",
    "print(context_reassembled)\n",
    "print(len(context_reassembled))\n"
   ]
  },
  {
   "cell_type": "markdown",
   "metadata": {},
   "source": [
    "## Context_blanked"
   ]
  },
  {
   "cell_type": "code",
   "execution_count": 116,
   "metadata": {},
   "outputs": [
    {
     "name": "stdout",
     "output_type": "stream",
     "text": [
      "95\n",
      "dict_keys(['qas', 'context', 'allenNER', 'context_blanked', 'blank_classification', 'blank_classified_allen'])\n",
      "______ is an ______ sensation in which a listener assigns musical tones to relative positions on a musical scale based primarily on their perception of the ______ of vibration . ______ is closely related to ______ , but the two are not equivalent . ______ is an objective , scientific attribute that can be measured . ______ is each person 's subjective perception of a sound , which can not be directly measured . However , this does not necessarily mean that most people wo n't agree on which notes are higher and lower .\n"
     ]
    }
   ],
   "source": [
    "print(len(p['blank_classification']))\n",
    "print(p.keys())\n",
    "print(p['context_blanked'])"
   ]
  },
  {
   "cell_type": "code",
   "execution_count": 117,
   "metadata": {},
   "outputs": [
    {
     "name": "stdout",
     "output_type": "stream",
     "text": [
      "Pitch\n",
      "auditory\n",
      "frequency\n",
      "Pitch\n",
      "frequency\n",
      "Frequency\n",
      "Pitch\n"
     ]
    }
   ],
   "source": [
    "# Answers\n",
    "for i,c in enumerate(p['blank_classification']):\n",
    "    if c == 1: print(context_split[i])"
   ]
  },
  {
   "cell_type": "markdown",
   "metadata": {},
   "source": [
    "# Single paragraph - Compare blanks"
   ]
  },
  {
   "cell_type": "markdown",
   "metadata": {},
   "source": [
    "## First, just look at the raw text"
   ]
  },
  {
   "cell_type": "code",
   "execution_count": 118,
   "metadata": {},
   "outputs": [],
   "source": [
    "# Pull out sample paragraph\n",
    "p = arts[ind_ex_dev]['paragraphs'][0]\n",
    "\n",
    "# # Print all AllenNLP classifications\n",
    "# print([(a,b) for a,b in zip(p['allenNER']['words'].split(), p['allenNER']['tags'].split())])\n",
    "\n",
    "# AllenNLP results\n",
    "words = p['allenNER']['words'].split()\n",
    "# tags = p['allenNER']['tags'].split()\n",
    "# tags = [not t == '0' for t in tags]   # Convert to binary\n",
    "tags = p['blank_classified_allen']\n",
    "\n",
    "# Ground truth\n",
    "blank_classification = p['blank_classification']"
   ]
  },
  {
   "cell_type": "code",
   "execution_count": 119,
   "metadata": {},
   "outputs": [
    {
     "name": "stdout",
     "output_type": "stream",
     "text": [
      "Length Allen tags: 95. Length ground truth blanks: 95\n"
     ]
    }
   ],
   "source": [
    "\n",
    "\n",
    "print(\"Length Allen tags: {}. Length ground truth blanks: {}\".format(len(tags),len(blank_classification)))"
   ]
  },
  {
   "cell_type": "code",
   "execution_count": 120,
   "metadata": {},
   "outputs": [
    {
     "name": "stdout",
     "output_type": "stream",
     "text": [
      "============\t\t\t==========\n",
      "Ground truth\t\t\tPrediction\n",
      "============\t\t\t==========\n",
      "______\t\t\t\tPitch\n",
      "is\t\t\t\tis\n",
      "an\t\t\t\tan\n",
      "______\t\t\t\tauditory\n",
      "sensation\t\t\t\tsensation\n",
      "in\t\t\t\tin\n",
      "which\t\t\t\twhich\n",
      "a\t\t\t\ta\n",
      "listener\t\t\t\tlistener\n",
      "assigns\t\t\t\tassigns\n",
      "musical\t\t\t\tmusical\n",
      "tones\t\t\t\ttones\n",
      "to\t\t\t\tto\n",
      "relative\t\t\t\trelative\n",
      "positions\t\t\t\tpositions\n",
      "on\t\t\t\ton\n",
      "a\t\t\t\ta\n",
      "musical\t\t\t\tmusical\n",
      "scale\t\t\t\tscale\n",
      "based\t\t\t\tbased\n"
     ]
    }
   ],
   "source": [
    "# Side by side compare\n",
    "\n",
    "words_blanked_ground_truth = words2words_blanked(words,blank_classification)\n",
    "words_blanked_allen = words2words_blanked(words,tags)\n",
    "\n",
    "N=len(words_blanked_ground_truth)\n",
    "N=20\n",
    "print(\"============\" + '\\t\\t\\t' + \"==========\")\n",
    "print(\"Ground truth\" + '\\t\\t\\t' + \"Prediction\")\n",
    "print(\"============\" + '\\t\\t\\t' + \"==========\")\n",
    "for c,w in zip(words_blanked_ground_truth[:N],words_blanked_allen[:N]):\n",
    "    print(c + '\\t\\t\\t\\t' + w)\n"
   ]
  },
  {
   "cell_type": "markdown",
   "metadata": {},
   "source": [
    "## Ground truth blanked"
   ]
  },
  {
   "cell_type": "code",
   "execution_count": 121,
   "metadata": {},
   "outputs": [
    {
     "name": "stdout",
     "output_type": "stream",
     "text": [
      "______ is an ______ sensation in which a listener assigns musical tones to relative positions on a musical scale based primarily on their perception of the ______ of vibration. ______ is closely related to ______, but the two are not equivalent. ______ is an objective, scientific attribute that can be measured. ______ is each person 's subjective perception of a sound, which can not be directly measured. However, this does not necessarily mean that most people wo n't agree on which notes are higher and lower.\n",
      "Answers:\n",
      "['Pitch', 'auditory', 'frequency', 'Pitch', 'frequency', 'Frequency', 'Pitch']\n"
     ]
    }
   ],
   "source": [
    "# Blanked text\n",
    "print(words2text(words_blanked_ground_truth))\n",
    "\n",
    "# Answers    \n",
    "myanswers = words2answers(words,blank_classification)\n",
    "print(\"Answers:\")\n",
    "print(myanswers)"
   ]
  },
  {
   "cell_type": "code",
   "execution_count": 122,
   "metadata": {},
   "outputs": [
    {
     "name": "stdout",
     "output_type": "stream",
     "text": [
      "Pitch is an auditory sensation in which a listener assigns musical tones to relative positions on a musical scale based primarily on their perception of the frequency of vibration. Pitch is closely related to frequency, but the two are not equivalent. Frequency is an objective, scientific attribute that can be measured. Pitch is each person 's subjective perception of a sound, which can not be directly measured. However, this does not necessarily mean that most people wo n't agree on which notes are higher and lower.\n",
      "Answers:\n",
      "[]\n"
     ]
    }
   ],
   "source": [
    "# Blanked text\n",
    "print(words2text(words_blanked_allen))\n",
    "\n",
    "# Answers    \n",
    "myanswers = words2answers(words,tags)\n",
    "print(\"Answers:\")\n",
    "print(myanswers)"
   ]
  },
  {
   "cell_type": "code",
   "execution_count": 131,
   "metadata": {},
   "outputs": [],
   "source": [
    "TP = sum([b and t for b,t in zip(blank_classification,tags)])\n",
    "FP = sum([not b and t for b,t in zip(blank_classification,tags)])\n",
    "FN = sum([b and not t for b,t in zip(blank_classification,tags)])\n",
    "TN = sum([not b and not t for b,t in zip(blank_classification,tags)])\n",
    "ACC = (TP+TN)/(TP+FP+FN+TN)\n",
    "ACC2 = sum([b == t for b,t in zip(blank_classification,tags)]) / len(tags)"
   ]
  },
  {
   "cell_type": "code",
   "execution_count": 132,
   "metadata": {},
   "outputs": [
    {
     "name": "stdout",
     "output_type": "stream",
     "text": [
      "0.9507422402159245\n",
      "0.9507422402159245\n",
      "4\n",
      "18\n"
     ]
    }
   ],
   "source": [
    "print(ACC)\n",
    "print(ACC2)\n",
    "print(TP)\n",
    "print(FP)"
   ]
  },
  {
   "cell_type": "code",
   "execution_count": 133,
   "metadata": {},
   "outputs": [],
   "source": [
    "# # Sensitivity, hit rate, recall, or true positive rate\n",
    "# TPR = TP/(TP+FN)\n",
    "# # Specificity or true negative rate\n",
    "# TNR = TN/(TN+FP) \n",
    "# # Precision or positive predictive value\n",
    "# PPV = TP/(TP+FP)\n",
    "# # Negative predictive value\n",
    "# NPV = TN/(TN+FN)\n",
    "# # Fall out or false positive rate\n",
    "# FPR = FP/(FP+TN)\n",
    "# # False negative rate\n",
    "# FNR = FN/(TP+FN)\n",
    "# # False discovery rate\n",
    "# FDR = FP/(TP+FP)\n"
   ]
  },
  {
   "cell_type": "code",
   "execution_count": 134,
   "metadata": {},
   "outputs": [],
   "source": [
    "# print(TPR)\n",
    "# print(FPR)"
   ]
  },
  {
   "cell_type": "code",
   "execution_count": 135,
   "metadata": {},
   "outputs": [
    {
     "name": "stdout",
     "output_type": "stream",
     "text": [
      "Nsentences=5\n",
      "Nsentences_from_words=53\n"
     ]
    }
   ],
   "source": [
    "Nsentences = len(text2sentences(p['context']))\n",
    "print(\"Nsentences={}\".format(str(Nsentences)))\n",
    "\n",
    "Nsentences2 = len(text2sentences(words2text(words)))\n",
    "print(\"Nsentences_from_words={}\".format(str(Nsentences2)))\n",
    "\n"
   ]
  },
  {
   "cell_type": "code",
   "execution_count": 136,
   "metadata": {},
   "outputs": [
    {
     "name": "stdout",
     "output_type": "stream",
     "text": [
      "0.07547169811320754\n",
      "0.33962264150943394\n"
     ]
    }
   ],
   "source": [
    "TPpersent = TP / Nsentences2\n",
    "FPpersent = FP / Nsentences2\n",
    "\n",
    "print(TPpersent)\n",
    "print(FPpersent)"
   ]
  },
  {
   "cell_type": "markdown",
   "metadata": {},
   "source": [
    "# Single article - compare blanks"
   ]
  },
  {
   "cell_type": "code",
   "execution_count": 137,
   "metadata": {},
   "outputs": [
    {
     "name": "stdout",
     "output_type": "stream",
     "text": [
      "Pitch_(music)\n"
     ]
    }
   ],
   "source": [
    "##### Pull out sample paragraph\n",
    "a = arts[ind_ex_dev]\n",
    "print(a['title'])\n",
    "\n",
    "# AllenNLP results\n",
    "words = [w for p in a['paragraphs'] for w in p['allenNER']['words'].split()]\n",
    "# tags = [t for p in a['paragraphs'] for t in p['allenNER']['tags'].split()]\n",
    "# tags = [not t == '0' for t in tags]   # Convert to binary\n",
    "tags = [t for p in a['paragraphs'] for t in p['blank_classified_allen']]\n",
    "\n",
    "# Ground truth\n",
    "blank_classification = [bc for p in a['paragraphs'] for bc in p['blank_classification']]"
   ]
  },
  {
   "cell_type": "code",
   "execution_count": 138,
   "metadata": {},
   "outputs": [
    {
     "name": "stdout",
     "output_type": "stream",
     "text": [
      "Length Allen tags: 1482. Length ground truth blanks: 1482\n"
     ]
    }
   ],
   "source": [
    "\n",
    "print(\"Length Allen tags: {}. Length ground truth blanks: {}\".format(len(tags),len(blank_classification)))"
   ]
  },
  {
   "cell_type": "code",
   "execution_count": 139,
   "metadata": {},
   "outputs": [
    {
     "name": "stdout",
     "output_type": "stream",
     "text": [
      "========\t\t\t============\t\t\t==========\n",
      "Original\t\t\tGround truth\t\t\tPrediction\n",
      "========\t\t\t============\t\t\t==========\n",
      "Pitch\t\t\t\t______\t\t\t\tPitch\n",
      "is\t\t\t\tis\t\t\t\tis\n",
      "an\t\t\t\tan\t\t\t\tan\n",
      "auditory\t\t\t\t______\t\t\t\tauditory\n",
      "sensation\t\t\t\tsensation\t\t\t\tsensation\n",
      "in\t\t\t\tin\t\t\t\tin\n",
      "which\t\t\t\twhich\t\t\t\twhich\n",
      "a\t\t\t\ta\t\t\t\ta\n",
      "listener\t\t\t\tlistener\t\t\t\tlistener\n",
      "assigns\t\t\t\tassigns\t\t\t\tassigns\n",
      "musical\t\t\t\tmusical\t\t\t\tmusical\n",
      "tones\t\t\t\ttones\t\t\t\ttones\n",
      "to\t\t\t\tto\t\t\t\tto\n",
      "relative\t\t\t\trelative\t\t\t\trelative\n",
      "positions\t\t\t\tpositions\t\t\t\tpositions\n",
      "on\t\t\t\ton\t\t\t\ton\n",
      "a\t\t\t\ta\t\t\t\ta\n",
      "musical\t\t\t\tmusical\t\t\t\tmusical\n",
      "scale\t\t\t\tscale\t\t\t\tscale\n",
      "based\t\t\t\tbased\t\t\t\tbased\n",
      "primarily\t\t\t\tprimarily\t\t\t\tprimarily\n",
      "on\t\t\t\ton\t\t\t\ton\n",
      "their\t\t\t\ttheir\t\t\t\ttheir\n",
      "perception\t\t\t\tperception\t\t\t\tperception\n",
      "of\t\t\t\tof\t\t\t\tof\n",
      "the\t\t\t\tthe\t\t\t\tthe\n",
      "frequency\t\t\t\t______\t\t\t\tfrequency\n",
      "of\t\t\t\tof\t\t\t\tof\n",
      "vibration\t\t\t\tvibration\t\t\t\tvibration\n",
      ".\t\t\t\t.\t\t\t\t.\n"
     ]
    }
   ],
   "source": [
    "# Side by side compare\n",
    "words_blanked_ground_truth = words2words_blanked(words,blank_classification)\n",
    "words_blanked_allen = words2words_blanked(words,tags)\n",
    "\n",
    "N=len(words_blanked_ground_truth)\n",
    "N=30\n",
    "print(\"========\" + '\\t\\t\\t' + \"============\" + '\\t\\t\\t' + \"==========\")\n",
    "print(\"Original\" + '\\t\\t\\t' + \"Ground truth\" + '\\t\\t\\t' + \"Prediction\")\n",
    "print(\"========\" + '\\t\\t\\t' + \"============\" + '\\t\\t\\t' + \"==========\")\n",
    "for o,c,w in zip(words[:N],words_blanked_ground_truth[:N],words_blanked_allen[:N]):\n",
    "    print(o + '\\t\\t\\t\\t' + c + '\\t\\t\\t\\t' + w)\n"
   ]
  },
  {
   "cell_type": "code",
   "execution_count": 140,
   "metadata": {},
   "outputs": [],
   "source": [
    "TP = sum([b and t for b,t in zip(blank_classification,tags)])\n",
    "FP = sum([not b and t for b,t in zip(blank_classification,tags)])\n",
    "FN = sum([b and not t for b,t in zip(blank_classification,tags)])\n",
    "TN = sum([not b and not t for b,t in zip(blank_classification,tags)])\n",
    "ACC = (TP+TN)/(TP+FP+FN+TN)\n",
    "ACC2 = sum([b == t for b,t in zip(blank_classification,tags)]) / len(tags)"
   ]
  },
  {
   "cell_type": "code",
   "execution_count": 141,
   "metadata": {},
   "outputs": [
    {
     "name": "stdout",
     "output_type": "stream",
     "text": [
      "0.9507422402159245\n",
      "0.9507422402159245\n"
     ]
    }
   ],
   "source": [
    "print(ACC)\n",
    "print(ACC2)"
   ]
  },
  {
   "cell_type": "code",
   "execution_count": 142,
   "metadata": {},
   "outputs": [],
   "source": [
    "# Sensitivity, hit rate, recall, or true positive rate\n",
    "TPR = TP/(TP+FN)\n",
    "# Specificity or true negative rate\n",
    "TNR = TN/(TN+FP) \n",
    "# Precision or positive predictive value\n",
    "PPV = TP/(TP+FP)\n",
    "# Negative predictive value\n",
    "NPV = TN/(TN+FN)\n",
    "# Fall out or false positive rate\n",
    "FPR = FP/(FP+TN)\n",
    "# False negative rate\n",
    "FNR = FN/(TP+FN)\n",
    "# False discovery rate\n",
    "FDR = FP/(TP+FP)\n"
   ]
  },
  {
   "cell_type": "code",
   "execution_count": 143,
   "metadata": {},
   "outputs": [
    {
     "name": "stdout",
     "output_type": "stream",
     "text": [
      "0.06779661016949153\n",
      "0.012649332396345749\n"
     ]
    }
   ],
   "source": [
    "print(TPR)\n",
    "print(FPR)"
   ]
  },
  {
   "cell_type": "code",
   "execution_count": 144,
   "metadata": {},
   "outputs": [
    {
     "name": "stdout",
     "output_type": "stream",
     "text": [
      "Nsentences_from_words=53\n"
     ]
    }
   ],
   "source": [
    "Nsentences2 = len(text2sentences(words2text(words)))\n",
    "print(\"Nsentences_from_words={}\".format(str(Nsentences2)))"
   ]
  },
  {
   "cell_type": "code",
   "execution_count": 145,
   "metadata": {},
   "outputs": [
    {
     "name": "stdout",
     "output_type": "stream",
     "text": [
      "0.07547169811320754\n",
      "0.33962264150943394\n"
     ]
    }
   ],
   "source": [
    "TPpersent = TP / Nsentences2\n",
    "FPpersent = FP / Nsentences2\n",
    "\n",
    "print(TPpersent)\n",
    "print(FPpersent)"
   ]
  },
  {
   "cell_type": "markdown",
   "metadata": {},
   "source": [
    "## Ground truth blanked vs predicted blanked"
   ]
  },
  {
   "cell_type": "code",
   "execution_count": 146,
   "metadata": {},
   "outputs": [
    {
     "name": "stdout",
     "output_type": "stream",
     "text": [
      "Answers:\n",
      "{'generated', 'missing', 'pitch', 'ambiguous', 'auditory', 'Frequency', 'partials', '1', 'unnecessary', 'fundamental', 'overtones', '1,400', '60.5', '69', 'numerous', '12', 'spelling', 'frequency', 'snare', 'sound', 'ambiguities', '100', 'indefinite', 'drum', 'numerical', 'rapid', 'logarithmic', 'octave', 'two', 'slower', 'Pitch', 'A4'}\n"
     ]
    }
   ],
   "source": [
    "# Blanked text\n",
    "# print(words2text(words_blanked_ground_truth))\n",
    "\n",
    "# Answers    \n",
    "myanswers = words2answers(words,blank_classification)\n",
    "print(\"Answers:\")\n",
    "print(set(myanswers))"
   ]
  },
  {
   "cell_type": "code",
   "execution_count": 147,
   "metadata": {},
   "outputs": [
    {
     "name": "stdout",
     "output_type": "stream",
     "text": [
      "Answers:\n",
      "{'C♯', 'partials', 'Sebastian', 'A880', 'snare', 'Johann', '1.05946', '440', '1200', '1,400', '60.5', '880', '0.6', 'cochlear', 'vibrate', 'A440', 'cochlea'}\n"
     ]
    }
   ],
   "source": [
    "# Blanked text\n",
    "# print(words2text(words_blanked_allen))\n",
    "\n",
    "# Answers    \n",
    "myanswers = words2answers(words,tags)\n",
    "print(\"Answers:\")\n",
    "print(set(myanswers))"
   ]
  },
  {
   "cell_type": "code",
   "execution_count": null,
   "metadata": {},
   "outputs": [],
   "source": []
  },
  {
   "cell_type": "markdown",
   "metadata": {},
   "source": [
    "## Fract of answers blanked"
   ]
  },
  {
   "cell_type": "markdown",
   "metadata": {},
   "source": [
    "### Fract answers blanked vs num answers"
   ]
  },
  {
   "cell_type": "code",
   "execution_count": 148,
   "metadata": {},
   "outputs": [],
   "source": [
    "\n",
    "# Pseudocode\n",
    "# For each answer, loop through the words and count the number of times it occurs.\n",
    "# Get the set of blanks booleans associated with each occurrence of that words, and calculate the\n",
    "# mean. Will do this for each word in the article, and then each article in the corpus. For each\n",
    "# article, rank the words by their proximity to 50 % \n",
    "\n",
    "myanswers_unique = list(set(words2answers(words,tags)))\n",
    "\n",
    "fracblanked = []\n",
    "numblanked = []\n",
    "for ans in myanswers_unique:\n",
    "    indices = [i for i, w in enumerate(words) if w == ans]\n",
    "    tags_curr = [tags[i] for i in indices]\n",
    "    #words_curr = [words[i] for i in indices]\n",
    "    fracblanked.append(sum(tags_curr)/len(tags_curr)*100)\n",
    "    numblanked.append(len(tags_curr))"
   ]
  },
  {
   "cell_type": "code",
   "execution_count": 157,
   "metadata": {},
   "outputs": [
    {
     "data": {
      "text/plain": [
       "Text(0, 0.5, 'Num occurrences')"
      ]
     },
     "execution_count": 157,
     "metadata": {},
     "output_type": "execute_result"
    },
    {
     "data": {
      "image/png": "[encoded data removed]",
      "text/plain": [
       "<Figure size 288x288 with 1 Axes>"
      ]
     },
     "metadata": {
      "needs_background": "light"
     },
     "output_type": "display_data"
    }
   ],
   "source": [
    "# Do scatter plot\n",
    "y = numblanked\n",
    "z = fracblanked\n",
    "n = myanswers_unique\n",
    "\n",
    "fig, ax = plt.subplots(figsize=(4, 4))\n",
    "ax.scatter(z, y)\n",
    "\n",
    "for i, txt in enumerate(n):\n",
    "    ax.annotate(txt, (z[i], y[i]))\n",
    "plt.xlabel('Percentage of times blanked out')\n",
    "plt.ylabel('Num occurrences')"
   ]
  },
  {
   "cell_type": "markdown",
   "metadata": {},
   "source": [
    "### Fract answers blanked for all answers"
   ]
  },
  {
   "cell_type": "code",
   "execution_count": 150,
   "metadata": {},
   "outputs": [
    {
     "data": {
      "image/png": "[encoded data removed]",
      "text/plain": [
       "<Figure size 576x576 with 1 Axes>"
      ]
     },
     "metadata": {},
     "output_type": "display_data"
    }
   ],
   "source": [
    "import numpy as np\n",
    "import pandas as pd\n",
    "\n",
    "d = {'myanswers_unique':myanswers_unique,'fracblanked':fracblanked}\n",
    "\n",
    "df = pd.DataFrame(data=d);\n",
    "\n",
    "df2 = df.sort_values(by='fracblanked',ascending=True);\n",
    "\n",
    "\n",
    "\n",
    "N=30          # of data points to show\n",
    "figure(num=None, figsize=(8, 8),facecolor='w', edgecolor='k')\n",
    "bars = (df2['myanswers_unique'].values.tolist())[0:N]\n",
    "y_pos = np.arange(len(bars))\n",
    "val = (df2['fracblanked'].values.tolist())[0:N]\n",
    "y_pos = np.arange(len(bars))\n",
    " \n",
    "# Create horizontal bars\n",
    "plt.barh(y_pos, val)\n",
    " \n",
    "# Create names on the y-axis\n",
    "plt.yticks(y_pos, bars)\n",
    "\n",
    "plt.xlabel('Percentage of times blanked out')\n",
    "# Show graphic\n",
    "plt.show()\n",
    "\n"
   ]
  },
  {
   "cell_type": "markdown",
   "metadata": {},
   "source": [
    "### Fractions of POS/NER tags blanked"
   ]
  },
  {
   "cell_type": "code",
   "execution_count": 151,
   "metadata": {},
   "outputs": [],
   "source": [
    "import spacy\n",
    "\n",
    "nlp = spacy.load('en_core_web_sm')\n",
    "doc = nlp(words2text(words))\n",
    "\n",
    "pos=[]\n",
    "ner=[]\n",
    "dep=[]\n",
    "for token in doc:\n",
    "    pos.append(token.pos_)\n",
    "    ner.append(token.ent_type_)\n",
    "    dep.append(token.dep_)\n",
    "\n",
    "# Build a dataframe to store everything\n",
    "d = {'ind': range(len(words)),\n",
    "     'words' : words,\n",
    "    'tags':tags,\n",
    "    'pos':pos,\n",
    "    'ner':ner,\n",
    "    'dep':dep}\n",
    "\n",
    "df = pd.DataFrame(data=d)\n",
    "\n",
    "xlabs=[]\n",
    "yvals=[]\n",
    "\n",
    "# Search through keys and unique items therein, counting \"Trues\"\n",
    "keys = ['ner']\n",
    "for k in keys:\n",
    "    for item in list(set(d[k])):\n",
    "        df2 = df.loc[df[k] == item]\n",
    "        mysum = df2.sum()['tags']\n",
    "        N = len(df2)\n",
    "        \n",
    "        xlabs.append(k.upper() + ': ' + item.lower())\n",
    "        yvals.append(mysum/N*100)\n",
    "\n",
    "        \n"
   ]
  },
  {
   "cell_type": "code",
   "execution_count": 152,
   "metadata": {},
   "outputs": [
    {
     "data": {
      "text/html": [
       "<div>\n",
       "<style scoped>\n",
       "    .dataframe tbody tr th:only-of-type {\n",
       "        vertical-align: middle;\n",
       "    }\n",
       "\n",
       "    .dataframe tbody tr th {\n",
       "        vertical-align: top;\n",
       "    }\n",
       "\n",
       "    .dataframe thead th {\n",
       "        text-align: right;\n",
       "    }\n",
       "</style>\n",
       "<table border=\"1\" class=\"dataframe\">\n",
       "  <thead>\n",
       "    <tr style=\"text-align: right;\">\n",
       "      <th></th>\n",
       "      <th>ind</th>\n",
       "      <th>words</th>\n",
       "      <th>tags</th>\n",
       "      <th>pos</th>\n",
       "      <th>ner</th>\n",
       "      <th>dep</th>\n",
       "    </tr>\n",
       "  </thead>\n",
       "  <tbody>\n",
       "    <tr>\n",
       "      <th>293</th>\n",
       "      <td>293</td>\n",
       "      <td>Johann</td>\n",
       "      <td>1</td>\n",
       "      <td>PROPN</td>\n",
       "      <td>PERSON</td>\n",
       "      <td>compound</td>\n",
       "    </tr>\n",
       "    <tr>\n",
       "      <th>294</th>\n",
       "      <td>294</td>\n",
       "      <td>Sebastian</td>\n",
       "      <td>1</td>\n",
       "      <td>PROPN</td>\n",
       "      <td>PERSON</td>\n",
       "      <td>compound</td>\n",
       "    </tr>\n",
       "    <tr>\n",
       "      <th>295</th>\n",
       "      <td>295</td>\n",
       "      <td>Bach</td>\n",
       "      <td>0</td>\n",
       "      <td>PROPN</td>\n",
       "      <td>PERSON</td>\n",
       "      <td>pobj</td>\n",
       "    </tr>\n",
       "  </tbody>\n",
       "</table>\n",
       "</div>"
      ],
      "text/plain": [
       "     ind      words  tags    pos     ner       dep\n",
       "293  293     Johann     1  PROPN  PERSON  compound\n",
       "294  294  Sebastian     1  PROPN  PERSON  compound\n",
       "295  295       Bach     0  PROPN  PERSON      pobj"
      ]
     },
     "execution_count": 152,
     "metadata": {},
     "output_type": "execute_result"
    }
   ],
   "source": [
    "df3 = df.loc[df['ner'] == 'PERSON']\n",
    "df3           # Hmmm"
   ]
  },
  {
   "cell_type": "code",
   "execution_count": 153,
   "metadata": {},
   "outputs": [
    {
     "data": {
      "text/html": [
       "<div>\n",
       "<style scoped>\n",
       "    .dataframe tbody tr th:only-of-type {\n",
       "        vertical-align: middle;\n",
       "    }\n",
       "\n",
       "    .dataframe tbody tr th {\n",
       "        vertical-align: top;\n",
       "    }\n",
       "\n",
       "    .dataframe thead th {\n",
       "        text-align: right;\n",
       "    }\n",
       "</style>\n",
       "<table border=\"1\" class=\"dataframe\">\n",
       "  <thead>\n",
       "    <tr style=\"text-align: right;\">\n",
       "      <th></th>\n",
       "      <th>xlabs</th>\n",
       "      <th>yvals</th>\n",
       "    </tr>\n",
       "  </thead>\n",
       "  <tbody>\n",
       "    <tr>\n",
       "      <th>2</th>\n",
       "      <td>NER: norp</td>\n",
       "      <td>0.000000</td>\n",
       "    </tr>\n",
       "    <tr>\n",
       "      <th>6</th>\n",
       "      <td>NER: gpe</td>\n",
       "      <td>0.000000</td>\n",
       "    </tr>\n",
       "    <tr>\n",
       "      <th>8</th>\n",
       "      <td>NER: ordinal</td>\n",
       "      <td>0.000000</td>\n",
       "    </tr>\n",
       "    <tr>\n",
       "      <th>9</th>\n",
       "      <td>NER: money</td>\n",
       "      <td>0.000000</td>\n",
       "    </tr>\n",
       "    <tr>\n",
       "      <th>10</th>\n",
       "      <td>NER: language</td>\n",
       "      <td>0.000000</td>\n",
       "    </tr>\n",
       "    <tr>\n",
       "      <th>11</th>\n",
       "      <td>NER: org</td>\n",
       "      <td>0.000000</td>\n",
       "    </tr>\n",
       "    <tr>\n",
       "      <th>0</th>\n",
       "      <td>NER:</td>\n",
       "      <td>0.570207</td>\n",
       "    </tr>\n",
       "    <tr>\n",
       "      <th>4</th>\n",
       "      <td>NER: cardinal</td>\n",
       "      <td>16.279070</td>\n",
       "    </tr>\n",
       "    <tr>\n",
       "      <th>7</th>\n",
       "      <td>NER: percent</td>\n",
       "      <td>33.333333</td>\n",
       "    </tr>\n",
       "    <tr>\n",
       "      <th>3</th>\n",
       "      <td>NER: person</td>\n",
       "      <td>66.666667</td>\n",
       "    </tr>\n",
       "    <tr>\n",
       "      <th>1</th>\n",
       "      <td>NER: product</td>\n",
       "      <td>100.000000</td>\n",
       "    </tr>\n",
       "    <tr>\n",
       "      <th>5</th>\n",
       "      <td>NER: work_of_art</td>\n",
       "      <td>100.000000</td>\n",
       "    </tr>\n",
       "  </tbody>\n",
       "</table>\n",
       "</div>"
      ],
      "text/plain": [
       "               xlabs       yvals\n",
       "2          NER: norp    0.000000\n",
       "6           NER: gpe    0.000000\n",
       "8       NER: ordinal    0.000000\n",
       "9         NER: money    0.000000\n",
       "10     NER: language    0.000000\n",
       "11          NER: org    0.000000\n",
       "0              NER:     0.570207\n",
       "4      NER: cardinal   16.279070\n",
       "7       NER: percent   33.333333\n",
       "3        NER: person   66.666667\n",
       "1       NER: product  100.000000\n",
       "5   NER: work_of_art  100.000000"
      ]
     },
     "execution_count": 153,
     "metadata": {},
     "output_type": "execute_result"
    }
   ],
   "source": [
    "df = pd.DataFrame(data={'xlabs':xlabs,'yvals':yvals})\n",
    "df = df.sort_values(by='yvals',ascending=True)\n",
    "df"
   ]
  },
  {
   "cell_type": "code",
   "execution_count": 154,
   "metadata": {},
   "outputs": [
    {
     "data": {
      "image/png": "[encoded data removed]",
      "text/plain": [
       "<Figure size 504x504 with 1 Axes>"
      ]
     },
     "metadata": {},
     "output_type": "display_data"
    }
   ],
   "source": [
    "figure(num=None, figsize=(7,7),facecolor='w', edgecolor='k')\n",
    "bars = df['xlabs']\n",
    "y_pos = np.arange(len(bars))\n",
    "val = df['yvals']\n",
    "\n",
    "# Make fake dataset\n",
    "y_pos = np.arange(len(bars))\n",
    " \n",
    "# Create horizontal bars\n",
    "plt.barh(y_pos, val)\n",
    " \n",
    "# Create names on the y-axis\n",
    "plt.yticks(y_pos, bars)\n",
    "\n",
    "plt.xlabel('% of times blanked')\n",
    "# Show graphic\n",
    "plt.show()\n"
   ]
  },
  {
   "cell_type": "markdown",
   "metadata": {},
   "source": [
    "## Whole article"
   ]
  },
  {
   "cell_type": "markdown",
   "metadata": {},
   "source": [
    "### Ground truth"
   ]
  },
  {
   "cell_type": "code",
   "execution_count": 155,
   "metadata": {},
   "outputs": [],
   "source": [
    "\n",
    "# print('--------------- GROUND TRUTH ---------------')\n",
    "\n",
    "# # Pull out sample paragraph\n",
    "# for p in arts[ind_ex_dev]['paragraphs']:\n",
    "#     # # Print all AllenNLP classifications\n",
    "#     # print([(a,b) for a,b in zip(p['allenNER']['words'].split(), p['allenNER']['tags'].split())])\n",
    "\n",
    "#     # AllenNLP results\n",
    "#     words = p['allenNER']['words'].split()\n",
    "#     # tags = p['allenNER']['tags'].split()\n",
    "#     # tags = [not t == '0' for t in tags]   # Convert to binary\n",
    "#     tags = p['blank_classified_allen']\n",
    "\n",
    "#     # Ground truth\n",
    "#     blank_classification = p['blank_classification']\n",
    "\n",
    "#     words_blanked_ground_truth = words2words_blanked(words,blank_classification)\n",
    "#     words_blanked_allen = words2words_blanked(words,tags)\n",
    "#     words_hash_ground_truth = words2words_hashblank(words,blank_classification)\n",
    "#     words_hash_allen = words2words_hashblank(words,tags)\n",
    "    \n",
    "    \n",
    "#     # Blanked text\n",
    "#     print(words2text(words_hash_ground_truth))\n",
    "\n",
    "#     # Answers    \n",
    "#     myanswers = words2answers(words,blank_classification)\n",
    "#     print(\"Answers:\")\n",
    "#     print(myanswers)\n",
    "\n",
    "    "
   ]
  },
  {
   "cell_type": "markdown",
   "metadata": {},
   "source": [
    "### My model"
   ]
  },
  {
   "cell_type": "code",
   "execution_count": 156,
   "metadata": {},
   "outputs": [
    {
     "name": "stdout",
     "output_type": "stream",
     "text": [
      "--------------- MY MODEL ---------------\n",
      "Pitch is an auditory sensation in which a listener assigns musical tones to relative positions on a musical scale based primarily on their perception of the frequency of vibration. Pitch is closely related to frequency, but the two are not equivalent. Frequency is an objective, scientific attribute that can be measured. Pitch is each person 's subjective perception of a sound, which can not be directly measured. However, this does not necessarily mean that most people wo n't agree on which notes are higher and lower.\n",
      "Answers:\n",
      "[]\n",
      "This creates a linear pitch space in which octaves have size 12, semitones ( the distance between adjacent keys on the piano keyboard ) have size 1, and ___A440___ is assigned the number 69. ( See Frequencies of notes. ) Distance in this space corresponds to musical intervals as understood by musicians. An equal - tempered semitone is subdivided into 100 cents. The system is flexible enough to include \" microtones \" not found on standard piano keyboards. For example, the pitch halfway between C ( 60 ) and ___C♯___ ( 61 ) can be labeled ___60.5___.\n",
      "Answers:\n",
      "['C♯', '60.5', 'A440']\n",
      "The relative pitches of individual notes in a scale may be determined by one of a number of tuning systems. In the west, the twelve - note chromatic scale is the most common method of organization, with equal temperament now the most widely used method of tuning that scale. In it, the pitch ratio between any two successive notes of the scale is exactly the twelfth root of two ( or about ___1.05946___ ). In well - tempered systems ( as used in the time of ___Johann___ ___Sebastian___ Bach, for example ), different methods of musical tuning were used. Almost all of these systems have one interval in common, the octave, where the pitch of one note is double the frequency of another. For example, if the A above middle C is ___440___ Hz, the A an octave above that is ___880___ Hz ( info ).\n",
      "Answers:\n",
      "['Sebastian', 'Johann', '1.05946', '440', '880']\n",
      "According to the American National Standards Institute, pitch is the auditory attribute of sound according to which sounds can be ordered on a scale from low to high. Since pitch is such a close proxy for frequency, it is almost entirely determined by how quickly the sound wave is making the air ___vibrate___ and has almost nothing to do with the intensity, or amplitude, of the wave. That is, \" high \" pitch means very rapid oscillation, and \" low \" pitch corresponds to slower oscillation. Despite that, the idiom relating vertical height to sound pitch is shared by most languages. At least in English, it is just one of many deep conceptual metaphors that involve up / down. The exact etymological history of the musical sense of high and low pitch is still unclear. There is evidence that humans do actually perceive that the source of a sound is slightly higher or lower in vertical space when the sound frequency is increased or decreased.\n",
      "Answers:\n",
      "['vibrate']\n",
      "A sound generated on any instrument produces many modes of vibration that occur simultaneously. A listener hears numerous frequencies at once. The vibration with the lowest frequency is called the fundamental frequency; the other frequencies are overtones. Harmonics are an important class of overtones with frequencies that are integer multiples of the fundamental. Whether or not the higher frequencies are integer multiples, they are collectively called the ___partials___, referring to the different parts that make up the total spectrum.\n",
      "Answers:\n",
      "['partials']\n",
      "The pitch of complex tones can be ambiguous, meaning that two or more different pitches can be perceived, depending upon the observer. When the actual fundamental frequency can be precisely determined through physical measurement, it may differ from the perceived pitch because of overtones, also known as upper ___partials___, harmonic or otherwise. A complex tone composed of two sine waves of 1000 and ___1200___ Hz may sometimes be heard as up to three pitches : two spectral pitches at 1000 and ___1200___ Hz, derived from the physical frequencies of the pure tones, and the combination tone at 200 Hz, corresponding to the repetition rate of the waveform. In a situation like this, the percept at 200 Hz is commonly referred to as the missing fundamental, which is often the greatest common divisor of the frequencies present.\n",
      "Answers:\n",
      "['partials', '1200']\n",
      "The just - noticeable difference ( jnd ) ( the threshold at which a change is perceived ) depends on the tone 's frequency content. Below 500 Hz, the jnd is about 3 Hz for sine waves, and 1 Hz for complex tones; above 1000 Hz, the jnd for sine waves is about ___0.6___ % ( about 10 cents ). The jnd is typically tested by playing two tones in quick succession with the listener asked if there was a difference in their pitches. The jnd becomes smaller if the two tones are played simultaneously as the listener is then able to discern beat frequencies. The total number of perceptible pitch steps in the range of human hearing is about ___1,400___; the total number of notes in the equal - tempered scale, from 16 to 16,000 Hz, is 120.\n",
      "Answers:\n",
      "['1,400', '0.6']\n",
      "It is still possible for two sounds of indefinite pitch to clearly be higher or lower than one another. For instance, a ___snare___ drum sounds higher pitched than a bass drum though both have indefinite pitch, because its sound contains higher frequencies. In other words, it is possible and often easy to roughly discern the relative pitches of two sounds of indefinite pitch, but sounds of indefinite pitch do not neatly correspond to any specific pitch. A special type of pitch often occurs in free nature when sound reaches the ear of an observer directly from the source, and also after reflecting off a sound - reflecting surface. This phenomenon is called repetition pitch, because the addition of a true repetition of the original sound to itself is the basic prerequisite.\n",
      "Answers:\n",
      "['snare']\n",
      "For example, one might refer to the A above middle C as a ', A4, or ___440___ Hz. In standard Western equal temperament, the notion of pitch is insensitive to \" spelling \" : the description \" G4 double sharp \" refers to the same pitch as A4; in other temperaments, these may be distinct pitches. Human perception of musical intervals is approximately logarithmic with respect to fundamental frequency : the perceived interval between the pitches \" A220 \" and \" ___A440___ \" is the same as the perceived interval between the pitches ___A440___ and ___A880___. Motivated by this logarithmic perception, music theorists sometimes represent pitches using a numerical scale based on the logarithm of fundamental frequency. For example, one can adopt the widely used MIDI standard to map fundamental frequency, f, to a real number, p, as follows\n",
      "Answers:\n",
      "['A880', 'A440', '440']\n",
      "Temporal theories offer an alternative that appeals to the temporal structure of action potentials, mostly the phase - locking and mode - locking of action potentials to frequencies in a stimulus. The precise way this temporal structure helps code for pitch at higher levels is still debated, but the processing seems to be based on an autocorrelation of action potentials in the auditory nerve. However, it has long been noted that a neural mechanism that may accomplish a delay — a necessary operation of a true autocorrelation — has not been found. At least one model shows that a temporal delay is unnecessary to produce an autocorrelation model of pitch perception, appealing to phase shifts between ___cochlear___ filters; however, earlier work has shown that certain sounds with a prominent peak in their autocorrelation function do not elicit a corresponding pitch percept, and that certain sounds without a peak in their autocorrelation function nevertheless elicit a pitch. To be a more complete model, autocorrelation must therefore apply to signals that represent the output of the ___cochlea___, as via auditory - nerve interspike - interval histograms. Some theories of pitch perception hold that pitch has inherent octave ambiguities, and therefore is best decomposed into a pitch chroma, a periodic value around the octave, like the note names in western music — and a pitch height, which may be ambiguous, that indicates the octave the pitch is in.\n",
      "Answers:\n",
      "['cochlear', 'cochlea']\n"
     ]
    }
   ],
   "source": [
    "\n",
    "print('--------------- MY MODEL ---------------')\n",
    "# Pull out sample paragraph\n",
    "for p in arts[ind_ex_dev]['paragraphs']:\n",
    "    # # Print all AllenNLP classifications\n",
    "    # print([(a,b) for a,b in zip(p['allenNER']['words'].split(), p['allenNER']['tags'].split())])\n",
    "\n",
    "    # AllenNLP results\n",
    "    words = p['allenNER']['words'].split()\n",
    "    # tags = p['allenNER']['tags'].split()\n",
    "    # tags = [not t == '0' for t in tags]   # Convert to binary\n",
    "    tags = p['blank_classified_allen']\n",
    "\n",
    "    # Ground truth\n",
    "    blank_classification = p['blank_classification']\n",
    "\n",
    "    words_blanked_ground_truth = words2words_blanked(words,blank_classification)\n",
    "    words_blanked_allen = words2words_blanked(words,tags)\n",
    "    words_hash_ground_truth = words2words_hashblank(words,blank_classification)\n",
    "    words_hash_allen = words2words_hashblank(words,tags)\n",
    "    \n",
    "    # Blanked text\n",
    "    print(words2text(words_hash_allen))\n",
    "\n",
    "    # Answers    \n",
    "    myanswers = list(set(words2answers(words,tags)))\n",
    "    print(\"Answers:\")\n",
    "    print(myanswers)\n",
    "    \n",
    "\n",
    "    "
   ]
  },
  {
   "cell_type": "markdown",
   "metadata": {},
   "source": [
    "# All articles - compare blanks"
   ]
  },
  {
   "cell_type": "code",
   "execution_count": null,
   "metadata": {},
   "outputs": [],
   "source": [
    "# Initialize stuff\n",
    "TPR0 = []\n",
    "FPR0 = []\n",
    "ACC0 = []\n",
    "Nsentences0 = []\n",
    "TP0 = []\n",
    "FP0 = []\n",
    "FN0 = []\n",
    "TN0 = []\n",
    "TPpersent0 = []\n",
    "FPpersent0 = []\n",
    "abads = []            # Article-level bads\n",
    "sbc0 = []\n",
    "st0 = []\n",
    "Nwords0 = []\n",
    "\n",
    "art = arts[:]\n",
    "\n",
    "i=-1\n",
    "for a in art:\n",
    "    i=i+1\n",
    "    # AllenNLP results\n",
    "    words = [w for p in a['paragraphs'] for w in p['allenNER']['words'].split()]\n",
    "#     tags = [t for p in a['paragraphs'] for t in p['allenNER']['tags'].split()]\n",
    "#     tags = [not t == '0' for t in tags]   # Convert to binary\n",
    "    tags = [t for p in a['paragraphs'] for t in p['blank_classified_allen']]\n",
    "\n",
    "    # Ground truth\n",
    "    blank_classification = [bc for p in a['paragraphs'] for bc in p['blank_classification']]\n",
    "    blank_classification = [b == 1 for b in blank_classification] # Convert to binary\n",
    "\n",
    "    Nsentences2 = len(text2sentences(words2text(words)))\n",
    "\n",
    "    sbc = sum(blank_classification)\n",
    "    st = sum(tags)\n",
    "    if sbc == 0 or st == 0:\n",
    "        print(\"Warning article {} contains {} ground truth blanks and {} tags. Likely bad\".format(str(i),str(sbc),str(st)))\n",
    "\n",
    "        # Make up some dummy values so don't confuse for a REAL outlier in plots. Should just drop this data in the future\n",
    "        # This is ok because we'll skip them later if want to do stats - that's what abads is for\n",
    "        TPR = 0.0\n",
    "        FPR = 0.0\n",
    "        ACC = 0.0\n",
    "        TP = 100\n",
    "        FP = 100\n",
    "        FN = 100\n",
    "        TN = 100\n",
    "\n",
    "        TPpersent = 1\n",
    "        FPpersent = 1\n",
    "        abads.append(i)\n",
    "    else:\n",
    "        TP = sum([b and t for b,t in zip(blank_classification,tags)])\n",
    "        FP = sum([not b and t for b,t in zip(blank_classification,tags)])\n",
    "        FN = sum([b and not t for b,t in zip(blank_classification,tags)])\n",
    "        TN = sum([not b and not t for b,t in zip(blank_classification,tags)])\n",
    "        ACC = (TP+TN)/(TP+FP+FN+TN)\n",
    "        ACC2 = sum([b == t for b,t in zip(blank_classification,tags)]) / len(tags)\n",
    "\n",
    "        # Sensitivity, hit rate, recall, or true positive rate\n",
    "        TPR = TP/(TP+FN)\n",
    "        # Specificity or true negative rate\n",
    "        TNR = TN/(TN+FP)\n",
    "        # Precision or positive predictive value\n",
    "        PPV = TP/(TP+FP)\n",
    "        # Negative predictive value\n",
    "        NPV = TN/(TN+FN)\n",
    "        # Fall out or false positive rate\n",
    "        FPR = FP/(FP+TN)\n",
    "        # False negative rate\n",
    "        FNR = FN/(TP+FN)\n",
    "        # False discovery rate\n",
    "        FDR = FP/(TP+FP)\n",
    "\n",
    "        # Per sententance values\n",
    "        TPpersent = TP / Nsentences2\n",
    "        FPpersent = FP / Nsentences2\n",
    "\n",
    "    TPR0.append(TPR)\n",
    "    FPR0.append(FPR)\n",
    "    ACC0.append(ACC)\n",
    "    TP0.append(TP)\n",
    "    FP0.append(FP)\n",
    "    FN0.append(FN)\n",
    "    TN0.append(TN)\n",
    "    TPpersent0.append(TPpersent)\n",
    "    FPpersent0.append(FPpersent)\n",
    "    sbc0.append(sbc)\n",
    "    st0.append(st)\n",
    "    Nwords0.append(len(tags))"
   ]
  },
  {
   "cell_type": "code",
   "execution_count": null,
   "metadata": {},
   "outputs": [],
   "source": [
    "# Print tiles of bad articles\n",
    "for ab in abads:\n",
    "    print(art[ab]['title'])"
   ]
  },
  {
   "cell_type": "code",
   "execution_count": null,
   "metadata": {},
   "outputs": [],
   "source": [
    "# Calculate how this affects Ntrain / Ndev\n",
    "Ntrain_bad = len([b for b in abads if b < Ntrain])\n",
    "Ndev_bad = len([b for b in abads if b >= Ntrain])\n",
    "print('Ntrain={}'.format(str(Ntrain)))\n",
    "print('Ndev={}'.format(str(Ndev)))\n",
    "print('Ntrain_bad={}'.format(str(Ntrain_bad)))\n",
    "print('Ndev_bad={}'.format(str(Ndev_bad)))\n",
    "\n",
    "\n"
   ]
  },
  {
   "cell_type": "markdown",
   "metadata": {},
   "source": [
    "## Plot TPR"
   ]
  },
  {
   "cell_type": "code",
   "execution_count": null,
   "metadata": {},
   "outputs": [],
   "source": [
    "myvar = TPR0\n",
    "varname = 'TPR'\n",
    "\n",
    "# Plot bargraph\n",
    "plotbar_train_dev2(myvar,Ntrain,Ndev,ylabel='{} per article'.format(varname),xlabel='Article #')\n",
    "\n",
    "# # # Plot the histogram without containing any bads\n",
    "# myvar without the bad articles\n",
    "myvar2 = [tp for i, tp in enumerate(myvar) if i not in abads]\n",
    "\n",
    "# Plot the histogram\n",
    "ax = plothist_train_dev2(myvar2,Ntrain-Ntrain_bad,Ndev-Ndev_bad,xlabel=varname,ylabel='N Articles',devbins='auto')\n",
    "set(ax['ax1'].set_xlim(0,1));\n",
    "set(ax['ax2'].set_xlim(0,1));\n",
    "\n"
   ]
  },
  {
   "cell_type": "markdown",
   "metadata": {},
   "source": [
    "## Plot FPR"
   ]
  },
  {
   "cell_type": "code",
   "execution_count": null,
   "metadata": {},
   "outputs": [],
   "source": [
    "myvar = FPR0\n",
    "varname = 'FPR'\n",
    "\n",
    "# Plot bargraph\n",
    "plotbar_train_dev2(myvar,Ntrain,Ndev,ylabel='{} per article'.format(varname),xlabel='Article #')\n",
    "\n",
    "# # # Plot the histogram without containing any bads\n",
    "# myvar without the bad articles\n",
    "myvar2 = [tp for i, tp in enumerate(myvar) if i not in abads]\n",
    "\n",
    "# REdefine for plotting with with more decimal places\n",
    "def plothist_train_dev2(myvar,Ntrain,Ndev,xlabel='value',ylabel='N Articles',devbins=30):\n",
    "    # Import fig stuff\n",
    "    import matplotlib.pyplot as plt\n",
    "    from matplotlib.pyplot import figure\n",
    "    import statistics\n",
    "\n",
    "    f, (ax1, ax2) = plt.subplots(1, 2, sharey=False,figsize=(15, 4));\n",
    "    ax1.hist(myvar[0:Ntrain-1], bins=30);  # arguments are passed to np.histogram\n",
    "    ax1.set_title(\"Narticles={}, median={}, mean={}\".format(str(Ntrain),'{0:.4f}'.format(statistics.median(myvar[0:Ntrain-1])),'{0:.2f}'.format(statistics.mean(myvar[0:Ntrain-1]))));\n",
    "    ax1.set_ylabel('N Articles');\n",
    "    ax1.set_xlabel(xlabel);\n",
    "\n",
    "    ax2.hist(myvar[Ntrain:], bins=devbins);  # arguments are passed to np.histogram\n",
    "    ax2.set_title(\"Narticles={}, median={}, mean={}\".format(str(Ndev),'{0:.4f}'.format(statistics.median(myvar[Ntrain:])),'{0:.2f}'.format(statistics.mean(myvar[Ntrain:]))));\n",
    "    ax2.set_xlabel(xlabel);\n",
    "    return {'ax1': ax1, 'ax2':ax2}\n",
    "\n",
    "\n",
    "# Plot the histogram\n",
    "ax = plothist_train_dev2(myvar2,Ntrain-Ntrain_bad,Ndev-Ndev_bad,xlabel=varname,ylabel='N Articles',devbins='auto')\n",
    "ax = plothist_train_dev2(myvar,Ntrain,Ndev,xlabel=varname,ylabel='N Articles',devbins='auto')\n",
    "# set(ax['ax1'].set_xlim(0,1));\n",
    "# set(ax['ax2'].set_xlim(0,1));\n",
    "\n"
   ]
  },
  {
   "cell_type": "markdown",
   "metadata": {},
   "source": [
    "## Plot ACC"
   ]
  },
  {
   "cell_type": "code",
   "execution_count": null,
   "metadata": {},
   "outputs": [],
   "source": [
    "myvar = ACC0\n",
    "varname = 'Accuracy'\n",
    "\n",
    "# Plot bargraph\n",
    "plotbar_train_dev2(myvar,Ntrain,Ndev,ylabel='{} per article'.format(varname),xlabel='Article #')\n",
    "\n",
    "# # # Plot the histogram without containing any bads\n",
    "# myvar without the bad articles\n",
    "myvar2 = [tp for i, tp in enumerate(myvar) if i not in abads]\n",
    "\n",
    "# Plot the histogram\n",
    "ax = plothist_train_dev2(myvar2,Ntrain-Ntrain_bad,Ndev-Ndev_bad,xlabel=varname,ylabel='N Articles',devbins='auto')\n",
    "set(ax['ax1'].set_xlim(0,1));\n",
    "set(ax['ax2'].set_xlim(0,1));\n",
    "\n"
   ]
  },
  {
   "cell_type": "markdown",
   "metadata": {},
   "source": [
    "## Plot True positives per sentence"
   ]
  },
  {
   "cell_type": "code",
   "execution_count": null,
   "metadata": {},
   "outputs": [],
   "source": [
    "myvar = TPpersent0\n",
    "varname = 'True positives per sentence'\n",
    "\n",
    "# Plot bargraph\n",
    "plotbar_train_dev2(myvar,Ntrain,Ndev,ylabel='{}'.format(varname),xlabel='Article #')\n",
    "\n",
    "# # # Plot the histogram without containing any bads\n",
    "# myvar without the bad articles\n",
    "myvar2 = [tp for i, tp in enumerate(myvar) if i not in abads]\n",
    "\n",
    "# Plot the histogram\n",
    "ax = plothist_train_dev2(myvar2,Ntrain-Ntrain_bad,Ndev-Ndev_bad,xlabel=varname,ylabel='N Articles',devbins='auto')\n",
    "# set(ax['ax1'].set_xlim(0,1));\n",
    "# set(ax['ax2'].set_xlim(0,1));\n",
    "\n"
   ]
  },
  {
   "cell_type": "markdown",
   "metadata": {},
   "source": [
    "## Plot False positives per sentence"
   ]
  },
  {
   "cell_type": "code",
   "execution_count": null,
   "metadata": {},
   "outputs": [],
   "source": [
    "myvar = FPpersent0\n",
    "varname = 'False positives per sentence'\n",
    "\n",
    "# Plot bargraph\n",
    "plotbar_train_dev2(myvar,Ntrain,Ndev,ylabel='{}'.format(varname),xlabel='Article #')\n",
    "\n",
    "# # # Plot the histogram without containing any bads\n",
    "# myvar without the bad articles\n",
    "myvar2 = [tp for i, tp in enumerate(myvar) if i not in abads]\n",
    "\n",
    "# Plot the histogram\n",
    "ax = plothist_train_dev2(myvar2,Ntrain-Ntrain_bad,Ndev-Ndev_bad,xlabel=varname,ylabel='N Articles',devbins='auto')\n",
    "# set(ax['ax1'].set_xlim(0,1));\n",
    "# set(ax['ax2'].set_xlim(0,1));\n",
    "\n"
   ]
  },
  {
   "cell_type": "markdown",
   "metadata": {},
   "source": [
    "## Find articles containing a lot of true positives"
   ]
  },
  {
   "cell_type": "code",
   "execution_count": null,
   "metadata": {},
   "outputs": [],
   "source": [
    "\n",
    "# Inds of all articles >0.4 TPR\n",
    "inds = [i for i,x in enumerate(TPR0) if x >=0.08]\n",
    "\n",
    "# Inds of all articles >0.4 TPR and in dev dataset\n",
    "inds = [i for i,x in enumerate(TPR0) if x >=0.08 and x < 1.0 and i > Ntrain and i not in abads]\n",
    "\n",
    "print(len(inds))\n",
    "chosen_ind = inds[0]\n",
    "print('Article #{}'.format(str(i)))\n",
    "print(arts[chosen_ind]['title'])\n",
    "print('True positive rate: {}'.format(str(TPR0[chosen_ind])))"
   ]
  },
  {
   "cell_type": "code",
   "execution_count": null,
   "metadata": {},
   "outputs": [],
   "source": [
    "# Pull out sample paragraph\n",
    "a = arts[chosen_ind]\n",
    "print(a['title'])\n",
    "\n",
    "# AllenNLP results\n",
    "words = [w for p in a['paragraphs'] for w in p['allenNER']['words'].split()]\n",
    "# tags = [t for p in a['paragraphs'] for t in p['allenNER']['tags'].split()]\n",
    "# tags = [not t == '0' for t in tags]   # Convert to binary\n",
    "tags = [t for p in a['paragraphs'] for t in p['blank_classified_allen']]\n",
    "\n",
    "# Ground truth\n",
    "blank_classification = [bc for p in a['paragraphs'] for bc in p['blank_classification']]"
   ]
  },
  {
   "cell_type": "code",
   "execution_count": null,
   "metadata": {},
   "outputs": [],
   "source": [
    "# Side by side compare\n",
    "\n",
    "words_blanked_ground_truth = words2words_blanked(words,blank_classification)\n",
    "words_blanked_allen = words2words_blanked(words,tags)\n",
    "\n",
    "N=len(words_blanked_ground_truth)\n",
    "N=20\n",
    "print(\"============\" + '\\t\\t\\t' + \"==========\")\n",
    "print(\"Ground truth\" + '\\t\\t\\t' + \"Prediction\")\n",
    "print(\"============\" + '\\t\\t\\t' + \"==========\")\n",
    "for c,w in zip(words_blanked_ground_truth[:N],words_blanked_allen[:N]):\n",
    "    print(c + '\\t\\t\\t\\t' + w)\n"
   ]
  },
  {
   "cell_type": "markdown",
   "metadata": {},
   "source": [
    "## Ground truth blanked"
   ]
  },
  {
   "cell_type": "code",
   "execution_count": null,
   "metadata": {},
   "outputs": [],
   "source": [
    "# Blanked text\n",
    "# print(words2text(words_blanked_ground_truth))\n",
    "\n",
    "# Answers    \n",
    "myanswers = words2answers(words,blank_classification)\n",
    "print(\"Answers:\")\n",
    "print(set(myanswers))"
   ]
  },
  {
   "cell_type": "code",
   "execution_count": null,
   "metadata": {},
   "outputs": [],
   "source": [
    "# Blanked text\n",
    "# print(words2text(words_blanked_allen))\n",
    "\n",
    "# Answers    \n",
    "myanswers = words2answers(words,tags)\n",
    "print(\"Answers:\")\n",
    "print(set(myanswers))"
   ]
  },
  {
   "cell_type": "markdown",
   "metadata": {},
   "source": [
    "# All paragraphs - compare blanks"
   ]
  },
  {
   "cell_type": "code",
   "execution_count": null,
   "metadata": {},
   "outputs": [],
   "source": [
    "# Initialize stuff\n",
    "TPR0 = []\n",
    "FPR0 = []\n",
    "ACC0 = []\n",
    "Nsentences0 = []\n",
    "TP0 = []\n",
    "FP0 = []\n",
    "FN0 = []\n",
    "TN0 = []\n",
    "TPpersent0 = []\n",
    "FPpersent0 = []\n",
    "abads = []\n",
    "indices = {'i':[],'j':[],'k':[]}\n",
    "\n",
    "art = arts[:]\n",
    "\n",
    "\n",
    "# Only track true positives and false positive to avoid having to deal with other annoying edge cases\n",
    "i=-1\n",
    "k=-1\n",
    "Ntrainp = 0\n",
    "Ndevp=0\n",
    "for a in art:\n",
    "    i=i+1\n",
    "    j=-1\n",
    "    for p in a['paragraphs']:\n",
    "        j=j+1\n",
    "        k=k+1\n",
    "        if i < Ntrain: Ntrainp=Ntrainp+1;\n",
    "        else: Ndevp = Ndevp+1\n",
    "        # AllenNLP results\n",
    "        words = [w for w in p['allenNER']['words'].split()]\n",
    "        tags = [t for t in p['allenNER']['tags'].split()]\n",
    "        tags = [not t == '0' for t in tags]   # Convert to binary\n",
    "\n",
    "        # Ground truth\n",
    "        blank_classification = [bc for bc in p['blank_classification']]\n",
    "        blank_classification = [b == 1 for b in blank_classification] # Convert to binary\n",
    "\n",
    "        Nsentences2 = len(text2sentences(words2text(words)))\n",
    "\n",
    "        sbc = sum(blank_classification)\n",
    "        st = sum(tags)\n",
    "        if sbc == 0:\n",
    "            #print(\"Warning article {}, paragraph P{} contains {} ground truth blanks and {} tags. Likely bad\".format(str(i),str(j),str(sbc),str(st)))\n",
    "\n",
    "            # Make up some dummy values so don't confuse for a REAL outlier in plots. Should just drop this data in the future\n",
    "            # This is ok because we'll skip them later if want to do stats - that's what bads is for\n",
    "            TPR = 0.7\n",
    "            FNR = 0.7\n",
    "            ACC = 0.7\n",
    "            TP = 100\n",
    "            FP = 100\n",
    "            FN = 100\n",
    "            TN = 100\n",
    "            TPpersent = 1\n",
    "            FPpersent = 1\n",
    "            abads.append(k)       # kth paragraph is bad\n",
    "        else:\n",
    "            TP = sum([b and t for b,t in zip(blank_classification,tags)])\n",
    "            FP = sum([not b and t for b,t in zip(blank_classification,tags)])\n",
    "            FN = sum([b and not t for b,t in zip(blank_classification,tags)])\n",
    "            TN = sum([not b and not t for b,t in zip(blank_classification,tags)])\n",
    "#             ACC = (TP+TN)/(TP+FP+FN+TN)\n",
    "            ACC = sum([b == t for b,t in zip(blank_classification,tags)]) / len(tags)\n",
    "\n",
    "            # Sensitivity, hit rate, recall, or true positive rate\n",
    "            TPR = TP/(TP+FN)\n",
    "#             # Specificity or true negative rate\n",
    "#             TNR = TN/(TN+FP) \n",
    "#             # Precision or positive predictive value\n",
    "#             PPV = TP/(TP+FP)\n",
    "#             # Negative predictive value\n",
    "#             NPV = TN/(TN+FN)\n",
    "#             # Fall out or false positive rate\n",
    "#             FPR = FP/(FP+TN)\n",
    "            # False negative rate\n",
    "            FNR = FN/(TP+FN)\n",
    "#             # False discovery rate\n",
    "#             FDR = FP/(TP+FP)\n",
    "\n",
    "            # Per sententance values\n",
    "            TPpersent = TP / Nsentences2\n",
    "            FPpersent = FP / Nsentences2\n",
    "    \n",
    "        TPR0.append(TPR)\n",
    "        FPR0.append(FPR)\n",
    "        ACC0.append(ACC)\n",
    "        TP0.append(TP)\n",
    "        FP0.append(FP)\n",
    "        FN0.append(FN)\n",
    "        TN0.append(TN)\n",
    "        TPpersent0.append(TPpersent)\n",
    "        FPpersent0.append(FPpersent)\n",
    "        indices['i'].append(i)\n",
    "        indices['j'].append(j)\n",
    "        indices['k'].append(k)\n",
    "\n"
   ]
  },
  {
   "cell_type": "code",
   "execution_count": null,
   "metadata": {},
   "outputs": [],
   "source": [
    "FPR0[0:10]"
   ]
  },
  {
   "cell_type": "code",
   "execution_count": null,
   "metadata": {},
   "outputs": [],
   "source": [
    "# # # Plot the histogram without containing any bads\n",
    "# Calculate how this affects Ntrain / Ndev\n",
    "Ntrainp_bad = len([b for b in abads if b < Ntrainp])\n",
    "Ndevp_bad = len([b for b in abads if b >= Ntrainp])\n"
   ]
  },
  {
   "cell_type": "code",
   "execution_count": null,
   "metadata": {},
   "outputs": [],
   "source": [
    "print(Ntrainp)\n",
    "print(Ndevp)\n",
    "print(Ntrainp_bad)\n",
    "print(Ndevp_bad)\n",
    "max(abads)\n",
    "len(FN0)\n",
    "\n",
    "x = []\n",
    "for a in abads:\n",
    "    x.append(TPR0[a])\n"
   ]
  },
  {
   "cell_type": "markdown",
   "metadata": {},
   "source": [
    "## Plot TPR"
   ]
  },
  {
   "cell_type": "code",
   "execution_count": null,
   "metadata": {},
   "outputs": [],
   "source": [
    "myvar = TPR0\n",
    "varname = 'TPR'\n",
    "\n",
    "# Plot bargraph (Don't plot figure for each paragraph!)\n",
    "# plotbar_train_dev2(myvar,Ntrain,Ndev,ylabel='{}'.format(varname),xlabel='Article #')\n",
    "\n",
    "# # # Plot the histogram without containing any bads\n",
    "# myvar without the bad articles\n",
    "myvar2 = [tp for i, tp in enumerate(myvar) if i not in abads]\n",
    "\n",
    "# Plot the histogram\n",
    "ax = plothist_train_dev2(myvar2,Ntrainp-Ntrainp_bad,Ndevp-Ndevp_bad,xlabel=varname,ylabel='N Articles',devbins='auto')\n",
    "# set(ax['ax1'].set_xlim(0,1));\n",
    "# set(ax['ax2'].set_xlim(0,1));\n",
    "\n"
   ]
  },
  {
   "cell_type": "markdown",
   "metadata": {},
   "source": [
    "## Find paragraphs containing a lot of true positives"
   ]
  },
  {
   "cell_type": "code",
   "execution_count": null,
   "metadata": {},
   "outputs": [],
   "source": [
    "\n",
    "# Inds of all articles >0.4 TPR\n",
    "inds = [i for i,x in enumerate(TPR0) if x >=0.6]\n",
    "\n",
    "# Inds of all articles >0.4 TPR and in dev dataset\n",
    "inds = [i for i,x in enumerate(TPR0) if x >=0.4 and x < 1.0 and i > Ntrainp and i not in abads]\n",
    "\n",
    "print(len(inds))\n",
    "chosen_ind = inds[0]\n",
    "i = indices['i'][chosen_ind]\n",
    "j = indices['j'][chosen_ind]\n",
    "k = indices['k'][chosen_ind]\n",
    "print('Article #{} paragraph #{}'.format(str(i),str(j)))\n",
    "print(arts[i]['title'])\n",
    "print('True positive rate: {}'.format(str(TPR0[chosen_ind])))"
   ]
  },
  {
   "cell_type": "code",
   "execution_count": null,
   "metadata": {},
   "outputs": [],
   "source": [
    "# Pull out sample paragraph\n",
    "p = arts[i]['paragraphs'][j]\n",
    "\n",
    "# AllenNLP results\n",
    "words = p['allenNER']['words'].split()\n",
    "# tags = p['allenNER']['tags'].split()\n",
    "# tags = [not t == '0' for t in tags]   # Convert to binary\n",
    "tags = p['blank_classified_allen']\n",
    "\n",
    "# Ground truth\n",
    "blank_classification = p['blank_classification']"
   ]
  },
  {
   "cell_type": "code",
   "execution_count": null,
   "metadata": {},
   "outputs": [],
   "source": [
    "# Side by side compare\n",
    "\n",
    "words_blanked_ground_truth = words2words_blanked(words,blank_classification)\n",
    "words_blanked_allen = words2words_blanked(words,tags)\n",
    "\n",
    "N=len(words_blanked_ground_truth)\n",
    "N=20\n",
    "print(\"============\" + '\\t\\t\\t' + \"==========\")\n",
    "print(\"Ground truth\" + '\\t\\t\\t' + \"Prediction\")\n",
    "print(\"============\" + '\\t\\t\\t' + \"==========\")\n",
    "for c,w in zip(words_blanked_ground_truth[:N],words_blanked_allen[:N]):\n",
    "    print(c + '\\t\\t\\t\\t' + w)\n"
   ]
  },
  {
   "cell_type": "markdown",
   "metadata": {},
   "source": [
    "## Ground truth blanked"
   ]
  },
  {
   "cell_type": "code",
   "execution_count": null,
   "metadata": {},
   "outputs": [],
   "source": [
    "# Blanked text\n",
    "print(words2text(words_blanked_ground_truth))\n",
    "\n",
    "# Answers    \n",
    "myanswers = words2answers(words,blank_classification)\n",
    "print(\"Answers:\")\n",
    "print(myanswers)"
   ]
  },
  {
   "cell_type": "code",
   "execution_count": null,
   "metadata": {},
   "outputs": [],
   "source": [
    "# Blanked text\n",
    "print(words2text(words_blanked_allen))\n",
    "\n",
    "# Answers    \n",
    "myanswers = words2answers(words,tags)\n",
    "print(\"Answers:\")\n",
    "print(myanswers)"
   ]
  },
  {
   "cell_type": "code",
   "execution_count": null,
   "metadata": {},
   "outputs": [],
   "source": [
    "TP = sum([b and t for b,t in zip(blank_classification,tags)])\n",
    "FP = sum([not b and t for b,t in zip(blank_classification,tags)])\n",
    "FN = sum([b and not t for b,t in zip(blank_classification,tags)])\n",
    "TN = sum([not b and not t for b,t in zip(blank_classification,tags)])\n",
    "ACC = (TP+TN)/(TP+FP+FN+TN)\n",
    "ACC2 = sum([b == t for b,t in zip(blank_classification,tags)]) / len(tags)"
   ]
  },
  {
   "cell_type": "code",
   "execution_count": null,
   "metadata": {},
   "outputs": [],
   "source": [
    "print(ACC)\n",
    "print(ACC2)\n",
    "print(TP)\n",
    "print(FP)"
   ]
  },
  {
   "cell_type": "code",
   "execution_count": null,
   "metadata": {},
   "outputs": [],
   "source": [
    "# Sensitivity, hit rate, recall, or true positive rate\n",
    "TPR = TP/(TP+FN)\n",
    "# Specificity or true negative rate\n",
    "TNR = TN/(TN+FP) \n",
    "# Precision or positive predictive value\n",
    "PPV = TP/(TP+FP)\n",
    "# Negative predictive value\n",
    "NPV = TN/(TN+FN)\n",
    "# Fall out or false positive rate\n",
    "FPR = FP/(FP+TN)\n",
    "# False negative rate\n",
    "FNR = FN/(TP+FN)\n",
    "# False discovery rate\n",
    "FDR = FP/(TP+FP)\n"
   ]
  },
  {
   "cell_type": "code",
   "execution_count": null,
   "metadata": {},
   "outputs": [],
   "source": [
    "print(TPR)\n",
    "print(FPR)"
   ]
  }
 ],
 "metadata": {
  "kernelspec": {
   "display_name": "Python [conda env:allennlp]",
   "language": "python",
   "name": "conda-env-allennlp-py"
  },
  "language_info": {
   "codemirror_mode": {
    "name": "ipython",
    "version": 3
   },
   "file_extension": ".py",
   "mimetype": "text/x-python",
   "name": "python",
   "nbconvert_exporter": "python",
   "pygments_lexer": "ipython3",
   "version": "3.6.8"
  }
 },
 "nbformat": 4,
 "nbformat_minor": 2
}
