{
 "cells": [
  {
   "cell_type": "code",
   "execution_count": 1,
   "metadata": {},
   "outputs": [],
   "source": [
    "# Set up and load data\n",
    "# Includes\n",
    "import sys\n",
    "import os\n",
    "import numpy as np\n",
    "import json\n",
    "import os\n",
    "\n",
    "\n",
    "# Setup paths containing utility\n",
    "curr_folder = os.getcwd()\n",
    "sys.path.insert(0, os.path.join(curr_folder,'../../../app'))\n",
    "\n",
    "# Utils imports for loading data\n",
    "from utils import save_data, load_data, exists_datafolder\n",
    "from utils import load_SQuAD_train, load_SQuAD_dev\n",
    "from utils import get_foldername\n",
    "from utils_NLP import text2sentences,words2words_blanked,words2words_hashblank,words2answers\n",
    "from utils_NLP import words2text\n",
    "from utils_SQuAD import OR_arts_paragraph_fields,merge_arts_paragraph_fields\n",
    "from utils_NLP import allenNLP_classify_blanks,allenNLP_classify_blanks_fromResults\n",
    "\n",
    "# Plotting includes\n",
    "from utils_EDAplots import plotbar_train_dev,plothist_train_dev,plotbar_train_dev2,plothist_train_dev2\n",
    "\n",
    "# Stats saving stuff\n",
    "from utils_EDA import calcstats_train_dev\n",
    "\n",
    "# AllenNLP stuff\n",
    "from allennlp.predictors import Predictor\n",
    "\n",
    "# Include custom AllenNLP\n",
    "import myallennlp\n",
    "from myallennlp import *\n",
    "from myallennlp.models.simple_tagger2 import SimpleTagger2\n",
    "from myallennlp.dataset_readers import sequence_tagging2\n",
    "from myallennlp.data.tokenizers.word_splitter import SpacyWordSplitter\n",
    "\n",
    "# Import fig stuff\n",
    "import matplotlib.pyplot as plt\n",
    "from matplotlib.pyplot import figure"
   ]
  },
  {
   "cell_type": "code",
   "execution_count": 2,
   "metadata": {},
   "outputs": [],
   "source": [
    "# Option for merging NER data into combined model\n",
    "merge_in_NER_data = False"
   ]
  },
  {
   "cell_type": "markdown",
   "metadata": {},
   "source": [
    "# Manually test the predictor"
   ]
  },
  {
   "cell_type": "markdown",
   "metadata": {},
   "source": [
    "## Load the predictor"
   ]
  },
  {
   "cell_type": "code",
   "execution_count": 3,
   "metadata": {},
   "outputs": [
    {
     "name": "stderr",
     "output_type": "stream",
     "text": [
      "02/24/2019 00:20:25 - INFO - allennlp.models.archival -   loading archive file ./model.tar.gz\n",
      "02/24/2019 00:20:25 - INFO - allennlp.models.archival -   extracting archive file ./model.tar.gz to temp dir /tmp/tmpyt6e_2ha\n",
      "02/24/2019 00:20:25 - INFO - allennlp.common.params -   type = default\n",
      "02/24/2019 00:20:25 - INFO - allennlp.data.vocabulary -   Loading token dictionary from /tmp/tmpyt6e_2ha/vocabulary.\n",
      "02/24/2019 00:20:25 - INFO - allennlp.common.from_params -   instantiating class <class 'allennlp.models.model.Model'> from params {'Ntags0': 95, 'Ntags1': 5, 'do_crossentropy_weighting': True, 'encoder': {'bidirectional': True, 'dropout': 0.5, 'hidden_size': 72, 'input_size': 72, 'num_layers': 2, 'type': 'lstm'}, 'text_field_embedder': {'token_embedders': {'dependency_label': {'embedding_dim': 10, 'type': 'embedding', 'vocab_namespace': 'dependencies'}, 'ner_tag': {'embedding_dim': 7, 'type': 'embedding', 'vocab_namespace': 'ner'}, 'pos_tag': {'embedding_dim': 5, 'type': 'embedding', 'vocab_namespace': 'pos'}, 'tokens': {'embedding_dim': 50, 'trainable': False, 'type': 'embedding'}}}, 'type': 'simple_tagger2'} and extras {'vocab': Vocabulary with namespaces:  tokens, Size: 88725 || ner, Size: 21 || dependencies, Size: 47 || pos, Size: 17 || labels, Size: 2 || Non Padded Namespaces: {'*tags', '*labels'}}\n",
      "02/24/2019 00:20:25 - INFO - allennlp.common.params -   model.type = simple_tagger2\n",
      "02/24/2019 00:20:25 - INFO - allennlp.common.from_params -   instantiating class <class 'myallennlp.models.simple_tagger2.SimpleTagger2'> from params {'Ntags0': 95, 'Ntags1': 5, 'do_crossentropy_weighting': True, 'encoder': {'bidirectional': True, 'dropout': 0.5, 'hidden_size': 72, 'input_size': 72, 'num_layers': 2, 'type': 'lstm'}, 'text_field_embedder': {'token_embedders': {'dependency_label': {'embedding_dim': 10, 'type': 'embedding', 'vocab_namespace': 'dependencies'}, 'ner_tag': {'embedding_dim': 7, 'type': 'embedding', 'vocab_namespace': 'ner'}, 'pos_tag': {'embedding_dim': 5, 'type': 'embedding', 'vocab_namespace': 'pos'}, 'tokens': {'embedding_dim': 50, 'trainable': False, 'type': 'embedding'}}}} and extras {'vocab': Vocabulary with namespaces:  tokens, Size: 88725 || ner, Size: 21 || dependencies, Size: 47 || pos, Size: 17 || labels, Size: 2 || Non Padded Namespaces: {'*tags', '*labels'}}\n",
      "02/24/2019 00:20:25 - INFO - allennlp.common.from_params -   instantiating class <class 'allennlp.modules.text_field_embedders.text_field_embedder.TextFieldEmbedder'> from params {'token_embedders': {'dependency_label': {'embedding_dim': 10, 'type': 'embedding', 'vocab_namespace': 'dependencies'}, 'ner_tag': {'embedding_dim': 7, 'type': 'embedding', 'vocab_namespace': 'ner'}, 'pos_tag': {'embedding_dim': 5, 'type': 'embedding', 'vocab_namespace': 'pos'}, 'tokens': {'embedding_dim': 50, 'trainable': False, 'type': 'embedding'}}} and extras {'vocab': Vocabulary with namespaces:  tokens, Size: 88725 || ner, Size: 21 || dependencies, Size: 47 || pos, Size: 17 || labels, Size: 2 || Non Padded Namespaces: {'*tags', '*labels'}}\n",
      "02/24/2019 00:20:25 - INFO - allennlp.common.params -   model.text_field_embedder.type = basic\n",
      "02/24/2019 00:20:25 - INFO - allennlp.common.params -   model.text_field_embedder.embedder_to_indexer_map = None\n",
      "02/24/2019 00:20:25 - INFO - allennlp.common.params -   model.text_field_embedder.allow_unmatched_keys = False\n",
      "02/24/2019 00:20:25 - INFO - allennlp.common.from_params -   instantiating class <class 'allennlp.modules.token_embedders.token_embedder.TokenEmbedder'> from params {'embedding_dim': 10, 'type': 'embedding', 'vocab_namespace': 'dependencies'} and extras {'vocab': Vocabulary with namespaces:  tokens, Size: 88725 || ner, Size: 21 || dependencies, Size: 47 || pos, Size: 17 || labels, Size: 2 || Non Padded Namespaces: {'*tags', '*labels'}}\n",
      "02/24/2019 00:20:25 - INFO - allennlp.common.params -   model.text_field_embedder.token_embedders.dependency_label.type = embedding\n",
      "02/24/2019 00:20:25 - INFO - allennlp.common.params -   model.text_field_embedder.token_embedders.dependency_label.num_embeddings = None\n",
      "02/24/2019 00:20:25 - INFO - allennlp.common.params -   model.text_field_embedder.token_embedders.dependency_label.vocab_namespace = dependencies\n",
      "02/24/2019 00:20:25 - INFO - allennlp.common.params -   model.text_field_embedder.token_embedders.dependency_label.embedding_dim = 10\n",
      "02/24/2019 00:20:25 - INFO - allennlp.common.params -   model.text_field_embedder.token_embedders.dependency_label.pretrained_file = None\n",
      "02/24/2019 00:20:25 - INFO - allennlp.common.params -   model.text_field_embedder.token_embedders.dependency_label.projection_dim = None\n",
      "02/24/2019 00:20:25 - INFO - allennlp.common.params -   model.text_field_embedder.token_embedders.dependency_label.trainable = True\n",
      "02/24/2019 00:20:25 - INFO - allennlp.common.params -   model.text_field_embedder.token_embedders.dependency_label.padding_index = None\n",
      "02/24/2019 00:20:25 - INFO - allennlp.common.params -   model.text_field_embedder.token_embedders.dependency_label.max_norm = None\n",
      "02/24/2019 00:20:25 - INFO - allennlp.common.params -   model.text_field_embedder.token_embedders.dependency_label.norm_type = 2.0\n",
      "02/24/2019 00:20:25 - INFO - allennlp.common.params -   model.text_field_embedder.token_embedders.dependency_label.scale_grad_by_freq = False\n",
      "02/24/2019 00:20:25 - INFO - allennlp.common.params -   model.text_field_embedder.token_embedders.dependency_label.sparse = False\n",
      "02/24/2019 00:20:25 - INFO - allennlp.common.from_params -   instantiating class <class 'allennlp.modules.token_embedders.token_embedder.TokenEmbedder'> from params {'embedding_dim': 7, 'type': 'embedding', 'vocab_namespace': 'ner'} and extras {'vocab': Vocabulary with namespaces:  tokens, Size: 88725 || ner, Size: 21 || dependencies, Size: 47 || pos, Size: 17 || labels, Size: 2 || Non Padded Namespaces: {'*tags', '*labels'}}\n",
      "02/24/2019 00:20:25 - INFO - allennlp.common.params -   model.text_field_embedder.token_embedders.ner_tag.type = embedding\n",
      "02/24/2019 00:20:25 - INFO - allennlp.common.params -   model.text_field_embedder.token_embedders.ner_tag.num_embeddings = None\n",
      "02/24/2019 00:20:25 - INFO - allennlp.common.params -   model.text_field_embedder.token_embedders.ner_tag.vocab_namespace = ner\n",
      "02/24/2019 00:20:25 - INFO - allennlp.common.params -   model.text_field_embedder.token_embedders.ner_tag.embedding_dim = 7\n",
      "02/24/2019 00:20:25 - INFO - allennlp.common.params -   model.text_field_embedder.token_embedders.ner_tag.pretrained_file = None\n",
      "02/24/2019 00:20:25 - INFO - allennlp.common.params -   model.text_field_embedder.token_embedders.ner_tag.projection_dim = None\n",
      "02/24/2019 00:20:25 - INFO - allennlp.common.params -   model.text_field_embedder.token_embedders.ner_tag.trainable = True\n",
      "02/24/2019 00:20:25 - INFO - allennlp.common.params -   model.text_field_embedder.token_embedders.ner_tag.padding_index = None\n",
      "02/24/2019 00:20:25 - INFO - allennlp.common.params -   model.text_field_embedder.token_embedders.ner_tag.max_norm = None\n",
      "02/24/2019 00:20:25 - INFO - allennlp.common.params -   model.text_field_embedder.token_embedders.ner_tag.norm_type = 2.0\n",
      "02/24/2019 00:20:25 - INFO - allennlp.common.params -   model.text_field_embedder.token_embedders.ner_tag.scale_grad_by_freq = False\n",
      "02/24/2019 00:20:25 - INFO - allennlp.common.params -   model.text_field_embedder.token_embedders.ner_tag.sparse = False\n",
      "02/24/2019 00:20:25 - INFO - allennlp.common.from_params -   instantiating class <class 'allennlp.modules.token_embedders.token_embedder.TokenEmbedder'> from params {'embedding_dim': 5, 'type': 'embedding', 'vocab_namespace': 'pos'} and extras {'vocab': Vocabulary with namespaces:  tokens, Size: 88725 || ner, Size: 21 || dependencies, Size: 47 || pos, Size: 17 || labels, Size: 2 || Non Padded Namespaces: {'*tags', '*labels'}}\n",
      "02/24/2019 00:20:25 - INFO - allennlp.common.params -   model.text_field_embedder.token_embedders.pos_tag.type = embedding\n",
      "02/24/2019 00:20:25 - INFO - allennlp.common.params -   model.text_field_embedder.token_embedders.pos_tag.num_embeddings = None\n",
      "02/24/2019 00:20:25 - INFO - allennlp.common.params -   model.text_field_embedder.token_embedders.pos_tag.vocab_namespace = pos\n",
      "02/24/2019 00:20:25 - INFO - allennlp.common.params -   model.text_field_embedder.token_embedders.pos_tag.embedding_dim = 5\n",
      "02/24/2019 00:20:25 - INFO - allennlp.common.params -   model.text_field_embedder.token_embedders.pos_tag.pretrained_file = None\n",
      "02/24/2019 00:20:25 - INFO - allennlp.common.params -   model.text_field_embedder.token_embedders.pos_tag.projection_dim = None\n",
      "02/24/2019 00:20:25 - INFO - allennlp.common.params -   model.text_field_embedder.token_embedders.pos_tag.trainable = True\n",
      "02/24/2019 00:20:25 - INFO - allennlp.common.params -   model.text_field_embedder.token_embedders.pos_tag.padding_index = None\n",
      "02/24/2019 00:20:25 - INFO - allennlp.common.params -   model.text_field_embedder.token_embedders.pos_tag.max_norm = None\n",
      "02/24/2019 00:20:25 - INFO - allennlp.common.params -   model.text_field_embedder.token_embedders.pos_tag.norm_type = 2.0\n",
      "02/24/2019 00:20:25 - INFO - allennlp.common.params -   model.text_field_embedder.token_embedders.pos_tag.scale_grad_by_freq = False\n",
      "02/24/2019 00:20:25 - INFO - allennlp.common.params -   model.text_field_embedder.token_embedders.pos_tag.sparse = False\n",
      "02/24/2019 00:20:25 - INFO - allennlp.common.from_params -   instantiating class <class 'allennlp.modules.token_embedders.token_embedder.TokenEmbedder'> from params {'embedding_dim': 50, 'trainable': False, 'type': 'embedding'} and extras {'vocab': Vocabulary with namespaces:  tokens, Size: 88725 || ner, Size: 21 || dependencies, Size: 47 || pos, Size: 17 || labels, Size: 2 || Non Padded Namespaces: {'*tags', '*labels'}}\n",
      "02/24/2019 00:20:25 - INFO - allennlp.common.params -   model.text_field_embedder.token_embedders.tokens.type = embedding\n",
      "02/24/2019 00:20:25 - INFO - allennlp.common.params -   model.text_field_embedder.token_embedders.tokens.num_embeddings = None\n",
      "02/24/2019 00:20:25 - INFO - allennlp.common.params -   model.text_field_embedder.token_embedders.tokens.vocab_namespace = tokens\n",
      "02/24/2019 00:20:25 - INFO - allennlp.common.params -   model.text_field_embedder.token_embedders.tokens.embedding_dim = 50\n",
      "02/24/2019 00:20:25 - INFO - allennlp.common.params -   model.text_field_embedder.token_embedders.tokens.pretrained_file = None\n",
      "02/24/2019 00:20:25 - INFO - allennlp.common.params -   model.text_field_embedder.token_embedders.tokens.projection_dim = None\n",
      "02/24/2019 00:20:25 - INFO - allennlp.common.params -   model.text_field_embedder.token_embedders.tokens.trainable = False\n",
      "02/24/2019 00:20:25 - INFO - allennlp.common.params -   model.text_field_embedder.token_embedders.tokens.padding_index = None\n",
      "02/24/2019 00:20:25 - INFO - allennlp.common.params -   model.text_field_embedder.token_embedders.tokens.max_norm = None\n",
      "02/24/2019 00:20:25 - INFO - allennlp.common.params -   model.text_field_embedder.token_embedders.tokens.norm_type = 2.0\n",
      "02/24/2019 00:20:25 - INFO - allennlp.common.params -   model.text_field_embedder.token_embedders.tokens.scale_grad_by_freq = False\n",
      "02/24/2019 00:20:25 - INFO - allennlp.common.params -   model.text_field_embedder.token_embedders.tokens.sparse = False\n",
      "02/24/2019 00:20:25 - INFO - allennlp.common.from_params -   instantiating class <class 'allennlp.modules.seq2seq_encoders.seq2seq_encoder.Seq2SeqEncoder'> from params {'bidirectional': True, 'dropout': 0.5, 'hidden_size': 72, 'input_size': 72, 'num_layers': 2, 'type': 'lstm'} and extras {'vocab': Vocabulary with namespaces:  tokens, Size: 88725 || ner, Size: 21 || dependencies, Size: 47 || pos, Size: 17 || labels, Size: 2 || Non Padded Namespaces: {'*tags', '*labels'}}\n",
      "02/24/2019 00:20:25 - INFO - allennlp.common.params -   model.encoder.type = lstm\n",
      "02/24/2019 00:20:25 - INFO - allennlp.common.params -   model.encoder.batch_first = True\n",
      "02/24/2019 00:20:25 - INFO - allennlp.common.params -   model.encoder.stateful = False\n",
      "02/24/2019 00:20:25 - INFO - allennlp.common.params -   Converting Params object to dict; logging of default values will not occur when dictionary parameters are used subsequently.\n",
      "02/24/2019 00:20:25 - INFO - allennlp.common.params -   CURRENTLY DEFINED PARAMETERS: \n",
      "02/24/2019 00:20:25 - INFO - allennlp.common.params -   model.encoder.bidirectional = True\n",
      "02/24/2019 00:20:25 - INFO - allennlp.common.params -   model.encoder.dropout = 0.5\n",
      "02/24/2019 00:20:25 - INFO - allennlp.common.params -   model.encoder.hidden_size = 72\n",
      "02/24/2019 00:20:25 - INFO - allennlp.common.params -   model.encoder.input_size = 72\n",
      "02/24/2019 00:20:25 - INFO - allennlp.common.params -   model.encoder.num_layers = 2\n",
      "02/24/2019 00:20:25 - INFO - allennlp.common.params -   model.encoder.batch_first = True\n",
      "02/24/2019 00:20:25 - INFO - allennlp.common.params -   model.do_crossentropy_weighting = True\n",
      "02/24/2019 00:20:25 - INFO - allennlp.common.params -   model.Ntags0 = 95\n",
      "02/24/2019 00:20:25 - INFO - allennlp.common.params -   model.Ntags1 = 5\n",
      "02/24/2019 00:20:25 - INFO - allennlp.nn.initializers -   Initializing parameters\n",
      "02/24/2019 00:20:25 - INFO - allennlp.nn.initializers -   Done initializing parameters; the following parameters are using their default initialization from their code\n",
      "02/24/2019 00:20:25 - INFO - allennlp.nn.initializers -      encoder._module.bias_hh_l0\n",
      "02/24/2019 00:20:25 - INFO - allennlp.nn.initializers -      encoder._module.bias_hh_l0_reverse\n",
      "02/24/2019 00:20:25 - INFO - allennlp.nn.initializers -      encoder._module.bias_hh_l1\n",
      "02/24/2019 00:20:25 - INFO - allennlp.nn.initializers -      encoder._module.bias_hh_l1_reverse\n",
      "02/24/2019 00:20:25 - INFO - allennlp.nn.initializers -      encoder._module.bias_ih_l0\n",
      "02/24/2019 00:20:25 - INFO - allennlp.nn.initializers -      encoder._module.bias_ih_l0_reverse\n",
      "02/24/2019 00:20:25 - INFO - allennlp.nn.initializers -      encoder._module.bias_ih_l1\n",
      "02/24/2019 00:20:25 - INFO - allennlp.nn.initializers -      encoder._module.bias_ih_l1_reverse\n",
      "02/24/2019 00:20:25 - INFO - allennlp.nn.initializers -      encoder._module.weight_hh_l0\n",
      "02/24/2019 00:20:25 - INFO - allennlp.nn.initializers -      encoder._module.weight_hh_l0_reverse\n",
      "02/24/2019 00:20:25 - INFO - allennlp.nn.initializers -      encoder._module.weight_hh_l1\n",
      "02/24/2019 00:20:25 - INFO - allennlp.nn.initializers -      encoder._module.weight_hh_l1_reverse\n",
      "02/24/2019 00:20:25 - INFO - allennlp.nn.initializers -      encoder._module.weight_ih_l0\n",
      "02/24/2019 00:20:25 - INFO - allennlp.nn.initializers -      encoder._module.weight_ih_l0_reverse\n",
      "02/24/2019 00:20:25 - INFO - allennlp.nn.initializers -      encoder._module.weight_ih_l1\n",
      "02/24/2019 00:20:25 - INFO - allennlp.nn.initializers -      encoder._module.weight_ih_l1_reverse\n",
      "02/24/2019 00:20:25 - INFO - allennlp.nn.initializers -      tag_projection_layer._module.bias\n",
      "02/24/2019 00:20:25 - INFO - allennlp.nn.initializers -      tag_projection_layer._module.weight\n",
      "02/24/2019 00:20:25 - INFO - allennlp.nn.initializers -      text_field_embedder.token_embedder_dependency_label.weight\n",
      "02/24/2019 00:20:25 - INFO - allennlp.nn.initializers -      text_field_embedder.token_embedder_ner_tag.weight\n",
      "02/24/2019 00:20:25 - INFO - allennlp.nn.initializers -      text_field_embedder.token_embedder_pos_tag.weight\n",
      "02/24/2019 00:20:25 - INFO - allennlp.nn.initializers -      text_field_embedder.token_embedder_tokens.weight\n",
      "02/24/2019 00:20:25 - INFO - allennlp.common.from_params -   instantiating class <class 'allennlp.data.dataset_readers.dataset_reader.DatasetReader'> from params {'mytokenizer': {'type': 'word', 'word_splitter': {'ner': True, 'parse': True, 'pos_tags': True, 'type': 'whitespacy'}}, 'token_indexers': {'dependency_label': {'namespace': 'dependencies', 'type': 'dependency_label'}, 'ner_tag': {'namespace': 'ner', 'type': 'ner_tag'}, 'pos_tag': {'coarse_tags': True, 'namespace': 'pos', 'type': 'pos_tag'}, 'tokens': {'lowercase_tokens': True, 'type': 'single_id'}}, 'type': 'sequence_tagging2', 'word_tag_delimiter': '//'} and extras {}\n",
      "02/24/2019 00:20:25 - INFO - allennlp.common.params -   dataset_reader.type = sequence_tagging2\n",
      "02/24/2019 00:20:25 - INFO - allennlp.common.from_params -   instantiating class <class 'myallennlp.dataset_readers.sequence_tagging2.SequenceTaggingDatasetReader'> from params {'mytokenizer': {'type': 'word', 'word_splitter': {'ner': True, 'parse': True, 'pos_tags': True, 'type': 'whitespacy'}}, 'token_indexers': {'dependency_label': {'namespace': 'dependencies', 'type': 'dependency_label'}, 'ner_tag': {'namespace': 'ner', 'type': 'ner_tag'}, 'pos_tag': {'coarse_tags': True, 'namespace': 'pos', 'type': 'pos_tag'}, 'tokens': {'lowercase_tokens': True, 'type': 'single_id'}}, 'word_tag_delimiter': '//'} and extras {}\n",
      "02/24/2019 00:20:25 - INFO - allennlp.common.params -   dataset_reader.word_tag_delimiter = //\n",
      "02/24/2019 00:20:25 - INFO - allennlp.common.params -   dataset_reader.token_delimiter = None\n",
      "02/24/2019 00:20:25 - INFO - allennlp.common.from_params -   instantiating class allennlp.data.token_indexers.token_indexer.TokenIndexer from params {'namespace': 'dependencies', 'type': 'dependency_label'} and extras {}\n",
      "02/24/2019 00:20:25 - INFO - allennlp.common.params -   dataset_reader.token_indexers.dependency_label.type = dependency_label\n",
      "02/24/2019 00:20:25 - INFO - allennlp.common.from_params -   instantiating class allennlp.data.token_indexers.dep_label_indexer.DepLabelIndexer from params {'namespace': 'dependencies'} and extras {}\n",
      "02/24/2019 00:20:25 - INFO - allennlp.common.params -   dataset_reader.token_indexers.dependency_label.namespace = dependencies\n",
      "02/24/2019 00:20:25 - INFO - allennlp.common.from_params -   instantiating class allennlp.data.token_indexers.token_indexer.TokenIndexer from params {'namespace': 'ner', 'type': 'ner_tag'} and extras {}\n",
      "02/24/2019 00:20:25 - INFO - allennlp.common.params -   dataset_reader.token_indexers.ner_tag.type = ner_tag\n",
      "02/24/2019 00:20:25 - INFO - allennlp.common.from_params -   instantiating class allennlp.data.token_indexers.ner_tag_indexer.NerTagIndexer from params {'namespace': 'ner'} and extras {}\n",
      "02/24/2019 00:20:25 - INFO - allennlp.common.params -   dataset_reader.token_indexers.ner_tag.namespace = ner\n",
      "02/24/2019 00:20:25 - INFO - allennlp.common.from_params -   instantiating class allennlp.data.token_indexers.token_indexer.TokenIndexer from params {'coarse_tags': True, 'namespace': 'pos', 'type': 'pos_tag'} and extras {}\n",
      "02/24/2019 00:20:25 - INFO - allennlp.common.params -   dataset_reader.token_indexers.pos_tag.type = pos_tag\n",
      "02/24/2019 00:20:25 - INFO - allennlp.common.from_params -   instantiating class allennlp.data.token_indexers.pos_tag_indexer.PosTagIndexer from params {'coarse_tags': True, 'namespace': 'pos'} and extras {}\n",
      "02/24/2019 00:20:25 - INFO - allennlp.common.params -   dataset_reader.token_indexers.pos_tag.namespace = pos\n",
      "02/24/2019 00:20:25 - INFO - allennlp.common.params -   dataset_reader.token_indexers.pos_tag.coarse_tags = True\n",
      "02/24/2019 00:20:25 - INFO - allennlp.common.from_params -   instantiating class allennlp.data.token_indexers.token_indexer.TokenIndexer from params {'lowercase_tokens': True, 'type': 'single_id'} and extras {}\n",
      "02/24/2019 00:20:25 - INFO - allennlp.common.params -   dataset_reader.token_indexers.tokens.type = single_id\n",
      "02/24/2019 00:20:25 - INFO - allennlp.common.from_params -   instantiating class allennlp.data.token_indexers.single_id_token_indexer.SingleIdTokenIndexer from params {'lowercase_tokens': True} and extras {}\n",
      "02/24/2019 00:20:25 - INFO - allennlp.common.params -   dataset_reader.token_indexers.tokens.namespace = tokens\n",
      "02/24/2019 00:20:25 - INFO - allennlp.common.params -   dataset_reader.token_indexers.tokens.lowercase_tokens = True\n",
      "02/24/2019 00:20:25 - INFO - allennlp.common.params -   dataset_reader.token_indexers.tokens.start_tokens = None\n",
      "02/24/2019 00:20:25 - INFO - allennlp.common.params -   dataset_reader.token_indexers.tokens.end_tokens = None\n",
      "02/24/2019 00:20:25 - INFO - allennlp.common.params -   dataset_reader.lazy = False\n",
      "02/24/2019 00:20:25 - INFO - allennlp.common.from_params -   instantiating class <class 'allennlp.data.tokenizers.tokenizer.Tokenizer'> from params {'type': 'word', 'word_splitter': {'ner': True, 'parse': True, 'pos_tags': True, 'type': 'whitespacy'}} and extras {}\n",
      "02/24/2019 00:20:25 - INFO - allennlp.common.params -   dataset_reader.mytokenizer.type = word\n",
      "02/24/2019 00:20:25 - INFO - allennlp.common.from_params -   instantiating class <class 'allennlp.data.tokenizers.word_tokenizer.WordTokenizer'> from params {'word_splitter': {'ner': True, 'parse': True, 'pos_tags': True, 'type': 'whitespacy'}} and extras {}\n",
      "02/24/2019 00:20:25 - INFO - allennlp.common.from_params -   instantiating class <class 'allennlp.data.tokenizers.word_splitter.WordSplitter'> from params {'ner': True, 'parse': True, 'pos_tags': True, 'type': 'whitespacy'} and extras {}\n",
      "02/24/2019 00:20:25 - INFO - allennlp.common.params -   dataset_reader.mytokenizer.word_splitter.type = whitespacy\n",
      "02/24/2019 00:20:25 - INFO - allennlp.common.from_params -   instantiating class <class 'myallennlp.data.tokenizers.word_splitter.SpacyWordSplitter'> from params {'ner': True, 'parse': True, 'pos_tags': True} and extras {}\n",
      "02/24/2019 00:20:25 - INFO - allennlp.common.params -   dataset_reader.mytokenizer.word_splitter.language = en_core_web_sm\n",
      "02/24/2019 00:20:25 - INFO - allennlp.common.params -   dataset_reader.mytokenizer.word_splitter.pos_tags = True\n",
      "02/24/2019 00:20:25 - INFO - allennlp.common.params -   dataset_reader.mytokenizer.word_splitter.parse = True\n",
      "02/24/2019 00:20:25 - INFO - allennlp.common.params -   dataset_reader.mytokenizer.word_splitter.ner = True\n",
      "02/24/2019 00:20:26 - INFO - allennlp.common.params -   dataset_reader.mytokenizer.start_tokens = None\n",
      "02/24/2019 00:20:26 - INFO - allennlp.common.params -   dataset_reader.mytokenizer.end_tokens = None\n",
      "02/24/2019 00:20:26 - INFO - allennlp.common.params -   dataset_reader.use_spacy_directly = False\n"
     ]
    }
   ],
   "source": [
    "# Set up AllenNLP\n",
    "currmodel = os.path.join('.','model.tar.gz')\n",
    "predictor = Predictor.from_path(currmodel,predictor_name='sentence-tagger');"
   ]
  },
  {
   "cell_type": "markdown",
   "metadata": {},
   "source": [
    "## Run on test sentence"
   ]
  },
  {
   "cell_type": "code",
   "execution_count": 4,
   "metadata": {},
   "outputs": [
    {
     "name": "stdout",
     "output_type": "stream",
     "text": [
      "['___Pitch___', 'is', 'an', '___auditory___', 'sensation', 'based', 'on', 'the', 'frequency', 'of', '___vibration___', '.']\n"
     ]
    }
   ],
   "source": [
    "results = predictor.predict(sentence='Pitch is an auditory sensation based on the frequency of vibration.');\n",
    "words = results['words']\n",
    "tags = allenNLP_classify_blanks_fromResults(results,'0')\n",
    "out = words_blanked_allen = words2words_hashblank(words,tags)\n",
    "print(out)"
   ]
  },
  {
   "cell_type": "code",
   "execution_count": 5,
   "metadata": {},
   "outputs": [
    {
     "name": "stdout",
     "output_type": "stream",
     "text": [
      "['The', '___Normans___', 'are', 'from', '___northern___', '___France___', '.']\n"
     ]
    }
   ],
   "source": [
    "results = predictor.predict(sentence='The Normans are from northern France.');\n",
    "words = results['words']\n",
    "tags = allenNLP_classify_blanks_fromResults(results,'0')\n",
    "out = words_blanked_allen = words2words_hashblank(words,tags)\n",
    "print(out)"
   ]
  },
  {
   "cell_type": "code",
   "execution_count": 6,
   "metadata": {},
   "outputs": [
    {
     "name": "stdout",
     "output_type": "stream",
     "text": [
      "['___The___', '___brain___', 'is', 'an', '___organ___', 'that', 'serves', 'as', 'the', '___center___', 'of', 'the', '___nervous___', 'system', 'in', 'all', '___vertebrate___', 'and', 'most', '___invertebrate___', 'animals', '.']\n"
     ]
    }
   ],
   "source": [
    "results = predictor.predict(sentence='The brain is an organ that serves as the center of the nervous system in all vertebrate and most invertebrate animals.');\n",
    "words = results['words']\n",
    "tags = allenNLP_classify_blanks_fromResults(results,'0')\n",
    "out = words_blanked_allen = words2words_hashblank(words,tags)\n",
    "print(out)"
   ]
  },
  {
   "cell_type": "code",
   "execution_count": 7,
   "metadata": {},
   "outputs": [
    {
     "name": "stdout",
     "output_type": "stream",
     "text": [
      "['______', ',', 'the', '______', 'of', 'the', '______', 'is', 'to', 'exert', '______', '______', 'over', 'the', 'other', 'organs', 'of', 'the', 'body', '.']\n"
     ]
    }
   ],
   "source": [
    "results = predictor.predict(sentence='Physiologically, the function of the brain is to exert centralized control over the other organs of the body.');\n",
    "words = results['words']\n",
    "tags = allenNLP_classify_blanks_fromResults(results,'0')\n",
    "out = words_blanked_allen = words2words_blanked(words,tags)\n",
    "print(out)"
   ]
  },
  {
   "cell_type": "code",
   "execution_count": 8,
   "metadata": {},
   "outputs": [
    {
     "name": "stdout",
     "output_type": "stream",
     "text": [
      "['The', '______', '______', 'ravaged', 'Europe', 'for', '______', 'years', 'before', 'it', 'continued', 'on', 'into', '______', ',', 'where', 'the', 'disease', 'was', 'present', 'somewhere', 'in', 'the', 'country', '25', 'times', 'between', '______', 'to', '______', '.']\n"
     ]
    }
   ],
   "source": [
    "results = predictor.predict(sentence='The Black Death ravaged Europe for three years before it continued on into Russia, where the disease was present somewhere in the country 25 times between 1350 to 1490.');\n",
    "words = results['words']\n",
    "tags = allenNLP_classify_blanks_fromResults(results,'0')\n",
    "out = words_blanked_allen = words2words_blanked(words,tags)\n",
    "print(out)"
   ]
  },
  {
   "cell_type": "code",
   "execution_count": 9,
   "metadata": {},
   "outputs": [
    {
     "name": "stdout",
     "output_type": "stream",
     "text": [
      "['The', '______', '______', 'ravaged', 'Europe', 'for', '______', 'years', 'before', 'it', 'continued', 'on', 'into', '______', '.']\n"
     ]
    }
   ],
   "source": [
    "results = predictor.predict(sentence='The Black Death ravaged Europe for three years before it continued on into Russia.');\n",
    "words = results['words']\n",
    "tags = allenNLP_classify_blanks_fromResults(results,'0')\n",
    "out = words_blanked_allen = words2words_blanked(words,tags)\n",
    "print(out)"
   ]
  },
  {
   "cell_type": "code",
   "execution_count": 10,
   "metadata": {},
   "outputs": [
    {
     "name": "stdout",
     "output_type": "stream",
     "text": [
      "['I', 'continued', 'on', 'into', '______', ',', 'which', 'is', 'a', 'country', '.']\n"
     ]
    }
   ],
   "source": [
    "results = predictor.predict(sentence='I continued on into Russia, which is a country.');\n",
    "words = results['words']\n",
    "tags = allenNLP_classify_blanks_fromResults(results,'0')\n",
    "out = words_blanked_allen = words2words_blanked(words,tags)\n",
    "print(out)"
   ]
  },
  {
   "cell_type": "code",
   "execution_count": 11,
   "metadata": {},
   "outputs": [
    {
     "name": "stdout",
     "output_type": "stream",
     "text": [
      "['I', 'continued', 'on', 'into', '______', ',', 'which', 'is', 'a', 'food', '.']\n"
     ]
    }
   ],
   "source": [
    "results = predictor.predict(sentence='I continued on into Russia, which is a food.');\n",
    "words = results['words']\n",
    "tags = allenNLP_classify_blanks_fromResults(results,'0')\n",
    "out = words_blanked_allen = words2words_blanked(words,tags)\n",
    "print(out)"
   ]
  },
  {
   "cell_type": "code",
   "execution_count": null,
   "metadata": {},
   "outputs": [],
   "source": []
  },
  {
   "cell_type": "code",
   "execution_count": 12,
   "metadata": {},
   "outputs": [
    {
     "name": "stdout",
     "output_type": "stream",
     "text": [
      "['______', 'is', 'the', 'capital', 'of', '______', '.']\n"
     ]
    }
   ],
   "source": [
    "results = predictor.predict(sentence='Moscow is the capital of Russia.');\n",
    "words = results['words']\n",
    "tags = allenNLP_classify_blanks_fromResults(results,'0')\n",
    "out = words_blanked_allen = words2words_blanked(words,tags)\n",
    "print(out)"
   ]
  },
  {
   "cell_type": "code",
   "execution_count": 13,
   "metadata": {},
   "outputs": [
    {
     "name": "stdout",
     "output_type": "stream",
     "text": [
      "['______', 'is', 'the', '______', 'of', '______', '.']\n"
     ]
    }
   ],
   "source": [
    "results = predictor.predict(sentence='London is the capital of England.');\n",
    "words = results['words']\n",
    "tags = allenNLP_classify_blanks_fromResults(results,'0')\n",
    "out = words_blanked_allen = words2words_blanked(words,tags)\n",
    "print(out)"
   ]
  },
  {
   "cell_type": "code",
   "execution_count": 14,
   "metadata": {},
   "outputs": [
    {
     "name": "stdout",
     "output_type": "stream",
     "text": [
      "['______', 'is', 'the', 'capital', 'of', '______']\n"
     ]
    }
   ],
   "source": [
    "results = predictor.predict(sentence='Berlin is the capital of England');\n",
    "words = results['words']\n",
    "tags = allenNLP_classify_blanks_fromResults(results,'0')\n",
    "out = words_blanked_allen = words2words_blanked(words,tags)\n",
    "print(out)"
   ]
  },
  {
   "cell_type": "code",
   "execution_count": 15,
   "metadata": {},
   "outputs": [
    {
     "name": "stdout",
     "output_type": "stream",
     "text": [
      "['______', 'is', 'the', 'capital', 'of', '______']\n"
     ]
    }
   ],
   "source": [
    "results = predictor.predict(sentence='Moscow is the capital of England');\n",
    "words = results['words']\n",
    "tags = allenNLP_classify_blanks_fromResults(results,'0')\n",
    "out = words_blanked_allen = words2words_blanked(words,tags)\n",
    "print(out)"
   ]
  },
  {
   "cell_type": "code",
   "execution_count": 16,
   "metadata": {},
   "outputs": [
    {
     "name": "stdout",
     "output_type": "stream",
     "text": [
      "['______', 'is', 'the', 'capital', 'of', '______']\n"
     ]
    }
   ],
   "source": [
    "results = predictor.predict(sentence='Bacon is the capital of England');\n",
    "words = results['words']\n",
    "tags = allenNLP_classify_blanks_fromResults(results,'0')\n",
    "out = words_blanked_allen = words2words_blanked(words,tags)\n",
    "print(out)"
   ]
  },
  {
   "cell_type": "code",
   "execution_count": 68,
   "metadata": {},
   "outputs": [
    {
     "name": "stdout",
     "output_type": "stream",
     "text": [
      "['______', 'is', 'a', 'type', 'of', 'disease']\n"
     ]
    }
   ],
   "source": [
    "results = predictor.predict(sentence='Plague is a type of disease');\n",
    "words = results['words']\n",
    "tags = allenNLP_classify_blanks_fromResults(results,'0')\n",
    "out = words_blanked_allen = words2words_blanked(words,tags)\n",
    "print(out)"
   ]
  },
  {
   "cell_type": "code",
   "execution_count": 69,
   "metadata": {},
   "outputs": [
    {
     "name": "stdout",
     "output_type": "stream",
     "text": [
      "['______', 'is', 'a', 'form', 'of', 'information']\n"
     ]
    }
   ],
   "source": [
    "results = predictor.predict(sentence='Data is a form of information');\n",
    "words = results['words']\n",
    "tags = allenNLP_classify_blanks_fromResults(results,'0')\n",
    "out = words_blanked_allen = words2words_blanked(words,tags)\n",
    "print(out)"
   ]
  },
  {
   "cell_type": "code",
   "execution_count": 70,
   "metadata": {},
   "outputs": [
    {
     "name": "stdout",
     "output_type": "stream",
     "text": [
      "['Data', 'is', 'a', 'form', 'of', '______']\n"
     ]
    }
   ],
   "source": [
    "results = predictor.predict(sentence='Data is a form of knowledge');\n",
    "words = results['words']\n",
    "tags = allenNLP_classify_blanks_fromResults(results,'0')\n",
    "out = words_blanked_allen = words2words_blanked(words,tags)\n",
    "print(out)"
   ]
  },
  {
   "cell_type": "code",
   "execution_count": null,
   "metadata": {},
   "outputs": [],
   "source": []
  },
  {
   "cell_type": "code",
   "execution_count": null,
   "metadata": {},
   "outputs": [],
   "source": []
  },
  {
   "cell_type": "code",
   "execution_count": 18,
   "metadata": {},
   "outputs": [],
   "source": [
    "# # Pull out sample paragraph\n",
    "# p = arts[ind_ex_dev]['paragraphs'][0]\n",
    "\n",
    "# # # Print all AllenNLP classifications\n",
    "# # print([(a,b) for a,b in zip(p['allenNER']['words'].split(), p['allenNER']['tags'].split())])\n",
    "\n",
    "# # AllenNLP results\n",
    "# words = p['allenNER']['words'].split()\n",
    "# # tags = p['allenNER']['tags'].split()\n",
    "# # tags = [not t == '0' for t in tags]   # Convert to binary\n",
    "# tags = p['blank_classified_allen']\n",
    "\n",
    "# # Ground truth\n",
    "# blank_classification = p['blank_classification']\n",
    "\n",
    "\n",
    "# words_blanked_ground_truth = words2words_blanked(words,blank_classification)\n",
    "# words_blanked_allen = words2words_blanked(words,tags)\n"
   ]
  },
  {
   "cell_type": "code",
   "execution_count": null,
   "metadata": {},
   "outputs": [],
   "source": []
  },
  {
   "cell_type": "code",
   "execution_count": null,
   "metadata": {},
   "outputs": [],
   "source": []
  },
  {
   "cell_type": "code",
   "execution_count": null,
   "metadata": {},
   "outputs": [],
   "source": []
  },
  {
   "cell_type": "code",
   "execution_count": null,
   "metadata": {},
   "outputs": [],
   "source": []
  },
  {
   "cell_type": "markdown",
   "metadata": {},
   "source": [
    "# Load and merge ground truth and MODEL data"
   ]
  },
  {
   "cell_type": "code",
   "execution_count": 19,
   "metadata": {},
   "outputs": [
    {
     "name": "stdout",
     "output_type": "stream",
     "text": [
      "/home/davestanley/Dropbox/git/mindpocket/train_model/articles_batch5.0/model6e0c37\n"
     ]
    }
   ],
   "source": [
    "!pwd"
   ]
  },
  {
   "cell_type": "code",
   "execution_count": 20,
   "metadata": {},
   "outputs": [
    {
     "name": "stdout",
     "output_type": "stream",
     "text": [
      "Frédéric_Chopin\n"
     ]
    }
   ],
   "source": [
    "# Load data containing MODEL (predictions)\n",
    "foldername = os.path.join('SQ_pp_b4m0c2')\n",
    "arts_train = load_data('train.json',foldername,prepend_data_folder=False)\n",
    "arts_dev = load_data('dev.json',foldername,prepend_data_folder=False)\n",
    "\n",
    "# All articles\n",
    "Ntrain = len(arts_train)\n",
    "Ndev = len(arts_dev)\n",
    "\n",
    "arts = arts_train + arts_dev\n",
    "print(arts[1]['title'])\n",
    "# print(arts[1]['paragraphs'][0]['context'])"
   ]
  },
  {
   "cell_type": "code",
   "execution_count": 21,
   "metadata": {},
   "outputs": [
    {
     "data": {
      "text/plain": [
       "dict_keys(['qas', 'context', 'allenNER'])"
      ]
     },
     "execution_count": 21,
     "metadata": {},
     "output_type": "execute_result"
    }
   ],
   "source": [
    "arts[0]['paragraphs'][0].keys()"
   ]
  },
  {
   "cell_type": "code",
   "execution_count": 22,
   "metadata": {},
   "outputs": [],
   "source": [
    "# Trim down newly loaded articles to match Narticles in training set\n",
    "ind_train = slice(0,Ntrain)\n",
    "ind_dev = slice(0,Ndev)\n",
    "\n",
    "# Chosen display articles\n",
    "ind_ex_train = 1                   # Example from training set - Chopin\n",
    "ind_ex_train = 381                   # Example from training set - Roman Republic\n",
    "ind_ex_train = 213                   # Example from training set - Roman Republic\n",
    "ind_ex_dev = Ntrain + (467-442)    # Example from dev set - Immune system\n",
    "ind_ex_dev = Ntrain + (458-442)    # Example from dev set - Pharmacy\n",
    "ind_ex_dev = Ntrain + (456-442)    # Example from dev set - Black death\n",
    "# ind_ex_dev = 105                   # Pitch\n",
    "ind_ex_dev = ind_ex_train          # Use train for everything"
   ]
  },
  {
   "cell_type": "code",
   "execution_count": 23,
   "metadata": {},
   "outputs": [
    {
     "name": "stdout",
     "output_type": "stream",
     "text": [
      "Data_compression\n"
     ]
    }
   ],
   "source": [
    "# Load blanks data (ground truth)\n",
    "foldername = get_foldername('sq_pp_training')\n",
    "arts3 = load_data('train.json',foldername)[ind_train] + load_data('dev.json',foldername)[ind_dev]\n",
    "print(arts3[ind_ex_train]['title'])\n",
    "# print(arts3[1]['paragraphs'][0]['context_blanked'])\n"
   ]
  },
  {
   "cell_type": "code",
   "execution_count": 24,
   "metadata": {},
   "outputs": [
    {
     "name": "stdout",
     "output_type": "stream",
     "text": [
      "Matching titles: 477 \n",
      "Total articles 477\n"
     ]
    }
   ],
   "source": [
    "# Make sure all titles match\n",
    "all_title_pairs = [(a1['title'],a3['title']) for a1,a3 in zip(arts,arts3)]\n",
    "titles_match_bool = [a1['title'] == a3['title'] for a1,a3 in zip(arts,arts3)]\n",
    "print(\"Matching titles: {} \\nTotal articles {}\".format(sum(titles_match_bool),len(titles_match_bool)))\n",
    "if not sum(titles_match_bool) == len(titles_match_bool):\n",
    "    raise ValueError('Articles mismatch.')\n"
   ]
  },
  {
   "cell_type": "code",
   "execution_count": 25,
   "metadata": {},
   "outputs": [],
   "source": [
    "# Merge ground truth blanks with original data to get full dataset\n",
    "list_of_fields = ['context_blanked','blank_classification']\n",
    "arts = merge_arts_paragraph_fields(arts,arts3,list_of_fields)\n",
    "\n",
    "# print(arts[1]['title'])\n",
    "# print(arts[1]['paragraphs'][0]['context'])\n",
    "# print(arts[1]['paragraphs'][0]['context_blanked'])"
   ]
  },
  {
   "cell_type": "code",
   "execution_count": 26,
   "metadata": {},
   "outputs": [
    {
     "data": {
      "text/plain": [
       "'In signal processing, data compression, source coding, or bit-rate reduction involves encoding information using fewer bits than the original representation. Compression can be either lossy or lossless. Lossless compression reduces bits by identifying and eliminating statistical redundancy. No information is lost in lossless compression. Lossy compression reduces bits by identifying unnecessary information and removing it. The process of reducing the size of a data file is referred to as data compression. In the context of data transmission, it is called source coding (encoding done at the source of the data before it is stored or transmitted) in opposition to channel coding.'"
      ]
     },
     "execution_count": 26,
     "metadata": {},
     "output_type": "execute_result"
    }
   ],
   "source": [
    "arts[ind_ex_train]['paragraphs'][0]['context']"
   ]
  },
  {
   "cell_type": "code",
   "execution_count": 27,
   "metadata": {},
   "outputs": [
    {
     "data": {
      "text/plain": [
       "dict_keys(['qas', 'context', 'allenNER', 'context_blanked', 'blank_classification', 'blank_classified_allen'])"
      ]
     },
     "execution_count": 27,
     "metadata": {},
     "output_type": "execute_result"
    }
   ],
   "source": [
    "# Convert AllenNLP Model blanks classification into standard format\n",
    "\n",
    "# If doing merge, use unique name for this model result. Otherwise, use generic name\n",
    "if merge_in_NER_data: fieldname = 'blank_classified_allenMODEL'\n",
    "else: fieldname = 'blank_classified_allen'\n",
    "\n",
    "arts = allenNLP_classify_blanks(arts,'0',fieldname)\n",
    "arts[0]['paragraphs'][0].keys()"
   ]
  },
  {
   "cell_type": "markdown",
   "metadata": {},
   "source": [
    "# Load NER data and merge into arts dataset"
   ]
  },
  {
   "cell_type": "code",
   "execution_count": 28,
   "metadata": {},
   "outputs": [],
   "source": [
    "\n",
    "if merge_in_NER_data:\n",
    "    # Load data containing NEP (predictions)\n",
    "    foldername = get_foldername('sq_pp_ner')\n",
    "\n",
    "    arts_NER = load_data('train.json',foldername)[ind_train] + load_data('dev.json',foldername)[ind_dev]\n",
    "    print(arts[1]['title'])\n",
    "    # print(arts[1]['paragraphs'][0]['context'])\n",
    "\n",
    "    # Make sure all titles match\n",
    "    all_title_pairs = [(a1['title'],a3['title']) for a1,a3 in zip(arts,arts_NER)]\n",
    "    titles_match_bool = [a1['title'] == a3['title'] for a1,a3 in zip(arts,arts_NER)]\n",
    "    print(\"Matching titles: {} \\nTotal articles {}\".format(sum(titles_match_bool),len(titles_match_bool)))\n",
    "    if not sum(titles_match_bool) == len(titles_match_bool):\n",
    "        raise ValueError('Articles mismatch.')\n",
    "\n",
    "    # Convert AllenNLP Model blanks classification into standard format\n",
    "    from utils_NLP import allenNLP_classify_blanks\n",
    "    arts_NER = allenNLP_classify_blanks(arts_NER,'O','blank_classified_allenNER')\n",
    "    print(arts_NER[0]['paragraphs'][0].keys())\n",
    "\n",
    "    # Merge NER data into full dataset\n",
    "    list_of_fields = ['blank_classified_allenNER']\n",
    "    arts = merge_arts_paragraph_fields(arts,arts_NER,list_of_fields)\n",
    "    print(arts[0]['paragraphs'][0].keys())"
   ]
  },
  {
   "cell_type": "code",
   "execution_count": 29,
   "metadata": {},
   "outputs": [],
   "source": [
    "# OR operation on blank_classified_allenMODEL and blank_classified_allenNER into blank_classified_allenMODEL\n",
    "\n",
    "if merge_in_NER_data:\n",
    "    destination_fieldname = 'blank_classified_allen'\n",
    "    arts = OR_arts_paragraph_fields(arts,['blank_classified_allenMODEL','blank_classified_allenNER'],destination_fieldname)\n",
    "\n",
    "    p = arts[0]['paragraphs'][1]\n",
    "    print(p['blank_classified_allenNER'])\n",
    "    print(p['blank_classified_allenMODEL'])\n",
    "    print(p['blank_classified_allen'])\n"
   ]
  },
  {
   "cell_type": "markdown",
   "metadata": {},
   "source": [
    "# Compare paragraph word reconstructions"
   ]
  },
  {
   "cell_type": "markdown",
   "metadata": {},
   "source": [
    "This just looks at the words in the different saved fiels files to make sure all the words match up 1:1 (otherwise, this could mess up our evaluations). Not looking at blanks here at all. The next sectoin looks at the blanks"
   ]
  },
  {
   "cell_type": "code",
   "execution_count": 30,
   "metadata": {},
   "outputs": [],
   "source": [
    "# Pull out sample paragraph\n",
    "p = arts[ind_ex_dev]['paragraphs'][0]"
   ]
  },
  {
   "cell_type": "markdown",
   "metadata": {},
   "source": [
    "## AllenNLP Words"
   ]
  },
  {
   "cell_type": "code",
   "execution_count": 31,
   "metadata": {},
   "outputs": [
    {
     "name": "stdout",
     "output_type": "stream",
     "text": [
      "116\n",
      "116\n",
      "In signal processing, data compression, source coding, or bit - rate reduction involves encoding information using fewer bits than the original representation. Compression can be either lossy or lossless. Lossless compression reduces bits by identifying and eliminating statistical redundancy. No information is lost in lossless compression. Lossy compression reduces bits by identifying unnecessary information and removing it. The process of reducing the size of a data file is referred to as data compression. In the context of data transmission, it is called source coding ( encoding done at the source of the data before it is stored or transmitted ) in opposition to channel coding.\n",
      "688\n"
     ]
    }
   ],
   "source": [
    "words = p['allenNER']['words'].split()\n",
    "tags = p['allenNER']['tags'].split()\n",
    "print(len(words))\n",
    "print(len(tags))\n",
    "print(words2text(words))\n",
    "print(len(words2text(words)))"
   ]
  },
  {
   "cell_type": "markdown",
   "metadata": {},
   "source": [
    "## Context"
   ]
  },
  {
   "cell_type": "code",
   "execution_count": 32,
   "metadata": {},
   "outputs": [
    {
     "name": "stdout",
     "output_type": "stream",
     "text": [
      "116\n",
      "In signal processing, data compression, source coding, or bit - rate reduction involves encoding information using fewer bits than the original representation. Compression can be either lossy or lossless. Lossless compression reduces bits by identifying and eliminating statistical redundancy. No information is lost in lossless compression. Lossy compression reduces bits by identifying unnecessary information and removing it. The process of reducing the size of a data file is referred to as data compression. In the context of data transmission, it is called source coding ( encoding done at the source of the data before it is stored or transmitted ) in opposition to channel coding.\n",
      "688\n"
     ]
    }
   ],
   "source": [
    "from utils_NLP import allenNLP_split_words, join_punctuation\n",
    "\n",
    "context = p['context']\n",
    "context_split = allenNLP_split_words(context)\n",
    "\n",
    "# context_reassembled = ' '.join(context_split)\n",
    "context_reassembled = words2text(context_split)\n",
    "\n",
    "print(len(context_split))\n",
    "# print(words2text(context_split))\n",
    "# print(len(words2text(context_split)))\n",
    "print(context_reassembled)\n",
    "print(len(context_reassembled))\n"
   ]
  },
  {
   "cell_type": "markdown",
   "metadata": {},
   "source": [
    "## Context_blanked"
   ]
  },
  {
   "cell_type": "code",
   "execution_count": 33,
   "metadata": {},
   "outputs": [
    {
     "name": "stdout",
     "output_type": "stream",
     "text": [
      "116\n",
      "dict_keys(['qas', 'context', 'allenNER', 'context_blanked', 'blank_classification', 'blank_classified_allen'])\n",
      "In signal processing , ______ ______ , ______ ______ , or bit - rate reduction involves encoding information using fewer bits than the original representation . ______ can be either lossy or ______ . ______ ______ reduces bits by identifying and eliminating statistical redundancy . No information is lost in ______ ______ . Lossy ______ reduces bits by identifying unnecessary information and removing it . The process of reducing the size of a ______ file is referred to as ______ ______ . In the context of ______ transmission , it is called ______ ______ ( encoding done at the ______ of the ______ before it is stored or transmitted ) in opposition to channel ______ .\n"
     ]
    }
   ],
   "source": [
    "print(len(p['blank_classification']))\n",
    "print(p.keys())\n",
    "print(p['context_blanked'])"
   ]
  },
  {
   "cell_type": "code",
   "execution_count": 34,
   "metadata": {},
   "outputs": [
    {
     "name": "stdout",
     "output_type": "stream",
     "text": [
      "data\n",
      "compression\n",
      "source\n",
      "coding\n",
      "Compression\n",
      "lossless\n",
      "Lossless\n",
      "compression\n",
      "lossless\n",
      "compression\n",
      "compression\n",
      "data\n",
      "data\n",
      "compression\n",
      "data\n",
      "source\n",
      "coding\n",
      "source\n",
      "data\n",
      "coding\n"
     ]
    }
   ],
   "source": [
    "# Answers\n",
    "for i,c in enumerate(p['blank_classification']):\n",
    "    if c == 1: print(context_split[i])"
   ]
  },
  {
   "cell_type": "markdown",
   "metadata": {},
   "source": [
    "# Single paragraph - Compare blanks"
   ]
  },
  {
   "cell_type": "markdown",
   "metadata": {},
   "source": [
    "## First, just look at the raw text"
   ]
  },
  {
   "cell_type": "code",
   "execution_count": 35,
   "metadata": {},
   "outputs": [],
   "source": [
    "# Pull out sample paragraph\n",
    "p = arts[ind_ex_dev]['paragraphs'][0]\n",
    "\n",
    "# # Print all AllenNLP classifications\n",
    "# print([(a,b) for a,b in zip(p['allenNER']['words'].split(), p['allenNER']['tags'].split())])\n",
    "\n",
    "# AllenNLP results\n",
    "words = p['allenNER']['words'].split()\n",
    "# tags = p['allenNER']['tags'].split()\n",
    "# tags = [not t == '0' for t in tags]   # Convert to binary\n",
    "tags = p['blank_classified_allen']\n",
    "\n",
    "# Ground truth\n",
    "blank_classification = p['blank_classification']"
   ]
  },
  {
   "cell_type": "code",
   "execution_count": 36,
   "metadata": {},
   "outputs": [
    {
     "name": "stdout",
     "output_type": "stream",
     "text": [
      "Length Allen tags: 116. Length ground truth blanks: 116\n"
     ]
    }
   ],
   "source": [
    "\n",
    "\n",
    "print(\"Length Allen tags: {}. Length ground truth blanks: {}\".format(len(tags),len(blank_classification)))"
   ]
  },
  {
   "cell_type": "code",
   "execution_count": 37,
   "metadata": {},
   "outputs": [
    {
     "name": "stdout",
     "output_type": "stream",
     "text": [
      "============\t\t\t==========\n",
      "Ground truth\t\t\tPrediction\n",
      "============\t\t\t==========\n",
      "In\t\t\t\tIn\n",
      "signal\t\t\t\t______\n",
      "processing\t\t\t\tprocessing\n",
      ",\t\t\t\t,\n",
      "______\t\t\t\tdata\n",
      "______\t\t\t\t______\n",
      ",\t\t\t\t,\n",
      "______\t\t\t\t______\n",
      "______\t\t\t\t______\n",
      ",\t\t\t\t,\n",
      "or\t\t\t\tor\n",
      "bit\t\t\t\t______\n",
      "-\t\t\t\t-\n",
      "rate\t\t\t\trate\n",
      "reduction\t\t\t\t______\n",
      "involves\t\t\t\tinvolves\n",
      "encoding\t\t\t\tencoding\n",
      "information\t\t\t\tinformation\n",
      "using\t\t\t\tusing\n",
      "fewer\t\t\t\tfewer\n"
     ]
    }
   ],
   "source": [
    "# Side by side compare\n",
    "\n",
    "words_blanked_ground_truth = words2words_blanked(words,blank_classification)\n",
    "words_blanked_allen = words2words_blanked(words,tags)\n",
    "\n",
    "N=len(words_blanked_ground_truth)\n",
    "N=20\n",
    "print(\"============\" + '\\t\\t\\t' + \"==========\")\n",
    "print(\"Ground truth\" + '\\t\\t\\t' + \"Prediction\")\n",
    "print(\"============\" + '\\t\\t\\t' + \"==========\")\n",
    "for c,w in zip(words_blanked_ground_truth[:N],words_blanked_allen[:N]):\n",
    "    print(c + '\\t\\t\\t\\t' + w)\n"
   ]
  },
  {
   "cell_type": "markdown",
   "metadata": {},
   "source": [
    "## Ground truth blanked"
   ]
  },
  {
   "cell_type": "code",
   "execution_count": 38,
   "metadata": {},
   "outputs": [
    {
     "name": "stdout",
     "output_type": "stream",
     "text": [
      "In signal processing, ______ ______, ______ ______, or bit - rate reduction involves encoding information using fewer bits than the original representation. ______ can be either lossy or ______. ______ ______ reduces bits by identifying and eliminating statistical redundancy. No information is lost in ______ ______. Lossy ______ reduces bits by identifying unnecessary information and removing it. The process of reducing the size of a ______ file is referred to as ______ ______. In the context of ______ transmission, it is called ______ ______ ( encoding done at the ______ of the ______ before it is stored or transmitted ) in opposition to channel ______.\n",
      "Answers:\n",
      "['data', 'compression', 'source', 'coding', 'Compression', 'lossless', 'Lossless', 'compression', 'lossless', 'compression', 'compression', 'data', 'data', 'compression', 'data', 'source', 'coding', 'source', 'data', 'coding']\n"
     ]
    }
   ],
   "source": [
    "# Blanked text\n",
    "print(words2text(words_blanked_ground_truth))\n",
    "\n",
    "# Answers    \n",
    "myanswers = words2answers(words,blank_classification)\n",
    "print(\"Answers:\")\n",
    "print(myanswers)"
   ]
  },
  {
   "cell_type": "code",
   "execution_count": 39,
   "metadata": {},
   "outputs": [
    {
     "name": "stdout",
     "output_type": "stream",
     "text": [
      "In ______ processing, data ______, ______ ______, or ______ - rate ______ involves encoding information using fewer ______ than the original ______. ______ can be either ______ or ______. ______ ______ ______ ______ by identifying and eliminating ______ ______. No ______ is lost in ______ ______. ______ ______ ______ ______ by identifying ______ ______ and ______ it. The ______ of ______ the size of a ______ ______ is referred to as ______ ______. In the ______ of ______ ______, it is called ______ ______ ( ______ done at the source of the data before it is stored or ______ ) in ______ to ______ ______.\n",
      "Answers:\n",
      "['signal', 'compression', 'source', 'coding', 'bit', 'reduction', 'bits', 'representation', 'Compression', 'lossy', 'lossless', 'Lossless', 'compression', 'reduces', 'bits', 'statistical', 'redundancy', 'information', 'lossless', 'compression', 'Lossy', 'compression', 'reduces', 'bits', 'unnecessary', 'information', 'removing', 'process', 'reducing', 'data', 'file', 'data', 'compression', 'context', 'data', 'transmission', 'source', 'coding', 'encoding', 'transmitted', 'opposition', 'channel', 'coding']\n"
     ]
    }
   ],
   "source": [
    "# Blanked text\n",
    "print(words2text(words_blanked_allen))\n",
    "\n",
    "# Answers    \n",
    "myanswers = words2answers(words,tags)\n",
    "print(\"Answers:\")\n",
    "print(myanswers)"
   ]
  },
  {
   "cell_type": "code",
   "execution_count": 40,
   "metadata": {},
   "outputs": [],
   "source": [
    "TP = sum([b and t for b,t in zip(blank_classification,tags)])\n",
    "FP = sum([not b and t for b,t in zip(blank_classification,tags)])\n",
    "FN = sum([b and not t for b,t in zip(blank_classification,tags)])\n",
    "TN = sum([not b and not t for b,t in zip(blank_classification,tags)])\n",
    "ACC = (TP+TN)/(TP+FP+FN+TN)\n",
    "ACC2 = sum([b == t for b,t in zip(blank_classification,tags)]) / len(tags)"
   ]
  },
  {
   "cell_type": "code",
   "execution_count": 41,
   "metadata": {},
   "outputs": [
    {
     "name": "stdout",
     "output_type": "stream",
     "text": [
      "0.75\n",
      "0.75\n",
      "17\n",
      "26\n"
     ]
    }
   ],
   "source": [
    "print(ACC)\n",
    "print(ACC2)\n",
    "print(TP)\n",
    "print(FP)"
   ]
  },
  {
   "cell_type": "code",
   "execution_count": 42,
   "metadata": {},
   "outputs": [],
   "source": [
    "# Sensitivity, hit rate, recall, or true positive rate\n",
    "TPR = TP/(TP+FN)\n",
    "# Specificity or true negative rate\n",
    "TNR = TN/(TN+FP) \n",
    "# Precision or positive predictive value\n",
    "PPV = TP/(TP+FP)\n",
    "# Negative predictive value\n",
    "NPV = TN/(TN+FN)\n",
    "# Fall out or false positive rate\n",
    "FPR = FP/(FP+TN)\n",
    "# False negative rate\n",
    "FNR = FN/(TP+FN)\n",
    "# False discovery rate\n",
    "FDR = FP/(TP+FP)\n"
   ]
  },
  {
   "cell_type": "code",
   "execution_count": 43,
   "metadata": {},
   "outputs": [
    {
     "name": "stdout",
     "output_type": "stream",
     "text": [
      "0.85\n",
      "0.2708333333333333\n"
     ]
    }
   ],
   "source": [
    "print(TPR)\n",
    "print(FPR)"
   ]
  },
  {
   "cell_type": "code",
   "execution_count": 44,
   "metadata": {},
   "outputs": [
    {
     "name": "stdout",
     "output_type": "stream",
     "text": [
      "Nsentences=7\n",
      "Nsentences_from_words=7\n"
     ]
    }
   ],
   "source": [
    "Nsentences = len(text2sentences(p['context']))\n",
    "print(\"Nsentences={}\".format(str(Nsentences)))\n",
    "\n",
    "Nsentences2 = len(text2sentences(words2text(words)))\n",
    "print(\"Nsentences_from_words={}\".format(str(Nsentences2)))\n",
    "\n"
   ]
  },
  {
   "cell_type": "code",
   "execution_count": 45,
   "metadata": {},
   "outputs": [
    {
     "name": "stdout",
     "output_type": "stream",
     "text": [
      "2.4285714285714284\n",
      "3.7142857142857144\n"
     ]
    }
   ],
   "source": [
    "TPpersent = TP / Nsentences2\n",
    "FPpersent = FP / Nsentences2\n",
    "\n",
    "print(TPpersent)\n",
    "print(FPpersent)"
   ]
  },
  {
   "cell_type": "markdown",
   "metadata": {},
   "source": [
    "# Single article - compare blanks"
   ]
  },
  {
   "cell_type": "code",
   "execution_count": 46,
   "metadata": {},
   "outputs": [
    {
     "name": "stdout",
     "output_type": "stream",
     "text": [
      "Data_compression\n"
     ]
    }
   ],
   "source": [
    "##### Pull out sample paragraph\n",
    "a = arts[ind_ex_dev]\n",
    "print(a['title'])\n",
    "\n",
    "# AllenNLP results\n",
    "words = [w for p in a['paragraphs'] for w in p['allenNER']['words'].split()]\n",
    "# tags = [t for p in a['paragraphs'] for t in p['allenNER']['tags'].split()]\n",
    "# tags = [not t == '0' for t in tags]   # Convert to binary\n",
    "tags = [t for p in a['paragraphs'] for t in p['blank_classified_allen']]\n",
    "\n",
    "# Ground truth\n",
    "blank_classification = [bc for p in a['paragraphs'] for bc in p['blank_classification']]"
   ]
  },
  {
   "cell_type": "code",
   "execution_count": 47,
   "metadata": {},
   "outputs": [
    {
     "name": "stdout",
     "output_type": "stream",
     "text": [
      "Length Allen tags: 3244. Length ground truth blanks: 3244\n"
     ]
    }
   ],
   "source": [
    "\n",
    "print(\"Length Allen tags: {}. Length ground truth blanks: {}\".format(len(tags),len(blank_classification)))"
   ]
  },
  {
   "cell_type": "code",
   "execution_count": 48,
   "metadata": {},
   "outputs": [
    {
     "name": "stdout",
     "output_type": "stream",
     "text": [
      "========\t\t\t============\t\t\t==========\n",
      "Original\t\t\tGround truth\t\t\tPrediction\n",
      "========\t\t\t============\t\t\t==========\n",
      "In\t\t\t\tIn\t\t\t\tIn\n",
      "signal\t\t\t\tsignal\t\t\t\t______\n",
      "processing\t\t\t\tprocessing\t\t\t\tprocessing\n",
      ",\t\t\t\t,\t\t\t\t,\n",
      "data\t\t\t\t______\t\t\t\tdata\n",
      "compression\t\t\t\t______\t\t\t\t______\n",
      ",\t\t\t\t,\t\t\t\t,\n",
      "source\t\t\t\t______\t\t\t\t______\n",
      "coding\t\t\t\t______\t\t\t\t______\n",
      ",\t\t\t\t,\t\t\t\t,\n",
      "or\t\t\t\tor\t\t\t\tor\n",
      "bit\t\t\t\tbit\t\t\t\t______\n",
      "-\t\t\t\t-\t\t\t\t-\n",
      "rate\t\t\t\trate\t\t\t\trate\n",
      "reduction\t\t\t\treduction\t\t\t\t______\n",
      "involves\t\t\t\tinvolves\t\t\t\tinvolves\n",
      "encoding\t\t\t\tencoding\t\t\t\tencoding\n",
      "information\t\t\t\tinformation\t\t\t\tinformation\n",
      "using\t\t\t\tusing\t\t\t\tusing\n",
      "fewer\t\t\t\tfewer\t\t\t\tfewer\n",
      "bits\t\t\t\tbits\t\t\t\t______\n",
      "than\t\t\t\tthan\t\t\t\tthan\n",
      "the\t\t\t\tthe\t\t\t\tthe\n",
      "original\t\t\t\toriginal\t\t\t\toriginal\n",
      "representation\t\t\t\trepresentation\t\t\t\t______\n",
      ".\t\t\t\t.\t\t\t\t.\n",
      "Compression\t\t\t\t______\t\t\t\t______\n",
      "can\t\t\t\tcan\t\t\t\tcan\n",
      "be\t\t\t\tbe\t\t\t\tbe\n",
      "either\t\t\t\teither\t\t\t\teither\n"
     ]
    }
   ],
   "source": [
    "# Side by side compare\n",
    "words_blanked_ground_truth = words2words_blanked(words,blank_classification)\n",
    "words_blanked_allen = words2words_blanked(words,tags)\n",
    "\n",
    "N=len(words_blanked_ground_truth)\n",
    "N=30\n",
    "print(\"========\" + '\\t\\t\\t' + \"============\" + '\\t\\t\\t' + \"==========\")\n",
    "print(\"Original\" + '\\t\\t\\t' + \"Ground truth\" + '\\t\\t\\t' + \"Prediction\")\n",
    "print(\"========\" + '\\t\\t\\t' + \"============\" + '\\t\\t\\t' + \"==========\")\n",
    "for o,c,w in zip(words[:N],words_blanked_ground_truth[:N],words_blanked_allen[:N]):\n",
    "    print(o + '\\t\\t\\t\\t' + c + '\\t\\t\\t\\t' + w)\n"
   ]
  },
  {
   "cell_type": "code",
   "execution_count": 49,
   "metadata": {},
   "outputs": [],
   "source": [
    "TP = sum([b and t for b,t in zip(blank_classification,tags)])\n",
    "FP = sum([not b and t for b,t in zip(blank_classification,tags)])\n",
    "FN = sum([b and not t for b,t in zip(blank_classification,tags)])\n",
    "TN = sum([not b and not t for b,t in zip(blank_classification,tags)])\n",
    "ACC = (TP+TN)/(TP+FP+FN+TN)\n",
    "ACC2 = sum([b == t for b,t in zip(blank_classification,tags)]) / len(tags)"
   ]
  },
  {
   "cell_type": "code",
   "execution_count": 50,
   "metadata": {},
   "outputs": [
    {
     "name": "stdout",
     "output_type": "stream",
     "text": [
      "0.7783600493218249\n",
      "0.7783600493218249\n"
     ]
    }
   ],
   "source": [
    "print(ACC)\n",
    "print(ACC2)"
   ]
  },
  {
   "cell_type": "code",
   "execution_count": 51,
   "metadata": {},
   "outputs": [],
   "source": [
    "# # Sensitivity, hit rate, recall, or true positive rate\n",
    "# TPR = TP/(TP+FN)\n",
    "# # Specificity or true negative rate\n",
    "# TNR = TN/(TN+FP) \n",
    "# # Precision or positive predictive value\n",
    "# PPV = TP/(TP+FP)\n",
    "# # Negative predictive value\n",
    "# NPV = TN/(TN+FN)\n",
    "# # Fall out or false positive rate\n",
    "# FPR = FP/(FP+TN)\n",
    "# # False negative rate\n",
    "# FNR = FN/(TP+FN)\n",
    "# # False discovery rate\n",
    "# FDR = FP/(TP+FP)\n"
   ]
  },
  {
   "cell_type": "code",
   "execution_count": 52,
   "metadata": {},
   "outputs": [],
   "source": [
    "# print(TPR)\n",
    "# print(FPR)"
   ]
  },
  {
   "cell_type": "code",
   "execution_count": 53,
   "metadata": {},
   "outputs": [
    {
     "name": "stdout",
     "output_type": "stream",
     "text": [
      "Nsentences_from_words=126\n"
     ]
    }
   ],
   "source": [
    "Nsentences2 = len(text2sentences(words2text(words)))\n",
    "print(\"Nsentences_from_words={}\".format(str(Nsentences2)))"
   ]
  },
  {
   "cell_type": "code",
   "execution_count": 54,
   "metadata": {},
   "outputs": [
    {
     "name": "stdout",
     "output_type": "stream",
     "text": [
      "1.3492063492063493\n",
      "5.531746031746032\n"
     ]
    }
   ],
   "source": [
    "TPpersent = TP / Nsentences2\n",
    "FPpersent = FP / Nsentences2\n",
    "\n",
    "print(TPpersent)\n",
    "print(FPpersent)"
   ]
  },
  {
   "cell_type": "markdown",
   "metadata": {},
   "source": [
    "## Ground truth blanked vs predicted blanked"
   ]
  },
  {
   "cell_type": "code",
   "execution_count": 55,
   "metadata": {},
   "outputs": [
    {
     "name": "stdout",
     "output_type": "stream",
     "text": [
      "Answers:\n",
      "{'source', 'coding', 'lossless', 'optimal', 'ratios', 'speech', 'temporal', 'MAFE', 'Making', 'bitrate', 'DEFLATE', 'codecs', 'DNAZip', 'GenomeZip', 'variable', 'interframe', 'video', 'LZX', 'Oscar', 'statistical', 'macroblocks', 'differencing', 'estimates', 'Lossless', 'psychoacoustics', 'image', 'Arithmetic', 'contours', 'literature', 'Bonello', 'voltage', 'fractal', 'Huffman', 'voice', 'coders', 'latency', 'compendium', 'masking', 'algorithm', 'Uncompressed', 'Latency', 'compression', 'command', 'Data', 'Lossy', 'DV', 'LZR', 'Compression', 'Voice', 'Brotli', 'longer', 'human', 'data', 'audio', 'arithmetic', 'Genetics', 'color', 'algorithms', 'Video', 'LPC', 'compressed'}\n"
     ]
    }
   ],
   "source": [
    "# Blanked text\n",
    "# print(words2text(words_blanked_ground_truth))\n",
    "\n",
    "# Answers    \n",
    "myanswers = words2answers(words,blank_classification)\n",
    "print(\"Answers:\")\n",
    "print(set(myanswers))"
   ]
  },
  {
   "cell_type": "code",
   "execution_count": 56,
   "metadata": {},
   "outputs": [
    {
     "name": "stdout",
     "output_type": "stream",
     "text": [
      "Answers:\n",
      "{'source', 'HEVC', '200', 'optimal', 'extra', 'statistics', 'Welch', 'coder', 'PNG', 'compresses', 'perceive', 'encoded', 'contours', 'practical', 'noise', 'Latency', 'simultaneous', 'Hopkins', 'meaningful', 'vision', 'telephone', 'channel', 'reduction', 'luminance', 'posterior', 'techniques', 'nothing', 'standard', 'proportional', 'bitrate', 'lighten', 'decompression', 'datatype', 'digitize', 'history', 'heterogeneity', 'Vorbis', 'JPEG', 'discrete', 'decompress', 'uncompressed', 'flocks', 'strings', 'decoded', 'megabytes', 'context', 'AVC', 'billion', 'time', 'zero', 'decompressed', 'decode', 'predictive', 'compressed', 'viewer', 'rapid', 'bits', 'ripping', 'state', 'separate', 'situation', 'genome', 'spectral', 'HAPZIPPER', 'estimates', 'target', 'reversible', 'distribution', 'remove', '20-fold', 'voltage', 'latency', 'compendium', 'flames', 'absolute', 'minimum', 'entropy', 'numbers', 'best', 'decoding', 'compressor', '2012', 'transformed', 'process', 'greater', 'usage', 'University', 'distortion', 'MAFE', 'Oscar', 'low', 'macroblocks', 'representation', 'Bonello', 'CAB', 'blocks', 'terrestrial', 'removing', 'cut', 'MPEG-2', 'superior', 'engineering', 'computers', 'N.', 'optional', 'IBM', 'Elhaik', 'speech', 'diploid', 'genetic', 'Interframe', 'interframe', 'products', 'explosions', 'Lossless', 'reduces', 'learning', 'files', 'CD', 'DVDs', 'Audicom', 'Lossy', 'probabilities', 'predictor', 'hearing', 'quantization', 'pixel', 'phenomenon', 'increases', 'sound', 'quantize', 'automation', 'transmit', 'benchmark', 'perceptually', 'segments', 'Communications', 'latencies', 'animals', 'Huffman', 'decreases', 'capacity', 'IEEE', 'converse', 'algorithm', 'Data', 'internet', 'Chanda', 'Audibility', 'waveforms', 'data', 'transmitted', 'specialized', '50', 'Time', '1988', 'masked', 'JSAC', 'average', 'Natarajan', 'red', 'LZW', 'loss', 'LZX', 'mathematical', 'component', 'higher', 'masking', 'Uncompressed', 'store', 'applications', 'free', 'professor', 'color', 'algorithms', 'D', '256', 'quantized', 'utilities', 'intervals', 'resource', 'mapping', 'conversation', 'results', 'signal', 'method.[citation', 'Bader', 'one', 'Twenty', 'representations', 'cuts', 'brightness', 'Johns', 'tasks', 'H.264/MPEG-4', 'images', 'internal', 'sequences', 'segment', 'Zip', 'music', 'frequency', 'bit', 'bandwidth', 'DEFLATE', 'psychoacoustic', 'methods', 'LZ', 'pursuit', 'waning', 'Ahmed', 'reduce', 'voice', 'discipline', 'corresponding', 'Journal', 'inherently', '2013', 'radio', 'percent', 'space', 'Lempel', 'lunch', 'input', 'PKZIP', 'wavelet', 'inherent', 'coding', 'modelling', 'unnecessary', 'frame', 'producing', 'TTA', 'editing', 'DNAZip', 'GenomeZip', 'nonessential', 'dataset', 'media', 'calculations', 'statistical', 'differencing', 'resources', 'image', '1974', '46', 'threshold', 'changes', 'satellite', 'DCT', 'conversion', 'digital', 'normally', 'file', 'adaptive', 'reducing', 'LPC', 'model', '23', 'HapMap', 'less', 'spatial', 'samples', 'SNPs', 'motion', 'compressors', 'size', 'systems', 'variable', 'darken', 'analysis', 'computational', 'Shorten', 'audible', 'connection', 'filter', 'colour', 'machine', 'Compression', 'LZR', 'cable', '1983', 'human', 'analog', 'flatten', '65,536', 'Video', 'MPEG-1', 'introduced', 'telephony', 'edited', 'artifacts', 'cost', 'video', '60', 'complexity', 'psychoacoustics', 'Arithmetic', 'ear', 'string', 'coders', '2.5', 'schemes', 'block', 'coupled', 'lossy', 'detail', 'streams', 'pixels', 'homogenizing', 'matching', '1200-fold', 'values', 'range', 'MPEG-4', 'intraframe', '2009', 'lossless', 'processed', 'convolution', 'MDCT', 'research', 'codecs', 'interval', 'genomes', 'information', 'eliminate', 'symbols', 'FLAC', 'decompressor', 'quality', 'February', 'transform', '6', 'shift', '279', 'possible', 'decoder', '1967', 'forms', 'encode', 'intelligence', 'weight', 'varies', '5', 'sampled', 'audio', 'acceptable', 'fidelity', '16-bit', 'perceptual', 'television', '8', 'allele', 'spectrum', 'trade', 'Buenos', 'Aires', 'Rao', 'Audio', 'eye', 'opposition', 'GIF', 'probability', 'dynamic', 'empty', 'whiten', 'efficiency', 'emits', 'optimize', 'storage', 'relative', 'speed', 'across', 'frames', 'encoding', 'generator', 'cosine', 'neighboring', 'sequence', 'ms', 'Gzip', 'transforms', 'case', 'prediction', 'irrelevant', 'slightly', 'compress', '20', 'ISO', 'Renau', '50–60', 'difference', 'probabilistic', 'MP3', 'DWT', 'literature', 'fractal', 'integer', 'faster', 'scheme', 'comparative', 'streaming', 'compression', 'wherein', 'shots', 'high', 'degree', 'use', 'domain', 'output', 'processing', 'sounds', 'arithmetic', 'codec', 'copy', '4-fold', 'clears', 'ratios', 'temporal', 'larger', 'communication', 'factor', 'sorting', '1987', 'components', 'transmission', 'code', 'panning', 'memory', 'critical', 'noiseless', 'linear', 'compensation', 'groups', 'DV', 'sections', 'differences', 'nucleotides', 'Voice', 'integers', 'models', 'equivalence', 'redundancy', 'frequencies', 'Genetics'}\n"
     ]
    }
   ],
   "source": [
    "# Blanked text\n",
    "# print(words2text(words_blanked_allen))\n",
    "\n",
    "# Answers    \n",
    "myanswers = words2answers(words,tags)\n",
    "print(\"Answers:\")\n",
    "print(set(myanswers))"
   ]
  },
  {
   "cell_type": "code",
   "execution_count": null,
   "metadata": {},
   "outputs": [],
   "source": []
  },
  {
   "cell_type": "markdown",
   "metadata": {},
   "source": [
    "## Fract of answers blanked"
   ]
  },
  {
   "cell_type": "markdown",
   "metadata": {},
   "source": [
    "### Fract answers blanked vs num answers"
   ]
  },
  {
   "cell_type": "code",
   "execution_count": 57,
   "metadata": {},
   "outputs": [],
   "source": [
    "\n",
    "# Pseudocode\n",
    "# For each answer, loop through the words and count the number of times it occurs.\n",
    "# Get the set of blanks booleans associated with each occurrence of that words, and calculate the\n",
    "# mean. Will do this for each word in the article, and then each article in the corpus. For each\n",
    "# article, rank the words by their proximity to 50 % \n",
    "\n",
    "myanswers_unique = list(set(words2answers(words,tags)))\n",
    "\n",
    "fracblanked = []\n",
    "numblanked = []\n",
    "for ans in myanswers_unique:\n",
    "    indices = [i for i, w in enumerate(words) if w == ans]\n",
    "    tags_curr = [tags[i] for i in indices]\n",
    "    #words_curr = [words[i] for i in indices]\n",
    "    fracblanked.append(sum(tags_curr)/len(tags_curr)*100)\n",
    "    numblanked.append(len(tags_curr))"
   ]
  },
  {
   "cell_type": "code",
   "execution_count": 73,
   "metadata": {},
   "outputs": [
    {
     "data": {
      "text/plain": [
       "(0, 20)"
      ]
     },
     "execution_count": 73,
     "metadata": {},
     "output_type": "execute_result"
    },
    {
     "data": {
      "image/png": "[encoded data removed]",
      "text/plain": [
       "<Figure size 576x576 with 1 Axes>"
      ]
     },
     "metadata": {
      "needs_background": "light"
     },
     "output_type": "display_data"
    }
   ],
   "source": [
    "# Do scatter plot\n",
    "y = numblanked\n",
    "z = fracblanked\n",
    "n = myanswers_unique\n",
    "\n",
    "fig, ax = plt.subplots(figsize=(8, 8))\n",
    "ax.scatter(z, y)\n",
    "\n",
    "for i, txt in enumerate(n):\n",
    "    ax.annotate(txt, (z[i], y[i]))\n",
    "plt.xlabel('Percentage of times blanked out')\n",
    "plt.ylabel('Num occurrences')\n",
    "plt.ylim(0,20)"
   ]
  },
  {
   "cell_type": "markdown",
   "metadata": {},
   "source": [
    "### Fract answers blanked for all answers"
   ]
  },
  {
   "cell_type": "code",
   "execution_count": 75,
   "metadata": {},
   "outputs": [
    {
     "data": {
      "image/png": "[encoded data removed]",
      "text/plain": [
       "<Figure size 576x576 with 1 Axes>"
      ]
     },
     "metadata": {},
     "output_type": "display_data"
    }
   ],
   "source": [
    "import numpy as np\n",
    "import pandas as pd\n",
    "\n",
    "d = {'myanswers_unique':myanswers_unique,'fracblanked':fracblanked}\n",
    "\n",
    "df = pd.DataFrame(data=d);\n",
    "\n",
    "df2 = df.sort_values(by='fracblanked',ascending=True);\n",
    "\n",
    "\n",
    "\n",
    "N=40          # of data points to show\n",
    "figure(num=None, figsize=(8, 8),facecolor='w', edgecolor='k')\n",
    "bars = (df2['myanswers_unique'].values.tolist())[0:N]\n",
    "y_pos = np.arange(len(bars))\n",
    "val = (df2['fracblanked'].values.tolist())[0:N]\n",
    "y_pos = np.arange(len(bars))\n",
    " \n",
    "# Create horizontal bars\n",
    "plt.barh(y_pos, val)\n",
    " \n",
    "# Create names on the y-axis\n",
    "plt.yticks(y_pos, bars)\n",
    "\n",
    "plt.xlabel('Percentage of times blanked out')\n",
    "# Show graphic\n",
    "plt.show()\n",
    "\n"
   ]
  },
  {
   "cell_type": "markdown",
   "metadata": {},
   "source": [
    "### Fractions of POS/NER tags blanked"
   ]
  },
  {
   "cell_type": "code",
   "execution_count": 60,
   "metadata": {},
   "outputs": [],
   "source": [
    "# Use whitespace tokenizer (https://spacy.io/usage/linguistic-features)\n",
    "# davedit\n",
    "from spacy.tokens import Doc\n",
    "class WhitespaceTokenizer(object):\n",
    "\n",
    "    def __init__(self, vocab):\n",
    "        self.vocab = vocab\n",
    "\n",
    "    def __call__(self, text):\n",
    "        words = text.split(' ')\n",
    "        # All tokens 'own' a subsequent space character in this tokenizer\n",
    "        spaces = [True] * len(words)\n",
    "        return Doc(self.vocab, words=words, spaces=spaces)\n"
   ]
  },
  {
   "cell_type": "code",
   "execution_count": 61,
   "metadata": {},
   "outputs": [
    {
     "name": "stdout",
     "output_type": "stream",
     "text": [
      "3244\n",
      "3244\n",
      "3244\n",
      "3244\n",
      "3244\n",
      "3244\n"
     ]
    }
   ],
   "source": [
    "import spacy\n",
    "\n",
    "nlp = spacy.load('en_core_web_sm')\n",
    "nlp.tokenizer = WhitespaceTokenizer(nlp.vocab)\n",
    "doc = nlp(' '.join(words))\n",
    "# doc = nlp(words2text(words))\n",
    "\n",
    "pos=[]\n",
    "ner=[]\n",
    "dep=[]\n",
    "for token in doc:\n",
    "    pos.append(token.pos_)\n",
    "    ner.append(token.ent_type_)\n",
    "    dep.append(token.dep_)\n",
    "\n",
    "# Build a dataframe to store everything\n",
    "d = {'ind': range(len(words)),\n",
    "     'words' : words,\n",
    "    'tags':tags,\n",
    "    'pos':pos,\n",
    "    'ner':ner,\n",
    "    'dep':dep}\n",
    "\n",
    "# # Build a dataframe to store everything\n",
    "# d = {'words' : words,\n",
    "#     'tags':tags,\n",
    "#     'pos':pos,\n",
    "#     'ner':ner,\n",
    "#     'dep':dep}\n",
    "\n",
    "for k in d.keys():\n",
    "    print(str(len(d[k])))"
   ]
  },
  {
   "cell_type": "code",
   "execution_count": 62,
   "metadata": {},
   "outputs": [],
   "source": [
    "df = pd.DataFrame(data=d)\n",
    "xlabs=[]\n",
    "yvals=[]\n",
    "\n",
    "# Search through keys and unique items therein, counting \"Trues\"\n",
    "keys = ['ner']\n",
    "for k in keys:\n",
    "    for item in list(set(d[k])):\n",
    "        df2 = df.loc[df[k] == item]\n",
    "        mysum = df2.sum()['tags']\n",
    "        N = len(df2)\n",
    "        \n",
    "        xlabs.append(k.upper() + ': ' + item.lower())\n",
    "        yvals.append(mysum/N*100)\n",
    "\n",
    "        "
   ]
  },
  {
   "cell_type": "code",
   "execution_count": 63,
   "metadata": {},
   "outputs": [
    {
     "data": {
      "text/html": [
       "<div>\n",
       "<style scoped>\n",
       "    .dataframe tbody tr th:only-of-type {\n",
       "        vertical-align: middle;\n",
       "    }\n",
       "\n",
       "    .dataframe tbody tr th {\n",
       "        vertical-align: top;\n",
       "    }\n",
       "\n",
       "    .dataframe thead th {\n",
       "        text-align: right;\n",
       "    }\n",
       "</style>\n",
       "<table border=\"1\" class=\"dataframe\">\n",
       "  <thead>\n",
       "    <tr style=\"text-align: right;\">\n",
       "      <th></th>\n",
       "      <th>ind</th>\n",
       "      <th>words</th>\n",
       "      <th>tags</th>\n",
       "      <th>pos</th>\n",
       "      <th>ner</th>\n",
       "      <th>dep</th>\n",
       "    </tr>\n",
       "  </thead>\n",
       "  <tbody>\n",
       "    <tr>\n",
       "      <th>375</th>\n",
       "      <td>375</td>\n",
       "      <td>The</td>\n",
       "      <td>0</td>\n",
       "      <td>DET</td>\n",
       "      <td>PERSON</td>\n",
       "      <td>det</td>\n",
       "    </tr>\n",
       "    <tr>\n",
       "      <th>376</th>\n",
       "      <td>376</td>\n",
       "      <td>Lempel</td>\n",
       "      <td>1</td>\n",
       "      <td>PROPN</td>\n",
       "      <td>PERSON</td>\n",
       "      <td>compound</td>\n",
       "    </tr>\n",
       "    <tr>\n",
       "      <th>377</th>\n",
       "      <td>377</td>\n",
       "      <td>–</td>\n",
       "      <td>0</td>\n",
       "      <td>PUNCT</td>\n",
       "      <td>PERSON</td>\n",
       "      <td>punct</td>\n",
       "    </tr>\n",
       "    <tr>\n",
       "      <th>378</th>\n",
       "      <td>378</td>\n",
       "      <td>Ziv</td>\n",
       "      <td>0</td>\n",
       "      <td>PROPN</td>\n",
       "      <td>PERSON</td>\n",
       "      <td>nmod</td>\n",
       "    </tr>\n",
       "    <tr>\n",
       "      <th>505</th>\n",
       "      <td>505</td>\n",
       "      <td>Huffman</td>\n",
       "      <td>1</td>\n",
       "      <td>PROPN</td>\n",
       "      <td>PERSON</td>\n",
       "      <td>attr</td>\n",
       "    </tr>\n",
       "  </tbody>\n",
       "</table>\n",
       "</div>"
      ],
      "text/plain": [
       "     ind    words  tags    pos     ner       dep\n",
       "375  375      The     0    DET  PERSON       det\n",
       "376  376   Lempel     1  PROPN  PERSON  compound\n",
       "377  377        –     0  PUNCT  PERSON     punct\n",
       "378  378      Ziv     0  PROPN  PERSON      nmod\n",
       "505  505  Huffman     1  PROPN  PERSON      attr"
      ]
     },
     "execution_count": 63,
     "metadata": {},
     "output_type": "execute_result"
    }
   ],
   "source": [
    "df3 = df.loc[df['ner'] == 'PERSON']\n",
    "df3.head()           # Hmmm"
   ]
  },
  {
   "cell_type": "code",
   "execution_count": 64,
   "metadata": {},
   "outputs": [
    {
     "data": {
      "text/html": [
       "<div>\n",
       "<style scoped>\n",
       "    .dataframe tbody tr th:only-of-type {\n",
       "        vertical-align: middle;\n",
       "    }\n",
       "\n",
       "    .dataframe tbody tr th {\n",
       "        vertical-align: top;\n",
       "    }\n",
       "\n",
       "    .dataframe thead th {\n",
       "        text-align: right;\n",
       "    }\n",
       "</style>\n",
       "<table border=\"1\" class=\"dataframe\">\n",
       "  <thead>\n",
       "    <tr style=\"text-align: right;\">\n",
       "      <th></th>\n",
       "      <th>xlabs</th>\n",
       "      <th>yvals</th>\n",
       "    </tr>\n",
       "  </thead>\n",
       "  <tbody>\n",
       "    <tr>\n",
       "      <th>10</th>\n",
       "      <td>NER: ordinal</td>\n",
       "      <td>0.000000</td>\n",
       "    </tr>\n",
       "    <tr>\n",
       "      <th>0</th>\n",
       "      <td>NER:</td>\n",
       "      <td>24.879305</td>\n",
       "    </tr>\n",
       "    <tr>\n",
       "      <th>7</th>\n",
       "      <td>NER: cardinal</td>\n",
       "      <td>51.851852</td>\n",
       "    </tr>\n",
       "    <tr>\n",
       "      <th>1</th>\n",
       "      <td>NER: person</td>\n",
       "      <td>53.333333</td>\n",
       "    </tr>\n",
       "    <tr>\n",
       "      <th>9</th>\n",
       "      <td>NER: percent</td>\n",
       "      <td>60.000000</td>\n",
       "    </tr>\n",
       "    <tr>\n",
       "      <th>2</th>\n",
       "      <td>NER: date</td>\n",
       "      <td>76.923077</td>\n",
       "    </tr>\n",
       "    <tr>\n",
       "      <th>5</th>\n",
       "      <td>NER: org</td>\n",
       "      <td>78.000000</td>\n",
       "    </tr>\n",
       "    <tr>\n",
       "      <th>8</th>\n",
       "      <td>NER: gpe</td>\n",
       "      <td>85.714286</td>\n",
       "    </tr>\n",
       "    <tr>\n",
       "      <th>3</th>\n",
       "      <td>NER: loc</td>\n",
       "      <td>100.000000</td>\n",
       "    </tr>\n",
       "    <tr>\n",
       "      <th>4</th>\n",
       "      <td>NER: quantity</td>\n",
       "      <td>100.000000</td>\n",
       "    </tr>\n",
       "    <tr>\n",
       "      <th>6</th>\n",
       "      <td>NER: norp</td>\n",
       "      <td>100.000000</td>\n",
       "    </tr>\n",
       "  </tbody>\n",
       "</table>\n",
       "</div>"
      ],
      "text/plain": [
       "            xlabs       yvals\n",
       "10   NER: ordinal    0.000000\n",
       "0           NER:    24.879305\n",
       "7   NER: cardinal   51.851852\n",
       "1     NER: person   53.333333\n",
       "9    NER: percent   60.000000\n",
       "2       NER: date   76.923077\n",
       "5        NER: org   78.000000\n",
       "8        NER: gpe   85.714286\n",
       "3        NER: loc  100.000000\n",
       "4   NER: quantity  100.000000\n",
       "6       NER: norp  100.000000"
      ]
     },
     "execution_count": 64,
     "metadata": {},
     "output_type": "execute_result"
    }
   ],
   "source": [
    "df = pd.DataFrame(data={'xlabs':xlabs,'yvals':yvals})\n",
    "df = df.sort_values(by='yvals',ascending=True)\n",
    "df"
   ]
  },
  {
   "cell_type": "code",
   "execution_count": 65,
   "metadata": {},
   "outputs": [
    {
     "data": {
      "image/png": "[encoded data removed]",
      "text/plain": [
       "<Figure size 504x504 with 1 Axes>"
      ]
     },
     "metadata": {},
     "output_type": "display_data"
    }
   ],
   "source": [
    "figure(num=None, figsize=(7,7),facecolor='w', edgecolor='k')\n",
    "bars = df['xlabs']\n",
    "y_pos = np.arange(len(bars))\n",
    "val = df['yvals']\n",
    "\n",
    "# Make fake dataset\n",
    "y_pos = np.arange(len(bars))\n",
    " \n",
    "# Create horizontal bars\n",
    "plt.barh(y_pos, val)\n",
    " \n",
    "# Create names on the y-axis\n",
    "plt.yticks(y_pos, bars)\n",
    "\n",
    "plt.xlabel('% of times blanked')\n",
    "# Show graphic\n",
    "plt.show()\n"
   ]
  },
  {
   "cell_type": "markdown",
   "metadata": {},
   "source": [
    "## Whole article"
   ]
  },
  {
   "cell_type": "markdown",
   "metadata": {},
   "source": [
    "### Ground truth"
   ]
  },
  {
   "cell_type": "code",
   "execution_count": 72,
   "metadata": {},
   "outputs": [],
   "source": [
    "\n",
    "# print('--------------- GROUND TRUTH ---------------')\n",
    "\n",
    "# # Pull out sample paragraph\n",
    "# for p in arts[ind_ex_dev]['paragraphs']:\n",
    "#     # # Print all AllenNLP classifications\n",
    "#     # print([(a,b) for a,b in zip(p['allenNER']['words'].split(), p['allenNER']['tags'].split())])\n",
    "\n",
    "#     # AllenNLP results\n",
    "#     words = p['allenNER']['words'].split()\n",
    "#     # tags = p['allenNER']['tags'].split()\n",
    "#     # tags = [not t == '0' for t in tags]   # Convert to binary\n",
    "#     tags = p['blank_classified_allen']\n",
    "\n",
    "#     # Ground truth\n",
    "#     blank_classification = p['blank_classification']\n",
    "\n",
    "#     words_blanked_ground_truth = words2words_blanked(words,blank_classification)\n",
    "#     words_blanked_allen = words2words_blanked(words,tags)\n",
    "#     words_hash_ground_truth = words2words_hashblank(words,blank_classification)\n",
    "#     words_hash_allen = words2words_hashblank(words,tags)\n",
    "    \n",
    "    \n",
    "#     # Blanked text\n",
    "#     print(words2text(words_hash_ground_truth))\n",
    "\n",
    "#     # Answers    \n",
    "#     myanswers = words2answers(words,blank_classification)\n",
    "#     print(\"Answers:\")\n",
    "#     print(myanswers)\n",
    "\n",
    "    "
   ]
  },
  {
   "cell_type": "markdown",
   "metadata": {},
   "source": [
    "### My model"
   ]
  },
  {
   "cell_type": "code",
   "execution_count": 67,
   "metadata": {},
   "outputs": [
    {
     "name": "stdout",
     "output_type": "stream",
     "text": [
      "--------------- MY MODEL ---------------\n",
      "In ___signal___ processing, data ___compression___, ___source___ ___coding___, or ___bit___ - rate ___reduction___ involves encoding information using fewer ___bits___ than the original ___representation___. ___Compression___ can be either ___lossy___ or ___lossless___. ___Lossless___ ___compression___ ___reduces___ ___bits___ by identifying and eliminating ___statistical___ ___redundancy___. No ___information___ is lost in ___lossless___ ___compression___. ___Lossy___ ___compression___ ___reduces___ ___bits___ by identifying ___unnecessary___ ___information___ and ___removing___ it. The ___process___ of ___reducing___ the size of a ___data___ ___file___ is referred to as ___data___ ___compression___. In the ___context___ of ___data___ ___transmission___, it is called ___source___ ___coding___ ( ___encoding___ done at the source of the data before it is stored or ___transmitted___ ) in ___opposition___ to ___channel___ ___coding___.\n",
      "Answers:\n",
      "['source', 'coding', 'lossless', 'bit', 'unnecessary', 'bits', 'information', 'transmission', 'statistical', 'representation', 'Lossless', 'reduces', 'signal', 'opposition', 'compression', 'removing', 'Lossy', 'Compression', 'lossy', 'context', 'data', 'file', 'transmitted', 'process', 'reduction', 'encoding', 'channel', 'redundancy', 'reducing']\n",
      "___Compression___ is useful because it helps reduce ___resource___ ___usage___, such as ___data___ ___storage___ space or ___transmission___ ___capacity___. Because ___compressed___ data must be ___decompressed___ to use, this ___extra___ ___processing___ imposes ___computational___ or other costs through ___decompression___; this ___situation___ is far from being a ___free___ ___lunch___. ___Data___ ___compression___ is subject to a ___space___ – time ___complexity___ ___trade___ - off. For instance, a ___compression___ ___scheme___ for ___video___ may require expensive hardware for the ___video___ to be ___decompressed___ fast enough to be viewed as it is being ___decompressed___, and the option to ___decompress___ the video in full before watching it may be inconvenient or require additional storage. The design of data compression schemes involves trade - offs among various factors, including the ___degree___ of ___compression___, the amount of ___distortion___ ___introduced___ ( when using ___lossy___ ___data___ ___compression___ ), and the ___computational___ ___resources___ required to ___compress___ and ___decompress___ the ___data___.\n",
      "Answers:\n",
      "['extra', 'distortion', 'decompression', 'resource', 'situation', 'introduced', 'video', 'compress', 'transmission', 'computational', 'complexity', 'trade', 'resources', 'scheme', 'decompress', 'capacity', 'compression', 'Data', 'Compression', 'degree', 'lossy', 'space', 'storage', 'lunch', 'free', 'data', 'processing', 'decompressed', 'usage', 'compressed']\n",
      "___Lossless___ ___data___ ___compression___ ___algorithms___ usually exploit ___statistical___ ___redundancy___ to represent ___data___ without losing any ___information___, so that the process is ___reversible___. ___Lossless___ ___compression___ is ___possible___ because most real - world data exhibits ___statistical___ ___redundancy___. For example, an ___image___ may have areas of ___colour___ that do not change over several ___pixels___; instead of coding \" ___red___ ___pixel___, ___red___ ___pixel___, ... \" the data may be encoded as \" ___279___ ___red___ ___pixels___ \". This is a basic example of run - length ___encoding___; there are many schemes to reduce file size by eliminating redundancy.\n",
      "Answers:\n",
      "['279', 'colour', 'red', 'statistical', 'possible', 'data', 'reversible', 'Lossless', 'compression', 'pixels', 'image', 'encoding', 'pixel', 'redundancy', 'algorithms', 'information']\n",
      "The ___Lempel___ – Ziv ( LZ ) ___compression___ ___methods___ are among the most popular ___algorithms___ for lossless storage. ___DEFLATE___ is a variation on ___LZ___ optimized for ___decompression___ ___speed___ and ___compression___ ratio, but ___compression___ can be slow. ___DEFLATE___ is used in ___PKZIP___, ___Gzip___ and ___PNG___. ___LZW___ ( Lempel – Ziv – ___Welch___ ) is used in ___GIF___ images. Also noteworthy is the ___LZR___ ( Lempel - Ziv – ___Renau___ ) ___algorithm___, which serves as the basis for the ___Zip___ ___method.[citation___ needed ] ___LZ___ ___methods___ use a table - based ___compression___ model where table entries are substituted for repeated ___strings___ of data. For most ___LZ___ ___methods___, this table is generated dynamically from earlier data in the input. The table itself is often ___Huffman___ ___encoded___ ( e.g. SHRI, ___LZX___ ). Current ___LZ___ - based coding schemes that perform well are Brotli and ___LZX___. ___LZX___ is used in Microsoft 's ___CAB___ format.\n",
      "Answers:\n",
      "['Welch', 'DEFLATE', 'Gzip', 'decompression', 'PNG', 'LZW', 'LZX', 'methods', 'Renau', 'LZ', 'encoded', 'CAB', 'Huffman', 'method.[citation', 'GIF', 'algorithm', 'strings', 'compression', 'LZR', 'Lempel', 'PKZIP', 'speed', 'algorithms', 'Zip']\n",
      "In a further refinement of the direct use of ___probabilistic___ ___modelling___, ___statistical___ ___estimates___ can be coupled to an ___algorithm___ called ___arithmetic___ ___coding___. ___Arithmetic___ ___coding___ is a more modern ___coding___ technique that uses the ___mathematical___ ___calculations___ of a finite - state ___machine___ to produce a ___string___ of encoded ___bits___ from a series of ___input___ data ___symbols___. It can achieve ___superior___ ___compression___ to other ___techniques___ such as the better - known ___Huffman___ ___algorithm___. It uses an ___internal___ ___memory___ ___state___ to avoid the need to perform a one - to - one ___mapping___ of individual input symbols to distinct ___representations___ that use an ___integer___ number of ___bits___, and it ___clears___ out the ___internal___ ___memory___ only after encoding the entire string of data symbols. ___Arithmetic___ ___coding___ applies especially well to ___adaptive___ ___data___ ___compression___ ___tasks___ where the ___statistics___ vary and are context - dependent, as it can be easily ___coupled___ with an ___adaptive___ model of the ___probability___ ___distribution___ of the ___input___ ___data___. An early example of the use of ___arithmetic___ ___coding___ was its ___use___ as an ___optional___ ( but not widely used ) feature of the ___JPEG___ image ___coding___ ___standard___. It has since been applied in various other designs including ___H.264/MPEG-4___ ___AVC___ and ___HEVC___ for ___video___ ___coding___.\n",
      "Answers:\n",
      "['HEVC', 'coding', 'modelling', 'techniques', 'standard', 'statistics', 'bits', 'state', 'video', 'mapping', 'calculations', 'statistical', 'symbols', 'estimates', 'mathematical', 'probabilistic', 'memory', 'Arithmetic', 'JPEG', 'distribution', 'integer', 'string', 'Huffman', 'algorithm', 'representations', 'probability', 'compression', 'tasks', 'H.264/MPEG-4', 'coupled', 'internal', 'machine', 'use', 'superior', 'AVC', 'input', 'data', 'arithmetic', 'optional', 'adaptive', 'clears']\n",
      "___Lossy___ ___data___ ___compression___ is the ___converse___ of ___lossless___ ___data___ ___compression___. In these ___schemes___, some ___loss___ of information is ___acceptable___. Dropping ___nonessential___ ___detail___ from the data source can save storage space. ___Lossy___ data ___compression___ ___schemes___ are designed by ___research___ on how people perceive the ___data___ in question. For example, the human ___eye___ is more sensitive to subtle variations in ___luminance___ than it is to the variations in color. ___JPEG___ image ___compression___ works in part by rounding off ___nonessential___ ___bits___ of ___information___. There is a ___corresponding___ ___trade___ - off between preserving ___information___ and ___reducing___ ___size___. A number of popular ___compression___ formats exploit these ___perceptual___ ___differences___, including those used in ___music___ ___files___, ___images___, and ___video___.\n",
      "Answers:\n",
      "['acceptable', 'lossless', 'music', 'research', 'bits', 'size', 'perceptual', 'nonessential', 'information', 'loss', 'video', 'trade', 'JPEG', 'files', 'eye', 'corresponding', 'converse', 'schemes', 'compression', 'Lossy', 'images', 'differences', 'data', 'detail', 'luminance', 'reducing']\n",
      "In ___lossy___ ___audio___ ___compression___, methods of ___psychoacoustics___ are used to ___remove___ non - audible ( or ___less___ ___audible___ ) ___components___ of the ___audio___ signal. ___Compression___ of human ___speech___ is often performed with even more ___specialized___ ___techniques___; ___speech___ ___coding___, or ___voice___ ___coding___, is sometimes distinguished as a ___separate___ ___discipline___ from ___audio___ ___compression___. Different audio and ___speech___ ___compression___ standards are listed under ___audio___ ___coding___ formats. ___Voice___ ___compression___ is used in ___internet___ ___telephony___, for example, ___audio___ ___compression___ is used for ___CD___ ___ripping___ and is ___decoded___ by the audio players.\n",
      "Answers:\n",
      "['coding', 'telephony', 'less', 'speech', 'techniques', 'ripping', 'components', 'separate', 'psychoacoustics', 'remove', 'CD', 'voice', 'discipline', 'decoded', 'compression', 'internet', 'Compression', 'Voice', 'lossy', 'specialized', 'audible', 'audio']\n",
      "There is a close ___connection___ between machine ___learning___ and ___compression___ : a system that predicts the ___posterior___ ___probabilities___ of a ___sequence___ given its entire history can be used for ___optimal___ ___data___ ___compression___ ( by using ___arithmetic___ ___coding___ on the ___output___ ___distribution___ ) while an ___optimal___ ___compressor___ can be used for ___prediction___ ( by finding the symbol that ___compresses___ ___best___, given the previous ___history___ ). This ___equivalence___ has been used as a justification for using ___data___ ___compression___ as a ___benchmark___ for \" general ___intelligence___. \"\n",
      "Answers:\n",
      "['best', 'history', 'posterior', 'distribution', 'coding', 'optimal', 'compressor', 'output', 'data', 'connection', 'sequence', 'arithmetic', 'compression', 'intelligence', 'benchmark', 'equivalence', 'learning', 'compresses', 'prediction', 'probabilities']\n",
      "___Data___ ___compression___ can be viewed as a special case of ___data___ ___differencing___ : ___Data___ ___differencing___ consists of producing a difference given a source and a ___target___, with patching producing a ___target___ given a source and a ___difference___, while ___data___ ___compression___ consists of ___producing___ a ___compressed___ ___file___ given a ___target___, and ___decompression___ consists of producing a ___target___ given only a ___compressed___ ___file___. Thus, one can consider ___data___ ___compression___ as ___data___ ___differencing___ with ___empty___ ___source___ ___data___, the ___compressed___ ___file___ ___corresponding___ to a \" ___difference___ from ___nothing___. \" This is the same as considering ___absolute___ ___entropy___ ( corresponding to ___data___ ___compression___ ) as a special case of ___relative___ ___entropy___ ( corresponding to ___data___ ___differencing___ ) with no initial data.\n",
      "Answers:\n",
      "['source', 'corresponding', 'differencing', 'data', 'target', 'nothing', 'difference', 'compression', 'relative', 'file', 'absolute', 'producing', 'entropy', 'Data', 'empty', 'decompression', 'compressed']\n",
      "___Audio___ ___data___ ___compression___, not to be confused with ___dynamic___ ___range___ ___compression___, has the potential to ___reduce___ the ___transmission___ ___bandwidth___ and storage requirements of audio data. ___Audio___ ___compression___ algorithms are implemented in software as audio codecs. ___Lossy___ audio compression ___algorithms___ provide ___higher___ ___compression___ at the ___cost___ of ___fidelity___ and are used in numerous ___audio___ ___applications___. These ___algorithms___ almost all rely on ___psychoacoustics___ to eliminate less ___audible___ or ___meaningful___ ___sounds___, thereby ___reducing___ the ___space___ required to ___store___ or ___transmit___ them.\n",
      "Answers:\n",
      "['fidelity', 'bandwidth', 'cost', 'transmit', 'transmission', 'audible', 'psychoacoustics', 'Audio', 'reduce', 'higher', 'dynamic', 'compression', 'Lossy', 'meaningful', 'space', 'store', 'applications', 'sounds', 'data', 'range', 'algorithms', 'reducing', 'audio']\n",
      "___Lossless___ ___audio___ compression produces a representation of digital data that ___decompress___ to an exact digital duplicate of the original audio stream, unlike playback from ___lossy___ ___compression___ techniques such as ___Vorbis___ and ___MP3___. ___Compression___ ___ratios___ are around ___50–60___ % of original ___size___, which is similar to those for generic ___lossless___ data ___compression___. ___Lossless___ ___compression___ is unable to attain high ___compression___ ___ratios___ due to the ___complexity___ of ___waveforms___ and the ___rapid___ changes in ___sound___ ___forms___. Codecs like ___FLAC___, ___Shorten___ and ___TTA___ use ___linear___ ___prediction___ to estimate the ___spectrum___ of the ___signal___. Many of these ___algorithms___ use ___convolution___ with the ___filter___ [ -1 1 ] to slightly ___whiten___ or ___flatten___ the ___spectrum___, thereby allowing traditional ___lossless___ ___compression___ to work more efficiently. The process is reversed upon ___decompression___.\n",
      "Answers:\n",
      "['lossless', 'ratios', 'rapid', 'sound', 'convolution', 'TTA', 'size', 'decompression', 'prediction', 'Shorten', 'complexity', '50–60', 'FLAC', 'Lossless', 'Vorbis', 'MP3', 'spectrum', 'signal', 'filter', 'decompress', 'linear', 'compression', 'forms', 'whiten', 'Compression', 'lossy', 'waveforms', 'flatten', 'algorithms', 'audio']\n",
      "___Lossy___ ___audio___ ___compression___ is used in a wide range of ___applications___. In addition to the direct ___applications___ ( mp3 players or ___computers___ ), digitally compressed ___audio___ ___streams___ are used in most ___video___ ___DVDs___, ___digital___ ___television___, ___streaming___ ___media___ on the ___internet___, ___satellite___ and ___cable___ ___radio___, and increasingly in ___terrestrial___ ___radio___ broadcasts. ___Lossy___ ___compression___ typically achieves far ___greater___ ___compression___ than ___lossless___ ___compression___ ( ___data___ of ___5___ ___percent___ to ___20___ ___percent___ of the original stream, rather than ___50___ ___percent___ to ___60___ ___percent___ ), by discarding less - critical data.\n",
      "Answers:\n",
      "['lossless', 'television', 'video', 'media', '60', '20', 'terrestrial', 'DVDs', 'satellite', 'streaming', 'compression', 'Lossy', 'internet', 'radio', 'cable', 'percent', 'digital', 'applications', '5', 'data', 'computers', 'streams', '50', 'greater', 'audio']\n",
      "To determine what information in an ___audio___ signal is ___perceptually___ ___irrelevant___, most ___lossy___ ___compression___ algorithms use ___transforms___ such as the modified ___discrete___ ___cosine___ transform ( ___MDCT___ ) to convert time domain ___sampled___ ___waveforms___ into a ___transform___ ___domain___. Once ___transformed___, typically into the ___frequency___ ___domain___, ___component___ ___frequencies___ can be allocated ___bits___ according to how ___audible___ they are. ___Audibility___ of ___spectral___ components calculated using the ___absolute___ ___threshold___ of ___hearing___ and the principles of ___simultaneous___ ___masking___ — the ___phenomenon___ ___wherein___ a ___signal___ is ___masked___ by another ___signal___ separated by ___frequency___ — and, in some cases, ___temporal___ ___masking___ — where a ___signal___ is ___masked___ by another ___signal___ separated by ___time___. Equal - loudness ___contours___ may also be used to ___weight___ the ___perceptual___ importance of ___components___. Models of the human ___ear___ - brain combination incorporating such effects are often called ___psychoacoustic___ ___models___.\n",
      "Answers:\n",
      "['frequency', 'temporal', 'MDCT', 'bits', 'components', 'transforms', 'perceptual', 'irrelevant', 'spectral', 'psychoacoustic', 'frequencies', 'perceptually', 'component', 'signal', 'transform', 'contours', 'ear', 'threshold', 'discrete', 'masking', 'compression', 'simultaneous', 'absolute', 'wherein', 'lossy', 'domain', 'Audibility', 'weight', 'waveforms', 'time', 'hearing', 'transformed', 'models', 'phenomenon', 'sampled', 'masked', 'cosine', 'audible', 'audio']\n",
      "Other types of ___lossy___ ___compressors___, such as the linear ___predictive___ ___coding___ ( ___LPC___ ) used with ___speech___, are source - based ___coders___. These ___coders___ use a ___model___ of the ___sound___ 's ___generator___ ( such as the human vocal tract with ___LPC___ ) to ___whiten___ the ___audio___ ___signal___ ( i.e., ___flatten___ its ___spectrum___ ) before ___quantization___. ___LPC___ may be thought of as a basic ___perceptual___ ___coding___ technique : reconstruction of an ___audio___ signal using a ___linear___ ___predictor___ shapes the ___coder___ 's ___quantization___ ___noise___ into the ___spectrum___ of the target signal, partially ___masking___ it.\n",
      "Answers:\n",
      "['coding', 'speech', 'sound', 'compressors', 'coder', 'perceptual', 'predictive', 'spectrum', 'signal', 'coders', 'linear', 'noise', 'masking', 'whiten', 'model', 'lossy', 'predictor', 'quantization', 'flatten', 'generator', 'LPC', 'audio']\n",
      "___Latency___ ___results___ from the methods used to ___encode___ and ___decode___ the ___data___. Some ___codecs___ will analyze a longer ___segment___ of the data to ___optimize___ ___efficiency___, and then code it in a manner that requires a ___larger___ ___segment___ of data at one time to ___decode___. ( Often ___codecs___ create ___segments___ called a \" ___frame___ \" to create ___discrete___ ___data___ segments for encoding and ___decoding___. ) The ___inherent___ ___latency___ of the coding ___algorithm___ can be ___critical___; for example, when there is a two - way ___transmission___ of ___data___, such as with a ___telephone___ ___conversation___, significant delays may seriously degrade the perceived ___quality___.\n",
      "Answers:\n",
      "['larger', 'frame', 'codecs', 'transmission', 'conversation', 'segments', 'quality', 'results', 'critical', 'discrete', 'latency', 'algorithm', 'Latency', 'efficiency', 'encode', 'optimize', 'decoding', 'data', 'telephone', 'inherent', 'decode', 'segment']\n",
      "In contrast to the ___speed___ of ___compression___, which is ___proportional___ to the number of operations required by the ___algorithm___, here ___latency___ refers to the number of samples that must be analysed before a ___block___ of ___audio___ is ___processed___. In the ___minimum___ ___case___, ___latency___ is ___zero___ ___samples___ ( e.g., if the ___coder___ / ___decoder___ simply ___reduces___ the number of ___bits___ used to ___quantize___ the ___signal___ ). ___Time___ domain ___algorithms___ such as ___LPC___ also often have ___low___ ___latencies___, hence their popularity in ___speech___ ___coding___ for ___telephony___. In ___algorithms___ such as ___MP3___, however, a large number of samples have to be analyzed to implement a ___psychoacoustic___ ___model___ in the ___frequency___ ___domain___, and ___latency___ is on the order of ___23___ ___ms___ ( ___46___ ms for two - way ___communication___ ) ).\n",
      "Answers:\n",
      "['23', 'coding', 'telephony', 'frequency', 'speech', 'processed', 'communication', 'samples', 'proportional', 'quantize', 'ms', 'coder', 'bits', 'case', 'psychoacoustic', 'low', 'MP3', 'reduces', 'signal', 'latencies', '46', 'latency', 'decoder', 'algorithm', 'compression', 'block', 'minimum', 'model', 'domain', 'speed', 'zero', 'Time', 'algorithms', 'LPC', 'audio']\n",
      "If the data to be ___compressed___ is ___analog___ ( such as a ___voltage___ that ___varies___ with ___time___ ), ___quantization___ is employed to ___digitize___ it into ___numbers___ ( ___normally___ ___integers___ ). This is referred to as analog - to - ___digital___ ( A / ___D___ ) ___conversion___. If the ___integers___ generated by ___quantization___ are ___8___ ___bits___ each, then the entire ___range___ of the ___analog___ ___signal___ is divided into ___256___ ___intervals___ and all the ___signal___ ___values___ within an ___interval___ are ___quantized___ to the same number. If ___16-bit___ ___integers___ are generated, then the range of the ___analog___ signal is divided into ___65,536___ ___intervals___.\n",
      "Answers:\n",
      "['D', '256', 'quantized', '16-bit', 'bits', 'intervals', 'interval', 'digitize', '8', 'signal', 'voltage', 'conversion', 'numbers', 'digital', 'integers', 'varies', 'normally', 'time', 'analog', 'quantization', '65,536', 'values', 'range', 'compressed']\n",
      "A ___literature___ ___compendium___ for a large variety of ___audio___ ___coding___ systems was published in the ___IEEE___ ___Journal___ on Selected Areas in ___Communications___ ( ___JSAC___ ), ___February___ ___1988___. While there were some papers from before that time, this collection documented an entire variety of finished, working ___audio___ ___coders___, nearly all of them using ___perceptual___ ( i.e. ___masking___ ) ___techniques___ and some kind of ___frequency___ ___analysis___ and back - end ___noiseless___ ___coding___. Several of these papers remarked on the difficulty of obtaining good, clean digital audio for research purposes. Most, if not all, of the authors in the ___JSAC___ edition were also active in the ___MPEG-1___ ___Audio___ committee.\n",
      "Answers:\n",
      "['perceptual', 'coders', 'noiseless', 'coding', 'IEEE', 'JSAC', 'compendium', 'masking', 'techniques', 'Journal', 'frequency', 'analysis', 'Communications', 'February', '1988', 'MPEG-1', 'Audio', 'literature', 'audio']\n",
      "The world 's first commercial broadcast automation audio compression system was developed by ___Oscar___ ___Bonello___, an ___engineering___ ___professor___ at the ___University___ of ___Buenos___ ___Aires___. In ___1983___, using the psychoacoustic principle of the masking of critical bands first published in ___1967___, he started developing a practical application based on the recently developed ___IBM___ PC computer, and the broadcast ___automation___ system was launched in ___1987___ under the name ___Audicom___. ___Twenty___ years later, almost all the ___radio___ stations in the world were using similar technology manufactured by a number of companies.\n",
      "Answers:\n",
      "['IBM', 'Oscar', 'engineering', 'Twenty', 'University', 'Buenos', '1967', 'professor', 'Aires', 'Audicom', '1987', '1983', 'automation', 'Bonello', 'radio']\n",
      "The majority of ___video___ compression algorithms use ___lossy___ ___compression___. ___Uncompressed___ ___video___ requires a very high data rate. Although ___lossless___ ___video___ compression codecs perform at a ___compression___ ___factor___ of 5 - 12, a typical ___MPEG-4___ ___lossy___ ___compression___ ___video___ has a ___compression___ ___factor___ between ___20___ and ___200___. As in all ___lossy___ ___compression___, there is a ___trade___ - off between ___video___ quality, cost of processing the ___compression___ and ___decompression___, and system requirements. Highly compressed video may present visible or distracting ___artifacts___.\n",
      "Answers:\n",
      "['lossy', '20', '200', 'lossless', 'Uncompressed', 'artifacts', 'compression', 'factor', 'trade', 'decompression', 'MPEG-4', 'video']\n",
      "Some ___video___ ___compression___ schemes typically operate on square - shaped ___groups___ of ___neighboring___ ___pixels___, often called ___macroblocks___. These ___pixel___ ___groups___ or blocks of ___pixels___ are compared from one ___frame___ to the next, and the ___video___ ___compression___ ___codec___ sends only the ___differences___ within those ___blocks___. In areas of ___video___ with more ___motion___, the ___compression___ must ___encode___ more data to keep up with the larger number of ___pixels___ that are changing. Commonly during ___explosions___, ___flames___, ___flocks___ of ___animals___, and in some ___panning___ ___shots___, the ___high___ - frequency ___detail___ leads to ___quality___ ___decreases___ or to ___increases___ in the ___variable___ ___bitrate___.\n",
      "Answers:\n",
      "['increases', 'motion', 'frame', 'bitrate', 'variable', 'video', 'macroblocks', 'explosions', 'quality', 'panning', 'animals', 'blocks', 'decreases', 'flocks', 'flames', 'compression', 'groups', 'shots', 'high', 'differences', 'encode', 'codec', 'detail', 'pixels', 'pixel', 'neighboring']\n",
      "___Video___ ___data___ may be represented as a series of still ___image___ ___frames___. The sequence of ___frames___ contains ___spatial___ and temporal redundancy that ___video___ compression algorithms attempt to ___eliminate___ or ___code___ in a smaller size. Similarities can be encoded by only storing ___differences___ between ___frames___, or by using ___perceptual___ features of ___human___ ___vision___. For example, small ___differences___ in ___color___ are more difficult to ___perceive___ than are ___changes___ in ___brightness___. ___Compression___ ___algorithms___ can ___average___ a ___color___ ___across___ these similar areas to ___reduce___ ___space___, in a manner similar to those used in ___JPEG___ image ___compression___. Some of these methods are ___inherently___ ___lossy___ while others may preserve all relevant information from the original, ___uncompressed___ ___video___.\n",
      "Answers:\n",
      "['spatial', 'perceptual', 'video', 'eliminate', 'code', 'perceive', 'image', 'JPEG', 'reduce', 'uncompressed', 'changes', 'compression', 'brightness', 'inherently', 'differences', 'Compression', 'lossy', 'space', 'human', 'vision', 'data', 'across', 'frames', 'color', 'algorithms', 'Video', 'average']\n",
      "The most powerful used method works by comparing each frame in the ___video___ with the previous one. If the frame contains areas where nothing has moved, the system simply issues a short command that copies that part of the previous frame, bit - for - bit, into the next ___one___. If ___sections___ of the frame move in a simple manner, the ___compressor___ ___emits___ a ( ___slightly___ longer ) command that tells the ___decompressor___ to ___shift___, rotate, ___lighten___, or ___darken___ the ___copy___. This longer command still remains much shorter than ___intraframe___ ___compression___. ___Interframe___ ___compression___ works well for programs that will simply be played back by the ___viewer___, but can cause problems if the ___video___ sequence needs to be ___edited___.\n",
      "Answers:\n",
      "['viewer', 'emits', 'compressor', 'one', 'decompressor', 'intraframe', 'compression', 'slightly', 'darken', 'copy', 'edited', 'lighten', 'Interframe', 'sections', 'shift', 'video']\n",
      "Because ___interframe___ ___compression___ copies data from one frame to another, if the original ___frame___ is simply ___cut___ out ( or lost in ___transmission___ ), the following ___frames___ can not be reconstructed properly. Some video formats, such as ___DV___, compress each frame independently using ___intraframe___ ___compression___. Making ' ___cuts___ ' in ___intraframe___ - compressed ___video___ is almost as easy as ___editing___ ___uncompressed___ video : one finds the beginning and ending of each ___frame___, and simply copies bit - for - bit each ___frame___ that one wants to keep, and discards the frames one does n't want. Another difference between ___intraframe___ and ___interframe___ ___compression___ is that, with ___intraframe___ ___systems___, each frame uses a similar amount of ___data___. In most ___interframe___ ___systems___, certain ___frames___ ( such as \" I frames \" in ___MPEG-2___ ) are n't allowed to copy data from other ___frames___, so they require much more data than other frames nearby.\n",
      "Answers:\n",
      "['transmission', 'uncompressed', 'data', 'compression', 'cuts', 'frames', 'frame', 'cut', 'editing', 'systems', 'MPEG-2', 'DV', 'intraframe', 'interframe', 'video']\n",
      "Today, nearly all commonly used ___video___ ___compression___ methods ( e.g., those in standards approved by the ITU - T or ___ISO___ ) apply a ___discrete___ ___cosine___ transform ( ___DCT___ ) for spatial ___redundancy___ ___reduction___. The ___DCT___ that is widely used in this regard was introduced by ___N.___ ___Ahmed___, T. ___Natarajan___ and K. R. ___Rao___ in ___1974___. Other methods, such as ___fractal___ ___compression___, ___matching___ ___pursuit___ and the use of a ___discrete___ ___wavelet___ transform ( ___DWT___ ) have been the subject of some ___research___, but are typically not used in ___practical___ ___products___ ( except for the use of ___wavelet___ ___coding___ as still - image ___coders___ without ___motion___ ___compensation___ ). Interest in ___fractal___ ___compression___ seems to be ___waning___, due to recent theoretical analysis showing a ___comparative___ lack of effectiveness of such methods.\n",
      "Answers:\n",
      "['Natarajan', 'coding', 'research', 'motion', 'video', 'ISO', 'products', 'DWT', 'Rao', 'pursuit', 'waning', '1974', 'Ahmed', 'practical', 'fractal', 'discrete', 'coders', 'compensation', 'comparative', 'compression', 'DCT', 'matching', 'N.', 'wavelet', 'reduction', 'redundancy', 'cosine']\n",
      "___Genetics___ ___compression___ ___algorithms___ are the latest generation of ___lossless___ ___algorithms___ that ___compress___ data ( typically ___sequences___ of ___nucleotides___ ) using both conventional compression algorithms and genetic ___algorithms___ adapted to the specific ___datatype___. In ___2012___, a team of scientists from ___Johns___ ___Hopkins___ ___University___ published a ___genetic___ ___compression___ algorithm that does not use a reference ___genome___ for compression. ___HAPZIPPER___ was tailored for ___HapMap___ ___data___ and achieves over ___20-fold___ ___compression___ ( 95 % ___reduction___ in ___file___ ___size___ ), providing 2- to ___4-fold___ better ___compression___ and in much ___faster___ time than the leading general - purpose ___compression___ ___utilities___. For this, ___Chanda___, ___Elhaik___, and ___Bader___ introduced MAF based ___encoding___ ( ___MAFE___ ), which ___reduces___ the ___heterogeneity___ of the ___dataset___ by ___sorting___ ___SNPs___ by their minor ___allele___ ___frequency___, thus ___homogenizing___ the ___dataset___. Other ___algorithms___ in ___2009___ and ___2013___ ( ___DNAZip___ and ___GenomeZip___ ) have compression ratios of up to ___1200-fold___ — allowing ___6___ ___billion___ basepair ___diploid___ human ___genomes___ to be stored in ___2.5___ ___megabytes___ ( relative to a reference ___genome___ or averaged over many ___genomes___ ).\n",
      "Answers:\n",
      "['HapMap', 'lossless', 'Elhaik', 'frequency', 'University', 'MAFE', 'sorting', 'SNPs', 'diploid', 'utilities', 'DNAZip', 'genetic', 'size', 'GenomeZip', 'datatype', 'genomes', 'genome', 'dataset', 'compress', 'heterogeneity', 'HAPZIPPER', 'allele', 'reduces', '6', '20-fold', 'faster', 'Bader', '2.5', 'compression', 'Johns', '2013', 'nucleotides', 'Chanda', 'Hopkins', 'megabytes', 'sequences', '2012', 'data', 'billion', 'homogenizing', 'file', '1200-fold', 'reduction', 'encoding', '2009', 'algorithms', '4-fold', 'Genetics']\n"
     ]
    }
   ],
   "source": [
    "\n",
    "print('--------------- MY MODEL ---------------')\n",
    "# Pull out sample paragraph\n",
    "for p in arts[ind_ex_dev]['paragraphs']:\n",
    "    # # Print all AllenNLP classifications\n",
    "    # print([(a,b) for a,b in zip(p['allenNER']['words'].split(), p['allenNER']['tags'].split())])\n",
    "\n",
    "    # AllenNLP results\n",
    "    words = p['allenNER']['words'].split()\n",
    "    # tags = p['allenNER']['tags'].split()\n",
    "    # tags = [not t == '0' for t in tags]   # Convert to binary\n",
    "    tags = p['blank_classified_allen']\n",
    "\n",
    "    # Ground truth\n",
    "    blank_classification = p['blank_classification']\n",
    "\n",
    "    words_blanked_ground_truth = words2words_blanked(words,blank_classification)\n",
    "    words_blanked_allen = words2words_blanked(words,tags)\n",
    "    words_hash_ground_truth = words2words_hashblank(words,blank_classification)\n",
    "    words_hash_allen = words2words_hashblank(words,tags)\n",
    "    \n",
    "    # Blanked text\n",
    "    print(words2text(words_hash_allen))\n",
    "\n",
    "    # Answers    \n",
    "    myanswers = list(set(words2answers(words,tags)))\n",
    "    print(\"Answers:\")\n",
    "    print(myanswers)\n",
    "    \n",
    "\n",
    "    "
   ]
  },
  {
   "cell_type": "markdown",
   "metadata": {},
   "source": [
    "# All articles - compare blanks"
   ]
  },
  {
   "cell_type": "code",
   "execution_count": 144,
   "metadata": {},
   "outputs": [
    {
     "name": "stdout",
     "output_type": "stream",
     "text": [
      "Warning article 175 contains 0 ground truth blanks and 422 tags. Likely bad\n",
      "Warning article 440 contains 0 ground truth blanks and 651 tags. Likely bad\n",
      "Warning article 441 contains 0 ground truth blanks and 931 tags. Likely bad\n"
     ]
    }
   ],
   "source": [
    "# Initialize stuff\n",
    "TPR0 = []\n",
    "FPR0 = []\n",
    "ACC0 = []\n",
    "Nsentences0 = []\n",
    "TP0 = []\n",
    "FP0 = []\n",
    "FN0 = []\n",
    "TN0 = []\n",
    "TPpersent0 = []\n",
    "FPpersent0 = []\n",
    "abads = []            # Article-level bads\n",
    "sbc0 = []\n",
    "st0 = []\n",
    "Nwords0 = []\n",
    "\n",
    "art = arts[:]\n",
    "\n",
    "i=-1\n",
    "for a in art:\n",
    "    i=i+1\n",
    "    # AllenNLP results\n",
    "    words = [w for p in a['paragraphs'] for w in p['allenNER']['words'].split()]\n",
    "#     tags = [t for p in a['paragraphs'] for t in p['allenNER']['tags'].split()]\n",
    "#     tags = [not t == '0' for t in tags]   # Convert to binary\n",
    "    tags = [t for p in a['paragraphs'] for t in p['blank_classified_allen']]\n",
    "\n",
    "    # Ground truth\n",
    "    blank_classification = [bc for p in a['paragraphs'] for bc in p['blank_classification']]\n",
    "    blank_classification = [b == 1 for b in blank_classification] # Convert to binary\n",
    "\n",
    "    Nsentences2 = len(text2sentences(words2text(words)))\n",
    "\n",
    "    sbc = sum(blank_classification)\n",
    "    st = sum(tags)\n",
    "    if sbc == 0 or st == 0:\n",
    "        print(\"Warning article {} contains {} ground truth blanks and {} tags. Likely bad\".format(str(i),str(sbc),str(st)))\n",
    "\n",
    "        # Make up some dummy values so don't confuse for a REAL outlier in plots. Should just drop this data in the future\n",
    "        # This is ok because we'll skip them later if want to do stats - that's what abads is for\n",
    "        TPR = 0.0\n",
    "        FPR = 0.0\n",
    "        ACC = 0.0\n",
    "        TP = 100\n",
    "        FP = 100\n",
    "        FN = 100\n",
    "        TN = 100\n",
    "\n",
    "        TPpersent = 1\n",
    "        FPpersent = 1\n",
    "        abads.append(i)\n",
    "    else:\n",
    "        TP = sum([b and t for b,t in zip(blank_classification,tags)])\n",
    "        FP = sum([not b and t for b,t in zip(blank_classification,tags)])\n",
    "        FN = sum([b and not t for b,t in zip(blank_classification,tags)])\n",
    "        TN = sum([not b and not t for b,t in zip(blank_classification,tags)])\n",
    "        ACC = (TP+TN)/(TP+FP+FN+TN)\n",
    "        ACC2 = sum([b == t for b,t in zip(blank_classification,tags)]) / len(tags)\n",
    "\n",
    "        # Sensitivity, hit rate, recall, or true positive rate\n",
    "        TPR = TP/(TP+FN)\n",
    "        # Specificity or true negative rate\n",
    "        TNR = TN/(TN+FP)\n",
    "        # Precision or positive predictive value\n",
    "        PPV = TP/(TP+FP)\n",
    "        # Negative predictive value\n",
    "        NPV = TN/(TN+FN)\n",
    "        # Fall out or false positive rate\n",
    "        FPR = FP/(FP+TN)\n",
    "        # False negative rate\n",
    "        FNR = FN/(TP+FN)\n",
    "        # False discovery rate\n",
    "        FDR = FP/(TP+FP)\n",
    "\n",
    "        # Per sententance values\n",
    "        TPpersent = TP / Nsentences2\n",
    "        FPpersent = FP / Nsentences2\n",
    "\n",
    "    TPR0.append(TPR)\n",
    "    FPR0.append(FPR)\n",
    "    ACC0.append(ACC)\n",
    "    TP0.append(TP)\n",
    "    FP0.append(FP)\n",
    "    FN0.append(FN)\n",
    "    TN0.append(TN)\n",
    "    TPpersent0.append(TPpersent)\n",
    "    FPpersent0.append(FPpersent)\n",
    "    sbc0.append(sbc)\n",
    "    st0.append(st)\n",
    "    Nwords0.append(len(tags))"
   ]
  },
  {
   "cell_type": "code",
   "execution_count": 145,
   "metadata": {},
   "outputs": [
    {
     "name": "stdout",
     "output_type": "stream",
     "text": [
      "Bill_%26_Melinda_Gates_Foundation\n",
      "Myocardial_infarction\n",
      "Matter\n"
     ]
    }
   ],
   "source": [
    "# Print tiles of bad articles\n",
    "for ab in abads:\n",
    "    print(art[ab]['title'])"
   ]
  },
  {
   "cell_type": "code",
   "execution_count": 146,
   "metadata": {},
   "outputs": [
    {
     "name": "stdout",
     "output_type": "stream",
     "text": [
      "Ntrain=442\n",
      "Ndev=35\n",
      "Ntrain_bad=3\n",
      "Ndev_bad=0\n"
     ]
    }
   ],
   "source": [
    "# Calculate how this affects Ntrain / Ndev\n",
    "Ntrain_bad = len([b for b in abads if b < Ntrain])\n",
    "Ndev_bad = len([b for b in abads if b >= Ntrain])\n",
    "print('Ntrain={}'.format(str(Ntrain)))\n",
    "print('Ndev={}'.format(str(Ndev)))\n",
    "print('Ntrain_bad={}'.format(str(Ntrain_bad)))\n",
    "print('Ndev_bad={}'.format(str(Ndev_bad)))\n",
    "\n",
    "\n"
   ]
  },
  {
   "cell_type": "markdown",
   "metadata": {},
   "source": [
    "## Plot TPR"
   ]
  },
  {
   "cell_type": "code",
   "execution_count": 147,
   "metadata": {},
   "outputs": [
    {
     "data": {
      "image/png": "[encoded data removed]",
      "text/plain": [
       "<Figure size 1080x288 with 1 Axes>"
      ]
     },
     "metadata": {},
     "output_type": "display_data"
    },
    {
     "data": {
      "image/png": "[encoded data removed]",
      "text/plain": [
       "<Figure size 1080x288 with 2 Axes>"
      ]
     },
     "metadata": {
      "needs_background": "light"
     },
     "output_type": "display_data"
    }
   ],
   "source": [
    "myvar = TPR0\n",
    "varname = 'TPR'\n",
    "\n",
    "# Plot bargraph\n",
    "plotbar_train_dev2(myvar,Ntrain,Ndev,ylabel='{} per article'.format(varname),xlabel='Article #')\n",
    "\n",
    "# # # Plot the histogram without containing any bads\n",
    "# myvar without the bad articles\n",
    "myvar2 = [tp for i, tp in enumerate(myvar) if i not in abads]\n",
    "\n",
    "# Plot the histogram\n",
    "ax = plothist_train_dev2(myvar2,Ntrain-Ntrain_bad,Ndev-Ndev_bad,xlabel=varname,ylabel='N Articles',devbins='auto')\n",
    "set(ax['ax1'].set_xlim(0,1));\n",
    "set(ax['ax2'].set_xlim(0,1));\n",
    "\n"
   ]
  },
  {
   "cell_type": "markdown",
   "metadata": {},
   "source": [
    "## Plot FPR"
   ]
  },
  {
   "cell_type": "code",
   "execution_count": 148,
   "metadata": {},
   "outputs": [
    {
     "data": {
      "image/png": "[encoded data removed]",
      "text/plain": [
       "<Figure size 1080x288 with 1 Axes>"
      ]
     },
     "metadata": {},
     "output_type": "display_data"
    },
    {
     "data": {
      "image/png": "[encoded data removed]",
      "text/plain": [
       "<Figure size 1080x288 with 2 Axes>"
      ]
     },
     "metadata": {
      "needs_background": "light"
     },
     "output_type": "display_data"
    },
    {
     "data": {
      "image/png": "[encoded data removed]",
      "text/plain": [
       "<Figure size 1080x288 with 2 Axes>"
      ]
     },
     "metadata": {
      "needs_background": "light"
     },
     "output_type": "display_data"
    }
   ],
   "source": [
    "myvar = FPR0\n",
    "varname = 'FPR'\n",
    "\n",
    "# Plot bargraph\n",
    "plotbar_train_dev2(myvar,Ntrain,Ndev,ylabel='{} per article'.format(varname),xlabel='Article #')\n",
    "\n",
    "# # # Plot the histogram without containing any bads\n",
    "# myvar without the bad articles\n",
    "myvar2 = [tp for i, tp in enumerate(myvar) if i not in abads]\n",
    "\n",
    "# REdefine for plotting with with more decimal places\n",
    "def plothist_train_dev2(myvar,Ntrain,Ndev,xlabel='value',ylabel='N Articles',devbins=30):\n",
    "    # Import fig stuff\n",
    "    import matplotlib.pyplot as plt\n",
    "    from matplotlib.pyplot import figure\n",
    "    import statistics\n",
    "\n",
    "    f, (ax1, ax2) = plt.subplots(1, 2, sharey=False,figsize=(15, 4));\n",
    "    ax1.hist(myvar[0:Ntrain-1], bins=30);  # arguments are passed to np.histogram\n",
    "    ax1.set_title(\"Narticles={}, median={}, mean={}\".format(str(Ntrain),'{0:.4f}'.format(statistics.median(myvar[0:Ntrain-1])),'{0:.2f}'.format(statistics.mean(myvar[0:Ntrain-1]))));\n",
    "    ax1.set_ylabel('N Articles');\n",
    "    ax1.set_xlabel(xlabel);\n",
    "\n",
    "    ax2.hist(myvar[Ntrain:], bins=devbins);  # arguments are passed to np.histogram\n",
    "    ax2.set_title(\"Narticles={}, median={}, mean={}\".format(str(Ndev),'{0:.4f}'.format(statistics.median(myvar[Ntrain:])),'{0:.2f}'.format(statistics.mean(myvar[Ntrain:]))));\n",
    "    ax2.set_xlabel(xlabel);\n",
    "    return {'ax1': ax1, 'ax2':ax2}\n",
    "\n",
    "\n",
    "# Plot the histogram\n",
    "ax = plothist_train_dev2(myvar2,Ntrain-Ntrain_bad,Ndev-Ndev_bad,xlabel=varname,ylabel='N Articles',devbins='auto')\n",
    "ax = plothist_train_dev2(myvar,Ntrain,Ndev,xlabel=varname,ylabel='N Articles',devbins='auto')\n",
    "# set(ax['ax1'].set_xlim(0,1));\n",
    "# set(ax['ax2'].set_xlim(0,1));\n",
    "\n"
   ]
  },
  {
   "cell_type": "markdown",
   "metadata": {},
   "source": [
    "## Plot ACC"
   ]
  },
  {
   "cell_type": "code",
   "execution_count": 149,
   "metadata": {},
   "outputs": [
    {
     "data": {
      "image/png": "[encoded data removed]",
      "text/plain": [
       "<Figure size 1080x288 with 1 Axes>"
      ]
     },
     "metadata": {},
     "output_type": "display_data"
    },
    {
     "data": {
      "image/png": "[encoded data removed]",
      "text/plain": [
       "<Figure size 1080x288 with 2 Axes>"
      ]
     },
     "metadata": {
      "needs_background": "light"
     },
     "output_type": "display_data"
    }
   ],
   "source": [
    "myvar = ACC0\n",
    "varname = 'Accuracy'\n",
    "\n",
    "# Plot bargraph\n",
    "plotbar_train_dev2(myvar,Ntrain,Ndev,ylabel='{} per article'.format(varname),xlabel='Article #')\n",
    "\n",
    "# # # Plot the histogram without containing any bads\n",
    "# myvar without the bad articles\n",
    "myvar2 = [tp for i, tp in enumerate(myvar) if i not in abads]\n",
    "\n",
    "# Plot the histogram\n",
    "ax = plothist_train_dev2(myvar2,Ntrain-Ntrain_bad,Ndev-Ndev_bad,xlabel=varname,ylabel='N Articles',devbins='auto')\n",
    "set(ax['ax1'].set_xlim(0,1));\n",
    "set(ax['ax2'].set_xlim(0,1));\n",
    "\n"
   ]
  },
  {
   "cell_type": "markdown",
   "metadata": {},
   "source": [
    "## Plot True positives per sentence"
   ]
  },
  {
   "cell_type": "code",
   "execution_count": 150,
   "metadata": {},
   "outputs": [
    {
     "data": {
      "image/png": "[encoded data removed]",
      "text/plain": [
       "<Figure size 1080x288 with 1 Axes>"
      ]
     },
     "metadata": {},
     "output_type": "display_data"
    },
    {
     "data": {
      "image/png": "[encoded data removed]",
      "text/plain": [
       "<Figure size 1080x288 with 2 Axes>"
      ]
     },
     "metadata": {
      "needs_background": "light"
     },
     "output_type": "display_data"
    }
   ],
   "source": [
    "myvar = TPpersent0\n",
    "varname = 'True positives per sentence'\n",
    "\n",
    "# Plot bargraph\n",
    "plotbar_train_dev2(myvar,Ntrain,Ndev,ylabel='{}'.format(varname),xlabel='Article #')\n",
    "\n",
    "# # # Plot the histogram without containing any bads\n",
    "# myvar without the bad articles\n",
    "myvar2 = [tp for i, tp in enumerate(myvar) if i not in abads]\n",
    "\n",
    "# Plot the histogram\n",
    "ax = plothist_train_dev2(myvar2,Ntrain-Ntrain_bad,Ndev-Ndev_bad,xlabel=varname,ylabel='N Articles',devbins='auto')\n",
    "# set(ax['ax1'].set_xlim(0,1));\n",
    "# set(ax['ax2'].set_xlim(0,1));\n",
    "\n"
   ]
  },
  {
   "cell_type": "markdown",
   "metadata": {},
   "source": [
    "## Plot False positives per sentence"
   ]
  },
  {
   "cell_type": "code",
   "execution_count": 151,
   "metadata": {},
   "outputs": [
    {
     "data": {
      "image/png": "[encoded data removed]",
      "text/plain": [
       "<Figure size 1080x288 with 1 Axes>"
      ]
     },
     "metadata": {},
     "output_type": "display_data"
    },
    {
     "data": {
      "image/png": "[encoded data removed]",
      "text/plain": [
       "<Figure size 1080x288 with 2 Axes>"
      ]
     },
     "metadata": {
      "needs_background": "light"
     },
     "output_type": "display_data"
    }
   ],
   "source": [
    "myvar = FPpersent0\n",
    "varname = 'False positives per sentence'\n",
    "\n",
    "# Plot bargraph\n",
    "plotbar_train_dev2(myvar,Ntrain,Ndev,ylabel='{}'.format(varname),xlabel='Article #')\n",
    "\n",
    "# # # Plot the histogram without containing any bads\n",
    "# myvar without the bad articles\n",
    "myvar2 = [tp for i, tp in enumerate(myvar) if i not in abads]\n",
    "\n",
    "# Plot the histogram\n",
    "ax = plothist_train_dev2(myvar2,Ntrain-Ntrain_bad,Ndev-Ndev_bad,xlabel=varname,ylabel='N Articles',devbins='auto')\n",
    "# set(ax['ax1'].set_xlim(0,1));\n",
    "# set(ax['ax2'].set_xlim(0,1));\n",
    "\n"
   ]
  },
  {
   "cell_type": "markdown",
   "metadata": {},
   "source": [
    "## Find articles containing a lot of true positives"
   ]
  },
  {
   "cell_type": "code",
   "execution_count": 152,
   "metadata": {},
   "outputs": [
    {
     "name": "stdout",
     "output_type": "stream",
     "text": [
      "34\n",
      "Article #476\n",
      "Computational_complexity_theory\n",
      "True positive rate: 0.7302325581395349\n"
     ]
    }
   ],
   "source": [
    "\n",
    "# Inds of all articles >0.4 TPR\n",
    "inds = [i for i,x in enumerate(TPR0) if x >=0.08]\n",
    "\n",
    "# Inds of all articles >0.4 TPR and in dev dataset\n",
    "inds = [i for i,x in enumerate(TPR0) if x >=0.08 and x < 1.0 and i > Ntrain and i not in abads]\n",
    "\n",
    "print(len(inds))\n",
    "chosen_ind = inds[0]\n",
    "print('Article #{}'.format(str(i)))\n",
    "print(arts[chosen_ind]['title'])\n",
    "print('True positive rate: {}'.format(str(TPR0[chosen_ind])))"
   ]
  },
  {
   "cell_type": "code",
   "execution_count": 153,
   "metadata": {},
   "outputs": [
    {
     "name": "stdout",
     "output_type": "stream",
     "text": [
      "Computational_complexity_theory\n"
     ]
    }
   ],
   "source": [
    "# Pull out sample paragraph\n",
    "a = arts[chosen_ind]\n",
    "print(a['title'])\n",
    "\n",
    "# AllenNLP results\n",
    "words = [w for p in a['paragraphs'] for w in p['allenNER']['words'].split()]\n",
    "# tags = [t for p in a['paragraphs'] for t in p['allenNER']['tags'].split()]\n",
    "# tags = [not t == '0' for t in tags]   # Convert to binary\n",
    "tags = [t for p in a['paragraphs'] for t in p['blank_classified_allen']]\n",
    "\n",
    "# Ground truth\n",
    "blank_classification = [bc for p in a['paragraphs'] for bc in p['blank_classification']]"
   ]
  },
  {
   "cell_type": "code",
   "execution_count": 154,
   "metadata": {},
   "outputs": [
    {
     "name": "stdout",
     "output_type": "stream",
     "text": [
      "============\t\t\t==========\n",
      "Ground truth\t\t\tPrediction\n",
      "============\t\t\t==========\n",
      "______\t\t\t\t______\n",
      "complexity\t\t\t\t______\n",
      "theory\t\t\t\t______\n",
      "is\t\t\t\tis\n",
      "a\t\t\t\ta\n",
      "branch\t\t\t\tbranch\n",
      "of\t\t\t\tof\n",
      "the\t\t\t\tthe\n",
      "theory\t\t\t\ttheory\n",
      "of\t\t\t\tof\n",
      "computation\t\t\t\t______\n",
      "in\t\t\t\tin\n",
      "theoretical\t\t\t\ttheoretical\n",
      "computer\t\t\t\tcomputer\n",
      "science\t\t\t\tscience\n",
      "that\t\t\t\tthat\n",
      "focuses\t\t\t\tfocuses\n",
      "on\t\t\t\ton\n",
      "classifying\t\t\t\tclassifying\n",
      "______\t\t\t\t______\n"
     ]
    }
   ],
   "source": [
    "# Side by side compare\n",
    "\n",
    "words_blanked_ground_truth = words2words_blanked(words,blank_classification)\n",
    "words_blanked_allen = words2words_blanked(words,tags)\n",
    "\n",
    "N=len(words_blanked_ground_truth)\n",
    "N=20\n",
    "print(\"============\" + '\\t\\t\\t' + \"==========\")\n",
    "print(\"Ground truth\" + '\\t\\t\\t' + \"Prediction\")\n",
    "print(\"============\" + '\\t\\t\\t' + \"==========\")\n",
    "for c,w in zip(words_blanked_ground_truth[:N],words_blanked_allen[:N]):\n",
    "    print(c + '\\t\\t\\t\\t' + w)\n"
   ]
  },
  {
   "cell_type": "markdown",
   "metadata": {},
   "source": [
    "## Ground truth blanked"
   ]
  },
  {
   "cell_type": "code",
   "execution_count": 155,
   "metadata": {},
   "outputs": [
    {
     "name": "stdout",
     "output_type": "stream",
     "text": [
      "Answers:\n",
      "{'complex', 'set', 'taken', 'problems', 'matrices', 'alphabet', 'NC', 'classes', 'Hisao', 'another', 'statements', 'bitstrings', 'measure', 'multiplication', 'Presburger', 'gates', 'computability', 'transitions', 'Complexity', 'randomized', 'Alan', 'single', 'foundations', 'input', 'level', 'time', 'isomorphism', 'algorithms', 'intractable', 'bounds', 'Turing', 'adjacency', 'linear', 'concrete', 'second', 'formal', 'complicated', 'function', 'P', 'hierarchy', 'laid', 'reversed', 'difficulty', 'arithmetic', 'Manuel', 'probabilistic', 'algorithm', 'L', 'computational', '1965', 'computation', 'Decision', 'lower', 'bounding', 'Computational', 'notation', 'instances', 'storage', 'Interactive', 'NP', 'Algorithms', 'Ladner', 'quantum', 'suspected', 'proper', '1936', 'thesis', 'quantitative', 'knapsack', 'equal', 'computer', 'deterministically', 'worst', 'types', 'definitions', 'computers', 'instance', 'analysis', 'binary', 'language', 'reductions', 'inputs', 'Myhill', 'framework', 'factorization', 'problem', 'resources', 'possible', '1', 'models', 'model', 'Boolean', 'John', 'machines', 'power', 'bound', 'resource', 'Problems', 'machine', 'decision', 'measures', 'graph', 'space', 'polynomial', 'triples', 'solutions', 'Yamada', 'Blum', 'state', 'rules', 'unusual', 'output', 'size', 'bits', 'triple', 'encoding', 'reduces', 'reduction', 'RSA', 'upper', '1961', 'number', 'Cobham', 'abstract', 'memory', 'solution', 'branching', 'integer', 'inherent', '2000', 'deterministic', 'unequal', 'yes', 'EXPTIME', 'theorem', 'written', 'complexity', 'mathematical', 'PSPACE', 'theory', 'quicksort', 'symbols', 'efficient', 'NL', '21', '0', 'arbitrary'}\n"
     ]
    }
   ],
   "source": [
    "# Blanked text\n",
    "# print(words2text(words_blanked_ground_truth))\n",
    "\n",
    "# Answers    \n",
    "myanswers = words2answers(words,blank_classification)\n",
    "print(\"Answers:\")\n",
    "print(set(myanswers))"
   ]
  },
  {
   "cell_type": "code",
   "execution_count": 156,
   "metadata": {},
   "outputs": [
    {
     "name": "stdout",
     "output_type": "stream",
     "text": [
      "Answers:\n",
      "{'M', 'problems', 'measure', 'Karp', 'three', '1012', 'theorems', 'concept', 'recast', 'computations', 'rise', 'constraining', 'notion', 'level', 'Leonid', 'Π1', 'intractable', 'length', 'Turing', 'concrete', 'function', 'supercomputer', 'case', 'falls', 'algorithm', 'pairs', 'solvable', '×', 'computational', 'satisfiability', 'maximum', 'Decision', 'axioms', 'lower', 'k.', 'notation', 'DTIME(n2', 'square', 'transformation', 'graphs', '1936', 'quantitative', 'parallel', '2008', 'constant', 'definitions', 'aid', 'consumption', 'Mathematics', 'analysis', 'utterance', 'expected', 'inputs', 'practical', 'relaxing', 'Phrased', 'Boris', 'problem', 'Boolean', 'random', 'Levin', 'calculated', 'one', 'systems', 'Smullyan', 'rudimentary', 'general', 'exponential', 'n.log', 'Analogous', 'O', 'Yamada', 'triples', 'USSR', 'computing', 'strict', 'collapses', 'bits', 'converted', 'round', 'reduces', '100', 'C.', 'strip', 'yes', 'EXPTIME', 'counting', '1971', 'order', 'science', 'solved', 'AC', 'today', 'members', 'realizable', 'total', 'complex', 'no', 'Clay', 'T(n', '10', 'finite', 'km', '1967', '4', 'determinism', 'classify', 'sets', 'Alan', 'input', 'literature', 'increase', 'relating', 'theoretical', 'way', 'discrete', 'time', 'Hartmanis', 'complexities', 'linear', 'Fortnow', 'Juris', 'useful', 'formal', 'decide', '|', 'logarithmic', 'steps', 'protein', 'Manuel', 'Church', 'polynomially', 'pivoting', '1956', 'hard', 'Computational', 'sizes', 'instances', 'storage', 'n', 'Ladner', 'programming', 'n15', 'ZPP', '1.2', 'SAT', 'knapsack', 'O(n2', 'Shor', 'captures', 'computer', 'pioneer', '2O(√(n', 'deterministically', 'class', 'prime', 'hardest', 'faster', 'mathematician', 'factors', 'language', 'cryptographic', 'imply', 'Edmonds', 'factorization', 'resources', 'C', 'axiomatic', 'RAM', 'power', 'vertices', 'resource', '1962', 'choice', 'scale', 'relation', 'answer', 'logarithm', 'expressed', 'advanced', 'universe', 'triple', 'encoding', 'reduction', '1961', 'intractability', 'question', 'Cobham', 'technological', 'solution', 'bounded', 'integer', 'less', 'Combinatorial', 'unsolved', 'suitably', 'theorem', 'results', 'complexity', 'mathematical', 'cover', 'mechanical', 'tape', 'processors', 'computed', 'sense', 'paper', '0', 'BQP', 'factor', 'n.', 'sorting', 'isomorphic', 'multiplication', 'confused', 'member', 'Presburger', 'automata', 'Goldreich', 'US', 'Again', 'randomized', 'foundations', 'testing', 'Richard', 'reject', 'isomorphism', 'algorithms', 'proving', 'transformed', 'amenable', 'DTIME(f(n', 'sorted', 'P', 'solvers', 'hierarchy', 'f(n', 'O(n', 'arithmetic', 'intuition', 'probabilistic', 'IP', 'L', 'inclusion', 'Germany', 'discussion', 'X.', 'practice', '1965', 'computation', 'bounding', '0,1', 'objective', 'Algorithms', 'quantum', 'Homer', 'algorithmic', 'strings', 'Y', 'complement', 'log(n', 'Cook', 'b', 'circuits', 'instance', 'decisions', 'binary', 'reductions', 'quantifying', 'Chapter', 'induce', 'salesman', 'John', '1', 'lists', 'log', 'Problems', 'decision', 'measures', 'graph', 'space', 'solve', 'state', 'string', 'encoded', 'Institute', 'solves', 'RSA', 'upper', 'number', 'abstract', 'FP', '2000', 'path', 'surprisingly', 'unequal', 'kind', 'X', 'restricted', 'theory', 'quicksort', 'either', 'Life', 'efficient', 'xx', 'QMA', 'O(e(64/9)1/3(n.log', 'DTIME(n', 'arbitrary', 'set', '15', 'matrices', '2n', 'formalizes', 'smallest', 'alphabet', 'NC', 'classes', 'Hisao', 'algorithmically', 'Stearns', 'amount', 'bitstrings', 'questions', 'likely', 'gates', 'computability', 'two', 'richer', 'task', 'Complexity', 'branches', 'quadratic', 'connected', 'route', 'bounds', 'Milan', 'divides', 'adjacency', 'circuit', 'Game', 'device', 'kilometres', 'precisely', 'Upper', 'cellular', 'pencil', 'principle', 'communication', 'representations', 'minimum', '1972', 'separation', 'Interactive', 'harder', 'NP', 'squaring', 'process', 'proper', 'vertex', 'requirements', 'thesis', 'equal', 'contrast', 'worst', 'integers', 'permutations', 'precise', 'operations', 'trip', 'average', 'Myhill', 'biology', 'framework', 'Raymond', 'model', 'models', 'Reducibility', 'machines', '2)1/3(log', 'Hamiltonian', 'holds', '2))2/3', 'years', 'machine', 'reverse', 'restrictions', 'reduced', 'polynomial', 'solutions', '2003', 'Blum', 'RP', 'output', 'tree', 'Π2', 'size', 'collapse', 'memory', 'inclusions', 'primality', 'deterministic', 'AM', '1960', 'Y.', 'Conway', 'independent', 'Trakhtenbrot', 'Stephen', 'consideration', 'abstraction', 'step', 'PSPACE', 'papers', 'NL', '21'}\n"
     ]
    }
   ],
   "source": [
    "# Blanked text\n",
    "# print(words2text(words_blanked_allen))\n",
    "\n",
    "# Answers    \n",
    "myanswers = words2answers(words,tags)\n",
    "print(\"Answers:\")\n",
    "print(set(myanswers))"
   ]
  },
  {
   "cell_type": "markdown",
   "metadata": {},
   "source": [
    "# All paragraphs - compare blanks"
   ]
  },
  {
   "cell_type": "code",
   "execution_count": 157,
   "metadata": {},
   "outputs": [],
   "source": [
    "# Initialize stuff\n",
    "TPR0 = []\n",
    "FPR0 = []\n",
    "ACC0 = []\n",
    "Nsentences0 = []\n",
    "TP0 = []\n",
    "FP0 = []\n",
    "FN0 = []\n",
    "TN0 = []\n",
    "TPpersent0 = []\n",
    "FPpersent0 = []\n",
    "abads = []\n",
    "indices = {'i':[],'j':[],'k':[]}\n",
    "\n",
    "art = arts[:]\n",
    "\n",
    "\n",
    "# Only track true positives and false positive to avoid having to deal with other annoying edge cases\n",
    "i=-1\n",
    "k=-1\n",
    "Ntrainp = 0\n",
    "Ndevp=0\n",
    "for a in art:\n",
    "    i=i+1\n",
    "    j=-1\n",
    "    for p in a['paragraphs']:\n",
    "        j=j+1\n",
    "        k=k+1\n",
    "        if i < Ntrain: Ntrainp=Ntrainp+1;\n",
    "        else: Ndevp = Ndevp+1\n",
    "        # AllenNLP results\n",
    "        words = [w for w in p['allenNER']['words'].split()]\n",
    "        tags = [t for t in p['allenNER']['tags'].split()]\n",
    "        tags = [not t == '0' for t in tags]   # Convert to binary\n",
    "\n",
    "        # Ground truth\n",
    "        blank_classification = [bc for bc in p['blank_classification']]\n",
    "        blank_classification = [b == 1 for b in blank_classification] # Convert to binary\n",
    "\n",
    "        Nsentences2 = len(text2sentences(words2text(words)))\n",
    "\n",
    "        sbc = sum(blank_classification)\n",
    "        st = sum(tags)\n",
    "        if sbc == 0:\n",
    "            #print(\"Warning article {}, paragraph P{} contains {} ground truth blanks and {} tags. Likely bad\".format(str(i),str(j),str(sbc),str(st)))\n",
    "\n",
    "            # Make up some dummy values so don't confuse for a REAL outlier in plots. Should just drop this data in the future\n",
    "            # This is ok because we'll skip them later if want to do stats - that's what bads is for\n",
    "            TPR = 0.7\n",
    "            FNR = 0.7\n",
    "            ACC = 0.7\n",
    "            TP = 100\n",
    "            FP = 100\n",
    "            FN = 100\n",
    "            TN = 100\n",
    "            TPpersent = 1\n",
    "            FPpersent = 1\n",
    "            abads.append(k)       # kth paragraph is bad\n",
    "        else:\n",
    "            TP = sum([b and t for b,t in zip(blank_classification,tags)])\n",
    "            FP = sum([not b and t for b,t in zip(blank_classification,tags)])\n",
    "            FN = sum([b and not t for b,t in zip(blank_classification,tags)])\n",
    "            TN = sum([not b and not t for b,t in zip(blank_classification,tags)])\n",
    "#             ACC = (TP+TN)/(TP+FP+FN+TN)\n",
    "            ACC = sum([b == t for b,t in zip(blank_classification,tags)]) / len(tags)\n",
    "\n",
    "            # Sensitivity, hit rate, recall, or true positive rate\n",
    "            TPR = TP/(TP+FN)\n",
    "#             # Specificity or true negative rate\n",
    "#             TNR = TN/(TN+FP) \n",
    "#             # Precision or positive predictive value\n",
    "#             PPV = TP/(TP+FP)\n",
    "#             # Negative predictive value\n",
    "#             NPV = TN/(TN+FN)\n",
    "#             # Fall out or false positive rate\n",
    "#             FPR = FP/(FP+TN)\n",
    "            # False negative rate\n",
    "            FNR = FN/(TP+FN)\n",
    "#             # False discovery rate\n",
    "#             FDR = FP/(TP+FP)\n",
    "\n",
    "            # Per sententance values\n",
    "            TPpersent = TP / Nsentences2\n",
    "            FPpersent = FP / Nsentences2\n",
    "    \n",
    "        TPR0.append(TPR)\n",
    "        FPR0.append(FPR)\n",
    "        ACC0.append(ACC)\n",
    "        TP0.append(TP)\n",
    "        FP0.append(FP)\n",
    "        FN0.append(FN)\n",
    "        TN0.append(TN)\n",
    "        TPpersent0.append(TPpersent)\n",
    "        FPpersent0.append(FPpersent)\n",
    "        indices['i'].append(i)\n",
    "        indices['j'].append(j)\n",
    "        indices['k'].append(k)\n",
    "\n"
   ]
  },
  {
   "cell_type": "code",
   "execution_count": 158,
   "metadata": {},
   "outputs": [
    {
     "data": {
      "text/plain": [
       "[0.19778609799772098,\n",
       " 0.19778609799772098,\n",
       " 0.19778609799772098,\n",
       " 0.19778609799772098,\n",
       " 0.19778609799772098,\n",
       " 0.19778609799772098,\n",
       " 0.19778609799772098,\n",
       " 0.19778609799772098,\n",
       " 0.19778609799772098,\n",
       " 0.19778609799772098]"
      ]
     },
     "execution_count": 158,
     "metadata": {},
     "output_type": "execute_result"
    }
   ],
   "source": [
    "FPR0[0:10]"
   ]
  },
  {
   "cell_type": "code",
   "execution_count": 159,
   "metadata": {},
   "outputs": [],
   "source": [
    "# # # Plot the histogram without containing any bads\n",
    "# Calculate how this affects Ntrain / Ndev\n",
    "Ntrainp_bad = len([b for b in abads if b < Ntrainp])\n",
    "Ndevp_bad = len([b for b in abads if b >= Ntrainp])\n"
   ]
  },
  {
   "cell_type": "code",
   "execution_count": 160,
   "metadata": {},
   "outputs": [
    {
     "name": "stdout",
     "output_type": "stream",
     "text": [
      "19035\n",
      "1204\n",
      "1383\n",
      "13\n"
     ]
    }
   ],
   "source": [
    "print(Ntrainp)\n",
    "print(Ndevp)\n",
    "print(Ntrainp_bad)\n",
    "print(Ndevp_bad)\n",
    "max(abads)\n",
    "len(FN0)\n",
    "\n",
    "x = []\n",
    "for a in abads:\n",
    "    x.append(TPR0[a])\n"
   ]
  },
  {
   "cell_type": "markdown",
   "metadata": {},
   "source": [
    "## Plot TPR"
   ]
  },
  {
   "cell_type": "code",
   "execution_count": 161,
   "metadata": {},
   "outputs": [
    {
     "data": {
      "image/png": "[encoded data removed]",
      "text/plain": [
       "<Figure size 1080x288 with 2 Axes>"
      ]
     },
     "metadata": {
      "needs_background": "light"
     },
     "output_type": "display_data"
    }
   ],
   "source": [
    "myvar = TPR0\n",
    "varname = 'TPR'\n",
    "\n",
    "# Plot bargraph (Don't plot figure for each paragraph!)\n",
    "# plotbar_train_dev2(myvar,Ntrain,Ndev,ylabel='{}'.format(varname),xlabel='Article #')\n",
    "\n",
    "# # # Plot the histogram without containing any bads\n",
    "# myvar without the bad articles\n",
    "myvar2 = [tp for i, tp in enumerate(myvar) if i not in abads]\n",
    "\n",
    "# Plot the histogram\n",
    "ax = plothist_train_dev2(myvar2,Ntrainp-Ntrainp_bad,Ndevp-Ndevp_bad,xlabel=varname,ylabel='N Articles',devbins='auto')\n",
    "# set(ax['ax1'].set_xlim(0,1));\n",
    "# set(ax['ax2'].set_xlim(0,1));\n",
    "\n"
   ]
  },
  {
   "cell_type": "markdown",
   "metadata": {},
   "source": [
    "## Find paragraphs containing a lot of true positives"
   ]
  },
  {
   "cell_type": "code",
   "execution_count": 162,
   "metadata": {},
   "outputs": [
    {
     "name": "stdout",
     "output_type": "stream",
     "text": [
      "775\n",
      "Article #442 paragraph #3\n",
      "Normans\n",
      "True positive rate: 0.8\n"
     ]
    }
   ],
   "source": [
    "\n",
    "# Inds of all articles >0.4 TPR\n",
    "inds = [i for i,x in enumerate(TPR0) if x >=0.6]\n",
    "\n",
    "# Inds of all articles >0.4 TPR and in dev dataset\n",
    "inds = [i for i,x in enumerate(TPR0) if x >=0.4 and x < 1.0 and i > Ntrainp and i not in abads]\n",
    "\n",
    "print(len(inds))\n",
    "chosen_ind = inds[0]\n",
    "i = indices['i'][chosen_ind]\n",
    "j = indices['j'][chosen_ind]\n",
    "k = indices['k'][chosen_ind]\n",
    "print('Article #{} paragraph #{}'.format(str(i),str(j)))\n",
    "print(arts[i]['title'])\n",
    "print('True positive rate: {}'.format(str(TPR0[chosen_ind])))"
   ]
  },
  {
   "cell_type": "code",
   "execution_count": 163,
   "metadata": {},
   "outputs": [],
   "source": [
    "# Pull out sample paragraph\n",
    "p = arts[i]['paragraphs'][j]\n",
    "\n",
    "# AllenNLP results\n",
    "words = p['allenNER']['words'].split()\n",
    "# tags = p['allenNER']['tags'].split()\n",
    "# tags = [not t == '0' for t in tags]   # Convert to binary\n",
    "tags = p['blank_classified_allen']\n",
    "\n",
    "# Ground truth\n",
    "blank_classification = p['blank_classification']"
   ]
  },
  {
   "cell_type": "code",
   "execution_count": 164,
   "metadata": {},
   "outputs": [
    {
     "name": "stdout",
     "output_type": "stream",
     "text": [
      "============\t\t\t==========\n",
      "Ground truth\t\t\tPrediction\n",
      "============\t\t\t==========\n",
      "In\t\t\t\tIn\n",
      "the\t\t\t\tthe\n",
      "course\t\t\t\tcourse\n",
      "of\t\t\t\tof\n",
      "the\t\t\t\tthe\n",
      "10th\t\t\t\t______\n",
      "century\t\t\t\t______\n",
      ",\t\t\t\t,\n",
      "the\t\t\t\tthe\n",
      "initially\t\t\t\tinitially\n",
      "destructive\t\t\t\tdestructive\n",
      "incursions\t\t\t\tincursions\n",
      "of\t\t\t\tof\n",
      "Norse\t\t\t\t______\n",
      "war\t\t\t\twar\n",
      "bands\t\t\t\tbands\n",
      "into\t\t\t\tinto\n",
      "the\t\t\t\tthe\n",
      "rivers\t\t\t\t______\n",
      "of\t\t\t\tof\n"
     ]
    }
   ],
   "source": [
    "# Side by side compare\n",
    "\n",
    "words_blanked_ground_truth = words2words_blanked(words,blank_classification)\n",
    "words_blanked_allen = words2words_blanked(words,tags)\n",
    "\n",
    "N=len(words_blanked_ground_truth)\n",
    "N=20\n",
    "print(\"============\" + '\\t\\t\\t' + \"==========\")\n",
    "print(\"Ground truth\" + '\\t\\t\\t' + \"Prediction\")\n",
    "print(\"============\" + '\\t\\t\\t' + \"==========\")\n",
    "for c,w in zip(words_blanked_ground_truth[:N],words_blanked_allen[:N]):\n",
    "    print(c + '\\t\\t\\t\\t' + w)\n"
   ]
  },
  {
   "cell_type": "markdown",
   "metadata": {},
   "source": [
    "## Ground truth blanked"
   ]
  },
  {
   "cell_type": "code",
   "execution_count": 165,
   "metadata": {},
   "outputs": [
    {
     "name": "stdout",
     "output_type": "stream",
     "text": [
      "In the course of the 10th century, the initially destructive incursions of Norse war bands into the rivers of France evolved into more permanent encampments that included local women and personal property. The Duchy of Normandy, which began in ______ as a fiefdom, was established by the treaty of Saint - Clair - sur - ______ between King Charles III of West Francia and the famed Viking ruler Rollo, and was situated in the former Frankish kingdom of Neustria. The treaty offered Rollo and his men the French lands between the river ______ and the Atlantic coast in exchange for their protection against further Viking incursions. The area corresponded to the northern part of present - day Upper Normandy down to the river ______, but the Duchy would eventually extend west beyond the ______. The territory was roughly equivalent to the old province of Rouen, and reproduced the Roman administrative structure of Gallia Lugdunensis II ( part of the former Gallia Lugdunensis ).\n",
      "Answers:\n",
      "['911', 'Epte', 'Epte', 'Seine', 'Seine']\n"
     ]
    }
   ],
   "source": [
    "# Blanked text\n",
    "print(words2text(words_blanked_ground_truth))\n",
    "\n",
    "# Answers    \n",
    "myanswers = words2answers(words,blank_classification)\n",
    "print(\"Answers:\")\n",
    "print(myanswers)"
   ]
  },
  {
   "cell_type": "code",
   "execution_count": 166,
   "metadata": {},
   "outputs": [
    {
     "name": "stdout",
     "output_type": "stream",
     "text": [
      "In the course of the ______ ______, the initially destructive incursions of ______ war bands into the ______ of ______ evolved into more permanent encampments that included local women and personal property. The ______ of ______, which began in ______ as a ______, was established by the ______ of Saint - Clair - sur - Epte between King ______ III of ______ ______ and the famed ______ ruler ______, and was situated in the former ______ kingdom of ______. The treaty offered ______ and his men the French lands between the ______ ______ and the ______ ______ in exchange for their protection against further ______ ______. The area corresponded to the northern part of present - day Upper Normandy down to the river ______, but the ______ would eventually extend west beyond the ______. The territory was roughly equivalent to the old province of ______, and reproduced the Roman administrative structure of ______ ______ II ( part of the former ______ ______ ).\n",
      "Answers:\n",
      "['10th', 'century', 'Norse', 'rivers', 'France', 'Duchy', 'Normandy', '911', 'fiefdom', 'treaty', 'Charles', 'West', 'Francia', 'Viking', 'Rollo', 'Frankish', 'Neustria', 'Rollo', 'river', 'Epte', 'Atlantic', 'coast', 'Viking', 'incursions', 'Seine', 'Duchy', 'Seine', 'Rouen', 'Gallia', 'Lugdunensis', 'Gallia', 'Lugdunensis']\n"
     ]
    }
   ],
   "source": [
    "# Blanked text\n",
    "print(words2text(words_blanked_allen))\n",
    "\n",
    "# Answers    \n",
    "myanswers = words2answers(words,tags)\n",
    "print(\"Answers:\")\n",
    "print(myanswers)"
   ]
  },
  {
   "cell_type": "code",
   "execution_count": 167,
   "metadata": {},
   "outputs": [],
   "source": [
    "TP = sum([b and t for b,t in zip(blank_classification,tags)])\n",
    "FP = sum([not b and t for b,t in zip(blank_classification,tags)])\n",
    "FN = sum([b and not t for b,t in zip(blank_classification,tags)])\n",
    "TN = sum([not b and not t for b,t in zip(blank_classification,tags)])\n",
    "ACC = (TP+TN)/(TP+FP+FN+TN)\n",
    "ACC2 = sum([b == t for b,t in zip(blank_classification,tags)]) / len(tags)"
   ]
  },
  {
   "cell_type": "code",
   "execution_count": 168,
   "metadata": {},
   "outputs": [
    {
     "name": "stdout",
     "output_type": "stream",
     "text": [
      "0.8333333333333334\n",
      "0.8333333333333334\n",
      "4\n",
      "28\n"
     ]
    }
   ],
   "source": [
    "print(ACC)\n",
    "print(ACC2)\n",
    "print(TP)\n",
    "print(FP)"
   ]
  },
  {
   "cell_type": "code",
   "execution_count": 169,
   "metadata": {},
   "outputs": [],
   "source": [
    "# Sensitivity, hit rate, recall, or true positive rate\n",
    "TPR = TP/(TP+FN)\n",
    "# Specificity or true negative rate\n",
    "TNR = TN/(TN+FP) \n",
    "# Precision or positive predictive value\n",
    "PPV = TP/(TP+FP)\n",
    "# Negative predictive value\n",
    "NPV = TN/(TN+FN)\n",
    "# Fall out or false positive rate\n",
    "FPR = FP/(FP+TN)\n",
    "# False negative rate\n",
    "FNR = FN/(TP+FN)\n",
    "# False discovery rate\n",
    "FDR = FP/(TP+FP)\n"
   ]
  },
  {
   "cell_type": "code",
   "execution_count": 170,
   "metadata": {},
   "outputs": [
    {
     "name": "stdout",
     "output_type": "stream",
     "text": [
      "0.8\n",
      "0.16568047337278108\n"
     ]
    }
   ],
   "source": [
    "print(TPR)\n",
    "print(FPR)"
   ]
  },
  {
   "cell_type": "code",
   "execution_count": null,
   "metadata": {},
   "outputs": [],
   "source": []
  }
 ],
 "metadata": {
  "kernelspec": {
   "display_name": "Python [conda env:allennlp]",
   "language": "python",
   "name": "conda-env-allennlp-py"
  },
  "language_info": {
   "codemirror_mode": {
    "name": "ipython",
    "version": 3
   },
   "file_extension": ".py",
   "mimetype": "text/x-python",
   "name": "python",
   "nbconvert_exporter": "python",
   "pygments_lexer": "ipython3",
   "version": "3.6.8"
  }
 },
 "nbformat": 4,
 "nbformat_minor": 2
}
