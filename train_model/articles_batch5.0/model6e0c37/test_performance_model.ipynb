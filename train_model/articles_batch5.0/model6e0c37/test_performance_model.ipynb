{
 "cells": [
  {
   "cell_type": "code",
   "execution_count": 1,
   "metadata": {},
   "outputs": [],
   "source": [
    "# Set up and load data\n",
    "# Includes\n",
    "import sys\n",
    "import os\n",
    "import numpy as np\n",
    "import json\n",
    "import os\n",
    "\n",
    "\n",
    "# Setup paths containing utility\n",
    "curr_folder = os.getcwd()\n",
    "sys.path.insert(0, os.path.join(curr_folder,'../../../app'))\n",
    "\n",
    "# Utils imports for loading data\n",
    "from utils import save_data, load_data, exists_datafolder\n",
    "from utils import load_SQuAD_train, load_SQuAD_dev\n",
    "from utils import get_foldername\n",
    "from utils_NLP import text2sentences,words2words_blanked,words2words_hashblank,words2answers\n",
    "from utils_NLP import words2text\n",
    "from utils_SQuAD import OR_arts_paragraph_fields,merge_arts_paragraph_fields\n",
    "\n",
    "# Plotting includes\n",
    "from utils_EDAplots import plotbar_train_dev,plothist_train_dev,plotbar_train_dev2,plothist_train_dev2\n",
    "\n",
    "# Stats saving stuff\n",
    "from utils_EDA import calcstats_train_dev\n",
    "\n",
    "# Import fig stuff\n",
    "import matplotlib.pyplot as plt\n",
    "from matplotlib.pyplot import figure"
   ]
  },
  {
   "cell_type": "code",
   "execution_count": 2,
   "metadata": {},
   "outputs": [],
   "source": [
    "# Option for merging NER data into combined model\n",
    "merge_in_NER_data = False"
   ]
  },
  {
   "cell_type": "markdown",
   "metadata": {},
   "source": [
    "# Load and merge ground truth and MODEL data"
   ]
  },
  {
   "cell_type": "code",
   "execution_count": 3,
   "metadata": {},
   "outputs": [
    {
     "name": "stdout",
     "output_type": "stream",
     "text": [
      "/home/davestanley/Dropbox/git/mindpocket/train_model/articles_batch5.0/model6e0c37\n"
     ]
    }
   ],
   "source": [
    "!pwd"
   ]
  },
  {
   "cell_type": "code",
   "execution_count": 4,
   "metadata": {},
   "outputs": [
    {
     "name": "stdout",
     "output_type": "stream",
     "text": [
      "Frédéric_Chopin\n"
     ]
    }
   ],
   "source": [
    "# Load data containing MODEL (predictions)\n",
    "foldername = os.path.join('SQ_pp_b4m0c2')\n",
    "arts_train = load_data('train.json',foldername,prepend_data_folder=False)\n",
    "arts_dev = load_data('dev.json',foldername,prepend_data_folder=False)\n",
    "\n",
    "# All articles\n",
    "Ntrain = len(arts_train)\n",
    "Ndev = len(arts_dev)\n",
    "\n",
    "arts = arts_train + arts_dev\n",
    "print(arts[1]['title'])\n",
    "# print(arts[1]['paragraphs'][0]['context'])"
   ]
  },
  {
   "cell_type": "code",
   "execution_count": 5,
   "metadata": {},
   "outputs": [],
   "source": [
    "# Trim down newly loaded articles to match Narticles in training set\n",
    "ind_train = slice(0,Ntrain)\n",
    "ind_dev = slice(0,Ndev)\n",
    "\n",
    "# Chosen display articles\n",
    "ind_ex_train = 1                   # Example from training set - Chopin\n",
    "ind_ex_dev = Ntrain + (467-442)    # Example from dev set - Immune system\n",
    "ind_ex_dev = 105"
   ]
  },
  {
   "cell_type": "code",
   "execution_count": 6,
   "metadata": {},
   "outputs": [
    {
     "name": "stdout",
     "output_type": "stream",
     "text": [
      "Frédéric_Chopin\n"
     ]
    }
   ],
   "source": [
    "# Load blanks data (ground truth)\n",
    "foldername = get_foldername('sq_pp_training')\n",
    "arts3 = load_data('train.json',foldername)[ind_train] + load_data('dev.json',foldername)[ind_dev]\n",
    "print(arts3[1]['title'])\n",
    "# print(arts3[1]['paragraphs'][0]['context_blanked'])\n"
   ]
  },
  {
   "cell_type": "code",
   "execution_count": 7,
   "metadata": {},
   "outputs": [
    {
     "name": "stdout",
     "output_type": "stream",
     "text": [
      "Matching titles: 477 \n",
      "Total articles 477\n"
     ]
    }
   ],
   "source": [
    "# Make sure all titles match\n",
    "all_title_pairs = [(a1['title'],a3['title']) for a1,a3 in zip(arts,arts3)]\n",
    "titles_match_bool = [a1['title'] == a3['title'] for a1,a3 in zip(arts,arts3)]\n",
    "print(\"Matching titles: {} \\nTotal articles {}\".format(sum(titles_match_bool),len(titles_match_bool)))\n",
    "if not sum(titles_match_bool) == len(titles_match_bool):\n",
    "    raise ValueError('Articles mismatch.')\n"
   ]
  },
  {
   "cell_type": "code",
   "execution_count": 8,
   "metadata": {},
   "outputs": [],
   "source": [
    "# Merge ground truth blanks with original data to get full dataset\n",
    "list_of_fields = ['context_blanked','blank_classification']\n",
    "arts = merge_arts_paragraph_fields(arts,arts3,list_of_fields)\n",
    "\n",
    "# print(arts[1]['title'])\n",
    "# print(arts[1]['paragraphs'][0]['context'])\n",
    "# print(arts[1]['paragraphs'][0]['context_blanked'])"
   ]
  },
  {
   "cell_type": "code",
   "execution_count": 9,
   "metadata": {},
   "outputs": [
    {
     "data": {
      "text/plain": [
       "'Frédéric François Chopin (/ˈʃoʊpæn/; French pronunciation: \\u200b[fʁe.de.ʁik fʁɑ̃.swa ʃɔ.pɛ̃]; 22 February or 1 March 1810 – 17 October 1849), born Fryderyk Franciszek Chopin,[n 1] was a Polish and French (by citizenship and birth of father) composer and a virtuoso pianist of the Romantic era, who wrote primarily for the solo piano. He gained and has maintained renown worldwide as one of the leading musicians of his era, whose \"poetic genius was based on a professional technique that was without equal in his generation.\" Chopin was born in what was then the Duchy of Warsaw, and grew up in Warsaw, which after 1815 became part of Congress Poland. A child prodigy, he completed his musical education and composed his earlier works in Warsaw before leaving Poland at the age of 20, less than a month before the outbreak of the November 1830 Uprising.'"
      ]
     },
     "execution_count": 9,
     "metadata": {},
     "output_type": "execute_result"
    }
   ],
   "source": [
    "arts[ind_ex_train]['paragraphs'][0]['context']"
   ]
  },
  {
   "cell_type": "code",
   "execution_count": 10,
   "metadata": {},
   "outputs": [
    {
     "data": {
      "text/plain": [
       "dict_keys(['qas', 'context', 'allenNER', 'context_blanked', 'blank_classification', 'blank_classified_allen'])"
      ]
     },
     "execution_count": 10,
     "metadata": {},
     "output_type": "execute_result"
    }
   ],
   "source": [
    "# Convert AllenNLP Model blanks classification into standard format\n",
    "\n",
    "# If doing merge, use unique name for this model result. Otherwise, use generic name\n",
    "if merge_in_NER_data: fieldname = 'blank_classified_allenMODEL'\n",
    "else: fieldname = 'blank_classified_allen'\n",
    "\n",
    "\n",
    "from utils_NLP import allenNLP_classify_blanks\n",
    "arts = allenNLP_classify_blanks(arts,'0',fieldname)\n",
    "arts[0]['paragraphs'][0].keys()"
   ]
  },
  {
   "cell_type": "markdown",
   "metadata": {},
   "source": [
    "# Load NER data and merge into arts dataset"
   ]
  },
  {
   "cell_type": "code",
   "execution_count": 11,
   "metadata": {},
   "outputs": [],
   "source": [
    "\n",
    "if merge_in_NER_data:\n",
    "    # Load data containing NEP (predictions)\n",
    "    foldername = get_foldername('sq_pp_ner')\n",
    "\n",
    "    arts_NER = load_data('train.json',foldername)[ind_train] + load_data('dev.json',foldername)[ind_dev]\n",
    "    print(arts[1]['title'])\n",
    "    # print(arts[1]['paragraphs'][0]['context'])\n",
    "\n",
    "    # Make sure all titles match\n",
    "    all_title_pairs = [(a1['title'],a3['title']) for a1,a3 in zip(arts,arts_NER)]\n",
    "    titles_match_bool = [a1['title'] == a3['title'] for a1,a3 in zip(arts,arts_NER)]\n",
    "    print(\"Matching titles: {} \\nTotal articles {}\".format(sum(titles_match_bool),len(titles_match_bool)))\n",
    "    if not sum(titles_match_bool) == len(titles_match_bool):\n",
    "        raise ValueError('Articles mismatch.')\n",
    "\n",
    "    # Convert AllenNLP Model blanks classification into standard format\n",
    "    from utils_NLP import allenNLP_classify_blanks\n",
    "    arts_NER = allenNLP_classify_blanks(arts_NER,'O','blank_classified_allenNER')\n",
    "    print(arts_NER[0]['paragraphs'][0].keys())\n",
    "\n",
    "    # Merge NER data into full dataset\n",
    "    list_of_fields = ['blank_classified_allenNER']\n",
    "    arts = merge_arts_paragraph_fields(arts,arts_NER,list_of_fields)\n",
    "    print(arts[0]['paragraphs'][0].keys())"
   ]
  },
  {
   "cell_type": "code",
   "execution_count": 12,
   "metadata": {},
   "outputs": [],
   "source": [
    "# OR operation on blank_classified_allenMODEL and blank_classified_allenNER into blank_classified_allenMODEL\n",
    "\n",
    "if merge_in_NER_data:\n",
    "    destination_fieldname = 'blank_classified_allen'\n",
    "    arts = OR_arts_paragraph_fields(arts,['blank_classified_allenMODEL','blank_classified_allenNER'],destination_fieldname)\n",
    "\n",
    "    p = arts[0]['paragraphs'][1]\n",
    "    print(p['blank_classified_allenNER'])\n",
    "    print(p['blank_classified_allenMODEL'])\n",
    "    print(p['blank_classified_allen'])\n"
   ]
  },
  {
   "cell_type": "markdown",
   "metadata": {},
   "source": [
    "# Compare paragraph word reconstructions"
   ]
  },
  {
   "cell_type": "markdown",
   "metadata": {},
   "source": [
    "This just looks at the words in the different saved fiels files to make sure all the words match up 1:1 (otherwise, this could mess up our evaluations). Not looking at blanks here at all. The next sectoin looks at the blanks"
   ]
  },
  {
   "cell_type": "code",
   "execution_count": 13,
   "metadata": {},
   "outputs": [],
   "source": [
    "# Pull out sample paragraph\n",
    "p = arts[ind_ex_dev]['paragraphs'][0]"
   ]
  },
  {
   "cell_type": "markdown",
   "metadata": {},
   "source": [
    "## AllenNLP Words"
   ]
  },
  {
   "cell_type": "code",
   "execution_count": 14,
   "metadata": {},
   "outputs": [
    {
     "name": "stdout",
     "output_type": "stream",
     "text": [
      "95\n",
      "95\n",
      "Pitch is an auditory sensation in which a listener assigns musical tones to relative positions on a musical scale based primarily on their perception of the frequency of vibration. Pitch is closely related to frequency, but the two are not equivalent. Frequency is an objective, scientific attribute that can be measured. Pitch is each person 's subjective perception of a sound, which can not be directly measured. However, this does not necessarily mean that most people wo n't agree on which notes are higher and lower.\n",
      "522\n"
     ]
    }
   ],
   "source": [
    "words = p['allenNER']['words'].split()\n",
    "tags = p['allenNER']['tags'].split()\n",
    "print(len(words))\n",
    "print(len(tags))\n",
    "print(words2text(words))\n",
    "print(len(words2text(words)))"
   ]
  },
  {
   "cell_type": "markdown",
   "metadata": {},
   "source": [
    "## Context"
   ]
  },
  {
   "cell_type": "code",
   "execution_count": 15,
   "metadata": {},
   "outputs": [
    {
     "name": "stdout",
     "output_type": "stream",
     "text": [
      "95\n",
      "Pitch is an auditory sensation in which a listener assigns musical tones to relative positions on a musical scale based primarily on their perception of the frequency of vibration. Pitch is closely related to frequency, but the two are not equivalent. Frequency is an objective, scientific attribute that can be measured. Pitch is each person 's subjective perception of a sound, which can not be directly measured. However, this does not necessarily mean that most people wo n't agree on which notes are higher and lower.\n",
      "522\n"
     ]
    }
   ],
   "source": [
    "from utils_NLP import allenNLP_split_words, join_punctuation\n",
    "\n",
    "context = p['context']\n",
    "context_split = allenNLP_split_words(context)\n",
    "\n",
    "# context_reassembled = ' '.join(context_split)\n",
    "context_reassembled = words2text(context_split)\n",
    "\n",
    "print(len(context_split))\n",
    "# print(words2text(context_split))\n",
    "# print(len(words2text(context_split)))\n",
    "print(context_reassembled)\n",
    "print(len(context_reassembled))\n"
   ]
  },
  {
   "cell_type": "markdown",
   "metadata": {},
   "source": [
    "## Context_blanked"
   ]
  },
  {
   "cell_type": "code",
   "execution_count": 16,
   "metadata": {},
   "outputs": [
    {
     "name": "stdout",
     "output_type": "stream",
     "text": [
      "95\n",
      "dict_keys(['qas', 'context', 'allenNER', 'context_blanked', 'blank_classification', 'blank_classified_allen'])\n",
      "______ is an ______ sensation in which a listener assigns musical tones to relative positions on a musical scale based primarily on their perception of the ______ of vibration . ______ is closely related to ______ , but the two are not equivalent . ______ is an objective , scientific attribute that can be measured . ______ is each person 's subjective perception of a sound , which can not be directly measured . However , this does not necessarily mean that most people wo n't agree on which notes are higher and lower .\n"
     ]
    }
   ],
   "source": [
    "print(len(p['blank_classification']))\n",
    "print(p.keys())\n",
    "print(p['context_blanked'])"
   ]
  },
  {
   "cell_type": "code",
   "execution_count": 17,
   "metadata": {},
   "outputs": [
    {
     "name": "stdout",
     "output_type": "stream",
     "text": [
      "Pitch\n",
      "auditory\n",
      "frequency\n",
      "Pitch\n",
      "frequency\n",
      "Frequency\n",
      "Pitch\n"
     ]
    }
   ],
   "source": [
    "# Answers\n",
    "for i,c in enumerate(p['blank_classification']):\n",
    "    if c == 1: print(context_split[i])"
   ]
  },
  {
   "cell_type": "markdown",
   "metadata": {},
   "source": [
    "# Single paragraph - Compare blanks"
   ]
  },
  {
   "cell_type": "markdown",
   "metadata": {},
   "source": [
    "## First, just look at the raw text"
   ]
  },
  {
   "cell_type": "code",
   "execution_count": 18,
   "metadata": {},
   "outputs": [],
   "source": [
    "# Pull out sample paragraph\n",
    "p = arts[ind_ex_dev]['paragraphs'][0]\n",
    "\n",
    "# # Print all AllenNLP classifications\n",
    "# print([(a,b) for a,b in zip(p['allenNER']['words'].split(), p['allenNER']['tags'].split())])\n",
    "\n",
    "# AllenNLP results\n",
    "words = p['allenNER']['words'].split()\n",
    "# tags = p['allenNER']['tags'].split()\n",
    "# tags = [not t == '0' for t in tags]   # Convert to binary\n",
    "tags = p['blank_classified_allen']\n",
    "\n",
    "# Ground truth\n",
    "blank_classification = p['blank_classification']"
   ]
  },
  {
   "cell_type": "code",
   "execution_count": 19,
   "metadata": {},
   "outputs": [
    {
     "name": "stdout",
     "output_type": "stream",
     "text": [
      "Length Allen tags: 95. Length ground truth blanks: 95\n"
     ]
    }
   ],
   "source": [
    "\n",
    "\n",
    "print(\"Length Allen tags: {}. Length ground truth blanks: {}\".format(len(tags),len(blank_classification)))"
   ]
  },
  {
   "cell_type": "code",
   "execution_count": 20,
   "metadata": {},
   "outputs": [
    {
     "name": "stdout",
     "output_type": "stream",
     "text": [
      "============\t\t\t==========\n",
      "Ground truth\t\t\tPrediction\n",
      "============\t\t\t==========\n",
      "______\t\t\t\t______\n",
      "is\t\t\t\tis\n",
      "an\t\t\t\tan\n",
      "______\t\t\t\t______\n",
      "sensation\t\t\t\t______\n",
      "in\t\t\t\tin\n",
      "which\t\t\t\twhich\n",
      "a\t\t\t\ta\n",
      "listener\t\t\t\t______\n",
      "assigns\t\t\t\tassigns\n",
      "musical\t\t\t\t______\n",
      "tones\t\t\t\t______\n",
      "to\t\t\t\tto\n",
      "relative\t\t\t\t______\n",
      "positions\t\t\t\t______\n",
      "on\t\t\t\ton\n",
      "a\t\t\t\ta\n",
      "musical\t\t\t\tmusical\n",
      "scale\t\t\t\tscale\n",
      "based\t\t\t\tbased\n"
     ]
    }
   ],
   "source": [
    "# Side by side compare\n",
    "\n",
    "words_blanked_ground_truth = words2words_blanked(words,blank_classification)\n",
    "words_blanked_allen = words2words_blanked(words,tags)\n",
    "\n",
    "N=len(words_blanked_ground_truth)\n",
    "N=20\n",
    "print(\"============\" + '\\t\\t\\t' + \"==========\")\n",
    "print(\"Ground truth\" + '\\t\\t\\t' + \"Prediction\")\n",
    "print(\"============\" + '\\t\\t\\t' + \"==========\")\n",
    "for c,w in zip(words_blanked_ground_truth[:N],words_blanked_allen[:N]):\n",
    "    print(c + '\\t\\t\\t\\t' + w)\n"
   ]
  },
  {
   "cell_type": "markdown",
   "metadata": {},
   "source": [
    "## Ground truth blanked"
   ]
  },
  {
   "cell_type": "code",
   "execution_count": 21,
   "metadata": {},
   "outputs": [
    {
     "name": "stdout",
     "output_type": "stream",
     "text": [
      "______ is an ______ sensation in which a listener assigns musical tones to relative positions on a musical scale based primarily on their perception of the ______ of vibration. ______ is closely related to ______, but the two are not equivalent. ______ is an objective, scientific attribute that can be measured. ______ is each person 's subjective perception of a sound, which can not be directly measured. However, this does not necessarily mean that most people wo n't agree on which notes are higher and lower.\n",
      "Answers:\n",
      "['Pitch', 'auditory', 'frequency', 'Pitch', 'frequency', 'Frequency', 'Pitch']\n"
     ]
    }
   ],
   "source": [
    "# Blanked text\n",
    "print(words2text(words_blanked_ground_truth))\n",
    "\n",
    "# Answers    \n",
    "myanswers = words2answers(words,blank_classification)\n",
    "print(\"Answers:\")\n",
    "print(myanswers)"
   ]
  },
  {
   "cell_type": "code",
   "execution_count": 22,
   "metadata": {},
   "outputs": [
    {
     "name": "stdout",
     "output_type": "stream",
     "text": [
      "______ is an ______ ______ in which a ______ assigns ______ ______ to ______ ______ on a musical scale based primarily on their ______ of the ______ of ______. ______ is closely related to ______, but the ______ are not equivalent. ______ is an ______, ______ attribute that can be ______. ______ is each person 's ______ ______ of a ______, which can not be directly ______. However, this does not necessarily mean that most people wo n't agree on which ______ are ______ and ______.\n",
      "Answers:\n",
      "['Pitch', 'auditory', 'sensation', 'listener', 'musical', 'tones', 'relative', 'positions', 'perception', 'frequency', 'vibration', 'Pitch', 'frequency', 'two', 'Frequency', 'objective', 'scientific', 'measured', 'Pitch', 'subjective', 'perception', 'sound', 'measured', 'notes', 'higher', 'lower']\n"
     ]
    }
   ],
   "source": [
    "# Blanked text\n",
    "print(words2text(words_blanked_allen))\n",
    "\n",
    "# Answers    \n",
    "myanswers = words2answers(words,tags)\n",
    "print(\"Answers:\")\n",
    "print(myanswers)"
   ]
  },
  {
   "cell_type": "code",
   "execution_count": 23,
   "metadata": {},
   "outputs": [],
   "source": [
    "TP = sum([b and t for b,t in zip(blank_classification,tags)])\n",
    "FP = sum([not b and t for b,t in zip(blank_classification,tags)])\n",
    "FN = sum([b and not t for b,t in zip(blank_classification,tags)])\n",
    "TN = sum([not b and not t for b,t in zip(blank_classification,tags)])\n",
    "ACC = (TP+TN)/(TP+FP+FN+TN)\n",
    "ACC2 = sum([b == t for b,t in zip(blank_classification,tags)]) / len(tags)"
   ]
  },
  {
   "cell_type": "code",
   "execution_count": 24,
   "metadata": {},
   "outputs": [
    {
     "name": "stdout",
     "output_type": "stream",
     "text": [
      "0.8\n",
      "0.8\n",
      "7\n",
      "19\n"
     ]
    }
   ],
   "source": [
    "print(ACC)\n",
    "print(ACC2)\n",
    "print(TP)\n",
    "print(FP)"
   ]
  },
  {
   "cell_type": "code",
   "execution_count": 25,
   "metadata": {},
   "outputs": [],
   "source": [
    "# Sensitivity, hit rate, recall, or true positive rate\n",
    "TPR = TP/(TP+FN)\n",
    "# Specificity or true negative rate\n",
    "TNR = TN/(TN+FP) \n",
    "# Precision or positive predictive value\n",
    "PPV = TP/(TP+FP)\n",
    "# Negative predictive value\n",
    "NPV = TN/(TN+FN)\n",
    "# Fall out or false positive rate\n",
    "FPR = FP/(FP+TN)\n",
    "# False negative rate\n",
    "FNR = FN/(TP+FN)\n",
    "# False discovery rate\n",
    "FDR = FP/(TP+FP)\n"
   ]
  },
  {
   "cell_type": "code",
   "execution_count": 26,
   "metadata": {},
   "outputs": [
    {
     "name": "stdout",
     "output_type": "stream",
     "text": [
      "1.0\n",
      "0.2159090909090909\n"
     ]
    }
   ],
   "source": [
    "print(TPR)\n",
    "print(FPR)"
   ]
  },
  {
   "cell_type": "code",
   "execution_count": 27,
   "metadata": {},
   "outputs": [
    {
     "name": "stdout",
     "output_type": "stream",
     "text": [
      "Nsentences=5\n",
      "Nsentences_from_words=5\n"
     ]
    }
   ],
   "source": [
    "Nsentences = len(text2sentences(p['context']))\n",
    "print(\"Nsentences={}\".format(str(Nsentences)))\n",
    "\n",
    "Nsentences2 = len(text2sentences(words2text(words)))\n",
    "print(\"Nsentences_from_words={}\".format(str(Nsentences2)))\n",
    "\n"
   ]
  },
  {
   "cell_type": "code",
   "execution_count": 28,
   "metadata": {},
   "outputs": [
    {
     "name": "stdout",
     "output_type": "stream",
     "text": [
      "1.4\n",
      "3.8\n"
     ]
    }
   ],
   "source": [
    "TPpersent = TP / Nsentences2\n",
    "FPpersent = FP / Nsentences2\n",
    "\n",
    "print(TPpersent)\n",
    "print(FPpersent)"
   ]
  },
  {
   "cell_type": "markdown",
   "metadata": {},
   "source": [
    "# Single article - compare blanks"
   ]
  },
  {
   "cell_type": "code",
   "execution_count": 139,
   "metadata": {},
   "outputs": [
    {
     "name": "stdout",
     "output_type": "stream",
     "text": [
      "Pitch_(music)\n"
     ]
    }
   ],
   "source": [
    "##### Pull out sample paragraph\n",
    "a = arts[ind_ex_dev]\n",
    "print(a['title'])\n",
    "\n",
    "# AllenNLP results\n",
    "words = [w for p in a['paragraphs'] for w in p['allenNER']['words'].split()]\n",
    "# tags = [t for p in a['paragraphs'] for t in p['allenNER']['tags'].split()]\n",
    "# tags = [not t == '0' for t in tags]   # Convert to binary\n",
    "tags = [t for p in a['paragraphs'] for t in p['blank_classified_allen']]\n",
    "\n",
    "# Ground truth\n",
    "blank_classification = [bc for p in a['paragraphs'] for bc in p['blank_classification']]"
   ]
  },
  {
   "cell_type": "code",
   "execution_count": 140,
   "metadata": {},
   "outputs": [
    {
     "name": "stdout",
     "output_type": "stream",
     "text": [
      "Length Allen tags: 1482. Length ground truth blanks: 1482\n"
     ]
    }
   ],
   "source": [
    "\n",
    "print(\"Length Allen tags: {}. Length ground truth blanks: {}\".format(len(tags),len(blank_classification)))"
   ]
  },
  {
   "cell_type": "code",
   "execution_count": 141,
   "metadata": {},
   "outputs": [
    {
     "name": "stdout",
     "output_type": "stream",
     "text": [
      "========\t\t\t============\t\t\t==========\n",
      "Original\t\t\tGround truth\t\t\tPrediction\n",
      "========\t\t\t============\t\t\t==========\n",
      "Pitch\t\t\t\t______\t\t\t\t______\n",
      "is\t\t\t\tis\t\t\t\tis\n",
      "an\t\t\t\tan\t\t\t\tan\n",
      "auditory\t\t\t\t______\t\t\t\t______\n",
      "sensation\t\t\t\tsensation\t\t\t\t______\n",
      "in\t\t\t\tin\t\t\t\tin\n",
      "which\t\t\t\twhich\t\t\t\twhich\n",
      "a\t\t\t\ta\t\t\t\ta\n",
      "listener\t\t\t\tlistener\t\t\t\t______\n",
      "assigns\t\t\t\tassigns\t\t\t\tassigns\n",
      "musical\t\t\t\tmusical\t\t\t\t______\n",
      "tones\t\t\t\ttones\t\t\t\t______\n",
      "to\t\t\t\tto\t\t\t\tto\n",
      "relative\t\t\t\trelative\t\t\t\t______\n",
      "positions\t\t\t\tpositions\t\t\t\t______\n",
      "on\t\t\t\ton\t\t\t\ton\n",
      "a\t\t\t\ta\t\t\t\ta\n",
      "musical\t\t\t\tmusical\t\t\t\tmusical\n",
      "scale\t\t\t\tscale\t\t\t\tscale\n",
      "based\t\t\t\tbased\t\t\t\tbased\n",
      "primarily\t\t\t\tprimarily\t\t\t\tprimarily\n",
      "on\t\t\t\ton\t\t\t\ton\n",
      "their\t\t\t\ttheir\t\t\t\ttheir\n",
      "perception\t\t\t\tperception\t\t\t\t______\n",
      "of\t\t\t\tof\t\t\t\tof\n",
      "the\t\t\t\tthe\t\t\t\tthe\n",
      "frequency\t\t\t\t______\t\t\t\t______\n",
      "of\t\t\t\tof\t\t\t\tof\n",
      "vibration\t\t\t\tvibration\t\t\t\t______\n",
      ".\t\t\t\t.\t\t\t\t.\n"
     ]
    }
   ],
   "source": [
    "# Side by side compare\n",
    "words_blanked_ground_truth = words2words_blanked(words,blank_classification)\n",
    "words_blanked_allen = words2words_blanked(words,tags)\n",
    "\n",
    "N=len(words_blanked_ground_truth)\n",
    "N=30\n",
    "print(\"========\" + '\\t\\t\\t' + \"============\" + '\\t\\t\\t' + \"==========\")\n",
    "print(\"Original\" + '\\t\\t\\t' + \"Ground truth\" + '\\t\\t\\t' + \"Prediction\")\n",
    "print(\"========\" + '\\t\\t\\t' + \"============\" + '\\t\\t\\t' + \"==========\")\n",
    "for o,c,w in zip(words[:N],words_blanked_ground_truth[:N],words_blanked_allen[:N]):\n",
    "    print(o + '\\t\\t\\t\\t' + c + '\\t\\t\\t\\t' + w)\n"
   ]
  },
  {
   "cell_type": "code",
   "execution_count": 142,
   "metadata": {},
   "outputs": [],
   "source": [
    "TP = sum([b and t for b,t in zip(blank_classification,tags)])\n",
    "FP = sum([not b and t for b,t in zip(blank_classification,tags)])\n",
    "FN = sum([b and not t for b,t in zip(blank_classification,tags)])\n",
    "TN = sum([not b and not t for b,t in zip(blank_classification,tags)])\n",
    "ACC = (TP+TN)/(TP+FP+FN+TN)\n",
    "ACC2 = sum([b == t for b,t in zip(blank_classification,tags)]) / len(tags)"
   ]
  },
  {
   "cell_type": "code",
   "execution_count": 143,
   "metadata": {},
   "outputs": [
    {
     "name": "stdout",
     "output_type": "stream",
     "text": [
      "0.7807017543859649\n",
      "0.7807017543859649\n"
     ]
    }
   ],
   "source": [
    "print(ACC)\n",
    "print(ACC2)"
   ]
  },
  {
   "cell_type": "code",
   "execution_count": 144,
   "metadata": {},
   "outputs": [],
   "source": [
    "# Sensitivity, hit rate, recall, or true positive rate\n",
    "TPR = TP/(TP+FN)\n",
    "# Specificity or true negative rate\n",
    "TNR = TN/(TN+FP) \n",
    "# Precision or positive predictive value\n",
    "PPV = TP/(TP+FP)\n",
    "# Negative predictive value\n",
    "NPV = TN/(TN+FN)\n",
    "# Fall out or false positive rate\n",
    "FPR = FP/(FP+TN)\n",
    "# False negative rate\n",
    "FNR = FN/(TP+FN)\n",
    "# False discovery rate\n",
    "FDR = FP/(TP+FP)\n"
   ]
  },
  {
   "cell_type": "code",
   "execution_count": 145,
   "metadata": {},
   "outputs": [
    {
     "name": "stdout",
     "output_type": "stream",
     "text": [
      "0.9491525423728814\n",
      "0.22628250175685172\n"
     ]
    }
   ],
   "source": [
    "print(TPR)\n",
    "print(FPR)"
   ]
  },
  {
   "cell_type": "code",
   "execution_count": 146,
   "metadata": {},
   "outputs": [
    {
     "name": "stdout",
     "output_type": "stream",
     "text": [
      "Nsentences_from_words=53\n"
     ]
    }
   ],
   "source": [
    "Nsentences2 = len(text2sentences(words2text(words)))\n",
    "print(\"Nsentences_from_words={}\".format(str(Nsentences2)))"
   ]
  },
  {
   "cell_type": "code",
   "execution_count": 147,
   "metadata": {},
   "outputs": [
    {
     "name": "stdout",
     "output_type": "stream",
     "text": [
      "1.0566037735849056\n",
      "6.0754716981132075\n"
     ]
    }
   ],
   "source": [
    "TPpersent = TP / Nsentences2\n",
    "FPpersent = FP / Nsentences2\n",
    "\n",
    "print(TPpersent)\n",
    "print(FPpersent)"
   ]
  },
  {
   "cell_type": "markdown",
   "metadata": {},
   "source": [
    "## Ground truth blanked vs predicted blanked"
   ]
  },
  {
   "cell_type": "code",
   "execution_count": 148,
   "metadata": {},
   "outputs": [
    {
     "name": "stdout",
     "output_type": "stream",
     "text": [
      "Answers:\n",
      "{'frequency', 'generated', 'rapid', 'Frequency', '12', 'logarithmic', 'two', '1', 'missing', 'octave', '69', 'unnecessary', '1,400', 'indefinite', '100', 'A4', 'ambiguous', 'fundamental', 'overtones', 'slower', 'numerous', 'spelling', 'ambiguities', 'pitch', 'drum', 'auditory', '60.5', 'Pitch', 'partials', 'numerical', 'snare', 'sound'}\n"
     ]
    }
   ],
   "source": [
    "# Blanked text\n",
    "# print(words2text(words_blanked_ground_truth))\n",
    "\n",
    "# Answers    \n",
    "myanswers = words2answers(words,blank_classification)\n",
    "print(\"Answers:\")\n",
    "print(set(myanswers))"
   ]
  },
  {
   "cell_type": "code",
   "execution_count": 149,
   "metadata": {},
   "outputs": [
    {
     "name": "stdout",
     "output_type": "stream",
     "text": [
      "Answers:\n",
      "{'theorists', 'subjective', 'situation', 'temporal', 'generated', 'proxy', 'repetition', '440', 'microtones', 'Distance', 'semitone', 'modes', 'pitches', 'wave', 'Harmonics', 'respect', 'two', '1', 'temperaments', 'languages', 'pure', 'observer', '69', 'peak', 'surface', 'C♯', 'neatly', 'upon', 'lower', 'waveform', 'filters', 'A4', 'Frequencies', 'tones', 'scientific', 'pitched', 'theories', 'standard', 'Temporal', 'fundamental', '16', 'pitch', 'drum', 'delay', 'rate', 'auditory', 'Pitch', 'measured', 'west', 'semitones', 'snare', 'integer', 'frequency', 'close', 'measurement', 'rapid', 'action', 'intervals', 'chroma', 'positions', 'structure', 'combination', 'processing', 'A440', 'total', 'octave', 'keyboard', 'levels', 'sensation', 'scale', 'American', 'instrument', '1,400', 'indefinite', 'vibration', '100', 'multiples', 'tone', 'A880', 'ambiguous', 'free', 'space', 'autocorrelation', 'p', 'octaves', 'nerve', 'etymological', '1200', 'output', '10', 'perceived', '1000', 'high', 'neural', 'western', 'ambiguities', 'physical', 'systems', 'equal', 'listener', '200', 'height', 'partials', 'MIDI', 'organization', 'bass', 'temperament', '1.05946', 'reaches', 'objective', 'air', 'size', 'Frequency', 'English', '500', 'interval', 'smaller', '16,000', '120', 'function', 'divisor', 'sine', 'piano', 'humans', 'elicit', 'cochlear', '3', 'waves', 'histograms', 'twelfth', 'attribute', 'phase', 'signals', 'slower', 'numerous', 'tuning', 'twelve', 'increased', 'upper', 'low', 'decreased', 'cochlea', 'musicians', 'percept', 'relative', 'sound', 'specific', 'double', 'content', 'potentials', 'logarithm', 'higher', 'nature', 'A220', 'notes', 'chromatic', 'sounds', 'amplitude', 'C', 'Western', 'stimulus', '12', 'logarithmic', '880', 'harmonic', 'vertical', 'slightly', '61', 'beat', 'musical', 'source', 'history', 'cents', 'jnd', 'oscillation', 'intensity', 'overtones', 'perception', 'ear', 'music', 'spelling', 'three', 'perceive', 'vibrate', 'frequencies', 'difference', '60.5', 'Hz', 'sense', 'root', 'lowest', 'appeals', 'spectrum', 'shifts', 'numerical'}\n"
     ]
    }
   ],
   "source": [
    "# Blanked text\n",
    "# print(words2text(words_blanked_allen))\n",
    "\n",
    "# Answers    \n",
    "myanswers = words2answers(words,tags)\n",
    "print(\"Answers:\")\n",
    "print(set(myanswers))"
   ]
  },
  {
   "cell_type": "code",
   "execution_count": null,
   "metadata": {},
   "outputs": [],
   "source": []
  },
  {
   "cell_type": "markdown",
   "metadata": {},
   "source": [
    "## Fract of answers blanked"
   ]
  },
  {
   "cell_type": "markdown",
   "metadata": {},
   "source": [
    "### Fract answers blanked vs num answers"
   ]
  },
  {
   "cell_type": "code",
   "execution_count": 316,
   "metadata": {},
   "outputs": [],
   "source": [
    "\n",
    "# Pseudocode\n",
    "# For each answer, loop through the words and count the number of times it occurs.\n",
    "# Get the set of blanks booleans associated with each occurrence of that words, and calculate the\n",
    "# mean. Will do this for each word in the article, and then each article in the corpus. For each\n",
    "# article, rank the words by their proximity to 50 % \n",
    "\n",
    "myanswers_unique = list(set(words2answers(words,tags)))\n",
    "\n",
    "fracblanked = []\n",
    "numblanked = []\n",
    "for ans in myanswers_unique:\n",
    "    indices = [i for i, w in enumerate(words) if w == ans]\n",
    "    tags_curr = [tags[i] for i in indices]\n",
    "    #words_curr = [words[i] for i in indices]\n",
    "    fracblanked.append(sum(tags_curr)/len(tags_curr)*100)\n",
    "    numblanked.append(len(tags_curr))"
   ]
  },
  {
   "cell_type": "code",
   "execution_count": 317,
   "metadata": {},
   "outputs": [
    {
     "data": {
      "text/plain": [
       "Text(0, 0.5, 'Num occurrences')"
      ]
     },
     "execution_count": 317,
     "metadata": {},
     "output_type": "execute_result"
    },
    {
     "data": {
      "image/png": "[encoded data removed]",
      "text/plain": [
       "<Figure size 576x576 with 1 Axes>"
      ]
     },
     "metadata": {
      "needs_background": "light"
     },
     "output_type": "display_data"
    }
   ],
   "source": [
    "# Do scatter plot\n",
    "y = numblanked\n",
    "z = fracblanked\n",
    "n = myanswers_unique\n",
    "\n",
    "fig, ax = plt.subplots(figsize=(8, 8))\n",
    "ax.scatter(z, y)\n",
    "\n",
    "for i, txt in enumerate(n):\n",
    "    ax.annotate(txt, (z[i], y[i]))\n",
    "plt.xlabel('Fraction blanked')\n",
    "plt.ylabel('Num occurrences')"
   ]
  },
  {
   "cell_type": "markdown",
   "metadata": {},
   "source": [
    "### Fract answers blanked for all answers"
   ]
  },
  {
   "cell_type": "code",
   "execution_count": 321,
   "metadata": {},
   "outputs": [
    {
     "data": {
      "image/png": "[encoded data removed]",
      "text/plain": [
       "<Figure size 576x576 with 1 Axes>"
      ]
     },
     "metadata": {},
     "output_type": "display_data"
    }
   ],
   "source": [
    "import numpy as np\n",
    "import pandas as pd\n",
    "\n",
    "d = {'myanswers_unique':myanswers_unique,'fracblanked':fracblanked}\n",
    "\n",
    "df = pd.DataFrame(data=d);\n",
    "\n",
    "df2 = df.sort_values(by='fracblanked',ascending=True);\n",
    "\n",
    "\n",
    "\n",
    "N=30          # of data points to show\n",
    "figure(num=None, figsize=(8, 8),facecolor='w', edgecolor='k')\n",
    "bars = (df2['myanswers_unique'].values.tolist())[0:N]\n",
    "y_pos = np.arange(len(bars))\n",
    "val = (df2['fracblanked'].values.tolist())[0:N]\n",
    "y_pos = np.arange(len(bars))\n",
    " \n",
    "# Create horizontal bars\n",
    "plt.barh(y_pos, val)\n",
    " \n",
    "# Create names on the y-axis\n",
    "plt.yticks(y_pos, bars)\n",
    "\n",
    "plt.xlabel('% of times blanked')\n",
    "# Show graphic\n",
    "plt.show()\n",
    "\n"
   ]
  },
  {
   "cell_type": "code",
   "execution_count": null,
   "metadata": {},
   "outputs": [],
   "source": []
  },
  {
   "cell_type": "markdown",
   "metadata": {},
   "source": [
    "### Fractions of POS tags blanked"
   ]
  },
  {
   "cell_type": "code",
   "execution_count": 328,
   "metadata": {},
   "outputs": [],
   "source": [
    "import spacy\n",
    "\n",
    "nlp = spacy.load('en_core_web_sm')\n",
    "doc = nlp(words2text(words))\n",
    "\n",
    "pos=[]\n",
    "ner=[]\n",
    "dep=[]\n",
    "for token in doc:\n",
    "    pos.append(token.pos_)\n",
    "    ner.append(token.ent_type_)\n",
    "    dep.append(token.dep_)\n",
    "\n",
    "# Build a dataframe to store everything\n",
    "d = {'ind': range(len(words)),\n",
    "     'words' : words,\n",
    "    'tags':tags,\n",
    "    'pos':pos,\n",
    "    'ner':ner,\n",
    "    'dep':dep}\n",
    "\n",
    "df = pd.DataFrame(data=d)\n",
    "\n",
    "xlabs=[]\n",
    "yvals=[]\n",
    "\n",
    "# Search through keys and unique items therein, counting \"Trues\"\n",
    "keys = ['pos','ner']\n",
    "for k in keys:\n",
    "    for item in list(set(d[k])):\n",
    "        df2 = df.loc[df[k] == item]\n",
    "        mysum = df2.sum()['tags']\n",
    "        N = len(df2)\n",
    "        \n",
    "        xlabs.append(k + ':' + item)\n",
    "        yvals.append(mysum/N*100)\n",
    "\n",
    "        \n"
   ]
  },
  {
   "cell_type": "code",
   "execution_count": 330,
   "metadata": {},
   "outputs": [
    {
     "data": {
      "text/html": [
       "<div>\n",
       "<style scoped>\n",
       "    .dataframe tbody tr th:only-of-type {\n",
       "        vertical-align: middle;\n",
       "    }\n",
       "\n",
       "    .dataframe tbody tr th {\n",
       "        vertical-align: top;\n",
       "    }\n",
       "\n",
       "    .dataframe thead th {\n",
       "        text-align: right;\n",
       "    }\n",
       "</style>\n",
       "<table border=\"1\" class=\"dataframe\">\n",
       "  <thead>\n",
       "    <tr style=\"text-align: right;\">\n",
       "      <th></th>\n",
       "      <th>ind</th>\n",
       "      <th>words</th>\n",
       "      <th>tags</th>\n",
       "      <th>pos</th>\n",
       "      <th>ner</th>\n",
       "      <th>dep</th>\n",
       "    </tr>\n",
       "  </thead>\n",
       "  <tbody>\n",
       "    <tr>\n",
       "      <th>293</th>\n",
       "      <td>293</td>\n",
       "      <td>Johann</td>\n",
       "      <td>0</td>\n",
       "      <td>PROPN</td>\n",
       "      <td>PERSON</td>\n",
       "      <td>compound</td>\n",
       "    </tr>\n",
       "    <tr>\n",
       "      <th>294</th>\n",
       "      <td>294</td>\n",
       "      <td>Sebastian</td>\n",
       "      <td>0</td>\n",
       "      <td>PROPN</td>\n",
       "      <td>PERSON</td>\n",
       "      <td>compound</td>\n",
       "    </tr>\n",
       "    <tr>\n",
       "      <th>295</th>\n",
       "      <td>295</td>\n",
       "      <td>Bach</td>\n",
       "      <td>0</td>\n",
       "      <td>PROPN</td>\n",
       "      <td>PERSON</td>\n",
       "      <td>pobj</td>\n",
       "    </tr>\n",
       "  </tbody>\n",
       "</table>\n",
       "</div>"
      ],
      "text/plain": [
       "     ind      words  tags    pos     ner       dep\n",
       "293  293     Johann     0  PROPN  PERSON  compound\n",
       "294  294  Sebastian     0  PROPN  PERSON  compound\n",
       "295  295       Bach     0  PROPN  PERSON      pobj"
      ]
     },
     "execution_count": 330,
     "metadata": {},
     "output_type": "execute_result"
    }
   ],
   "source": [
    "df3 = df.loc[df['ner'] == 'PERSON']\n",
    "df3           # Hmmm"
   ]
  },
  {
   "cell_type": "code",
   "execution_count": 331,
   "metadata": {},
   "outputs": [],
   "source": [
    "df = pd.DataFrame(data={'xlabs':xlabs,'yvals':yvals})\n",
    "df = df.sort_values(by='yvals',ascending=True)\n",
    "df;"
   ]
  },
  {
   "cell_type": "code",
   "execution_count": 332,
   "metadata": {},
   "outputs": [
    {
     "data": {
      "image/png": "[encoded data removed]",
      "text/plain": [
       "<Figure size 504x504 with 1 Axes>"
      ]
     },
     "metadata": {},
     "output_type": "display_data"
    }
   ],
   "source": [
    "figure(num=None, figsize=(7,7),facecolor='w', edgecolor='k')\n",
    "bars = df['xlabs']\n",
    "y_pos = np.arange(len(bars))\n",
    "val = df['yvals']\n",
    "\n",
    "# Make fake dataset\n",
    "y_pos = np.arange(len(bars))\n",
    " \n",
    "# Create horizontal bars\n",
    "plt.barh(y_pos, val)\n",
    " \n",
    "# Create names on the y-axis\n",
    "plt.yticks(y_pos, bars)\n",
    "\n",
    "plt.xlabel('% of times blanked')\n",
    " \n",
    "# Show graphic\n",
    "plt.show()"
   ]
  },
  {
   "cell_type": "markdown",
   "metadata": {},
   "source": [
    "## Whole article"
   ]
  },
  {
   "cell_type": "markdown",
   "metadata": {},
   "source": [
    "### Ground truth"
   ]
  },
  {
   "cell_type": "code",
   "execution_count": 40,
   "metadata": {},
   "outputs": [],
   "source": [
    "\n",
    "# print('--------------- GROUND TRUTH ---------------')\n",
    "\n",
    "# # Pull out sample paragraph\n",
    "# for p in arts[ind_ex_dev]['paragraphs']:\n",
    "#     # # Print all AllenNLP classifications\n",
    "#     # print([(a,b) for a,b in zip(p['allenNER']['words'].split(), p['allenNER']['tags'].split())])\n",
    "\n",
    "#     # AllenNLP results\n",
    "#     words = p['allenNER']['words'].split()\n",
    "#     # tags = p['allenNER']['tags'].split()\n",
    "#     # tags = [not t == '0' for t in tags]   # Convert to binary\n",
    "#     tags = p['blank_classified_allen']\n",
    "\n",
    "#     # Ground truth\n",
    "#     blank_classification = p['blank_classification']\n",
    "\n",
    "#     words_blanked_ground_truth = words2words_blanked(words,blank_classification)\n",
    "#     words_blanked_allen = words2words_blanked(words,tags)\n",
    "#     words_hash_ground_truth = words2words_hashblank(words,blank_classification)\n",
    "#     words_hash_allen = words2words_hashblank(words,tags)\n",
    "    \n",
    "    \n",
    "#     # Blanked text\n",
    "#     print(words2text(words_hash_ground_truth))\n",
    "\n",
    "#     # Answers    \n",
    "#     myanswers = words2answers(words,blank_classification)\n",
    "#     print(\"Answers:\")\n",
    "#     print(myanswers)\n",
    "\n",
    "    "
   ]
  },
  {
   "cell_type": "markdown",
   "metadata": {},
   "source": [
    "### My model"
   ]
  },
  {
   "cell_type": "code",
   "execution_count": 131,
   "metadata": {},
   "outputs": [
    {
     "name": "stdout",
     "output_type": "stream",
     "text": [
      "--------------- MY MODEL ---------------\n",
      "___Pitch___ is an ___auditory___ ___sensation___ in which a ___listener___ assigns ___musical___ ___tones___ to ___relative___ ___positions___ on a musical scale based primarily on their ___perception___ of the ___frequency___ of ___vibration___. ___Pitch___ is closely related to ___frequency___, but the ___two___ are not equivalent. ___Frequency___ is an ___objective___, ___scientific___ attribute that can be ___measured___. ___Pitch___ is each person 's ___subjective___ ___perception___ of a ___sound___, which can not be directly ___measured___. However, this does not necessarily mean that most people wo n't agree on which ___notes___ are ___higher___ and ___lower___.\n",
      "Answers:\n",
      "['subjective', 'objective', 'frequency', 'higher', 'notes', 'positions', 'Frequency', 'two', 'sensation', 'lower', 'musical', 'vibration', 'tones', 'scientific', 'perception', 'relative', 'listener', 'auditory', 'Pitch', 'measured', 'sound']\n",
      "This creates a linear pitch space in which ___octaves___ have size ___12___, ___semitones___ ( the distance between adjacent keys on the ___piano___ ___keyboard___ ) have ___size___ ___1___, and ___A440___ is assigned the number ___69___. ( See ___Frequencies___ of ___notes___. ) ___Distance___ in this ___space___ corresponds to ___musical___ ___intervals___ as understood by ___musicians___. An equal - tempered ___semitone___ is subdivided into ___100___ ___cents___. The system is flexible enough to include \" ___microtones___ \" not found on standard ___piano___ keyboards. For example, the pitch halfway between C ( 60 ) and ___C♯___ ( ___61___ ) can be labeled ___60.5___.\n",
      "Answers:\n",
      "['size', 'notes', 'intervals', 'microtones', 'Distance', 'semitone', '12', 'A440', '1', 'keyboard', '69', 'C♯', 'piano', '61', 'musical', '100', 'cents', 'Frequencies', 'space', 'octaves', '60.5', 'musicians', 'semitones']\n",
      "The relative ___pitches___ of individual notes in a scale may be determined by one of a number of ___tuning___ ___systems___. In the ___west___, the ___twelve___ - note ___chromatic___ ___scale___ is the most common method of ___organization___, with ___equal___ ___temperament___ now the most widely used method of ___tuning___ that ___scale___. In it, the ___pitch___ ratio between any ___two___ successive notes of the scale is exactly the ___twelfth___ ___root___ of ___two___ ( or about ___1.05946___ ). In well - tempered ___systems___ ( as used in the time of Johann Sebastian Bach, for example ), different methods of ___musical___ ___tuning___ were used. Almost all of these systems have one ___interval___ in common, the ___octave___, where the pitch of one note is ___double___ the ___frequency___ of another. For example, if the A above middle C is ___440___ ___Hz___, the A an ___octave___ above that is ___880___ ___Hz___ ( info ).\n",
      "Answers:\n",
      "['double', 'frequency', '440', 'chromatic', 'pitches', 'interval', 'two', 'octave', '880', 'scale', 'musical', 'twelfth', 'tuning', 'twelve', '1.05946', 'pitch', 'systems', 'equal', 'Hz', 'root', 'west', 'organization', 'temperament']\n",
      "According to the ___American___ National Standards Institute, pitch is the ___auditory___ ___attribute___ of ___sound___ according to which ___sounds___ can be ordered on a scale from ___low___ to ___high___. Since ___pitch___ is such a ___close___ ___proxy___ for ___frequency___, it is almost entirely determined by how quickly the ___sound___ ___wave___ is making the ___air___ ___vibrate___ and has almost nothing to do with the ___intensity___, or ___amplitude___, of the ___wave___. That is, \" ___high___ \" ___pitch___ means very ___rapid___ ___oscillation___, and \" ___low___ \" ___pitch___ corresponds to ___slower___ ___oscillation___. Despite that, the idiom relating ___vertical___ ___height___ to ___sound___ ___pitch___ is shared by most ___languages___. At least in ___English___, it is just one of many deep conceptual metaphors that involve up / down. The exact ___etymological___ ___history___ of the ___musical___ ___sense___ of ___high___ and ___low___ ___pitch___ is still unclear. There is evidence that ___humans___ do actually ___perceive___ that the ___source___ of a ___sound___ is ___slightly___ ___higher___ or ___lower___ in ___vertical___ ___space___ when the ___sound___ ___frequency___ is ___increased___ or ___decreased___.\n",
      "Answers:\n",
      "['air', 'frequency', 'close', 'rapid', 'higher', 'proxy', 'sounds', 'amplitude', 'wave', 'English', 'languages', 'American', 'vertical', 'humans', 'slightly', 'lower', 'musical', 'source', 'history', 'space', 'oscillation', 'etymological', 'intensity', 'attribute', 'slower', 'high', 'increased', 'pitch', 'perceive', 'vibrate', 'auditory', 'low', 'decreased', 'height', 'sense', 'sound']\n",
      "A ___sound___ ___generated___ on any ___instrument___ produces many ___modes___ of ___vibration___ that occur simultaneously. A ___listener___ hears ___numerous___ ___frequencies___ at once. The ___vibration___ with the ___lowest___ ___frequency___ is called the ___fundamental___ ___frequency___; the other ___frequencies___ are ___overtones___. ___Harmonics___ are an important class of ___overtones___ with ___frequencies___ that are ___integer___ ___multiples___ of the ___fundamental___. Whether or not the ___higher___ ___frequencies___ are ___integer___ ___multiples___, they are collectively called the ___partials___, referring to the different parts that make up the ___total___ ___spectrum___.\n",
      "Answers:\n",
      "['fundamental', 'frequencies', 'frequency', 'listener', 'overtones', 'integer', 'generated', 'instrument', 'higher', 'numerous', 'lowest', 'vibration', 'modes', 'multiples', 'partials', 'spectrum', 'Harmonics', 'total', 'sound']\n",
      "The ___pitch___ of complex tones can be ___ambiguous___, meaning that ___two___ or more different ___pitches___ can be ___perceived___, depending ___upon___ the ___observer___. When the actual ___fundamental___ ___frequency___ can be precisely determined through ___physical___ ___measurement___, it may differ from the perceived ___pitch___ because of ___overtones___, also known as ___upper___ ___partials___, ___harmonic___ or otherwise. A complex ___tone___ composed of ___two___ ___sine___ waves of ___1000___ and ___1200___ ___Hz___ may sometimes be heard as up to ___three___ ___pitches___ : two spectral pitches at ___1000___ and ___1200___ ___Hz___, derived from the ___physical___ frequencies of the ___pure___ ___tones___, and the ___combination___ ___tone___ at ___200___ ___Hz___, corresponding to the ___repetition___ ___rate___ of the ___waveform___. In a ___situation___ like this, the ___percept___ at ___200___ ___Hz___ is commonly referred to as the missing ___fundamental___, which is often the greatest common ___divisor___ of the ___frequencies___ present.\n",
      "Answers:\n",
      "['situation', 'frequency', 'measurement', 'repetition', 'combination', 'pitches', 'two', 'pure', 'observer', 'divisor', 'harmonic', 'sine', 'upon', 'waveform', 'tone', 'tones', 'ambiguous', '1200', 'fundamental', 'overtones', 'perceived', '1000', 'three', 'pitch', 'physical', 'upper', 'rate', 'frequencies', 'Hz', '200', 'percept', 'partials']\n",
      "The just - noticeable ___difference___ ( ___jnd___ ) ( the threshold at which a change is perceived ) depends on the tone 's frequency ___content___. Below ___500___ ___Hz___, the ___jnd___ is about ___3___ ___Hz___ for ___sine___ ___waves___, and ___1___ ___Hz___ for complex ___tones___; above ___1000___ ___Hz___, the ___jnd___ for ___sine___ ___waves___ is about 0.6 % ( about ___10___ ___cents___ ). The ___jnd___ is typically tested by playing ___two___ tones in quick succession with the listener asked if there was a difference in their pitches. The ___jnd___ becomes ___smaller___ if the ___two___ ___tones___ are played simultaneously as the ___listener___ is then able to discern ___beat___ ___frequencies___. The total number of perceptible ___pitch___ steps in the range of human hearing is about ___1,400___; the total number of notes in the equal - tempered ___scale___, from ___16___ to ___16,000___ ___Hz___, is ___120___.\n",
      "Answers:\n",
      "['content', '500', '16,000', 'smaller', 'two', '1', '120', 'scale', 'sine', '1,400', 'beat', 'jnd', 'cents', 'tones', 'waves', '3', '16', '10', '1000', 'pitch', 'frequencies', 'difference', 'listener', 'Hz']\n",
      "It is still possible for ___two___ ___sounds___ of ___indefinite___ ___pitch___ to clearly be ___higher___ or ___lower___ than one another. For instance, a ___snare___ ___drum___ ___sounds___ higher ___pitched___ than a ___bass___ ___drum___ though both have ___indefinite___ ___pitch___, because its ___sound___ contains ___higher___ ___frequencies___. In other words, it is possible and often easy to roughly discern the relative pitches of ___two___ ___sounds___ of ___indefinite___ ___pitch___, but sounds of ___indefinite___ ___pitch___ do not ___neatly___ correspond to any ___specific___ ___pitch___. A special type of ___pitch___ often occurs in ___free___ ___nature___ when ___sound___ ___reaches___ the ___ear___ of an ___observer___ directly from the source, and also after reflecting off a ___sound___ - reflecting ___surface___. This phenomenon is called ___repetition___ ___pitch___, because the addition of a true ___repetition___ of the original ___sound___ to itself is the basic prerequisite.\n",
      "Answers:\n",
      "['specific', 'reaches', 'higher', 'nature', 'repetition', 'sounds', 'two', 'observer', 'surface', 'neatly', 'indefinite', 'lower', 'free', 'pitched', 'ear', 'pitch', 'drum', 'frequencies', 'bass', 'snare', 'sound']\n",
      "For example, one might refer to the A above middle ___C___ as a ', ___A4___, or ___440___ ___Hz___. In standard ___Western___ equal ___temperament___, the notion of ___pitch___ is insensitive to \" ___spelling___ \" : the description \" G4 double sharp \" refers to the same pitch as ___A4___; in other ___temperaments___, these may be distinct pitches. Human ___perception___ of ___musical___ ___intervals___ is approximately ___logarithmic___ with ___respect___ to ___fundamental___ ___frequency___ : the perceived interval between the pitches \" ___A220___ \" and \" ___A440___ \" is the same as the perceived interval between the pitches ___A440___ and ___A880___. Motivated by this ___logarithmic___ ___perception___, ___music___ ___theorists___ sometimes represent ___pitches___ using a ___numerical___ scale based on the ___logarithm___ of ___fundamental___ ___frequency___. For example, one can adopt the widely used ___MIDI___ ___standard___ to map ___fundamental___ ___frequency___, f, to a real number, ___p___, as follows\n",
      "Answers:\n",
      "['theorists', 'frequency', 'logarithm', 'A220', 'intervals', '440', 'Western', 'C', 'pitches', 'respect', 'logarithmic', 'A440', 'temperaments', 'musical', 'A4', 'A880', 'p', 'standard', 'fundamental', 'perception', 'music', 'spelling', 'pitch', 'Hz', 'MIDI', 'numerical', 'temperament']\n",
      "___Temporal___ ___theories___ offer an alternative that ___appeals___ to the ___temporal___ ___structure___ of ___action___ ___potentials___, mostly the phase - locking and mode - locking of action ___potentials___ to ___frequencies___ in a ___stimulus___. The precise way this ___temporal___ ___structure___ helps code for ___pitch___ at ___higher___ ___levels___ is still debated, but the ___processing___ seems to be based on an ___autocorrelation___ of action ___potentials___ in the ___auditory___ ___nerve___. However, it has long been noted that a ___neural___ mechanism that may accomplish a delay — a necessary operation of a true ___autocorrelation___ — has not been found. At least one model shows that a ___temporal___ ___delay___ is unnecessary to produce an ___autocorrelation___ model of ___pitch___ perception, appealing to ___phase___ ___shifts___ between ___cochlear___ ___filters___; however, earlier work has shown that certain ___sounds___ with a prominent ___peak___ in their ___autocorrelation___ ___function___ do not ___elicit___ a corresponding ___pitch___ ___percept___, and that certain ___sounds___ without a ___peak___ in their ___autocorrelation___ function nevertheless ___elicit___ a ___pitch___. To be a more complete model, ___autocorrelation___ must therefore apply to ___signals___ that represent the ___output___ of the ___cochlea___, as via ___auditory___ - nerve interspike - interval ___histograms___. Some ___theories___ of ___pitch___ ___perception___ hold that ___pitch___ has inherent ___octave___ ___ambiguities___, and therefore is best decomposed into a ___pitch___ ___chroma___, a periodic value around the ___octave___, like the note names in ___western___ ___music___ — and a ___pitch___ ___height___, which may be ___ambiguous___, that indicates the ___octave___ the ___pitch___ is in.\n",
      "Answers:\n",
      "['temporal', 'potentials', 'action', 'higher', 'chroma', 'structure', 'processing', 'sounds', 'stimulus', 'function', 'levels', 'octave', 'peak', 'elicit', 'filters', 'cochlear', 'autocorrelation', 'nerve', 'ambiguous', 'histograms', 'theories', 'output', 'Temporal', 'phase', 'signals', 'perception', 'music', 'neural', 'western', 'ambiguities', 'pitch', 'delay', 'frequencies', 'auditory', 'cochlea', 'height', 'percept', 'appeals', 'shifts']\n"
     ]
    }
   ],
   "source": [
    "\n",
    "print('--------------- MY MODEL ---------------')\n",
    "# Pull out sample paragraph\n",
    "for p in arts[ind_ex_dev]['paragraphs']:\n",
    "    # # Print all AllenNLP classifications\n",
    "    # print([(a,b) for a,b in zip(p['allenNER']['words'].split(), p['allenNER']['tags'].split())])\n",
    "\n",
    "    # AllenNLP results\n",
    "    words = p['allenNER']['words'].split()\n",
    "    # tags = p['allenNER']['tags'].split()\n",
    "    # tags = [not t == '0' for t in tags]   # Convert to binary\n",
    "    tags = p['blank_classified_allen']\n",
    "\n",
    "    # Ground truth\n",
    "    blank_classification = p['blank_classification']\n",
    "\n",
    "    words_blanked_ground_truth = words2words_blanked(words,blank_classification)\n",
    "    words_blanked_allen = words2words_blanked(words,tags)\n",
    "    words_hash_ground_truth = words2words_hashblank(words,blank_classification)\n",
    "    words_hash_allen = words2words_hashblank(words,tags)\n",
    "    \n",
    "    # Blanked text\n",
    "    print(words2text(words_hash_allen))\n",
    "\n",
    "    # Answers    \n",
    "    myanswers = list(set(words2answers(words,tags)))\n",
    "    print(\"Answers:\")\n",
    "    print(myanswers)\n",
    "    \n",
    "\n",
    "    "
   ]
  },
  {
   "cell_type": "markdown",
   "metadata": {},
   "source": [
    "# All articles - compare blanks"
   ]
  },
  {
   "cell_type": "code",
   "execution_count": 40,
   "metadata": {},
   "outputs": [
    {
     "name": "stdout",
     "output_type": "stream",
     "text": [
      "Warning article 175 contains 0 ground truth blanks and 505 tags. Likely bad\n",
      "Warning article 440 contains 0 ground truth blanks and 717 tags. Likely bad\n",
      "Warning article 441 contains 0 ground truth blanks and 714 tags. Likely bad\n"
     ]
    }
   ],
   "source": [
    "# Initialize stuff\n",
    "TPR0 = []\n",
    "FPR0 = []\n",
    "ACC0 = []\n",
    "Nsentences0 = []\n",
    "TP0 = []\n",
    "FP0 = []\n",
    "FN0 = []\n",
    "TN0 = []\n",
    "TPpersent0 = []\n",
    "FPpersent0 = []\n",
    "abads = []            # Article-level bads\n",
    "sbc0 = []\n",
    "st0 = []\n",
    "Nwords0 = []\n",
    "\n",
    "art = arts[:]\n",
    "\n",
    "i=-1\n",
    "for a in art:\n",
    "    i=i+1\n",
    "    # AllenNLP results\n",
    "    words = [w for p in a['paragraphs'] for w in p['allenNER']['words'].split()]\n",
    "#     tags = [t for p in a['paragraphs'] for t in p['allenNER']['tags'].split()]\n",
    "#     tags = [not t == '0' for t in tags]   # Convert to binary\n",
    "    tags = [t for p in a['paragraphs'] for t in p['blank_classified_allen']]\n",
    "\n",
    "    # Ground truth\n",
    "    blank_classification = [bc for p in a['paragraphs'] for bc in p['blank_classification']]\n",
    "    blank_classification = [b == 1 for b in blank_classification] # Convert to binary\n",
    "\n",
    "    Nsentences2 = len(text2sentences(words2text(words)))\n",
    "\n",
    "    sbc = sum(blank_classification)\n",
    "    st = sum(tags)\n",
    "    if sbc == 0 or st == 0:\n",
    "        print(\"Warning article {} contains {} ground truth blanks and {} tags. Likely bad\".format(str(i),str(sbc),str(st)))\n",
    "\n",
    "        # Make up some dummy values so don't confuse for a REAL outlier in plots. Should just drop this data in the future\n",
    "        # This is ok because we'll skip them later if want to do stats - that's what abads is for\n",
    "        TPR = 0.0\n",
    "        FPR = 0.0\n",
    "        ACC = 0.0\n",
    "        TP = 100\n",
    "        FP = 100\n",
    "        FN = 100\n",
    "        TN = 100\n",
    "\n",
    "        TPpersent = 1\n",
    "        FPpersent = 1\n",
    "        abads.append(i)\n",
    "    else:\n",
    "        TP = sum([b and t for b,t in zip(blank_classification,tags)])\n",
    "        FP = sum([not b and t for b,t in zip(blank_classification,tags)])\n",
    "        FN = sum([b and not t for b,t in zip(blank_classification,tags)])\n",
    "        TN = sum([not b and not t for b,t in zip(blank_classification,tags)])\n",
    "        ACC = (TP+TN)/(TP+FP+FN+TN)\n",
    "        ACC2 = sum([b == t for b,t in zip(blank_classification,tags)]) / len(tags)\n",
    "\n",
    "        # Sensitivity, hit rate, recall, or true positive rate\n",
    "        TPR = TP/(TP+FN)\n",
    "        # Specificity or true negative rate\n",
    "        TNR = TN/(TN+FP)\n",
    "        # Precision or positive predictive value\n",
    "        PPV = TP/(TP+FP)\n",
    "        # Negative predictive value\n",
    "        NPV = TN/(TN+FN)\n",
    "        # Fall out or false positive rate\n",
    "        FPR = FP/(FP+TN)\n",
    "        # False negative rate\n",
    "        FNR = FN/(TP+FN)\n",
    "        # False discovery rate\n",
    "        FDR = FP/(TP+FP)\n",
    "\n",
    "        # Per sententance values\n",
    "        TPpersent = TP / Nsentences2\n",
    "        FPpersent = FP / Nsentences2\n",
    "\n",
    "    TPR0.append(TPR)\n",
    "    FPR0.append(FPR)\n",
    "    ACC0.append(ACC)\n",
    "    TP0.append(TP)\n",
    "    FP0.append(FP)\n",
    "    FN0.append(FN)\n",
    "    TN0.append(TN)\n",
    "    TPpersent0.append(TPpersent)\n",
    "    FPpersent0.append(FPpersent)\n",
    "    sbc0.append(sbc)\n",
    "    st0.append(st)\n",
    "    Nwords0.append(len(tags))"
   ]
  },
  {
   "cell_type": "code",
   "execution_count": 41,
   "metadata": {},
   "outputs": [
    {
     "name": "stdout",
     "output_type": "stream",
     "text": [
      "Bill_%26_Melinda_Gates_Foundation\n",
      "Myocardial_infarction\n",
      "Matter\n"
     ]
    }
   ],
   "source": [
    "# Print tiles of bad articles\n",
    "for ab in abads:\n",
    "    print(art[ab]['title'])"
   ]
  },
  {
   "cell_type": "code",
   "execution_count": 42,
   "metadata": {},
   "outputs": [
    {
     "name": "stdout",
     "output_type": "stream",
     "text": [
      "Ntrain=442\n",
      "Ndev=35\n",
      "Ntrain_bad=3\n",
      "Ndev_bad=0\n"
     ]
    }
   ],
   "source": [
    "# Calculate how this affects Ntrain / Ndev\n",
    "Ntrain_bad = len([b for b in abads if b < Ntrain])\n",
    "Ndev_bad = len([b for b in abads if b >= Ntrain])\n",
    "print('Ntrain={}'.format(str(Ntrain)))\n",
    "print('Ndev={}'.format(str(Ndev)))\n",
    "print('Ntrain_bad={}'.format(str(Ntrain_bad)))\n",
    "print('Ndev_bad={}'.format(str(Ndev_bad)))\n",
    "\n",
    "\n"
   ]
  },
  {
   "cell_type": "markdown",
   "metadata": {},
   "source": [
    "## Plot TPR"
   ]
  },
  {
   "cell_type": "code",
   "execution_count": 43,
   "metadata": {},
   "outputs": [
    {
     "data": {
      "image/png": "[encoded data removed]",
      "text/plain": [
       "<Figure size 1080x288 with 1 Axes>"
      ]
     },
     "metadata": {},
     "output_type": "display_data"
    },
    {
     "data": {
      "image/png": "[encoded data removed]",
      "text/plain": [
       "<Figure size 1080x288 with 2 Axes>"
      ]
     },
     "metadata": {
      "needs_background": "light"
     },
     "output_type": "display_data"
    }
   ],
   "source": [
    "myvar = TPR0\n",
    "varname = 'TPR'\n",
    "\n",
    "# Plot bargraph\n",
    "plotbar_train_dev2(myvar,Ntrain,Ndev,ylabel='{} per article'.format(varname),xlabel='Article #')\n",
    "\n",
    "# # # Plot the histogram without containing any bads\n",
    "# myvar without the bad articles\n",
    "myvar2 = [tp for i, tp in enumerate(myvar) if i not in abads]\n",
    "\n",
    "# Plot the histogram\n",
    "ax = plothist_train_dev2(myvar2,Ntrain-Ntrain_bad,Ndev-Ndev_bad,xlabel=varname,ylabel='N Articles',devbins='auto')\n",
    "set(ax['ax1'].set_xlim(0,1));\n",
    "set(ax['ax2'].set_xlim(0,1));\n",
    "\n"
   ]
  },
  {
   "cell_type": "markdown",
   "metadata": {},
   "source": [
    "## Plot FPR"
   ]
  },
  {
   "cell_type": "code",
   "execution_count": 44,
   "metadata": {},
   "outputs": [
    {
     "data": {
      "image/png": "[encoded data removed]",
      "text/plain": [
       "<Figure size 1080x288 with 1 Axes>"
      ]
     },
     "metadata": {},
     "output_type": "display_data"
    },
    {
     "data": {
      "image/png": "[encoded data removed]",
      "text/plain": [
       "<Figure size 1080x288 with 2 Axes>"
      ]
     },
     "metadata": {
      "needs_background": "light"
     },
     "output_type": "display_data"
    },
    {
     "data": {
      "image/png": "[encoded data removed]",
      "text/plain": [
       "<Figure size 1080x288 with 2 Axes>"
      ]
     },
     "metadata": {
      "needs_background": "light"
     },
     "output_type": "display_data"
    }
   ],
   "source": [
    "myvar = FPR0\n",
    "varname = 'FPR'\n",
    "\n",
    "# Plot bargraph\n",
    "plotbar_train_dev2(myvar,Ntrain,Ndev,ylabel='{} per article'.format(varname),xlabel='Article #')\n",
    "\n",
    "# # # Plot the histogram without containing any bads\n",
    "# myvar without the bad articles\n",
    "myvar2 = [tp for i, tp in enumerate(myvar) if i not in abads]\n",
    "\n",
    "# REdefine for plotting with with more decimal places\n",
    "def plothist_train_dev2(myvar,Ntrain,Ndev,xlabel='value',ylabel='N Articles',devbins=30):\n",
    "    # Import fig stuff\n",
    "    import matplotlib.pyplot as plt\n",
    "    from matplotlib.pyplot import figure\n",
    "    import statistics\n",
    "\n",
    "    f, (ax1, ax2) = plt.subplots(1, 2, sharey=False,figsize=(15, 4));\n",
    "    ax1.hist(myvar[0:Ntrain-1], bins=30);  # arguments are passed to np.histogram\n",
    "    ax1.set_title(\"Narticles={}, median={}, mean={}\".format(str(Ntrain),'{0:.4f}'.format(statistics.median(myvar[0:Ntrain-1])),'{0:.2f}'.format(statistics.mean(myvar[0:Ntrain-1]))));\n",
    "    ax1.set_ylabel('N Articles');\n",
    "    ax1.set_xlabel(xlabel);\n",
    "\n",
    "    ax2.hist(myvar[Ntrain:], bins=devbins);  # arguments are passed to np.histogram\n",
    "    ax2.set_title(\"Narticles={}, median={}, mean={}\".format(str(Ndev),'{0:.4f}'.format(statistics.median(myvar[Ntrain:])),'{0:.2f}'.format(statistics.mean(myvar[Ntrain:]))));\n",
    "    ax2.set_xlabel(xlabel);\n",
    "    return {'ax1': ax1, 'ax2':ax2}\n",
    "\n",
    "\n",
    "# Plot the histogram\n",
    "ax = plothist_train_dev2(myvar2,Ntrain-Ntrain_bad,Ndev-Ndev_bad,xlabel=varname,ylabel='N Articles',devbins='auto')\n",
    "ax = plothist_train_dev2(myvar,Ntrain,Ndev,xlabel=varname,ylabel='N Articles',devbins='auto')\n",
    "# set(ax['ax1'].set_xlim(0,1));\n",
    "# set(ax['ax2'].set_xlim(0,1));\n",
    "\n"
   ]
  },
  {
   "cell_type": "markdown",
   "metadata": {},
   "source": [
    "## Plot ACC"
   ]
  },
  {
   "cell_type": "code",
   "execution_count": 45,
   "metadata": {},
   "outputs": [
    {
     "data": {
      "image/png": "[encoded data removed]",
      "text/plain": [
       "<Figure size 1080x288 with 1 Axes>"
      ]
     },
     "metadata": {},
     "output_type": "display_data"
    },
    {
     "data": {
      "image/png": "[encoded data removed]",
      "text/plain": [
       "<Figure size 1080x288 with 2 Axes>"
      ]
     },
     "metadata": {
      "needs_background": "light"
     },
     "output_type": "display_data"
    }
   ],
   "source": [
    "myvar = ACC0\n",
    "varname = 'Accuracy'\n",
    "\n",
    "# Plot bargraph\n",
    "plotbar_train_dev2(myvar,Ntrain,Ndev,ylabel='{} per article'.format(varname),xlabel='Article #')\n",
    "\n",
    "# # # Plot the histogram without containing any bads\n",
    "# myvar without the bad articles\n",
    "myvar2 = [tp for i, tp in enumerate(myvar) if i not in abads]\n",
    "\n",
    "# Plot the histogram\n",
    "ax = plothist_train_dev2(myvar2,Ntrain-Ntrain_bad,Ndev-Ndev_bad,xlabel=varname,ylabel='N Articles',devbins='auto')\n",
    "set(ax['ax1'].set_xlim(0,1));\n",
    "set(ax['ax2'].set_xlim(0,1));\n",
    "\n"
   ]
  },
  {
   "cell_type": "markdown",
   "metadata": {},
   "source": [
    "## Plot True positives per sentence"
   ]
  },
  {
   "cell_type": "code",
   "execution_count": 46,
   "metadata": {},
   "outputs": [
    {
     "data": {
      "image/png": "[encoded data removed]",
      "text/plain": [
       "<Figure size 1080x288 with 1 Axes>"
      ]
     },
     "metadata": {},
     "output_type": "display_data"
    },
    {
     "data": {
      "image/png": "[encoded data removed]",
      "text/plain": [
       "<Figure size 1080x288 with 2 Axes>"
      ]
     },
     "metadata": {
      "needs_background": "light"
     },
     "output_type": "display_data"
    }
   ],
   "source": [
    "myvar = TPpersent0\n",
    "varname = 'True positives per sentence'\n",
    "\n",
    "# Plot bargraph\n",
    "plotbar_train_dev2(myvar,Ntrain,Ndev,ylabel='{}'.format(varname),xlabel='Article #')\n",
    "\n",
    "# # # Plot the histogram without containing any bads\n",
    "# myvar without the bad articles\n",
    "myvar2 = [tp for i, tp in enumerate(myvar) if i not in abads]\n",
    "\n",
    "# Plot the histogram\n",
    "ax = plothist_train_dev2(myvar2,Ntrain-Ntrain_bad,Ndev-Ndev_bad,xlabel=varname,ylabel='N Articles',devbins='auto')\n",
    "# set(ax['ax1'].set_xlim(0,1));\n",
    "# set(ax['ax2'].set_xlim(0,1));\n",
    "\n"
   ]
  },
  {
   "cell_type": "markdown",
   "metadata": {},
   "source": [
    "## Plot False positives per sentence"
   ]
  },
  {
   "cell_type": "code",
   "execution_count": 47,
   "metadata": {},
   "outputs": [
    {
     "data": {
      "image/png": "[encoded data removed]",
      "text/plain": [
       "<Figure size 1080x288 with 1 Axes>"
      ]
     },
     "metadata": {},
     "output_type": "display_data"
    },
    {
     "data": {
      "image/png": "[encoded data removed]",
      "text/plain": [
       "<Figure size 1080x288 with 2 Axes>"
      ]
     },
     "metadata": {
      "needs_background": "light"
     },
     "output_type": "display_data"
    }
   ],
   "source": [
    "myvar = FPpersent0\n",
    "varname = 'False positives per sentence'\n",
    "\n",
    "# Plot bargraph\n",
    "plotbar_train_dev2(myvar,Ntrain,Ndev,ylabel='{}'.format(varname),xlabel='Article #')\n",
    "\n",
    "# # # Plot the histogram without containing any bads\n",
    "# myvar without the bad articles\n",
    "myvar2 = [tp for i, tp in enumerate(myvar) if i not in abads]\n",
    "\n",
    "# Plot the histogram\n",
    "ax = plothist_train_dev2(myvar2,Ntrain-Ntrain_bad,Ndev-Ndev_bad,xlabel=varname,ylabel='N Articles',devbins='auto')\n",
    "# set(ax['ax1'].set_xlim(0,1));\n",
    "# set(ax['ax2'].set_xlim(0,1));\n",
    "\n"
   ]
  },
  {
   "cell_type": "markdown",
   "metadata": {},
   "source": [
    "## Find articles containing a lot of true positives"
   ]
  },
  {
   "cell_type": "code",
   "execution_count": 48,
   "metadata": {},
   "outputs": [
    {
     "name": "stdout",
     "output_type": "stream",
     "text": [
      "34\n",
      "Article #476\n",
      "Computational_complexity_theory\n",
      "True positive rate: 0.39767441860465114\n"
     ]
    }
   ],
   "source": [
    "\n",
    "# Inds of all articles >0.4 TPR\n",
    "inds = [i for i,x in enumerate(TPR0) if x >=0.08]\n",
    "\n",
    "# Inds of all articles >0.4 TPR and in dev dataset\n",
    "inds = [i for i,x in enumerate(TPR0) if x >=0.08 and x < 1.0 and i > Ntrain and i not in abads]\n",
    "\n",
    "print(len(inds))\n",
    "chosen_ind = inds[0]\n",
    "print('Article #{}'.format(str(i)))\n",
    "print(arts[chosen_ind]['title'])\n",
    "print('True positive rate: {}'.format(str(TPR0[chosen_ind])))"
   ]
  },
  {
   "cell_type": "code",
   "execution_count": 49,
   "metadata": {},
   "outputs": [
    {
     "name": "stdout",
     "output_type": "stream",
     "text": [
      "Computational_complexity_theory\n"
     ]
    }
   ],
   "source": [
    "# Pull out sample paragraph\n",
    "a = arts[chosen_ind]\n",
    "print(a['title'])\n",
    "\n",
    "# AllenNLP results\n",
    "words = [w for p in a['paragraphs'] for w in p['allenNER']['words'].split()]\n",
    "# tags = [t for p in a['paragraphs'] for t in p['allenNER']['tags'].split()]\n",
    "# tags = [not t == '0' for t in tags]   # Convert to binary\n",
    "tags = [t for p in a['paragraphs'] for t in p['blank_classified_allen']]\n",
    "\n",
    "# Ground truth\n",
    "blank_classification = [bc for p in a['paragraphs'] for bc in p['blank_classification']]"
   ]
  },
  {
   "cell_type": "code",
   "execution_count": 50,
   "metadata": {},
   "outputs": [
    {
     "name": "stdout",
     "output_type": "stream",
     "text": [
      "============\t\t\t==========\n",
      "Ground truth\t\t\tPrediction\n",
      "============\t\t\t==========\n",
      "______\t\t\t\tComputational\n",
      "complexity\t\t\t\tcomplexity\n",
      "theory\t\t\t\ttheory\n",
      "is\t\t\t\tis\n",
      "a\t\t\t\ta\n",
      "branch\t\t\t\tbranch\n",
      "of\t\t\t\tof\n",
      "the\t\t\t\tthe\n",
      "theory\t\t\t\ttheory\n",
      "of\t\t\t\tof\n",
      "computation\t\t\t\t______\n",
      "in\t\t\t\tin\n",
      "theoretical\t\t\t\ttheoretical\n",
      "computer\t\t\t\tcomputer\n",
      "science\t\t\t\tscience\n",
      "that\t\t\t\tthat\n",
      "focuses\t\t\t\tfocuses\n",
      "on\t\t\t\ton\n",
      "classifying\t\t\t\tclassifying\n",
      "______\t\t\t\t______\n"
     ]
    }
   ],
   "source": [
    "# Side by side compare\n",
    "\n",
    "words_blanked_ground_truth = words2words_blanked(words,blank_classification)\n",
    "words_blanked_allen = words2words_blanked(words,tags)\n",
    "\n",
    "N=len(words_blanked_ground_truth)\n",
    "N=20\n",
    "print(\"============\" + '\\t\\t\\t' + \"==========\")\n",
    "print(\"Ground truth\" + '\\t\\t\\t' + \"Prediction\")\n",
    "print(\"============\" + '\\t\\t\\t' + \"==========\")\n",
    "for c,w in zip(words_blanked_ground_truth[:N],words_blanked_allen[:N]):\n",
    "    print(c + '\\t\\t\\t\\t' + w)\n"
   ]
  },
  {
   "cell_type": "markdown",
   "metadata": {},
   "source": [
    "## Ground truth blanked"
   ]
  },
  {
   "cell_type": "code",
   "execution_count": 51,
   "metadata": {},
   "outputs": [
    {
     "name": "stdout",
     "output_type": "stream",
     "text": [
      "Answers:\n",
      "{'algorithm', 'inherent', 'NL', 'NC', 'Boolean', 'matrices', 'EXPTIME', 'Cobham', 'Ladner', 'binary', 'deterministically', 'problem', 'computers', 'storage', 'power', 'arithmetic', 'size', 'knapsack', 'laid', 'complex', 'bits', 'reduces', 'solutions', 'Alan', 'output', 'function', 'complicated', 'complexity', 'triple', 'framework', 'second', 'computability', 'suspected', 'models', 'equal', 'number', 'multiplication', 'written', 'symbols', '21', 'solution', 'Algorithms', 'lower', 'P', 'Presburger', 'triples', 'Turing', 'transitions', 'bound', 'integer', 'intractable', 'space', 'Yamada', 'measure', 'measures', 'bounds', 'language', 'encoding', 'single', '1965', 'problems', 'reductions', 'memory', 'alphabet', 'bitstrings', 'mathematical', 'reversed', '1961', 'level', 'another', 'NP', 'hierarchy', 'worst', 'unusual', 'quantitative', 'Manuel', 'rules', 'gates', 'probabilistic', 'resource', 'instances', 'possible', 'thesis', 'RSA', 'quicksort', 'bounding', 'theorem', 'analysis', 'adjacency', 'theory', 'quantum', 'inputs', 'statements', 'proper', 'concrete', 'computer', 'L', 'upper', 'Decision', 'instance', 'polynomial', '0', 'isomorphism', 'factorization', 'resources', 'reduction', 'computational', 'types', '1', 'deterministic', 'Complexity', 'machines', 'computation', 'algorithms', 'set', 'foundations', 'Blum', 'difficulty', 'time', 'input', 'linear', 'efficient', '2000', 'Problems', 'Interactive', 'unequal', 'classes', 'machine', 'notation', 'state', 'John', 'graph', 'model', 'PSPACE', 'Computational', '1936', 'taken', 'decision', 'definitions', 'Hisao', 'formal', 'Myhill', 'arbitrary', 'randomized', 'branching', 'abstract', 'yes'}\n"
     ]
    }
   ],
   "source": [
    "# Blanked text\n",
    "# print(words2text(words_blanked_ground_truth))\n",
    "\n",
    "# Answers    \n",
    "myanswers = words2answers(words,blank_classification)\n",
    "print(\"Answers:\")\n",
    "print(set(myanswers))"
   ]
  },
  {
   "cell_type": "code",
   "execution_count": 52,
   "metadata": {},
   "outputs": [
    {
     "name": "stdout",
     "output_type": "stream",
     "text": [
      "Answers:\n",
      "{'algorithm', 'NL', 'paper', 'NC', 'Combinatorial', 'Boolean', '2O(√(n', 'Boris', 'steps', 'Upper', 'matrices', 'EXPTIME', 'Cobham', 'Ladner', 'RAM', 'binary', 'Karp', 'deterministically', 'ZPP', 'tape', 'problem', 'Clay', 'one', 'Raymond', 'PH', 'processors', 'realizable', 'half', 'DTIME(n2', 'Richard', '1956', '1.2', 'theoretical', 'Conway', 'captures', 'axioms', 'transformation', 'path', 'arithmetic', 'n.log', 'everything', 'reverse', 'xx', 'n15', 'SAT', 'pivoting', 'size', 'knapsack', 'Babai', 'magnitude', 'literature', 'P.', 'seminal', 'bits', 'supercomputer', '≠', 'Analogous', '1,000,000', 'O(e(64/9)1/3(n.log', 'Alan', 'biology', 'prediction', 'squaring', 'n.', 'Reducibility', '1967', 'complexity', 'intractability', 'triple', 'divides', 'framework', 'computability', 'Germany', 'QMA', 'cryptographic', 'finite', 'multiplication', 'Life', 'way', 'branches', 'Again', 'symbols', 'Y.', '21', 'Algorithms', 'lower', 'Presburger', 'C', 'P', 'Laszlo', 'solvers', 'triples', 'Turing', 'computing', 'manipulates', 'transitions', 'Smullyan', '1962', 'communication', 'intractable', 'graphs', 'member', 'space', 'X.', 'Yamada', 'questions', '2n', 'inclusions', 'answer', 'objects', 'falls', 'log', 'bounds', 'language', 'Edmonds', '1971', 'M', 'f(n', 'encoding', 'pencil', 'cellular', '1965', 'Fortnow', 'pioneer', 'sake', 'problems', '15', '1972', 'researchers', 'memory', 'Shor', 'Hamiltonian', 'infinite', 'alphabet', '2008', 'bitstrings', 'mathematical', 'say', 'Juris', 'representations', '1961', 'sense', 'circuits', 'NP', 'hierarchy', 'string', 'quantitative', 'Manuel', 'PP', 'T(n', 'gates', 'probabilistic', 'BPP', 'automata', 'DTIME(f(n', 'Cook', 'hypothesis', 'k.', 'course', 'thesis', 'phrase', 'Π1', 'utterance', '1012', 'RSA', 'quicksort', 'theorems', 'bounding', 'quadratic', 'useful', 'Goldreich', 'algorithmically', 'circuit', 'adjacency', 'theory', 'O(n2', 'quantum', 'Leonid', 'principle', 'proper', 'concrete', 'computer', 'primality', 'L', 'no', 'upper', 'Eugene', 'useless', 'today', 'polynomial', '0', 'isomorphism', 'factorization', 'BQP', 'resources', 'strings', 'reduction', 'tree', 'intuition', '100', 'computational', 'FP', 'satisfiability', 'two', 'isomorphic', 'salesman', 'powerful', 'RP', '1', 'Complexity', 'deterministic', 'strict', 'determinism', 'hand', 'Luks', 'machines', 'logarithm', 'C.', 'hard', 'computation', 'mechanical', 'solvable', 'algorithms', 'IP', 'good', 'foundations', 'Chapter', 'Blum', 'DTIME(n', 'testing', 'rudimentary', 'Levin', '2)1/3(log', 'algorithmic', '2))2/3', 'random', 'logarithmic', '0,1', '2000', 'Hartmanis', 'prize', 'Problems', 'sieve', 'Interactive', 'unequal', 'Trakhtenbrot', 'complexities', 'classes', 'machine', 'notation', 'Milan', 'experiment', 'Π2', 'O(n', 'AM', 'square', 'Stephen', 'unreasonable', 'Homer', 'parallel', 'device', 'objective', 'graph', 'faster', 'amenable', 'branch', 'PSPACE', 'log(n', '1010', 'harder', 'sorting', '1936', 'Computational', '×', 'Millennium', 'research', 'collapses', 'Church', 'Myhill', 'kilometres', 'arbitrary', 'universe', 'Stearns', 'Hisao', 'practice', 'abstract', 'USSR', 'yes'}\n"
     ]
    }
   ],
   "source": [
    "# Blanked text\n",
    "# print(words2text(words_blanked_allen))\n",
    "\n",
    "# Answers    \n",
    "myanswers = words2answers(words,tags)\n",
    "print(\"Answers:\")\n",
    "print(set(myanswers))"
   ]
  },
  {
   "cell_type": "markdown",
   "metadata": {},
   "source": [
    "# All paragraphs - compare blanks"
   ]
  },
  {
   "cell_type": "code",
   "execution_count": 53,
   "metadata": {},
   "outputs": [],
   "source": [
    "# Initialize stuff\n",
    "TPR0 = []\n",
    "FPR0 = []\n",
    "ACC0 = []\n",
    "Nsentences0 = []\n",
    "TP0 = []\n",
    "FP0 = []\n",
    "FN0 = []\n",
    "TN0 = []\n",
    "TPpersent0 = []\n",
    "FPpersent0 = []\n",
    "abads = []\n",
    "indices = {'i':[],'j':[],'k':[]}\n",
    "\n",
    "art = arts[:]\n",
    "\n",
    "\n",
    "# Only track true positives and false positive to avoid having to deal with other annoying edge cases\n",
    "i=-1\n",
    "k=-1\n",
    "Ntrainp = 0\n",
    "Ndevp=0\n",
    "for a in art:\n",
    "    i=i+1\n",
    "    j=-1\n",
    "    for p in a['paragraphs']:\n",
    "        j=j+1\n",
    "        k=k+1\n",
    "        if i < Ntrain: Ntrainp=Ntrainp+1;\n",
    "        else: Ndevp = Ndevp+1\n",
    "        # AllenNLP results\n",
    "        words = [w for w in p['allenNER']['words'].split()]\n",
    "        tags = [t for t in p['allenNER']['tags'].split()]\n",
    "        tags = [not t == '0' for t in tags]   # Convert to binary\n",
    "\n",
    "        # Ground truth\n",
    "        blank_classification = [bc for bc in p['blank_classification']]\n",
    "        blank_classification = [b == 1 for b in blank_classification] # Convert to binary\n",
    "\n",
    "        Nsentences2 = len(text2sentences(words2text(words)))\n",
    "\n",
    "        sbc = sum(blank_classification)\n",
    "        st = sum(tags)\n",
    "        if sbc == 0:\n",
    "            #print(\"Warning article {}, paragraph P{} contains {} ground truth blanks and {} tags. Likely bad\".format(str(i),str(j),str(sbc),str(st)))\n",
    "\n",
    "            # Make up some dummy values so don't confuse for a REAL outlier in plots. Should just drop this data in the future\n",
    "            # This is ok because we'll skip them later if want to do stats - that's what bads is for\n",
    "            TPR = 0.7\n",
    "            FNR = 0.7\n",
    "            ACC = 0.7\n",
    "            TP = 100\n",
    "            FP = 100\n",
    "            FN = 100\n",
    "            TN = 100\n",
    "            TPpersent = 1\n",
    "            FPpersent = 1\n",
    "            abads.append(k)       # kth paragraph is bad\n",
    "        else:\n",
    "            TP = sum([b and t for b,t in zip(blank_classification,tags)])\n",
    "            FP = sum([not b and t for b,t in zip(blank_classification,tags)])\n",
    "            FN = sum([b and not t for b,t in zip(blank_classification,tags)])\n",
    "            TN = sum([not b and not t for b,t in zip(blank_classification,tags)])\n",
    "#             ACC = (TP+TN)/(TP+FP+FN+TN)\n",
    "            ACC = sum([b == t for b,t in zip(blank_classification,tags)]) / len(tags)\n",
    "\n",
    "            # Sensitivity, hit rate, recall, or true positive rate\n",
    "            TPR = TP/(TP+FN)\n",
    "#             # Specificity or true negative rate\n",
    "#             TNR = TN/(TN+FP) \n",
    "#             # Precision or positive predictive value\n",
    "#             PPV = TP/(TP+FP)\n",
    "#             # Negative predictive value\n",
    "#             NPV = TN/(TN+FN)\n",
    "#             # Fall out or false positive rate\n",
    "#             FPR = FP/(FP+TN)\n",
    "            # False negative rate\n",
    "            FNR = FN/(TP+FN)\n",
    "#             # False discovery rate\n",
    "#             FDR = FP/(TP+FP)\n",
    "\n",
    "            # Per sententance values\n",
    "            TPpersent = TP / Nsentences2\n",
    "            FPpersent = FP / Nsentences2\n",
    "    \n",
    "        TPR0.append(TPR)\n",
    "        FPR0.append(FPR)\n",
    "        ACC0.append(ACC)\n",
    "        TP0.append(TP)\n",
    "        FP0.append(FP)\n",
    "        FN0.append(FN)\n",
    "        TN0.append(TN)\n",
    "        TPpersent0.append(TPpersent)\n",
    "        FPpersent0.append(FPpersent)\n",
    "        indices['i'].append(i)\n",
    "        indices['j'].append(j)\n",
    "        indices['k'].append(k)\n",
    "\n"
   ]
  },
  {
   "cell_type": "code",
   "execution_count": 54,
   "metadata": {},
   "outputs": [
    {
     "data": {
      "text/plain": [
       "[0.1305551033696891,\n",
       " 0.1305551033696891,\n",
       " 0.1305551033696891,\n",
       " 0.1305551033696891,\n",
       " 0.1305551033696891,\n",
       " 0.1305551033696891,\n",
       " 0.1305551033696891,\n",
       " 0.1305551033696891,\n",
       " 0.1305551033696891,\n",
       " 0.1305551033696891]"
      ]
     },
     "execution_count": 54,
     "metadata": {},
     "output_type": "execute_result"
    }
   ],
   "source": [
    "FPR0[0:10]"
   ]
  },
  {
   "cell_type": "code",
   "execution_count": 55,
   "metadata": {},
   "outputs": [],
   "source": [
    "# # # Plot the histogram without containing any bads\n",
    "# Calculate how this affects Ntrain / Ndev\n",
    "Ntrainp_bad = len([b for b in abads if b < Ntrainp])\n",
    "Ndevp_bad = len([b for b in abads if b >= Ntrainp])\n"
   ]
  },
  {
   "cell_type": "code",
   "execution_count": 56,
   "metadata": {},
   "outputs": [
    {
     "name": "stdout",
     "output_type": "stream",
     "text": [
      "19035\n",
      "1204\n",
      "1383\n",
      "13\n"
     ]
    }
   ],
   "source": [
    "print(Ntrainp)\n",
    "print(Ndevp)\n",
    "print(Ntrainp_bad)\n",
    "print(Ndevp_bad)\n",
    "max(abads)\n",
    "len(FN0)\n",
    "\n",
    "x = []\n",
    "for a in abads:\n",
    "    x.append(TPR0[a])\n"
   ]
  },
  {
   "cell_type": "markdown",
   "metadata": {},
   "source": [
    "## Plot TPR"
   ]
  },
  {
   "cell_type": "code",
   "execution_count": 57,
   "metadata": {},
   "outputs": [
    {
     "data": {
      "image/png": "[encoded data removed]",
      "text/plain": [
       "<Figure size 1080x288 with 2 Axes>"
      ]
     },
     "metadata": {
      "needs_background": "light"
     },
     "output_type": "display_data"
    }
   ],
   "source": [
    "myvar = TPR0\n",
    "varname = 'TPR'\n",
    "\n",
    "# Plot bargraph (Don't plot figure for each paragraph!)\n",
    "# plotbar_train_dev2(myvar,Ntrain,Ndev,ylabel='{}'.format(varname),xlabel='Article #')\n",
    "\n",
    "# # # Plot the histogram without containing any bads\n",
    "# myvar without the bad articles\n",
    "myvar2 = [tp for i, tp in enumerate(myvar) if i not in abads]\n",
    "\n",
    "# Plot the histogram\n",
    "ax = plothist_train_dev2(myvar2,Ntrainp-Ntrainp_bad,Ndevp-Ndevp_bad,xlabel=varname,ylabel='N Articles',devbins='auto')\n",
    "# set(ax['ax1'].set_xlim(0,1));\n",
    "# set(ax['ax2'].set_xlim(0,1));\n",
    "\n"
   ]
  },
  {
   "cell_type": "markdown",
   "metadata": {},
   "source": [
    "## Find paragraphs containing a lot of true positives"
   ]
  },
  {
   "cell_type": "code",
   "execution_count": 58,
   "metadata": {},
   "outputs": [
    {
     "name": "stdout",
     "output_type": "stream",
     "text": [
      "756\n",
      "Article #442 paragraph #1\n",
      "Normans\n",
      "True positive rate: 0.7142857142857143\n"
     ]
    }
   ],
   "source": [
    "\n",
    "# Inds of all articles >0.4 TPR\n",
    "inds = [i for i,x in enumerate(TPR0) if x >=0.6]\n",
    "\n",
    "# Inds of all articles >0.4 TPR and in dev dataset\n",
    "inds = [i for i,x in enumerate(TPR0) if x >=0.4 and x < 1.0 and i > Ntrainp and i not in abads]\n",
    "\n",
    "print(len(inds))\n",
    "chosen_ind = inds[0]\n",
    "i = indices['i'][chosen_ind]\n",
    "j = indices['j'][chosen_ind]\n",
    "k = indices['k'][chosen_ind]\n",
    "print('Article #{} paragraph #{}'.format(str(i),str(j)))\n",
    "print(arts[i]['title'])\n",
    "print('True positive rate: {}'.format(str(TPR0[chosen_ind])))"
   ]
  },
  {
   "cell_type": "code",
   "execution_count": 59,
   "metadata": {},
   "outputs": [],
   "source": [
    "# Pull out sample paragraph\n",
    "p = arts[i]['paragraphs'][j]\n",
    "\n",
    "# AllenNLP results\n",
    "words = p['allenNER']['words'].split()\n",
    "# tags = p['allenNER']['tags'].split()\n",
    "# tags = [not t == '0' for t in tags]   # Convert to binary\n",
    "tags = p['blank_classified_allen']\n",
    "\n",
    "# Ground truth\n",
    "blank_classification = p['blank_classification']"
   ]
  },
  {
   "cell_type": "code",
   "execution_count": 60,
   "metadata": {},
   "outputs": [
    {
     "name": "stdout",
     "output_type": "stream",
     "text": [
      "============\t\t\t==========\n",
      "Ground truth\t\t\tPrediction\n",
      "============\t\t\t==========\n",
      "The\t\t\t\tThe\n",
      "Norman\t\t\t\t______\n",
      "dynasty\t\t\t\t______\n",
      "had\t\t\t\thad\n",
      "a\t\t\t\ta\n",
      "major\t\t\t\tmajor\n",
      "political\t\t\t\tpolitical\n",
      ",\t\t\t\t,\n",
      "cultural\t\t\t\tcultural\n",
      "and\t\t\t\tand\n",
      "military\t\t\t\tmilitary\n",
      "impact\t\t\t\timpact\n",
      "on\t\t\t\ton\n",
      "medieval\t\t\t\t______\n",
      "Europe\t\t\t\t______\n",
      "and\t\t\t\tand\n",
      "even\t\t\t\teven\n",
      "the\t\t\t\tthe\n",
      "Near\t\t\t\t______\n",
      "East\t\t\t\t______\n"
     ]
    }
   ],
   "source": [
    "# Side by side compare\n",
    "\n",
    "words_blanked_ground_truth = words2words_blanked(words,blank_classification)\n",
    "words_blanked_allen = words2words_blanked(words,tags)\n",
    "\n",
    "N=len(words_blanked_ground_truth)\n",
    "N=20\n",
    "print(\"============\" + '\\t\\t\\t' + \"==========\")\n",
    "print(\"Ground truth\" + '\\t\\t\\t' + \"Prediction\")\n",
    "print(\"============\" + '\\t\\t\\t' + \"==========\")\n",
    "for c,w in zip(words_blanked_ground_truth[:N],words_blanked_allen[:N]):\n",
    "    print(c + '\\t\\t\\t\\t' + w)\n"
   ]
  },
  {
   "cell_type": "markdown",
   "metadata": {},
   "source": [
    "## Ground truth blanked"
   ]
  },
  {
   "cell_type": "code",
   "execution_count": 61,
   "metadata": {},
   "outputs": [
    {
     "name": "stdout",
     "output_type": "stream",
     "text": [
      "The Norman dynasty had a major political, cultural and military impact on medieval Europe and even the Near East. The Normans were famed for their martial spirit and eventually for their Christian piety, becoming exponents of the ______ ______ into which they assimilated. They adopted the Gallo - Romance language of the Frankish land they settled, their dialect becoming known as Norman, Normaund or Norman French, an important literary language. The Duchy of Normandy, which they formed by treaty with the French crown, was a great fief of medieval France, and under ______ ______ of Normandy was forged into a cohesive and formidable principality in feudal tenure. The Normans are noted both for their culture, such as their unique Romanesque architecture and musical traditions, and for their significant military accomplishments and innovations. Norman adventurers founded the Kingdom of Sicily under Roger II after conquering southern Italy on the Saracens and Byzantines, and an expedition on behalf of their duke, ______ the ______, led to the Norman conquest of England at the Battle of Hastings in 1066. Norman cultural and military influence spread from these new European centres to the Crusader states of the Near East, where their prince Bohemond ______ founded the Principality of Antioch in the Levant, to Scotland and Wales in Great Britain, to Ireland, and to the coasts of north Africa and the Canary Islands.\n",
      "Answers:\n",
      "['Catholic', 'orthodoxy', 'Richard', 'I', 'William', 'Conqueror', 'I']\n"
     ]
    }
   ],
   "source": [
    "# Blanked text\n",
    "print(words2text(words_blanked_ground_truth))\n",
    "\n",
    "# Answers    \n",
    "myanswers = words2answers(words,blank_classification)\n",
    "print(\"Answers:\")\n",
    "print(myanswers)"
   ]
  },
  {
   "cell_type": "code",
   "execution_count": 62,
   "metadata": {},
   "outputs": [
    {
     "name": "stdout",
     "output_type": "stream",
     "text": [
      "The ______ ______ had a major political, cultural and military impact on ______ ______ and even the ______ ______. The ______ were famed for their ______ ______ and eventually for their ______ ______, becoming exponents of the ______ ______ into which they assimilated. They adopted the ______ - ______ language of the ______ land they settled, their dialect becoming known as ______, ______ or ______ ______, an important literary language. The ______ of ______, which they formed by ______ with the ______ crown, was a great fief of ______ ______, and under ______ I of ______ was forged into a ______ and formidable ______ in ______ ______. The ______ are noted both for their ______, such as their unique ______ ______ and musical ______, and for their significant military accomplishments and innovations. ______ ______ founded the Kingdom of ______ under ______ ______ after conquering ______ ______ on the ______ and ______, and an ______ on behalf of their duke, ______ the ______, led to the ______ ______ of ______ at the ______ of ______ in ______. ______ cultural and military influence spread from these new European centres to the ______ states of the ______ ______, where their prince ______ I founded the ______ of ______ in the ______, to ______ and ______ in ______ ______, to ______, and to the coasts of ______ ______ and the ______ ______.\n",
      "Answers:\n",
      "['Norman', 'dynasty', 'medieval', 'Europe', 'Near', 'East', 'Normans', 'martial', 'spirit', 'Christian', 'piety', 'Catholic', 'orthodoxy', 'Gallo', 'Romance', 'Frankish', 'Norman', 'Normaund', 'Norman', 'French', 'Duchy', 'Normandy', 'treaty', 'French', 'medieval', 'France', 'Richard', 'Normandy', 'cohesive', 'principality', 'feudal', 'tenure', 'Normans', 'culture', 'Romanesque', 'architecture', 'traditions', 'Norman', 'adventurers', 'Sicily', 'Roger', 'II', 'southern', 'Italy', 'Saracens', 'Byzantines', 'expedition', 'William', 'Conqueror', 'Norman', 'conquest', 'England', 'Battle', 'Hastings', '1066', 'Norman', 'Crusader', 'Near', 'East', 'Bohemond', 'Principality', 'Antioch', 'Levant', 'Scotland', 'Wales', 'Great', 'Britain', 'Ireland', 'north', 'Africa', 'Canary', 'Islands']\n"
     ]
    }
   ],
   "source": [
    "# Blanked text\n",
    "print(words2text(words_blanked_allen))\n",
    "\n",
    "# Answers    \n",
    "myanswers = words2answers(words,tags)\n",
    "print(\"Answers:\")\n",
    "print(myanswers)"
   ]
  },
  {
   "cell_type": "code",
   "execution_count": 63,
   "metadata": {},
   "outputs": [],
   "source": [
    "TP = sum([b and t for b,t in zip(blank_classification,tags)])\n",
    "FP = sum([not b and t for b,t in zip(blank_classification,tags)])\n",
    "FN = sum([b and not t for b,t in zip(blank_classification,tags)])\n",
    "TN = sum([not b and not t for b,t in zip(blank_classification,tags)])\n",
    "ACC = (TP+TN)/(TP+FP+FN+TN)\n",
    "ACC2 = sum([b == t for b,t in zip(blank_classification,tags)]) / len(tags)"
   ]
  },
  {
   "cell_type": "code",
   "execution_count": 64,
   "metadata": {},
   "outputs": [
    {
     "name": "stdout",
     "output_type": "stream",
     "text": [
      "0.7261904761904762\n",
      "0.7261904761904762\n",
      "5\n",
      "67\n"
     ]
    }
   ],
   "source": [
    "print(ACC)\n",
    "print(ACC2)\n",
    "print(TP)\n",
    "print(FP)"
   ]
  },
  {
   "cell_type": "code",
   "execution_count": 65,
   "metadata": {},
   "outputs": [],
   "source": [
    "# Sensitivity, hit rate, recall, or true positive rate\n",
    "TPR = TP/(TP+FN)\n",
    "# Specificity or true negative rate\n",
    "TNR = TN/(TN+FP) \n",
    "# Precision or positive predictive value\n",
    "PPV = TP/(TP+FP)\n",
    "# Negative predictive value\n",
    "NPV = TN/(TN+FN)\n",
    "# Fall out or false positive rate\n",
    "FPR = FP/(FP+TN)\n",
    "# False negative rate\n",
    "FNR = FN/(TP+FN)\n",
    "# False discovery rate\n",
    "FDR = FP/(TP+FP)\n"
   ]
  },
  {
   "cell_type": "code",
   "execution_count": 66,
   "metadata": {},
   "outputs": [
    {
     "name": "stdout",
     "output_type": "stream",
     "text": [
      "0.7142857142857143\n",
      "0.27346938775510204\n"
     ]
    }
   ],
   "source": [
    "print(TPR)\n",
    "print(FPR)"
   ]
  }
 ],
 "metadata": {
  "kernelspec": {
   "display_name": "Python [conda env:allennlp]",
   "language": "python",
   "name": "conda-env-allennlp-py"
  },
  "language_info": {
   "codemirror_mode": {
    "name": "ipython",
    "version": 3
   },
   "file_extension": ".py",
   "mimetype": "text/x-python",
   "name": "python",
   "nbconvert_exporter": "python",
   "pygments_lexer": "ipython3",
   "version": "3.6.8"
  }
 },
 "nbformat": 4,
 "nbformat_minor": 2
}
